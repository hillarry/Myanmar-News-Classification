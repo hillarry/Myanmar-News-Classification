{
  "cells": [
    {
      "cell_type": "code",
      "execution_count": null,
      "metadata": {
        "id": "nJAb8LKfT-uB"
      },
      "outputs": [],
      "source": [
        "import pandas as pd\n",
        "import numpy as np\n",
        "import matplotlib.pyplot as plt\n",
        "from sklearn.feature_extraction.text import TfidfVectorizer\n",
        "from sklearn.model_selection import train_test_split"
      ]
    },
    {
      "cell_type": "code",
      "execution_count": null,
      "metadata": {
        "id": "fnhPKsH_VK9g"
      },
      "outputs": [],
      "source": [
        "dataset = '/content/MyNews - Sheet1.csv'"
      ]
    },
    {
      "cell_type": "code",
      "execution_count": null,
      "metadata": {
        "id": "w3D9ujklVOWB"
      },
      "outputs": [],
      "source": [
        "import chardet\n",
        "with open('/content/MyNews - Sheet1.csv', 'rb') as f:\n",
        "    enc = chardet.detect(f.read())"
      ]
    },
    {
      "cell_type": "code",
      "execution_count": null,
      "metadata": {
        "colab": {
          "base_uri": "https://localhost:8080/"
        },
        "id": "NQN825yFVmUE",
        "outputId": "cfe1f410-d59a-461c-f4ff-5b193dc39c26"
      },
      "outputs": [
        {
          "output_type": "stream",
          "name": "stdout",
          "text": [
            "   index                                          Sentences\n",
            "0      0  အန်ဒရီယာ မာစီ သည် အီတလီ အတွက် စမ်းသပ်မှု တစ်ခု...\n",
            "1      1  ပေါ်တူဂီ သည် ဘယ်သောအခါမှ စွန့်လွှတ်မှု မရှိခဲ့...\n",
            "2      2  အီတလီ သည် ပထမပိုင်း ၌ ၁၆-၅ ဖြင့် ဦးဆောင်ခဲ့ သေ...\n",
            "3      3  သို့သော်လည်း ဘော်တိုလပ်စီ သည် မော်ရို ဘာဂမ်မက်...\n",
            "4      4  နယူးဇီလန် သည် ရမှတ် ကွာခြားချက် အပေါ် စကော့တလန...\n"
          ]
        }
      ],
      "source": [
        "data = pd.read_csv(dataset)\n",
        "print(data.head())"
      ]
    },
    {
      "cell_type": "code",
      "execution_count": null,
      "metadata": {
        "colab": {
          "base_uri": "https://localhost:8080/"
        },
        "id": "C9S1UTlCVqZx",
        "outputId": "8eae36b9-9cc0-4fc5-ae85-946d6b755a19"
      },
      "outputs": [
        {
          "output_type": "execute_result",
          "data": {
            "text/plain": [
              "index        0\n",
              "Sentences    4\n",
              "dtype: int64"
            ]
          },
          "metadata": {},
          "execution_count": 11
        }
      ],
      "source": [
        "data.isnull().sum()"
      ]
    },
    {
      "cell_type": "code",
      "execution_count": null,
      "metadata": {
        "id": "H2P7rKCtVvBS"
      },
      "outputs": [],
      "source": [
        "stopwordslist = []\n",
        "slist = []\n",
        "with open(\"/content/stopword (1).txt\", encoding = 'utf8') as stopwordsfile:\n",
        "    stopwords = stopwordsfile.readlines()\n",
        "    slist.extend(stopwords)\n",
        "    for w in range(len(slist)):\n",
        "        temp = slist[w]\n",
        "        stopwordslist.append(temp.rstrip())"
      ]
    },
    {
      "cell_type": "code",
      "execution_count": null,
      "metadata": {
        "id": "zzsh_EZTVyvR"
      },
      "outputs": [],
      "source": [
        "import re\n",
        "CleanPattern = re.compile(r'\\d+|[၊။!-/:-@[-`{-~\\t ]|[A-za-z0-9]')\n",
        "def clean_sentence(sentence):\n",
        "     sent = CleanPattern.sub(\" \",sentence)\n",
        "     return sent\n",
        "\n",
        "def stop_word(sentence):\n",
        "  new_sentence = []\n",
        "  for word in sentence.split():\n",
        "    if word not in stopwordslist:\n",
        "      new_sentence.append(word)\n",
        "  return(' '.join(new_sentence))\n",
        "\n",
        "def process(line):\n",
        "    line = clean_sentence(line)\n",
        "    sentence = stop_word(line)\n",
        "    return sentence\n",
        "\n",
        "BreakPattern = re.compile(r'(?:(?<!္)([က-ဪဿ၊-၏]|[၀-၉]+|[^က-၏]+)(?![ှျ]?[့္်]))')\n",
        "\n",
        "def sylbreak(sentence):\n",
        "    line = BreakPattern.sub(\" \" + r\"\\1\",sentence)\n",
        "    return line\n",
        "       \n",
        "def process(sentence):\n",
        "    line = clean_sentence(sentence)\n",
        "    sentence = stop_word(line)\n",
        "    return sentence"
      ]
    },
    {
      "cell_type": "code",
      "execution_count": null,
      "metadata": {
        "colab": {
          "base_uri": "https://localhost:8080/"
        },
        "id": "_WmrsjQRV2ZC",
        "outputId": "6deabc5f-64f6-44a9-b96f-134ac592f266"
      },
      "outputs": [
        {
          "output_type": "execute_result",
          "data": {
            "text/plain": [
              "0        အန်ဒရီယာ မာစီ သည် အီတလီ အတွက် စမ်းသပ်မှု တစ်ခု...\n",
              "1        ပေါ်တူဂီ သည် ဘယ်သောအခါမှ စွန့်လွှတ်မှု မရှိခဲ့...\n",
              "2        အီတလီ သည် ပထမပိုင်း ၌ ၁၆-၅ ဖြင့် ဦးဆောင်ခဲ့ သေ...\n",
              "3        သို့သော်လည်း ဘော်တိုလပ်စီ သည် မော်ရို ဘာဂမ်မက်...\n",
              "4        နယူးဇီလန် သည် ရမှတ် ကွာခြားချက် အပေါ် စကော့တလန...\n",
              "                               ...                        \n",
              "13882    လက်မှတ်ရေးထိုး မည် ဟု ယုံကြည်ကြောင်း ဝန်ကြီးချ...\n",
              "13883    လက်နက်ကိုင် များ က ငြင်းပယ် နေ ခြင်း မဟုတ်ဘဲ အ...\n",
              "13884    အဆင်သင့် မဖြစ်သေး သော အဖွဲ့အစည်းများ သာ ရှိကြေ...\n",
              "13885                                                  nan\n",
              "13886                                                  nan\n",
              "Name: Sentences, Length: 13887, dtype: object"
            ]
          },
          "metadata": {},
          "execution_count": 14
        }
      ],
      "source": [
        "data['Sentences'] = data['Sentences'].apply(str)\n",
        "data['Sentences'].apply(process)\n",
        "data['Sentences']"
      ]
    },
    {
      "cell_type": "code",
      "execution_count": null,
      "metadata": {
        "id": "t47ntBl1V6E_"
      },
      "outputs": [],
      "source": [
        "def build_corpus(data):\n",
        "  corpus = []\n",
        "  for col in ['Sentences']:\n",
        "    for sentence in data[col].iteritems():\n",
        "      wordlist = sentence[1].split(\" \")\n",
        "      corpus.append(wordlist)\n",
        "  return corpus"
      ]
    },
    {
      "cell_type": "code",
      "execution_count": null,
      "metadata": {
        "colab": {
          "base_uri": "https://localhost:8080/"
        },
        "id": "iOGTQudQXJ2v",
        "outputId": "dca950ba-2ca5-4772-a4e0-048de35f836d"
      },
      "outputs": [
        {
          "output_type": "execute_result",
          "data": {
            "text/plain": [
              "[['အန်ဒရီယာ',\n",
              "  'မာစီ',\n",
              "  'သည်',\n",
              "  'အီတလီ',\n",
              "  'အတွက်',\n",
              "  'စမ်းသပ်မှု',\n",
              "  'တစ်ခု',\n",
              "  'အဖြစ်',\n",
              "  'စတုတ္ထ',\n",
              "  'မိနစ်',\n",
              "  'တွင်',\n",
              "  'အမှတ်ပေးခြင်း',\n",
              "  'ကို',\n",
              "  'ဖွင့်လှစ်ပေးခဲ့သည်',\n",
              "  '။'],\n",
              " ['ပေါ်တူဂီ',\n",
              "  'သည်',\n",
              "  'ဘယ်သောအခါမှ',\n",
              "  'စွန့်လွှတ်မှု',\n",
              "  'မရှိခဲ့',\n",
              "  'ပဲ',\n",
              "  'ဒေးဗစ်',\n",
              "  'ပန်နယ်ဗါ',\n",
              "  'သည်',\n",
              "  '၃၃',\n",
              "  'မိနစ်',\n",
              "  'တွင်',\n",
              "  'သူတို့၏',\n",
              "  'ကစားပွဲ',\n",
              "  'ရဲ့',\n",
              "  'အမှတ်များ',\n",
              "  'ကို',\n",
              "  'သာ',\n",
              "  'အထောက်အကူပြု',\n",
              "  'သည့်',\n",
              "  'ကြိုးစားမှု',\n",
              "  'တစ်ခု',\n",
              "  'မှ',\n",
              "  'အမှတ်ရခဲ့ပါသည်။'],\n",
              " ['အီတလီ',\n",
              "  'သည်',\n",
              "  'ပထမပိုင်း',\n",
              "  '၌',\n",
              "  '၁၆-၅',\n",
              "  'ဖြင့်',\n",
              "  'ဦးဆောင်ခဲ့',\n",
              "  'သော်လည်း',\n",
              "  'ပေါ်တူဂီ',\n",
              "  'မှ',\n",
              "  'ဒုတိယပိုင်း',\n",
              "  'တော်တော်များများ',\n",
              "  'တွင်',\n",
              "  'ဂိုး',\n",
              "  'အရေအတွက်',\n",
              "  'ညီ',\n",
              "  'စေ',\n",
              "  'ခဲ့သည်',\n",
              "  '။'],\n",
              " ['သို့သော်လည်း',\n",
              "  'ဘော်တိုလပ်စီ',\n",
              "  'သည်',\n",
              "  'မော်ရို',\n",
              "  'ဘာဂမ်မက်စကို',\n",
              "  '၏',\n",
              "  'ကြိုးစားမှုများ',\n",
              "  'နှင့်',\n",
              "  'အန်ဒရီယာ',\n",
              "  'မာစီ',\n",
              "  '၏',\n",
              "  'ဒုတိယဂိုး',\n",
              "  'နောက်ပိုင်း',\n",
              "  'အီတလီ',\n",
              "  'အတွက်',\n",
              "  'အနိုင်ရရှိ',\n",
              "  'စေရန်',\n",
              "  'သူ၏',\n",
              "  'စတုတ္ထမြောက်',\n",
              "  'ကစားပွဲ',\n",
              "  '၏',\n",
              "  'ပယ်နယ်လ်တီ',\n",
              "  'ကို',\n",
              "  'သွင်းယူပေးခဲ့သည်',\n",
              "  '။'],\n",
              " ['နယူးဇီလန်',\n",
              "  'သည်',\n",
              "  'ရမှတ်',\n",
              "  'ကွာခြားချက်',\n",
              "  'အပေါ်',\n",
              "  'စကော့တလန်၏',\n",
              "  'ရှေ့မှ',\n",
              "  'ရမှတ်',\n",
              "  'ဆယ်မှတ်',\n",
              "  'နှင့်အတူ',\n",
              "  'အုပ်စု',\n",
              "  'ကို',\n",
              "  'ဦးဆောင်နေသည်',\n",
              "  '။'],\n",
              " ['အသေးစိတ်များ',\n",
              "  'ကို',\n",
              "  'မနေ့က',\n",
              "  '၁၇၃၀',\n",
              "  'ယူတီစီ',\n",
              "  '၌',\n",
              "  'အောက်လွှတ်တော်',\n",
              "  'ရှိ',\n",
              "  'ဗြိတိန်နိုင်ငံ',\n",
              "  'ပို့ဆောင်ရေး',\n",
              "  'အတွင်းရေးမှူး',\n",
              "  'ရုသ်ကယ်လီ',\n",
              "  'က',\n",
              "  'ပေးခဲ့သည်။'],\n",
              " ['လွှတ်တော်အမတ်များ',\n",
              "  'သို့',\n",
              "  'သူမ၏',\n",
              "  'ကြေငြာချက်',\n",
              "  'တွင်',\n",
              "  'ရုသ်ကယ်လီ',\n",
              "  'က',\n",
              "  'ပျောက်ဆုံးခဲ့သော',\n",
              "  'အချက်အလက်များ',\n",
              "  'အတွင်း',\n",
              "  'မည်သည့်',\n",
              "  'ဘဏ်လုပ်ငန်း',\n",
              "  'သတင်းအချက်အလက်',\n",
              "  'မှ',\n",
              "  'မပါ၀င်',\n",
              "  'သကဲ့သို့',\n",
              "  'တစ်ဦးချင်းစီ',\n",
              "  '၏',\n",
              "  'မွေးသက္ကရာဇ်များ',\n",
              "  'လည်း',\n",
              "  'မပါ၀င်ကြောင်း',\n",
              "  'အတည်ပြုသွားခဲ့သည်',\n",
              "  '။'],\n",
              " ['သူမ',\n",
              "  'သည်',\n",
              "  'လုံခြုံရေးရာ',\n",
              "  'ဆောင်ရွက်မှုများ',\n",
              "  'ရယူခဲ့ကြောင်း',\n",
              "  'နှင့်',\n",
              "  'သိမ်းဆည်းထားခဲ့သော',\n",
              "  'သတင်းအချက်အလက်များ',\n",
              "  'သည်',\n",
              "  'စံသတ်မှတ်ထားသော',\n",
              "  'နည်းလမ်းများ',\n",
              "  'ဖြင့်',\n",
              "  'အလွယ်တကူ',\n",
              "  'အသုံးဝင်သော',\n",
              "  'သို့မဟုတ်',\n",
              "  'ဖတ်ရှုခွင့်ရသော',\n",
              "  'ပုံစံ',\n",
              "  'တစ်ခု',\n",
              "  'အနေဖြင့်',\n",
              "  'မဟုတ်ကြောင်း',\n",
              "  'မီးမောင်းထိုးပြ',\n",
              "  'ခဲ့သည်',\n",
              "  '။next',\n",
              "  'to'],\n",
              " ['လစ်ဘရယ်',\n",
              "  'ဒီမိုကရက်',\n",
              "  'ကို',\n",
              "  'ကိုယ်စားပြုထားသော',\n",
              "  'ဆူဇန်',\n",
              "  'ကရာမား',\n",
              "  'က',\n",
              "  'အချက်အလက်များ',\n",
              "  'စုဆောင်း',\n",
              "  'ရန်',\n",
              "  '၊',\n",
              "  'အချက်အလက်များ',\n",
              "  'ပိုမို',\n",
              "  'ရရှိရန်',\n",
              "  '၊',\n",
              "  'သင့်',\n",
              "  'အကြောင်း',\n",
              "  'ပိုမို',\n",
              "  'သိရှိရန်',\n",
              "  '၊',\n",
              "  'ထိုမှတဆင့်',\n",
              "  'အတူတကွ',\n",
              "  'ပိုမို',\n",
              "  'ဆက်သွယ်',\n",
              "  'ရန်',\n",
              "  'ဤကဲ့သို့',\n",
              "  'စဉ်ဆက်မပြတ်',\n",
              "  'ကြိုးစားမှု',\n",
              "  'သည်',\n",
              "  'အားလုံး',\n",
              "  'ကို',\n",
              "  'နောက်ထပ်',\n",
              "  'ထည့်သွင်း',\n",
              "  'စဉ်းစား',\n",
              "  'ခြင်း',\n",
              "  'သို့မဟုတ်',\n",
              "  'ဆွေးနွေးမှု',\n",
              "  'တစ်ခု',\n",
              "  'ဖြစ်ကြောင်း',\n",
              "  'ကျွန်ုပ်',\n",
              "  'ထင်မြင်သည်',\n",
              "  'ဟု',\n",
              "  'တင်ပြသွားခဲ့သည်',\n",
              "  '။'],\n",
              " ['လူးဝတ်',\n",
              "  'က',\n",
              "  'ဆက်လက်',\n",
              "  'မှတ်ချက်ပြုခဲ့သည်',\n",
              "  'မှာ',\n",
              "  'င်္သဘော',\n",
              "  'အား',\n",
              "  'အမှတ်အသားပြုခဲ့သည်',\n",
              "  'မှာ',\n",
              "  'အကောက်ခွန်',\n",
              "  'မဟုတ်ခဲ့ကြောင်း',\n",
              "  '၊',\n",
              "  'သို့သော်',\n",
              "  'သြစတြေးလျ',\n",
              "  'ကုန်တင်',\n",
              "  'င်္သဘော',\n",
              "  'ဖြတ်သန်းခြင်း',\n",
              "  'တစ်ခုသာ',\n",
              "  'ဖြစ်ကြောင်း',\n",
              "  '၊',\n",
              "  'သို့ရာတွင်',\n",
              "  'အယ်လစ်ဆန်',\n",
              "  'သည်',\n",
              "  'လူးဝတ်',\n",
              "  '၏',\n",
              "  'စီးပွာဖြစ်',\n",
              "  'ရေယာဉ်များ',\n",
              "  'သြစတြေးလျ',\n",
              "  'အတွက်',\n",
              "  'ရှာဖွေခြင်း',\n",
              "  'တွင်',\n",
              "  'လုံးဝ',\n",
              "  'အခွင့်',\n",
              "  'မရှိ',\n",
              "  'သည်',\n",
              "  'ကို',\n",
              "  'စဉ်းစားပါ',\n",
              "  'ဆိုသည့်',\n",
              "  'တင်ပြခြင်း',\n",
              "  'ကိစ္စ',\n",
              "  'ကို',\n",
              "  'ခုခံကာကွယ်ခဲ့',\n",
              "  'ပြီး',\n",
              "  'အယ်လစ်ဆန်',\n",
              "  'က',\n",
              "  'ကျွန်တော်တို့၏',\n",
              "  'အရေးပေါ်',\n",
              "  'အစီရင်ခံစာများ',\n",
              "  'အပေါ်',\n",
              "  'အားထား',\n",
              "  'ပြီး',\n",
              "  'မှ',\n",
              "  'ထွက်ပါ',\n",
              "  'သဘော',\n",
              "  'ကို',\n",
              "  'ရှာပါ',\n",
              "  'ဟု',\n",
              "  'ဆိုခဲ့သည်',\n",
              "  '။']]"
            ]
          },
          "metadata": {},
          "execution_count": 16
        }
      ],
      "source": [
        "corpus = build_corpus(data)\n",
        "corpus[:10]"
      ]
    },
    {
      "cell_type": "code",
      "execution_count": null,
      "metadata": {
        "colab": {
          "base_uri": "https://localhost:8080/"
        },
        "id": "3yLSRjGKXN99",
        "outputId": "0f244b7e-c18a-4fcc-9ae6-b3f004e109e2"
      },
      "outputs": [
        {
          "output_type": "stream",
          "name": "stdout",
          "text": [
            "Requirement already satisfied: gensim in /usr/local/lib/python3.7/dist-packages (3.6.0)\n",
            "Requirement already satisfied: scipy>=0.18.1 in /usr/local/lib/python3.7/dist-packages (from gensim) (1.4.1)\n",
            "Requirement already satisfied: numpy>=1.11.3 in /usr/local/lib/python3.7/dist-packages (from gensim) (1.19.5)\n",
            "Requirement already satisfied: smart-open>=1.2.1 in /usr/local/lib/python3.7/dist-packages (from gensim) (5.2.1)\n",
            "Requirement already satisfied: six>=1.5.0 in /usr/local/lib/python3.7/dist-packages (from gensim) (1.15.0)\n"
          ]
        }
      ],
      "source": [
        "!pip install gensim\n",
        "import gensim"
      ]
    },
    {
      "cell_type": "code",
      "execution_count": null,
      "metadata": {
        "id": "gUvMQwcGXy2t"
      },
      "outputs": [],
      "source": [
        "model = gensim.models.Word2Vec(corpus, size= 32, window=3, min_count=3,iter=100)"
      ]
    },
    {
      "cell_type": "code",
      "execution_count": null,
      "metadata": {
        "colab": {
          "base_uri": "https://localhost:8080/"
        },
        "id": "uQ1vuu2yYcVH",
        "outputId": "205902f5-4d5a-4e85-dcf8-038d490370e0"
      },
      "outputs": [
        {
          "output_type": "execute_result",
          "data": {
            "text/plain": [
              "array([-3.1282380e+00,  3.2111065e+00,  1.7346760e+00, -2.1277218e+00,\n",
              "       -1.5117459e+00,  1.6338804e+00, -2.8221838e+00,  5.3387256e+00,\n",
              "       -3.0438690e+00,  2.7966268e+00,  1.1215039e-01, -1.7969534e+00,\n",
              "       -1.8059758e+00, -4.6619806e-03,  1.5575612e+00, -3.6059609e-01,\n",
              "       -5.0411744e+00, -5.6467021e-01,  1.4072078e+00, -1.7613953e-01,\n",
              "        4.9464136e-01, -3.4221020e+00, -2.9030523e+00, -1.6676605e+00,\n",
              "       -3.2290459e+00, -3.1005747e+00,  2.8049482e-02,  1.5179551e+00,\n",
              "       -3.4341733e+00,  4.0139165e+00,  1.8632053e-01,  5.3267676e-01],\n",
              "      dtype=float32)"
            ]
          },
          "metadata": {},
          "execution_count": 20
        }
      ],
      "source": [
        "model.wv['ငြိမ်းချမ်းရေး']"
      ]
    },
    {
      "cell_type": "code",
      "execution_count": null,
      "metadata": {
        "colab": {
          "base_uri": "https://localhost:8080/"
        },
        "id": "xahXDMT-YgAg",
        "outputId": "8e29fc38-5eb6-46cf-a131-7110dc4daec0"
      },
      "outputs": [
        {
          "output_type": "stream",
          "name": "stderr",
          "text": [
            "/usr/local/lib/python3.7/dist-packages/ipykernel_launcher.py:1: DeprecationWarning: Call to deprecated `most_similar` (Method will be removed in 4.0.0, use self.wv.most_similar() instead).\n",
            "  \"\"\"Entry point for launching an IPython kernel.\n"
          ]
        },
        {
          "output_type": "execute_result",
          "data": {
            "text/plain": [
              "[('အခြေအနေ', 0.6170564889907837),\n",
              " ('တရုတ်ပြည်သူ့', 0.608558177947998),\n",
              " ('ရခိုင်ပြည်နယ်ရဲ့', 0.5919140577316284),\n",
              " ('လုပ်ဆောင်ချက်', 0.5907759666442871),\n",
              " ('မြန်မာနိုင်ငံတွင်', 0.5867412686347961),\n",
              " ('စည်းမျဉ်းများ', 0.5808330774307251),\n",
              " ('အားကောင်း', 0.5758386850357056),\n",
              " ('အရေးပါသော', 0.5691541433334351),\n",
              " ('အဆင့်ဆင့်', 0.5667726993560791),\n",
              " ('ဆက်ဆံရေး', 0.5593760013580322)]"
            ]
          },
          "metadata": {},
          "execution_count": 21
        }
      ],
      "source": [
        "model.most_similar('စီးပွားရေး')[:10]"
      ]
    },
    {
      "cell_type": "code",
      "execution_count": null,
      "metadata": {
        "id": "D8uR59kxftQL"
      },
      "outputs": [],
      "source": [
        "model.save('model.bin')"
      ]
    }
  ],
  "metadata": {
    "colab": {
      "collapsed_sections": [],
      "name": "word2vec CBOW.ipynb",
      "provenance": []
    },
    "kernelspec": {
      "display_name": "Python 3",
      "name": "python3"
    },
    "language_info": {
      "name": "python"
    },
    "accelerator": "GPU"
  },
  "nbformat": 4,
  "nbformat_minor": 0
}