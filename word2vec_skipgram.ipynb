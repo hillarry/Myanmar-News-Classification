{
  "cells": [
    {
      "cell_type": "code",
      "execution_count": null,
      "metadata": {
        "id": "eL3BdL1sl05b"
      },
      "outputs": [],
      "source": [
        "import pandas as pd\n",
        "import numpy as np\n",
        "import matplotlib.pyplot as plt\n",
        "from sklearn.feature_extraction.text import TfidfVectorizer\n",
        "from sklearn.model_selection import train_test_split"
      ]
    },
    {
      "cell_type": "markdown",
      "metadata": {
        "id": "LvyctsATHZEd"
      },
      "source": [
        "Loading Dataset\n"
      ]
    },
    {
      "cell_type": "code",
      "execution_count": null,
      "metadata": {
        "id": "Bnwzs0Mkp76z"
      },
      "outputs": [],
      "source": [
        "dataset = '/content/MyNews - Sheet1.csv'"
      ]
    },
    {
      "cell_type": "code",
      "execution_count": null,
      "metadata": {
        "id": "OGJMlz6rJg0L"
      },
      "outputs": [],
      "source": [
        "import chardet\n",
        "with open('/content/MyNews - Sheet1.csv', 'rb') as f:\n",
        "    enc = chardet.detect(f.read())"
      ]
    },
    {
      "cell_type": "code",
      "execution_count": null,
      "metadata": {
        "colab": {
          "base_uri": "https://localhost:8080/"
        },
        "id": "m0XiCs6AqDrV",
        "outputId": "788e8b09-c86b-4654-f85c-4a379a6e68ac"
      },
      "outputs": [
        {
          "output_type": "stream",
          "name": "stdout",
          "text": [
            "   index                                          Sentences\n",
            "0      0  အန်ဒရီယာ မာစီ သည် အီတလီ အတွက် စမ်းသပ်မှု တစ်ခု...\n",
            "1      1  ပေါ်တူဂီ သည် ဘယ်သောအခါမှ စွန့်လွှတ်မှု မရှိခဲ့...\n",
            "2      2  အီတလီ သည် ပထမပိုင်း ၌ ၁၆-၅ ဖြင့် ဦးဆောင်ခဲ့ သေ...\n",
            "3      3  သို့သော်လည်း ဘော်တိုလပ်စီ သည် မော်ရို ဘာဂမ်မက်...\n",
            "4      4  နယူးဇီလန် သည် ရမှတ် ကွာခြားချက် အပေါ် စကော့တလန...\n"
          ]
        }
      ],
      "source": [
        "data = pd.read_csv(dataset,encoding='utf-8')\n",
        "print(data.head())"
      ]
    },
    {
      "cell_type": "code",
      "execution_count": null,
      "metadata": {
        "colab": {
          "base_uri": "https://localhost:8080/"
        },
        "id": "DNcVOETCqQyG",
        "outputId": "1a5fcf05-d89a-45ca-cb7c-064cfe69eb0c"
      },
      "outputs": [
        {
          "output_type": "execute_result",
          "data": {
            "text/plain": [
              "index        0\n",
              "Sentences    4\n",
              "dtype: int64"
            ]
          },
          "metadata": {},
          "execution_count": 15
        }
      ],
      "source": [
        "data.isnull().sum()"
      ]
    },
    {
      "cell_type": "markdown",
      "metadata": {
        "id": "Gfga20dL96C0"
      },
      "source": [
        "Preprocessing"
      ]
    },
    {
      "cell_type": "code",
      "execution_count": null,
      "metadata": {
        "id": "0gSin6-u942p"
      },
      "outputs": [],
      "source": [
        "stopwordslist = []\n",
        "slist = []\n",
        "with open(\"/content/stopword (1).txt\", encoding = 'utf8') as stopwordsfile:\n",
        "    stopwords = stopwordsfile.readlines()\n",
        "    slist.extend(stopwords)\n",
        "    for w in range(len(slist)):\n",
        "        temp = slist[w]\n",
        "        stopwordslist.append(temp.rstrip())"
      ]
    },
    {
      "cell_type": "code",
      "execution_count": null,
      "metadata": {
        "id": "HQNXqhqh_VPv"
      },
      "outputs": [],
      "source": [
        "import re\n",
        "CleanPattern = re.compile(r'\\d+|[၊။!-/:-@[-`{-~\\t ]|[A-za-z0-9]')\n",
        "def clean_sentence(sentence):\n",
        "     sent = CleanPattern.sub(\" \",sentence)\n",
        "     return sent\n",
        "\n",
        "def stop_word(sentence):\n",
        "  new_sentence = []\n",
        "  for word in sentence.split():\n",
        "    if word not in stopwordslist:\n",
        "      new_sentence.append(word)\n",
        "  return(' '.join(new_sentence))\n",
        "\n",
        "def process(line):\n",
        "    #line = clean_sentence(line)\n",
        "    sentence = stop_word(line)\n",
        "    return sentence\n",
        "\n",
        "BreakPattern = re.compile(r'(?:(?<!္)([က-ဪဿ၊-၏]|[၀-၉]+|[^က-၏]+)(?![ှျ]?[့္်]))')\n",
        "\n",
        "def sylbreak(sentence):\n",
        "    line = BreakPattern.sub(\" \" + r\"\\1\",sentence)\n",
        "    return line\n",
        "       \n",
        "def process(sentence):\n",
        "    line = clean_sentence(sentence)\n",
        "    sentence = stop_word(line)\n",
        "    return sentence"
      ]
    },
    {
      "cell_type": "code",
      "execution_count": null,
      "metadata": {
        "colab": {
          "base_uri": "https://localhost:8080/"
        },
        "id": "nrurYXvIuiz5",
        "outputId": "a0a27873-2d40-44fd-ce06-7577e891382b"
      },
      "outputs": [
        {
          "output_type": "execute_result",
          "data": {
            "text/plain": [
              "0    အန်ဒရီယာ မာစီ သည် အီတလီ အတွက် စမ်းသပ်မှု တစ်ခု...\n",
              "1    ပေါ်တူဂီ သည် ဘယ်သောအခါမှ စွန့်လွှတ်မှု မရှိခဲ့...\n",
              "2    အီတလီ သည် ပထမပိုင်း ၌ ၁၆-၅ ဖြင့် ဦးဆောင်ခဲ့ သေ...\n",
              "3    သို့သော်လည်း ဘော်တိုလပ်စီ သည် မော်ရို ဘာဂမ်မက်...\n",
              "4    နယူးဇီလန် သည် ရမှတ် ကွာခြားချက် အပေါ် စကော့တလန...\n",
              "Name: Sentences, dtype: object"
            ]
          },
          "metadata": {},
          "execution_count": 18
        }
      ],
      "source": [
        "data['Sentences'] = data['Sentences'].apply(str)\n",
        "data['Sentences'].apply(process)\n",
        "data['Sentences'].head()"
      ]
    },
    {
      "cell_type": "code",
      "execution_count": null,
      "metadata": {
        "colab": {
          "base_uri": "https://localhost:8080/"
        },
        "id": "OIXnh4qzBJFW",
        "outputId": "ec67d209-ab89-47bb-f088-fbeb3b253775"
      },
      "outputs": [
        {
          "output_type": "execute_result",
          "data": {
            "text/plain": [
              "index        0\n",
              "Sentences    0\n",
              "dtype: int64"
            ]
          },
          "metadata": {},
          "execution_count": 19
        }
      ],
      "source": [
        "data.isnull().sum()"
      ]
    },
    {
      "cell_type": "markdown",
      "metadata": {
        "id": "jaPj8PnvHp_K"
      },
      "source": [
        "Building the corpus"
      ]
    },
    {
      "cell_type": "code",
      "execution_count": null,
      "metadata": {
        "id": "MPsKpCen7Yz4"
      },
      "outputs": [],
      "source": [
        "def build_corpus(data):\n",
        "  #data = ['Sentences']\n",
        "  corpus = []\n",
        "  for col in ['Sentences']:\n",
        "    for sentence in data[col].iteritems():\n",
        "      wordlist = sentence[1].split(\" \")\n",
        "      corpus.append(wordlist)\n",
        "  return corpus"
      ]
    },
    {
      "cell_type": "code",
      "execution_count": null,
      "metadata": {
        "colab": {
          "base_uri": "https://localhost:8080/"
        },
        "id": "qxW_Uu5X73W0",
        "outputId": "4be8bb82-41b8-41d2-fd53-6a801c8419db"
      },
      "outputs": [
        {
          "output_type": "execute_result",
          "data": {
            "text/plain": [
              "[['အန်ဒရီယာ',\n",
              "  'မာစီ',\n",
              "  'သည်',\n",
              "  'အီတလီ',\n",
              "  'အတွက်',\n",
              "  'စမ်းသပ်မှု',\n",
              "  'တစ်ခု',\n",
              "  'အဖြစ်',\n",
              "  'စတုတ္ထ',\n",
              "  'မိနစ်',\n",
              "  'တွင်',\n",
              "  'အမှတ်ပေးခြင်း',\n",
              "  'ကို',\n",
              "  'ဖွင့်လှစ်ပေးခဲ့သည်',\n",
              "  '။'],\n",
              " ['ပေါ်တူဂီ',\n",
              "  'သည်',\n",
              "  'ဘယ်သောအခါမှ',\n",
              "  'စွန့်လွှတ်မှု',\n",
              "  'မရှိခဲ့',\n",
              "  'ပဲ',\n",
              "  'ဒေးဗစ်',\n",
              "  'ပန်နယ်ဗါ',\n",
              "  'သည်',\n",
              "  '၃၃',\n",
              "  'မိနစ်',\n",
              "  'တွင်',\n",
              "  'သူတို့၏',\n",
              "  'ကစားပွဲ',\n",
              "  'ရဲ့',\n",
              "  'အမှတ်များ',\n",
              "  'ကို',\n",
              "  'သာ',\n",
              "  'အထောက်အကူပြု',\n",
              "  'သည့်',\n",
              "  'ကြိုးစားမှု',\n",
              "  'တစ်ခု',\n",
              "  'မှ',\n",
              "  'အမှတ်ရခဲ့ပါသည်။'],\n",
              " ['အီတလီ',\n",
              "  'သည်',\n",
              "  'ပထမပိုင်း',\n",
              "  '၌',\n",
              "  '၁၆-၅',\n",
              "  'ဖြင့်',\n",
              "  'ဦးဆောင်ခဲ့',\n",
              "  'သော်လည်း',\n",
              "  'ပေါ်တူဂီ',\n",
              "  'မှ',\n",
              "  'ဒုတိယပိုင်း',\n",
              "  'တော်တော်များများ',\n",
              "  'တွင်',\n",
              "  'ဂိုး',\n",
              "  'အရေအတွက်',\n",
              "  'ညီ',\n",
              "  'စေ',\n",
              "  'ခဲ့သည်',\n",
              "  '။'],\n",
              " ['သို့သော်လည်း',\n",
              "  'ဘော်တိုလပ်စီ',\n",
              "  'သည်',\n",
              "  'မော်ရို',\n",
              "  'ဘာဂမ်မက်စကို',\n",
              "  '၏',\n",
              "  'ကြိုးစားမှုများ',\n",
              "  'နှင့်',\n",
              "  'အန်ဒရီယာ',\n",
              "  'မာစီ',\n",
              "  '၏',\n",
              "  'ဒုတိယဂိုး',\n",
              "  'နောက်ပိုင်း',\n",
              "  'အီတလီ',\n",
              "  'အတွက်',\n",
              "  'အနိုင်ရရှိ',\n",
              "  'စေရန်',\n",
              "  'သူ၏',\n",
              "  'စတုတ္ထမြောက်',\n",
              "  'ကစားပွဲ',\n",
              "  '၏',\n",
              "  'ပယ်နယ်လ်တီ',\n",
              "  'ကို',\n",
              "  'သွင်းယူပေးခဲ့သည်',\n",
              "  '။'],\n",
              " ['နယူးဇီလန်',\n",
              "  'သည်',\n",
              "  'ရမှတ်',\n",
              "  'ကွာခြားချက်',\n",
              "  'အပေါ်',\n",
              "  'စကော့တလန်၏',\n",
              "  'ရှေ့မှ',\n",
              "  'ရမှတ်',\n",
              "  'ဆယ်မှတ်',\n",
              "  'နှင့်အတူ',\n",
              "  'အုပ်စု',\n",
              "  'ကို',\n",
              "  'ဦးဆောင်နေသည်',\n",
              "  '။'],\n",
              " ['အသေးစိတ်များ',\n",
              "  'ကို',\n",
              "  'မနေ့က',\n",
              "  '၁၇၃၀',\n",
              "  'ယူတီစီ',\n",
              "  '၌',\n",
              "  'အောက်လွှတ်တော်',\n",
              "  'ရှိ',\n",
              "  'ဗြိတိန်နိုင်ငံ',\n",
              "  'ပို့ဆောင်ရေး',\n",
              "  'အတွင်းရေးမှူး',\n",
              "  'ရုသ်ကယ်လီ',\n",
              "  'က',\n",
              "  'ပေးခဲ့သည်။'],\n",
              " ['လွှတ်တော်အမတ်များ',\n",
              "  'သို့',\n",
              "  'သူမ၏',\n",
              "  'ကြေငြာချက်',\n",
              "  'တွင်',\n",
              "  'ရုသ်ကယ်လီ',\n",
              "  'က',\n",
              "  'ပျောက်ဆုံးခဲ့သော',\n",
              "  'အချက်အလက်များ',\n",
              "  'အတွင်း',\n",
              "  'မည်သည့်',\n",
              "  'ဘဏ်လုပ်ငန်း',\n",
              "  'သတင်းအချက်အလက်',\n",
              "  'မှ',\n",
              "  'မပါ၀င်',\n",
              "  'သကဲ့သို့',\n",
              "  'တစ်ဦးချင်းစီ',\n",
              "  '၏',\n",
              "  'မွေးသက္ကရာဇ်များ',\n",
              "  'လည်း',\n",
              "  'မပါ၀င်ကြောင်း',\n",
              "  'အတည်ပြုသွားခဲ့သည်',\n",
              "  '။'],\n",
              " ['သူမ',\n",
              "  'သည်',\n",
              "  'လုံခြုံရေးရာ',\n",
              "  'ဆောင်ရွက်မှုများ',\n",
              "  'ရယူခဲ့ကြောင်း',\n",
              "  'နှင့်',\n",
              "  'သိမ်းဆည်းထားခဲ့သော',\n",
              "  'သတင်းအချက်အလက်များ',\n",
              "  'သည်',\n",
              "  'စံသတ်မှတ်ထားသော',\n",
              "  'နည်းလမ်းများ',\n",
              "  'ဖြင့်',\n",
              "  'အလွယ်တကူ',\n",
              "  'အသုံးဝင်သော',\n",
              "  'သို့မဟုတ်',\n",
              "  'ဖတ်ရှုခွင့်ရသော',\n",
              "  'ပုံစံ',\n",
              "  'တစ်ခု',\n",
              "  'အနေဖြင့်',\n",
              "  'မဟုတ်ကြောင်း',\n",
              "  'မီးမောင်းထိုးပြ',\n",
              "  'ခဲ့သည်',\n",
              "  '။next',\n",
              "  'to'],\n",
              " ['လစ်ဘရယ်',\n",
              "  'ဒီမိုကရက်',\n",
              "  'ကို',\n",
              "  'ကိုယ်စားပြုထားသော',\n",
              "  'ဆူဇန်',\n",
              "  'ကရာမား',\n",
              "  'က',\n",
              "  'အချက်အလက်များ',\n",
              "  'စုဆောင်း',\n",
              "  'ရန်',\n",
              "  '၊',\n",
              "  'အချက်အလက်များ',\n",
              "  'ပိုမို',\n",
              "  'ရရှိရန်',\n",
              "  '၊',\n",
              "  'သင့်',\n",
              "  'အကြောင်း',\n",
              "  'ပိုမို',\n",
              "  'သိရှိရန်',\n",
              "  '၊',\n",
              "  'ထိုမှတဆင့်',\n",
              "  'အတူတကွ',\n",
              "  'ပိုမို',\n",
              "  'ဆက်သွယ်',\n",
              "  'ရန်',\n",
              "  'ဤကဲ့သို့',\n",
              "  'စဉ်ဆက်မပြတ်',\n",
              "  'ကြိုးစားမှု',\n",
              "  'သည်',\n",
              "  'အားလုံး',\n",
              "  'ကို',\n",
              "  'နောက်ထပ်',\n",
              "  'ထည့်သွင်း',\n",
              "  'စဉ်းစား',\n",
              "  'ခြင်း',\n",
              "  'သို့မဟုတ်',\n",
              "  'ဆွေးနွေးမှု',\n",
              "  'တစ်ခု',\n",
              "  'ဖြစ်ကြောင်း',\n",
              "  'ကျွန်ုပ်',\n",
              "  'ထင်မြင်သည်',\n",
              "  'ဟု',\n",
              "  'တင်ပြသွားခဲ့သည်',\n",
              "  '။'],\n",
              " ['လူးဝတ်',\n",
              "  'က',\n",
              "  'ဆက်လက်',\n",
              "  'မှတ်ချက်ပြုခဲ့သည်',\n",
              "  'မှာ',\n",
              "  'င်္သဘော',\n",
              "  'အား',\n",
              "  'အမှတ်အသားပြုခဲ့သည်',\n",
              "  'မှာ',\n",
              "  'အကောက်ခွန်',\n",
              "  'မဟုတ်ခဲ့ကြောင်း',\n",
              "  '၊',\n",
              "  'သို့သော်',\n",
              "  'သြစတြေးလျ',\n",
              "  'ကုန်တင်',\n",
              "  'င်္သဘော',\n",
              "  'ဖြတ်သန်းခြင်း',\n",
              "  'တစ်ခုသာ',\n",
              "  'ဖြစ်ကြောင်း',\n",
              "  '၊',\n",
              "  'သို့ရာတွင်',\n",
              "  'အယ်လစ်ဆန်',\n",
              "  'သည်',\n",
              "  'လူးဝတ်',\n",
              "  '၏',\n",
              "  'စီးပွာဖြစ်',\n",
              "  'ရေယာဉ်များ',\n",
              "  'သြစတြေးလျ',\n",
              "  'အတွက်',\n",
              "  'ရှာဖွေခြင်း',\n",
              "  'တွင်',\n",
              "  'လုံးဝ',\n",
              "  'အခွင့်',\n",
              "  'မရှိ',\n",
              "  'သည်',\n",
              "  'ကို',\n",
              "  'စဉ်းစားပါ',\n",
              "  'ဆိုသည့်',\n",
              "  'တင်ပြခြင်း',\n",
              "  'ကိစ္စ',\n",
              "  'ကို',\n",
              "  'ခုခံကာကွယ်ခဲ့',\n",
              "  'ပြီး',\n",
              "  'အယ်လစ်ဆန်',\n",
              "  'က',\n",
              "  'ကျွန်တော်တို့၏',\n",
              "  'အရေးပေါ်',\n",
              "  'အစီရင်ခံစာများ',\n",
              "  'အပေါ်',\n",
              "  'အားထား',\n",
              "  'ပြီး',\n",
              "  'မှ',\n",
              "  'ထွက်ပါ',\n",
              "  'သဘော',\n",
              "  'ကို',\n",
              "  'ရှာပါ',\n",
              "  'ဟု',\n",
              "  'ဆိုခဲ့သည်',\n",
              "  '။']]"
            ]
          },
          "metadata": {},
          "execution_count": 21
        }
      ],
      "source": [
        "corpus = build_corpus(data)\n",
        "corpus[:10]"
      ]
    },
    {
      "cell_type": "markdown",
      "metadata": {
        "id": "KRWN1QvUHvZK"
      },
      "source": [
        "Word2Vec Training"
      ]
    },
    {
      "cell_type": "code",
      "source": [
        "!pip install gensim\n",
        "import gensim"
      ],
      "metadata": {
        "colab": {
          "base_uri": "https://localhost:8080/"
        },
        "id": "UqRXRg7a4a6X",
        "outputId": "d3fd24a9-214e-4bbe-b813-8ab917f8e730"
      },
      "execution_count": null,
      "outputs": [
        {
          "output_type": "stream",
          "name": "stdout",
          "text": [
            "Requirement already satisfied: gensim in /usr/local/lib/python3.7/dist-packages (3.6.0)\n",
            "Requirement already satisfied: scipy>=0.18.1 in /usr/local/lib/python3.7/dist-packages (from gensim) (1.4.1)\n",
            "Requirement already satisfied: numpy>=1.11.3 in /usr/local/lib/python3.7/dist-packages (from gensim) (1.19.5)\n",
            "Requirement already satisfied: six>=1.5.0 in /usr/local/lib/python3.7/dist-packages (from gensim) (1.15.0)\n",
            "Requirement already satisfied: smart-open>=1.2.1 in /usr/local/lib/python3.7/dist-packages (from gensim) (5.2.1)\n"
          ]
        }
      ]
    },
    {
      "cell_type": "code",
      "execution_count": null,
      "metadata": {
        "id": "30YGtLw8Nbei"
      },
      "outputs": [],
      "source": [
        "model = gensim.models.Word2Vec(corpus, size= 32, window=3, min_count=2,iter=100)"
      ]
    },
    {
      "cell_type": "code",
      "execution_count": null,
      "metadata": {
        "colab": {
          "base_uri": "https://localhost:8080/"
        },
        "id": "IqEzpUy08fnU",
        "outputId": "9576d371-2e0d-485a-d798-a5f0478a44ce"
      },
      "outputs": [
        {
          "output_type": "execute_result",
          "data": {
            "text/plain": [
              "array([ 0.4209406 , -1.4978193 ,  0.5399212 ,  3.1533613 , -3.8868368 ,\n",
              "       -0.65335333,  2.8468697 ,  2.4747486 , -2.6933877 , -5.495833  ,\n",
              "        5.8994946 , -3.8887768 ,  3.0242186 ,  0.19013084, -4.5360518 ,\n",
              "       -1.7203277 ,  4.655463  , -1.8002901 , -1.0479832 ,  0.93547654,\n",
              "        2.3086464 ,  0.7840426 ,  1.1169966 ,  0.289341  ,  2.1270802 ,\n",
              "       -0.39438522,  0.84576756,  0.42771676, -0.6656337 ,  0.15496299,\n",
              "       -3.0893462 ,  0.46750134, -0.5352471 ,  0.13679625, -2.3966954 ,\n",
              "       -0.780969  ,  2.6128018 ,  0.43144763,  2.4074264 , -0.70601094,\n",
              "       -1.2891293 , -5.1662717 , -0.9850791 ,  0.98597956, -0.8340979 ,\n",
              "       -0.04918421, -0.96536046,  2.5116715 ,  1.9773432 ,  0.7617642 ,\n",
              "       -2.4024007 ,  2.6907852 , -1.3998044 ,  1.9605647 ,  1.8911732 ,\n",
              "       -2.109315  ,  0.54784817,  0.5940469 ,  2.8603823 , -0.57831466,\n",
              "        0.73844945, -3.0586927 , -1.9124746 ,  1.188963  ,  0.70348954,\n",
              "       -0.4311535 , -5.010654  ,  0.90715665, -4.2820153 , -0.34857315,\n",
              "        1.4667072 ,  0.13965474,  1.3620776 , -0.32847154,  0.6826719 ,\n",
              "        0.78356445, -0.42347237,  0.96404785,  3.17202   , -0.68536496,\n",
              "       -1.0042673 , -1.5888948 ,  0.17692026, -1.6701832 , -2.7509604 ,\n",
              "        1.2193198 , -0.55437803,  0.38041508, -2.137752  , -0.28160602,\n",
              "        1.2610708 ,  0.64776593,  2.711666  ,  1.3876685 , -0.3012564 ,\n",
              "        0.837668  ,  0.15265293,  3.8536296 ,  3.055353  ,  0.9740301 ],\n",
              "      dtype=float32)"
            ]
          },
          "metadata": {},
          "execution_count": 24
        }
      ],
      "source": [
        "model.wv['ငြိမ်းချမ်းရေး']"
      ]
    },
    {
      "cell_type": "code",
      "execution_count": null,
      "metadata": {
        "id": "I0kHHmxgBqbk"
      },
      "outputs": [],
      "source": [
        "# !pip install gensim\n",
        "# import gensim "
      ]
    },
    {
      "cell_type": "markdown",
      "metadata": {
        "id": "zJJHijP3HyGp"
      },
      "source": [
        "Similar the words"
      ]
    },
    {
      "cell_type": "code",
      "execution_count": null,
      "metadata": {
        "colab": {
          "base_uri": "https://localhost:8080/"
        },
        "id": "LFmEq8qf8qhp",
        "outputId": "3398cfb7-39a8-48fe-fc6b-f7c879b5e228"
      },
      "outputs": [
        {
          "output_type": "stream",
          "name": "stderr",
          "text": [
            "/usr/local/lib/python3.7/dist-packages/ipykernel_launcher.py:1: DeprecationWarning: Call to deprecated `most_similar` (Method will be removed in 4.0.0, use self.wv.most_similar() instead).\n",
            "  \"\"\"Entry point for launching an IPython kernel.\n"
          ]
        },
        {
          "output_type": "execute_result",
          "data": {
            "text/plain": [
              "[('ပြည်သူတို့', 0.49253690242767334),\n",
              " ('ကြိုဆိုပွဲ', 0.4672148525714874),\n",
              " ('ဖွံ့ဖြိုးတိုးတက်မှု', 0.44676464796066284),\n",
              " ('ဘဏ္ဍာရေး', 0.4317590892314911),\n",
              " ('တရုတ်ပြည်သူ့', 0.4240837097167969),\n",
              " ('နိုင်ငံခြားရေး', 0.42279642820358276),\n",
              " ('မူဝါဒ', 0.4201165735721588),\n",
              " ('မထင်ရှားသော', 0.40907371044158936),\n",
              " ('တင်းမာမှုများ', 0.40880316495895386),\n",
              " ('ပေါင်းစည်းမှု', 0.4081439971923828)]"
            ]
          },
          "metadata": {},
          "execution_count": 26
        }
      ],
      "source": [
        "model.most_similar('စီးပွားရေး')[:10]"
      ]
    },
    {
      "cell_type": "code",
      "execution_count": null,
      "metadata": {
        "id": "HL_3NDEeBcUZ",
        "colab": {
          "base_uri": "https://localhost:8080/"
        },
        "outputId": "98f71d13-c795-49ba-d2e3-a3fee502ed9c"
      },
      "outputs": [
        {
          "output_type": "execute_result",
          "data": {
            "text/plain": [
              "0.28067178"
            ]
          },
          "metadata": {},
          "execution_count": 27
        }
      ],
      "source": [
        "model.wv.similarity(\"ဥပဒေ\", \"မူဝါဒ\")"
      ]
    },
    {
      "cell_type": "code",
      "execution_count": null,
      "metadata": {
        "id": "TPJzMJv7fR5j"
      },
      "outputs": [],
      "source": [
        "#model.save(\"word2vec.model\")\n",
        "#model.save(\"model.bin\")\n",
        "# model.wv.save_word2vec_format('new_model.bin')\n",
        "# model.wv.save_word2vec_format('test_w2v.txt', binary=False)\n",
        "model.save(\"model.bin\")"
      ]
    },
    {
      "cell_type": "code",
      "execution_count": null,
      "metadata": {
        "id": "aJCqWblwgsqF",
        "colab": {
          "base_uri": "https://localhost:8080/",
          "height": 396
        },
        "outputId": "2ae4d4bb-ad33-460f-fdd3-6faadcd7770f"
      },
      "outputs": [
        {
          "output_type": "error",
          "ename": "FileNotFoundError",
          "evalue": "ignored",
          "traceback": [
            "\u001b[0;31m---------------------------------------------------------------------------\u001b[0m",
            "\u001b[0;31mFileNotFoundError\u001b[0m                         Traceback (most recent call last)",
            "\u001b[0;32m<ipython-input-29-a8be1ce1d7f4>\u001b[0m in \u001b[0;36m<module>\u001b[0;34m()\u001b[0m\n\u001b[1;32m      1\u001b[0m \u001b[0;32mfrom\u001b[0m \u001b[0mgensim\u001b[0m\u001b[0;34m.\u001b[0m\u001b[0mmodels\u001b[0m \u001b[0;32mimport\u001b[0m \u001b[0mWord2Vec\u001b[0m\u001b[0;34m\u001b[0m\u001b[0;34m\u001b[0m\u001b[0m\n\u001b[0;32m----> 2\u001b[0;31m \u001b[0mmodel\u001b[0m \u001b[0;34m=\u001b[0m \u001b[0mWord2Vec\u001b[0m\u001b[0;34m.\u001b[0m\u001b[0mload\u001b[0m\u001b[0;34m(\u001b[0m\u001b[0;34m'/content/word2vec.model'\u001b[0m\u001b[0;34m)\u001b[0m\u001b[0;34m\u001b[0m\u001b[0;34m\u001b[0m\u001b[0m\n\u001b[0m\u001b[1;32m      3\u001b[0m \u001b[0mvocab\u001b[0m \u001b[0;34m=\u001b[0m \u001b[0mlist\u001b[0m\u001b[0;34m(\u001b[0m\u001b[0mmodel\u001b[0m\u001b[0;34m.\u001b[0m\u001b[0mwv\u001b[0m\u001b[0;34m.\u001b[0m\u001b[0mvocab\u001b[0m\u001b[0;34m)\u001b[0m\u001b[0;34m\u001b[0m\u001b[0;34m\u001b[0m\u001b[0m\n\u001b[1;32m      4\u001b[0m \u001b[0mprint\u001b[0m\u001b[0;34m(\u001b[0m\u001b[0mvocab\u001b[0m\u001b[0;34m)\u001b[0m\u001b[0;34m\u001b[0m\u001b[0;34m\u001b[0m\u001b[0m\n",
            "\u001b[0;32m/usr/local/lib/python3.7/dist-packages/gensim/models/word2vec.py\u001b[0m in \u001b[0;36mload\u001b[0;34m(cls, *args, **kwargs)\u001b[0m\n\u001b[1;32m   1310\u001b[0m         \"\"\"\n\u001b[1;32m   1311\u001b[0m         \u001b[0;32mtry\u001b[0m\u001b[0;34m:\u001b[0m\u001b[0;34m\u001b[0m\u001b[0;34m\u001b[0m\u001b[0m\n\u001b[0;32m-> 1312\u001b[0;31m             \u001b[0mmodel\u001b[0m \u001b[0;34m=\u001b[0m \u001b[0msuper\u001b[0m\u001b[0;34m(\u001b[0m\u001b[0mWord2Vec\u001b[0m\u001b[0;34m,\u001b[0m \u001b[0mcls\u001b[0m\u001b[0;34m)\u001b[0m\u001b[0;34m.\u001b[0m\u001b[0mload\u001b[0m\u001b[0;34m(\u001b[0m\u001b[0;34m*\u001b[0m\u001b[0margs\u001b[0m\u001b[0;34m,\u001b[0m \u001b[0;34m**\u001b[0m\u001b[0mkwargs\u001b[0m\u001b[0;34m)\u001b[0m\u001b[0;34m\u001b[0m\u001b[0;34m\u001b[0m\u001b[0m\n\u001b[0m\u001b[1;32m   1313\u001b[0m \u001b[0;34m\u001b[0m\u001b[0m\n\u001b[1;32m   1314\u001b[0m             \u001b[0;31m# for backward compatibility for `max_final_vocab` feature\u001b[0m\u001b[0;34m\u001b[0m\u001b[0;34m\u001b[0m\u001b[0;34m\u001b[0m\u001b[0m\n",
            "\u001b[0;32m/usr/local/lib/python3.7/dist-packages/gensim/models/base_any2vec.py\u001b[0m in \u001b[0;36mload\u001b[0;34m(cls, *args, **kwargs)\u001b[0m\n\u001b[1;32m   1242\u001b[0m \u001b[0;34m\u001b[0m\u001b[0m\n\u001b[1;32m   1243\u001b[0m         \"\"\"\n\u001b[0;32m-> 1244\u001b[0;31m         \u001b[0mmodel\u001b[0m \u001b[0;34m=\u001b[0m \u001b[0msuper\u001b[0m\u001b[0;34m(\u001b[0m\u001b[0mBaseWordEmbeddingsModel\u001b[0m\u001b[0;34m,\u001b[0m \u001b[0mcls\u001b[0m\u001b[0;34m)\u001b[0m\u001b[0;34m.\u001b[0m\u001b[0mload\u001b[0m\u001b[0;34m(\u001b[0m\u001b[0;34m*\u001b[0m\u001b[0margs\u001b[0m\u001b[0;34m,\u001b[0m \u001b[0;34m**\u001b[0m\u001b[0mkwargs\u001b[0m\u001b[0;34m)\u001b[0m\u001b[0;34m\u001b[0m\u001b[0;34m\u001b[0m\u001b[0m\n\u001b[0m\u001b[1;32m   1245\u001b[0m         \u001b[0;32mif\u001b[0m \u001b[0;32mnot\u001b[0m \u001b[0mhasattr\u001b[0m\u001b[0;34m(\u001b[0m\u001b[0mmodel\u001b[0m\u001b[0;34m,\u001b[0m \u001b[0;34m'ns_exponent'\u001b[0m\u001b[0;34m)\u001b[0m\u001b[0;34m:\u001b[0m\u001b[0;34m\u001b[0m\u001b[0;34m\u001b[0m\u001b[0m\n\u001b[1;32m   1246\u001b[0m             \u001b[0mmodel\u001b[0m\u001b[0;34m.\u001b[0m\u001b[0mns_exponent\u001b[0m \u001b[0;34m=\u001b[0m \u001b[0;36m0.75\u001b[0m\u001b[0;34m\u001b[0m\u001b[0;34m\u001b[0m\u001b[0m\n",
            "\u001b[0;32m/usr/local/lib/python3.7/dist-packages/gensim/models/base_any2vec.py\u001b[0m in \u001b[0;36mload\u001b[0;34m(cls, fname_or_handle, **kwargs)\u001b[0m\n\u001b[1;32m    601\u001b[0m \u001b[0;34m\u001b[0m\u001b[0m\n\u001b[1;32m    602\u001b[0m         \"\"\"\n\u001b[0;32m--> 603\u001b[0;31m         \u001b[0;32mreturn\u001b[0m \u001b[0msuper\u001b[0m\u001b[0;34m(\u001b[0m\u001b[0mBaseAny2VecModel\u001b[0m\u001b[0;34m,\u001b[0m \u001b[0mcls\u001b[0m\u001b[0;34m)\u001b[0m\u001b[0;34m.\u001b[0m\u001b[0mload\u001b[0m\u001b[0;34m(\u001b[0m\u001b[0mfname_or_handle\u001b[0m\u001b[0;34m,\u001b[0m \u001b[0;34m**\u001b[0m\u001b[0mkwargs\u001b[0m\u001b[0;34m)\u001b[0m\u001b[0;34m\u001b[0m\u001b[0;34m\u001b[0m\u001b[0m\n\u001b[0m\u001b[1;32m    604\u001b[0m \u001b[0;34m\u001b[0m\u001b[0m\n\u001b[1;32m    605\u001b[0m     \u001b[0;32mdef\u001b[0m \u001b[0msave\u001b[0m\u001b[0;34m(\u001b[0m\u001b[0mself\u001b[0m\u001b[0;34m,\u001b[0m \u001b[0mfname_or_handle\u001b[0m\u001b[0;34m,\u001b[0m \u001b[0;34m**\u001b[0m\u001b[0mkwargs\u001b[0m\u001b[0;34m)\u001b[0m\u001b[0;34m:\u001b[0m\u001b[0;34m\u001b[0m\u001b[0;34m\u001b[0m\u001b[0m\n",
            "\u001b[0;32m/usr/local/lib/python3.7/dist-packages/gensim/utils.py\u001b[0m in \u001b[0;36mload\u001b[0;34m(cls, fname, mmap)\u001b[0m\n\u001b[1;32m    420\u001b[0m         \u001b[0mcompress\u001b[0m\u001b[0;34m,\u001b[0m \u001b[0msubname\u001b[0m \u001b[0;34m=\u001b[0m \u001b[0mSaveLoad\u001b[0m\u001b[0;34m.\u001b[0m\u001b[0m_adapt_by_suffix\u001b[0m\u001b[0;34m(\u001b[0m\u001b[0mfname\u001b[0m\u001b[0;34m)\u001b[0m\u001b[0;34m\u001b[0m\u001b[0;34m\u001b[0m\u001b[0m\n\u001b[1;32m    421\u001b[0m \u001b[0;34m\u001b[0m\u001b[0m\n\u001b[0;32m--> 422\u001b[0;31m         \u001b[0mobj\u001b[0m \u001b[0;34m=\u001b[0m \u001b[0munpickle\u001b[0m\u001b[0;34m(\u001b[0m\u001b[0mfname\u001b[0m\u001b[0;34m)\u001b[0m\u001b[0;34m\u001b[0m\u001b[0;34m\u001b[0m\u001b[0m\n\u001b[0m\u001b[1;32m    423\u001b[0m         \u001b[0mobj\u001b[0m\u001b[0;34m.\u001b[0m\u001b[0m_load_specials\u001b[0m\u001b[0;34m(\u001b[0m\u001b[0mfname\u001b[0m\u001b[0;34m,\u001b[0m \u001b[0mmmap\u001b[0m\u001b[0;34m,\u001b[0m \u001b[0mcompress\u001b[0m\u001b[0;34m,\u001b[0m \u001b[0msubname\u001b[0m\u001b[0;34m)\u001b[0m\u001b[0;34m\u001b[0m\u001b[0;34m\u001b[0m\u001b[0m\n\u001b[1;32m    424\u001b[0m         \u001b[0mlogger\u001b[0m\u001b[0;34m.\u001b[0m\u001b[0minfo\u001b[0m\u001b[0;34m(\u001b[0m\u001b[0;34m\"loaded %s\"\u001b[0m\u001b[0;34m,\u001b[0m \u001b[0mfname\u001b[0m\u001b[0;34m)\u001b[0m\u001b[0;34m\u001b[0m\u001b[0;34m\u001b[0m\u001b[0m\n",
            "\u001b[0;32m/usr/local/lib/python3.7/dist-packages/gensim/utils.py\u001b[0m in \u001b[0;36munpickle\u001b[0;34m(fname)\u001b[0m\n\u001b[1;32m   1356\u001b[0m \u001b[0;34m\u001b[0m\u001b[0m\n\u001b[1;32m   1357\u001b[0m     \"\"\"\n\u001b[0;32m-> 1358\u001b[0;31m     \u001b[0;32mwith\u001b[0m \u001b[0msmart_open\u001b[0m\u001b[0;34m(\u001b[0m\u001b[0mfname\u001b[0m\u001b[0;34m,\u001b[0m \u001b[0;34m'rb'\u001b[0m\u001b[0;34m)\u001b[0m \u001b[0;32mas\u001b[0m \u001b[0mf\u001b[0m\u001b[0;34m:\u001b[0m\u001b[0;34m\u001b[0m\u001b[0;34m\u001b[0m\u001b[0m\n\u001b[0m\u001b[1;32m   1359\u001b[0m         \u001b[0;31m# Because of loading from S3 load can't be used (missing readline in smart_open)\u001b[0m\u001b[0;34m\u001b[0m\u001b[0;34m\u001b[0m\u001b[0;34m\u001b[0m\u001b[0m\n\u001b[1;32m   1360\u001b[0m         \u001b[0;32mif\u001b[0m \u001b[0msys\u001b[0m\u001b[0;34m.\u001b[0m\u001b[0mversion_info\u001b[0m \u001b[0;34m>\u001b[0m \u001b[0;34m(\u001b[0m\u001b[0;36m3\u001b[0m\u001b[0;34m,\u001b[0m \u001b[0;36m0\u001b[0m\u001b[0;34m)\u001b[0m\u001b[0;34m:\u001b[0m\u001b[0;34m\u001b[0m\u001b[0;34m\u001b[0m\u001b[0m\n",
            "\u001b[0;32m/usr/local/lib/python3.7/dist-packages/smart_open/smart_open_lib.py\u001b[0m in \u001b[0;36msmart_open\u001b[0;34m(***failed resolving arguments***)\u001b[0m\n\u001b[1;32m    496\u001b[0m     \u001b[0mignore_ext\u001b[0m \u001b[0;34m=\u001b[0m \u001b[0mignore_extension\u001b[0m\u001b[0;34m\u001b[0m\u001b[0;34m\u001b[0m\u001b[0m\n\u001b[1;32m    497\u001b[0m     \u001b[0;32mdel\u001b[0m \u001b[0mkwargs\u001b[0m\u001b[0;34m,\u001b[0m \u001b[0murl\u001b[0m\u001b[0;34m,\u001b[0m \u001b[0mmessage\u001b[0m\u001b[0;34m,\u001b[0m \u001b[0mignore_extension\u001b[0m\u001b[0;34m\u001b[0m\u001b[0;34m\u001b[0m\u001b[0m\n\u001b[0;32m--> 498\u001b[0;31m     \u001b[0;32mreturn\u001b[0m \u001b[0mopen\u001b[0m\u001b[0;34m(\u001b[0m\u001b[0;34m**\u001b[0m\u001b[0mlocals\u001b[0m\u001b[0;34m(\u001b[0m\u001b[0;34m)\u001b[0m\u001b[0;34m)\u001b[0m\u001b[0;34m\u001b[0m\u001b[0;34m\u001b[0m\u001b[0m\n\u001b[0m\u001b[1;32m    499\u001b[0m \u001b[0;34m\u001b[0m\u001b[0m\n\u001b[1;32m    500\u001b[0m \u001b[0;34m\u001b[0m\u001b[0m\n",
            "\u001b[0;32m/usr/local/lib/python3.7/dist-packages/smart_open/smart_open_lib.py\u001b[0m in \u001b[0;36mopen\u001b[0;34m(uri, mode, buffering, encoding, errors, newline, closefd, opener, ignore_ext, compression, transport_params)\u001b[0m\n\u001b[1;32m    193\u001b[0m         \u001b[0mencoding\u001b[0m\u001b[0;34m=\u001b[0m\u001b[0mencoding\u001b[0m\u001b[0;34m,\u001b[0m\u001b[0;34m\u001b[0m\u001b[0;34m\u001b[0m\u001b[0m\n\u001b[1;32m    194\u001b[0m         \u001b[0merrors\u001b[0m\u001b[0;34m=\u001b[0m\u001b[0merrors\u001b[0m\u001b[0;34m,\u001b[0m\u001b[0;34m\u001b[0m\u001b[0;34m\u001b[0m\u001b[0m\n\u001b[0;32m--> 195\u001b[0;31m         \u001b[0mnewline\u001b[0m\u001b[0;34m=\u001b[0m\u001b[0mnewline\u001b[0m\u001b[0;34m,\u001b[0m\u001b[0;34m\u001b[0m\u001b[0;34m\u001b[0m\u001b[0m\n\u001b[0m\u001b[1;32m    196\u001b[0m     )\n\u001b[1;32m    197\u001b[0m     \u001b[0;32mif\u001b[0m \u001b[0mfobj\u001b[0m \u001b[0;32mis\u001b[0m \u001b[0;32mnot\u001b[0m \u001b[0;32mNone\u001b[0m\u001b[0;34m:\u001b[0m\u001b[0;34m\u001b[0m\u001b[0;34m\u001b[0m\u001b[0m\n",
            "\u001b[0;32m/usr/local/lib/python3.7/dist-packages/smart_open/smart_open_lib.py\u001b[0m in \u001b[0;36m_shortcut_open\u001b[0;34m(uri, mode, compression, buffering, encoding, errors, newline)\u001b[0m\n\u001b[1;32m    359\u001b[0m         \u001b[0mopen_kwargs\u001b[0m\u001b[0;34m[\u001b[0m\u001b[0;34m'errors'\u001b[0m\u001b[0;34m]\u001b[0m \u001b[0;34m=\u001b[0m \u001b[0merrors\u001b[0m\u001b[0;34m\u001b[0m\u001b[0;34m\u001b[0m\u001b[0m\n\u001b[1;32m    360\u001b[0m \u001b[0;34m\u001b[0m\u001b[0m\n\u001b[0;32m--> 361\u001b[0;31m     \u001b[0;32mreturn\u001b[0m \u001b[0m_builtin_open\u001b[0m\u001b[0;34m(\u001b[0m\u001b[0mlocal_path\u001b[0m\u001b[0;34m,\u001b[0m \u001b[0mmode\u001b[0m\u001b[0;34m,\u001b[0m \u001b[0mbuffering\u001b[0m\u001b[0;34m=\u001b[0m\u001b[0mbuffering\u001b[0m\u001b[0;34m,\u001b[0m \u001b[0;34m**\u001b[0m\u001b[0mopen_kwargs\u001b[0m\u001b[0;34m)\u001b[0m\u001b[0;34m\u001b[0m\u001b[0;34m\u001b[0m\u001b[0m\n\u001b[0m\u001b[1;32m    362\u001b[0m \u001b[0;34m\u001b[0m\u001b[0m\n\u001b[1;32m    363\u001b[0m \u001b[0;34m\u001b[0m\u001b[0m\n",
            "\u001b[0;31mFileNotFoundError\u001b[0m: [Errno 2] No such file or directory: '/content/word2vec.model'"
          ]
        }
      ],
      "source": [
        "from gensim.models import Word2Vec\n",
        "model = Word2Vec.load('/content/word2vec.model')\n",
        "vocab = list(model.wv.vocab)\n",
        "print(vocab)"
      ]
    },
    {
      "cell_type": "code",
      "execution_count": null,
      "metadata": {
        "id": "i8vWE2y1hlru"
      },
      "outputs": [],
      "source": [
        "model.wv.similarity('လယ်ယာ','မြေ')"
      ]
    },
    {
      "cell_type": "code",
      "execution_count": null,
      "metadata": {
        "id": "1pg9oxORinmW"
      },
      "outputs": [],
      "source": [
        "dissimlar_words = model.doesnt_match('ပြည်ခိုင်ဖြိုးပါတီ ဥက္ကဋ္ဌ ဦးသိန်းစိန်က လက်ရှိ အစိုးရသစ် နှင့် တူညီသော လုပ်ငန်းများ တွင် ပူးပေါင်း လုပ်ဆောင်မည် ဆို သည့် ပြောကြားချက်ကို ကြိုဆို ကြောင်း သူရဦးရွှေမန်း က ပြောကြားခဲ့သည်။'.split())\n",
        "print(dissimlar_words)"
      ]
    }
  ],
  "metadata": {
    "colab": {
      "collapsed_sections": [],
      "name": "word2vec skipgram.ipynb",
      "provenance": []
    },
    "kernelspec": {
      "display_name": "Python 3",
      "name": "python3"
    },
    "language_info": {
      "name": "python"
    }
  },
  "nbformat": 4,
  "nbformat_minor": 0
}