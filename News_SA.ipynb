{
  "cells": [
    {
      "cell_type": "markdown",
      "metadata": {
        "id": "owMvYAGD2IGS"
      },
      "source": [
        ""
      ]
    },
    {
      "cell_type": "markdown",
      "metadata": {
        "id": "ReImwc2k2EV3"
      },
      "source": [
        "CNN with skipgram Word2vec"
      ]
    },
    {
      "cell_type": "markdown",
      "metadata": {
        "id": "BXIIDpUC26OA"
      },
      "source": [
        "### prepare\n"
      ]
    },
    {
      "cell_type": "code",
      "execution_count": null,
      "metadata": {
        "colab": {
          "base_uri": "https://localhost:8080/"
        },
        "id": "mJyEiA_16QUp",
        "outputId": "172d4ffa-37c2-42aa-eefb-95da2226dd26"
      },
      "outputs": [
        {
          "output_type": "stream",
          "name": "stdout",
          "text": [
            "Collecting keras.utils\n",
            "  Downloading keras-utils-1.0.13.tar.gz (2.4 kB)\n",
            "Requirement already satisfied: Keras>=2.1.5 in /usr/local/lib/python3.7/dist-packages (from keras.utils) (2.7.0)\n",
            "Building wheels for collected packages: keras.utils\n",
            "  Building wheel for keras.utils (setup.py) ... \u001b[?25l\u001b[?25hdone\n",
            "  Created wheel for keras.utils: filename=keras_utils-1.0.13-py3-none-any.whl size=2656 sha256=39baefc36364c0415967741144d20027bf9cf7d12b0ee7600baa66a2351917ed\n",
            "  Stored in directory: /root/.cache/pip/wheels/d0/dd/3b/493952a5240d486a83805d65360dedadbadeae71d25e2c877f\n",
            "Successfully built keras.utils\n",
            "Installing collected packages: keras.utils\n",
            "Successfully installed keras.utils-1.0.13\n"
          ]
        }
      ],
      "source": [
        "!pip install keras.utils"
      ]
    },
    {
      "cell_type": "code",
      "execution_count": null,
      "metadata": {
        "id": "Hju8lfos3D2R"
      },
      "outputs": [],
      "source": [
        "import pandas as pd\n",
        "import numpy as  np\n",
        "import matplotlib.pyplot as plt\n",
        "%matplotlib inline\n",
        "\n",
        "from sklearn.model_selection import train_test_split\n",
        "from keras.preprocessing.text import Tokenizer\n",
        "from keras.preprocessing.sequence import pad_sequences\n",
        "from tensorflow.keras.utils import to_categorical\n",
        "\n",
        "from keras.layers import Embedding\n",
        "\n",
        "from keras.layers import Dense,Input,GlobalMaxPooling1D\n",
        "from keras.layers import Conv1D,MaxPooling1D,Embedding\n",
        "from keras.models import Model\n",
        "from keras.layers import Input, Dense, Embedding, Conv2D, MaxPooling2D, Dropout,concatenate\n",
        "from keras.layers.core import Reshape,Flatten\n",
        "from keras.callbacks import EarlyStopping\n",
        "from tensorflow.keras.optimizers import SGD,RMSprop,Adagrad,Adadelta,Adam, Adamax, Nadam\n",
        "from keras.models import Model\n",
        "from keras import regularizers\n",
        "\n",
        "import gensim\n",
        "from gensim.models import Word2Vec\n",
        "\n",
        "from gensim.models.keyedvectors import KeyedVectors"
      ]
    },
    {
      "cell_type": "code",
      "execution_count": null,
      "metadata": {
        "id": "tDDvHmoL8tLO"
      },
      "outputs": [],
      "source": [
        "import chardet\n",
        "with open('/content/Segmented-Sentiments - Sheet1.csv', 'rb') as f:\n",
        "    enc = chardet.detect(f.read())"
      ]
    },
    {
      "cell_type": "code",
      "execution_count": null,
      "metadata": {
        "colab": {
          "base_uri": "https://localhost:8080/"
        },
        "id": "CkcZKzNK6tLS",
        "outputId": "ef0729be-e347-4d5c-abf4-406eff491ed3"
      },
      "outputs": [
        {
          "output_type": "stream",
          "name": "stdout",
          "text": [
            "   Index                                          Sentences Sentiment\n",
            "0      0  အန်ဒရီယာ မာစီ သည် အီတလီ အတွက် စမ်းသပ်မှု တစ်ခု...  Positive\n",
            "1      1  ပေါ်တူဂီ သည် ဘယ်သောအခါမှ စွန့်လွှတ်မှု မရှိခဲ့...  Positive\n",
            "2      2  အီတလီ သည် ပထမပိုင်း ၌ ၁၆-၅ ဖြင့် ဦးဆောင်ခဲ့ သေ...  Positive\n",
            "3      3  သို့သော်လည်း ဘော်တိုလပ်စီ သည် မော်ရို ဘာဂမ်မက်...  Positive\n",
            "4      4  နယူးဇီလန် သည် ရမှတ် ကွာခြားချက် အပေါ် စကော့တလန...  Positive\n"
          ]
        }
      ],
      "source": [
        "data = pd.read_csv('/content/Segmented-Sentiments - Sheet1.csv')\n",
        "print(data.head())"
      ]
    },
    {
      "cell_type": "code",
      "execution_count": null,
      "metadata": {
        "colab": {
          "base_uri": "https://localhost:8080/"
        },
        "id": "cVAx3fvfhATD",
        "outputId": "fe8d70d9-69a3-463c-c9e5-62a4dbc070db"
      },
      "outputs": [
        {
          "output_type": "execute_result",
          "data": {
            "text/plain": [
              "0       အန်ဒရီယာ မာစီ သည် အီတလီ အတွက် စမ်းသပ်မှု တစ်ခု...\n",
              "1       ပေါ်တူဂီ သည် ဘယ်သောအခါမှ စွန့်လွှတ်မှု မရှိခဲ့...\n",
              "2       အီတလီ သည် ပထမပိုင်း ၌ ၁၆-၅ ဖြင့် ဦးဆောင်ခဲ့ သေ...\n",
              "3       သို့သော်လည်း ဘော်တိုလပ်စီ သည် မော်ရို ဘာဂမ်မက်...\n",
              "4       နယူးဇီလန် သည် ရမှတ် ကွာခြားချက် အပေါ် စကော့တလန...\n",
              "                              ...                        \n",
              "6248    လက်ရှိ Miss Universe အလှမယ် အန်ဒရီယာမတ်ဇာကမူ A...\n",
              "6249    တရုတ်နိုင်ငံ၌ ကျင်းပမည့် တင်းနစ်ပြိုင်ပွဲ အားလ...\n",
              "6250    Red Notice ဇာတ်ကားအပေါ် ရုပ်ရှင် ဝေဖန်ရေးသမားမ...\n",
              "6251    လက်ရှိ Miss Universe အလှမယ် အန်ဒရီယာမတ်ဇာကမူ A...\n",
              "6252    တရုတ်နိုင်ငံ၌ ကျင်းပမည့် တင်းနစ်ပြိုင်ပွဲအားလု...\n",
              "Name: Sentences, Length: 6253, dtype: object"
            ]
          },
          "metadata": {},
          "execution_count": 5
        }
      ],
      "source": [
        "data['Sentences']"
      ]
    },
    {
      "cell_type": "code",
      "execution_count": null,
      "metadata": {
        "colab": {
          "base_uri": "https://localhost:8080/"
        },
        "id": "W6xjSmKHDdRk",
        "outputId": "9ec14250-8936-4a77-e777-fa038d803c89"
      },
      "outputs": [
        {
          "output_type": "execute_result",
          "data": {
            "text/plain": [
              "Index        0\n",
              "Sentences    0\n",
              "Sentiment    0\n",
              "dtype: int64"
            ]
          },
          "metadata": {},
          "execution_count": 6
        }
      ],
      "source": [
        "data.isnull().sum()"
      ]
    },
    {
      "cell_type": "code",
      "execution_count": null,
      "metadata": {
        "id": "9ldBzpogDisQ"
      },
      "outputs": [],
      "source": [
        "data = data.loc[data['Sentiment']!=\"Neutral\"]"
      ]
    },
    {
      "cell_type": "code",
      "execution_count": null,
      "metadata": {
        "colab": {
          "base_uri": "https://localhost:8080/",
          "height": 462
        },
        "id": "fgIaxF7UELaS",
        "outputId": "a6d82175-7759-4421-e087-1fa1b57cf743"
      },
      "outputs": [
        {
          "output_type": "stream",
          "name": "stderr",
          "text": [
            "/usr/local/lib/python3.7/dist-packages/ipykernel_launcher.py:1: SettingWithCopyWarning: \n",
            "A value is trying to be set on a copy of a slice from a DataFrame.\n",
            "Try using .loc[row_indexer,col_indexer] = value instead\n",
            "\n",
            "See the caveats in the documentation: https://pandas.pydata.org/pandas-docs/stable/user_guide/indexing.html#returning-a-view-versus-a-copy\n",
            "  \"\"\"Entry point for launching an IPython kernel.\n"
          ]
        },
        {
          "output_type": "execute_result",
          "data": {
            "text/plain": [
              "<matplotlib.axes._subplots.AxesSubplot at 0x7f7bf8e4d850>"
            ]
          },
          "metadata": {},
          "execution_count": 8
        },
        {
          "output_type": "display_data",
          "data": {
            "image/png": "[encoded data removed]",
            "text/plain": [
              "<Figure size 432x288 with 1 Axes>"
            ]
          },
          "metadata": {
            "needs_background": "light"
          }
        }
      ],
      "source": [
        "data['category_id'] = data['Sentiment'].factorize()[0]\n",
        "colslist = ['Index','Sentence', 'Sentiment', 'category_id']\n",
        "data.columns = colslist\n",
        "data.groupby('Sentiment').Index.count().plot.bar(ylim=0)"
      ]
    },
    {
      "cell_type": "code",
      "execution_count": null,
      "metadata": {
        "id": "5NENcqDmETGM"
      },
      "outputs": [],
      "source": [
        "stopwordslist = []\n",
        "slist = []\n",
        "with open(\"/content/stopword (1).txt\", encoding = 'utf8') as stopwordsfile:\n",
        "    stopwords = stopwordsfile.readlines()\n",
        "    slist.extend(stopwords)\n",
        "    for w in range(len(slist)):\n",
        "        temp = slist[w]\n",
        "        stopwordslist.append(temp.rstrip())"
      ]
    },
    {
      "cell_type": "code",
      "execution_count": null,
      "metadata": {
        "colab": {
          "base_uri": "https://localhost:8080/",
          "height": 363
        },
        "id": "T32xAsQRGVfE",
        "outputId": "8d001a5e-d45c-42b5-89bd-80f19fe540e6"
      },
      "outputs": [
        {
          "output_type": "execute_result",
          "data": {
            "text/html": [
              "\n",
              "  <div id=\"df-18762bba-ffd2-4d73-b18e-7b9eaffc513d\">\n",
              "    <div class=\"colab-df-container\">\n",
              "      <div>\n",
              "<style scoped>\n",
              "    .dataframe tbody tr th:only-of-type {\n",
              "        vertical-align: middle;\n",
              "    }\n",
              "\n",
              "    .dataframe tbody tr th {\n",
              "        vertical-align: top;\n",
              "    }\n",
              "\n",
              "    .dataframe thead th {\n",
              "        text-align: right;\n",
              "    }\n",
              "</style>\n",
              "<table border=\"1\" class=\"dataframe\">\n",
              "  <thead>\n",
              "    <tr style=\"text-align: right;\">\n",
              "      <th></th>\n",
              "      <th>Index</th>\n",
              "      <th>Sentence</th>\n",
              "      <th>Sentiment</th>\n",
              "      <th>category_id</th>\n",
              "    </tr>\n",
              "  </thead>\n",
              "  <tbody>\n",
              "    <tr>\n",
              "      <th>0</th>\n",
              "      <td>0</td>\n",
              "      <td>အန်ဒရီယာ မာစီ အီတလီ စမ်းသပ်မှု တစ်ခု စတုတ္ထ မိ...</td>\n",
              "      <td>Positive</td>\n",
              "      <td>0</td>\n",
              "    </tr>\n",
              "    <tr>\n",
              "      <th>1</th>\n",
              "      <td>1</td>\n",
              "      <td>ပေါ်တူဂီ ဘယ်သောအခါမှ စွန့်လွှတ်မှု မရှိခဲ့ ဒေး...</td>\n",
              "      <td>Positive</td>\n",
              "      <td>0</td>\n",
              "    </tr>\n",
              "    <tr>\n",
              "      <th>2</th>\n",
              "      <td>2</td>\n",
              "      <td>အီတလီ ပထမပိုင်း ဖြင့် ဦးဆောင်ခဲ့ ပေါ်တူဂီ ဒုတိ...</td>\n",
              "      <td>Positive</td>\n",
              "      <td>0</td>\n",
              "    </tr>\n",
              "    <tr>\n",
              "      <th>3</th>\n",
              "      <td>3</td>\n",
              "      <td>သို့သော်လည်း ဘော်တိုလပ်စီ မော်ရို ဘာဂမ်မက်စကို...</td>\n",
              "      <td>Positive</td>\n",
              "      <td>0</td>\n",
              "    </tr>\n",
              "    <tr>\n",
              "      <th>4</th>\n",
              "      <td>4</td>\n",
              "      <td>နယူးဇီလန် ရမှတ် ကွာခြားချက် စကော့တလန်၏ ရှေ့မှ ...</td>\n",
              "      <td>Positive</td>\n",
              "      <td>0</td>\n",
              "    </tr>\n",
              "    <tr>\n",
              "      <th>5</th>\n",
              "      <td>5</td>\n",
              "      <td>အသေးစိတ်များကို မနေ့က ယူတီစီ အောက်လွှတ်တော် ဗြ...</td>\n",
              "      <td>Positive</td>\n",
              "      <td>0</td>\n",
              "    </tr>\n",
              "    <tr>\n",
              "      <th>6</th>\n",
              "      <td>6</td>\n",
              "      <td>လွှတ်တော်အမတ်များ သူမ၏ ကြေငြာချက် ရုသ်ကယ်လီ ပျ...</td>\n",
              "      <td>Positive</td>\n",
              "      <td>0</td>\n",
              "    </tr>\n",
              "    <tr>\n",
              "      <th>7</th>\n",
              "      <td>7</td>\n",
              "      <td>သူမသည် လုံခြုံရေးရာ ဆောင်ရွက်မှုများ ရယူခဲ့ကြေ...</td>\n",
              "      <td>Positive</td>\n",
              "      <td>0</td>\n",
              "    </tr>\n",
              "    <tr>\n",
              "      <th>8</th>\n",
              "      <td>8</td>\n",
              "      <td>လစ်ဘရယ် ဒီမိုကရက် ကိုယ်စားပြုထားသော ဆူဇန် ကရာမ...</td>\n",
              "      <td>Positive</td>\n",
              "      <td>0</td>\n",
              "    </tr>\n",
              "    <tr>\n",
              "      <th>9</th>\n",
              "      <td>9</td>\n",
              "      <td>လူးဝတ် ဆက်လက် မှတ်ချက်ပြုခဲ့သည် င်္သဘော အမှတ်အ...</td>\n",
              "      <td>Positive</td>\n",
              "      <td>0</td>\n",
              "    </tr>\n",
              "  </tbody>\n",
              "</table>\n",
              "</div>\n",
              "      <button class=\"colab-df-convert\" onclick=\"convertToInteractive('df-18762bba-ffd2-4d73-b18e-7b9eaffc513d')\"\n",
              "              title=\"Convert this dataframe to an interactive table.\"\n",
              "              style=\"display:none;\">\n",
              "        \n",
              "  <svg xmlns=\"http://www.w3.org/2000/svg\" height=\"24px\"viewBox=\"0 0 24 24\"\n",
              "       width=\"24px\">\n",
              "    <path d=\"M0 0h24v24H0V0z\" fill=\"none\"/>\n",
              "    <path d=\"M18.56 5.44l.94 2.06.94-2.06 2.06-.94-2.06-.94-.94-2.06-.94 2.06-2.06.94zm-11 1L8.5 8.5l.94-2.06 2.06-.94-2.06-.94L8.5 2.5l-.94 2.06-2.06.94zm10 10l.94 2.06.94-2.06 2.06-.94-2.06-.94-.94-2.06-.94 2.06-2.06.94z\"/><path d=\"M17.41 7.96l-1.37-1.37c-.4-.4-.92-.59-1.43-.59-.52 0-1.04.2-1.43.59L10.3 9.45l-7.72 7.72c-.78.78-.78 2.05 0 2.83L4 21.41c.39.39.9.59 1.41.59.51 0 1.02-.2 1.41-.59l7.78-7.78 2.81-2.81c.8-.78.8-2.07 0-2.86zM5.41 20L4 18.59l7.72-7.72 1.47 1.35L5.41 20z\"/>\n",
              "  </svg>\n",
              "      </button>\n",
              "      \n",
              "  <style>\n",
              "    .colab-df-container {\n",
              "      display:flex;\n",
              "      flex-wrap:wrap;\n",
              "      gap: 12px;\n",
              "    }\n",
              "\n",
              "    .colab-df-convert {\n",
              "      background-color: #E8F0FE;\n",
              "      border: none;\n",
              "      border-radius: 50%;\n",
              "      cursor: pointer;\n",
              "      display: none;\n",
              "      fill: #1967D2;\n",
              "      height: 32px;\n",
              "      padding: 0 0 0 0;\n",
              "      width: 32px;\n",
              "    }\n",
              "\n",
              "    .colab-df-convert:hover {\n",
              "      background-color: #E2EBFA;\n",
              "      box-shadow: 0px 1px 2px rgba(60, 64, 67, 0.3), 0px 1px 3px 1px rgba(60, 64, 67, 0.15);\n",
              "      fill: #174EA6;\n",
              "    }\n",
              "\n",
              "    [theme=dark] .colab-df-convert {\n",
              "      background-color: #3B4455;\n",
              "      fill: #D2E3FC;\n",
              "    }\n",
              "\n",
              "    [theme=dark] .colab-df-convert:hover {\n",
              "      background-color: #434B5C;\n",
              "      box-shadow: 0px 1px 3px 1px rgba(0, 0, 0, 0.15);\n",
              "      filter: drop-shadow(0px 1px 2px rgba(0, 0, 0, 0.3));\n",
              "      fill: #FFFFFF;\n",
              "    }\n",
              "  </style>\n",
              "\n",
              "      <script>\n",
              "        const buttonEl =\n",
              "          document.querySelector('#df-18762bba-ffd2-4d73-b18e-7b9eaffc513d button.colab-df-convert');\n",
              "        buttonEl.style.display =\n",
              "          google.colab.kernel.accessAllowed ? 'block' : 'none';\n",
              "\n",
              "        async function convertToInteractive(key) {\n",
              "          const element = document.querySelector('#df-18762bba-ffd2-4d73-b18e-7b9eaffc513d');\n",
              "          const dataTable =\n",
              "            await google.colab.kernel.invokeFunction('convertToInteractive',\n",
              "                                                     [key], {});\n",
              "          if (!dataTable) return;\n",
              "\n",
              "          const docLinkHtml = 'Like what you see? Visit the ' +\n",
              "            '<a target=\"_blank\" href=https://colab.research.google.com/notebooks/data_table.ipynb>data table notebook</a>'\n",
              "            + ' to learn more about interactive tables.';\n",
              "          element.innerHTML = '';\n",
              "          dataTable['output_type'] = 'display_data';\n",
              "          await google.colab.output.renderOutput(dataTable, element);\n",
              "          const docLink = document.createElement('div');\n",
              "          docLink.innerHTML = docLinkHtml;\n",
              "          element.appendChild(docLink);\n",
              "        }\n",
              "      </script>\n",
              "    </div>\n",
              "  </div>\n",
              "  "
            ],
            "text/plain": [
              "   Index  ... category_id\n",
              "0      0  ...           0\n",
              "1      1  ...           0\n",
              "2      2  ...           0\n",
              "3      3  ...           0\n",
              "4      4  ...           0\n",
              "5      5  ...           0\n",
              "6      6  ...           0\n",
              "7      7  ...           0\n",
              "8      8  ...           0\n",
              "9      9  ...           0\n",
              "\n",
              "[10 rows x 4 columns]"
            ]
          },
          "metadata": {},
          "execution_count": 10
        }
      ],
      "source": [
        "import re\n",
        "CleanPattern = re.compile(r'\\d+|[၊။!-/:-@[-`{-~\\t ]|[A-za-z0-9]')\n",
        "def clean_sentence(sentence):\n",
        "     sent = CleanPattern.sub(\" \",sentence)\n",
        "     return sent\n",
        "\n",
        "def stop_word(sentence):\n",
        "  new_sentence = []\n",
        "  for word in sentence.split():\n",
        "    if word not in stopwordslist:\n",
        "      new_sentence.append(word)\n",
        "  return(' '.join(new_sentence))\n",
        "\n",
        "def process(line):\n",
        "    line = clean_sentence(line)\n",
        "    sentence = stop_word(line)\n",
        "    return sentence\n",
        "\n",
        "BreakPattern = re.compile(r'(?:(?<!္)([က-ဪဿ၊-၏]|[၀-၉]+|[^က-၏]+)(?![ှျ]?[့္်]))')\n",
        "\n",
        "def sylbreak(sentence):\n",
        "    line = BreakPattern.sub(\" \" + r\"\\1\",sentence)\n",
        "    return line\n",
        "\n",
        "def process(sentence):\n",
        "    line = clean_sentence(sentence)\n",
        "    sentence = stop_word(line)\n",
        "    return sentence\n",
        "\n",
        "data['Sentence'] = data['Sentence'].apply(process)\n",
        "data.head(10)"
      ]
    },
    {
      "cell_type": "code",
      "execution_count": null,
      "metadata": {
        "id": "CdWscUNsGfdd"
      },
      "outputs": [],
      "source": [
        "import os, re, csv, math, codecs\n",
        "from tqdm import tqdm"
      ]
    },
    {
      "cell_type": "code",
      "execution_count": null,
      "metadata": {
        "id": "U9uwECHAGr2i"
      },
      "outputs": [],
      "source": [
        "X = data['Sentence'].fillna('').tolist()\n",
        "X = [str(i) for i in X]\n",
        "y = np.array(data['category_id'])"
      ]
    },
    {
      "cell_type": "code",
      "execution_count": null,
      "metadata": {
        "colab": {
          "base_uri": "https://localhost:8080/",
          "height": 35
        },
        "id": "6Bl_hWHtG6xm",
        "outputId": "22ec854a-1aac-4f68-b9d2-88e1a1b245ba"
      },
      "outputs": [
        {
          "output_type": "execute_result",
          "data": {
            "application/vnd.google.colaboratory.intrinsic+json": {
              "type": "string"
            },
            "text/plain": [
              "'အနာဂတ် ဆိုသည်မှာ တစ်နှစ် နှစ်နှစ် သုံးနှစ် ဆိုလို'"
            ]
          },
          "metadata": {},
          "execution_count": 13
        }
      ],
      "source": [
        "X[500]"
      ]
    },
    {
      "cell_type": "code",
      "execution_count": null,
      "metadata": {
        "id": "781Vsry3HCc3"
      },
      "outputs": [],
      "source": [
        "RANDOM_STATE = 42\n",
        "\n",
        "text_train,text_test,y_train,y_test = train_test_split(X,y,test_size=0.2,random_state=RANDOM_STATE)\n",
        "\n"
      ]
    },
    {
      "cell_type": "code",
      "source": [
        "X"
      ],
      "metadata": {
        "colab": {
          "base_uri": "https://localhost:8080/"
        },
        "id": "RyVdxsVfVpTv",
        "outputId": "60b638a0-980b-4cc2-8eac-3bb8df313d81"
      },
      "execution_count": null,
      "outputs": [
        {
          "output_type": "execute_result",
          "data": {
            "text/plain": [
              "['အန်ဒရီယာ မာစီ အီတလီ စမ်းသပ်မှု တစ်ခု စတုတ္ထ မိနစ် အမှတ်ပေးခြင်း ဖွင့်လှစ်ပေးခဲ့သည်',\n",
              " 'ပေါ်တူဂီ ဘယ်သောအခါမှ စွန့်လွှတ်မှု မရှိခဲ့ ဒေးဗစ် ပန်နယ်ဗါ မိနစ် သူတို့၏ ကစားပွဲ အမှတ်များ အထောက်အကူပြု သည့် ကြိုးစားမှု တစ်ခု အမှတ်ရခဲ့ပါသည်',\n",
              " 'အီတလီ ပထမပိုင်း ဖြင့် ဦးဆောင်ခဲ့ ပေါ်တူဂီ ဒုတိယပိုင်း တော်တော်များများ ဂိုး အရေအတွက် ခဲ့သည်',\n",
              " 'သို့သော်လည်း ဘော်တိုလပ်စီ မော်ရို ဘာဂမ်မက်စကို ကြိုးစားမှုများ နှင့် အန်ဒရီယာ မာစီ ဒုတိယဂိုး နောက်ပိုင်း အီတလီ အနိုင်ရရှိ စေရန် သူ၏ စတုတ္ထမြောက် ကစားပွဲ ပယ်နယ်လ်တီ သွင်းယူပေးခဲ့သည်',\n",
              " 'နယူးဇီလန် ရမှတ် ကွာခြားချက် စကော့တလန်၏ ရှေ့မှ ရမှတ် ဆယ်မှတ် နှင့်အတူ အုပ်စု ဦးဆောင်နေသည်',\n",
              " 'အသေးစိတ်များကို မနေ့က ယူတီစီ အောက်လွှတ်တော် ဗြိတိန်နိုင်ငံ ပို့ဆောင်ရေး အတွင်းရေးမှူး ရုသ်ကယ်လီ ပေးခဲ့သည်',\n",
              " 'လွှတ်တော်အမတ်များ သူမ၏ ကြေငြာချက် ရုသ်ကယ်လီ ပျောက်ဆုံးခဲ့သော အချက်အလက်များ မည်သည့် ဘဏ်လုပ်ငန်း သတင်းအချက်အလက် မပါ င် သကဲ့သို့ တစ်ဦးချင်းစီ မွေးသက္ကရာဇ်များ မပါ င်ကြောင်း အတည်ပြုသွားခဲ့သည်',\n",
              " 'သူမသည် လုံခြုံရေးရာ ဆောင်ရွက်မှုများ ရယူခဲ့ကြောင်း နှင့် သိမ်းဆည်းထားခဲ့သော သတင်းအချက်အလက်များ စံသတ်မှတ်ထားသော နည်းလမ်းများ ဖြင့် အလွယ်တကူ အသုံးဝင်သော ဖတ်ရှုခွင့်ရသော ပုံစံ တစ်ခု အနေဖြင့် မဟုတ်ကြောင်း မီးမောင်းထိုးပြ ခဲ့သည်',\n",
              " 'လစ်ဘရယ် ဒီမိုကရက် ကိုယ်စားပြုထားသော ဆူဇန် ကရာမား အချက်အလက်များ စုဆောင်း အချက်အလက်များ ရရှိရန် သင့် အကြောင်း ပိုမိုသိရှိရန် ထိုမှတဆင့် အတူတကွ ဆက်သွယ် ဤကဲ့သို့ စဉ်ဆက်မပြတ် ကြိုးစားမှု ထည့်သွင်း စဉ်းစား ဆွေးနွေးမှု တစ်ခု ကျွန်ုပ် ထင်မြင်သည် တင်ပြသွားခဲ့သည်',\n",
              " 'လူးဝတ် ဆက်လက် မှတ်ချက်ပြုခဲ့သည် င်္သဘော အမှတ်အသားပြုခဲ့သည် အကောက်ခွန် မဟုတ်ခဲ့ကြောင်း သြစတြေးလျ ကုန်တင် င်္သဘော ဖြတ်သန်းခြင်း တစ်ခုသာ သို့ရာတွင် အယ်လစ်ဆန် လူးဝတ် စီးပွာဖြစ် ရေယာဉ်များ သြစတြေးလျ ရှာဖွေခြင်း အခွင့် မရှိသည် စဉ်းစားပါ ဆိုသည့် တင်ပြခြင်း ကိစ္စ ခုခံကာကွယ်ခဲ့ အယ်လစ်ဆန် ကျွန်တော်တို့၏ အရေးပေါ် အစီရင်ခံစာများ အားထား ထွက်ပါ သဘော ရှာပါ ဆိုခဲ့သည်',\n",
              " 'နယူး ဟမ့်ရှား ပြေးလမ်း လန်းနော့ အင်ဒတ်စ်ထရီရယ် တူး တနင်္ဂနွေနေ့ နက်စ်ကာ တာတို ဖလား ပွဲစဉ် ဒရိုင်ဘာ ဂျင်မီ ဂျွန်ဆန် ပြိုင်ပွဲရာသီ သူရဲ့ ဒုတိယ ဆက်တိုက် ပြိုင်ပွဲ အနိုင်ရခဲ့ပါတယ်',\n",
              " 'ယူအက်စ် ရှေ့ဆောင် အတတ်ပညာဆိုင်ရာ စတော့ ပွဲစဉ် သူရဲ့ ငါးကြိမ်မြောက် အောင်ပွဲ အများဆုံး အောင်ပွဲတွေ သူ့ကို ဒန်နီ ဟမ်လင် အဆင့်တူသွားစေပါတယ်',\n",
              " 'အဆင့်အတန်း ဟားဗစ် နှင့် ဂျွန်ဆန် ပထမ ဒုတိယ နေရာ ရှိနေပါတယ်',\n",
              " 'ဂျော်ဒန် ကတ်ဘွရှ် မက်ကန်ဆက် နှင့် ဘာတွန် ထိပ်ဆုံးရှစ်ဦး နေရာများ လိုက်နေပါတယ်',\n",
              " 'ဗိုလ် ပေါလု ဗာနွန် “ တိုက်ခိုက်မှု လူအများ ထိခိုက်ဒဏ်ရာ မရခဲ့တာ ကျွန်တော်တို့ ကံကောင်းတယ် ” ပြောခဲ့သည်',\n",
              " 'ဂရက် ဘစ်ဖဲ ဒဿမနေရာ ကျရောက်ခဲ့ သောကြောင့် စတိဝါဒ် ဒုတိယပွဲ ပြီးဆုံး ပြီးနောက် နေရာ တစ်ခု တက်သွား နဝမ နေရာ ရောက်ရှိပါတယ်',\n",
              " 'မားခ် မာတင် နှင့် ကားလ် အတ်ဝါဒ်စ် ထိပ်ဆုံး ဆယ့်နှစ်ဦး ပတ်လည်မှာရှိ ပြိုင်ကွင်း ထဲမှာ ရှိနေပါတယ်',\n",
              " 'ရန့်ဝစ် ခ် ပိတ်ထားခဲ့ ကြာကြာ ဆက်လက်ထိမ်းသိမ်းထား မျှော်လင့်ပါတယ်',\n",
              " 'တုတ်ကွေး အလွန် အလွယ်တကူ ကူးစက် လူသားများ မထုတ်လွှင့်နိုင်ပါ',\n",
              " 'စနေ တနင်္ဂနွေ အန်အက် စ် ဒဗလျူ နှင့် ကွင်း စ် လန်း ဒ် မှလွဲ၍ သြစတေးလျတိုက် ပြည်နယ်များ မြင်းပွဲ ပြန်စ မျှော်လင့်ပါတယ်',\n",
              " 'ဆစ်ဒနီ နွေဦးရာသီ မြင်းပွဲ ဖွင့်ပွဲ ဖျက်သိမ်း လိုက်စဉ်တွင် မဲ လ် ဘိုနီ စနေ တနင်္ဂနွေ ကော့ဖီး လ် ဖလားပွဲ နှင့် မျှော်လင့်ပါတယ်',\n",
              " 'ဗိုင်းရပ် စ် ကင်းစင်တဲ့ ပြည်နယ် ထားရှိ ကြိုးပမ်း ဒေသမှာ ကြိုတင်ကာကွယ်မှုများ ဖလားပွဲ ကျင်းပသွားလိမ့်မယ်',\n",
              " 'သြစတေးလျ မြင်းပွဲ အကြီးမားဆုံး နာမည်များ ပျောက်သွား မဲ လ် ဘိုနီ နွေဦးရာသီ ပွဲတော် အဓိကအားဖြင့် ပကတိအတိုင်း ဆက်လက် တည်ရှိနေ လိမ့်မယ်လို့ စိုက်ပျိုးရေး ဗဟိုအစိုးရ ဝန်ကြီး ပီတာ မက်ဂေါ်ရန် ပြောခဲ့ပါတယ်',\n",
              " 'ကားရပ်နား နေရာများ နှင့် ဝင်ပေါက်များ သံသယဖြစ်ဖွယ် လှုပ်ရှားမှုများ အနီးကပ် စောင့်ကြည့် လိမ့်မည်',\n",
              " 'အန်အက်ဖ်အယ်လ် ကြော်ငြာချက် တစ်ခု ထုတ်ပြန်ခဲ့ပြီး ထိုထုတ်ပြန်ချက်မှာ အားကစားကွင်းများ လုံခြုံရေး အစီအမံ ဖြင့် နေရာများတွင် ကောင်းစွာ ကာကွယ် ထားပြီး ဟူ၍',\n",
              " 'အစိုးရ ပြင်ဆင်ခြင်း ကော်မတီ အမည်ရတဲ့ ကော်မတီ သူ့ရဲ့ ပထမဆုံး တာဝန် ဖြစ်တဲ့ ကော်မတီ ဥက္ကဋ္ဌ ရွေးချယ်ခြင်း တနင်္လာနေ့ ခေါ်ယူခဲ့ပါတယ်',\n",
              " 'ကော်မတီ ရီပါဘလီကန် ပါတီ နှစ်ခု စင်းဖိန် အက်စ်ဒီအယ်လ်ပီ ယူနီယန်နစ်စ် ပါတီ နှစ်ခု ဒီယူပီ ယူယူပီ လူမျိုးမခွဲ မဟာမိတ် ပါတီ တို့ဖြင့် ဖွဲ့စည်းထားပါသည်',\n",
              " 'အဇမ်ဘလီ ပြောခွင့်ရပုဂ္ဂိုလ် အီလီယံ ဘဲလ် ဥက္ကဋ္ဌ ဖြစ်သင့်တယ် ဒီယူပီ အဆိုပြုခဲ့ပါတယ်',\n",
              " 'နိုဝင်ဘာ နောက်ဆုံးရက် နှစ်ပတ် တိုးပေး လန် ပေ့စ်လေ တနင်္လာနေ့ တောင်းဆိုခဲ့ပါတယ်',\n",
              " 'အိုင်အာအေ သူလျှို အဖွဲ့ စွပ်စွဲမှု ကြောင့် အောက်တိုဘာ ရပ်နားထားတဲ့ သူ့ရဲ့ အဇမ်ဘလီ အပြီးမှာ ဒါက ဗြိတိသျှ ဝန်ကြီးချုပ် တိုနီဘလဲ အိုင်ယာလန် ဝန်ကြီးချုပ် ဘာတီ အာဟန်း မြောက်ပိုင်း အိုင်ယာလန် အာဏာခွဲဝေရေး အစိုးရ တစ်ခု တည်ထောင် အစီအစဉ် တစ်စိတ်တစ်ပိုင်း',\n",
              " 'တကယ်လို့ အာဏာခွဲဝေရေး အစိုးရ အစီအစဉ် တစ်ခု နိုဝင်ဘာ မပြင်ဆင်ခဲ့ အိုင်ယာလန် သမ္မတနိုင်ငံ ဆီက ပိုကြီးတဲ့ အင်အား လန်ဒန် ကနေ တိုက်ရိုက် ဆက်လက် အုပ်ချုပ်မယ်',\n",
              " 'တကယ်လို့ အက်ပဲလ် မက် အိုအက်စ် တခြားသူတွေကို ဖွင့်ပေး ဆုံးဖြတ် ကျွန်တော်တို့ရဲ့ ဖောက်သည်တွေ ကမ်းလှမ်း ကျွန်တော်တို့က ပျော်ရွှင်မိမှာပါ ကစ်ပက်ထရစ်ဆီကို အီးမေးလ် ထဲမှာ ဒဲလ် ရေးခဲ့ပါတယ်',\n",
              " 'အမေရိကန်ပြည်ထောင်စု ဂျော်ဂျီယာပြည်နယ် လူနှစ်ယောက် “ ဒဏ္ဍာရီလာ မျောက်ဝံလူဝံများ ” အမဲလိုက်သောမုဆိုး ဖြစ်ရန် အခိုင်အမာဆိုနေ ယခုလ အစောပိုင်း ဒဏ္ဍာရီလာသတ္တဝါ အကြွင်းအကျန်များ တွေ့ရှိထားသည်ဟု ဆိုနေခြင်း အသေးစိတ် စီစဉ်ပြင်ဆင်ထားသော လှည့်ကွက် တစိတ်တပိုင်း ဖြစ်သည်ဟု သုတေသီများက',\n",
              " 'ဒဏ္ဍာရီလာသတ္တဝါ တစ်ကောင် အလောင်း ယူဆရသော အရာ င်းတို့ ရှာနေ ချိန်တွင် ဂျော်ဂျီယာ အရှေ့မြောက်ပိုင်း သစ်တော သတ္တဝါများ သူတို့ အမဲလိုက်ခဲ့ခြင်း ဖြစ်သည်ဟု ဒဏ္ဍာရီလာ မျောက်ဝံလူဝံများ အမဲလိုက်သောမုဆိုး ဖြစ်ကြသည့် မတ်ဝှစ်တွန် နှင့် ရစ်က်ဒရာ ခုနှစ် သြဂုတ်လ ရက်နေ့ အတည်တကျပြောဆို ရေးသားခဲ့သည်',\n",
              " 'နယူး ဟမ့်ရှား ပြေးလမ်း လန်းနော့ အင်ဒတ်စ်ထရီရယ် တူး တနင်္ဂနွေနေ့ နက်စ်ကာ တာတို ဖလား ပွဲစဉ် ဒရိုင်ဘာ ဂျင်မီ ဂျွန်ဆန် ပြိုင်ပွဲရာသီ သူရဲ့ ဒုတိယ ဆက်တိုက် ပြိုင်ပွဲ အနိုင်ရခဲ့ပါတယ်',\n",
              " 'ယူအက်စ် ရှေ့ဆောင် အတတ်ပညာဆိုင်ရာ စတော့ ပွဲစဉ် သူရဲ့ ငါးကြိမ်မြောက် အောင်ပွဲ အများဆုံး အောင်ပွဲတွေ သူ့ကို ဒန်နီ ဟမ်လင် အဆင့်တူသွားစေပါတယ်',\n",
              " 'ဂျော်ဒန် ကတ်ဘွရှ် မက်ကန်ဆက် နှင့် ဘာတွန် ထိပ်ဆုံးရှစ်ဦး နေရာများ လိုက်နေပါတယ်',\n",
              " 'ဂရက် ဘစ်ဖဲ ဒဿမနေရာ ကျရောက်ခဲ့ သောကြောင့် စတိဝါဒ် ဒုတိယပွဲ ပြီးဆုံး ပြီးနောက် နေရာ တစ်ခု တက်သွား နဝမ နေရာ ရောက်ရှိပါတယ်',\n",
              " 'မားခ် မာတင် နှင့် ကားလ် အတ်ဝါဒ်စ် ထိပ်ဆုံး ဆယ့်နှစ်ဦး ပတ်လည်မှာရှိ ပြိုင်ကွင်း ထဲမှာ ရှိနေပါတယ်',\n",
              " 'မဲဆန္ဒနယ် များစွာသော မတူကွဲပြားမှု အိမ်ထောင်စုများ တစ်ဝက် နည်းသော ပမာဏ အိမ် ပထမ ဘာသာစကား အင်္ဂလိပ်ဘာသာ တင်ပြထားသည် ပါရှိသည်',\n",
              " 'အီမာဆန် တတိယ သက်တမ်း ကြိုးစား လိမ့်မည် မဟုတ်ဟု ကြေငြာ ပြီးနောက် ဤ ကွဲပြားမှု ကိုးကားဖော်ပြခဲ့သည်',\n",
              " 'တကယ်တမ်း ကင်းစဝေး အလွန် အနိုင်ရနိုင်တဲ့ နေရာ ကွန်ဆာဗေးတစ် ဝန်ကြီးချုပ် ပြောကြားခဲ့ပါသည်',\n",
              " 'ကင်းစဝေး အလွန်တရာ လူကြိုက်များတဲ့ သူတစ်ယောက် ဖြစ်တာ ကြောင့် မဟုတ်ပေမယ့် မဲ ခွဲပြီး ဦးသူအနိုင်ရ စနစ် အလုပ်လုပ်တဲ့ ပုံစံ ကြောင့်ပါ',\n",
              " 'မဲ ခွဲရေး အဓိက လစ်ဘရယ် နှင့် အန်ဒီပီ ကိုယ်စားလှယ်လောင်း ခွဲခြားသည့် ကိစ္စများ',\n",
              " 'ကနေဒါ နိုင်ငံသား ခံယူထားသော ယွမ် လူဝင်မှုကြီးကြပ်ရေး ညှာတာမှု ပေးခြင်း ပြိုင်ပွဲ တိုင်းရင်းသား ဒေသတွေ သူမ၏ လူဝင်မှု သမိုင်းကြောင်းကို ဖော်ပြခဲ့သည်',\n",
              " 'အကန့်အသတ်ရှိတဲ့ နည်းလမ်းတွေ လာခဲ့တာပါ ဒါပေမယ့် ခက်ခက်ခဲခဲ ကြိုးစား အသိအမှတ်ပြုခဲ့ရ အောင်မြင်တဲ့ စီးပွားရေး လုပ်ဆောင်သူ အမျိုးသမီးတစ်ဦး ဖြစ်လာခဲ့ပါတယ်',\n",
              " 'နိုင်ငံခြား ပြောင်းရွှေ့လာသူတွေ သူတို့ လိုချင်တာ ဘာကို မဖြစ်မနေ ကျော်ဖြတ် ရမယ် ဆိုတာ နားလည်ပါတယ်',\n",
              " 'ကျွန်တော်တို့ ဒေသ ယဉ်ကျေးမှု ပေါင်းစုံ အထည် လေးစား ကျေနပ် သဘောကျ ကြိုက်ပါတယ် သူမရဲ့ အန်ဒီပီ ဆန့်ကျင်သူ ဒေးဗစ်စ် ပြောပါသည်',\n",
              " 'တီးမ်စတား ရှေ့နေ အစက အက်မွန်တန် ဖြစ်ပါသည် ဗန်ကိုဗာ အန်ဗာရွန်းစ် ခုနှစ်ကတည်းက နေလာခဲ့ပါသည်',\n",
              " 'ကွန်ဆာဗေးတစ်ပါတီ ကိုယ်စားလှယ်လောင်း ဆော်လမွန် ရေးရတ် သတင်းဌာန များစွာ သတင်းစာ ရှင်းလင်းပွဲ မေးမြန်းမှုများ ဖြေဆိုခဲ့ခြင်း မရှိပေ ထို့ပြင် မည်သို့ပင်ဆိုစေကာမူ ပါတီ ကိုယ်စားပြု ရွေးချယ်ခံရ နိုင်ချေ နည်းသော ကိုယ်စားလှယ်လောင်း ဆန်ကာတင် ကိုယ်စားလှယ်လောင်း တစ်ခု အနေဖြင့် ရည်ညွှန်းခံရသည်',\n",
              " 'ကင်းစ်ဝေး အနီးအနား ပတ်ဝန်းကျင် အသေးစား စီးပွားရေး အခန်းကဏ္ဍ သဘာဝ အင်အား အပြည့်အဝ ပေါ်မှာ တည်ဆောက် အလွန် ကောင်းတဲ့ နေရာ တစ်ခု တိုင်းရင်းသား နွယ်အရရော စီးပွားရေး ကွဲပြားမှု ရှိတဲ့ လူ့အဖွဲ့အစည်း ကျောထောက်နောက်ခံ တစ်ခု မြင်တယ်',\n",
              " 'အသစ် ရွေးကောက်ခံရတဲ့ လစ်ဘရယ် ဒေ့ဗ် အမ်မာဆန် အောက်ခြေ ဖြတ် ကွန်ဆာဗေးတစ် ဝန်ကြီးအဖွဲ့ ဆီကို တိုက်ရိုက် ပထမ နိုင်ငံတကာ ကုန်သွယ်ရေး ဝန်ကြီး ထို့နောက် မက်ဆင်း ဘာနီယာ နှုတ်ထွက် ပြီးနောက် နိုင်ငံခြားရေး ဝန်ကြီး ဖြစ်လာသောအခါ တိုက်ပွဲ စင်မြင့် ခုနှစ် တည်ဆောက်ခဲ့ပါသည်',\n",
              " 'အင်္ဂလန်နိုင်ငံ လန်ဒန်မြို့ နွေရာသီ မသန်မစွမ်းအိုလံပစ် အားကစားပြိုင်ပွဲ စတင်တော့မည်မှာ ရက်သတ္တပတ် မလိုတော့သည့် အချိန် ပါပူယာ နယူး ဂျီနီယာ၏ အားကစား ကိုယ်စားလှယ်အဖွဲ့ မိမိနိုင်ငံ၏ ထူးချွန်သော အားကစားသမား နှစ်ယောက်ဖြစ်သည့် ကစားသမား ဖရန်စစ်ကွမ်ပွန် နှင့် အလေးမသမား တီမိုသီဟာရဘီ ပံ့ပိုးပေးရန် ယနေ့ အစောပိုင်းတွင် လန်ဒန်မြို့သို့ ရောက်ရှိခဲ့သည်',\n",
              " 'ဝဝ ခုနှစ် နွေရာသီ မသန်မစွမ်း အားကစားပြိုင်ပွဲ မီတာ ပြိုင်ပွဲ ဒုတိယ သည့် ထိုပြိုင်ပွဲတွင် နိုင်ငံ ပထမဆုံး ဆုတံဆိပ်ရှင် ထိုက်ထိုက်တန်တန် ယှဉ်ပြိုင်ခဲ့ ပြီးနောက် ပြိုင်ပွဲများသည် ကွမ်ပွန် ဒုတိယအကြိမ်မြောက်',\n",
              " 'ကစားပွဲများ သူ၏ နိုင်ငံ အမြဲတမ်း ကိုယ်စားပြု ဆယ်ယောက်မြောက် မျှသာ ဖြစ်သော ကစားသမား ဟာရဘီ သူ၏ မသန်မစွမ်းအိုလံပစ် ကစားနည်းများ ပွဲဦးထွက် ကစားနေသည်',\n",
              " 'ဗြိတိန်နိုင်ငံ ကော်မရှင်အဖွဲ့ င် မဟာမင်းကြီး ဖြစ်သော ဂျက်ကီ ဘာစန် အမ်ဘီအီး ပါပူယာ နယူး ဂျီနီယာ ကစားသမား နှစ်ဦးလုံး “ ကမ္ဘာ့ အဆင့်အတန်းမှီ မသန်မစွမ်း ကစားသမား နှစ်ယောက် ဖြင့် ကိုယ်စားပြုထား သဖြင့် ထိုအရာသည် ပီအန်ဂျီ ကြီးမားသော အောင်မြင်မှုကြီး တစ်ခု ” စာဖြင့် ရှင်းလင်း ထုတ်ဖော်ပြော ကစားသမား နှစ်ဦးလုံး ကောင်းစွာ ဆန္ဒပြုခဲ့သည်',\n",
              " 'ပီအန်ဂျီ မသန်မစွမ်းအိုလံပစ် အားကစားပြိုင်ပွဲ ကော်မတီ ဥက္ကဌ ဘားနက် ချန်း ကလည်း နိုင်ငံ ကစားသမားများ “ သူတို့ဟာ ပီအန်ဂျီ အကောင်းဆုံး သံတမန်များ ဖြစ်လာလိမ့်မယ် ဖရန်စစ် တီမိုသီ နှစ်ယောက်လုံး အားကစားသမားများ ကြိုးကြိုးစားစား သင်ယူ လှုံ့ဆော်နိုင် င်းတို့ရဲ့ ယှဉ်ပြိုင်နေစဉ် အတောအတွင်း မသန်မစွမ်းအိုလံပစ် ပြိုင်ပွဲ အဆင့် ပီအန်ဂျီ ကိုယ်စားပြု မျှော်လင့်ပါတယ် “ ပြောကြားခြင်း ဖြင့် ဂုဏ်ပြုခဲ့သည်',\n",
              " 'ပါပူယာ နယူး ဂျနီယာ မသန်မစွမ်း အိုလံပစ်အားကစား ကိုယ်စားလှယ်အဖွဲ့ တခြားသော အဖွဲ့ င်များ ပီအန်ဂျီ မသန်မစွမ်း အိုလံပစ်အားကစား ကော်မတီ ဥက္ကဌ ဘားနက် ချန်း ချက်ဖ် မစ်ရှင် ဒေါက်တာ ကီဖူ အဖွဲ့ မန်နေဂျာ ရို့စ်မယ်ရီ မွှေး ဒဗီနာ ချန်း ဥက္ကဌ ဇနီး ကော့ချ် ီလီယမ် အမ်စီကန်နီ နှင့် ရုံးအရာရှိ ဂျက်ဖရီ ရော်ဘီ င်ကြသည်',\n",
              " 'အိန္ဒိယနိုင်ငံ စီးပွားရေး ဘဏ္ဍာနှစ် ဒုတိယ လေးလပတ် ဇွန်လိုင် စက်တင်ဘာ ရာခိုင်နှုန်း ပြီးခဲ့သော တူညီသော လေးလပတ် ရာခိုင်နှုန်း တိုးတက်ခဲ့သည်',\n",
              " 'အာရှ စတုတ္ထ အကြီးဆုံး စီးပွားရေး လေးလပတ် တစ်နှစ်တာ တိုးတက်မှုနှုန်း လေးလပတ် ဧပြီ ဇွန် တစ်နှစ်တာ တိုးတက်မှုနှုန်း ပိုမိုမြင့်မားပြီး ထိုနှုန်းမှာ ရာခိုင်နှုန်းထိ ဖြစ်ခဲ့သည်',\n",
              " 'အိန္ဒိယ၏ နှစ်စဉ် စီးပွားရေး တိုးတက်နှုန်း လွန်ခဲ့သော ဘဏ္ဍာနှစ် ပျှမ်းမျှ ရာခိုင်နှုန်းအထိ ရှိပြီးဖြစ်သည်',\n",
              " 'ဗဟို စာရင်း အဖွဲ့အစည်း စစ်မှန်သော နယ်မြေ နှင့် ဆက်သွယ်နိုင်ရေး ဦးတည်သော န်ဆောင်မှုများ လေးလပတ် မျှော်လင့်မထားသော တိုးတက်မှု ရာခိုင်နှုန်းအထိ ရှိခဲ့သည်ဟု မှတ်တမ်းတင်ခဲ့သည်',\n",
              " 'ဂျီဒီပီ ရာခိုင်နှုန်း ပံ့ပိုးသော ထုတ်လုပ်မှု အပိုင်းကဏ္ဍ လွန်ခဲ့သော ရာခိုင်နှုန်း နှင့် နှိုင်းယှဉ်လျှင် တူညီသော လေးလပတ် တိုးတက်နှုန်း ရာခိုင်နှုန်း ဖြစ်သည်ဟု မှတ်တမ်းတင်ခဲ့သည်',\n",
              " 'အောက်တိုဘာ ရက်နေ့ ရာခိုင်နှုန်း မပြောင်းလဲရှိခဲ့သော အပြန်အလှန် ပိုင်ဆိုင်မှု နှုန်း ထိန်းသိမ်းနေသော အိန္ဒိယနိုင်ငံ ဗဟိုဘဏ် ပိုင်ဆိုင်မှု နှုန်း ရာခိုင်နှုန်းမှ ရာခိုင်နှုန်းအထိ မြင့်မားခဲ့သည်',\n",
              " 'သူ့ရဲ့ စွန့်ခွာခြင်း ခုနှစ် ဒိုင်းဖန့်ဘေကာ မြေပြိုမှု ကာလအတွင်း သူ့ရဲ့ ဖန်တီးမှု ခုနှစ်ကတည်းက ပရိုဂရက်ဆစ် ကွန်ဆာဗေးတစ် ကိုယ်စားလှယ်လောင်း တစ်ကြိမ် တည်းသာ ရွေးချယ်ခဲ့ အမာခံ လက်ဝဲ ယိမ်း ဒေသ အတွင်းမှာ ဒေသတွင်း အငြင်းပွားစရာ မီးမုန်တိုင်း တစ်ခု မွှေနှောက်စေခဲ့သည်',\n",
              " 'ကော်မတီ စုံစမ်းစစ်သူများ လန်ဒန် ပို့ခြင်း စုံစမ်းစစ်ဆေး ချက်များ အခြားနည်း ဖြင့် ပုံနှိပ် ချင်တယ် မှတ်ထား “ ကျွန်တော့် အကျင့် အဲဒီအချိန် ထိုကဲ့သို့ တစ်စုံတစ်ခု ပြုလုပ်ရန် “ ကွန်ရာ ပြောခဲ့သည်',\n",
              " 'စုံစမ်းမှု ဆုံးဖြတ်ချက် အထူးအခွင့်အရေး ဆုံးဖြတ်ချက် တစ်ခုဖြစ်ပြီး ဆိုလိုသည်မှာ ဥပဒေ ပြဋ္ဌာန်း ပြီးနောက် ရက်အတွင်း မဆောင်ရွက် ခဲ့လျှင် ညီလာခံ အဖွဲ့ဝင် မဲ တစ်မဲ လွတ်တော် တောင်းဆို ခေါင်းစဉ်တပ်ခဲ့သည်',\n",
              " 'ကော်မတီ လုပ်ငန်းများ ဆက်လက် လုပ်ဆောင်မည် သြဂုတ်လ ရပ်နားချိန် မတိုင်မီ မဲပေးနိုင်ပါသည်',\n",
              " 'ခိုင်မာသော အရိုး တည်ဆောက်ခြင်း လူ့ ခန္ဓကိုယ် အတွင်းမှာ ဗီတာမင်ဒီ အများကြီး အသုံးပြုနိုင်ပါတယ် ကနေဒါနိုင်ငံ မက်ဂဲ တက္ကသိုလ် အလုပ်လုပ်နေသော သိပ္ပံပညာရှင် နှစ်ယောက် သူတို့၏ သုတေသန နှင့် သိပ္ပံပညာရှင်များ၏ သုတေသန အချက်အလက်တွေကို အမေရိကန် သိပ္ပံသတင်း ဖေါ်ပြထားပါသည်',\n",
              " 'သိပ္ပံပညာရှင်များ ဖြစ်သော လူဇ်အိထဘရမမ်ဒိုဇာ နှင့် ဂျွန်အိုက်ဝိုက် ဗီတာမင်ဒီ စားခြင်း ကင်ဆာ နာတာရှည် အမျိုးမျိူး ဆီးချို နှင့် တီဘီ တုတ်ကွေး နှင့် အူမကြီးရာဂါများ ကြိုတင် ကာကွယ် နိုင်ခြင်း ကောင်းကျိုးများ ရရှိနိုင်ပါသည်',\n",
              " 'ဆောင်းဥတု အဲဒီနောက်ပိုင်းတွင် နေရောင်ခြည် လျော့နည်းမှု နှင့် အပြင်ထွက်ချိန် လျော့နည်းမှု ကြောင့် အထူးသဖြင့် အပူချိန် ဒေသ လူဦးရေ၏ တော်တော်များများ သူတို့၏ ခန္ဓာကိုယ် ထဲတွင် ဗီတာမင်ဒီ အဆင့် ကျန်းမာရေး အကောင်းဆုံး ပြင်းအား အောက်တွင် ရှိကြောင်း ကျွမ်းကျင်သူများ ကြားတွင် “ ကျယ်ပြန့်သော သဘောတူညီမှု ” တစ်ခု ထွက်ပေါ်လာတယ် သုတေသီများက',\n",
              " 'နယူး မက်ဆီကို အုပ်ချုပ်ရေးမှူး ဟောင်း ဂယ်ရီ ဂျွန်ဆင် နယ်ဗားဒါး ပြည်နယ် လတ်စ်ဗီးဂတ်စ်ရှိ စနေ လေဘာတီ အမျိုးသားညီလာခံ အမေရိကန်ပြည်ထောင်စု လေဘာတီပါတီ သမ္မတလောင်း လျာထားခြင်း လက်ခံခဲ့သည်',\n",
              " 'ရီပါဗလီကန် ပါတီဝင် တစ်ယောက် အနေဖြင့် ဂျွန်ဆင် နယူး မက်ဆီကို အုပ်ချုပ်ရေးမှူး ခုနှစ်တွင် ရွေးချယ်ခံရ ခုနှစ်တွင် ပြန်လည် ရွေးချယ်ခံခဲ့ရသည်',\n",
              " 'ခုနှစ် ရီပါဗလီကန် သမ္မတလောင်း ရွေးကောက်ပွဲ လေဘာတီပါတီ ခုနှစ် သမ္မတရွေးကောက်ပွဲ လျာထားသူ အလောင်းအလျာ လွှတ်တော်အမတ် ရွန် ပေါလ် ဂျွန်ဆင် ထောက်ခံပံ့ပိုးခဲ့သည်',\n",
              " 'ခုနှစ်တွင် ရီပါဗလီကန် ပါတီ လျာထားသူ နိုင်ငံခြားရေးရာ မစွက်ဖက်ခြင်း နှင့် ဖက်ဒရယ် ဘတ်ဂျက်ကို များစွာ လျှော့ချခြင်း အခြေခံ ပေါ်တွင် ရှာဖွေ ကိုယ်ပိုင် သမ္မတရွေးကောက်ပွဲ မဲဆွယ်ပွဲ ရွေးချယ်ခဲ့သည်',\n",
              " 'ဂျိမ်းစ် ပီ ဂရေး သူ့ရဲ့ ယှဉ်ပြိုင် လျာထားရန် ပါတီ အကြံပေးခဲ့သည် သူတို့ လက်ခံခဲ့ ဂရေး ဒုတိယ သမ္မတလောင်း ရွေးချယ်ခဲ့သည်',\n",
              " 'ဂရေး ကယ်လီဖိုးနီးယား ပြည်နယ် လိမ္မော်ရောင် ခရိုင် အမှုစစ် တရားသူကြီး ခုနှစ်ကတည်းက တာဝန်ထမ်းဆောင်ခဲ့သူ ဂျူရီလူကြီး ဖြစ်ပါသည်',\n",
              " 'ခုနှစ်တွင် ညီလာခံ ရီပါဗလီကန် အနေနှင့် ပါဝင်ခဲ့ ကယ်လီဖိုးနီးယား အမေရိကန်ပြည်ထောင်စု လွှတ်တော် လေဘာတီပါတီ ခုနှစ် ကိုယ်စားလှယ် ဖြစ်ခဲ့သည်',\n",
              " 'သူ့ရဲ့ ရေးသားချက်များ နှင့် မီဒီယာ ဖော်ပြချက်များ ဂယ်ရီ မူးယစ်ဆေးဝါး ဆန့်ကျင်ရေး စစ်ပွဲများ ဆန့်ကျင်ခြင်း ထောက်ခံအားပေးခဲ့သည်',\n",
              " 'ခုနှစ် ပြည်နယ် လျှို့ဝှက်မဲပေးစနစ် ပေါ်တွင် ပေါ်ပြူလာ မဲ၏ ရာခိုင်နှုန်း ဘား အနိုင်ရရှိခြင်း ဖြင့် လေဘာတီပါတီ ပေါ်ထွက်လာသည်',\n",
              " 'မကြာသေးမီက အများပြည်သူဆိုင်ရာ မူဝါဒ မဲဆန္ဒ စစ်တမ်း ပီပီပီ တစ်ခု သမ္မတ ဘားရတ်အိုဘားမား မှန်ကန်တဲ့ ရီပါဗလီကန် ကိုယ်စားလှယ်လောင်း မစ် ရွန်မ်နေ ယှဉ်ပြိုင်ခြင်း ဂျွန်ဆင် နိုင်ငံ ရာခိုင်နှုန်း ထောက်ခံမှု ဖြင့် ဖော်ပြသည်',\n",
              " 'နယူး မက်ဆီကို သုံးဦး ပြိုင်ပွဲ ဂျွန်ဆင် ရာခိုင်နှုန်း ထောက်ပံ့မှု ဖြင့် ဒီဇင်ဘာ ပီပီပီ မဲဆန္ဒ ဖော်ပြသည်',\n",
              " 'မလေးရှား ပရီမာ မီဒီယာ ပိုင်ဆိုင်သော အစောဆုံး သတင်းစာ အဖွဲ့အစည်း အစိုးရ ပါတီ ဦးဆောင်သော မလေး ပြည်ထောင်စု အမျိုးသား အဖွဲ့အစည်း လွှဲပြောင်းယူခဲ့သည်',\n",
              " 'မလေးရှား တင်းကျပ်တဲ့ မီဒီယာ ဥပဒေတွေ ရှိသော်လည်း သူတို့ဟာ အီလက်ထရောနစ် မီဒီယာ ပိုသစ်သော ပုံစံများ ထိရောက်မှု နည်းစွာ လုပ်ဆောင်ပါတယ်',\n",
              " '“ အစိုးရ ဆန့်ကျင်မှု ” နှင့် အငြင်းပွားဖွယ် ယူဆရ သည့် အကြောင်းအရာများ ဖြန့်ဝေ သည့် ဘလော်ဂါများ အပြစ်ပေး သကဲ့သို့ ၎င်း၏ မီဒီယာ ဥပဒေ ပြင်ဆင်ချက် ပြုလုပ်ရေး အာဏာရ ညွန့်ပေါင်းအဖွဲ့ ဦးဆောင် အဖွဲ့ဝင်များ ဖြစ်သော ဘရစ်စန် နေရှင်နယ် အမျိုးသားတစ်ဦး အကြံပေးခဲ့ရပါသည်',\n",
              " 'ဖယ်ကတ်သည် စကော့တလန် ဘော်လုံးပွဲ ဒုတိယ အဆင် ရှိခဲ့တာ ဒါဟာ ပထမဆုံးအကြိမ်',\n",
              " 'ဖယ်ကတ် အားဖြင် ရရှိမယ် အစား ကယ်မာနော့ ဉီးစွာ ဒွာဒဿမ နေရာ မှတ် ရှင်းရှင်းလင်းလင်း ရရှိခဲ့ပါသည်',\n",
              " 'နေရာ မှာရှိတဲ့ အသင်း အဆင် ချခံရ လိမ် မဲနှိုက်ခြင်း တစ်ခု သာလျှင် လိုအပ်ပြီး ကယ်မာနော့ နှေးကွေး ခံစစ်ဆန်သော ကစားခဲ့ပါသည်',\n",
              " 'ဖယ်ကတ်သည် စကော့တလန် ဘော်လုံးပွဲ ဒုတိယ အဆင် ရှိခဲ့တာ ဒါဟာ ပထမဆုံးအကြိမ်',\n",
              " 'တိုက်ခိုက်မှု ကာကွယ် များစွာသော ကြိုးပမ်းမှု ဆောင်ရွက်ချက်များ ချမှတ်ခြင်း ဖြင့် ဂိမ်း တစ်ခုလုံး ပစ်မှတ် ပေါ်မှာ ပစ်ချက် နှစ်ခု ရွေးချယ်မှု လူစာရင်း အများစု အသင်း တစ်ခုစီ ခံစစ် လိုင်း ဦးတည်ခဲ့ပါသည်',\n",
              " 'ဖယ်ကတ်သည် ပထမ တဝက် ပိုင်ဆိုင်မှုအရ အသာစီး နေစဉ် ပြိုင်ပွဲ ဒုတိယပိုင်း လာပါသည်',\n",
              " 'ငယ်ရွယ်သော အလယ်တန်းလူ ကိ်ုက် ဘော်လုံး ကန်တင်လိုက် ရိုင်ယန် ဖလင်း ကြောင့် ဘော်လုံး ဂိုး မရရှိပဲ ကျရောက်သွားခဲ့ သောအခါ မိနစ် ဖယ်ကတ်သည် ပြိုင်ပွဲကို အောင်နိုင် ကြီးမားသော အခွင့်အရေး ရရှိခဲ့ပါသည်',\n",
              " 'ရိုးသားမှု ဘယ်သူ့ ငါ အကြံမပေးခဲ့ဘူး သိတယ်နော်',\n",
              " 'ကျွန်တော်တို့ တန်ပြန် တိုက်စစ် အခွင့်အရေး တစ်ရပ် ရှိခဲ့ပြီး ကျွန်တော်တို့ မယူခဲ့ဘူး နောက်ပီးတော့ လူငယ် ဖလင်း အခွင့်အရေး ကြီးမြတ်သော လက်ဆောင် လက်လွတ်ခဲ့ မိနစ် မိနစ် ဖြစ်တယ်လို့ ထင်တယ်',\n",
              " 'သိပါတယ် ဒါဟာ စိတ်လှုပ်ရှားစရာ နေ့ပါပဲ ငါတို့ ခါးသီးစွာ စိတ်ပျက်ခဲ့တယ် ဒါပေမယ့် ကစားသမား အုပ်စု ဆီက တစ်ခါ ထပ်ပြီး ငါ မတောင်းဆိုနိုင်ဘူး ဖယ်ကတ် မန်နေဂျာ စတီဗင်ပရက်စလေ လည်းပဲ ရေဒီယို စကော့တလန် ပြိုင်ပွဲ သူ့ရဲ့ အမြင် ပြောခဲ့ပါတယ်',\n",
              " 'ကျွန်တော်တို့ ပြောနေတဲ့ အရာတွေ စိတ်ကူးတွေ ကြိုးစားမှုတွေ အသုံးချမှုတွေ အလျှံပယ် ရှိနေပါတယ်',\n",
              " 'ဒါဟာ မန်နေဂျာ တစ်ယောက် ပရက်စလေ ပထမ ရာသီ ဖြစ်ခဲ့ပြီး အဆင့် သူ့ရဲ့ အတွေ့အကြုံ မေးခွန်း ခံခဲ့ရ ငါ အဲ့ဒါ သဘောကျတယ်',\n",
              " 'စိတ်လှုပ်ရှားစရာ တစ်နေ့ ဖြစ်ခဲ့ သုံးလ ကြီးကြပ်မှု ဒါဟာ အကောင်းဆုံး အတွေ့အကြုံ ဖြစ်ခဲ့ပါတယ်',\n",
              " 'အဲ့ဒါ အလွန် ကျေနပ် ကျွန်တော်တို့ ရာသီ သေချာစွာ တည်ဆောက် နိုင်မယ် မျှော်လင့်ပါတယ်',\n",
              " 'အလင်း နှစ်ပေါင်း အကွာအဝေး လောက်မှာ ဂျီအက်စ်စီ ကြယ် လှည့်ပတ်နေသော အကြီးမားဆုံး နေစကြဝဠာ အပြင်ဘက် ဖြစ်သော ဂြိုလ် အတ်စ်ဇိုပလန်းနစ် ရှာဖွေတွေ့ရှိ ခဲ့ပါသည်',\n",
              " 'ကြီးမားတဲ့ ဂြိုလ်တွေ ဘယ်လောက်တောင် ကြီးမား နိုင်မလဲ ဆိုတာ ကျွန်တော်တို့ ဆက်လက် အံ့အားသင့်နေရပါတယ် တီအာအီးအက်စ် အဝေး ကြည့် ပြောင်း တစ်ခု လုပ်ကိုင်နေ ကယ်လီဖိုးနီးယား နည်းပညာတက္ကသိုလ် နက္ခတ်ဗေဒ ဘာသာရပ် ဘွဲ့လွန် ကျောင်းသား တစ်ယောက် ဖရန့်စစ် ဒိုနိုဗန် ပြောခဲ့ပါတယ် ဒါပေမယ့် သူတို့ရဲ့ ကြမ်းတမ်းသော ပတ်ဝန်းကျင်များ ဖောင်းပွလာတဲ့ ဂြိုလ်များ အရွယ်အစားများ ကျွန်တော်တို့ ရှင်းပြနိုင်မယ် ဆိုရင် ကျွန်တော်တို့ရဲ့ ကိုယ်ပိုင် နေစကြဝဠာ စနစ် ဂြိုလ်များ နှင့် သူတို့ရဲ့ ဖြစ်ပေါ်လာမှု ကျွန်တော်တို့ နားလည် အကူအညီဖြစ်စေပါမယ်',\n",
              " 'ဒါပေမယ့် သူတို့ရဲ့ ကြမ်းတမ်းသော ပတ်ဝန်းကျင်များ ဖောင်းပွလာတဲ့ ဂြိုလ်များ အရွယ်အစားများ ကျွန်တော်တို့ ရှင်းပြနိုင်မယ် ဆိုရင် ကျွန်တော်တို့ရဲ့ ကိုယ်ပိုင် နေစကြဝဠာ စနစ် ဂြိုလ်များ နှင့် သူတို့ရဲ့ ဖြစ်ပေါ်လာမှု ကျွန်တော်တို့ နားလည် အကူအညီဖြစ်စေပါမယ်',\n",
              " 'ခုနှစ် စိတ်ကူးယာဉ်မဟုတ်သော စာအုပ် တစ်အုပ် မြင့်မြတ်သော သွေး နှင့် မြင့်မြတ်သော ခွက် တတိယ စာရေးဆရာ တစ်ယောက် နှင့်အတူ ပူးတွဲ ခဲ့သူ မိုက်ကယ် ဘိုင်ဂျန့် နှင့် ရစ်ချတ် လိတ်ဂျ် အဲ့ဒီ မြင့်မြတ်သော သွေး နှင့် မြင့်မြတ်သော ခွက် ဇာတ်လမ်း ဒန် ဘရောင်း ခိုးယူခံခဲ့ရသည် အခိုင်အမာ ပြောဆို တရားရုံး သို ဗစ်ချီ ကုတ် ထုတ်ဝေသူ ကျပန်း အိမ် ခေါ်ဆောင်သွားခဲ့သည်',\n",
              " 'စာအုပ် အုပ် အဓိက ဆိုလိုရင်း ဂျီးဆပ် နှင့် မာရီ မက်ဒလင် လက်ထပ်မှု တစ်ခု သွေးလိုင်း ယနေ့ အသက်ရှင်နေကြသည် ဖြစ်ပါသည်',\n",
              " 'ဗင်ချီ ကုဒ် စိတ်ကူးယဉ် စာအုပ် တစ်အုပ် ြဖစ် တစ်ကမ္ဘာလုံး ထုတ်ဝေမှု မိတ္တူ သန်းကျော်',\n",
              " 'ဗာဂျီးနီးယား လန်ဂလေ အနီးရှိ စီအိုင်အေ ရုံးချုပ် ဦးတည်သည့် လောင်ဂျီတွဒ် နှင့် လတ္တီတွဒ် ကိုသြဒိနိတ်များ ဝတ္ထု ဖုန်ရှိသော အဖုံး ရှင်းလင်းစွာ ထည့်သွင်းထားသည်',\n",
              " 'နယူးဇီလန် နိုင်ငံ စိန့် ဂျော့ ဂရီနာဒါ ခရစ်ကက် အမျိုးသား အားကစားရုံ ကမ္ဘာ့ ဖလား အဆင့် တောင်အာဖရိက ဝစ်ကက် ဖြင့် အနိုင်ယူခဲ့သည် ဩစတြေးလျ သီရိလင်္ကာ နိုင်ငံ နှင့် အမည်မသိ အသင်း တစ်ခု နှင့်အတူ ဆီးမီးဖိုင်နယ် သူတို့၏ နေရာ သေချာစေသည်',\n",
              " 'တောင်အာဖရိက သူတို့၏ တိုးတက်မှု သေချာစေ သူတို့၏ လာမည့် ကစားပွဲ အင်္ဂလန် အနိုင်ယူ ရှိလိမ့်မည်',\n",
              " 'ဟောလိုးဝင်း ညမှာ ပြပွဲ အကြောင်းထူး တစ်ခု မိနစ် ကျရောက်လာခဲ့ပါတယ်',\n",
              " 'ဒါဟာ အလုပ် ဖြစ်ခဲ့ သောကြောင့် ဖြေဖျော်ပွဲ ထောင်ချီသော လူစု ပျော်ရွှင်သင့်တယ် ဒက်ချ်ဘုတ် အလင်း ဖြင့် ကောင်းကင်ဘုံ ဖွင့်ပွဲ အတွင်းမှာ အကြံပြုခဲ့ပါတယ်',\n",
              " 'သီချင်း ပထမ အကြောင်းကို သီဆို ကြိုးစားခဲ့ အဲ့ဒီအစား “ အမျိုးသမီးများ နှင့် အမျိုးသားများ ခင်ဗျာ ခင်ဗျားတို့ ချစ်တယ် လာတဲ့ ခင်ဗျားတို့ ကျေးဇူးတင်ပါတယ် ဒါပေမယ့် ဆက်လက် ရပ်တည် တော့ပါဘူး ” ပြောခဲ့ပါတယ်',\n",
              " 'ရုပ်ထု ဖယ်ရှားခဲ့ လက်ရှိတွင် အကောက်ခွန် ဌာန စီအန်အီးဒီ ထိန်းသိမ်းရေး ရှိနေပါသည်',\n",
              " '၎င်း၏ အခြေခံဥပဒေ တစ်စိတ်တစ်ပိုင်း ဟောင်ကောင်သည် တရုတ်နိုင်ငံ စနစ် နှစ်ခု သဘောတူညီချက် အခြေကျမှု နှင့် တိုင်းပြည် တစ်ခု ဥရောပ ပုံစံ လွတ်လပ်မှု ပျော်ရွှင်ခံစား ဖွဲ့စည်းထားသည်',\n",
              " 'ဇူလီယာ ဗင်နီဇွဲလား ရေနံ နှင့် သဘာဝဓာတ်ငွေ့ အရန်များ ကြီးမားသော အပိုင်း တစ်ခု ရှိပြီး အမေရိကန်ပြည်ထောင်စု မိတ်ဆွေ တစ်ယောက် အုပ်ချုပ်ရေးမှူး မန်နျူရယ် ရိုဆေးစ် အုပ်ချုပ်ပါသည်',\n",
              " 'နယ်ချဲ့များ ဒေသတွင်း ရေနံ ထိန်းချုပ်ထား ရည်ရွယ်ချက်ဖြင့် သီးခြားခွဲထွက်ရေး လှုပ်ရှားမှုကို ဖြစ်ပေါ် ခွန်အား ကြိုးစားလာကြတယ် ပြောခဲ့ပါတယ်',\n",
              " 'လွန်ခဲ့တဲ့ စနေနေ့ ဩစတြေးလျ ကွင်းစလန်းဒ် ဆန်းရှိုင်း ကို့စ် အားကစားရုံ ရပ်ဂ်ဘီ ပြည်ထောင်စု နိုင်ငံ ယှဉ်ပြိုင်တာ ဝီကီသတင်းများ မျက်မြင်တွေ့ခဲ့ပါသည်',\n",
              " 'မကြာမီ ဆန်းရှိုင်း ကို့စ် စတင်းဂရေးစ် နှင့် တူးဝမ်းဘာ စစ်တပ် အကြား အမျိုးသမီးတစ်ဦး ရှုပ်ထွေးခက်ခဲသော ယှဉ်ပြိုင်မှု ဆက်လက် တိုးတက် ခဲ့ပါသည်',\n",
              " 'ဆန်းရှိုင်း ကို့စ် ပြိုင်ပွဲ မှတ် မှတ် ခြားနားချက် မှတ် ဖြင့် အနိုင်ရခဲ့ပါသည်',\n",
              " 'တက္ကသိုလ် အသင်း နှင့် ကလွန်းဒြာ အသင်း ဒေသဆိုင်ရာ အေ အဆင့် ပြိုင်ပွဲကို အမျိုးသမီး ကစားပွဲ ပြီးနောက် ချက်ချင်း နီးပါး စတင်ခဲ့သည်',\n",
              " 'ကလွန်းဒြာ အသင်း ကြိုးပမ်းမှု ပုံစံသစ် တစ်ခု နှင့်အတူ မိနစ် ကြာပြီးနောက် ရှေ့သို့ ဆက်၍ တက်သွားကြသည်',\n",
              " 'တက္ကသိုလ် အသင်း အရှိန်အဟုန် မရခင် ထိုအသင်း ဒုတိယ တစ်ဝက် အစောပိုင်းတွင် မှတ် ဖြင့် ဦးဆောင်နေပါလိမ်မည်',\n",
              " 'တက္ကသိုလ် အသင်း နာရီဝက် မှတ် မှတ် ရသွားခဲ့သည်',\n",
              " 'ထိုအသင်း နှစ်ဖက် အသင်းများ ဆိုင်ထားစဉ် ဆန်းရှိင်းကိုစ် အသင်း ကောင်းမွန်သော ဆန့်ကျင် တုန့်ပြန်ချေပချက် နှင့် ကန်ချက်များ ကြောင့် အနိုင်ရခဲ့သည်',\n",
              " 'ရေဒီယို ရုံးများ အဖွဲ့အစည်းများ အိန္ဒိယ အလုပ်လုပ်ကိုင် ပြည်ထောင်စု အစိုးရ၏ ထောက်ခံမှု ရရှိခဲ့ပြီး ဝန်ကြီးများအဖွဲ့ ဂျီအိုအမ် ဖွဲ့စည်းခဲ့သည်',\n",
              " 'တက္ကသိုလ်များ မှတ်ပုံတင်ထားသော အာမခံလုပ်ငန်းများ အရပ်ဖက် လူ့အဖွဲ့အစည်းများ နှင့် အန်ဂျီအို အဖွဲ့ ရုံးများ လုပ်ကိုင်ရန် ခွင့်ပြုထားသည် ဆိုတာကို ဂျီအိုအမ် အဆိုပြုတင်ပြခဲ့သည်',\n",
              " 'သုံးလ အတောအတွင်း လိုအပ်တဲ့ ရှင်းလင်းမှုများ ပေးနိုင်လိမ့်မည် ဟူသော အာမခံချက် နဲ့အတူ ထိုကဲ့သို့သော ကွန်ယက်များ တရားဝင်ခွင့်ပြု ဝင်းဒိုး ရှင်းလင်းမှုများ စနစ် တစ်ခု င်း ကလည်း အဆိုပြုခဲ့သည်',\n",
              " 'ထုတ်လွှင့်မှု နာရီ စီးပွားရေး ကြောငြာခြင်း မိနစ် ထိအောင် ရေဒီယို အဖွဲ့အစည်း ခွင့်ပြု ဂျီအိုအမ် ကလည်း အဆိုပြုခဲ့သည်',\n",
              " 'ဝန်ကြီးများအဖွဲ့ မတိုင်ခင် ထားခဲ့ အဆိုပြုချက် အခက်အခဲများ ဉီးတည် နိုင်လိမ့်မည် ဖြစ်နိုင်ချေ',\n",
              " 'ပုဂ္ဂလိက အက် ဖ် အမ် သတင်း ထုတ်လွှင့်မှု လိုင်း အများစု ပြိုင်ဆိုင်မှုများ ပို၍ ရင်ဆိုင် စိတ်ကူး ခြုံကြည့်လိုက်ရင် အဆင်ပြေမယ် ထင်ရသည်',\n",
              " 'ဝီကီပီးဒီးယား တရုတ်ဘာသာ ဗားရှင်း ဖွင့် ပြောနေသော ဝဘ်ဆိုဒ် တစ်ခု ကိုးကားထားသော ဝီကီမီဒီယာ ဖောင်ဒေးရှင်း စာပို့ စာရင်းတွင် အစီရင်ခံစာ ဖော်ပြထားခဲ့သည်',\n",
              " 'ဝီကီသတင်းများ တရုတ် ဝီကီပီးဒီးယား ဝင်ရောက်ကြည့်ရှု ကြိုးစားနေသော လူများ နှင့်အတူ ဆွေးနွေးမှု မှတဆင့် အစီရင်ခံစာများ တိကျမှန်ကန်မှုရှိ အတည်ပြုခဲ့သည်',\n",
              " 'အင်္ဂလိပ် ဝီကီပီးဒီးယား တက်ကြွစွာ ပါဝင်ပံ့ပိုးသူ ခရစ်စတီနို မိုရစ်ချီ “ အိုလံပစ်အားကစား ပိတ်ပွဲ အခမ်းအနား ပြီးဆုံးချိန် ထက်ကျော်လွန်၍ ထိုအရာသည် မိနစ် သုံးစွဲခွင့် ရလိမ့်မယ် သံသယ ရှိနေတယ်လို့ ” ပြောခဲ့တယ်',\n",
              " 'အပြည်ပြည်ဆိုင်ရာ အိုလံပစ် ကော်မတီ င်းသည် နွေရာသီ အိုလံပစ် ကစားပွဲ အတောအတွင်း အလုံးစုံ အင်တာနက် လွတ်လပ်စွာ သုံးစွဲခွင့် လိုချင်သည် ဧပြီလ တရုတ်နိုင်ငံ သတိပေးခဲ့သည်',\n",
              " 'အိမ်ရှင် ပေကျင်း မြို့ စာချုပ် အိုလံပစ်ကစားပွဲများ မျှော်လင့်ထားပြီးသော သတင်းထောက်များ နှင့် မီဒီယာ ဝန်ထမ်း ဝဝဝဝ တားမြစ်ခြင်းမရှိသော သုံးစွဲခွင့် အာမခံပေးထားသည်',\n",
              " 'သို့သော်လည်း ခုနှစ် ဖေဖော်ဝါရီလ ရက်နေ့တွင် စ် စင် သူ၏ မွေးနေ့ပွဲ ကျင်းပခဲ့သည် “ လက်ဝါးကြီး အုပ်ထားသော ” အမေရိကန်ပြည်ထောင်စု နိုင်ငံခြားရေး မူဝါဒ တစ်ခု ဝေဖန် ဖို့နဲ့ ဗလက်ဒီမာ ပူတင်သည် ရုရှားနိုင်ငံ မှန်ကန်သော ရွေးချယ်မှု အခွင့်အရေး တစ်ခု အကြောင်းအရင်းကို အသုံးချခဲ့သည်',\n",
              " 'အားကစားပြိုင်ပွဲ အားကစား နှင့် ဂိမ်း ကစားခြင်း အဖွဲ့အစည်း နှစ်ခု လျှက် ရှိသော အားကစားသမားများ နှင့် လူငယ် ဂိမ်း ကစားသမားများ ကြောင့် ပို၍ ကျော်ကြား လာခဲ့သည်',\n",
              " 'အန်ဘီအေ စီးရီး ထဲမှ ပွဲစဉ်များ ကမ္ဘာ့ ဖလား ပွဲစဉ်များ တရားဝင် ပွဲစဉ်များ အန်ဘီအေ ပုံစံများ နှင့် ပီစီ ကစားသမား ဦးရေ ပုံသေ စကေး တစ်ခု ရှိပေမယ့် အန်ဘီအေ ဂိမ်း ကစား စီးရီး ဘတ်စကတ်ဘော နှင့် ဂိမ်း ကစား နှစ်သက် သာမက အားကစား နှင့် ဂိမ်း ကမ္ဘာ့ သတင်းမီဒီယာ ဆွဲဆောင် သည့်အပြင် င်း၏ စျေးကွက် တဖြည်းဖြည်း အမေရိက နှင့် ဥရောပမှ အာရှ နှင့် နိုင်ငံ ကျယ်ပြန် လာခဲ့သည်',\n",
              " 'စိတ်ထဲမှာ ကိစ္စရပ်များ နှင့်စပ်လျဉ်း၍ အန်ဘီအေ အာရှ ကော်ပရေးရှင်း အဓိက ဒါရိုက်တာ ဖြစ်သူ ရစ်ချယ် လိုင် ဝီကီ သတင်းထောက် ရစ်ကို ရှန် အန်ဘီအေ တူးကေအိပ် ချပ် အာရှ ချန်ပီယံရှစ် ထိုင်ဝမ် အရည်အချင်း စစ်ပွဲ ဂိမ်း အားကစား စျေးကွက် ဖွံ့ဖြိုးတိုးတက်မှု အကြောင်းကို အတိုချုပ် မေးမြန်းခဲ့သည်',\n",
              " 'ကိုလမ်ဘီယာ ခဲ့ရာခေါ ရေဒီယို ကမ္ဘာတစ်ဝှမ်း နှင့် ကိုလမ်ဘီယာ အက် ဖ် အေအာစီ အလုပ်လုပ်သလဲ ဆိုတာကို ဖော်ပြသော အသေးစိတ် စာရွက်စာတမ်း တစ်ချို့ ကိုလမ်ဘီယာ အစိုးရက ထုတ်ပြန်ခဲ့သည် ဇန်နဝါရီလ အစီရင်ခံတင်ပြခဲ့သည်',\n",
              " 'အတိုက်အခံ ပါတီ သြစတြေးလျ ခေါင်းဆောင် ကန်ဗန်ရဒ် နိုဝင်ဘာလ ရက်တွင် လေဘာ ပါတီ ရွေးကောက်ခြင်း ခံရ အိမ် ဝယ်သူ အခွန် စရိတ် ဘဏ် အကောင့် တစ်ခု ကတိပြုထား',\n",
              " 'ငါးနှစ် ပျမ်းမျှ လုပ်အားခ အိမ်ထောင် အိမ်ထောင် သြစတြေးလျ ဒေါ်လာ စုဆောင်း နိုင်မည် မစ္စတာ ရဒ်',\n",
              " 'ကြေငြာချက် အိမ်ခြံမြေ လုပ်ငန်း အဖွဲ့အစည်း ကြိုဆို ထောက်ခံခဲ့သည် ဖြစ်၍ ပထမဆုံး အိမ် ဝယ်ယူသူ ဈေးကွက်တွင် အလုအယက် ဖြစ်ခြင်း တားဆီး ရမည်',\n",
              " 'ရွေးကောက်ပွဲ ဆုံးဖြတ်ပေးနိုင်သော ဗုဒ္ဓဟူးနေ့ စိတ်ဝင်စား နှုန်း မြင့်တက် နိုင်သည့် ဖြစ်နိုင်သော နည်းလမ်း တစ်ခု ဝန်ကြီးချုပ် ဂျွန် ဟိုဝဒ် သူကိုယ်တိုင် ပြင်ဆင် နေသည်',\n",
              " 'မနေ့က ဘီဘီစီ ထောက်ခံ သီချင်း တစ်ပုဒ် ထုတ်လွှတ်ခဲ့ ဗြိတိန်နိုင်ငံ ဂီတ ကားချပ် များစွာသော သက်ရောက်မှု တစ်ခု ပေါ်ပေါက်လာသည်',\n",
              " 'စတန်း အပ် ကာတွန်း မတ်ခ်ျ ဘန်း ဘီဘီစီ င်း၏ စီးပွား ပြိုင်ဘက်များ နှင့် ရိုက် ပုံနှိပ်စက် ရရှိခဲ့သော ငွေကြေး ထောက်ပံ့ရေး အဖွဲ့အစည်း လုပ်ပိုင်ခွင့် ဝေဖန်ချက် ဘီဘီစီ တုံ့ပြန်ခဲ့ ကျွန်ုပ် ဂုဏ်ယူ ရေးသားခဲ့သည်',\n",
              " 'ကွန်ဆာဗေးတစ်ပါတီ ဉီးဆောင် အစိုးရ ယာယီညွှန့် အဖွဲ့ လိုင်စင် ငွေကြေး ခြောက်နှစ် ခန့် ဖုံးကွယ်ခဲ့ ဘီဘီစီ နိုင်ငံခြားရေး ရုံး ကမ္ဘာ့ ဝန်ဆောင်မှု ငွေကြေး တာဝန် လွှဲပြောင်း လက်ခံယူလိမ့်မည် လွန်ခဲ့သော နှစ်ပတ် ကြေငြာခဲ့သည်',\n",
              " 'ဘီဘီစီ အောင်မြင်မှု အများဆုံး စာရင်း ဘလ်လီ ဂျိုး မရေမရာ လှုံ့ဆော်ခြင်း သီချင်း',\n",
              " 'ဘင်း ဘီဘီစီ ရေဒီယို ပုံမှန် ဟာသ အစီအစဉ် သည်နောင်းရှိုး ဘီဘီစီ ဂုဏ်ယူ သူ၏ တစ်နိုင်ငံလုံး အနှံ့ ခရီးစဉ် တစ်လျှောက် ပရိသတ်များ ဆီမှ စိတ်လှုပ်ရှား တုံ့ပြန်မှု ရခဲ့ ပြီးနောက် တစ်ကိုယ်တော် ထုတ်လွှင့် ဆုံးဖြတ်ခဲ့သည်',\n",
              " 'ဘီဘီစီ ရေဒီယို တိုက်ရိုက် ထုတ်လွှင့်မှု သီချင်း လူတွေ ပူဆွေး အဝေးသို့ ဖယ်ရှားပေး တစ်နဲနက် ရပ်တည် အားပေးမှုများ လက်ခံရရှိခဲ့သည် ပြောကြားခဲ့သည်',\n",
              " 'မြို့ဖြူ အသံလွှင့် အိမ် အပြင်ဘက် လွန်ခဲ့သော နှစ်လ လူမှု့ရေး ကွန်ယက် တွစ်တာ သရုပ်ဆောင် စေတနာ့ဝန်ထမ်း စုဆောင်း ရုပ်မြင်သံကြား ဗဟိုဌာန နှင့်ပတ်သက်၍ ဇာတ်လမ်း တစ်ပုဒ် ရိုက်ကူးခဲ့သည်',\n",
              " 'တနင်္လာနေ့ ဒေါင်းလုဒ် သက်သက် သီချင်း တစ်ပုဒ် တရားဝင် ထုတ်လွှင့်ခဲ့သည်',\n",
              " 'မနေ့ ဇယားများ သီချင်း အမေဇုန်း ရော့ခ် ဇယား ထိပ်ဆုံး အဆင့် ရောက်ရှိခဲ့ စုစုပေါင်း ဒေါင်းလုပ် ဆွဲမှု ပုဒ် အများဆုံး စာရင်း ထုတ်ဖော် ပြောကြားခဲ့သည်',\n",
              " 'ပရိသတ်များ ဗြိတိန်နိုင်ငံ တစ်ကိုယ်တော် အခွေ ဇယား နေရာ တစ်ခု ကြိုးစားခဲ့ တစ်ကိုယ်တော် ခွေ ကြေငြာ ဖေ့စ်ဘွတ် အဖွဲ့ နှစ်ခု ဖန်တီးခဲ့သည် ဘီဘီစီ စီးပွားရေး ပြိုင်ဘက်များ ယှဉ်ပြိုင် အင်အားဖြစ်စေခဲ့သည်',\n",
              " 'ဘင်း ဘီဘီစီ အမြဲတမ်း အားပေးသူ တစ်ဉီး ဖြစ်သည်ဟု ပြောပြီး မနေ့က အရေးပေါ် ဝန်ဆောင်မှုများ နှင့် နှိုင်းယှဉ်ပြခဲ့သည်',\n",
              " 'သင့် အိမ် မီး လောင်သည် ဖြစ်စေ မလောင်သည် ဖြစ်စေ မီးသတ် တပ်ဖွဲ့ သင် ပေးဆောင်ရမည်',\n",
              " 'ရှုံးထွက် ကန် သူတို့ အခွင့်ရေးပေး ခုနစ်သင်းလုံး နိုင်ထားသော အသင်းနှစ်သင်းလုံး တနင်္ဂနွေနေ့ ပြိုင်ပွဲ ဝင်ခဲ့သည် အဆုံး ချီကာဂိုဖဲလ် ရှုံးထွက် ကန် လော့စ် အင်ဂျလိ ဂလက်စီ အနိုင်ရသည်',\n",
              " 'သူတို့ လော့စ် အင်ဂျလိ ဂလက်စီ ပစ်ထုတ်ခြင်း ဖြင့် ချီကာဂိုဖဲလ် ကစားပွဲ ထိန်းချုပ်ခဲ့သည်',\n",
              " 'လော့စ် အင်ဂျလိ ဂလက်စီ အစောပိုင်း ပထမပိုင်း တစ်ဝက် ဂိုး မျှသာ ရရှိခဲ့သည်',\n",
              " 'သူတို့ ကစားပွဲ နိုင်သူ သတ်မှတ် မိနစ် အနိုင်ရသူ သတ်မှတ်ခဲ့သည့် တိုင်အောင် ချီကာဂိုဖဲလ် ဂိုးသွင်းခဲ့သည်',\n",
              " 'ရဂန် ဒေသ အစွန် ထကြွသော နယ်မြေ တစ်ခုဖြစ်သော ဒေသ အနောက်တောင် ထောင့် နှင့် နှိုင်းယှဉ်ရာ ရွှေထွက်သောဒေသ ဩစတေးလျ ဘူမိဗေဒနည်းစနစ်အရ တည်ငြိမ်သော ဒေသများ တစ်ခု ဖြစ်တယ်လို့ ယုံကြည်တယ်',\n",
              " 'ကာဂိုလီ အနောက် ဩစတေးလျ မြို့တော် ပတ် အရှေ့ ကီလိုမီတာ မိုင် တည်ရှိ ဩစတေလျ အမျိုးစား သမိုင်းအရ အကြီးဆုံး ရွှေထွက်သော ဗဟိုချက် နေရာ',\n",
              " 'လေကြောင်း ဆိုင်ရာသဘောတူစာချုပ် နော်ဝေ နှင့် ဒိန်းမတ် မနေ့က ဘီလာရု နှင့် ရုရှား ပျံသန်း သည့် လေယာဉ်များကို စုံစမ်းစစ်ဆေးမှု စတင်ခဲ့သည်',\n",
              " 'နိုင်ငံခြား လေယာဉ်များကို စောင့်ကြည့်နေသော ရုရှား စစ်ဆေးရေးမှူး နှစ်ဦး နှင့် ဘီလာရု ခုနှစ် ဦးတို့ နှင့်အတူ ဤ လေယာဉ်များကို ဇူလိုင် တိုင်အောင် မျှော်လင့်ခဲ့သည်',\n",
              " 'သဘောတူစာချုပ် ပြည်နယ် နယ်မြေခံများ ပိုင်နက် တစ်ခုလုံး ပေါ်မှာ လက်နက်မဲ့ လေကြောင်း စောင့်ကြည့် ထောက်လှမ်းရေး ပျံသန်းမှု အစီအစဉ် တစ်ခု အခိုင်အမာ သက်သေပြ ခဲ့သည်',\n",
              " 'သဘောတူစာချုပ် သူတို့ နှင့်ပတ်သက်သော လှုပ်ရှားမှု နှင့် စစ်တပ် အင်အား အကြောင်း သတင်း စုဆောင်းမှု အဓိက အခန်း တစ်ခု ပမာဏကို အဓိက မထားဘဲ အဖွဲ့ င် ဖော်ပြပေးခြင်း ဖြင့် အပြန်အလှန် နားလည်မှု နှင့် ယုံကြည်မှု မြင့်မား စေရန် ရည်ရွယ်ထားသည်',\n",
              " 'ရုရှား နှင့် ဘီလာရု သဘောတူစာချုပ်ကို ဟယ်စင်ကီ လက်မှတ်ရေးထိုးခဲ့သည်',\n",
              " 'ဘီလာစင် ကာကွယ်ရေး ဝန်ကြီးဌာန ပြောရေးဆိုခွင့်ရ ပုဂ္ဂိုလ် အဆိုအရ ရုရှား နှင့် ဘီလာရု ဇွန် အမရိကန်နိုင်ငံ ဖြတ် သူတို့၏ သက်ဆိုင်သော လေကြောင်းလိုင်း အဆုံးသတ်ခဲ့သည်',\n",
              " 'ပီတာဘရို မြင်းစီး သင်တန်း အွန်တာရီယို ပြည်နယ် ရွေးကောက်ပွဲ အွန်တာရီယို အစိမ်းရောင် ပါတီ မီရိရမ် စတကီ လည်ပတ်နေသည်',\n",
              " 'ဝီကီသတင်းများ မော်ရို နှင့်ဆိုင်သော သူမ၏ တန်ဖိုး သူမ၏ အတွေ့အကြုံ နှင့် သူမ၏ မဲဆွယ်စည်းရုံးမှု လူတွေ့မေးမြန်းခဲ့သည်',\n",
              " 'စီအေအေတီ အဖွဲ့ဝင် ဘရိုင်လော အုပ်စု လေးခု နှစ်ခု အုပ်စု ခွဲထား ပြောခဲ့ တွဲဖက် လှုပ်ရှားမှု တစ်ခု အခြေစိုက်စခန်း ဝင်ခဲ့သည်',\n",
              " 'အဖွဲ့ဝင် လေးယောက် ထူထပ်သော ခြုံပုပ် ဖြတ် ကီလိုမီတာ လျှောက်ခဲ့ ဒေသစံတော်ချိန် အေအမ် အခြစိုက်စခန်း ဝင်လာသည် ပြောခဲ့သည်',\n",
              " 'မစ္စတာလော နှင့် ဖမ်းဆီးခံရသော စတုတ္ထ အဖွဲ့ဝင် လူတွေကို ကာကွယ်သော အဖွဲ့ဝင် ဟောင်း ဒိုနာ မူဟန်း ပြီးခဲ့သည့် အီရတ် ဖလူဂျ စစ်သွေးကြွများ ဓားစာခံ ယူထားသူ လွတ်ပေးခဲ့သည်',\n",
              " 'ကာကွယ်ရေးဝန်ကြီး ရောဘတ်ဟေးလ် အနေဖြင့် အုပ်စုလိုက် တရားဝင် ဝင်ခွင့် ငြင်းဆို ပြီးနောက် အီရတ် ဆက်လက်ဖြစ်ပွားနေသော စစ်ပွဲ ဂြိုလ်တုခြေရာခံစနစ် ပါဝင်မှု ကန့်ကွက်မှု နိုင်ငံသားများ စစ်ဆေးမှု အုပ်စုလိုက် ဆောင်ရွက်ခဲ့သည် မစ္စတာ အိုရီလီ ပြောခဲ့သည်',\n",
              " 'တွေ့ဆုံမေးမြန်းမှု အလှည့်ကျ ပြောကြားခြင်း ပါတီ ဆီမှ အဖွဲ့ဝင် သင့်တော် ဆက်သွယ်လိမ့်မည်',\n",
              " 'ရှုံးထွက် ပထမပိုင်း နယူး အင်္ဂလန် ရီဗော်လူးရှင်း အသင်း နယူးယောက် ရင်ဆိုင်ရ တိုရွန်တို ရာသီ ပြီးဆုံးသွားသည်',\n",
              " 'ကစားပွဲ ပထမပိုင်း ဂိုး နှင့် ဖွင့်ခဲ့ ညာဘက်တောင်ပံ ကစားသမား ဒန်ကိုလင် ဝေလာ ဂိုးသွင်းခဲ့သည်',\n",
              " 'အသင်းဖေါ် ဂျိမ်းစ် နှင့် ဂျွန် ဗဂလတိ ဟန်ချက် ပိုကောင်းလာသည်',\n",
              " 'တိုက်စစ်းမှူး ပတ်ထရစ် မက်နေး သွင်းခဲ့ ဖြင့် စပရစ် အသင်း ကလည်း ဂိုး ရခဲ့သည်',\n",
              " 'စပရစ် အသင်းအတွက် မိချယ် ဘီနာ ဒုတိယပိုင်း ပွဲစဉ် အစောပိုင်း ဂိုး ဖြင့် စတင်ခဲ့သည်',\n",
              " 'ပါးမောက် အသင်း ကစားသမား ရိုင်ယန် မက်ဂင်နီ နှင့် ဒန်ကိုလင် ဂိုး ဖြင့် နောက်ပိုင်းတွင် အကောင်းဘက် ပြန်ဦးတည်လာသည်',\n",
              " 'ကစားပွဲ ပထမပိုင်း ဂိုး နှင့် ဖွင့်ခဲ့ ညာဘက်တောင်ပံ ကစားသမား ဒန်ကိုလင် ဝေလာ ဂိုးသွင်းခဲ့သည်',\n",
              " 'အသင်းဖေါ် ဂျိမ်းစ် နှင့် ဂျွန် ဗဂလတိ ဟန်ချက် ပိုကောင်းလာသည်',\n",
              " 'တိုက်စစ်းမှူး ပတ်ထရစ် မက်နေး သွင်းခဲ့ ဖြင့် စပရစ် အသင်း ကလည်း ဂိုး ရခဲ့သည်',\n",
              " 'စပရစ် အသင်းအတွက် မိချယ် ဘီနာ ဒုတိယပိုင်း ပွဲစဉ် အစောပိုင်း ဂိုး ဖြင့် စတင်ခဲ့သည်',\n",
              " 'ပါးမောက် အသင်း ကစားသမား ရိုင်ယန် မက်ဂင်နီ နှင့် ဒန်ကိုလင် ဂိုး ဖြင့် နောက်ပိုင်းတွင် အကောင်းဘက် ပြန်ဦးတည်လာသည်',\n",
              " 'အမေရိကန် နှင့် ဥရောပ အစိုးရ မဟုတ်သော အဖွဲ့အစည်းများ အန်ဂျီအို ပါလက်စတိုင်း နယ်မြေများ ပိတ်ဆို့ ထိမ်း ထားသော အစ္စရေးတို့ လုပ်ဆောင်ချက်များကို ဆန့်ကျင် ကြိုးစား လာမည့် ဂါဇာ ကမ်းမြောင်ဒေသ လွှတ်ပေးမည့် သင်္ဘော အစီးရေ ဆံ့သော သင်္ဘောအုပ်စုငယ် တစ်ခု တပ်ဆင်လျှက်ရှိသည်',\n",
              " 'အစ္စရေး ဆွီဒင် လူမျိုး တက်ကြွလှုပ်ရှားသူ ဒီရောရ် ဖဲလား သင်္ဘောအုပ်စု အသစ် ရည်ရွယ်ချက် ယခင်တုန်းက အရွယ်အစား ဆတိုးစေ နှင့် င်း တစ်ထောင် င် ပြောဆိုခဲ့သည်',\n",
              " '“ အစ္စရေး စစ်တပ်သည် ၎င်းတို့ အလိုရှိ သင်္ဘောများ စီးမှအစီး ရပ်တန့်နိုင်သည် “ ဖဲလားမှ ပြောခဲ့သည်',\n",
              " 'သင်္ဘောအုပ်စု အစိတ်အပိုင်း တင်ပြထားခဲ့သော သင်္ဘောများ ကြောင့် ဖြစ်နိုင်ချေများ ပါဝင်သော ဇာတ်ညွှန်း ပြင်ဆင်ခဲ့ သင်္ဘောများ အစ္စရေး ကမ်းခြေ အနီး မရောက်ခင် အစ္စရေး ရေတပ် င်း ကြားဖြတ် လိုအပ်သည်',\n",
              " '“ ပြည်သူလူထု လုံခြုံရေး လုပ်ငန်းစဥ်များ အမြင့်ဆုံး အဆင့်ထားရှိ ဆောင်ရွက် ထားပြီး ရဲအစောင့်များ ချထား ပေါက်ကွဲမှု ဖြစ်ပွားခဲ့သောနေရာ အနီးရှိ အဆောက်အဦးများ လူများ ကိုလည်း ရွှေ့ပြောင်း နေရာချထားခဲ့သည် ”ဟုဟာ့တ် ဖို့ဒ် ုင်းယား ရဲတပ်ဖွဲ့ အစီရင်ခံစာ ဖော်ပြထားပါသည်',\n",
              " '“ ရဲများ လုံခြုံရေး လုပ်ငန်းစဥ်များ ကိုလည်း မြို့ ဗဟိုအချက်အချာဒေသများ လာမည့်အချိန် တိုးမြှင့်ထားပါသည်',\n",
              " '“ ဖြစ်ပွားခဲ့သော ကိစ္စနှင့် ပါတ်သက် င်သက်ဆိုင်သူများ နှင့် မိမိတို့ အတွင်းသာမက ပြည်သူလူထု အတူနားလည်စွာ ပူးပေါင်း ဆောင်ရွက်မှုများ ကျေးဇူးတင်ရှိပါသည် ”',\n",
              " 'ပြစ်မှုကျူးလွန်သည် စွပ်စွဲခံထားရသူ “ ဖမ်းဆီးထိန်းသိမ်းထား ရဲများ ထိန်းချုပ်မှု အောက်မှာ ပင် စစ်ဆေးမေးမြန်းမှု ပြုလုပ်လိမ့်မည် ” “ ဖေါက်ခွဲရေး အသုံးပြုသော ကိရိယာ အသုံးပြုပုံ ကိုလည်း ဆက်လက်စုံစမ်း ဖော်ထုတ်သွားမည် ” ပြောခွင့်ရအမျိုးသမီး သတင်းထုတ်ပြန်ခဲ့သည်',\n",
              " 'ခုနှစ် ပထမဆုံးပစ်လွှတ်သော တိုင်တမ် သရီးစီ ဒုံးပျံ လွှတ်တင် ကွမ်ပလက်စ် ဖောတိ အသုံးပြုခဲ့ပါသည်',\n",
              " 'ေနာက်မှလာေသာ ဒုတိယမြောက် တိုင်တမ် သရီး ဒုံးပျံ အမေရိကန် လေတပ် ကမ္ဘာ ပတ်လမ်းကြောင်း အတိုင်းလည်ပတ်နေသော လူလိုက်ပါသည့် အာကာသဓါတ်ခွဲခန်း အမ်အိုအယ်လ် ဒုံးပျံပစ်စင် အသုံးပြုရန် မွမ်းမံ ပြုပြင် ခဲ့ပါသည်',\n",
              " 'ကွမ်ပလက်စ် ခုနှစ် နို င်ဘာလ လွှတ်တင်ခဲ့သော တိုင်တမ် သရီးစီ ဒုံးပျံ ပေါ်တွင် ဘိုင်အိုလာပလိတ် ဟုခေါ်သော အာကာသဓါတ်ခွဲခန်း အမ်အိုအယ်လ် တစ်ခု နှင့်အတူ ဂျီမီနီ အလုံပိတ်ကုန်သတ္တာ တစ်ခု နှင့် ဂြိုလ်တု ပါရှိသည်',\n",
              " 'အာကာသဓါတ်ခွဲခန်း ဂြိုလ်တုများ လွှတ်တင်ခြင်း အစီအစဥ် ရပ်နား ပြီးနောက် ကွမ်ပလက်စ် ပုံမှန် တိုင်တမ် ဒုံးပျံ ပစ်လွှတ်စင် အသုံးပြုရန်ပြန်လည် ပြောင်းလဲခဲ့ ပြီးနောက် ဒုံးပျံ နှင့် တိုင်တမ် သရီးစီ သာတီးဖိုး ဒုံးပျံ ပစ်လွှတ်ခြင်း ကြိမ် လွှတ်တင် အသုံးပြုခဲ့သည်',\n",
              " 'ကွမ်ပလက်စ် ဒုံးပျံပစ်စင် မှနေ၍ ဂြိုလ်များကို စူးစမ်းလေ့လာရေး ဂြိုလ်တု စီးပွားရေး လုပ်ငန်းများနှင့် သက်ဆိုင်သော ဂြိုလ်တု ဗြိတိသျှ စစ်ဘက်ဆိုင်ရာ ဆက်သွယ်ေရး ဂြိုလ်တု နှင့် အမေရိကန် စစ်ဘက်ဆိုင်ရာ ဂြိုလ်တုအများအပြား လွှတ်တင်ပေးခဲ့ပြီး ဧပြီလ ခုနှစ်တွင် လုပ်ငန်းများကို ရပ်ဆိုင်းခဲ့ပါသည် ထို့နောက် ပန်နောလ်တီမိတ် တိုင်တမ် ဖိုးဒုံးပျံ ဖြင့် အမေရိကန် သတင်းအချက်အလက် စုေဆာင်းရေး ဌာနလုပ်ငန်းများ လက်ကရောစီ ဖိုက် သူလျှို ဂြိုလ်တု ဆက်လက်လွှတ်တင်ခဲ့သည်',\n",
              " 'ဒုံးပျံပစ်စင် ကွမ်ပလက်စ် ဖောတီ မ်း ခုနှစ်တွင် ဖျက်သိမ်းပြီးနောက် အယ်စီ ဖောတိ ဒုံးပျံပစ်စင် အကြီးစား တိုင်တမ် ဒုံးပျံ လွှတ်တင်ခြင်း အသုံးပြုခဲ့ပါသည်',\n",
              " 'ကွမ်ပလက်စ် ဖောတိ ဒုံးပျံပစ်စင် အင်္ဂါဂြိုလ် အင်္ဂါဂြိုလ် စူးစမ်းရှာဖွေရေး ဂြိုလ်တု နှင့် စနေဂြိုလ် ကက်စင် ဟေးဂျန်စ် မစ်ရှင် အဖွဲ့လိုက်ပါသော ဂြိုလ်တုတို့ လွှတ်တင်ခဲ့ပါသည်',\n",
              " 'ဒုံးပျံပစ်စင် ဖျက်သိမ်း နည်းလမ်းအရ ကွမ်ပလက်စ် အသစ် ထပ်မံပြုလုပ် စပေ့စ်အိက်စ် ဖယ်လ်ကွန် ဒုံးပျံ လွှတ်တင် စီစဥ်ထား ခုနှစ်တွင် ဒုံးပျံ ပထမဆုံး လွှတ်တင် လက်ရှိတွင် အစီအစဉ် ရေးဆွဲထားပါသည်',\n",
              " 'စီးပွားရေးဆိုင်ရာ ဂြိုလ်တုများ သယ်ယူပို့ဆောင်ရေး လုပ်ငန်း စီအိုတီအက်စ် နှင့် နာဆာ စာချုပ် စီးပွားရေး နှင့် သက်ဆိုင်သော ဂြိုလ်တုများ ပစ်လွှတ်ခြင်း အသုံးပြု သကဲ့သို့ နိုင်ငံတကာ အာကာသ စခန်းများ ကုန်ပစ္စည်းများ ထပ်မံ ဖြည့်တင်းခြင်း လုပ်ငန်း အဖွဲ့ အယ်လ်စီ ဖောတိ အသစ် အသုံးပြုမည်ဖြစ်သည်',\n",
              " '“ ပြည်သူလူထု လုံခြုံရေး လုပ်ငန်းစဉ်များကို အမြင့်ဆုံး အဆင့်ထားရှိ ဆောင်ရွက် ထားပြီး ရဲအစောင့်များ ချထား ပေါက်ကွဲမှု ဖြစ်ပွားခဲ့သောနေရာ အနီးရှိ အဆောက်အဦးများ လူများ ကိုလည်း ရွှေ့ပြောင်း နေရာချထားခဲ့သည် ”ဟုဟာ့တ် ဖို့ဒ် ုင်းယား ရဲတပ်ဖွဲ့ အစီရင်ခံစာ ဖော်ပြထားပါသည်',\n",
              " '“ ရဲများ လုံခြုံရေး လုပ်ငန်းစဥ်များ ကိုလည်း မြို့ ဗဟိုအချက်အချာဒေသများ လာမည့်အချိန် တိုးမြှင့်ထားပါသည်',\n",
              " '“ ဖြစ်ပွားခဲ့သော ကိစ္စနှင့် ပါတ်သက် င်သက်ဆိုင်သူများ နှင့် မိမိတို့ အတွင်းသာမက ပြည်သူလူထု အတူနားလည်စွာ ပူးပေါင်း ဆောင်ရွက်မှုများ ကျေးဇူးတင်ရှိပါသည် ”',\n",
              " 'ပြစ်မှုကျူးလွန်သည် စွပ်စွဲခံထားရသူ “ ဖမ်းဆီးထိန်းသိမ်းထား ရဲများ ထိန်းချုပ်မှု အောက်မှာ ပင် စစ်ဆေးမေးမြန်းမှု ပြုလုပ်လိမ့်မည် ” “ ဖေါက်ခွဲရေး အသုံးပြုသော ကိရိယာ အသုံးပြုပုံ ကိုလည်း ဆက်လက်စုံစမ်း ဖော်ထုတ်သွားမည် ” ပြောခွင့်ရအမျိုးသမီး သတင်းထုတ်ပြန်ခဲ့သည်',\n",
              " 'ခုနှစ် ပထမဆုံးပစ်လွှတ်သော တိုင်တမ် သရီးစီ ဒုံးပျံ လွှတ်တင် ကွမ်ပလက်စ် ဖောတိ အသုံးပြုခဲ့ပါသည်',\n",
              " 'ေနာက်မှလာေသာ ဒုတိယမြောက် တိုင်တမ် သရီး ဒုံးပျံ အမေရိကန် လေတပ် ကမ္ဘာ ပတ်လမ်းကြောင်း အတိုင်းလည်ပတ်နေသော လူလိုက်ပါသည့် အာကာသဓါတ်ခွဲခန်း အမ်အိုအယ်လ် ဒုံးပျံပစ်စင် အသုံးပြုရန် မွမ်းမံ ပြုပြင် ခဲ့ပါသည်',\n",
              " 'ကွမ်ပလက်စ် ခုနှစ် နို င်ဘာလ လွှတ်တင်ခဲ့သော တိုင်တမ် သရီးစီ ဒုံးပျံ ပေါ်တွင် ဘိုင်အိုလာပလိတ် ဟုခေါ်သော အာကာသဓါတ်ခွဲခန်း အမ်အိုအယ်လ် တစ်ခု နှင့်အတူ ဂျီမီနီ အလုံပိတ်ကုန်သတ္တာ တစ်ခု နှင့် ဂြိုလ်တု ပါရှိသည်',\n",
              " 'အာကာသဓါတ်ခွဲခန်း ဂြိုလ်တုများ လွှတ်တင်ခြင်း အစီအစဥ် ရပ်နား ပြီးနောက် ကွမ်ပလက်စ် ပုံမှန် တိုင်တမ် ဒုံးပျံ ပစ်လွှတ်စင် အသုံးပြုရန်ပြန်လည် ပြောင်းလဲခဲ့ ပြီးနောက် ဒုံးပျံ နှင့် တိုင်တမ် သရီးစီ သာတီးဖိုး ဒုံးပျံ ပစ်လွှတ်ခြင်း ကြိမ် လွှတ်တင် အသုံးပြုခဲ့သည်',\n",
              " 'ကွမ်ပလက်စ် ဒုံးပျံပစ်စင် မှနေ၍ ဂြိုလ်များကို စူးစမ်းလေ့လာရေး ဂြိုလ်တု စီးပွားရေး လုပ်ငန်းများနှင့် သက်ဆိုင်သော ဂြိုလ်တု ဗြိတိသျှ စစ်ဘက်ဆိုင်ရာ ဆက်သွယ်ေရး ဂြိုလ်တု နှင့် အမေရိကန် စစ်ဘက်ဆိုင်ရာ ဂြိုလ်တုအများအပြား လွှတ်တင်ပေးခဲ့ပြီး ဧပြီလ ခုနှစ်တွင် လုပ်ငန်းများကို ရပ်ဆိုင်းခဲ့ပါသည် ထို့နောက် ပန်နောလ်တီမိတ် တိုင်တမ် ဖိုးဒုံးပျံ ဖြင့် အမေရိကန် သတင်းအချက်အလက် စုေဆာင်းရေး ဌာနလုပ်ငန်းများ လက်ကရောစီ ဖိုက် သူလျှို ဂြိုလ်တု ဆက်လက်လွှတ်တင်ခဲ့သည်',\n",
              " 'ဒုံးပျံပစ်စင် ကွမ်ပလက်စ် ဖောတီ မ်း ခုနှစ်တွင် ဖျက်သိမ်းပြီးနောက် အယ်စီ ဖောတိ ဒုံးပျံပစ်စင် အကြီးစား တိုင်တမ် ဒုံးပျံ လွှတ်တင်ခြင်း အသုံးပြုခဲ့ပါသည်',\n",
              " 'ကွမ်ပလက်စ် ဖောတိ ဒုံးပျံပစ်စင် အင်္ဂါဂြိုလ် အင်္ဂါဂြိုလ် စူးစမ်းရှာဖွေရေး ဂြိုလ်တု နှင့် စနေဂြိုလ် ကက်စင် ဟေးဂျန်စ် မစ်ရှင် အဖွဲ့လိုက်ပါသော ဂြိုလ်တုတို့ လွှတ်တင်ခဲ့ပါသည်',\n",
              " 'ဒုံးပျံပစ်စင် ဖျက်သိမ်း နည်းလမ်းအရ ကွမ်ပလက်စ် အသစ် ထပ်မံပြုလုပ် စပေ့စ်အိက်စ် ဖယ်လ်ကွန် ဒုံးပျံ လွှတ်တင် စီစဥ်ထား ခုနှစ်တွင် ဒုံးပျံ ပထမဆုံး လွှတ်တင် လက်ရှိတွင် အစီအစဥ် ေရးဆွဲ ထားပါသည်',\n",
              " 'စီးပွားရေးဆိုင်ရာ ဂြိုလ်တုများ သယ်ယူပို့ဆောင်ရေး လုပ်ငန်း စီအိုတီအက်စ် နှင့် နာဆာ စာချုပ် စီးပွားရေး နှင့် သက်ဆိုင်သော ဂြိုလ်တုများ ပစ်လွှတ်ခြင်း အသုံးပြု သကဲ့သို့ နိုင်ငံတကာ အာကာသ စခန်းများ ကုန်ပစ္စည်းများ ထပ်မံ ဖြည့်တင်းခြင်း လုပ်ငန်း အဖွဲ့ အယ်လ်စီ ဖောတိ အသစ် အသုံးပြုမည်ဖြစ်သည်',\n",
              " 'ချစ်စီနော “ ဆဒမ်ဟူစိန် ဝန်ကြီးချုပ် တရားဝင် ခွင့်ပြုထားသော စာရွက်စာတမ်းများ အသုံးပြုပြီး ထရန်နစ်စတြီးယား လက်နက်များ ထောက်ပံ့ခဲ့ လက်နက် ပစ္စည်း ထုတ်လုပ်သည့် လမ်းကြောင်းများ ကိုလည်း အီရတ် ဦးတည်ခဲ့ ” ဗိုရိုနင် ရုရှ ဂျာနယ်လစ် အုပ်စု ပြောဆိုခဲ့ ဤ ကိစ္စ တရားမဝင် ထိုကိစ္စ စုံစမ်းစစ်ဆေးခြင်း လုပ်ငန်းများကို လုပ်ဆောင်နေပြီ ထပ်လောင်း ပြောဆိုခဲ့ပါသည်',\n",
              " 'ဗိုရိုနင် ထပ်မံ ဖြည့်စွက် ပြောဆိုသည် “ ရုရှား အနေဖြင့် ဤ ဒေသ အုပ်ချူပ်ရေး အပိုင်း ဝင်ရောက် လုပ်ဆောင်နေသည် ထင်ရှား ဒေသတွင်း ဖြစ်ပျက်နေသည့် ပဋိပက္ခများ ဝင်ရောက် ဖြေရှင်းပေး ဆန္ဒမရှိ သူများကို ပူးပေါင်းပါဝင် ဖြေရှင်းရန် မိမိတို့ လှုံ့ဆော်ရမည် ”',\n",
              " 'ရှုပ်ထွေးမှု ဖြေရှင်းဖို့ ရုရှား အကူအညီပေး ဘာကို လုပ်ရမလဲ ဆိုတာ မေးမြန်း သမ္မတ မော်ဒိုဗင် နယ်မြေ လက်နက်ခဲယမ်းများ ရယူမည် ပြောခဲ့သည်',\n",
              " '“ နိုင်ငံရေးအရ အကာအကွယ် ယူထားသည့် ဂိတ် တစ်ခု မှနေ၍ ထရန်နစ်စတြီးယန်း အုပ်ချုပ်မှု နည်းစနစ် အထောက်အပံ့များ ပေးပို့နေခြင်း ဖြစ်သည်ဟု မိမိတို့ ဆင်ခြင် သုံးသပ် ” သမ္မတ အလေးအနက် ပြောကြားသည်',\n",
              " 'တီရက်စ်ပိုလ် အီရတ် လက်နက် ပစ္စည်းများ ရောင်းချခဲ့သည် မော်ဒိုဗာ နိုင်ငံ သက်သေပြနိုင် ဗိုရိုနင် ထပ်လောင်း ပြောကြားခဲ့သည်',\n",
              " '“ ဟူစိန် မှတ်တမ်း အချက်အလက်များ သမ္မတ မော်ဒိုဗင် အခွင့်အာဏာ လုပ်ပိုင်ခွင့်များ လေ့လာပြီး အတည်ပြုနိုင်ပါတယ် ” ပြောကြားခဲ့သည်',\n",
              " 'ဗိုရိုနင် ဒေသဆိုင်ရာ ပဋိပက္ခများ ဖြေရှင်းနိုင်ခြင်း မရှိဘဲ မော်စကို အခြေချ နေထိုင်သည် စွပ်စွဲခဲ့ ရုရှား လက်နက်များသည် “ ထရန်နစ်စတြီးရန်း စစ်အစိုးရ ကာကွယ်ပေးမည့် နိုင်ငံရေး အကာအကွယ် ” တစ်ခု',\n",
              " 'ထရန်နစ်စတြီးရန်း တပ်မတော် အဖွဲ့အစည်း လှုပ်ရှားမှု နှင့်ပတ်သက်ပြီး ရုရှား အရေးကြီးသော အချက်အလက်များကို ခေါင်းဆောင် မော်ဒိုဗင် ပေးပို့ခဲ့သည်',\n",
              " 'အခြားတစ်ဖက်တွင် မော်ဒိုဗင် ဝန်ကြီးချုပ် ဗာစိုင် တာလက် ခ် ရုရှား စစ်တပ် ကြာသာပတေးနေ့ ထရန်နစ်စတြီးရန်း ဂျီချမ်း ဒေသ လက်နက်ခဲယမ်းများ ထောက်ပံ့ပေးခြင်း စွပ်စွဲခဲ့ ပြန်ကြားချက် ရုရှား ကာကွယ်ရေးဝန်ကြီး ဆာဂီ အိုင်ဗာနို မော်ဒိုဗင် ရုရှားအတွက် အဓိကကျသော “ အာမခံပစ္စည်းများ ဦးဆောင်ပြီး ” “ မည်သည့် လက်နက် ကိုမျှ ထရန်နစ်စတြီးရန်း ပို့ဆောင်တော့မည် မဟုတ်ကြောင်း အခိုင်အမာ ပြောဆိုခဲ့သည် ”',\n",
              " 'နယူးဇီလန် တောင်သူလယ်သမားများ ကျော်လွန်ပြီး မိုက်ကရိုချစ်ပ် ထည့်သွင်းခြင်း ဥပဒေ လယ်ယာသုံး ခွေးများ လွတ်ငြိမ်းခွင့်ရ အမ်ပီစ် မဲပေးခြင်း နှင့်အတူ ပါလီမန် အဓိက အောင်ပွဲ တစ်ခု အနိုင်ရရှိ',\n",
              " 'သူတို့၏ ခွေးများ မိုက်ကရိုချစ်ပ် ထည့်သွင်းမှု ကုန်ကျစရိတ် ကြီးမားသော ကုန်ကျစရိတ် ဖြစ်လာနိုင် အဆင်မပြေမှု တစ်ခု ဖြစ်လာလိမ့်မည် ပြောကြားခြင်း ဖြင့် အစိုးရ လက်အောက် စုစည်းထားသော တောင်သူလယ်သမားများ ဥပဒေ အချိန် အတော် ဝေဖန် ဆွေးနွေးခဲ့ကြသည်',\n",
              " 'ဥပဒေ အောက်တွင် လောလောလတ်လတ် မှတ်ပုံတင်ထားခဲ့သော ခွေးများ ဇွန်လိုင် ရက်နေ့က ထည့်သွင်းထားသော မိုက်ကရိုချစ်ပ်စ် အမှတ်အသား ရှိရမည်',\n",
              " 'ခွေးများ မိုက်ကရိုချစ်ပ်များ လူများ တိုက်ခိုက်ခံရသည့် အခြေအနေတွင် ပိုင်ရှင် သတ်မှတ်ပေး',\n",
              " 'ခုနှစ်တွင် အသက် နှစ်အရွယ် ကာရိုလီနာ အန်ဒါစန် တိုက်ခိုက်ခံရသော အချိန်တွင် ဥပဒေ ဆောင်ရွက်ခဲ့သည်',\n",
              " 'ပါလီမန် မိုက်ကရိုချစ်ပ် ထည့်သွင်းခြင်း လိုအပ်ချက် ပြောင်းလဲ ရည်ရွယ်သော ဒေသခံ အစိုးရ ကျသင့် ငွေ ပြင်ဆင်ခြင်း ဥပဒေ များစွာသော အကြံပြု ပြင်ဆင် ဖြည့်စွက်ချက်များ ဝေဖန် ဆွေးနွေးနေကြသည်',\n",
              " '“ ဖိအား အများကြီး ကျရောက် ပြီးနောက် အစိုးရ ဆန္ဒမဲ နည်းခြင်း အလွန် ရှုပ်ထွေးစေသည် ” ဘလော်ဂါ ဒေးဗဒ် ဖာရာ အဆုံး အလုပ်သမားများ သာလျှင် နယူးဇီလန် အဆင့်ဆင့် ထိုကိစ္စ ပထမဆုံး မဲပေးခဲ့သည်',\n",
              " 'ဂရင်းစ် အမ်ပီ ပါတီဝင် လေးယောက် လယ်ယာသုံး ခွေး လွတ်ငြိမ်းခွင့်ရ မဲပေးခဲ့ နှစ်ယောက် ဆန့်ကျင်သည်',\n",
              " 'ခုနှစ်တွင် အသက် နှစ်အရွယ် ကာရိုလီနာ အန်ဒါစန် တိုက်ခိုက်ခံရသော အချိန်တွင် ဥပဒေ ဆောင်ရွက်ခဲ့သည်',\n",
              " 'ပါလီမန် မိုက်ကရိုချစ်ပ် ထည့်သွင်းခြင်း လိုအပ်ချက် ပြောင်းလဲ ရည်ရွယ်သော ဒေသခံ အစိုးရ ကျသင့် ငွေ ပြင်ဆင်ခြင်း ဥပဒေ များစွာသော အကြံပြု ပြင်ဆင် ဖြည့်စွက်ချက်များ ဝေဖန် ဆွေးနွေးနေကြသည်',\n",
              " 'အဆုံး အလုပ်သမားများ သာလျှင် နယူးဇီလန် အဆင့်ဆင့် ထိုကိစ္စ ပထမဆုံး မဲပေးခဲ့သည်',\n",
              " 'အမေရိကန်ပြည်ထောင်စု ခုနှစ် ဒီဇင်ဘာ ခုနှစ် ဖေဖော်ဝါရီလ ပျှမ်းမျှ အပူအအေးပမာဏများ ကြုံတွေ့ခဲ့ အမျိုးသား သမုဒ္ဒရာ နှင့် ကမ္ဘာ့လေထု အဖွဲ့အစည်း အန်အိုအေအေ ကမ္ဘာ့ အပူချိန်များ မှတ်တမ်း အပူနွေးဆုံး ဖြစ်ခဲ့သည်',\n",
              " 'ခုနှစ် မတ်လ ရက်နေ့ အစီရင်ခံစာတစ်ခုတွင် ဇန်နဝါရီလ ပူနွေးမှု မှတ်တမ်း တစ်ခု ပေါင်းစပ်ခဲ့ပြီးသော ကမ္ဘာ့နေရာအနှံ့မှ ကုန်းမြေများ တွန်းအားပေးခြင်း နှင့် ခုနှစ်တွင် စတင်ခဲ့သော မှတ်တမ်းများ ပြီးခဲ့သော ဆောင်းရာသီ သမုဒ္ဒရာ မျက်နှာပြင် အပူချိန် သူ၏ အမြင့်ဆုံး အမှတ်အထိ တိုးစေခြင်း အကူအညီဖြစ်ခဲ့သည် အန်အိုအေအေ ညွှန်ပြခဲ့သည်',\n",
              " 'သမုဒ္ဒရာ လေထု စနစ် အီးအယ်လ် နီနို မှတ်တမ်း ဖန်တီးသူများ ရေးသားချက် ရာသီ ပူနွေးမှု မှတ်တမ်း အစိတ်အပိုင်း တစ်ခု ပါဝင်ခဲ့ ဗဟို အီကွေတာ ပစိဖိတ်မှာ ရှိသော သမုဒ္ဒရာ အပူချိန်များ ဖေဖော်ဝါရီလတွင် ဒီဂရီ စင်တီဂရိတ် ပို၍ အေးခဲခဲ့ ပျှမ်းမျှနှုန်း နှင့် နီးကပ်လျှက် ရှိခဲ့ သောကြောင့် င်း၏ သက်ရောက်မှုများ ကြာရှည်မခံခဲ့ပေ',\n",
              " 'သမုဒ္ဒရာ မျက်နှာပြင် အပူချိန် လွန်ခဲ့သော ကာလအတွင်း ဒုတိယ အပူနွေးဆုံး ဖြစ်ခဲ့သည့် အချိန်တွင် တစ်ကမ္ဘာလုံးဆိုင်ရာ မြေ မျက်နှာပြင် အပူချိန် ပြင်းထန်သော အီးအယ်လ် နီနို အပိုင်း အတောအတွင်း ရှိခဲ့သော မှတ်တမ်း ဒီဂရီ စင်တီဂရိတ် ခန့် ပို၍ အေးခဲနေ မှတ်တမ်း အပူနွေးဆုံး ဖြစ်ခဲ့သည်',\n",
              " 'လွန်ခဲ့သော ရာစုနှစ် အတောအတွင်း တစ်ကမ္ဘာလုံးဆိုင်ရာ မျက်နှာပြင် အပူချိန်များ ဆယ်စုနှစ် တစ်စုတွင် ဒီဂရီ စင်တီဂရိတ် ခန့် တိုးမြှင့် လာခဲ့ ဖြစ်သော်လည်း တိုးတက်မှုနှုန်း ဆယ်စုနှစ် တစ်စုတွင် ဒီဂရီ စင်တီဂရိတ် ခန့် ရှိခဲ့သည်',\n",
              " 'ရူတာများ နှင့် မေးမြန်းပွဲ တစ်ခု အစိမ်းရောင်အိမ် ဓါတ်ငွေ့များ မကြာသေးမီက အပူချိန် မြင့်မားမှုများ အချက်အလက်များက လွှမ်းမိုးမှု တစ်ခု ရှိခဲ့သည် သက်သေမပြ “ ရေရှည် ဦးတည်ချက်များ နှင့် ရေရှည် ပြောင်းလဲမှုများ ကြည့်ခြင်း သဘာ နှင့် မနုသဗေဒ လူတွေ ဖြစ်စေခဲ့သော ရာသီဥတုပြောင်းလဲမှု ကျွန်တော်တို့ နားလည် လာစေသည် “ စသဖြင့် ထိုအကြောင်းအရာကို လက်ခံစေသည် အန်အိုအေအေ ဂျေ လောရီမော သုံးသပ်ယူဆခဲ့သည်',\n",
              " 'ဝါရှင်တန် အခြေစိုက်ထားသော အက်စ် ကုန်သွယ်ရေး ဋ္ဌာန အေဂျင်စီ တစ်ခု အန်အိုအေအေ သုတေသန လုပ်ဆောင် သမုဒ္ဒရာ နှင့် ကမ္ဘာ့လေထု အချက်အလက်များကို စုဆောင်းထားသည်',\n",
              " 'အန်အိုအေအေ ကမ္ဘာ့ စူးစမ်းရှာဖွေမှုများ အဖွဲ့ ဂျီအီးအို ထဲတွင် ပါဝင်သူ အဖွဲ့အစည်း တစ်ခုဖြစ်ပြီး ကမ္ဘာ့ အနှံ့ စူးစမ်းရှာဖွေမှုများ ပေါင်းစည်းမှု ညှိနှိုင်း အစိုးရအဖွဲ့ကြား အင်အား တစ်ခု',\n",
              " 'ရုရှား သူလျှို ဟောင်း အလက်ဇန်းဒါး လစ်တ်ဗင်နန်ကို အဆိပ် သေဆုံးမှု နှင့်ပတ်သတ်ပြီး နိုင်ငံတကာ သတင်းစာဆရာများ သူတို့၏ ထုတ်ပြန်မှုများ အသရေဖျက်မှု နှင့် တရားစွဲဆို ရုရှား အစိုးရ အရာရှိများက စဉ်းစားနေသည် ရုရှား တူဒေး တီဗွီ မော်စကို စ် အင်္ဂလိပ် ဘာသာစကား ဂြိုလ်တု ရုပ်သံလိုင်း ထုတ်ပြန်ခဲ့သည်',\n",
              " 'အစိုးရ ထိန်းချုပ်မှု အောက်တွင် ရရှား အဓိက မီဒီယာ ဖြန့်ချိရေးများ ဖြစ်ရန် ပူတင်၏ များစွာသော အောင်မြင်သော ကြိုးစားမှုများ သတင်း လိုက်သော နိုင်ငံတကာ သတင်းသမားများ နှင့် သူ၏ မူဝါဒများ မီဒီယာ ဝေဖန်မှုများ ကန့်သတ် ရရှား အစိုးရ၏ သတိပေးချက်များ ရည်ရွယ်ခဲ့သည်',\n",
              " 'ပဲရစ် အခြေစိုက် အစိုးရ မဟုတ်သော အဖွဲ့အစည်း တစ်ခု နယ်စည်းမခြား သတင်းထောက်များ ပူတင်ကို ကမ္ဘာ့ ထိပ်ဆုံး ပုံနှိပ် လွတ်လပ်ခွင့် သားကောင် ထဲမှ တစ်ယောက် ခေါ်ဝေါ် ကြသည်',\n",
              " 'ပုံနှိပ်မှု နှင့် မီဒီယာ များစွာ ဖက်ဒရယ် အေဂျင်စီ ထုတ်ပြန်ထားသော သတိပေးချက်များ သူတို့ လုပ်ဆောင်ခဲ့ ပူတင် နှင့် ရရှား အကြီးအကျယ် အရှက်တကွဲ ဖြစ်ခြင်း သက်သေပြ လိမ့်မည် မီဒီယာ စောင့်ကြည့် ကမ္ဘာ့ ပုံနှိပ် လွတ်လပ်ခွင့်ကို ထောက်ပံ့ပေး ကယ်လီဖိုးနီးယား အခြေစိုက် အကျိုးအမြတ် မယူ သည့် အဖွဲ့အစည်း တစ်ခု ဖြစ်သည့် ဖရီး မီဒီယာ အွန်လိုင်း အိုအာဂျီ ပြောကြားခဲ့သည်',\n",
              " 'လွတ်လပ်သော မီဒီယာ မရှိဘဲ ပြောကြားချက် အမြင် ရှုထောင့် အမျိုးမျိုး နားထောင် နိုင်ခြင်း မရှိဘဲ နှင့် တီဗီ မရှိဘဲ ရုရှား ပြည်ထောင်စု နှင့် လူမှု အဖွဲ့အစည်း ဖွံ့ဖြိုးမှုတို့ မသုံးသပ်နိုင်ပါ နိုဝင်ဘာ နှောင်းပိုင်းတွင် ရုရှား တယ်လီဗေးရှင်း ထုတ်လွှင့်သူများ ပြောကြားချက် တစ်ခု ပူတင်က ပြောကြားခဲ့သည်',\n",
              " 'အဓိက ပြည်ထောင်စု အနှံ့ တယ်လီဗေးရှင်း လိုင်းများ ကရမ်မလင် နန်းတော် ထိန်းချုပ်မှု အောက်တွင် အောင်မြင်စွာ ထားရှိ ပြီးပြီ ပူတင်၏ ဝေဖန်သူများ ညွှန်ပြသည်',\n",
              " 'လွတ်လပ်သော မီဒီယာ မရှိဘဲ ပြောကြားချက် အမြင် ရှုထောင့် အမျိုးမျိုး နားထောင် နိုင်ခြင်း မရှိဘဲ နှင့် တီဗီ မရှိဘဲ ရုရှား ပြည်ထောင်စု နှင့် လူမှု အဖွဲ့အစည်း ဖွံ့ဖြိုးမှုတို့ မသုံးသပ်နိုင်ပါ နိုဝင်ဘာ နှောင်းပိုင်းတွင် ရုရှား တယ်လီဗေးရှင်း ထုတ်လွှင့်သူများ ပြောကြားချက် တစ်ခု ပူတင်က ပြောကြားခဲ့သည်',\n",
              " 'အဓိက ပြည်ထောင်စု အနှံ့ တယ်လီဗေးရှင်း လိုင်းများ ကရမ်မလင် နန်းတော် ထိန်းချုပ်မှု အောက်တွင် အောင်မြင်စွာ ထားရှိ ပြီးပြီ ပူတင်၏ ဝေဖန်သူများ ညွှန်ပြသည်',\n",
              " 'ဖရီး မီဒီယာ အွန်လိုင်း အိုအာဂျီ ထုတ်လွှင့်မှု လိုင်းများ အလုပ်လုပ်ပေးနေသော ဂျာနယ်လစ်များ မစ်စတာ ပူတင်၏ မူဝါဒများကို မည်သည့် ထင်ရှားသော ဝေဖန်မှု နောက်တစ်ဖန် မပြု ရဲ တော့ပေ',\n",
              " 'အဘယ်ကြောင့်ဆိုသော် ကာမစိတ် ယိမ်းညွတ်မှုရှိသော တစ်ဦး အမည်တပ် မလိုလား သောကြောင့် လန်ဟမ်း အပြစ်မရှိကြောင်း တောင်းပန် ပြောခဲ့သည်',\n",
              " 'သို့သော်လည်း လန်ဟမ်း အသက်မပြည့်သော မိန်းကလေး တစ်ဦး အဖိုးအခ နှင့် မဖွယ်မရာ ကိုယ်ထိလက်ရောက် ကျူးလွန်ခြင်း ကင်းရှင်းခဲ့သည်',\n",
              " 'မိန်းကလေး လန်ဟမ် သူမ၏ အပျိုစင်ဘ အသက် နှစ်အရွယ် ယူခဲ့ပါသည် အခိုင်အမာ ပြောကြားခဲ့ပါသည် တရားသူကြီး စတက်မန် စွဲချက်တင်မှု ဤ သီးခြား ရေတွက်မှုများ ထောက်ပံ့ သက်သေအထောက်အထား မရှိကြောင်း ရုံးတော် လက်ခံပါသည် ပြောခဲ့ပါသည်',\n",
              " 'ဟိုက်ဒရို ကာဘွန် ဓာတ်ငွေ့ အန္တရာယ်မရှိသော ဓာတ်ငွေ့ နှစ်ခုစလုံး ဖြစ်သည့် ရေခိုးရေငွေ့ နှင့် ကာဘွန် ဒိုင်အောက်ဆိုဒ် လုံခြုံစိတ်ချစွာ လောင်ကျွမ်းခဲ့သည် အမျိုးသား ပတ်ဝန်းကျင် အေဂျင်စီ ဆက်သွယ်ရေး ကော်ပိုရေးရှင်း လက်ထောက် ဒါရိုက်တာ မန်ရူး ချောင် ကလည်း ရှင်းလင်းပြောကြားသည်',\n",
              " 'မဟာရပ်ရှ အလားတူသော ပဏာမ ခြေလှမ်း တစ်ခု နှင့် ရေနံ သဘာဝဓာတ်ငွေ့ ပြည်ထောင်စုဝန်ကြီး မာလီ ဒိုရာ ချန်နိုင်း တွေ့ဆုံပြီး နောက်တစ်နေ့ သူ၏ ကြေငြာချက် ပေါ်ထွက်လာခဲ့သည်',\n",
              " 'ဖော်ပြချက် မစ်စတာ ကာရမ်နနစ်ဟိုင်း သဘာဝအတိုင်း တစ်ကမ္ဘာလုံး ရေနံဆီ ဈေးနှုန်းများ မြှင့်တက် လာခြင်း လောင်စာ ဈေးနှုန်း တိုးတက်မှု တစ်ခု မရှိမဖြစ် ရှိလာမည် ပြောခဲ့သည်',\n",
              " 'င်းသည် တိုးတက်ခြင်း ဦးတည်နေ ဆန့်ကျင် အခိုင်အမာ ပြောရန် အခြေအနေများကို ရှင်းပြ အာဏာရပါတီ လမ်းကြောင်း ဖြစ်လာခဲ့သည်',\n",
              " 'အန်ဒရီယာ မာစီ အီတလီ စမ်းသပ်မှု တစ်ခု စတုတ္ထ မိနစ် အမှတ်ပေးခြင်း ဖွင့်လှစ်ပေးခဲ့သည်',\n",
              " 'မော်တော်ယာဉ် သက်တမ်းတိုး စနစ်ဖြင့် ဆောင်ရွက် ခရိုင် ရုံး တစ်ရက်လျှင် ယာဉ်စီးရေ နီးပါး လက်ခံဆောင်ရွက် ပေးမည်',\n",
              " 'ဧရာဝတီမြစ်တစ်လျှောက် မန္တလေးတိုင်းဒေသကြီး ဆောင်ရွက် မည့်ကမ်းပြို ကာကွယ်ရေး လုပ်ငန်း ခုအနက် ခက်ခဲသည့် နေရာခြောက်ခုအား ရေရင်းမြစ်ဌာနမှ ဆောင်ရွက်မည်',\n",
              " 'ပဲခူးတိုင်းဒေသကြီး ချို ငါး လုပ်ငန်း ဥပဒေ မူကြမ်း ကြားနာပွဲအား ညောင်လေးပင်မြို့ သီရိရတနာခန်းမတွင် ကျင်းပခဲ့',\n",
              " 'မြန်မာနိုင်ငံ၏ ပထမဆုံး ဆင်အရိုးစုနှင့် အသုံးအဆောင် နေထိုင်မှုပြတိုက် ရွှေတောင်မြို့နယ် နတ်မှော်စခန်းတွင် ဖွ် လှစ်ပြသ',\n",
              " 'သင် သင်ကိုယ်တိုင် ရွေးချယ်နိုင်ပြီး ကိုယ်ပိုင် စွမ်းရည် ရှိတဲ့ ဇာတ်ကောင်တစ်ခု အခန်းတစ်ခုချင်းစီက မတူကွဲပြားတဲ့ သင်တို့ အဖွဲ့ရရှိထားတဲ့ ကိုယ်ပိုင် စွမ်းအားတွေ ကိုယ်စီအကောင်းဆုံး အသုံးချပြီး နောက်ဆုံးမှာ အောင်မြင်မှု အောင်မြင်ဖို့အတွက် စီမံခန် ခွဲမှုတွေ ဆုံးဖြတ်ချက်တွေ ဗျူဟာစွမ်းရည်တွေကို ဘယ်လိုသုံးမလဲ စဉ်စား တွေးခေါ် နိုင်မှုက အရေးကြီးပါတယ် ဖြေရှင်း မလဲ ဆိုတာကို အခုပဲ သူငယ်ချင်းတွေနဲ့ လူစုလိုက်ပါတော့',\n",
              " 'တနင်္သာရီ အပတ်စဉ်ဂျာနယ်ပါ ‘မဲဆွယ်အပြုံး‘ သရော်စာနှင် ပတ်သက်၍ ဂျာနယ်တာဝန်ခံ အယ်ဒီတာအား သတင်းမီဒီယာ ဥပဒေပုဒ်မ ဖြင် လက်ခံစစ်ဆေးရန် တရားရုံးဆုံးဖြတ်',\n",
              " 'တနင်္သာရီ တိုင်းဒေသကြီး အခြေစိုက် ထုတ်ဝေနေသည် တနင်္သာရီ အပတ်စဉ်ဂျာနယ်ပါ ‘မဲဆွယ်အပြုံး’ သရော်စာနှင် ပတ်သက်၍ ဂျာနယ်တာဝန်ခံ အယ်ဒီတာအား အရေးယူပေးရန် တိုင်းဒေသကြီး အစိုးရအဖွဲ့က ဦးတိုက်လျှောက်ထား သတင်းမီဒီယာ ဥပဒေပုဒ်မ လက်ခံစစ်ဆေးရန် ထားဝယ် မြို့နယ် တရားရုံး ဒီဇင်ဘာ ရက်တွင် ဆုံးဖြတ် အမိန် ချခဲ့ကြောင်း',\n",
              " 'ဒီမိုကရေစီ အကျိုးပြု ကရင် တပ်မတော် တပ်တည်ထောင်သည် အခမ်းအနားကို တပ်စခန်းတည်ရှိရာ ဆုံဆည်းမြိုင် ဒေသ ပြုလုပ်',\n",
              " 'ဆင်အရိုးစုနှင် အသုံးအဆောင် နေထိုင်မှုပြတိုက် မြန်မာနိုင်ငံတွင် ပထမဆုံးအဖြစ် ရွှေတောင်မြို့နယ် နတ်မှော်စခန်းတွင် ဖွင် လှစ်',\n",
              " 'တောင်ကြီးမြို့ ရွှေ မောင်း ပေါ်ရှိ ကျူးကျော် နေအိမ်များကို စည်ပင်သာယာရေး ဥပဒေဖြင် ဖယ်ရှား ရှင်းလင်းမည်ဟု',\n",
              " 'အန်ဒရီယာ မာစီ အီတလီ စမ်းသပ်မှု တစ်ခု စတုတ္ထ မိနစ် အမှတ်ပေးခြင်း ဖွင့်လှစ်ပေးခဲ့သည်',\n",
              " 'ဧရာဝတီ မြစ်ရေသည် ပြည်မြို့တွင် သြဂုတ် ရက်မွန်းလွဲ နာရီမှ စတင်ကာ အနည်းငယ် ကျဆင်းလာခဲ့ပြီး သြဂုတ် ရက်နံနက် တိုင်းတာချက်များအရ စင်တီမီတာ ကျဆင်းသွာကြောင်း ပြည်မိုးဇလမှ',\n",
              " 'ဧရာဝတီ မြစ်ရေသည် ပြည်မြို့တွင် သြဂုတ် ရက်၌် စိုးရိမ် ရေအမှတ် စင်တီမီတာ အထက် စင်တီမီတာအထိ မြင့်တက် ကျော်လွန် ခဲ့ပြီး ပြန်လည် ကျဆင်းခဲ့ ခြင်းဖြစ်သည်',\n",
              " 'တစ်နာရီကို စင်တီမီတာနှုန်းဖြင့် ကျဆင်းနေသည်ကို တွေ့ရပြီး ဆက်လက် ကျဆင်းနိုင်ကာ သုံးရက်အတွင်း စိုရိမ် ရေအမှတ်အောက် ရောက်နိုင်ကြောင်း ပြည်မိုး ဇလ ဦးစီးအရာရှိ ဦးအောင်မြင့်ကြည်က',\n",
              " 'တောင်ပြိုမှုများ ဖြစ်ပွားခဲ့ လမ်းပန်း ဆက်သွယ်ရေး ပြတ်တောက်ခဲ့ရသော ကလေး ဟားခါး ကားလမ်း တစ်လျှောက် ပြုပြင်ရေး လုပ်ငန်းများ ဆောင်ရွက်ခဲ့ရာ ကလေးမှ ဖလမ်းအထိ လမ်းပိုင်းကို သြဂုတ် ရက်တွင် ဒေသ ယာဉ်ငယ်များ သွားလာနိုင်ပြီ ဆက်လက်၍ ကလေးမှ ဟားခါးအထိ သွားလာ နိုင်ရေးအတွက် ကျန် လမ်းပိုင်း ပျက်စီးမှုများကို ဆက်လက် ပြုပြင် ဆောင်ရွက်လျက်ရှိရာ မကြာမီ ရက်ပိုင်းအတွင်း ကလေးမြို့မှ ဟားခါးမြို့အထိ သွားလာနိုင် တော့မည်ဖြစ်ကြောင်း',\n",
              " 'ပညာရှင်အချို့ ဆွေးနွေး အပြီးမှာ ပြန်ကြားရေး ဝန်ကြီးဌာန ဆက်သွယ်ရေးနဲ့ သတင်းအချက်အလက် နည်းပညာ ဝန်ကြီးဌာန ပူးပေါင်းပြီး အရေးကြီးတဲ့ မြို့များရဲ့ မြစ်ရေကြီးမှု သတင်းများကို ပို့ပေးနေပါတယ် ဖုန်း သန်း ပေါင်းများစွာ ပို့တာ ဖြစ်တဲ့အတွက် တစ်ဦးနဲ့ သတင်းရရှိမှု အချိန် ကွာခြားကောင်း ကွာခြားမှာ စာလုံးရေ အကန့်အသတ်ရှိတဲ့ အသေးစိတ် သတင်းအချက်အလက်များ သိချင်ရင် ဖုန်းနံပါတ် ဆက်သွယ် မေးမြန်း နိုင်ကြောင်း ပြန်ကြားရေး ဝန်ကြီး ဦးရဲထွဋ်ရဲ့ ဖေ့ဘုတ် စာမျက်နှာမှာ ဖော်ပြထားပါတယ်',\n",
              " 'ဒါရိုက်တာ စင်ရော်မောင်မောင်က ထာဝရ အမေ ပြီးရင် ထာဝရ အဖေကို ဆက်လက် ရိုက်ကူးမှာ ဇာတ်လမ်းနဲ့ ပတ်သက်ပြီး အကြံပြုစာတွေ ပေးပို့ဖို့ ဖိတ်ခေါ်လိုက်ပါတယ်',\n",
              " 'သဘာ သယံဇာတနှင့် တောထွက် ပစ္စည်းများ ထိန်းသိမ်း စောင့်ရှောက်ရေး ရိုက်ကူးထားသည့် “ငေါ့ချမ်းခသစ္စာ” ကချင် ဗမာ ရုပ်ရှင်ဇာတ်ကား မြစ်ကြီးနားတွင် ပြသ',\n",
              " 'အင်္ကျီ ဦးထုပ်များကို မိတ်ဆက်ရင်း ဖျော်ဖြေပွဲ ပြုလုပ်မည့် အကြောင်း ပြောလာသည့် တေးသံရှင်',\n",
              " 'တိုင်းဒေသကြီးနှင့် ပြည်နယ်များ မြို့နယ် ဘောလုံး အဖွဲ့ချုပ် ခုနှစ် မတ်လတွင် စတင်ဖွဲ့စည်းမည်',\n",
              " 'ထိုင်းနိုင်ငံ မဲဆောက်မြို့ အနီးရှိ အထည်ချုပ်စက်ရုံမှ လုပ်အားခ ခေါင်းပုံ ဖြတ်ခံရသည့် လုပ်အားခငွေ ဘတ် ပြန်လည်ရရှိ',\n",
              " 'နိုင်ငံသူ နိုင်ငံသားများ နိုင်ငံတော်သမ္မတ ဇနီးတို့အတွက် နေပြည်တော် သပြေကုန်းရပ်ကွက်ရှိ လူမျိုးပေါင်းစုံ နှစ်ခြင်းခရစ်ယာန် အသင်းတော်မှ ခရစ်တော်မွေးနေ့အကြို ဆုတောင်းမေတ္တာပို့သ',\n",
              " 'တရုတ် ကုမ္ပဏီတစ်ခု ပန်ဒါ အညစ်အကြေးများ တစ်သျှူး စက္ကူ ပြောင်းလဲ ထုတ်လုပ်မည်',\n",
              " 'မလေးရှား နိုင်ငံ အတွင်းရှိ တရားမဝင် လုပ်သားများ ဒီဇင်ဘာလ အပြီး ထွက်ခွာရန် ကြေညာထားမှု မလေးရှား အစိုးရနှင့် မြန်မာသံရုံး တာဝန်ရှိသူများ ညှိနှိုင်းဆွေးနွေးနေ',\n",
              " 'မဲခေါင် ဒေသ ပုတ်သင်ညိုနှင့် လိပ်မျိုးစိတ်သစ်များ တိရိစ္ဆာန် မျိုးစိတ်သစ် တွေ့ရှိ',\n",
              " 'ထားဝယ်မြို့ ရှင်ကိုးရှင် သမိုင်းဝင် ရှင်ဓာတ်ဝဲ စေတီတော်မြတ်ကြီးအား ရှေးမူမပျက် မူလ ပုံစံအတိုင်း ပြုပြင်သွားရန် နိုင်ငံတော်သံဃနာယက အဖွဲ့ ညွှန်ကြား',\n",
              " 'ရန်ကုန် ဆေးရုံကြီးရှိ စားသောက်ဆိုင် တန်း ဆိုင်များအား ပထမဆုံးအကြိမ်အဖြစ် ဒီဇင်ဘာ နံနက်ပိုင်းက ရှောင်တစ်ခင် ဝင်ရောက် စစ်ဆေးခဲ့ကြောင်း',\n",
              " 'ကျုံးဘေးရှိ မန်းသီတာ ဥယျာဉ်သစ် ပြန်လည် တည်ဆောက်မှုအား တပ်မတော် တာဝန်ယူ တည်ဆောက်မည်',\n",
              " 'မြန်မာ့လက်ရွေးစင် ဖူဆယ်အသင်း ထိုင်းနိုင်ငံသို့ သွားရောက်ပြီး ထိုင်းလက်ရွေးစင် ဖူဆယ်အသင်း ထိုင်း ဖူဆယ်ကလပ် များနှင့် ခြေစမ်းပွဲများ ယှဉ်ပြိုင်ကစားမည်',\n",
              " 'တောင်ကလေး ကရင် အမျိုးသား နှစ်သစ်ကူးနေ့ အထိမ်းအမှတ် မြန်မာရိုးရာ လက်ဝှေ့ အထူးစိန်ခေါ်ပွဲတွင် စောငမန်းက ထိုင်း လက်ဝှေ့သမားကို အလဲထိုး အနိုင်ရ',\n",
              " 'ကမ္ဘာကျော် ဘောလုံးသမားဟောင်း ရိုမာရီရိုက ဘရာဇီး ဘောလုံး အဖွဲ့ချုပ်ဥက္ကဋ္ဌ အဖြစ်ဝင်ရောက် အရွေးခံရန် စီစဉ်',\n",
              " 'နိုင်ငံတော် အတိုင်ပင်ခံ ပုဂ္ဂိုလ် အိန္ဒိယနိုင်ငံ ပြည်ပရေးရာဝန်ကြီးဌာန တွေ့ဆုံပြီး နှစ်နိုင်ငံ အစိုးရ အကြား ရခိုင်ပြည်နယ် ဖွံ့ဖြိုးတိုးတက်ရေး နားလည်မှု စာချွန်လွှာ လက်မှတ်ရေးထိုး',\n",
              " 'အိန္ဒိယနိုင်ငံ နယူးဒေလီ မြို့ မီးခိုး မြူ ရှင်းလင်းရေး ရေသေနတ် အသစ် တစ်မျိုးအား ထုတ်ဖော်ပြသ',\n",
              " 'ဖမ်းဆီး ခံထားရသည့် ရိုက်တာသတင်းထောက် နှစ်ဦးအား ပြန်လွှတ်ပေးရေး ဥရောပသမဂ္ဂ ဂျပန် လူ့အခွင့်အရေး အဖွဲ့အစည်းတို့ တောင်းဆို',\n",
              " 'မြန်မာနိုင်ငံ၏ ပြည့် လွတ်လပ်ရေးနေ့ အထိမ်းအမှတ်အဖြစ် သမ္မတ ဦးထင်ကျော်ထံ ကမ္ဘာ့ ခေါင်းဆောင်များက ဝမ်းမြောက်ကြောင်း သဝဏ်လွှာများ ပေးပို့',\n",
              " 'ငဝန်မြစ် စက် လှေတိမ်းမှောက်မှု ဖြစ်စဉ်များ ဖြစ်ပွားခဲ့ပြီးနောက် အစိုးရအဖွဲ့က ပုသိမ်မြို့ ကမ်းနားလမ်းတွင် ဖွင့်လှစ်',\n",
              " 'မင်းလှ မြို့နယ် စိန်ကန့်လန့် ကျေးရွာ အနီးရှိ မုက္ခာ ရေတံခွန် ဆင်စခန်း ဖွင့်လှစ်',\n",
              " 'ဇန်နဝါရီလ ဒုတိယပတ်တွင် ရုံတင်ပြသမည့် သုံးရောင်ခြယ် ရုပ်ရှင် ဇာတ်ကားကြီးကို မန္တလေးတွင် ပြသ',\n",
              " 'ကိန်းစ် ရုပ်ရှင်ပွဲတော် အကဲဖြတ်ဒိုင် အဖွဲ့ ဦးဆောင်မည်',\n",
              " 'ခုနှစ်အတွင်း သဘာဝဓာတ်ငွေ့နှင့် ကျောက်မီးသွေးသုံး လျှပ်စစ်ဓာတ်အား ထုတ်လုပ်မှုမှာ ယခင်နှစ်ထက် ရာခိုင်နှုန်း တိုးတက်လာပြီး လေးနှစ် ဆက်တိုက် ဓာတ်အား ထုတ်လုပ်မှု မြင့်တက်',\n",
              " 'တိုင်းပြည် ဖွံ့ဖြိုးတိုးတက်ဖို့ ပြည်တွင်း ငြိမ်းချမ်းရေး ရရှိရန် လိုအပ်ပြီး လက်တွဲစေလိုဟု စစ်ကိုင်း တိုင်းဒေသကြီး လွတ်လပ်ရေး မော်ကွန်းဝင် ပုဂ္ဂိုလ်ကြီးများ',\n",
              " 'မန္တလေးမြို့ရှိ လွတ်လပ်ရေး မော်ကွန်းဝင် ပုဂ္ဂိုလ်လေးဦးကို အခမဲ့ ယာဉ်စီးနင်းခွင့် ဆေးကုသခွင့် သတ်မှတ်ရေ မီးအခမဲ့ တစ်သက် တာသုံးစွဲခွင့်များ တိုင်းဒေသကြီး အစိုးရက ချီးမြှင့်',\n",
              " 'ပြည်သူလူထုများ ဆင်နွှဲလာသည့် လွတ်လပ်ရေးနေ့ ဖြစ်ကြောင်းနှင့် နောင်နှစ်များတွင် ယခုထက် ပိုကောင်းအောင် ကျင်းပ သွားမည် ရန်ကုန် မြို့တော်ဝန်',\n",
              " 'လူငယ်ရေးရာမူဝါဒ မိတ်ဆက်ဖြန့်ချိခြင်း အခမ်းအနားကို ယနေ့ နံနက်ပိုင်းတွင် နေပြည်တော်ရှိ ခန်းမ၌ ပြုလုပ် လျက်ရှိသည်',\n",
              " 'အောင်လအန်ဆန် ပါဝင်ထိုးသတ်မည့် ပြိုင်ပွဲကို ရန်ကုန်မြို့တွင် ကျင်းပမည်',\n",
              " 'နိုင်ငံတော်သမ္မတ ဦးထင်ကျော် ဇနီး ဒေါ်စုစုလွင်တို့ တည့်ခင်း ဧည့်ခံသည့် ပြည့် လွတ်လပ်ရေးနေ့ အထိမ်းအမှတ် ညစာစားပွဲ နိုင်ငံတော်သမ္မတ အိမ်တော်တွင် ကျင်းပခဲ့',\n",
              " 'သူရ ဘွဲ့ရရှိသည့် အရာရှိ စစ်သည်များကို သမ္မတ ဦးထင်ကျော် ဂုဏ်ထူးဆောင်ဘွဲ့များ ပေးအပ်ချီးမြှင့်',\n",
              " 'ဗြိတိန် တော်ဝင်မင်းသား ဟယ်ရီနှင့် အမေရိကန် ရုပ်ရှင်မင်းသမီး မီဂန်မာကယ်တို့ မင်္ဂလာပွဲကြောင့် ဗြိတိန် စီးပွားရေး တိုးတက်လာမည်ဟု ခန့်မှန်း',\n",
              " 'မတ်လအတွင်း မင်္ဂလာပွဲ ကျင်းပတော့မယ့် အဆိုတော် စန္ဒီမြင့်လွင်ကတော့ ဇန်နဝါရီ အသစ်လေးတွေ သူမရဲ့ ဖေ့စ်ဘွတ်မှာ တင်လိုက်ပါတယ်',\n",
              " 'ခြောက်လတာ ဘတ်ဂျက်အတွင်း လုပ်ငန်းသစ်များ ဆောင်ရွက် အချိန် လုံလောက်မှု မရှိနိုင် တတ်နိုင်သမျှ လုပ်ငန်းသစ်များ တောင်းခံခြင်း မပြုရန် နိုင်ငံခြားသုံး ငွေသုံးစွဲမှု ကိုလည်း တတ်နိုင်သမျှ လျှော့ချရန် လိုအပ်ကြောင်း နိုင်ငံတော်သမ္မတ ဦးထင်ကျော် ဘဏ္ဍာရေး ကော်မရှင် အစည်းအဝေး မှာကြား',\n",
              " 'ဘဏ္ဍာရေးနှစ် ပြောင်းလဲရေး လတာ အမျိုးသား စီမံကိန်းတွင် နိုင်ငံ ဒသမ ရာခိုင်နှုန်း တိုးတက်မည်ဟု မျှော်မှန်းထားတာ တွေ့ရှိရကြောင်း နိုင်ငံတော်သမ္မတ',\n",
              " 'နိုင်ငံ ပညာရေး စနစ်ကြောင့် ပြည်သူများ အားနည်းချက်များ ရှိခဲ့သော်လည်း ဖြည့်ဆည်းနိုင်မည့် နည်းလမ်း ရှာရမည်ဟု ဒေါ်အောင်ဆန်းစုကြည်',\n",
              " 'ပြည်ပရောက် မြန်မာလုပ်သား မိသားစုထံ ငွေ လွှဲပေးပို့ရာတွင် ပုဂ္ဂလိက ဘဏ်များ တရားဝင် ချိတ်ဆက် လွှဲပို့နိုင်ရန် တာဝန်ရှိသူများ စတင်ဆွေးနွေး',\n",
              " 'ရခိုင်ပြည်နယ် ပုဏ္ဏားကျွန်း မြို့နယ်တွင် ကျောင်းဆင်း အပြန် ကူးတို့စက်လှေ နစ်မြုပ်မှုကြောင့် ကျောင်းသူ သေဆုံးကာ ပျောက်ဆုံးမှု ဖြစ်ပွား',\n",
              " 'လုံခြုံမှု မရှိဘဲ ဘင်္ဂါလီ ဒုက္ခသည်များအား အတင်းအကျပ် ပြန်မပို့ရန် ဘင်္ဂါလီ ခေါင်းဆောင်များ တောင်းဆို',\n",
              " 'အမေရိကန်သမ္မတ ရွေးကောက်ပွဲအတွက် အိုပရာဝင်းဖရေးကို သမ္မတထရန့်က ပြိုင်ဖက် တယောက်အဖြစ် ဝမ်းမြောက်စွာ လက်ခံသွားမည်ဟုဆို',\n",
              " 'အီဂျစ် နိုင်ငံ ပထမအကျော့ သမ္မတ ရွေးကောက်ပွဲများကို မတ်လ နှောင်းပိုင်းတွင် ကျင်းပမည်',\n",
              " 'ကုန်သွယ်ရေး ရင်းနှီး မြုပ်နှံရေးဆိုင်ရာ လုပ်ငန်းရပ်များ ကောင်းမွန်စေရန် ထိုင်း တရုတ် ဗဟိုဘဏ်များ ငွေကြေး လဲလှယ်မှုဆိုင်ရာ သဘာတူညီချက်',\n",
              " 'မြောက်ကိုရီးယား နိုင်ငံကြား စစ်မဲ့ဇုန် ပန်မွန်ဂျွန် ကျေးရွာ နှစ်နိုင်ငံ ကိုယ်စားလှယ်အဖွဲ့ တွေ့ဆုံ ဆွေးနွေးပွဲ ပြုလုပ်',\n",
              " 'ဇန်နဝါရီလ ကမ္ဘာ့ရွှေဈေး မြင့်တက်နေပြီး ပြည်တွင်း အခေါက်ရွှေဈေး တစ်ကျပ်သား အထက်တွင် တည်ငြိမ်နေ',\n",
              " 'မြောက်ကိုရီးယား နှစ်နိုင်ငံ နှစ်နှစ် ကျော်အတွင်း ပထမဆုံးအကြိမ်အဖြစ် ဇန်နဝါရီ ရက်၌ တရားဝင် ဆွေးနွေးပွဲကို စတင်ခဲ့ကြပြီး တောင်ကိုရီးယားတွင် ကျင်းပမည့် ဆောင်းရာသီ အိုလံပစ် ပြိုင်ပွဲ အားကစား အဖွဲ့နှင့် အဆင့်မြင့် ကိုယ်စားလှယ်အဖွဲ့ စေလွှတ်ရန် ဆန္ဒရှိကြောင်း မြောက်ကိုရီးယားက ထုတ်ပြန်ခဲ့သည်',\n",
              " 'မောင်တောဒေသ အကြမ်းဖက် တိုက်ခိုက်မှု ဖြစ်စဉ်များကြောင့် ပိတ်ထားရသော ကျောင်း ကျောင်းထဲမှ ကျောင်း ပြန်ဖွင့်ပြီးဖြစ်',\n",
              " 'သြစတြေးလျ နိုင်ငံ အက်ဒလေမြစ် ထဲရှိ အဖြူရောင် ရှားပါး မိကျောင်း တစ်ကောင် ကမ္ဘာလှည့် ခရီးသွားများ မိတ်ဆက်ပြသ',\n",
              " 'ကိုင်ဆွဲစရာ မလိုဘဲ ပိုင်ရှင် နောက်သို့ လိုက်နေမည့် စမတ် ခရီးဆောင်အိတ်များကို ပွဲတွင် ပြသခဲ့',\n",
              " 'ဒိုင်အဖြစ် အသစ် ပါဝင်လာတော့မယ့် အကယ်ဒမီ ရန်အောင်နဲ့ မျိုးကျော့မြိုင်',\n",
              " 'အနောက်ဘက် ကမ်းတွင် ဂျူး အခြေချအိမ်ယာများ ထပ်မံ ဆောက်လုပ်ဖို့ အစ္စရေး စီစဉ်နေ',\n",
              " 'ပျောက်ဆုံး လေယာဉ်အား ရှာဖွေရန် ဒေါ်လာ သန်း ငါးဆယ် တန်ဖိုးရှိ သဘောတူစာချုပ်အား မလေးရှားနှင့် အမေရိကန် ကုမ္ပဏီတို့ လက်မှတ်ရေးထိုး',\n",
              " 'အလုပ်သမား တစ်ရက်လုပ်ခ အနည်းဆုံး အခကြေးငွေကို ကျပ်နှင့်အထက် ရရှိနိုင်ရန် အလုပ်သမား အဖွဲ့အစည်းများ တစ်စုတစ်စည်းတည်း လုပ်ဆောင်သွားမည်ဟု',\n",
              " 'ဂျပန် နိုင်ငံခြားရေး ဝန်ကြီး တာရိုကိုနို ရက်ကြာ ခရီးစဉ် မြန်မာနိုင်ငံသို့ ယနေ့ ရောက်ရှိမည်',\n",
              " 'လူမစုံသော်လည်း ချယ်လ်ဆီး ကွင်းတွင် သရေ ရလဒ် ရယူနိုင်ခဲ့သည့် အာဆင်နယ်',\n",
              " 'တစ်ဖက်နိုင်ငံ ထွက်ပြေးပြီး ပြန်လည်ဝင်ရောက်လာသူ စိစစ်လက်ခံပြီး ယာယီ ထားရှိမည့် လှဖိုးခေါင် ကြားစခန်းတွင် လူဦးရေ အထိနေထိုင်ရန် အဆောက်အအုံ ဆောက်လုပ်မည်',\n",
              " 'လျှပ်စစ်စွမ်းအား သိပ္ပံ နည်းပညာ ကဏ္ဍ ပူးပေါင်းဆောင်ရွက် မြန်မာ လာအို နားလည်မှု စာချွန်လွှာများ ရေးထိုး',\n",
              " 'ပြည်ပ ဆန်တင်ပို့မှု အမေရိကန်ဒေါ်လာသန်း ကျော်ရရှိ ထားပြီး ဘဏ္ဍာ နှစ်ကုန်ချိန်တွင် ဆန်တန်ချိန် သန်းနီးပါး တင်ပို့နိုင်ရန် ခန့်မှန်းထား',\n",
              " 'ခုနှစ်အတွင်း စံချိန်တင် ကားအစင်းရေ ပမာဏကို ရောင်းချ နိုင်ခဲ့ကြောင်း ဗောက်စ်ဝက်ဂွန် ထုတ်ပြန်',\n",
              " 'မန်ယူ အသင်း စတုတ်စီးတီး အသင်း ဂိုးပြတ် အနိုင်ရရှိ',\n",
              " 'လူမျိုးရေး ခွဲခြားသူ မဟုတ်ကြောင်းနှင့် အစီအစဉ် တံခါး ဖွင့်ထားဆဲ ဒေါ်နယ်ထရန့်',\n",
              " 'ရှမ်း ယူနိုက်တက် အသင်းနှင့် ယှဉ်ပြိုင် ကစားရမည့် ပထမ အဆင့် ခြေစစ်ပွဲ အသင့် ဖြစ်နေပြီဟု စီရီနီရိုး အသင်း နည်းပြချုပ်',\n",
              " 'ခုနှစ်အတွင်း စံချိန်တင် ကားအစင်းရေ ပမာဏကို ရောင်းချ နိုင်ခဲ့ကြောင်း ဗောက်စ်ဝက်ဂွန် ထုတ်ပြန်',\n",
              " 'မာလကာရွက်မှာ ဗီတာမင်စီ ကြွယ်ဝသလို ဆံပင်ကို အထောက်အကူပြုတဲ့ အဟာရဓာတ်များစွာ ပါဝင်ပါတယ် ဆံပင်တွေ ကျွတ်တဲ့အခါ သုံးနိုင်မယ့် နည်းလေးတစ်ခုကို ဖော်ပြပေးလိုက်ပါတယ်',\n",
              " 'ယခုနှစ်အတွင်း မြန်မာနိုင်ငံ၌ ကဏ္ဍအလိုက် ရင်းနှီးမြှုပ်နှံမှု ရေနံ သဘာဝဓာတ်ငွေ့ လျှပ်စစ်ဓာတ်အား ကုန်ထုတ်လုပ်မှု တယ်လီကွန်းနှင့် အိမ်ခြံမြေ ကဏ္ဍကြီးငါးခုမှာ ထိပ်ဆုံးမှရပ်တည်',\n",
              " 'ဆေးဝါးစက်ရုံ အင်းစိန် ထုတ်လုပ်သော မြွေဆိပ်ဖြေဆေးများ ကမ္ဘောဒီးယား နိုင်ငံ ပထမအသုတ်အဖြစ် စတင်ရောင်းချ',\n",
              " 'ရတနာပုံတက္ကသိုလ် ဆန္ဒထုတ်ဖော်မှုတွင် ပါဝင်ခဲ့သော ကျောင်းသား ကျောင်းသူများ ကျောင်းပြန်လည် တက်ရောက်ခွင့် ရရှိရန် မြန်မာ နိုင်ငံလုံးဆိုင်ရာ ဆရာ ဆရာမများ အဖွဲ့ချုပ် သဘောထား ထုတ်ပြန်',\n",
              " 'ရန်ကုန်မိုးပျံလမ်း စီမံကိန်း အကောင်အထည်ဖော် မြေအောက်လမ်း အကောင်အထည်ဖော်ရန် စဉ်းစား ကြောင်းနှင့် ငလျင် လှုပ်ခတ် ဆိုပါက လုံခြုံမှုရှိဟု',\n",
              " 'မြန်မာနိုင်ငံသို့ ဘင်္ဂါလီများ စတင်ဝင်ရောက်ခဲ့သည့် သမိုင်းကြောင်းကို ပြန်လည်ပြုစုထားသော စာအုပ်ထုတ်ဝေရန် နိုင်ငံတော် အတိုင်ပင်ခံ ပုဂ္ဂိုလ် မူကြမ်းတင်ပြထား',\n",
              " 'ရခိုင်ပြည်နယ် လွှတ်တော် အရေးပေါ်အစည်းအဝေးကို ဇန်နဝါရီ ယနေ့ တွင်ပြုလုပ်မည်ဖြစ်ရာ ယင်းအစည်းအဝေးတွင် ရခိုင်ပြည်နယ် အစိုးရအဖွဲ့ ပိုလျှံရန်ပုံ ငွေများကို ခွဲဝေ သုံးစွဲ နိုင်ရေးအတွက် အတည်ပြုနိုင်ရေး လွှတ်တော်တွင်း ဆွေးနွေးသွားမည် ဖြစ်ကြောင်းနှင့် မြောက်ဦးဖြစ်စဉ်နှင့် ပတ်သက်ပြီး စုံစမ်းစစ်ဆေးရေး အဖွဲ့ ဖွဲ့စည်းထားပြီး ဖြစ်သဖြင့် ယင်းအဖွဲ့အား အတည်ပြု မပြုကို လွှတ်တော်အတွင်း ဆွေးနွေးသွားမည် လွှတ်တော်ဒုတိယ ဥက္ကဋ္ဌထံမှ',\n",
              " 'ချယ်လ်ဆီးနှင့် မန်စီးတီးတို့ ပြိုင်ဖက်အသီးသီးကို ဂိုးပြတ်အနိုင်ယူပြီး ဖလား နောက်တဆင့်သို့ တက်လှမ်းနိုင်ခဲ့',\n",
              " 'မော်စကိုထံမှ ကြီးမားပြီး အမှန်တကယ်ဖြစ်သော ခြိမ်းခြောက်မှုအား တန်ပြန်ရန် စကော့တလန်၏ ရှက်လန်းကျွန်းစု အလွန်ရှိ ရေဒါစနစ်သစ်က ဖြေရှင်းနိုင်မည် ဗြိတိန် ကာကွယ်ရေးဝန်ကြီး ဂါဗင်ဝီလျံဆန်က ပြောကြားခဲ့သည်',\n",
              " 'သုံးလနီးပါးကြာ ထိန်းသိမ်းခံခဲ့ရသော ဆော်ဒီဘီလျံနာမင်းသား အယ်ဝါလိဒ်ဘင်တာလယ်သည် အာဏာပိုင်များအား ကျေအေးငွေ ပြီးနောက် ဇန်နဝါရီ ရက်က ပြန်လည် လွတ်မြောက် လာခဲ့ပြီ',\n",
              " 'သရုပ်ဆောင် မစ်ရှဲယို ပါဝင်သည့် မလေးရှား ကိုယ်စားလှယ်အဖွဲ့ ဘင်္ဂလားဒေ့ရှ် နိုင်ငံ ဒုက္ခသည်စခန်း သွားရောက် လည်ပတ်',\n",
              " 'မြောက်ကိုရီးယား၏ နျူကလီးယား လက်နက်စီမံကိန်းကို ထိန်းချုပ်ရေးအတွက် ပူးပေါင်း ဆောင်ရွက်မှုများ တိုးမြှင့် လုပ်ဆောင်ရန် ဂျပန် နိုင်ငံခြားရေး ဝန်ကြီး တရုတ်ကို ဆော်သြခဲ့ကြောင်း ဂျပန် နိုင်ငံခြားရေး ဝန်ကြီး တာရိုကိုနိုနှင့် တရုတ် နိုင်ငံခြားရေး ဝန်ကြီး ဝမ်ယီတို့သည် ပေကျင်းတွင် ဇန်နဝါရီ တွေ့ဆုံခဲ့ကြသည် နယ်မြေပိုင်ဆိုင်မှု အငြင်းပွားခြင်း ကိစ္စနှင့် ဒုတိယကမ္ဘာစစ်အတွင်းက အကြွင်းအကျန်များ ပြိုင်ဘက် နှစ်နိုင်ငံ ဆက်ဆံရေး တင်းမာနေသည်မှာ ကာလရှည်ကြာရှိပြီ ထိုဆက်ဆံရေးကို တိုးတက်စေရန် နှစ်နိုင်ငံစလုံးက ကြိုးပမ်းနေကြစဉ် ယခုတွေ့ဆုံမှု ဖြစ်ပေါ်လာခြင်းလည်း',\n",
              " 'ထိုးပြီး ပြုပြင်လိုက်တဲ့ ဝါ မိုး တစ်ယောက် နှုတ်ခမ်းဖူးဖူးလေး တစ်မျိုးလှနေပါတယ်',\n",
              " 'ရုရှားတပ်နဲ့ မြန်မာ စစ်ရေး အကြီးစား ပူပေါင်း စီစဉ်လိုက်ပြီ',\n",
              " 'အမြင့်ဆုံး သမိုင်း မှတ်တိုင် ရေးထိုး တဲ့ဗိယက်နမ် အသင်းကို မိုင် နီးပါး ရှည်လျားတဲ့ လူတန်းကြီးဖြင့် စောင့် ကြို တဲ့ဗိယက်နမ် နိုင်ငံသား တက်ကြွ အမျိုးသမီးတစ်ဦး ဖြစ်နေ စေဖို့ သံဓာတ်ကြွယ်ဝတဲ့ အစားအစာတွေကိုလည်း စားပေးရပါမယ်',\n",
              " 'အစားအသောက်ပွဲတော် ပွဲတော် ဇန်နဝါရီလ ရက်နေ့နဲ့ ရက်နေ့တို့မှာ ပြည်သူ့ရင်ပြင် ကွင်းအမှတ် ကျင်းပပြုလုပ် မှာပဲ နာမည်ကျော် အဆိုတော် ဖြစ်တဲ့ ဇော်ပိုင် အောင်ထက် ကျော်ဇင်မင်း အိမ့်ချစ် ဆိုင်းဇီ ဂျူဝယ် အဖွဲ့ မျက်လှည့်အဖွဲ့ သီဆိုဖျော်ဖြေမှုတွေ အခြားဖျော်ဖြေရေး အစီအစဉ်များစွာ ပွဲဝင်ကြေးကတော့ အခမဲ့ဖြစ်ပြီး ပွဲကျင်းပချိန် နံနက် နာရီကနေ နာရီအထိပဲဖြစ်ပါတယ်',\n",
              " 'သမ္မတ သံဃာ့ မဟာ နာယက ဆရာတော်ကြီးများကို ဂါရဝပြု ဩဝါဒ ခံယူသည်',\n",
              " 'ပြည်ထောင်စု သမ္မတ မြန်မာ နိုင်ငံတော် နိုင်ငံတော်သမ္မတ ဦးထင်ကျော် နိုင်ငံတော် သံဃာ့ မဟာ နာယက ဆရာတော်ကြီးများကို အရိုအသေ ပေးခဲ့သည်',\n",
              " 'သမ္မတ မနေ့က နေ့လယ်တွင် ကမ္ဘာအေး ကုန်းမြေ ဝိဇယ မင်္ဂလာ ဓမ္မ သဘင် သူတို့ဆီမှာ ဩဝါဒ ခံယူခဲ့သည်',\n",
              " 'ရှေးဦးစွာ သမ္မတ သာသနာရေး လျှောက်ထားရာ သက်တော် ဝါတော်ကြီး မြင့် သည့် ဆရာတော်ကြီးများ ယခုကဲ့သို့ ကျန်းကျန်းမာမာ နှင့် အထောက်အကူ မပါ သွားလာနိုင်သည် ဖူးမြော် ရသည့် လွန်စွာ ဝမ်းမြောက်ဝမ်းသာ ပီတိ ဖြစ်ရပါကြောင်း ပြောကြားသည်',\n",
              " 'သာသနာတော် မြတ်ကြီး များစွာ အရှင်ဘုရား ဩဝါဒများ နာကြား ခံယူရန် ဖြစ်ပါသည်',\n",
              " 'ယင်းနောက် နိုင်ငံတော် သံဃာ့ မဟာ နာယက အဖွဲ့ဥက္ကဋ္ဌ အဘိ ဇမဟာရဋ္ဌဌဂုရု အဘိဓဇ အဂ္ဂမဟာ သဒ္ဓမ္မ ဇောတိက ဗန်းမော် ဆရာတော် ဒေါက်တာ ဘဒ္ဒန္တကုမာရာဘိဝံသ ဒါန ပေယျဝဇ္ဇ အတ္ထစရိယာ နှင့် သမာနတ္တတာတို့ ဩဝါဒ ချီးမြှင့်တော်မူသည်',\n",
              " 'ထို့နောက် ဥက္ကဋ္ဌ နှင့် ဆရာတော်ကြီးများ သမ္မတ ပြည်ထောင်စုဝန်ကြီး သူရ ဦးအောင်ကို ရန်ကုန်တိုင်းဒေသကြီး ဝန်ကြီးချုပ် ဦးဖြိုးမင်းသိန်း ရန်ကုန် မြို့တော်ဝန် ဦးမောင်မောင်စိုး နှင့် ဌာနဆိုင်ရာ တာဝန်ရှိသူများက လှူဖွယ် တ္ထုပစ္စည်း ဆက်ကပ် လှူဒါန်းကြသည်',\n",
              " 'မြန်မာ နိုင်ငံတော် အစိုးရ၏ မူဝါဒ နှင့်အညီ အင်ဒိုနီးရှား နိုင်ငံ အစိုးရက ထောက်ပံ့ သည့် လူသားချင်း စာနာထောက်ထား သည့် ထောက်ပံ့ရေး ပစ္စည်းများ ပေးအပ်ပွဲ ယနေ့ နံနက်ပိုင်းက ရခိုင်ပြည်နယ် အစိုးရအဖွဲ့ ရုံး အစည်းအဝေး ခန်းမ၌ ကျင်းပသည်',\n",
              " 'အင်ဒိုနီးရှား နိုင်ငံ နိုင်ငံခြားရေး ဝန်ကြီး အင်ဒိုနီးရှား အစိုးရ ၏ကိုယ်စား လူသားချင်း စာနာထောက်ထား သည့် ထောက်ပံ့ရေး ရည်ရွယ်ချက်ကို ရှင်းလင်းခဲ့သည်',\n",
              " 'ထို့နောက် လူမှုဝန်ထမ်း ကယ်ဆယ်ရေး နှင့် ပြန်လည်နေရာချထားရေး ဝန်ကြီးဌာန ပြည်ထောင်စုဝန်ကြီး ဒေါက်တာဝင်းမြတ်အေးက အကူအညီ သဘောတူညီမှု တစ်ခု လက်မှတ်ရေးထိုးခဲ့သည်',\n",
              " 'ထို့နောက် ဧည့်သည်တော် နှင့်အတူမှတ်တမ်းတင် ဓာတ်ပုံရိုက်',\n",
              " 'လူသားချင်း စာနာထောက်ထား သည့် ထောက်ပံ့ရေး ပစ္စည်းများ အဝတ်အထည် အမျိုးအစား ခေါက်ဆွဲခြောက်ထုပ် ဖာ ကလေး အစားအစာ သေတ္တာ ဂျုံ အိတ်',\n",
              " 'ထို့နောက် ပြည်ထောင်စုဝန်ကြီး နှင့် အင်ဒိုနီးရှား နိုင်ငံ နိုင်ငံခြားရေး ဝန်ကြီး သည်စစ်တွေ မြို့နယ် လက်မခြေ ကျေးရွာ နှင့် သက္ကယ်ပြင် ရွာမ ကျေးရွာတို့ အင်ဒိုနီးရှား နိုင်ငံ တစ်ခု လှူဒါန်း သည့် စာသင်ကျောင်း ကျောင်း လွှဲပြောင်း ပေးအပ်ပွဲ တက်ရောက် ခဲ့သည်',\n",
              " 'ယင်းနောက် မင်းဂံ ရပ်ကွက် အေဘီစီ ဖောင်ဒေးရှင်း တည်ထောင်ထား ကလေးသူငယ်များ ပြုစု စောင့်ရှောက်ရေး ဌာနသို့ သွားရောက်ခဲ့ ကလေးငယ်များ အလှူငွေ ပေးအပ်သည်',\n",
              " 'ဗြိတိန် နိုင်ငံခြားရေး ဝန်ကြီး မစ္စတာဘောရစ်ဂျွန်ဆင် ဦးဆောင် သည့် ကိုယ်စားလှယ်အဖွဲ့ သူ၏ ရက်ကြာ လည်ပတ်မှု မနေ့က နံနက် ရန်ကုန် ပြည်သူ့ဆေးရုံကြီး သွားရောက်ခဲ့သည်',\n",
              " 'ဆေးရုံအုပ် ဒေါက်တာ အေးကိုကို ဆေးရုံကြီး တည်ဆောက် ပြုပြင် မွမ်းမံ ပြီးစီးမှု နှင့် ကျန်းမာရေး စောင့်ရှောက်မှု အခြေအနေများကို ရှင်းလင်းပြောကြားသည်',\n",
              " 'ကိုယ်စားလှယ်အဖွဲ့ ဆေးရုံဝန်း လှည့်လည်ပြီး လူနာများ လိုက်လံ ကြည့်ရှု့ကြသည်',\n",
              " 'ယင်းနောက် ဗြိတိန် သံအမတ်ကြီး နေအိမ်၌ ဗြိတိန် နိုင်ငံခြားရေး ဝန်ကြီး ညစာ ဖြင့် တည်ခင်း ဧည့်ခံသည်',\n",
              " 'အမျိုးသား လုံခြုံရေး အကြံပေး ပုဂ္ဂိုလ် ဦးသောင်းထွန်း ရန်ကုန်တိုင်းဒေသကြီး ဝန်ကြီးချုပ် ဦးဖြိုးမင်းသိန်း ရန်ကုန် မြို့တော်ဝန် ဦးမောင်မောင်စိုး ရန်ကုန်တိုင်းအစိုးရ အဖွဲ့ဝင် ဝန်ကြီးများ နှင့် ဖိတ်ကြား တက်ရောက်ကြသည်',\n",
              " 'အစောပိုင်းတွင် ဗြိတိန် သံအမတ်ကြီး ရွှေတိဂုံစေတီ မြတ်ကြီး သွားရောက် ကြည်ညို ကြသည်',\n",
              " 'ပြည်သူ့လွှတ်တော် ဥက္ကဋ္ဌ ဗြိတိန်နိုင်ငံ သွားရောက်',\n",
              " 'အောက်လွှတ်တော် ဥက္ကဋ္ဌ ဖိတ်ကြားချက် ပြည်သူ့လွှတ်တော် ဥက္ကဋ္ဌ ဦးဝင်းမြင့် ခေါင်းဆောင် လွှတ်တော် ကိုယ်စားလှယ်အဖွဲ့ မနေ့က နံနက် ဗြိတိန်နိုင်ငံ လေကြောင်း ခရီး ဖြင့် ထွက်ခွာ သွားသည်',\n",
              " 'ကိုယ်စားလှယ်အဖွဲ့ ရန်ကုန်တိုင်းဒေသကြီး ဝန်ကြီးချုပ် ဦးဖြိုးမင်းသိန်း တိုင်းဒေသကြီး လွှတ်တော် ဥက္ကဋ္ဌ ဦးတင်မောင်ထွန်း ဒုတိယဥက္ကဋ္ဌ ဦးလင်းနိုင်မြင့် လွှတ်တော် ကိုယ်စားလှယ်များ နှင့် ပြည်သူ့လွှတ်တော် ရုံး တာဝန်ရှိသူများက လေဆိပ် ပို့ဆောင် နှုတ်ဆက် ကြသည်',\n",
              " 'ပြည်သူ့လွှတ်တော် နိုင်ငံသားများ မူလ အခွင့်အရေး ကော်မတီ ဥက္ကဋ္ဌ ဦးစော ဥပဒေကြမ်း ကော်မတီ အဖွဲ့ဝင် ဦးဇော်ဝင်း လွှတ်တော် အခွင့်အရေး ကော်မတီ အဖွဲ့ဝင် ဦးစိုင်းစန်သိန်း နိုင်ငံတကာ ဆက်ဆံရေး ကော်မတီ အဖွဲ့ဝင် ဒေါက်တာ ဒေါ်ရွှေပုံ နှင့် ပြည်သူ့လွှတ်တော် ရုံး တာဝန်ရှိသူများသည် ပြည်သူ့လွှတ်တော် ဥက္ကဋ္ဌ နှင့် သွားကြသည်',\n",
              " 'နိုဘယ်လ် မြန်မာစာပေ ပွဲတော် ဇန်နဝါရီ ရက်တို့ ရန်ကုန်မြို့ အမျိုးသား ဇာတ်ရုံ စည်ကား သိုက်မြိုက်စွာ ကျင်းပ သွားမည်',\n",
              " 'စာပေ ပွဲတော် ကျင်းပရေး ကော်မတီ ဥက္ကဋ္ဌ ဦးမော်လင်း ပွဲတော် မြန်မာနိုင်ငံတွင် ကျင်းပတာ ကြိမ် ရှိပြီဖြစ်ကြောင်း ပြောကြားသည်',\n",
              " 'ပထမအကြိမ် စာပေ နှင့် ငြိမ်းချမ်းရေး မီးမောင်းထိုးပြ ခဲ့သည်',\n",
              " 'ဒုတိယအကြိမ် ကလေး စာပေ ပွဲတော် ဦးတည်ခဲ့သည်',\n",
              " 'တတိယ ရသ စာပေ ခေါင်းစဉ် ရသ စာပေ ဆိုသည်မှာ စာဖတ် ချင်စိတ် ရှိသူများ စာဖတ်ခါစ လူများ စာဖတ် ဖြစ်သွားအောင် ဆွဲဆောင်နိုင် သည့် စာပေ အမျိုးအစား ဖြစ်ပါသည်',\n",
              " 'စာပေ ဖွံ့ဖြိုးတိုးတက် မှသာလျှင် နိုင်ငံ ဖွံ့ဖြိုးတိုးတက် မည်ဖြစ်သည်',\n",
              " 'အမျိုးသား ဇာတ်ရုံ စာပေ ပွဲတော် နှင့် ဈေးရောင်း ပွဲတော် ရှိကြောင်း ပြောကြားသည်',\n",
              " 'ဖွင့်ပွဲ အခမ်းအနားကို အစီအစဉ် ဖြင့် ကျင်းပ သွားမည်',\n",
              " 'စာအုပ် ဈေးခင်း ရှားပါး စာအုပ်များ ရရှိလိမ့်မည်',\n",
              " 'ကော်မတီ အတွင်းရေးမှူး ဦးဝင်းချို ရသ စာပေ နှင့်ပတ်သက် သည့် ခေါင်းစဉ် ခုနစ် ခုကိုလည်း ဆွေးနွေးလိမ့်မည် ပြောခဲ့သည်',\n",
              " 'ရသ ပျိုးခင်း စကားဝိုင်း ဦးမော်လင်း ဦးဆောင် ဆွေးနွေးလိမ့်မည်',\n",
              " 'ဆရာ မောင်ခင်မင် ဆရာ သစ္စာနီ ဆရာ မြေလတ် မောင်မြင့်သူ နှင့် ဆရာ ငြိမ်းမင်း ခေါင်းစဉ် ဆွေးနွေးမှု ပါဝင်လိမ့်မည်',\n",
              " 'ပွဲတော် ရှားပါး စာအုပ် အဟောင်း နှင့် စာအုပ် အသစ် ပါဝင်မည်',\n",
              " 'နံနက် မုန့်ဟင်းခါး စတုဒိသာ ဖြင့်',\n",
              " 'နေ့လယ်ပိုင်း ဒိုးပတ်ဝိုင်း',\n",
              " 'ကုလသမဂ္ဂ၏ မြန်မာနိုင်ငံ လူ့အခွင့်အရေး အခြေအနေဆိုင်ရာ အစီရင်ခံစာ တင်သွင်းသူ မစ္စ ရန်ဟီလီ ရခိုင်ပြည်နယ် မြောက်ပိုင်းရှိ အဖွဲ့အစည်း နှစ်ခု ယုံကြည်မှု တည်ဆောက် တွေ့ဆုံပွဲ သောကြာနေ့ ရန်ကုန်မြို့တွင် သတင်းစာ ရှင်းလင်းပွဲ တစ်ရပ် ပြုလုပ်ခဲ့သည်',\n",
              " 'သူမ၏ ရက်ကြာ ခရီးစဉ် သူမသည် ရန်ကုန် နှင့် နေပြည်တော် ကချင်ပြည်နယ် ရခိုင်ပြည်နယ် နှင့် မွန် ပြည်နယ်များသို့ လည်ပတ်ခဲ့သည်',\n",
              " 'သူမ၏ ရခိုင်ပြည်နယ် မြောက်ပိုင်း ခရီးစဉ် သူမသည် အောက်တိုဘာ ရက်နေ့က တိုက်ခိုက်မှု ဖြစ်ပွားခဲ့သည့် ရဲစခန်း ရခိုင်ပြည်နယ် မြောက်ပိုင်းရှိ ရွာ လေးရွာ နှင့် ဘူးသီးတောင် အကျဉ်းထောင်တို့ သွားရောက်ခဲ့သည်',\n",
              " 'သူမသည် နိုင်ငံတော် အတိုင်ပင်ခံ ပုဂ္ဂိုလ် ဒေါ်အောင်ဆန်းစုကြည် ပြည်ထောင်စုဝန်ကြီး ရှေ့နေချုပ် ရခိုင်ပြည်နယ် တည်ငြိမ်အေးချမ်း နှင့် ဖွံ့ဖြိုးတိုးတက်ရေး ကော်မတီ နှင့် မောင်တော စုံစမ်းစစ်ဆေးရေး ကော်မရှင် လွှတ်တော် ကော်မတီ နှင့် တွေ့ဆုံခဲ့သည်',\n",
              " 'အောက်လွှတ်တော် ဥက္ကဋ္ဌ ဖိတ်ကြားချက် ပြည်သူ့လွှတ်တော် ဥက္ကဋ္ဌ ဦးဝင်းမြင့် ခေါင်းဆောင် လွှတ်တော် ကိုယ်စားလှယ်အဖွဲ့ မနေ့က နံနက် ဗြိတိန်နိုင်ငံ လေကြောင်း ခရီး ဖြင့် ထွက်ခွာ သွားသည်',\n",
              " 'ကိုယ်စားလှယ်အဖွဲ့ ရန်ကုန်တိုင်းဒေသကြီး ဝန်ကြီးချုပ် ဦးဖြိုးမင်းသိန်း တိုင်းဒေသကြီး လွှတ်တော် ဥက္ကဋ္ဌ ဦးတင်မောင်ထွန်း ဒုတိယဥက္ကဋ္ဌ ဦးလင်းနိုင်မြင့် လွှတ်တော် ကိုယ်စားလှယ်များ နှင့် ပြည်သူ့လွှတ်တော် ရုံး တာဝန်ရှိသူများက လေဆိပ် ပို့ဆောင် နှုတ်ဆက် ကြသည်',\n",
              " 'ပြည်သူ့လွှတ်တော် နိုင်ငံသားများ မူလ အခွင့်အရေး ကော်မတီ ဥက္ကဋ္ဌ ဦးစော ဥပဒေကြမ်း ကော်မတီ အဖွဲ့ဝင် ဦးဇော်ဝင်း လွှတ်တော် အခွင့်အရေး ကော်မတီ အဖွဲ့ဝင် ဦးစိုင်းစန်သိန်း နိုင်ငံတကာ ဆက်ဆံရေး ကော်မတီ အဖွဲ့ဝင် ဒေါက်တာ ဒေါ်ရွှေပုံ နှင့် ပြည်သူ့လွှတ်တော် ရုံး တာဝန်ရှိသူများသည် ပြည်သူ့လွှတ်တော် ဥက္ကဋ္ဌ နှင့် သွားကြသည်',\n",
              " 'နိုဘယ်လ် မြန်မာစာပေ ပွဲတော် ဇန်နဝါရီ ရက်တို့ ရန်ကုန်မြို့ အမျိုးသား ဇာတ်ရုံ စည်ကား သိုက်မြိုက်စွာ ကျင်းပ သွားမည်',\n",
              " 'စာပေ ပွဲတော် ကျင်းပရေး ကော်မတီ ဥက္ကဋ္ဌ ဦးမော်လင်း ပွဲတော် မြန်မာနိုင်ငံတွင် ကျင်းပတာ ကြိမ် ရှိပြီဖြစ်ကြောင်း ပြောကြားသည်',\n",
              " 'ပထမအကြိမ် စာပေ နှင့် ငြိမ်းချမ်းရေး မီးမောင်းထိုးပြ ခဲ့သည်',\n",
              " 'ဒုတိယအကြိမ် ကလေး စာပေ ပွဲတော် ဦးတည်ခဲ့သည်',\n",
              " 'တတိယ ရသ စာပေ ခေါင်းစဉ်',\n",
              " 'ရသ စာပေ ဆိုသည်မှာ စာဖတ် ချင်စိတ် ရှိသူများ စာဖတ်ခါစ လူများ စာဖတ် ဖြစ်သွားအောင် ဆွဲဆောင်နိုင် သည့် စာပေ အမျိုးအစား ဖြစ်ပါသည်',\n",
              " 'စာပေ ဖွံ့ဖြိုးတိုးတက် မှသာလျှင် နိုင်ငံ ဖွံ့ဖြိုးတိုးတက် မည်ဖြစ်သည်',\n",
              " 'အမျိုးသား ဇာတ်ရုံ စာပေ ပွဲတော် နှင့် ဈေးရောင်း ပွဲတော် ရှိကြောင်း ပြောကြားသည်',\n",
              " 'ဖွင့်ပွဲ အခမ်းအနားကို အစီအစဉ် ဖြင့် ကျင်းပ သွားမည်',\n",
              " 'စာအုပ် ဈေးခင်း ရှားပါး စာအုပ်များ ရရှိလိမ့်မည်',\n",
              " 'ကော်မတီ အတွင်းရေးမှူး ဦးဝင်းချို ရသ စာပေ နှင့်ပတ်သက် သည့် ခေါင်းစဉ် ခုနစ် ခုကိုလည်း ဆွေးနွေးလိမ့်မည် ပြောခဲ့သည်',\n",
              " 'ရသ ပျိုးခင်း စကားဝိုင်း ဦးမော်လင်း ဦးဆောင် ဆွေးနွေးလိမ့်မည်',\n",
              " 'ဆရာ မောင်ခင်မင် ဆရာ သစ္စာနီ ဆရာ မြေလတ် မောင်မြင့်သူ နှင့် ဆရာ ငြိမ်းမင်း ခေါင်းစဉ် ဆွေးနွေးမှု ပါဝင်လိမ့်မည်',\n",
              " 'ပွဲတော် ရှားပါး စာအုပ် အဟောင်း နှင့် စာအုပ် အသစ် ပါဝင်မည်',\n",
              " 'နံနက် မုန့်ဟင်းခါး စတုဒိသာ ဖြင့်',\n",
              " 'နေ့လယ်ပိုင်း ဒိုးပတ်ဝိုင်း',\n",
              " 'ကုလသမဂ္ဂ၏ မြန်မာနိုင်ငံ လူ့အခွင့်အရေး အခြေအနေဆိုင်ရာ အစီရင်ခံစာ တင်သွင်းသူ မစ္စ ရန်ဟီလီ ရခိုင်ပြည်နယ် မြောက်ပိုင်းရှိ အဖွဲ့အစည်း နှစ်ခု ယုံကြည်မှု တည်ဆောက် တွေ့ဆုံပွဲ သောကြနေ့ ရန်ကုန်မြို့တွင် သတင်းစာ ရှင်းလင်းပွဲ တစ်ရပ် ပြုလုပ်ခဲ့သည်',\n",
              " 'သူမ၏ ရက်ကြာ ခရီးစဉ် သူမသည် ရန်ကုန် နှင့် နေပြည်တော် ကချင်ပြည်နယ် ရခိုင်ပြည်နယ် နှင့် မွန် ပြည်နယ်များသို့ လည်ပတ်ခဲ့သည်',\n",
              " 'သူမ၏ ရခိုင်ပြည်နယ် မြောက်ပိုင်း ခရီးစဉ် သူမသည် အောက်တိုဘာ ရက်နေ့က တိုက်ခိုက်မှု ဖြစ်ပွားခဲ့သည့် ရဲစခန်း ရခိုင်ပြည်နယ် မြောက်ပိုင်းရှိ ရွာ လေးရွာ နှင့် ဘူးသီးတောင် အကျဉ်းထောင်တို့ သွားရောက်ခဲ့သည်',\n",
              " 'သူမသည် နိုင်ငံတော် အတိုင်ပင်ခံ ပုဂ္ဂိုလ် ဒေါ်အောင်ဆန်းစုကြည် ပြည်ထောင်စုဝန်ကြီး ရှေ့နေချုပ် ရခိုင်ပြည်နယ် တည်ငြိမ်အေးချမ်း နှင့် ဖွံ့ဖြိုးတိုးတက်ရေး ကော်မတီ နှင့် မောင်တော စုံစမ်းစစ်ဆေးရေး ကော်မရှင် လွှတ်တော် ကော်မတီ နှင့် တွေ့ဆုံခဲ့သည်',\n",
              " 'ရန်ကုန် ခရီးစဉ် အမျိုးသား ပြန်လည် သင့်မြတ်ရေး နှင့် ငြိမ်းချမ်းရေး ဗဟိုဌာန ငြိမ်းချမ်းရေး ကော်မရှင် တာဝန်ရှိသူ နှင့် တွေ့ဆုံခဲ့သည်',\n",
              " 'နိုင်ငံတော် အတိုင်ပင်ခံ ပုဂ္ဂိုလ် ဗြိတိန် နိုင်ငံခြားရေး ဝန်ကြီး ညစာစားပွဲ ဖြင့် ဧည့်ခံသည်',\n",
              " 'နိုင်ငံတော် အတိုင်ပင်ခံ ပုဂ္ဂိုလ် ဒေါ်အောင်ဆန်းစုကြည် ဗြိတိန် နိုင်ငံခြားရေး ဝန်ကြီး မစ္စတာဘောရစ်ဂျွန်ဆင် မနေ့က နေပြည်တော်ရှိ နေအိမ်၌ ညစာစားပွဲ ဖြင့် တည်ခင်း ဧည့်ခံသည်',\n",
              " 'ညစာစားပွဲ ပြည်ထောင်စုဝန်ကြီး နှင့် နိုင်ငံခြားရေး ဝန်ကြီးဌာန ဒုတိယဝန်ကြီး မြန်မာနိုင်ငံ ဗြိတိန် သံအမတ်ကြီး မစ္စတာ အင်ဒရူးပက်ထရစ်တို့ တက်ရောက်ကြသည်',\n",
              " 'မစ္စတာဘောရစ်ဂျွန်ဆင် ယနေ့ မွန်းလွဲပိုင်း နေပြည်တော် ရောက်ရှိသည်',\n",
              " 'ရက်ကြာ လည်ပတ်မှု ဖြစ်လိမ့်မည်',\n",
              " 'တောင်ငူ ပညာရေး ကောလိပ် အဆောက်အအုံသစ် ဖွင့်ပွဲ အခမ်းအနားကို ယနေ့ နံနက် နာရီခွဲတွင် ပဲခူးတိုင်းဒေသကြီး တောင်ငူမြို့ ကျင်းပရာ ကောလိပ် မုခ်ဦး ပြည်ထောင်စုဝန်ကြီး ဒေါက်တာ မျိုးသိမ်းကြီး ပဲခူးတိုင်းဒေသကြီး ဝန်ကြီးချုပ် ဦးဝင်းသိန်း မြန်မာနိုင်ငံ ဂျပန် နိုင်ငံ သံအမတ်ကြီး မစ္စတာ တတဲရှီဟီဂူချီ နှင့် တောင်ငူ ပညာရေး ကောလိပ် ကျောင်းအုပ်ကြီး ဒေါ်ငြိမ်းငြိမ်းတို့ ဖဲကြိုးဖြတ် ဖွင့်လှစ် ပေးကြသည်',\n",
              " 'ထို့နောက် ဒုတိယသမ္မတ ဦးမြင့်ဆွေ နှင့် အခမ်းအနား တက်ရောက် လာကြသူ မှတ်တမ်းတင် ဓာတ်ပုံရိုက် ကြသည်',\n",
              " 'ယင်းနောက် ဆိုင်းဘုတ် ဒုတိယသမ္မတ စက်ခလုတ် နှိပ် ဖွင့်လှစ်ပေးသည်',\n",
              " 'အမွှေး နံ့သာရည် နှင့် ပက်ဖျန်း',\n",
              " 'ပညာရေး ကဏ္ဍ ပြုပြင်ပြောင်းလဲ အပိုင်း ဦးစားပေး လုပ်ငန် ဆောင်ရွက် လျက်ရှိပါသည်',\n",
              " 'ပြည်ထောင်စု အစိုးရ ဆရာ ဆရာမ သင်ကြား အရည်အသွေး မြင့်မား အရေးကြီးသော လုပ်ငန်း ဖော်ဆောင် နေပါသည်',\n",
              " 'ဆရာ အတတ်ပညာ စဉ်ဆက်မပြတ် ဖွံ့ဖြိုးရေးတို့ ဆောင်ရွက် ဖြစ်ပါသည်',\n",
              " 'တိုင်းရင်းသားအားလုံး ဘာသာစကား နှင့် စာပေ ယဉ်ကျေးမှု နှင့် သမိုင်း အမွေအနှစ် အနှစ်သာရ တန်ဖိုးထား ထိန်းသိမ်း မြှင့်တင်ခြင်း',\n",
              " 'ဘက်စုံ အတွေးအခေါ် မှန်ကန်ရေး အကျင့် စာရိတ္တ ကောင်းမွန်သော လူ့ စွမ်းအား အရင်းအမြစ်များ ပြုစု ပျိုးထောင်ရေး',\n",
              " 'ခေတ် စနစ် လိုအပ်ချက်များ နှင့်အညီနိုင်ငံတော် ခေတ်မီ ဖွံ့ဖြိုးတိုးတက်ရေး ဦးတည်သည့် အမျိုးသား ပညာရေး စနစ်',\n",
              " '၎င်းတို့ ဆောင်ရွက် လျက်ရှိပါသည်',\n",
              " 'ကျောင်းသားများ သူတို့၏ သက်ဆိုင်သော ဘာသာစကား စာပေ ယဉ်ကျေးမှု နှင့် သမိုင်း အမွေအနှစ်တို့ တန်ဖိုးထား',\n",
              " 'ထိုမှ သူတို့ မျိုးဆက်များ လက်ဆင့်ကမ်း နိုင်မည်',\n",
              " 'ပြည်ထောင်စုစိတ်ဓာတ် ဖွံ့ဖြိုးမှု ကိုလည်း ထိရောက်စွာ ဆောင်ရွက် လိုအပ်ပါသည်',\n",
              " 'မသင်မနေ မူလတန်း ပညာရေး စနစ် အကောင်အထည်ဖော် ဆောင်ရွက်ရာတွင် မူလတန်း ဆရာ အင်အား ပြည့်စုံ ဆရာ အရည်အသွေး ပြည့်ဝ အရေးကြီး',\n",
              " 'နှင့် သင်တန်းများကို စဉ်ဆက်မပြတ် ဖွင့်လှစ် ပေးနေပါသည်',\n",
              " 'ပညာရေး ကဏ္ဍ ခေတ်မီ ဆန်းသစ် ကြိုးပမ်း ဆောင်ရွက်ရာတွင် စာသင်ကျောင်းများ အခြေခံအဆောက်အအုံ ပြည့်စုံ အရေးကြီးသော ကဏ္ဍ ပါဝင်နေပါသည်',\n",
              " 'ဒါမှသာ ဆရာ ဆရာမ နှင့် သင်တန်းသား သင်တန်း အဆင်ပြေ ပတ်ဝန်းကျင် တစ်ခု သင်ကြား တတ်မြောက်လိမ့်မည်',\n",
              " 'လိုအပ်ချက် ဖြည့်ဆည်း ကူညီပေး သည့် နိုင်ငံတော် ကိုယ်စား ကျွန်ုပ်တို့၏ ကျေးဇူးတင်မှု ကျွန်ုပ်တို့ ဖော်ပြချင်ပါသည်',\n",
              " 'ထောက်ပံ့ ကူညီမှု တိုးမြှင့် ဆောင်ရွက် ပေးနိုင် ကျွန်ုပ်တို့ မျှော်လင့်ပါသည်',\n",
              " 'ယင်းနောက် ပြည်သူ့လွှတ်တော် ကိုယ်စားလှယ် ဒေါ်စုစုလွင် ဒုတိယသမ္မတ ဦးမြင့်ဆွေ ပြည်ထောင်စုဝန်ကြီး ဒေါက်တာ မျိုးသိမ်းကြီး တိုင်းဒေသကြီး ဝန်ကြီးချုပ် မြန်မာနိုင်ငံ ဂျပန် သံအမတ်ကြီး နှင့် ကျောင်းအုပ်ကြီး တောင်ငူ ပညာရေး ကောလိပ် အဆောက်အအုံသစ် ဖွင့်ပွဲ အထိမ်းအမှတ် ပစ္စည်း ပေးအပ်သည်',\n",
              " 'ထို့နောက် ဦးမြင့်ဆွေ နှင့် အဖွဲ့ဝင်များသည် စာကြည့်တိုက် ဆေးပေးခန်း အနားယူ အပန်းဖြေ နေရာ အိမ်တွင်းမှု သိပ္ပံ လက်တွေ့ခန်း စာသင်ခန်း ကွန်ပျူတာ လေ့ကျင့်ခန်း နှင့် သင်တန်းသား အိပ်ဆောင် လှည့်လည် ကြည့်ရှု သင်တန်းသား ခင်မင် ရင်းနှီး နှုတ်ဆက် ကြသည်',\n",
              " 'တောင်ငူ ပညာရေး ကောလိပ် ခုနှစ်တွင် ဆရာ အတတ်သင် ကျောင်း ခုနှစ်တွင် ဆရာ အတတ်သင် သိပ္ပံ နှင့် ခုနှစ်တွင် ပညာရေး ကောလိပ် အဆင့်ဆင့် ပြောင်းလဲ ဖွင့်လှစ်ပေးခဲ့ သိရှိရသည်',\n",
              " 'အင်ဒိုနီးရှား နိုင်ငံ နိုင်ငံခြားရေး ဝန်ကြီး မြန်မာနိုင်ငံသို့ ရောက်ရှိသည်',\n",
              " 'ပညာရေး ကောလိပ် မြန်မာ့ လူ့ ဘောင် နှင့် လိုက်လျောညီထွေ မူ ပြောဆို နေထိုင် ဆရာ ဟူသော ဂုဏ်သိက္ခာ နှင့် ပြည့်စုံ သည့် ဆရာ မွန် ပေါ်ထွန်း စေရေး ပြုစု ပျိုးထောင် လေ့ကျင့်ပေး ရည်ရွယ်သည်',\n",
              " 'မျက်မှောက်ကာလ စိန်ခေါ်မှု ရင်ဆိုင် အရည်အချင်း ပြည့်မှီ ဆရာများ လေ့ကျင့်ပေးခြင်း',\n",
              " 'ပညာရေး တာဝန်ယူ ဆောင်ရွက် ပေးမည့် ဆရာများ ကောင်းမွန်သော သင်ကြားရေး နည်းလမ်းများ တိုးတတ်ခြင်း',\n",
              " 'အင်ဒိုနီးရှား သမ္မတနိုင်ငံ နိုင်ငံခြားရေး ဝန်ကြီး ဦးဆောင် သည့် ကိုယ်စားလှယ်အဖွဲ့ ယနေ့ နံနက်ပိုင်းက လေကြောင်း ခရီး ဖြင့် ရန်ကုန်မြို့ ရောက်ရှိသည်',\n",
              " 'အင်ဒိုနီးရှား သမ္မတနိုင်ငံ နိုင်ငံခြားရေး ဝန်ကြီး ဦးဆောင်သော ကိုယ်စားလှယ်အဖွဲ့ နိုင်ငံခြားရေး ဝန်ကြီးဌာန အမြဲတမ်း အတွင်းဝန် ဦးကျော်ဇေယျ နှင့် တာဝန်ရှိသူများ မြန်မာနိုင်ငံ အင်ဒိုနီးရှား သမ္မတနိုင်ငံ သံအမတ်ကြီး နှင့် တာဝန်ရှိသူများက ရန်ကုန် အပြည်ပြည်ဆိုင်ရာ လေဆိပ် ကြိုဆို နှုတ်ဆက် ကြသည်',\n",
              " 'အင်ဒိုနီးရှား သံအမတ် ယနေ့ ရခိုင်ပြည်နယ် စစ်တွေ မြို့ သွားရောက်ပြီး အင်ဒိုနီးရှား အစိုးရက မြန်မာနိုင်ငံသို့ ပေးအပ် သည့် လူသားချင်း စာနာထောက်ထားမှု အကူအညီများ လွှဲပြောင်း ပေးအပ်မည်',\n",
              " 'အင်ဒိုနီးရှား နိုင်ငံ ရခိုင်ပြည်နယ် အဖွဲ့အစည်း နှစ်ခု အကူအညီ အများ နှင့် စာသင်ကျောင်း ကျောင်း လွှဲပြောင်း',\n",
              " 'ရခိုင်ပြည်နယ် မောင်တောမြို့နယ် နှင့် ဘူးသီးတောင် မြို့နယ် လူမှု အသိုင်းအဝိုင်း အင်ဒိုနီးရှား အစိုးရက လှူဒါန်း ထောက်ပံ့ရေး ပစ္စည်းများ နှင့် စာသင်ကျောင်း ကျောင်း လွှဲပြောင်း ပေးအပ်ပွဲ အခမ်းအနားကို ယနေ့ စစ်တွေ မြို့ ကျင်းပ သွားမည်',\n",
              " 'အင်ဒိုနီးရှား နိုင်ငံ အဖွဲ့ တစ်ခုဖြစ်သော ဆောက်လုပ် ပေးထားသည့် စာသင်ကျောင်း ကျောင်း နှင့် ထောက်ပံ့ရေး ပစ္စည်းများ အင်ဒိုနီးရှား အစိုးရ ကိုယ်စား အင်ဒိုနီးရှား နိုင်ငံခြားရေး ဝန်ကြီး မစ္စတာ နိုးအယ် လ် ပီမာဆူဒီက လူမှုဝန်ထမ်း ကယ်ဆယ်ရေး နှင့် ပြန်လည်နေရာချထားရေး ဝန်ကြီးဌာန ပြည်ထောင်စုဝန်ကြီး ဒေါက်တာဝင်းမြတ်အေး လွှဲပြောင်း ပေးအပ်မည်',\n",
              " 'အင်ဒိုနီးရှား အစိုးရက မြန်မာအစိုးရ ဆီမှ စာသင်ကျောင်းများ လှူဒါန်း ထောက်ပံ့ရေး ပစ္စည်းများ ပေးပို့ရန် ခွင့်ပြုချက် တောင်းခံခဲ့ ပြီးပြီ',\n",
              " 'အလားတူ အာဆီယံ အဖွဲ့ဝင် မလေးရှား နိုင်ငံ ကလည်း ထောက်ပံ့ ကူညီ သင်္ဘာ တစ်စင်း စေလွှတ် အကူအညီပေး နိုင်ရေး နိုင်ငံတော် အစိုးရထံ တရားဝင် ခွင့်ပြုချက် တောင်းခံ ထားပြီး မူဝါဒ စည်းမျဉ်းစည်းကမ်း နှင့်အညီ ဖြန့်ခွဲ ပို့ဆောင်နိုင်ရေး ရန်ကုန်မြို့ မလေးရှား သံရုံး နှင့် ဆက်သွယ် ဆောင်ရွက် လျက်ရှိကြောင်း',\n",
              " 'ကုလသမဂ္ဂ၏ မြန်မာနိုင်ငံ လူ့အခွင့်အရေး အခြေအနေဆိုင်ရာ အစီရင်ခံစာ တင်သွင်းသူ မစ္စ ရန်ဟီလီ ပြည်ထောင်စုဝန်ကြီး ပြည်ထောင်စု ရှေ့နေချုပ် လယ်ယာမြေ နှင့် အခြားမြေ သိမ်းဆည်းခံရမှုများ ပြန်လည် စိစစ်ရေး ဗဟို ကော်မတီ အဖွဲ့ဝင်များ နှင့် မနေ့က နေပြည်တော်ရှိ သက်ဆိုင်ရာဝန်ကြီးဌာန သီးခြားစီ တွေ့ဆုံသည်',\n",
              " 'ပြန်ကြားရေး ဝန်ကြီးဌာန ပြည်ထောင်စုဝန်ကြီး ဒေါက်တာ ဖေမြင့် နှင့် တွေ့ဆုံစဉ် ဝန်ကြီးဌာန စီမံခန့်ခွဲ ရှိသည့် ပုံနှိပ်ခြင်း နှင့် ထုတ်ဝေခြင်း လုပ်ငန်း ဥပဒေ သတင်းမီဒီယာ ဥပဒေ ရုပ်မြင်သံကြား နှင့် အသံ ထုတ်လွှင့်ခြင်း ဥပဒေ ဆွေးနွေ ကြသည်',\n",
              " 'ပြည်ထဲရေးဝန်ကြီးဌာန ပြည်ထောင်စုဝန်ကြီး ဒုတိယ ဗိုလ်ချုပ်ကြီး ကျော်ဆွေ နှင့် တွေ့ဆုံစဉ် ကုလသမဂ္ဂ နှင့် ပြည်ထဲရေးဝန်ကြီးဌာန တို့အကြား ပူးပေါင်းဆောင်ရွက် ကိစ္စရပ်များ နှင့် ဆက်လက် ဆောင်ရွက် သွားမည့် လုပ်ငန်းစဉ်များ ဆွေးနွေးကြသည်',\n",
              " 'လယ်ယာမြေ နှင့် အခြားမြေ သိမ်းဆည်း ခံရမှု ပြန်လည် စိစစ်ရေး ဗဟို ကော်မတီ အဖွဲ့ဝင်များ နှင့် တွေ့ဆုံစဉ် မြေယာ သိမ်းဆည်းခံရမှု ပြဿနာရပ်များ ဖြေရှင်း ဆောင်ရွက်နေ အခြေအနေများ မြေယာ လျော်ကြေး ပေးမှု နှင့် စွန့်လွှတ်မြေများ ဆွေးနွေးကြသည်',\n",
              " 'မစ္စ ရန်ဟီလီ နှင့် အဖွဲ့ မနေ့က မွန်းလွဲ နာရီ နေပြည်တော် ရန်ကုန်မြို့ ထွက်ခွာ သွားသည်',\n",
              " 'မြန်မာ အိန္ဒိယ နယ်နိမိတ် ခြံစည်းရိုး ကာရံခြင်း နာဂ ကိုယ်ပိုင် အုပ်ချုပ်ခွင့်ရ နယ်မြေ မြန်မာနိုင်ငံ ရှင်းလင်းသည်',\n",
              " 'မြန်မာ အိန္ဒိယ နယ်နိမိတ် မှတ်တိုင် ဘီပီ နှင့်ဘီပီ အကြား မြန်မာဘက် ခြံစည်းရိုး ကာရံ မည့် အစီအစဉ် နှင့်စပ်လျဉ်း၍ အခြေအနေမှန် နှင့် မြန်မာ အိန္ဒိယ နှစ်နိုင်ငံ အကြား နယ်စပ် ရေးရာ ညှိနှိုင်း ဆောင်ရွက်လျက် ရှိနေခြင်း အများပြည်သူ နိုင်ရန် နိုင်ငံခြားရေး ဝန်ကြီးဌာန ရှင်းလင်းချက် ထုတ်ပြန် ထားကြောင်း',\n",
              " 'ရှင်းလင်းချက် မြန်မာ အိန္ဒိယ နယ်နိမိတ် မှတ်တိုင် ဘီပီ နှင့်ဘီပီ အကြား မြန်မာဘက် ခြံစည်းရိုး ကာရံ မည့် အစီအစဉ် အဓိက ရည်ရွယ်ချက် နှစ်နိုင်ငံ အကြား နယ်နိမိတ် ကျော်လွန်၍ မြန်မာ့ ပိုင်နက် နယ်မြေ အဆောက်အအုံများ ဆောက်လုပ်ခြင်း မရှိစေရန် ဖြစ်ပါသည်',\n",
              " 'နယ်နိမိတ် မျဉ်း အနီး နေထိုင်သည့် နှစ်ဖက် ဒေသနေ ပြည်သူများ ၏ထုံးတမ်းစဉ်လာ နှင့်အညီ တရားဝင် နည်းလမ်း ဖြင့် နယ်နိမိတ် ပုံမှန်ဝင် ထွက်သွား ကန့်သတ် ရည်ရွယ်ချက်ဖြင့် ဆောင်ရွက်ခြင်း မဟုတ်ပါ',\n",
              " 'ကျွန်ုပ်တို့ ဒေသ အာဏာပိုင်များက နယ်စပ် စီမံခန့်ခွဲမှု ပိုမိုထိရောက်စွာ ဆောင်ရွက် နိုင်ရန် ဖော်ပြထားသည်',\n",
              " 'ထို့ပြင် ခြံစည်းရိုး ကာရံမှု မြန်မာဘက် အနေဖြင့် အိန္ဒိယ နှင့် ညှိနှိုင်း ထားပြီး နှစ်နိုင်ငံ အကြား ချုပ်ဆိုထားသည့် နယ်နိမိတ် စာချုပ် ပြဋ္ဌာန်ချက် အစည်းအဝေး သဘောတူညီချက်များ နှင့်အညီ ဆောင်ရွက် သွားမည် ဖြစ်ပါသည်',\n",
              " 'မြန်မာဘက် အနေဖြင့် ခြံစည်းရိုး နယ်နိမိတ် မျဉ်း မီတာ အကွာ မြန်မာ ပိုင်နယ်မြေ ဆောင်ရွက် ရှိပါသည်',\n",
              " 'နယ်စပ် ပြည်သူများ အဆင်ပြေ စေရန် လိုအပ်သည့် နေရာများတွင် သည့် အပေါက်များ တံခါးများ စီစဉ်ပေးမည်',\n",
              " 'နိုင်ငံခြားရေး ဝန်ကြီးဌာန ပြည်ထောင်စုဝန်ကြီး ဒေါ်အောင်ဆန်းစုကြည် လာအို နိုင်ငံ ထွက်ခွာသည်',\n",
              " 'ရခိုင်ပြည်နယ် တည်ငြိမ်အေးချမ်း နှင့် ဖွံ့ဖြိုးတိုးတက်မှု အကောင်အထည်ဖော် အစည်းအဝေး ကျင်းပသည် အစည်းအဝေး ရခိုင်ပြည်နယ် နယ်မြေ တည်ငြိမ်အေးချမ်း နိုင်ငံသား စိစစ်ရေး နှင့် ပြည်နယ် အေးချမ်း သာယာ ဖွံ့ဖြိုးတိုးတက်ရေး ကိစ္စရပ်များ နှင့်စပ်လျဉ်း၍ ဆွေးနွေးခဲ့ကြသည်',\n",
              " 'ပြည်ထဲရေးဝန်ကြီးဌာန နယ်စပ် ရေးရာ ဝန်ကြီးဌာန ပြန်ကြားရေး ဝန်ကြီးဌာန သာသနာရေး နှင့် ယဉ်ကျေးမှုဝန်ကြီးဌာန အလုပ်သမား လူဝင်မှုကြီးကြပ်ရေး နှင့် ပြည်သူ့ အင်အားဝန်ကြီးဌာနတို့ ပြည်ထောင်စုဝန်ကြီး ပြည်ထောင်စု ရှေ့နေချုပ် ရခိုင် ပြည်နယ်ဝန်ကြီးချုပ် နိုင်ငံခြားရေး ဝန်ကြီးဌာန ဒုတိယဝန်ကြီး နှင့် တာဝန်ရှိသူများ တက်ရောက်ကြသည်',\n",
              " 'နိုင်ငံတော် အတိုင်ပင်ခံ ပုဂ္ဂိုလ် ဒေါ်အောင်ဆန်းစုကြည် ကရင် အမျိုးသား နှစ်သစ်ကူးနေ့ အခမ်းအနား တက်ရောက်သည် ကရင် နှစ်သစ်ကူးနေ့ ကရင် အမျိုးသား မျာ ကောက်သစ် စားသည့် ဖြစ်ပါသည် ထို့ပြင် မိမိတို့ ပျိုးထောင် ပျိုးပင်များ အသီးအပွင့် အကျိုးကျေးဇူး ခံစားရ သည့် ဟုလည်း ဆိုနိုင်ပါသည် ဗုဒ္ဓဘာသာ အယူအဆ ကံ နှင့် ကံ အကျိုး ပြောရမည်',\n",
              " 'မနေ့က နေပြည်တော်ရှိ မြန်မာ အပြည်ပြည်ဆိုင်ရာ ကွန်ဗင်းရှင်း ဗဟိုဌာန ကျင်းပရာ နိုင်ငံတော် အတိုင်ပင်ခံ ပုဂ္ဂိုလ် ဒေါ်အောင်ဆန်းစုကြည် နှစ်သစ်ကူး မိန့်ခွန်း အထက်ပါအတိုင်း ထည့်သွင်း လိုက်ခြင်း',\n",
              " 'ကောင်းတာ လုပ်ပါက ကောင်းကျိုး ခံစားရမည် ဖြစ်၍ ပြည်ထောင်စု ကောင်းကျိုး ဝိုင်းဝန်း လုပ်ဆောင်ရန် လိုအပ်သည် ကိုလည်း မိမိတို့ နှလုံးသား သိရှိရန် လိုအပ်ပါသည်',\n",
              " 'နှစ်သစ် မိမိတို့၏ မျှော်လင့်ချက်များ ပြန်လည်ရှင်သန် သစ်ဆန်း လုပ်ဆောင်နိုင်မည့် အခွင့်အရေးများ ရရှိနိုင်ပါသည်',\n",
              " 'ယခင်က မကောင်း ဖြစ်ခဲ့ ကလည်း နောင် ဖြစ်ရန် နှင့် ခဲ့သည် ခိုင်မာ အားကောင်း နောက်တစ်ဖန် လုပ်ပိုင်ခွင့် သည့် အချိန် ဟုလည်း ၍ရ အသုံးချတတ် အကျိုးအမြတ် ဖြစ်ပါသည်',\n",
              " 'ကရင် ခုနှစ် ကရင် အမျိုးသား နှစ်သစ်ကူးနေ့ ကျင်းပရေး ဗဟို ကော်မတီ မဟာ ရန်ကုန် သဝဏ်လွှာ ကရင် တိုင်းရင်းသား စောမာဗယ်လ် ဖတ်ကြာ',\n",
              " 'မြန်မာဘာသာ ဖြင့် စောသိန်းလားယစ် အရှေ့ ပိုးကရင် ဘာသာ ဖြင့် နန်းလှဒေဝီ စကော ကရင် ဘာသာ ဖြင့် နော်သဝေး အနောက် ပိုးကရင် ဘာသာ ဖြင့် စဖြိုးဝေကျော်တို့ ဖတ်ကြားကြသည်',\n",
              " 'ထို့နောက် သဘာပတိ မန်းဝင်းခိုင်သန်း ကရင် ပြည်နယ်ဝန်ကြီးချုပ် နှင့် ဧရာဝတီတိုင်းဒေသကြီး ဝန်ကြီးချုပ် ဂုဏ်ပြု လက်ဆောင်များ ကိုယ်စားလှယ်များ ပေးအပ်ကြသည်',\n",
              " 'ယနေ့ နံနက်ပိုင်းတွင် ကရင် အမျိုးသား အထိမ်းအမှတ် အလံ လွှင့်ထူ အခမ်းအနားကို နေပြည်တော် မြန်မာ အပြည်ပြည်ဆိုင်ရာ ကွန်ဗင်းရှင်း ဗဟိုဌာန ကျင်းပရာ အမျိုးသားလွှတ်တော် ဥက္ကဋ္ဌ မန်းဝင်းခိုင်သန်း နှင့် တာဝန်ရှိသူများ တက်ရောက် လွှင့်ထူ ပေးခဲ့သည်',\n",
              " 'ပြည်ထောင်စုကြီး တစ်ခု ထူထောင်ပါ ပထမဦးဆုံး မျိုးစေ့များ ကြဲရမည် ဝိုင်းဝန်း ပြုစု ပျိုးထောင်ရမည် ဖြစ်ပါသည်',\n",
              " 'ဤ နေရာ ပျိုးပင် စိုက်ခြင်း ပြုစု ပျိုးထောင်ခြင်း နှင့် ရိတ်သိမ်းခြင်း ပါဝင်ဆောင်ရွက် မရှိဘဲ အကျိုးကျေးဇူး ခံစားချိန် ပါဝင်မည် ဆိုပါက ယင်းသည် ပြည်ထောင်စုစိတ်ဓာတ် လိုပါသည်',\n",
              " 'ထို့ကြောင့် မိမိတို့ အနေဖြင့် ပထမဦးဆုံး ကြဲ သည့် နေရာ ရမည် ပြုစု ပျိုးထောင်ခြင်း ရိတ်သိမ်းခြင်း လုပ်ကိုင် ဆောင်ရွက်ခဲ့ ၎င်း၏ အကျိုးကျေးဇူး ဝိညာဉ် လိပ်ပြာ သန့်သန့်ရှင်းရှင်း ဖြင့် ခံစား နိုင်မည် ဖြစ်ပါသည်',\n",
              " 'မိမိတို့ နိုင်ငံ တိုင်းရင်းသား မြောက်မြား နှင့် အတု ကိုယ်ပိုင် နှစ်သစ်ကူးနေ့ ရှိကြပါသည်',\n",
              " 'နှစ်သစ်ကူး နှစ်သစ်ကူး လူအများ မျှော်လင့်ချက်များ ပြန်လည် လန်းဆန်း',\n",
              " 'ပြီးခဲ့သော ဖြစ်ခဲ့သည် ယခုနှစ်တွင် ဖြစ်မြောက် လုပ်ဆောင်မည် ဆိုသည့် မျှော်လင့်ချက် လူသား သဘာဝ ဖြစ်ပါသည်',\n",
              " 'မျှော်လင့်ချက် အလုပ် နှင့် ပံ့ပိုး အသီးအပွင့် ဖြစ်လာနိုင်',\n",
              " 'မျှော်လင့်ချက်များ အမှန်တကယ် ဖြစ်ပေါ်လာ မိမိတို့အားလုံး ဝိုင်းဝန်း ကြိုးစား ရမည် ဖြစ်ပါသည်',\n",
              " 'ကရင် တိုင်းရင်းသား နှစ်သစ်ကူးနေ့ ဝိုင်းဝန်း အတူတကွ ဆင်နွှဲခြင်း ပြည်ထောင်စု ကောင်းသော လက္ခဏာ နိမိတ် ပြောလိုပါသည်',\n",
              " 'သို့ရာတွင် နိမိတ် အားကိုး မရပါ',\n",
              " 'ကိုယ် ကိုယ် ခံစားရမည် ဆိုသည့် စကားပုံ အတိုင်း သွားမည်',\n",
              " 'ထို့ကြောင့် ဝိုင်းဝန်း ညီညွတ်ရေး ငြိမ်းချမ်းရေး နှင့် ပြည်ထောင်စုကြီး သာယာဝပြော ရေးတို့ လုပ်မည်ဆိုပါက ထိုနှစ် နေ့ရက်တိုင်း မိမိတို့ ကျေနပ် ပျော်ရွှင် ဖွယ် ကောင်းလိမ့်မည်',\n",
              " 'နောင်လာ နောက်သား အနေဖြင့် မိမိတို့ စိုက်ပျိုးခဲ့ ငြိမ်းချမ်းရေး မျိုးစေ့များ အသီးအပွင့် ခံစား နိုင်လိမ့်မည်',\n",
              " 'ကျွန်ုပ်တို့သည် မည်သည့် အလုပ် လုပ်ဆောင်သည် ဖြစ်စေ အနာဂတ် ကြည့်ရမည် ဖြစ်ပါသည်',\n",
              " 'အနာဂတ် ဆိုသည်မှာ တစ်နှစ် နှစ်နှစ် သုံးနှစ် ဆိုလို',\n",
              " 'နိုင်ငံရေး ပညာရှင် ပြောကြားခဲ့ သကဲ့သို့ နိုင်ငံရေး လုပ်စား အနေဖြင့် နောင်လာ မည့် ရွေးကောက်ပွဲ ခေါက် မစဉ်းစား နိုင်ငံ နောင် မျိုးဆက်သစ် စဉ်းစားရမည်',\n",
              " 'ညီညီညွတ်ညွတ် ချစ်ချစ် ခင်ခင် ဖြင့် ပူးပေါင်း ညှိနှိုင်း အဖြေရှာ ဆောင်ရွက်ပါက ကျွန်မတို့ လိုလား တောင့်တ သည့် ငြိမ်းချမ်းရေး မလွဲ ဧကန် ဖြစ်ပါသည်',\n",
              " 'ကရင် တိုင်းရင်းသား အနေဖြင့် ကရင် အမျိုးသား နှစ်သစ်ကူးနေ့ ခမ်းနားစွာ ကျင်းပ သည့် ညီညွတ် ချစ်ခင်စွာ ဆောင်ရွက်မှုများ မေ့ပျောက် မသွားဘဲနိုင်ငံတော် ဖွံ့ဖြိုးတိုးတက်ရေး စည်းလုံးညီညွတ် ချစ်ခင်စွာ ဖြင့် အစဉ်တစိုက် ဆောင်ရွက် သွားကြရ မည်ဖြစ်ပါသည်',\n",
              " 'ဟောင်း မကောင်း ပယ်ရှား သင်ခန်းစာ ယူ၍ နှစ်သစ် စိတ်သစ် လူသစ် နှင့် ငြိမ်းချမ်း သာယာဝပြော သည့် ဒီမိုကရေစီ ဖက်ဒရယ် ပြည်ထောင်စု တည်ဆောက်နိုင်ရန် လုပ်ဆောင် သွားကြ တိုက်တွန်း ပြောကြားသည်',\n",
              " 'နိုင်ငံတော် အတိုင်ပင်ခံ ပုဂ္ဂိုလ် ဒေါ်အောင်ဆန်းစုကြည် မွန်ဂိုလီးယား နိုင်ငံ သမ္မတ နှင့် မနေ့က နိုင်ငံတော်သမ္မတ အိမ်တော် သံတမန်ဆောင် ဧည့်ခန်းမ တွေ့ဆုံသည် မြန်မာနိုင်ငံတွင် ဒီမိုကရေစီ အသွင်ကူးပြောင်း နှင့် တရားဥပဒေ စိုးမို လုပ်ငန်းများ မြန်မာနိုင်ငံ၏ အမျိုးသား ပြန်လည် သင့်မြတ်ရေး နှင့် ငြိမ်းချမ်းရေး ဆောင်ရွက် နေမှုများ ဆွေးနွေးခဲ့သည် လုပ်ငန်းစဉ်များ သယံဇာတ နှင့် သဘာဝ အရင်းအမြစ်များ ထိန်းသိမ်းရေး ကဏ္ဍ သတ္တု ကဏ္ဍ ရှေးဟောင်း ယဉ်ကျေးမှု အမွေအနှစ် ထိန်းသိမ်းရေး ကဏ္ဍ လျှပ်စစ် စွမ်းအင် ကဏ္ဍ ဒီမိုကရေစီ အစဉ်အလာ နှင့် တာဝန် တာဝန် ကျေပွန်သော မီဒီယာများ အခန်းကဏ္ဍတို့ နှင့်စပ်လျဉ်း၍ အမြင်ချင်း ဖလှယ် ပူးပေါင်းဆောင်ရွက် တိုးမြှင့် နိုင်ရေးအတွက် ရင်းနှီး ပွင့်လင်း ဆွေးနွေးခဲ့ကြသည် အစည်းအဝေး မွန်ဂိုလီးယား သမ္မတ နိုင်ငံတော် အတိုင်ပင်ခံ ဒုတိယအကြိမ် မွန်ဂိုလီးယား နိုင်ငံ ဖိတ်ခေါ်ခဲ့သည် ထို့နောက် မွန်ဂိုလီးယား နိုင်ငံ ကျင်းပမည် ့ အာရှ ဥရောပ အစည်းအဝေး တက်ရောက်သည် တွေ့ဆုံပွဲ ပြည်ထောင်စုဝန်ကြီး ဦးကျော်တင့်ဆွေ ဒေါက်တာ ဖေမြင့် သူရ ဦးအောင်ကို ဦးအုန်းဝင်း ဦးကျော်ဝင်း နှင့် တာဝန်ရှိသူများ တက်ရောက်ကြ မြန်မာနိုင်ငံ မွန်ဂိုလီးယား နိုင်ငံ သံအမတ်ကြီး ဦးဆောင် သည့် ကိုယ်စားလှယ်အဖွဲ့ တက်ရောက်သည်',\n",
              " 'နိုင်ငံတော် အတိုင်ပင်ခံ အမျိုးသား ပြတိုက် နေပြည်တော် ကြည့်ရှု့ မြန်မာ့ ယဉ်ကျေးမှု အမွေအနှစ် ပစ္စည်းများ နှင့် သမိုင်းကြောင်း ပစ္စည်းများ ခင်းကျင်း ပြသရာ အထောက်အထား ခိုင်ခိုင်မာမာ ဖြင့် ပြသရန် နှင့် ပြတိုက် လုပ်ငန်းများ ဖွံ့ဖြိုးတိုးတက်ရေး ပြည်ပ အဖွဲ့အစည်းများ နှင့် ဆက်သွယ် ညှိနှိုင်း ဆောင်ရွက် နိုင်ငံတော် အတိုင်ပင်ခံ ပုဂ္ဂိုလ် ဒေါ်အောင်ဆန်းစုကြည် နေပြည်တော် ဥတ္တရသီရိ မြို့နယ် အမျိုးသား ပြတိုက် နေပြည်တော် မနေ့က ကြည့်ရှုစစ်ဆေး ပြောကြားခဲ့သည် သာသနာရေး နှင့် ယဉ်ကျေးမှုဝန်ကြီးဌာန ပြည်ထောင်စုဝန်ကြီး သူရ ဦးအောင်ကို သမိုင်း သုတေသန နှင့် အမျိုးသား စာကြည့်တိုက်ဦးစီး ဌာန တာဝန်ခံ ညွှန်ကြားရေးမှူး အမြဲတမ်း အတွင်းဝန် ဒေါက်တာ ဒေါ်နန္ဒာမွှန်း နှင့် တာဝန်ရှိသူများက ရှင်းလင်း ပြသ ကြသည် အမျိုးသား ပြတိုက် နေပြည်တော် ဥတ္တရသီရိ မြို့နယ် ရာဇသင်္ဂဟ လမ်းမကြီး ပေါ်တွင် တည်ရှိ ခုနှစ် ဇူလိုင် မှစတင်၍ ပြည်သူများ ကြည့်ရှု လေ့လာ နိုင်ရန် ဖွင့်လှစ် ပြသ လျက်ရှိသည်',\n",
              " 'နိုင်ငံတော် အတိုင်ပင်ခံ ပုဂ္ဂိုလ် ဒေါ်အောင်ဆန်းစုကြည် နှင့် စင်ကာပူ သမ္မတ နိုင်ငံဝန်ကြီးချုပ် တွေ့ဆုံ ဆွေးနွေးသည် နိုင်ငံတော် အတိုင်ပင်ခံ ပုဂ္ဂိုလ် ဒေါ်အောင်ဆန်းစုကြည် စင်ကာပူ သမ္မတ နိုင်ငံဝန်ကြီးချုပ် မစ္စတာ လီရှန်လုံး နှင့် မနေ့က နိုင်ငံတော်သမ္မတ အိမ်တော် သံတမန်ဆောင် ဧည့်ခန်းမ တွေ့ဆုံသည် တွေ့ဆုံစဉ် ခုနှစ်က ချုပ်ဆိုခဲ့သော နှစ်နိုင်ငံ အကြား အခွန်နှစ်ထပ် မဖြစ်စေရေး သဘောတူစာချုပ်ကို ခေတ် အခြေအနေ နှင့်အညီ ပြန်လည် သုံးသပ် ပြင်ဆင် ချုပ်ဆိုနိုင်ရေး ရင်းနှီးမြှုပ်နှံမှု နှစ်နိုင်ငံ သဘောတူစာချုပ် ချုပ်ဆိုနိုင်ရေး စင်ကာပူ လေကြောင်းလိုင်းများ မြန်မာနိုင်ငံ မြို့ကြီးများ တိုက်ရိုက် ပျံသန်း ပို့ဆောင် ပေးသည့် သီးသန့် ခရီးစဉ် ပြေးဆွဲရေး ခရီးသွားလုပ်ငန်း ဖွံ့ဖြိုးတိုးတက်ရေး ပူးပေါင်းဆောင်ရွက် မြန်မာ စင်ကာပူ သက်မွေး ပညာ သင်တန်းကျောင်း ဝန်ဆောင်မှု နှင့် အသက်မွေးဝမ်းကြောင်း သင်တန်းများ တိုးမြှင့် ဖွင့်လှစ် သင်ကြား ရေးတို့ ဆွေးနွေးကြသည် နိုင်ငံတော် အတိုင်ပင်ခံ ပုဂ္ဂိုလ် ဒေါ်အောင်ဆန်းစုကြည် အနေဖြင့် နိုင်ငံတကာ မျက်နှာစာ နိုင်ငံတကာ ကိစ္စရပ်များ အာဆီယံ ကိုယ်စား တက်ကြွစွာ ဦးဆောင်မှု ပေးရေး ကိုလည်း ဆွေးနွေးခဲ့ကြသည် တွေ့ဆုံပွဲ အပြီးတွင် နှစ်နိုင်ငံ အကြား သာမန်နိုင်ငံကူး လက်မှတ် ကိုင်ဆောင်သူ ဗီဇာ ကင်းလွတ် ခွင့် ဖြင့် အပြန်အလှန် သွားရောက်နိုင်ရေး သဘောတူညီချက်ကို ဒုတိယဝန်ကြီး ဦးကျော်တင် နှင့် မြန်မာနိုင်ငံ စင်ကာပူ သံအမတ်ကြီး မစ္စတာ ရောဘတချာတို့ လဲလှယ်ခဲ့ကြသည်',\n",
              " 'လာအို ပြည်သူ့ ဒီမိုကရက်တစ် သမ္မတနိုင်ငံ ဗီယင်ကျန်း မြို့ ဇူလိုင် ရက်မှ ရက်အထိ ကျင်းပမည် ့ အာဆီယံ နိုင်ငံခြားရေး ဝန်ကြီးများ အစည်းအဝေး နှင့် အစည်းအဝေး တက်ရောက်ရန် နိုင်ငံခြားရေး ဝန်ကြီးဌာန ပြည်ထောင်စုဝန်ကြီး ဒေါ်အောင်ဆန်းစုကြည် မနေ့က ရန်ကုန်မြို့ လေကြောင်း ခရီး ဖြင့် ထွက်ခွာပြီး ဒေသစံတော်ချိန် နာရီ ရောက်ရှိသည်',\n",
              " 'ပြည်ထောင်စုဝန်ကြီး ဇူလိုင် ရက်တွင် အရှေ့တောင် အာရှ နျူကလီးယား လက်နက် ကင်းမဲ့ဇုန် ကော်မရှင် အစည်းအဝေး နိုင်ငံခြားရေး ဝန်ကြီးများ နှင့် လူ့အခွင့်အရေး နှင့် စပ်လျဉ်းသည့် အာဆီယံ အစိုးရချင်း ကော်မရှင် ကိုယ်စားလှယ်များ တွေ့ဆုံ သည့် အစည်းအဝေး တက်ရောက်မည်',\n",
              " 'ဇူလိုင် ရက်တွင် အာဆီယံ နိုင်ငံခြားရေး ဝန်ကြီးများ မျက်နှာစုံညီ အစည်းအဝေး တက်ရောက်မည်',\n",
              " 'ပြည်ထောင်စုဝန်ကြီး ဇူလိုင် ရက်တွင် အာဆီယံ နှင့် ဆွေးနွေးဖက် နိုင်ငံ အစည်းအဝေး တက်ရောက်မည်',\n",
              " 'ဇူလိုင် ရက်တွင် အာဆီယံ နိုင်ငံခြားရေး ဝန်ကြီးများ အစည်းအဝေး နှင့် အရှေ့အာရှ ထိပ်သီး အစည်းအဝေး နိုင်ငံခြားရေး ဝန်ကြီးများ အစည်းအဝေး တက်ရောက်မည်',\n",
              " 'ပြည်ထောင်စုဝန်ကြီး ကျင်းပ မည့် အာဆီယံ ဒေသဆိုင်ရာ ဖိုရမ် ဝန်ကြီးအဆင့် မျက်နှာစုံညီ အစည်းအဝေး နှင့် သီးသန့် အစည်းအဝေး တက်ရောက်မည်',\n",
              " 'အစည်းအဝေး အာဆီယံ ဒေသဆိုင်ရာ ဖိုရမ် အဖွဲ့ဝင်နိုင်ငံ နိုင်ငံ နိုင်ငံခြားရေး ဝန်ကြီးများ တက်ရောက်မည်',\n",
              " 'ပြည်ထောင်စုဝန်ကြီး ဒေါ်အောင်ဆန်းစုကြည် နှင့် ဘရူနိုင်း နှင့် ဗီယက်နမ် နိုင်ငံ နိုင်ငံခြားရေး ဝန်ကြီးများ တွေ့ဆုံသည်',\n",
              " 'လာအို နိုင်ငံ နေသော နိုင်ငံခြားရေး ဝန်ကြီးဌာန ပြည်ထောင်စုဝန်ကြီး ဒေါ်အောင်ဆန်းစုကြည် နှင့် ဘရူနိုင်းဒါရူဆလမ် နိုင်ငံဝန်ကြီးချုပ် ရုံးဝန်ကြီး နှင့် နိုင်ငံခြားရေး ဝန်ကြီး မနေ့က ဗီယင်ကျန်း မြို့ အမျိုးသား ကွန်ဗင်းရှင်း ဗဟိုဌာန တွေ့ဆုံ ဆွေးနွေးကြသည်',\n",
              " 'အလားတူ ပြည်ထောင်စုဝန်ကြီး ဒေါ်အောင်ဆန်းစုကြည် နှင့် ဗီယက်နမ် ဆိုရှယ်လစ် သမ္မတနိုင်ငံ ဒုတိယ ဝန်ကြီးချုပ် နှင့် နိုင်ငံခြားရေး ဝန်ကြီး တွေ့ဆုံ ဆွေးနွေးခဲ့ကြသည်',\n",
              " 'တမန်ဆောင် ဧည့်ခန်းမ တွေ့ဆုံသည် တွေ့ဆုံစဉ် ခုနှစ်က ချုပ်ဆိုခဲ့သော နှစ်နိုင်ငံ အကြား အခွန်နှစ်ထပ် မဖြစ်စေရေး သဘောတူစာချုပ်ကို ခေတ် အခြေအနေ နှင့်အညီ ပြန်လည် သုံးသပ် ပြင်ဆင် ချုပ်ဆိုနိုင်ရေး ရင်းနှီးမြှုပ်နှံမှု နှစ်နိုင်ငံ သဘောတူစာချုပ် ချုပ်ဆိုနိုင်ရေး စင်ကာပူ လေကြောင်းလိုင်းများ မြန်မာနိုင်ငံ မြို့ကြီးများ တိုက်ရိုက် ပျံသန်း ပို့ဆောင် ပေးသည့် သီးသန့် ခရီးစဉ် ပြေးဆွဲရေး ခရီးသွားလုပ်ငန်း ဖွံ့ဖြိုးတိုးတက်ရေး ပူးပေါင်းဆောင်ရွက် မြန်မာ စင်ကာပူ သက်မွေး ပညာ သင်တန်းကျောင်း ဝန်ဆောင်မှု နှင့် အသက်မွေးဝမ်းကြောင်း သင်တန်းများ တိုးမြှင့် ဖွင့်လှစ် သင်ကြား ရေးတို့ ဆွေးနွေးကြသည် နိုင်ငံတော် အတိုင်ပင်ခံ ပုဂ္ဂိုလ် ဒေါ်အောင်ဆန်းစုကြည် အနေဖြင့် နိုင်ငံတကာ မျက်နှာစာ နိုင်ငံတကာ ကိစ္စရပ်များ အာဆီယံ ကိုယ်စား တက်ကြွစွာ ဦးဆောင်မှု ပေးရေး ကိုလည်း ဆွေးနွေးခဲ့ကြသည် တွေ့ဆုံပွဲ အပြီးတွင် နှစ်နိုင်ငံ အကြား သာမန်နိုင်ငံကူး လက်မှတ် ကိုင်ဆောင်သူ ဗီဇာ ကင်းလွတ် ခွင့် ဖြင့် အပြန်အလှန် သွားရောက်နိုင်ရေး သဘောတူညီချက်ကို ဒုတိယဝန်ကြီး ဦးကျော်တင် နှင့် မြန်မာနိုင်ငံ စင်ကာပူ သံအမတ်ကြီး မစ္စတာ ရောဘတချာတို့ လဲလှယ်ခဲ့ကြသည်',\n",
              " 'နိုင်ငံတော် အတိုင်ပင်ခံ ပုဂ္ဂိုလ် နှင့် အဖွဲ့ မြန်မာ အပြည်ပြည်ဆိုင်ရာ ကွန်ဗင်းရှင်း ဗဟိုဌာန ကရင် အမျိုးသား နှစ်သစ်ကူးနေ့ အထိမ်းအမှတ် ယဉ်ကျေးမှု ပြခန်း လှည့်လည် ကြည့်ရှုကြသည်',\n",
              " 'မြန်မာ ကင်းထောက် ရာပြည့် အခမ်းအနားကို မနေ့က ရန်ကုန်တက္ကသိုလ် စိန်ရတု ခန်းမ၌ ကျင်းပရာ နိုင်ငံတော် အတိုင်ပင်ခံ ပုဂ္ဂိုလ် ဒေါ်အောင်ဆန်းစုကြည် ဂုဏ်ပြု အမှာစကား ပြောကြားသည် အခမ်းအနားတွင် နိုင်ငံတော် အတိုင်ပင်ခံ ပုဂ္ဂိုလ် ငယ် ကင်းထောက်ဝတ်စုံဝတ် ကင်းထောက် အဖွဲ့ အတူတူ ပါဝင်ခဲ့သည့် မိတ်ဆွေ နှင့် ယခုကဲ့သို့ မရပ်ခဲ့ရသည် အနှစ် ငါးဆယ် ကျော်သွားပြီ ဖြစ်လို့ စိတ်မကောင်း မိမိတို့ ကင်းထောက်များ စိတ်ဓါတ် ရှင်သန် နေသေးသည် တွေ့ရသည့် အတွက်ဝမ်းမြောက် မိပါသည် မြန်မာ ကင်းထောက် ရာပြည့် အခမ်းအနားကို အင်္လကာ ကျော်စွာ ဟင်္သာတ မြင့်ငွေ ဂုဏ်ပြု စပ်ဆို သည့် ကင်းထောက် ဂုဏ်ရည် သီချင်း ဖြင့် ဖွင့်လှစ် ကင်းထောက် လူငယ်များ လှုပ်ရှားမှု ဆိုသည်မှာ လူငယ်များ စိတ်ဓါတ် ဖွံ့ဖြိုးရေး ပြုစု ပျိုးထောင်ရေး တစ်မျိုး ပင် ဖြစ်ပါသည် သည့် ကိစ္စများ အတူတူ ဝိုင်းဝန်း ဆောင်ရွက်ခြင်း တစ်ဘဝ ခိုင်မြဲ သည့် မိတ်ဆွေ ရဲဘော် ရဲဘက် ရှာဖွေခြင်း ပင် ဖြစ်ပါသည် သည့် ကိစ္စများ အတူတူ လုပ်ဆောင်ခြင်း ပို၍ ခိုင်မြဲ နိုင်သည့် အဆက်အသွယ် မရှိနိုင် ထို့ကြောင့် ကင်းထောက် လူငယ်များ ယခုကဲ့သို့ စုစည်း နိုင်သည့် အခြေအနေ ပြန်လည် ရောက်ရှိလာသည် ကိုဝမ်းမြောက် မိပါသည် ကင်းထောက် တစ်ယောက် အနေဖြင့် ငယ်ငယ် သင်ပေးလိုက် သည့် စံနှုန်း စံထား တစ်ဘဝ စွဲလန်း သွားနိုင်ပါသည် ၎င်းတို့သည် မိမိကိုယ်တိုင် သာမက မိမိတို့ အသိုင်းအဝန်း နိုင်ငံ ကမ္ဘာ များစွာ အကျိုးပြု နိုင်မည် ဖြစ်ပါသည် ကင်းထောက် လှုပ်ရှားမှု ဆိုသည်မှာ တစ်ကမ္ဘာလုံး ဖြင့် သက်ဆိုင် သည့် လှုပ်ရှားမှု နိုင်ငံ နိုင်ငံ နှင့် သက်ဆိုင် သည့် လှုပ်ရှားမှု မဟုတ်ပါ နိုင်ငံ တစ်ခု ကောင်းကျိုးပြု နှင့် တစ်ကမ္ဘာလုံး အပြန်အလှန် အကျိုးပြု နိုင်ပါသည် အစုအဖွဲ့ ဖြင့် ဆောင်ရွက်ခြင်း တစ်နည်းအားဖြင့် အတ္တ တော်လှန်ခြင်း ပင် ဖြစ်ပါသည် လူသား ဖြစ်လာပါ အတ္တ လူတိုင်းအတွက် အတိုင်းအတာ တစ်ခု ထိန်းထား နိုင်ရန် လိုအပ်ပါသည် အတ္တ တစ်ယောက် တွေး ခြင်းဖြစ်သည် မေတ္တာ အများ တွေး ခြင်းဖြစ်သည် မိမိတို့ နိုင်ငံ ငြိမ်းချမ်းရေး ဆောင်ရွက် နေသည် အသိပင် ဖြစ်ပါသည် ဝိုင်းဝန်း လုပ်ဆောင် မိမိတို့ နိုင်ငံ ဒေသ နှင့် ကမ္ဘာကြီး ငြိမ်းချမ်း မည်ဖြစ်ပါသည် ကင်းထောက် လူငယ်များ သီချင်း သည့် စိတ်နေစိတ်ထားများ မွေးမြူ တိုက်တွန်း ကင်းထောက် မောင် သီချင်း သင်ခန်းစာ များစွာ ယူနိုင်ပါသည် အနှစ် တစ်ရာ တည်တံ့ ခိုင်မြဲ ခဲ့သည် စိတ်ဓါတ် ကြောင့် ပင် ဖြစ်ပါသည် မိမိတို့ ငယ် ကင်းထောက်များ ယှဉ်တွဲ တစ်ပတ် တစ်ကြိမ် နှစ်စဉ် စခန်း လေ့ရှိပြီး ၎င်းက ပျော်ရွှင် ဖွယ် သကဲ့သို့ သင်ယူ နိုင်သည့် အခွင့်အရေး များစွာ ရှိပါသည် လူငယ် ကင်းထောက်များ စာမေးပွဲ တစ်ဆင့် ဖြေဆို သွားကြရ မိမိတို့ ငယ် သမ္မတ ကင်းထောက်များ ဆိုသည့် အဖွဲ့ ခဲ့ပါသည် ပထမဆုံး စာမေးပွဲ ဖြေဆို အောင်မြင် သည့် လေးယောက် ခဲ့ပါသည် အသက် တစ်ဆယ့်ငါး အိန္ဒိယ ပြောင်းရွှေ့ သည့် ကင်းထောက် လှုပ်ရှားမှုများ ဆက်လက် မပါဝင် သို့သော်လည်း ကမ္ဘာတစ်ဝန်း ကင်းထောက်များ နှင့် အဆက်အသွယ် မပြတ်ခဲ့ပါ မပြတ် အခြေခံ အားဖြင့် ရဲဘော် ရဲဘက် ခိုင်ခံ့ ထူထောင် သည့် ဖြစ်ပါသည် ယင်းနောက် နိုင်ငံတော် အတိုင်ပင်ခံ ပုဂ္ဂိုလ် နိုင်ငံတကာ ကင်းထောက် အဖွဲ့ချုပ် အသီးသီး ကိုယ်စားလှယ်များ အထိမ်းအမှတ် လက်ဆောင်များ ပေးအပ်ကြသည် အခမ်းအနား အပြီးတွင် နိုင်ငံတော် အတိုင်ပင်ခံ ပုဂ္ဂိုလ် ဒေါ်အောင်ဆန်းစုကြည် မြန်မာနိုင်ငံ ကင်းထောက် ကော်မတီ နိုင်ငံတကာ ကင်းထောက် အဖွဲ့ချုပ် ကိုယ်စားလှယ်များ နိုင်ငံတော် အတိုင်ပင်ခံ ပုဂ္ဂိုလ် ငယ် ကင်းထောက် ငယ် ကြီးဖော် ကင်းထောက်များ မျိုးဆက်သစ် ကင်းထောက် လူငယ် မောင် တက်ရောက် နှင့်အတူ စုပေါင်း မှတ်တမ်းတင် ဓါတ်ပုံ ရိုက်သည် မြန်မာနိုင်ငံ ကင်းထောက် အဖွဲ့ ခုနှစ်တွင် ဖွဲ့စည်းခဲ့သည် ခုနှစ်တွင် မြန်မာနိုင်ငံ ကင်းထောက် အဖွဲ့ ပြန်လည် ဖွဲ့စည်းခဲ့သည် ခုနှစ် သြဂုတ် ရက်တွင် အဖွဲ့ဝင်နိုင်ငံ နိုင်ငံ ကမ္ဘာ့ ကင်းထောက် အဖွဲ့ဝင် မြောက် နိုင်ငံ ကန့်ကွက် မဲ အတည်ပြုခဲ့သည် ဖွင့်ပွဲ အခမ်းအနား အပြီးတွင် မြန်မာနိုင်ငံ ကင်းထောက် ကော်မတီ ဥက္ကဋ္ဌ အမျိုးသား ကင်းထောက် ဒေါက်တာ တင်ညို မြန်မာနိုင်ငံ ကင်းထောက် အဖွဲ့ တိုးတက်မှုများကို ရှင်းလင်းတင်ပြသည် မြန်မာနိုင်ငံ အမျိုးသမီး ကင်းထောက် ဒေါက်တာ တင်လှကြည် ကင်းထောက် သမိုင်းကြောင်းကို ရှင်းလင်းတင်ပြသည်',\n",
              " 'နိုင်ငံတော် အတိုင်ပင်ခံ ပုဂ္ဂိုလ် နှင့် ဘူတန် ဘုရင်မင်းမြတ် ဒွေးတော် ပုဂံ ရှေးဟောင်း ယဉ်ကျေးမှု နယ်မြေ ဘုရား လှည့်လည် ဖူးမြော်သည် နိုင်ငံတော် အတိုင်ပင်ခံ ပုဂ္ဂိုလ် ဒေါ်အောင်ဆန်းစုကြည် ဘူတန် နိုင်ငံ ဘုရင်မင်းမြတ် ဒွေးတော် နှင့်အတူ မနေ့က မွန်းလွဲပိုင်း ပုဂံ ရှေးဟောင်း ယဉ်ကျေးမှု နယ်မြေ လှည့်လည် ကြည့်ရှု လေ့လာ နိုင်ငံတော် အတိုင်ပင်ခံ ပုဂ္ဂိုလ် နှင့် ဘူတန် နိုင်ငံ ဘုရင်မင်းမြတ် ဒွေးတော်တို့ ရှေးဦးစွာ အာနန္ဒာ ဘုရား သွားရောက် ဖူးမြော် ပန်း ရေချမ်း ဆီမီး ဆက်ကပ် လှူဒါန်းကြသည် ထို့နောက် ဂူပြောက်ကြီး မြင်းကပါ ဘုရား ပူဇော် ကြသည် ဘုရား ပရိဝုဏ် အနီး သဲ ပန်းချီ လက်မှု အနုပညာ လုပ်ငန်း ဆောင်ရွက်နေ ကြည့်ရှု အားပေး ညပိုင်း နိုင်ငံတော် အတိုင်ပင်ခံ ပုဂ္ဂိုလ် ဘူတန် နိုင်ငံ ဘုရင်မင်းမြတ် ဒွေးတော် ညစာစားပွဲ ဖြင့် တည်ခင်း ဧည့်ခံသည် ပုဂံ ရှေးဟောင်း ဘုရား နှင့် စေတီ ပုထိုး နိုင်ငံတော် အတိုင်ပင်ခံ ပုဂ္ဂိုလ် လှည့်လည် ကြည့်ရှုစစ်ဆေး ရှေးဟောင်း အမွေအနှစ် ပုံစံအတိုင်း တတ်နိုင်သမျှ အနီးစပ်ဆုံး ဖြစ်အောင် ထိန်းသိမ်း လိုပါသည် နိုင်ငံတော် အတိုင်ပင်ခံ သြဂုတ်လ ရက်နေ့တွင် အင်အား ငလျင် တစ်ခု လှုပ်ခတ် ပုဂံ ရှေ့ဟောင်း သုသေတန နယ်မြေ ပျက်စီးခဲ့သော ဘုရား လှည့်လည် စစ်ဆေးသည် နိုင်ငံတော် အတိုင်ပင်ခံ ပုဂ္ဂိုလ် ပျက်စီးခဲ့သော ဘုရား ပြန်လည် မွမ်းမံ အဆောက်အအုံ အသီးသီး ရှေ့ဟောင်း အနုပညာ တန်ဖိုး ပျောက်ဆုံး အရေးကြီး မှာကြားသည် ပျက်စီးသွားသော ဘုရား ထိန်းသိမ် စောင့်ရှောက် လူအများ ထင်မြင်ယူဆချက်များ နှင့် အလုပ် ထိရောက်မှု ထည့်သွင်း စဉ်းစားဖို့ လိုအပ်ပါသည် ရှေးဟောင်း အမွေအနှစ် ထိန်းသိမ်း ပစ္စည်း အဟောင်းများ ထိန်းသိမ်း မဟုတ်ကြောင်း မိမိတို့ နိုင်ငံ သမိုင်း ယဉ်ကျေးမှု နှင့် ရှိသည့် ထိန်းသိမ်း သူမက ပြောကြားသည် အတိတ် သမိုင်း ဂုဏ်ယူ ရှိသကဲ့သို့ ဂုဏ်ယူ မကောင်းသည့် အချက်များကို သင်ခန်းစာ ယူနိုင်ပါသည်',\n",
              " 'နိုင်ငံတော် အတိုင်ပင်ခံ ပုဂ္ဂိုလ် နယ်သာလန် နိုင်ငံ သံအမတ်ကြီး လက်ခံ တွေ့ဆုံသည် နိုင်ငံတော် အတိုင်ပင်ခံ ပုဂ္ဂိုလ် နိုင်ငံခြားရေး ဝန်ကြီးဌာန ပြည်ထောင်စုဝန်ကြီး ဒေါ်အောင်ဆန်းစုကြည် မြန်မာနိုင်ငံ နယ်သာလန် နိုင်ငံ သံအမတ်ကြီး မနေ့က နေပြည်တော်ရှိ နိုင်ငံခြားရေး ဝန်ကြီးဌာန လက်ခံ တွေ့ဆုံသည် တွေ့ဆုံစဉ် မြန်မာ နှင့် နယ်သာလန် နှစ်နိုင်ငံဆက်ဆံရေး နှင့် ပူးပေါင်းဆောင်ရွက် တိုးမြှင့်ရေး ကိစ္စရပ်များ ဆွေးနွေးကြသည်',\n",
              " 'ပြည်ထောင်စု မြန်မာ နိုင်ငံတော်အစိုးရသည် အမျိုးသား ပြန်လည် သင့်မြတ်ရေး နှင့် ငြိမ်းချမ်းရေး အလေးပေး ဆောင်ရွက် နိုင်ရန် ရည်ရွယ် ခုနှစ် ဇူလိုင် ရက်နေ့တွင် အမျိုးသား ပြန်လည် သင့်မြတ်ရေး နှင့် ငြိမ်းချမ်းရေး ဗဟိုဌာန ဖွဲ့စည်း ခဲ့ပါသည် နိုင်ငံရေး ဆွေးနွေးမှု မူဘောင် ပြန်လည် သုံးသပ် သည့် ဆွေးနွေးမှုများ လည်းကောင်း အမျိုးသား အဆင့် နိုင်ငံရေး ဆွေးနွေးပွဲ ကျင်းပ နိုင်ရန် လိုအပ်သည့် လုပ်ငန်း လမ်းညွှန်များ ရေးဆွဲ ခဲ့ပါသည် လက်မှတ်ရေးထိုးခြင်း သည့် နိုင်ငံရေး ဆွေးနွေး ညှိနှိုင်း ကိုယ်စားလှယ်အဖွဲ့ အနေဖြင့် ကြိမ် တိုင်တိုင် တက်ရောက် ဆွေးနွေးခဲ့ ဖြစ်ပါသည် လက်မှတ်ရေးထိုးခြင်း သည့် တိုင်းရင်းသား လက်နက်ကိုင် အဖွဲ့အစည်းများ ဩဂုတ်လ ရက်နေ့ စက်တင်ဘာလ ရက်နေ့အထိ နေပြည်တော်တွင် ကျင်းပ ပြုလုပ်ခဲ့သော ပြည်ထောင်စု ငြိမ်းချမ်းရေး ညီလာခံ ရာစု ပင်လုံ အစည်းအဝေး တက်ရောက် ခဲ့သည် သူတို့ စာတမ်းများ တင်သွင်းခဲ့သည် ထို့ပြင် သူတို့ ရာစု ပင်လုံ အစည်းအဝေး လက်မှတ်ထိုး ထားသည့် အဖွဲ့ နှင့်အတူ ပူပေါင်း စေရန် ညှိနှိုင်း ကိုလည်း ဆောင်ရွက်သည် လွတ်လပ်ရေး နှင့်အတူ ပေါ်ပေါက် လာခဲ့ ပြည်တွင်း လက်နက်ကိုင် ပဋိပက္ခ နှစ်ပေါင်းများစွာ ရှည်ကြာ အကြောင်းပြချက် အခြေခံကျ သည့် နိုင်ငံရေး ပြဿနာ ဆွေးနွေး ညှိနှိုင်း၍ အပေး အယူ အလျှော့ အတင်း ပြုလုပ်ကာ ဘုံ သဘောတူ လက်ခံ သည့် ဖြေရှင်းချက် ရှာဖွေ နိုင်ခဲ့ခြင်း ကြောင့် ပင် ဖြစ်ပါသည် ထို့ကြောင့် မိမိတို့ အစိုးရသစ် လက်ထက် နိုင်ငံရေး ပြဿနာ နိုင်ငံရေး နည်းလမ်း ဖြင့် စုပေါင်း အဖြေရှာ နိုင်ရန် ရည်ရွယ် ပြည်ထောင်စု ငြိမ်းချမ်းရေး ညီလာခံ ရာစု ပင်လုံ ဦးစားပေး ဆောင်ရွက်ခဲ့ခြင်း ဖြစ်ပါသည် လက်မှတ်ရေးထိုးခြင်း သည့် တိုင်းရင်းသား လက်နက်ကိုင် အဖွဲ့အစည်းများ စောစော လက်မှတ်ရေးထိုး ငြိမ်းချမ်းရေး ဖြစ်စဉ်တွင် နိုင်ရန် တိုက်တွန်း ခဲ့ပါသည် ငြိမ်းချမ်းရေး ဖြစ်စဉ်များ သူတို့ လက်တွေ့ကျ စည်းရုံး စုစုပေါင်း အစည်းအဝေး ငါး ကြိမ် အဖွဲ့ နှင့် ဆွေးနွေး ညှိနှိုင်းခဲ့ ဖြစ်ပါသည်',\n",
              " 'ထိုင်းနိုင်ငံ ချင်းမိုင် မြို့ နှစ်ကြိမ် နှင့် မြန်မာနိုင်ငံ ရန်ကုန်မြို့တွင် ကြိမ် ဖြစ်ပါသည်',\n",
              " 'လက်နက်ကိုင် ပဋိပက္ခများ ချုပ်ငြိမ်း ရေရှည်တည်တံ့သော ငြိမ်းချမ်းရေး တည်ဆောက် နိုင်ရေးအတွက် ပြည်ထောင်စု ငြိမ်းချမ်းရေး ညီလာခံ ရာစု ပင်လုံသည် တစ်ခုတည်းသော လမ်းကြောင်း ဖြစ်ပါသည် အစိုးရက ငြိမ်းချမ်းရေး ဖြစ်စဉ်တွင် သင့် ထိုက်သူ နိုင်ရေးအတွက် ကြိုဆို ငြိမ်းချမ်းရေး တံခါးများ အစဉ်အမြဲ ဖွင့်လှစ် ထားပါသည် အဆုံးသတ် တစ်နိုင်ငံလုံး ပစ်ခတ် တိုက်ခိုက်မှု ရပ်စဲ သဘောတူညီချက် လက်မှတ်ရေးထိုး ရန်လိုအပ် လျက်ရှိပါသည် ပြည်နယ် ဖြစ်စဉ်များ တည်ငြိမ် မူလ အခြေအနေ ပြန်လည် ရမည် နိုင်ငံတော်အစိုးရသည် မူလ ပုံမှန် အနေအထား ပြန်လည် စေရန် အလေးအနက်ထား ကြိုးပမ်းဆောင်ရွက် သွားမည် ဖြစ်ပါသည်',\n",
              " 'ရှမ်းပြည်နယ် အရှေ့ မြောက် ဒေသ တပ်မတော် နှင့် လုံခြုံရေး တပ်ဖွဲ့ဝင်များ ရွပ်ရွပ်ချွံချွံ စွမ်းဆောင် ကြောင့် အခြေအနေ အတိုင်းအတာ တစ်ခုအထိ တည်ငြိမ် ဆောင်ရွက် တွေ့ရှိရပါသည်',\n",
              " 'ပြည်ထောင်စု သမ္မတ မြန်မာ နိုင်ငံတော် အစိုးရ အနေဖြင့် ရခိုင်ပြည်နယ် သိမ်မွေ့ နက်နဲ သည့် အရေးကိစ္စများ ဖြေရှင်း နိုင်မည့် ရေရှည် နည်းလမ်း ရှာဖွေ သွားမည် ဖြစ်ပါသည်',\n",
              " 'အဆိုပါကိစ္စ နှင့်စပ်လျဉ်း၍ နိုင်ငံတော် အတိုင်ပင်ခံ ရုံးဝန်ကြီးဌာန နှင့် ကိုဖီအာနန် ဖောင်ဒေးရှင်း တို့အကြား နားလည်မှု စာချွန်လွှာ တစ်ခု လက်မှတ်ရေးထိုး မည်ဖြစ်ပါသည်',\n",
              " 'ကော်မရှင် ဖြစ်ပေါ်နေ သည့် ပြဿနာ ဖြေရှင်း နိုင်မည့် အကောင်းဆုံး နည်းလမ်းများကို ရှာဖွေရန် သက်ဆိုင်သူ နိုင်ငံတကာ ကျွမ်းကျင်သူများ နှင့် နိုင်ငံတကာမှ အရေးပါ သည့် ပုဂ္ဂိုလ်များ နှင့် တွေ့ဆုံ ဆွေးနွေး ၎င်းတို့၏ အမြင် သဘောထား ရယူ လေ့လာ သုံးသပ်မှုများ ပြုလုပ်မည်',\n",
              " 'ကော်မရှင် ရခိုင်ဒေသ ပြည်သူများ လုံခြုံရေး နှင့် အခြေခံ အခွင့်အရေးများ အာမခံချက် ပေးနိုင် ကိစ္စ လူသားချင်း စာနာထောက်ထားမှု နှင့် ဖွံ့ဖြိုးတိုးတက်မှု ကိစ္စများ အခြေခံ လူမှု ဝန်ဆောင်မှုများ ရရှိရေး ကိစ္စများ စဉ်းစားမည်',\n",
              " 'ကော်မရှင် ရခိုင်ပြည်နယ် ပဋိပက္ခ ကြိုတင်ကာကွယ်ရေး လူသားချင်း စာနာထောက်ထားမှု အကူအညီများ အခွင့်အရေးများ နှင့် ပြန်လည် ရင်ကြားစေ့ သင့်မြတ်ရေး အဆောက်အအုံများ တည်ထောင် ပေးရေး နှင့် ဖွံ့ဖြိုးတိုးတက်မှု မြှင့်တင်ရေး လေ့လာ သုံးသပ်မှု ပြုလုပ် အကြံပြု တင်ပြမှု ပြုလုပ်မည် ဖြစ်ပါသည်',\n",
              " 'ပြည်ပနိုင်ငံများတွင် ဒုက္ခသည် ခံယူ ပင်ရင်း နိုင်ငံ နောက်ခံ အကြောင်းအရာ နိုင်ငံတကာ ဆက်နွှယ် မှုတို့ ကိုလည်း သုံးသပ် သွားမည် ဖြစ်ပါသည်',\n",
              " 'ကျယ်ပြန့်စွာ ဆွေးနွေးမှုများ ပြီးနောက် ကော်မရှင် ရှာဖွေတွေ့ရှိ ချက်များ နှင့် လေ့လာ သုံးသပ် အကြံပြုချက်များ နိုင်ငံတော် အတိုင်ပင်ခံ ပုဂ္ဂိုလ် မှတစ်ဆင့် မြန်မာနိုင်ငံ အစိုးရထံ တင်ပြမည် အစီရင်ခံစာ ၎င်းတို့ တည်ထောင်မှု တင်ပြရမည် ဖြစ်ပါသည်',\n",
              " 'တစ်ခု နိုင်ငံတော် အတိုင်ပင်ခံ ပုဂ္ဂိုလ် ဒေါ်အောင်ဆန်းစုကြည် ဦးဆောင်တဲ့ ရခိုင်ပြည်နယ် တည်ငြိမ်အေးချမ်း နှင့် ဖွံ့ဖြိုးတိုးတက်ရေး ဗဟို ကော်မတီ ဖွဲ့စည်း ဆောင်ရွက် နေတာ မစ္စတာ ကိုဖီအာနန် ဦးဆောင်တဲ့ ရခိုင်ပြည်နယ် အကြံပေး ကော်မရှင် ကိုလည်း ဖွဲ့စည်းခြင်း ဖြင့် အဖြေ တစ်ခု ကြိုးပမ်း နေပါတယ် ဒါ့အပြင်နိုင်ငံတော် အတိုင်ပင်ခံ ရုံး သတင်းထုတ်ပြန် ကော်မတီ ကိုလည်း ဖွဲ့စည်းခဲ့ ပြီးပြီ',\n",
              " 'ဒုတိယသမ္မတ ဦးမြင့်ဆွေ ဦးစီး စုံစမ်းစစ်ဆေးရေး ကော်မရှင် ကိုလည်း ဖွဲ့စည်း ဆောင်ရွက် အရေးယူမှုတွေ ပြုလုပ်လျက် မောင်တောဒေသ မှာရှိတဲ့ ဒေသခံ ပြည်သူတွေ ကူညီ ထောက်ပံ့မှု အကြိမ်ကြိမ် ဆောင်ရွက် ပေးခဲ့ပါတယ်',\n",
              " 'လူသားချင်း စာနာထောက်ထားမှု အကူအညီများ လူမှုဝန်ထမ်း ကယ်ဆယ်ရေး နှင့် ပြန်လည်နေရာချထားရေး ဝန်ကြီးဌာန နယ်စပ် ရေးရာ ဝန်ကြီးဌာန ရခိုင်ပြည်နယ် အစိုးရအဖွဲ့ နှင့် နိုင်ငံတကာ အဖွဲ့အစည်းများ ပြည်တွင်း စေတနာရှင် အလှူရှင်များ ကလည်း နိုဝင်ဘာ ရက်နေ့က စပြီး ထောက်ပံ့ပေး',\n",
              " 'ဆက်လက်ပြီး လိုအပ်သော ရွာများ ကူညီ ထောက်ပံ့မှု ဆက်လက် ထောက်ပံ့မှာပါ',\n",
              " 'သတင်းမီဒီယာ လွတ်လပ်စွာ သတင်းယူ ခွင့် ပြည်တွင်း ပြည်ပ မီဒီယာ ပါဝင်တဲ့ အဖွဲ့ ဒီဇင်ဘာ ရက်နေ့က ရက်နေ့အထိ မောင်တောဒေသ သွားရောက်',\n",
              " 'အကြမ်းဖက် တိုက်ခိုက်သူများ ယူဆောင်သွား လက်နက် ပြန်လည် အပ်နှံ ဒေသ ကြေညာထားပြီး',\n",
              " 'ယနေ့ အခြေအနေများ ငြိမ်းချမ်း နည်းလမ်း နှင့် ဖြေရှင်း',\n",
              " 'ငြိမ်းချမ်း လူ့အဖွဲ့အစည်းများ ဖြစ်စေဖို့ အချိန်ယူ ကိုင်တွယ် ဖြေရှင်း ရမှာ',\n",
              " 'နိုင်ငံတော် အတိုင်ပင်ခံ ပုဂ္ဂိုလ် ဒေါ်အောင်ဆန်းစုကြည် နှင့် စင်ကာပူ သမ္မတ နိုင်ငံဝန်ကြီးချုပ် ဆွေးနွေးပွဲ ကျင်းပသည်',\n",
              " 'နိုင်ငံတော် အတိုင်ပင်ခံ ပုဂ္ဂိုလ် ဒေါ်အောင်ဆန်းစုကြည် စင်ကာပူ သမ္မတ နိုင်ငံဝန်ကြီးချုပ် မစ္စတာ လီရှန်လုံး နှင့် မနေ့က နေပြည်တော်ရှိ နိုင်ငံတော်သမ္မတ အိမ်တော် သံတမန်ဆောင် ဧည့်ခန်းမ တွေ့ဆုံသည် တွေ့ဆုံစဉ် ခုနှစ်က ချုပ်ဆိုခဲ့သော နှစ်နိုင်ငံ အကြား အခွန်နှစ်ထပ် မဖြစ်စေရေး သဘောတူစာချုပ်ကို ခေတ် အခြေအနေ နှင့်အညီ ပြန်လည် သုံးသပ် ပြင်ဆင် ချုပ်ဆိုနိုင်ရေး ဆွေးနွေးသည်',\n",
              " 'နိုင်ငံတော် အတိုင်ပင်ခံ ပုဂ္ဂိုလ် ဒေါ်အောင်ဆန်းစုကြည် အနေဖြင့် နိုင်ငံတကာ မျက်နှာစာ နိုင်ငံတကာ ကိစ္စရပ်များ အာဆီယံ ကိုယ်စား တက်ကြွစွာ ဦးဆောင်မှု ပေးရေး ကိုလည်း ဆွေးနွေးခဲ့ကြသည်',\n",
              " 'တွေ့ဆုံပွဲ အပြီးတွင် နှစ်နိုင်ငံ အကြား သာမန်နိုင်ငံကူး လက်မှတ် ကိုင်ဆောင်သူ ဗီဇာ ကင်းလွတ် ခွင့် ဖြင့် အပြန်အလှန် သွားရောက်နိုင်ရေး သဘောတူညီချက်ကို ဒုတိယဝန်ကြီး ဦးကျော်တင် နှင့် မြန်မာနိုင်ငံ စင်ကာပူ သံအမတ်ကြီး မစ္စတာ ရောဘတ်ချာတို့ လဲလှယ်ခဲ့ကြသည်',\n",
              " 'နိုင်ငံတော် အတိုင်ပင်ခံ ရုံး သိန်းဇော် ဇော်ဇော် စာအုပ် စာပေ ခွန်အားဖြင့် ခိုင်ခိုင်မာမာ ရပ်တည် သည့်အပြင် မျိုးဆက်သစ် လူငယ်များ စာပေ လေ့လာ ဖတ်ရှု နိုင်ရန် ကြိုးပမ်း အားထုတ် ဇူလိုင်လ ချီးကျူး ဂုဏ်ပြု ထိုက်သူ ရွေးချယ်သည်',\n",
              " 'နိုင်ငံတော် အတိုင်ပင်ခံ ဒေါ်အောင်ဆန်းစုကြည် လက်မှတ်ရေးထိုးခြင်း ဖြင့် အင်္ဂါနေ့ ဂုဏ်ပြု မှတ်တမ်းလွှာ တစ်ခု ရုံး ထုတ်ပြန်သည်',\n",
              " 'မန္တလေးတိုင်းဒေသကြီး ကျောက်ပန်းတောင်း မြို့နယ် စည်သာ ကျေးရွာ သိန်းဇော် မူလတန်း ပညာရေး အောင်မြင်ခဲ့သည် သတင်း ဖော်ပြသည်',\n",
              " 'ရန်ကုန်မြို့ သမ္မာ အာဇီဝ ငါးကင် ရောင်းချ အခြားသူများ သူတို့၏ ဖန်တီးမှုများ နှင့် စဉ်းစား စွမ်းရည် တိုးတက် ကူညီပေး မည့် ရည်ရွယ်ချက် နှင့်အတူ စာကြည့်တိုက် အသေး ဖွင့်လှစ် ကြိုးပမ်းအားထုတ်မှု ပြုလုပ်နေသည်',\n",
              " 'မြန်မာနိုင်ငံ ပြုပြင်ပြောင်းလဲ စာအုပ် စာပေ ဖြစ်သည်ဟု ခံယူ ချွေးနှဲစာ ဖြင့် ရန်ကုန်တိုင်းဒေသကြီး မန္တလေးတိုင်းဒေသကြီး နှင့် ဧရာဝတီတိုင်းဒေသကြီး စာကြည့်တိုက် ငါးခု ဖွင့်လှစ်',\n",
              " 'ကဲ့သို့ပင် မျိုးဆက်သစ် လူငယ် လူရွယ် အနေဖြင့် မိမိတို့ ပတ်ဝန်းကျင် မိမိတို့ လူ့အဖွဲ့အစည်း မိမိတို့ နိုင်ငံတော် ဝိုင်းဝန်း ကူညီ ကြိုးပမ်းဆောင်ရွက် ပေးကြ တိုက်တွန်း အားပေး မှတ်တမ်းတင် ဂုဏ်ပြု အပ်ပါသည်',\n",
              " 'နိုင်ငံတော်အစိုးရသည် အမျိုးသား ပြန်လည် သင့်မြတ်ရေး နှင့် ငြိမ်းချမ်းရေး လုပ်ငန်းစဉ်များကို အလေးထား ကြိုးပမ်း ဆောင်ရွက်လျက်ရှိပြီး နိုင်ငံရေး ပြဿနာ နိုင်ငံရေး ဖြင့် စေ့စပ် ညှိနှိုင်း အဖြေရှာ နိုင်ရန် ပြည်ထောင်စု ငြိမ်းချမ်းရေး ညီလာခံ ရာစု ပင်လုံ ကျင်းပ ဆောင်ရွက် လျက်ရှိပါသည်',\n",
              " 'ဆောင်ရွက် နိုင်ငံတော် အစိုးရက ပြည်သူ့ ဘဏ္ဍာငွေ စနစ်တကျ ဖြင့် ကျခံ သုံးစွဲ လျက်ရှိပါသည်',\n",
              " 'ပြည်သူ့ ဘဏ္ဍာငွေ ငြိမ်းချမ်းရေး လုပ်ငန်းစဉ်များ ကျခံ သုံးစွဲ နိုင်ငံတော်အစိုးရသည် ဘဏ္ဍာရေး စည်းမျဉ်းစည်းကမ်း နှင့် ညီညွတ် ရုံသာမက ထိထိရောက်ရောက် အကျိုး ဖြစ်ထွန်း စေရေး အလေးထား ဆောင်ရွက် လျက်ရှိပါသည်',\n",
              " 'ကျယ်ပြန့်လှ ငြိမ်းချမ်းရေး လုပ်ငန်းစဉ်များ ဆောင်ရွက်ရာတွင် အဆင်ပြေ ချောမွေ့ အောင်မြင် စေရေး လိုအပ်သော ရန်ပုံငွေများ ရရှိရေး နှင့် ရန်ပုံငွေများ မျှတ ညီညွတ် ခွဲဝေ ပေးနိုင် အရေးကြီး',\n",
              " 'သူတို့ အကျိုး ရှိသော ကိစ္စ တစ်ခု ထိထိရောက်ရောက် အသုံးပြုပါသည်',\n",
              " 'နိုင်ငံတကာ အသိုင်းအဝိုင်း ကူညီမှု ထောက်ပံ့ ပေးနေပါသည်',\n",
              " 'ကူညီထောက်ပံ့မှုများ စနစ်တကျ ဖြန့်ခွဲ မျှဝေ နိုင်ရေးအတွက် ငြိမ်းချမ်းရေး လုပ်ငန်းစဉ် ရန်ပုံငွေ ပေါင်းစပ် ညှိနှိုင်း အဖွဲ့ ခုနှစ် ဒီဇင်ဘာလ ရက်နေ့တွင် ဖွဲ့စည်းခဲ့သည်',\n",
              " 'မြန်မာနိုင်ငံ၏ ငြိမ်းချမ်းရေး ဖြစ်စဉ် ပြည်ထောင်စု တိုင်းရင်းသား နှင့် မြန်မာနိုင်ငံသား နှင့် သက်ဆိုင်ပါသည်',\n",
              " 'ငြိမ်းချမ်းရေး ဖြစ်စဉ်များ တတ်နိုင်သမျှ ဝိုင်းဝန်း ကူညီ မှသာ ပြည်သူလူထု ပါဝင်သော ငြိမ်းချမ်းရေး တည်ဆောက် နိုင်မည် ဖြစ်ပါသည်',\n",
              " 'ငြိမ်းချမ်းရေး လုပ်ငန်းစဉ်များ လိုအပ်သော ရန်ပုံငွေ ရှာဖွေ စုဆောင်း နိုင်ငံတကာမှ အလှူရှင်များ သာမက ပြည်တွင်း အလှူရှင်များ ထည့်ဝင် လှူဒါန်း အရေးကြီး လှ',\n",
              " 'သူတို့ အကျိုး ရှိသော ကိစ္စ တစ်ခု ထိထိရောက်ရောက် အသုံးပြုပါသည်',\n",
              " 'နိုင်ငံတကာ အသိုင်းအဝိုင်း ကူညီမှု ထောက်ပံ့ ပေးနေပါသည်',\n",
              " 'ကူညီထောက်ပံ့မှုများ စနစ်တကျ ဖြန့်ခွဲ မျှဝေ နိုင်ရေးအတွက် ငြိမ်းချမ်းရေး လုပ်ငန်းစဉ် ရန်ပုံငွေ ပေါင်းစပ် ညှိနှိုင်း အဖွဲ့ ခုနှစ် ဒီဇင်ဘာလ ရက်နေ့တွင် ဖွဲ့စည်းခဲ့သည်',\n",
              " 'ပြည်သူအများ ထည့်ဝင် လှူဒါန်း နိုင်ရေးအတွက် မြန်မာ့စီးပွားရေး ဘဏ် နေပြည်တော် ဘဏ် ခွဲ ငွေစု ဘဏ် စာရင်း ဖွင့်လှစ် ထားရှိပြီး ဖြစ်ပါသည်',\n",
              " 'သို့ပါ၍ ပြည်တွင်း လှူဒါန်း လိုသော အလှူရှင် အဖွဲ့အစည်းများ အလှူရှင် ပုဂ္ဂိုလ်များ အနေဖြင့် အမျိုးသား ပြန်လည် သင့်မြတ်ရေး နှင့် ငြိမ်းချမ်းရေး ဗဟိုဌာန ငြိမ်းချမ်းရေး ရန်ပုံငွေ ထည့်ဝင် လှူဒါန်း ဖြင့် မိမိနိုင်ငံ၏ ငြိမ်းချမ်းရေး ဖြစ်စဉ်ကို မိမိတို့ တတ်နိုင်သမျှ ဝိုင်းဝန်း ကူညီ ဆောင်ရွက် ပါကြောင်း လေးစား အသိပေး ကြေညာ အပ်ပါသည်',\n",
              " 'ဒုတိယသမ္မတ ဦးမြင့်ဆွေ ဦးစီး စုံစမ်းစစ်ဆေးရေး ကော်မရှင် ကိုလည်း ဖွဲ့စည်း ဆောင်ရွက် အရေးယူမှုတွေ ပြုလုပ်လျက် မောင်တောဒေသ မှာရှိတဲ့ ဒေသခံ ပြည်သူတွေ ကူညီ ထောက်ပံ့မှု အကြိမ်ကြိမ် ဆောင်ရွက် ပေးခဲ့ပါတယ်',\n",
              " 'လူသားချင်း စာနာထောက်ထားမှု အကူအညီများ လူမှုဝန်ထမ်း ကယ်ဆယ်ရေး နှင့် ပြန်လည်နေရာချထားရေး ဝန်ကြီးဌာန နယ်စပ် ရေးရာ ဝန်ကြီးဌာန ရခိုင်ပြည်နယ် အစိုးရအဖွဲ့ နှင့် နိုင်ငံတကာ အဖွဲ့အစည်းများ ပြည်တွင်း စေတနာရှင် အလှူရှင်များ ကလည်း နိုဝင်ဘာ ရက်နေ့က စပြီး ထောက်ပံ့ပေး',\n",
              " 'ဆက်လက်ပြီး လိုအပ်သော ရွာများ ကူညီ ထောက်ပံ့မှု ဆက်လက် ထောက်ပံ့မှပါ',\n",
              " 'သတင်းမီဒီယာ လွတ်လပ်စွာ သတင်းယူ ခွင့် ပြည်တွင်း ပြည်ပ မီဒီယာ ပါဝင်တဲ့ အဖွဲ့ ဒီဇင်ဘာ ရက်နေ့က ရက်နေ့အထိ မောင်တောဒေသ သွားရောက်',\n",
              " 'အကြမ်းဖက် တိုက်ခိုက်သူများ ယူဆောင်သွား လက်နက် ပြန်လည် အပ်နှံ ဒေသ ကြေညာထားပြီး',\n",
              " 'ဒုတိယသမ္မတ ဦးမြင့်ဆွေ ဦးဆောင်သော ရခိုင်ပြည်နယ် စုံစမ်းစစ်ဆေးရေး ကော်မရှင် ဒီဇင်ဘာ ရက်မှ ရက်နေ့အထိ မောင်တောဒေသ သွားရောက် စုံစမ်းစစ်ဆေးခြင်း ဆောင်ရွက်ခဲ့သည်',\n",
              " 'ခရီးစဉ် ကော်မရှင် အဖွဲ့ဝင် နှင့် အမျိုးသမီး ရေးရာ အဖွဲ့ချုပ်ဥက္ကဋ္ဌ ဒေါက်တာ ဒေါ်သက်သက်ဇင် နှင့် အဖွဲ့ဝင်များသည် အမျိုးသမီးများ နှင့် ကလေးများ နှင် အမျိုးသားများ ကျေးရွာသူ ကျေးရွာသားများ တွေ့ဆုံ အမျိုးသမီးများ အဓမ္မ ပြုကျင့် ခံရမှု ရှိမရှိ အသေးစိတ် မေးမြန်းခဲ့သည် ဒီဇင်ဘာ မွန်းလွဲပိုင်း ပြောင်ပိုက် ကျေးရွာ မဂျာမာလီဟာ နှင့် သီးခြား တွေ့ဆုံ အဓမ္မ ပြုကျင့် ခံရမှု ရှိမရှိ အမျိုးသမီးငယ် ကိုလည်း အဓမ္မ ပြုကျင့် ခံရမှု ရှိမရှိ နှင့် မျက်မြင် ကိုယ်တွေ့ သိရှိရခြင်း ရှိမရှိ မေးမြန်းခဲ့သည် သို့ရာတွင် ပြုကျင့် ခံရမှု မရှိကြောင်း အခြားသူများ ပြုကျင့် ခံရမှု ကိုလည်း မြင်တွေ့ မရှိကြောင်း သူမက ဖြေကြားခဲ့သည်',\n",
              " 'ရခိုင်ပြည်နယ် အစိုးရ ရခိုင်ပြည်နယ် မြောက်ပိုင်းရှိ ကျေးရွာ အထောက်အပံ့များ ပေးပို့သည်',\n",
              " 'နိုင်ငံတော်အစိုးရသည် အပြောင်းအလဲများ ထင်သာမြင်သာ ဖြစ်ပေါ်လာစေ အလေးပေး ဆောင်ရွက်လျက်ရှိသည်',\n",
              " 'အမျိုးသား ပြန်လည် သင့်မြတ်ရေး နှင့် ငြိမ်းချမ်းရေး ဗဟိုဌာန ဖွဲ့စည်း ဆောင်ရွက်ရာတွင် ငြိမ်းချမ်းရေး ဖြစ်စဉ်များ တိုးတက် အောင်မြင်မှုများ မှတစ်ဆင့် မူးယစ်ဆေးဝါး ပြဿနာ သိသိသာသာ လျော့နည်း ကျဆင်း စေရန် အလေးထား ဆောင်ရွက် လျက်ရှိပါသည်',\n",
              " 'မျိုးဆက်သစ် လူငယ်များ မူးယစ်ဆေးဝါး နှင့် ဆက်နွယ် သည့် မှုခင်း လျော့နည်း ကျဆင်း စေရန် ကြိုးပမ်းဆောင်ရွက် သည့် နည်းတူ ထုတ်လုပ် သယ်ယူ ရောင်းဝယ်သူ အရေးယူ အဂတိလိုက်စား ငွေကြေး ခဝါချ ထိန်းချုပ် နိုင်ရေး တစ်ဆက်တစ်စပ် ဆောင်ရွက်ရမည် ဖြစ်ပါသည်',\n",
              " 'လူငယ်များ လက်လှမ်းမီဝယ်ယူ နိုင်ခြင်း မရှိစေရန် လက်လီ လက်ကား ဈေးကွက် ပပျောက် စေရန် အလေးထား ဆောင်ရွက် လျက်ရှိပါသည်',\n",
              " 'မည်သည့် မဟာဗျူဟာ စီမံကိန်း မဆို ပြည်သူလူထု ပူးပေါင်းပါဝင် အရေးကြီးဆုံး အခြေခံ အကြောင်းတရား ဖြစ်ပါသည်',\n",
              " 'ပြည်သူလူထု အလွှာ အသီးသီး မှသာ ရှုထောင့်ပေါင်းစုံ အပြုသဘော ဆောင်သော အကြံပြုချက်များ ရရှိနိုင် လက်တွေ့ကျ ထိထိရောက်ရောက် အကောင်အထည်ဖော် မဟာဗျူဟာ မူဝါဒများ ထွက်ပေါ်လာ နိုင်မည် ဖြစ်ပါသည်',\n",
              " 'နိုင်ငံ အနာဂတ် စိုးပိုင် မျိုးဆက်သစ် လူငယ်များ မူးယစ်ဆေးဝါး အမှောင်ထုကြီး ရှင်းလင်း ဖယ်ရှားပေး နိုင်ရန် အရေးကြီး လှ မှသာ စိတ်ဓါတ် ကြံ့ခိုင်မှု နှင့်အတူ ကျန်းကျန်းမာမာ နှင့် ဘေးကင်းလုံခြုံစွာ ဖြင့် နိုင်ငံ့ တာဝန် ထမ်းဆောင် နိုင်မည်',\n",
              " 'ကိုရာဇာဟိန်း မည်သူ တိုက်တွန်း ခိုင်းစေ ဖိအားပေးမှု တစ်စုံတစ်ရာ မရှိပါ အသိစိတ်ဓါတ် ဖြင့် မူးယစ်ဆေးဝါး တိုက်ဖျက်ရေး စွမ်းစွမ်းတမံ ကြိုးပမ်း ဆောင်ရွက်ခဲ့ခြင်း ဖြစ်ပါသည်',\n",
              " 'နိုင်ငံ နှင့် ပြည်သူ အကျိုး ပမာဏ အလွန် များပြား လှ သည့် မူးယစ်ဆေးဝါး ဖမ်းဆီးရမိရေး စွမ်းဆောင် နိုင်ခဲ့သူ ဖြစ်ပါသည်',\n",
              " 'ထိုကဲ့သို ပြုလုပ်ခဲ့သော အကြောက်တရား ဖယ်ရှား မူးယစ်ဆေး ၏ဆိုးကျိုး ကောင်းစွာ သိမြင် နားလည်ခဲ့',\n",
              " 'သို့ဖြစ်၍ ခုနှစ် ဒီဇင်ဘာလ ချီးကျူး ဂုဏ်ပြု ထိုက်သူ ကိုရာဇာဟိန်း ရွေးချယ် ဤ ကျေးဇူးတင်လွှာ ထုတ်ပြန် လိုက်ပါသည်',\n",
              " 'နိုင်ငံတော်သမ္မတ ဦးထင်ကျော် နှင့် ဇနီး အင်္ဂလိပ်ဘာသာ စွမ်းရည် ပြိုင်ပွဲ ဆုချီးမြှင့် အခမ်းအနားသို့ တက်ရောက်',\n",
              " 'တက္ကသိုလ် ဒီဂရီ ကောလိပ် နှင့် ကောလိပ်တို့ ကျောင်းသား ကျောင်းသူများ ဗဟို အဆင့် အင်္ဂလိပ်ဘာသာ စွမ်းရည် ပြိုင်ပွဲ ဆုချီးမြှင့် အခမ်းအနားကို မနေ့က မွန်းလွဲ နေပြည်တော်ရှိ မြန်မာ အပြည်ပြည်ဆိုင်ရာ ကွန်ဗင်းရှင်း ဗဟိုဌာန ကျင်းပရာ နိုင်ငံတော်သမ္မတ ဦးထင်ကျော် နှင့် ဇနီး ဒေါ်စုစုလွင်တို့ တက်ရောက် အားပေး ချီးမြှင့်သည်',\n",
              " 'ဒုတိယသမ္မတ ဦးဟင်နရီဗန်ထီးယူ ပြည်ထောင်စုဝန်ကြီး နေပြည်တော် ကောင်စီဥက္ကဋ္ဌ ဒုတိယဝန်ကြီး ဌာနဆိုင်ရာ အကြီးအကဲများ ပါမောက္ခချုပ် ဒုတိယ ပါမောက္ခချုပ် တက္ကသိုလ် ဒီဂရီ ကောလိပ် နှင့် ကောလိပ်တို့ ဆရာ ဆရာမ ကျောင်းသား ကျောင်းသူများ နှင့် တာဝန်ရှိသူများ တက်ရောက်ကြသည်',\n",
              " 'ဆုရ ကျောင်းသား ကျောင်းသူများ သူတို့၏ စာစီစာကုံး ဖတ်ကြားသည် ကျပန်း စကားပြော စကားဝိုင်း ဆွေးနွး',\n",
              " 'ထို့နောက် ပညာရေး ဝန်ကြီးဌာန ပြည်ထောင်စုဝန်ကြီး ဒေါက်တာ မျိုးသိမ်းကြီး နှုတ်ခွန်းဆက် စကား ပြောကြားသည်',\n",
              " 'ယနေ့ ခေတ်ကြီး အရည်အသွေး မြင့်မားသော ပညာရေး နှင့် စွမ်းရည် မဖြစ်မနေ လိုအပ်နေသော ကြောင့် ကျောင်းသားများကို စာမေးပွဲ ထူးချွန်စွာ အောင်မြင် သင်ကြား ရုံ ဖြင့် မလုံလောက် နည်းပညာ ထူးခြား နက်ရှိုင်း သည့် အကျိုးသက်ရောက်မှု ရှိနေသည် ပြည်သူလူထု အနေဖြင့် အဆင့်မြင့် ပညာရေး တိုးတက် မြင့်မားမှု မြင့်မားသော မျှော်လင့်ချက်များ ထို့ပြင် ဗဟုသုတ အရှိန်အဟုန် မြင့်မား တိုးတက် လျက်ရှိရာ မည်သူ တစ်ယောက် ဘာသာရပ် အလုံးစုံ လေ့လာ တတ်မြောက် မဖြစ်နိုင် ပြည်ထောင်စုဝန်ကြီး ထောက်ပြသည်',\n",
              " 'ပြည်သူများက ဘွဲ့ရ ပညာတတ် သူတို့ ရွေးချယ်ထားသော နယ်ပယ် ဗဟုသုတ များစွာ ကြွယ်ဝ ဖြစ်မည် မျှော်လင့်ချက်များ ရှိနေပါသည်',\n",
              " 'နိဂုံးချုပ် အားဖြင့် မိမိတို့၏ ကျောင်းသား ကျောင်းသူများ အနာဂတ် လိုအပ်ချက်များ ဖြည့်ဆည်း ပေးနိုင် မည့် ဗဟုသုတ နှင့် စွမ်းရည် တတ်မြောက် သင်ကြား အဆင့်မြင့် ပညာတက္ကသိုလ် တာဝန်ရှိ ပါကြောင်း ပြောကြားသည်',\n",
              " 'အခမ်းနား နိုင်ငံတော်သမ္မတ ဇနီး ဒေါ်စုစုလွင် ဘွဲ့လွန် အဆင့် ပြိုင်ပွဲ ၏ဆုရရှိသူတို့ ဂုဏ်ပြုဆု ပေးအပ်သည်',\n",
              " 'ဒုတိယသမ္မတ ဘွဲ့ကြို အဆင့် ပြိုင်ပွဲ ၏ဆုရရှိသူတို့ ဂုဏ်ပြုဆု ပေးအပ်သည်',\n",
              " 'ပြည်ထောင်စုဝန်ကြီး ဒုတိယ ဗိုလ်ချုပ်ကြီး ရဲအောင် ဘွဲ့လွန် အဆင့် စာစီစာကုံး ပြိုင်ပွဲ ဆုရရှိကြသူ ဆုများ ချီးမြှင့်သည်',\n",
              " 'ပြည်ထောင်စုဝန်ကြီး ဒေါက်တာဝင်းမြတ်အေးက ဘွဲ့ကြို အဆင့် စာစီစာကုံး ပြိုင်ပွဲ ဆုရရှိကြသူ ဆုများ ချီးမြှင့်သည်',\n",
              " 'ပြည်ထောင်စုဝန်ကြီး သန့်စင်မောင် ဘွဲ့လွန် အဆင့် ကျပန်း စကားပြော ပြိုင်ပွဲ ဆုရရှိကြသူ ဆုများ ချီးမြှင့်သည်',\n",
              " 'နေပြည်တော် ကောင်စီဥက္ကဋ္ဌ ဒေါက်တာ မျိုးအောင် ဘွဲ့ကြို အဆင့် ကျပန်း စကားပြော ပြိုင်ပွဲ ဆုရရှိကြသူ ဆုများ ချီးမြှင့်သည်',\n",
              " 'ပြည်ထောင်စုဝန်ကြီး ဒေါက်တာ မြင့်ထွေး ဘွဲ့လွန် အဆင့် စကားဝိုင်း ဆွေးနွေးပွဲ ပြိုင်ပွဲ ဆုရရှိကြသူ ဆုများ ချီးမြှင့်သည်',\n",
              " 'ဒေါက်တာ မျိုးသိမ်းကြီး ဘွဲ့ကြို အဆင့် စကားဝိုင်း ဆွေးနွေးပွဲ ပြိုင်ပွဲ ဆုရရှိကြသူ ဆုများ ချီးမြှင့်သည်',\n",
              " 'အမျိုးသား ပညာရေး မူဝါဒ ကော်မရှင် ဥက္ကဋ္ဌ ဒေါက်တာ မျိုးမြင့် အကဲဖြတ်ဒိုင် ဂုဏ်ပြု လက်ဆောင်များ ပေးအပ် ချီးမြှင့်သည်',\n",
              " 'အခမ်းအနား အပြီးတွင် နိုင်ငံတော်သမ္မတ နှင့် ဇနီး ဧည့်သည်တော် ဆုရ ကျောင်းသား ကျောင်းသူများ နှင့်အတူ စုပေါင်း မှတ်တမ်း ဓာတ်ပုံရိုက် ကြသည်',\n",
              " 'မောင်တောဒေသ စုံစမ်းစစ်ဆေးရေး ကော်မရှင် နေပြည်တော်တွင် အစည်းအဝေး ကျင်းပသည် မောင်တောဒေသ စုံစမ်းစစ်ဆေးရေး ကော်မရှင် ဥက္ကဋ္ဌ ဒုတိယသမ္မတ ဦးမြင့်ဆွေ မနေ့က မနက်က နေပြည်တော်ရှိ နိုင်ငံတော် သမ္မတရုံး အစည်းအဝေး ခန်းမ၌ ကော်မရှင် အဖွဲ့ဝင်များ နှင့် တွေ့ဆုံပြီး အမှာစကား ပြောကြားသည် ကော်မရှင် အဖွဲ့ ကြိုးပမ်းအားထုတ်မှု ကြောင့် အသေးစိတ် အစီရင်ခံစာ မူကြမ်း စုစည်း ရေးသားပြီး ဖြစ်ပါသည် အစီရင်ခံစာ မူကြမ်း ကော်မတီ စိစစ် ရမည့် အဓိက ကိစ္စရပ် ရေးသားထားသည် ယနေ့ အစည်းအဝေး အစီရင်ခံစာ အသေးစိတ် အချက်များကို ဆက်လက် ဆွေးနွေး သွားရန် ဖြစ်ပါသည်',\n",
              " 'ကော်မရှင် ရခိုင်ပြည်နယ် တည်ငြိမ်အေးချမ်း တရားဥပဒေ စိုးမိုးရေး ဖွံ့ဖြိုးတိုးတက်ရေး နှင့် လုံခြုံရေး နှင့်အတူ နိုင်ငံတော် အချုပ်အခြာအာဏာ ပျံ့နှံ့ တည်တံ့ ဘက်လိုက်မှု မရှိဘဲ လွတ်လပ်စွာ သုံးသပ်ပြီး အကြံပြု လိုအပ်ပါသည် ကော်မရှင် အစီရင်ခံစာ အကောင်းဆုံး ပြုလုပ်ရန် အပြည့်စုံဆုံး ဖြစ်ရန် ပြင်ဆင် ထိုမှ အလားတူ ဖြစ်စဉ်မျိုး ဘယ်တော့မှ ထပ်မံ ဖြစ်ပွားမည်',\n",
              " 'ထို့နောက် ကျင်းပ ပြီးစီး သည့် ကော်မရှင် အစည်းအဝေး မှတ်တမ်း အတည်ပြု ပြီးနောက် ကော်မရှင် အတွင်းရေးမှူး ဦးဇော်မြင့်ဖေ အစီရင်ခံစာ မူကြမ်း ရေးသား ပြုစု ထားရှိမှု အခြေအနေ နှင့်စပ်လျဉ်း၍ ခေါင်းစဉ် ရှင်းလင်းတင်ပြသည်',\n",
              " 'ဆက်လက်၍ ကော်မရှင် အဖွဲ့ဝင် ဦးအောင်ကြည် ဦးထွန်းမြတ် ဒေါက်တာ လှမောင် ဒေါက်တာ ဒေါ်သက်သက်ဇင် ဒေါက်တာ အောင်ထွန်းသက် ဦးညွန့်ဆွေ ဦးစောသလေးစော ဒေါ်ကျိန်ငိုက်မန် ရဲချုပ် ဇော်ဝင်း ဦးအောင်နိုင် နှင့် ဦးသာဉာဏ် အစီရင်ခံစာ မူကြမ်း နှင့်စပ်လျဉ်း၍ အကြံပြု ဆွေးနွေးကြသည်',\n",
              " 'ယင်းနောက် ကော်မရှင် အဖွဲ့ဝင်များ အကြံပြု တင်ပြချက်များ ကော်မရှင် ဥက္ကဋ္ဌ ပေါင်းစပ် ညှိနှိုင်း နိဂုံးချုပ် အမှာစကား ပြောကြားသည်',\n",
              " 'အင်ဒိုနီးရှား နိုင်ငံ ထောက်ပံ့ရေး ပစ္စည်းများ မောင်တောမြို့နယ် ပို့ဆောင်ခဲ့သည် အင်ဒိုနီးရှား နိုင်ငံ လူသားချင်း စာနာထောက်ထားမှု ထောက်ပံ့ရေး ပစ္စည်းများ မနေ့က မောင်တောမြို့ ရောက်ရှိသည်',\n",
              " 'ပဋိပက္ခ ဖြစ်ပွားရာနေရာ အစားအသောက် ပြတ်လတ် ရင်ဆိုင် မျှော်မှန်း ထားသည့် ပြည်သူများ ဆီသို့ အစားအသောက် အဝတ်အထည် ပေးပို့သည်',\n",
              " 'ဂျုံ အိတ် ခေါက်ဆွဲခြောက်ထုပ် နှင့် အာဟာရမှုန့် အိတ် နှင့် ပုဆိုး အိတ်တို့ ပါဝင်သော ထောက်ပံ့ရေး ပစ္စည်းများ သင်္ဘော စင်း ဖြင့် သယ်ဆောင်လာသည်',\n",
              " 'နိုင်ငံတော်သမ္မတ အမျိုးသား ပြန်လည် သင့်မြတ်ရေး နှင့် ငြိမ်းချမ်းရေး ဗဟိုဌာန ကြည်ရှု စစ်ဆေးသည်',\n",
              " 'နိုင်ငံတော်သမ္မတ ဦးထင်ကျော် မနေ့က နေပြည်တော်ရှိ အမျိုးသား ပြန်လည် သင့်မြတ်ရေး နှင့် ငြိမ်းချမ်းရေး ဗဟိုဌာန ရောက်ရှိသည်',\n",
              " 'နိုင်ငံတော်သမ္မတ နံနက် အမျိုးသား ပြန်လည် သင့်မြတ်ရေး နှင့် ငြိမ်းချမ်းရေး ဗဟိုဌာန ရောက်ရှိလာ ပြည်ထောင်စုဝန်ကြီး ဦးကျော်တင့်ဆွေ ဒေါက်တာ ဖေမြင့် နေပြည်တော် ကောင်စီဥက္ကဋ္ဌ ဒေါက်တာ မျိုးအောင် ဒုတိယဝန်ကြီး မင်းသူ နှင့် ခင်မောင်တင်တို့ ကြိုဆို နှုတ်ဆက် ကြသည်',\n",
              " 'အစည်းအဝေး ခန်းမ၌ ဒုတိယဝန်ကြီး ခင်မောင်တင် လုပ်ငန်းစဉ်များ သင်တန်း ဖွင့်လှစ် စီစဉ် ဆောင်ရွက်ထားရှိ နှင့် ရာစု ပင်လုံ ဒုတိယ အစည်းအဝေး ကျင်းပရန် ပြင်ဆင် ဆောင်ရွက်ထားရှိ အခြေအနေများကို ရှင်းလင်းတင်ပြသည်',\n",
              " 'ယင်းနောက် ပြည်ထောင်စုဝန်ကြီး ဦးကျော်တင့်ဆွေ တစ်နိုင်ငံလုံး ပစ်ခတ် တိုက်ခိုက်မှု ရပ်စဲ သဘောတူစာချုပ် အမျိုးသား အဆင့် နိုင်ငံရေး ဆွေးနွေးပွဲ ကျင်းပ နိုင်ရေး ဆောင်ရွက်ထားရှိ အစီရင်ခံသည်',\n",
              " 'သင်တန်း နည်းပြ သင်တန်းသား ရွေးချယ် ထားရှိမှု ဆောင်ရွက်ထားခြင်း',\n",
              " 'ငြိမ်းချမ်းရေး လုပ်ငန်းစဉ်များ ပါဝင်ဆောင်ရွက် ပေးခဲ့ ကျွန်တော်တို့က ကျေးဇူးတင် ပါကြောင်း ပြောကြားသည်',\n",
              " 'ရခိုင်ပြည်နယ် မောင်တောဒေသ စုံစမ်းစစ်ဆေးရေး ကော်မရှင် ဥက္ကဋ္ဌ ဒုတိယသမ္မတ ဦးမြင့်ဆွေ ကုလသမဂ္ဂ၏ မြန်မာနိုင်ငံ လူ့အခွင့်အရေး အခြေအနေဆိုင်ရာ အစီရင်ခံစာ တင်သွင်းသူ မစ္စ ရန်ဟီလီ နှင့် တွေ့ဆုံသည်',\n",
              " 'တွေ့ဆုံစဉ် ကော်မရှင် ဥက္ကဋ္ဌ မိမိတို့ ကော်မရှင် အဖွဲ့ဝင်များသည် နယ်ပယ် အသီးသီး ကိုယ်စားပြုသော အတွေ့အကြုံ သည့် ပညာရှင်များ ဖြင့် ဖွဲ့စည်း ပါကြောင်း ရှင်းလင်းသည်',\n",
              " 'လုပ်ငန်းတာဝန် နယ်မြေ ကွင်းဆင်း စုံစမ်းစစ်ဆေး သည့်အခါ တစ်ဦးချင်း တာဝန်ယူမှု ကဲ့သို့ အဖွဲ့လိုက် တာဝန်ယူမှု ပေါင်းစပ် ဆောင်ရွက် သည့် ပုံစံ ဖြင့် လုပ်ကိုင် ခဲ့ပါသည် ရှင်းပြ',\n",
              " 'အောက်တိုဘာ ရက်နိုဝင်ဘာ နှင့် ရက်တို့ ဖြစ်ပွားခဲ့သော ဖြစ်စဉ်များ ယခင်က ရခိုင်ပြည်နယ် ဖြစ်ပွားသော ဖြစ်စဉ်များ နှင့် သဘောသဘာဝ မတူ ပါကြောင်း ဥက္ကဋ္ဌ ရှင်းလင်း ပြသည်',\n",
              " 'ကော်မရှင် နောင် အလားတူ ဖြစ်စဉ်မျိုး ထပ်မံ မပေါ်ပေါက် စေရေး အကြံပြု အလေးထား စုံစမ်းဖော်ထုတ် ခဲ့ပါသည်',\n",
              " 'ဒုတိယသမ္မတ ဦးဟင်နရီဗန်ထီးယူ မန္တလေးတိုင်းဒေသကြီး စိုက်ပျိုးရေး လုပ်ငန်းများအား ကြည့်ရှုစစ်ဆေး',\n",
              " 'ဒုတိယသမ္မတ ဦးဟင်နရီဗန်ထီးယူ ပြည်ထောင်စုဝန်ကြီး ဒေါက်တာ အောင်သူ ဒုတိယဝန်ကြီး ဗိုလ်ချုပ် အောင်စိုး နှင့် ကျော်မျိုးတို့ နှင့်အတူ ဗုဒ္ဒဟူး နံနက်ပိုင်းတွင် မန္တလေးတိုင်းဒေသကြီး ရမည်းသင်း မြို့နယ် ဆည်ထိပ် ကျေးရွာ စီးပွားဖြစ် စိုက်ပျိုး ထားရှိ သည့် စပျစ် စိုက်ခင်းများ အောင်မြင် ဖြစ်ထွန်း အခြေအနေ ကြည့်ရှုစစ်ဆေး',\n",
              " 'ယင်းနောက် နေပြည်တော် မန္တလေး ပြည်ထောင်စု လမ်းမကြီး ရမည်းသင်း လမ်းပိုင်း ဆင်း စပ်မျိုး နကြောမျိုး စေ့ထုတ်လုပ် သည့် စိုက်ခင်း တာဝန်ရှိသူများက စိုက်ခင်း အတွင်းစိုက်ပျိုး ထားရှိမှု အခြေအနေများကို ရှင်းလင်း ဒုတိယသမ္မတ စေ့ထုတ်လုပ် ထားရှိမှု နှင့် နကြော စိုက်ခင်း လှည့်လည် ကြည့်ရှုစစ်ဆေး',\n",
              " 'ဆက်လက်၍ တပ်ကုန်း မြို့နယ် စိုက်ပျိုးရေး သုတေသနခြံ ကြရာ စိုက်ပျိုးရေး သုတေသန ဦးစီးဌာန ညွှန်ကြားရေးမှူး ကြည်ဝင်း ဆောင်ရွက်လျက် ရှိသည့် သုတေသနလုပ်ငန်း နှင့် ပြောင်းဖူး သုတေသန စိုက်ပျိုး ထားရှိမှု အခြေအနေများ ရှင်းလင်းတင်ပြသည်',\n",
              " 'ထို့နောက် ဒုတိယသမ္မတ နှင့် အဖွဲ့ဝင်များသည် နေပြည်တော် ကောင်စီနယ်မြေ ပျဉ်မနား မြို့နယ် တန် ဆာတာကေး ဆန်စက် ရောက်ရှိကြသည်',\n",
              " 'မောင်တောဒေသ စုံစမ်းစစ်ဆေးရေး ကော်မရှင် အစည်းအဝေး ကျင်းပသည် အစည်းအဝေး မနေ့က မွန်းလွဲ နာရီ နိုင်ငံတော် သမ္မတရုံး အစည်းအဝေး ခန်းမ၌ ကျင်းပရာ မောင်တောဒေသ စုံစမ်းစစ်ဆေးရေး ကော်မရှင် ဥက္ကဋ္ဌ ဒုတိယသမ္မတ ဦးမြင့်ဆွေ တက်ရောက် အမှာစကား ပြောကြားသည်',\n",
              " 'အစည်းအဝေး ကော်မရှင် ဥက္ကဋ္ဌ ဒုတိယသမ္မတ ဦးမြင့်ဆွေ မောင်တောဒေသ စုံစမ်းစစ်ဆေးရေး ကော်မရှင် အစည်းအဝေးကို ကြိမ် တိုင် ကျင်းပခဲ့ ပြီးပြီ ဟုပြောကြားသည်',\n",
              " 'ကော်မရှင် ခုနှစ် ဒီဇင်ဘာ ရက်တွင် ဖွဲ့စည်းခဲ့သည် ဒီဇင်ဘာ ရက်တွင် ပထမဆုံး အစည်းအဝေးကို ကျင်းပခဲ့ သတင်းထုတ်ပြန်ချက် ထုတ်ပြန် ခဲ့ပါသည် ကော်မရှင် မောင်တောဒေသ ဒီဇင်ဘာ ရက်မှ ရက်ထိ သွားရောက် ခဲ့ပါသည် အသေးစိတ် ကြည့်ရှု စုံစမ်း ခဲ့ပါသည် ဒီဇင်ဘာ ရက်တွင် မောင်တောဒေသ ကော်မရှင် အစည်းအဝေးကို ဒုတိယအကြိမ် ကျင်းပခဲ့သည် ကော်မရှင် ဒုတိယအကြိမ် သတင်းထုတ်ပြန် ထုတ်ပြန်နိုင် ခဲ့ပါသည် ခရီးစဉ် ကျေးရွာ ရွာ သွားရောက် ကြည့်ရှု့ ခဲ့သည် လိုအပ်သည် စုံစမ်း မေးမြန်း ဒေသခံ ကျေးရွာသားများ နှင့် တွေ့ဆုံ ခဲ့ပါသည် ဒီဇင်ဘာ ရက်တွင် ကော်မရှင် အစည်းအဝေး ကျင်းပခဲ့သည် ထို့နောက် ရှေး စစ်ဆေး မေးမြန်း သည့် အချက်အလက်များကို ပြန်လည် သုံးသပ်ပြီး ဆွေးနွေး ခဲ့ပါသည် ခုနှစ် ဇန်နဝါရီ ရက်တွင် ကော်မရှင် ကြားဖြတ် အစီရင်ခံစာ ထုတ်ပြန် ခဲ့ပါသည် ဇန်နဝါရီ ရက်တွင် ကော်မရှင် အစည်းအဝေး ကျင်းပခဲ့သည်',\n",
              " 'မောင်တောဒေသ ဇန်နဝါရီ နှင့် ရက်တို့ ထပ်မံ သွားရောက် ခဲ့ပါသည် ယနေ့ အစည်းအဝေး စုံစမ်းစစ်ဆေးရေး ကော်မရှင် အပြီးသတ် အစီရင်ခံစာ လိုအပ်ချက်များ အသေးစိတ် ဆွေးနွေး လိုအပ်ပါသည် ထို့နောက် စုံစမ်းစစ်ဆေးရေး ကော်မရှင် အတွင်းရေးမှူး ဦးဇော်မြင့်ဖေ အစီရင်ခံစာ ရေးသား ပြုစု ပြီးစီးမှု အခြေအနေ နှင့်စပ်လျဉ်း၍ ရှင်းလင်းတင်ပြသည် ဆက်လက်၍ စုံစမ်းစစ်ဆေးရေး ကော်မရှင် အဖွဲ့ဝင် ရဲချုပ် ဇော်ဝင်း မောင်တောဒေသ အခြေအနေများကို ရှင်းလင်းတင်ပြသည် ကော်မရှင် အဖွဲ့ဝင်များက လိုအပ်သည် အကြံပြု ဆွေးနွေးကြသည် ဆွေးနွေး တင်ပြချက်များ ဒုတိယသမ္မတ လိုအပ်သည် မှာကြား နိဂုံးချုပ် အမှာစကား ပြောကြားသည်',\n",
              " 'ကျင်းပ မြန်မာ့ တိုင်းရင်းဆေး သမားတော်များ ညီလာခံ မြန်မာနိုင်ငံ တစ်ဝန်းလုံး တက်ရောက် ကြတဲ့ မြန်မာ့ တိုင်းရင်းဆေး သမားတော်ကြီး တိုင်းရင်းဆေးပညာရှင် အပေါင်း ကိုဝမ်းမြောက် ဂုဏ်ယူ နှုတ်ခွန်းဆက်သပါသည် ကိုယ်စိတ် ပါး ကြည်လင် ချမ်းမြေ့ ကြပါစေ ကျွန်ုပ် ဆုမွန်ကောင်း တောင်းအပ် ပါတယ်',\n",
              " 'ခရစ်သက္ကရာဇ် ပြည့် နှစ်စဉ် မပျက်မကွက် ကျင်းပ လာခဲ့တဲ့ မြန်မာ့ တိုင်းရင်းဆေး သမားတော်များ ညီလာခံ ဆိုရင် ခဲ့ပြီ',\n",
              " 'ညီလာခံ အောက်ပါ ရည်ရွယ်ချက်များ နှင့်အတူ နှစ်စဉ် မပျက် ကျင်းပ လျက်ရှိသည် အမျိုးသား ယဉ်ကျေးမှု အမွေအနှစ် ဂုဏ်ဒြပ် တစ်ရပ် ဖြစ်တဲ့ မြန်မာ့ တိုင်းရင်းဆေး လောက ဘက်စုံ အဆင့်အတန်း မြင့်မား မြန်မာ့ တိုင်းရင်းဆေးပညာ ဖွံ့ဖြိုးတိုးတက်ရေး မြန်မာ့ တိုင်းရင်းဆေးဝါး အရည်အသွေး ကောင်းမွန်လာ စေရေး ညီလာခံ အဆက်ဆက် တိုင်းရင်းဆေး သက်ဆိုင်တဲ့ ကိစ္စ ဆောင်ရွက် ပေးရ ဌာနဆိုင်ရာ ကိုယ်စားလှယ်များ ဆွေးနွေး တွေ့ဆုံပြီး အမြင်များ ဖလှယ်ကြသည်',\n",
              " 'တိုင်းရင်းဆေး ကောင်စီဝင် ကိုယ်စားလှယ်ကြီး ဆွေးနွေး တွေ့ဆုံပြီး အမြင်များ ဖလှယ်ကြသည် မြန်မာနိုင်ငံ တိုင်းရင်းဆေး ဆရာ အသင်းမှ ကိုယ်စားလှယ်များ ဆွေးနွေး တွေ့ဆုံပြီး အမြင်များ ဖလှယ်ကြသည် အနယ်နယ် အရပ်ရပ် တိုင်းရင်းဆေးပညာရှင် ကိုယ်စားလှယ်များ ဆွေးနွေး တွေ့ဆုံပြီး အမြင်များ ဖလှယ်ကြသည်',\n",
              " 'တိုင်းရင်းဆေး နှင့် နှီးနွှယ် ပညာရှင် ကိုယ်စားလှယ်များ ဆွေးနွေး တွေ့ဆုံပြီး အမြင်များ ဖလှယ်ကြသည် ညီလာခံ ညီလာခံ ကိုယ်စားလှယ် တိုင်းရင်းဆေး သမားတော်များ နှီးနွှယ် ပညာရှင် အပေါင်း ညီညွတ် ချစ်ခင်စွာ ဆုံစည်း တတ်ရောက်ပါသည်',\n",
              " 'ကျန်းမာခြင်း လာဘ် ပါး ဆိုရိုး စကား နဲ့အညီ ကျန်းမာ ကြံ့ခိုင် ပြည်သူတို့ သာလျှင် နိုင်ငံ အကျိုးစီးပွား ထိရောက်စွာ ဖော်ဆောင် မြှင့်တင် ပေးနိုင်မှာ နိုင်ငံတော် အစိုးရအနေနဲ့ တစ်မျိုးသားလုံး ကျန်းမာ ကြံ့ခိုင် ပညာရည် မြင့်မား အကောင်အထည်ဖော် ဆောင်ရွက်လျက်',\n",
              " 'ဆောင်ရွက် ရာမှာ တိုင်းရင်းဆေးပညာ အဆင့်အတန်း မြှင့်တင်ရေး မြန်မာ့ တိုင်းရင်းဆေးပညာ ပြည်သူတို့ ကျန်းမာရေး စောင့်ရှောက်မှု တိုးမြှင့် လွှမ်းခြုံ နိုင်ရေးတို့ ဆောင်ရွက်လျက်',\n",
              " 'မြန်မာ့ တိုင်းရင်းဆေးပညာ အခြေခံ ဆေးပညာရပ် အမျိုးမျိုး ဆေးကျမ်း အဖုံဖုံ ကုထုံး ကုနည်း အသွယ်သွယ် အာနိသင် ထက်မြက် ဆေးဝါး အရပ်ရပ်တို့ ပြည့်စုံ ကုံလုံ ကျယ်ဝန်း နက်ရှိုင်း သိမ်မွေ့ နက်နဲ လှ ပညာရပ် တစ်ခု ဖြစ်တဲ့အတွက် စနစ်တကျ ထိန်းသိမ်း စောင့်ရှောက် မြှင့်တင် ပေးနိုင် မှသာ မတိမ်းပါး မပျက်ယွင်း အရှည်တည်တံ့ ထွန်းကား ပြန့်ပွား',\n",
              " 'ပြည့်စုံ ကြွယ်ဝ လှ မြန်မာ့ တိုင်းရင်းဆေးပညာရပ် အနှစ်သာရ အထွေထွေ စုစည်း ပေါင်းစပ် ခေတ်မီ နည်းပညာရပ် စံချိန်စံညွှန်း ဖော်ထုတ်ကာ ပြည့်စုံ အမျိုးသား တိုင်းရင်းဆေးပညာရပ် တစ်ခု မြှင့်တင် ပေးနိုင် ဝိုင်းဝန်း အားထုတ် လိုအပ်ပါတယ်',\n",
              " 'ခေတ်မှာ ခေတ်မီ ဆေးသိပ္ပံ နည်းစနစ် စွမ်းပကား လူသားတို့ ဖြစ်ပေါ် နိုင်တဲ့ ရောဂါ ဝေဒနာ အမျိုးမျိုး ရှာဖွေ ကုစား နိုင်တဲ့ အနောက်တိုင်း ဆေးပညာရပ် အားကိုး အားထားပြု ကြသည်',\n",
              " 'သမုဋ္ဌဌာန် ပါး ခေါ်ဆို ကံ ဥတု အာဟာရ ညီညွတ် မျှတ နေထိုင် ကျင့်ကြံ စားသောက် သဘော ရာသီဥတု သဘာဝပတ်ဝန်းကျင် လိုက်လျောညီထွေ နေထိုင် စားသောက် သဘောတို့ လမ်းညွှန်ပြ ထားတဲ့ မြန်မာ့ တိုင်းရင်းဆေး အနှစ်သာရ ကလည်း ရောဂါဘယ ဖြစ်ပွားစေ ကျန်းမာ သက်ရှည် မဖောက်မပြန် မှန်ကန် အားကိုးထိုက် ပညာရပ် သဘောတရား',\n",
              " 'ခေတ်ကာလ မြန်မာ သာမက ကမ္ဘာ့ လူမျိုး အသီးသီးတို့ သဘာဝ ဆေးပညာ သဘာဝ အစားအစာ ဆေးဝါး အားကိုး သတိပြု မြင်ရပါတယ်',\n",
              " 'ဒါကြောင့်မို့ မြန်မာ့ တိုင်းရင်းဆေး သမားတော်များ ညီလာခံ ကြီးရည်မှန်းချက် နဲ့အညီ ပြည့်ဝ ပြီးမြောက် အောင်မြင်ပါစေ',\n",
              " 'မြန်မာ့ တိုင်းရင်းဆေးပညာ အဆင့်အတန်း ဂုဏ်ရှိန် မြင့်မား တိုးတက် ဖြစ်ထွန်းပါစေ',\n",
              " 'မြန်မာ့ တိုင်းရင်းဆေးပညာ ပြည်သူတို့ ကျန်းမာရေး တိုးမြှင့် စောင့်ရှောက် နိုင်ပါစေ',\n",
              " 'ပြည်သူလူထု ကျန်းမာ သုခ ပြည့်စုံ ကြပါစေ ဆုတောင်းမေတ္တာပို့သ ဂုဏ်ပြု သဝဏ်လွှာ ပေးပို့ အပ်ပါတယ်',\n",
              " 'စစ်ကိုင်း တိုင်းဒေသကြီး လဟယ် မြို့ ရောက်ရှိနေသည့် နိုင်ငံတော်သမ္မတ ဦးထင်ကျော် နှင့် ဇနီး ဒေါ်စုစုလွင် နှင့် အဖွဲ့ဝင်များသည် မနေ့က နံနက်ပိုင်းတွင် လဟယ် မြို့ စာရာမေရိ ရိပ်သာ လဟယ် မြို့ပေါ် ခရစ်ယာန် အသင်းတော် သိက္ခာတော် ဆရာများ သင်းအုပ်ဆရာ နှင့် တွေ့ဆုံသည်',\n",
              " 'ထို့နောက် နိုင်ငံတော်သမ္မတ နှင့် ဇနီး နှင့် အဖွဲ့ ရဟတ်ယာဉ်များ ဖြင့် လဟယ် မြို့ နန်းယွန်း မြို့ ရောက်ရှိကြသည်',\n",
              " 'သူတို့ ဒေသ ကွပ်ကဲရေးမှူး ဗိုလ်မှူးချုပ် မြင့်စိုး ပြည်သူ့လွှတ်တော် ကိုယ်စားလှယ် မ်လှ မြို့မိမြို့ဖ ရိုးရာ ယဉ်ကျေးမှု အဖွဲ့ဝင်များ နှင့် တာဝန်ရှိသူများက ကြိုဆို ကြသည်',\n",
              " 'ယင်းနောက် နိုင်ငံတော်သမ္မတ နှင့် အဖွဲ့ နန်းယွန်း မြို့ ပြည်သူ့ဆေးရုံသို့ ဆေးကုသမှု ခံယူ နေကြ အားပေး စကား စားသောက်ဖွယ်ရာ နှင့် ထောက်ပံ့ငွေ ပေးအပ်သည်',\n",
              " 'တွေ့ဆုံပွဲ ပြည်သူ့လွှတ်တော် ကိုယ်စားလှယ် မ်လှ နှင့် မြို့နယ် နာဂ ရိုးရာ စာပေ နှင့် ယဉ်ကျေးမှု ကော်မတီ ဒုတိယဥက္ကဋ္ဌ ဦးရွှေလန်းတို့ ဒေသ ဖွံ့ဖြိုးရေး လိုအပ်ချက်များ ရှင်းလင်း တင်ပြကြသည်',\n",
              " 'နိုင်ငံတော်သမ္မတ ဒေသ လိုအပ်ချက်များ ပြည်ထောင်စု အစိုးရ အနေဖြင့် ဆောင်ရွက် ပေးနိုင်သည် အလေးအနက်ထား ဆောင်ရွက် ပေးသွားမည် ပြောကြားသည် တိုင်းဒေသကြီး နှင့် ပြည်နယ် အစိုးရအဖွဲ့ မှတစ်ဆင့် ပြည်ထောင်စု အစိုးရအဖွဲ့ မှာကြားသည် ယင်းနောက် ပြည်ထောင်စုဝန်ကြီး ဒုတိယ ဗိုလ်ချုပ်ကြီး ရဲအောင် သန့်ရှင်းသော သောက်သုံးရေ ရရှိရေး နှင့် ရေအားလျှပ်စစ် ထုတ်ယူ ရှင်းလင်း ဖော်ပြသည်',\n",
              " 'ပြည်ထောင်စုဝန်ကြီး ဒေါက်တာဝင်းမြတ်အေးက အမျိုးသမီးများ ကိုယ်ဝန်ဆောင် မွေးဖွား ကလေး နှစ်နှစ် အရွယ် အာဟာရ ထောက်ပံ့ရေး အရေးကြီး ပြောကြားသည်',\n",
              " 'ပြည်ထောင်စုဝန်ကြီး ဒေါက်တာ မျိုးသိမ်းကြီး ကျောင်း အဆင့် တိုးမြှင့်ရေး ကိစ္စရပ်များ လမ်းညွှန် ပြည်ထောင်စုဝန်ကြီး ဒေါက်တာ မြင့်ထွေး လူနာတင်ယာဉ် ထောက်ပံ့ရေး နှင့် ငှက်ဖျား ရောဂါ ပပျောက် နှင့် ကျန်းမာရေး အသိပညာ ပေးရေး အခြေအနေများကို ဆွေးနွေးသည်',\n",
              " 'ပြည်ထောင်စုဝန်ကြီး ဦးဝင်းခိုင် ခန္တီး လဟယ် နန်းယွန်း လမ်းမကြီး အဆင့်မြှင့်တင် ပြုပြင်ရေး နှင့် တံတား တည်ဆောက်ခြင်း ပြင်ဆင်မှုများ ရှင်းလင်း ပြောကြားကြသည်',\n",
              " 'ထို့နောက် နိုင်ငံတော်သမ္မတ မြို့နယ် စီမံခန့်ခွဲမှု ကော်မတီ ဥက္ကဋ္ဌ ဦးဇော်မော်အောင် နှင့် ပြည်သူ့လွှတ်တော် ကိုယ်စားလှယ် မ်လှတို့ ဒေသ ဖွံ့ဖြိုးရေး ထောက်ပံ့ရေး ပစ္စည်းများ ပေးအပ်သည် နိုင်ငံတော်သမ္မတ နှင့် အဖွဲ့ဝင်များသည် ရဟတ်ယာဉ်များ ဖြင့် နန်းယွန်း မြို့ ထွက်ခွာသည် နေပြည်တော် ပြန်လည် ရောက်ရှိကြသည်',\n",
              " 'ယနေ့ ဇန်နဝါရီလ ရက်နေ့ ကျရောက် မြောက် ကယားပြည်နယ်နေ့ အခမ်းအနားကို ဂုဏ်ပြု သဝဏ်လွှာ ပေးပို့ ခွင့်ရ များစွာ ဂုဏ်ယူ ဝမ်းမြောက် မိပါတယ်',\n",
              " 'ယနေ့ ချိန်ခါ ကယားပြည်နယ် မှီတင်း နေထိုင် ကြတဲ့ တိုင်းရင်းသား ညီအစ်ကို မောင်နှမ နေ့ထူးနေ့မြတ် အသိအမှတ်ပြု ထားတဲ့ ကယားပြည်နယ်နေ့',\n",
              " 'ကယားပြည်နယ် နေထိုင် ကြတဲ့ ကယား တိုင်းရင်းသား နိုင်ငံ တစ်ဝန်းလုံး ပျံ့နှံ့ နေထိုင် ကြတဲ့ ကယား တိုင်းရင်းသား နှင့်တကွ ပြည်ထောင်စုဖွား တိုင်းရင်းသား ကောင်းကျိုး ချမ်းသာ မင်္ဂလာ အဖြာဖြာ နှင့် ပြည့်စုံ ပါစေ နေ့ထူးနေ့မြတ် ဖြစ်တဲ့ ကယားပြည်နယ်နေ့ ဆုမွန်ကောင်း နှုတ်ခွန်း ဆက်သအပ်ပါတယ်',\n",
              " 'မြန်မာနိုင်ငံ လွတ်လပ်ရေး ရပြီးနောက် ပြည်နယ် နှင့် ဖွဲ့စည်း တည်ထောင် ရာမှာ ခုနှစ် ဖွဲ့စည်း အုပ်ချုပ် အခြေခံ ဥပဒေပုဒ်မ ပုဒ်မခွဲ ကရင်နီ ပြည်နယ် ကရင်ပြည်နယ် ထည့်သွင်း ပြဋ္ဌာန်းခဲ့သည်',\n",
              " 'ခုနှစ် ဖွဲ့စည်း အုပ်ချုပ် အခြေခံ ဥပဒ ပြင်ဆင်ချက် အက်ဥပဒေ ပုဒ်မ ပြည်ထောင်စု မြန်မာ နိုင်ငံတော် ဖွဲ့စည်း အုပ်ချုပ် အခြေခံဥပဒေ ကရင်နီ ပြည်နယ် ဆိုတဲ့ စကားရပ် ပါရှိတဲ့ နေရာ စကားရပ် အစား ကယားပြည်နယ် ဆိုတဲ့ စကားရပ် ထည့်သွင်း ရမယ်လို့ ပြဋ္ဌာန်း ခဲ့ပါတယ် ကရင်နီ ပြည်နယ် ကယားပြည်နယ် ပြောင်းလဲ ခေါ်တွင် ပထမဦးဆုံးသော ကယားပြည်နယ်နေ့ အခမ်းအနားကို ခုနှစ် ဇန်နဝါရီလ ရက်နေ့ ကျင်းပခဲ့တယ်',\n",
              " 'ဒီနှစ် ဆိုရင် ပြည့် မြောက် ခဲ့ပြီ သမိုင်းကြောင်းကို ပြန်ကြည့် ဆိုရင် ကယားပြည်နယ် ကယား မျိုးနွယ်စုဝင်',\n",
              " 'တိုင်းရင်းသား ရှေးပဝေသဏီ ချစ်ခင် ရင်းနှီး နေထိုင်ခဲ့ကြ ပါတယ်',\n",
              " 'လွတ်လပ်ရေး နောက်ပိုင်းမှာ တိုင်းရင်းသား ညီအစ်ကို မောင်နှမ အကြား သံသယများ ကြောင့် ပဋိပက္ခများ ဆယ်စုနှစ် ပေါင်းများစွာ ဖြစ်ပေါ်ခဲ့တယ်',\n",
              " 'ထို့ကြောင့် မြန်မာနိုင်ငံ နိုင်ငံရေး စီးပွားရေး နှင့် လူမှုရေး အဘက်ဘက် အိမ်နီးချင်း နိုင်ငံ နောက်ကျ ခဲ့ရပါတယ်',\n",
              " 'ကယားပြည်နယ် လောပိတ ရေအားလျှပ်စစ် စက်ရုံများ မြန်မာနိုင်ငံ လျှပ်စစ်ဓာတ်အား ဖြန့်ဖြူး ရာမှာ အဓိက ကျတဲ့ စက်ရုံများ နှစ်ပေါင်းများစွာ ရပ်တည်ခဲ့တယ်',\n",
              " 'သဘာဝ လျှို မြောင် ရေတံခွန် စိမ့်စမ်း သာယာ လှပ ပြည်နယ် ဖြစ်တဲ့အတွက် သဘာဝ အခြေခံ ခရီးသွားလုပ်ငန်း မြှင့်တင် ပေးနိုင် အလားအလာ ကောင်းတဲ့ ပြည်နယ် တစ်ခု',\n",
              " 'ဒီချိန်ခါ ကယားပြည်နယ် သေနတ် သံ ဗုံးသံ တိတ် သလောက် ဖြစ်နေပါပြီ',\n",
              " 'ကယားပြည်နယ် အတွင်းရှိ တိုင်းရင်းသား လက်နက်ကိုင် အဖွဲ့များသည် ပြည်ထောင်စု ငြိမ်းချမ်းရေး လုပ်ငန်းစဉ်များ ပူးပေါင်းပါဝင် ဆောင်ရွက်လာသည်',\n",
              " 'ကရင်ပြည်နယ် တိုင်းရင်းသား ငြိမ်းချမ်းရေး အသီးအပွင့် နှင့် ဖွံ့ဖြိုးတိုးတက်မှု အခွင့်အလမ်းသစ် ခံစား နေကြပြီ',\n",
              " 'ထို့ကြောင့် သေနတ် သံ နိုင်ရာ ရေရှည်တည်တံ့ ခိုင်မြဲ ငြိမ်းချမ်းရေး ဖြစ်ဖို့ တိုင်းရင်းသား ညီအစ်ကို မောင်နှမ လက်တွဲ အလွန် အရေးကြီးပါတယ်',\n",
              " 'အေးချမ်း သာယာ ခေတ်မီ ဖွံ့ဖြိုးတိုးတက် ဒီမိုကရေစီ ဖက်ဒရယ် ပြည်ထောင်စု တည်ဆောက် ရာမှာ တိုင်းရင်းသားအားလုံး တန်းတူရည်တူ ဖော်ဆောင်နိုင် အရေးကြီး လှ ပါတယ်',\n",
              " 'ပြည်ထောင်စု နိုင်ငံရေး ပြဿနာ ငြိမ်းချမ်းစွာ ဆွေးနွေး ညှိနှိုင်းမှုတွေ တစ်ဆင့် အဖြေရှာ နိုင်မယ် ဆိုတာ ကျွန်ုပ်တို့ အခိုင်အမာ ယုံကြည်ပါတယ်',\n",
              " 'ဆွေးနွေးမှုများ ဒီမိုကရေစီ ဖက်ဒရယ် ပြည်ထောင်စု တည်ဆောက် နိုင်ရေးအတွက် အခြေခံ မူဝါဒများ ထွက်ပေါ်လာ',\n",
              " 'လွတ်လပ်ရေး ကြိုးပမ်းမှု တက်ကြွစွာ ပါဝင်ခဲ့ တိုင်းရင်းသား ညီအစ်ကို မောင်နှမ တိုက်တွန်း ချင်ပါတယ်',\n",
              " 'ကျွန်ုပ်တို့ ငြိမ်းချမ်းရေး ခရီးလမ်း သတ္တိ နှင့် အမြော်အမြင် ပြည့်ပြည့် လျှောက်လှမ်းကြမယ်',\n",
              " 'မိမိတို့ ခေတ် သာမက အနာဂတ် ပြည်နယ် ခေတ်မီ တိုးတက် သာယာ လှပ စေရေး ကြိုးပမ်း တည်ဆောက် သွားကြ တိုက်တွန်း နှိုးဆော် သဝဏ်လွှာ ပေးပို့ လိုက်ပါတယ်',\n",
              " 'ဆောင်ရွက် ပြည်သူ့ ဘဏ္ဍာငွေ နိုင်ငံတော် စနစ်တကျ ဖြင့် ကျခံ သုံးစွဲ လျက်ရှိပါသည်',\n",
              " 'မြန်မာနိုင်ငံ၏ ငြိမ်းချမ်းရေး ဖြစ်စဉ် ပြည်ထောင်စု တိုင်းရင်းသား မြန်မာနိုင်ငံသား နှင့်သက်ဆိုင်သည်',\n",
              " 'ဇန်နဝါရီလ ရက်နေ့မှာ ကျရောက် မြောက် ကချင်ပြည်နယ် ဖြစ်တဲ့ နေ့ထူးနေ့မြတ် အခါသမယ ကချင်ပြည်နယ်အတွင်း မှီတင်း နေထိုင် ကြတဲ့ တိုင်းရင်းသား ညီအစ်ကို မောင်နှမ ပြည်ထောင်စုသား ကောင်းကျိုး ချမ်းသာ မင်္ဂလာ အပေါင်း ပြည့်စုံ ကြပါစေ ဆုမွန်ကောင်း တောင်းပြီး နှုတ်ခွန်း ဆက်သအပ်ပါတယ်',\n",
              " 'လွတ်လပ်ရေး ခုနှစ် ဇန်နဝါရီလ ရက်နေ့မှာ ကချင်ပြည်နယ် ကောင်စီ ညီလာခံ ပထမဆုံး အစည်းအဝေး ကျင်းပခဲ့တယ်',\n",
              " 'ကချင်ပြည်နယ် ကောင်စီ အစည်းအဝေး ကချင်ပြည်နယ် အစိုးရအဖွဲ့ ဖွဲ့စည်းခဲ့ ဂုဏ်ပြု အနေနဲ့ ဇန်နဝါရီလ ရက်နေ့ ကချင်ပြည်နယ် သတ်မှတ် ပြဌာန်းခဲ့တယ် နှစ်စဉ် ကျင်းပခဲ့ ဆိုရင် မြောက် ခဲ့ပြီ ကချင်ပြည်နယ် ခရိုင် ခရိုင် မြို့နယ် မြို့နယ် မြို့ မြို့ ပါဝင်သည် ဂျိန်းဖော့ ရဝမ် လီဆူ လာချိတ် လော်ဝေါ် နှင့် ဇိုင်ဝါး စတဲ့ ကချင် မျိုးနွယ်စု နေထိုင်သော ပြည်နယ် တစ်ခု လိုင် လုံ ဆာ ခန္တီး စတဲ့ ရှမ်း မျိုးနွယ်စု နေထိုင်သော ပြည်နယ် တစ်ခု ဗမာ တိုင်းရင်းသား မျိုးနွယ်စု တိုင်းရင်းသား မျိုးနွယ်စု လူဦးရေ စုစုပေါင်း တိုင်းရင်းသား လူမျိုးများ အတူတကွ ချစ်ကြည် ရင်းနှီး စုပေါင်း နေထိုင် ကြတဲ့ ပြည်နယ် တစ်ခု ကချင်ပြည်နယ် ေရွှ နှင့် ကျောက်စိမ်း စတဲ့ အဖိုးတန် သယံဇာတ ပေါများ ကြွယ်ဝ အရှေ့တောင်အာရှ ဒေသ တစ်ခုတည်းသော နှင်းဖုံး တောင်တန်း တွေရှိတယ်',\n",
              " 'အလွန် သာယာ လှပ သဘာဝပတ်ဝန်းကျင် ရှိတယ်',\n",
              " 'မြန်မာနိုင်ငံ အသက် သွေးကြော နိုင်တဲ့ ဧရာဝတီမြစ် မြစ်ဖျားခံ ဒေသ တစ်ခု',\n",
              " 'သတ္တု နှင့် သယံဇာတ ပေါများ ကြွယ်ဝ ကချင်ပြည်နယ် သဘာဝ အလှအပ ကိုလည်း မခံစား သယံဇာတ ကိုလည်း ဖွံ့ဖြိုးရေး လုပ်ငန်းတွေ ထိထိရောက်ရောက် မသုံ နိုင်ဘဲ ဖြစ်နေရပါတယ်',\n",
              " 'ကချင်ပြည်နယ် တစ်ခုလုံး ဖွံ့ဖြိုးတိုးတက်ရေး ဆောင်ရွက် ရာမှာ ငြိမ်းချမ်းရေး နှင့် တည်ငြိမ်မှု ရှိမှသာ နယ်မြေ နှင့် ကဏ္ဍ အသီးသီး ဟန်ချက်ညီညီ ဖွံ့ဖြိုးတိုးတက် လာမှာလည်း',\n",
              " 'ကချင်ပြည်နယ်အတွင်း နေထိုင် ကြတဲ့ တိုင်းရင်းသား ပြည်သူအပေါင်း ငြိမ်းချမ်းရေး အရသာ သိရှိခဲ့ ပြီးပါပြီ',\n",
              " 'ယခုအခါ ငြိမ်းချမ်းရေး အလွန် တောင့်တလျက် ရှိကြသည်',\n",
              " 'ငြိမ်းချမ်းရေး အမြန်ဆုံး ရရှိရန် ပြည်သူ ရပ်လုံး ကြီးမားတဲ့ ဆန္ဒ',\n",
              " 'အချိန်အခါ အကြောင်း အမျိုးမျိုး ကြောင့် ပေါ်ပေါက် ခဲ့ရတဲ့ လက်နက်ကိုင် ပဋိပက္ခများ ချုပ်ငြိမ်း ရေရှည်တည်တံ့ မယ့် စစ်မှန် ထာဝရ ငြိမ်းချမ်းရေး ရရှိဖို့ တိုင်းရင်းသား ညီအစ်ကို မောင်နှမ စိတ်ရင်း ကြိုးပမ်း အကောင်အထည်ဖော် ဆောင်ရွက် မယ့် အချိန်အခါ',\n",
              " 'အချိန်အခါ ကျွန်တော်တို့ တိုင်းရင်းသား ညီအစ်ကို မောင်နှမ စစ်မှန် ရေရှည်တည်တံ့ ငြိမ်းချမ်းရေး ရရှိဖို့ စိတ်ရင်း စေတနာ အမှန် ကြိုးစား ကြမှသာ ပဋိပက္ခ နွံ ကနေ ရုန်းထွက်',\n",
              " 'နိုင်ငံတော် အစိုးရအနေနဲ့ ပြည်ထောင်စု တစ်ဝန်းလုံး ငြိမ်းချမ်း သာယာ ဘက်စုံ ဖွံ့ဖြိုးတိုးတက် စေရေး ရည်ရွယ် ပြည်ထောင်စု ငြိမ်းချမ်းရေး ညီလာခံ ရာစု ပင်လုံ ပထမအကြိမ် အစည်းအဝေးကို ခုနှစ် သြဂုတ်လ ရက်နေ့ စက်တင်ဘာလ ရက်နေ့ နေပြည်တော်မှာ ကျင်းပခဲ့',\n",
              " 'ညီလာခံ အဓိက ရည်မှန်းချက် ပြည်တွင်း ငြိမ်းချမ်းရေး တစ်ဆင့် ဒီမိုကရေစီ ဖက်ဒရယ် ပြည်ထောင်စု တည်ဆောက် ရည်ရွယ်',\n",
              " 'နိုင်ငံရေး ပြဿနာ နိုင်ငံရေး နည်းလမ်း တဆင့် ဖြေရှင်း နိုင်ဖို့ တိုင်းရင်းသား အခြေခံ အခွင့်အရေး နှင့်တန်းတူ ညီမျှ ရေးတို့ အဖြေများ ရှာဖွေရန်',\n",
              " 'ကချင်ပြည်နယ် တစ်နိုင်ငံလုံး ငြိမ်းချမ်း စေရေး အမျိုးသား ပြန်လည် သင့်မြတ်ရေး ငြိမ်းချမ်းရေး ဗဟိုဌာန ဖွဲ့စည်း ဆောင်ရွက် လျက်ရှိပါသည်',\n",
              " 'ငြိမ်းချမ်းရေး လုပ်ငန်းစဉ် ရပ်လုံး အောင်မြင် စေဖို့ တိုင်းရင်းသားပြည်သူ တစ်ရပ်လုံးက အစိုးရ နဲ့အတူ လက်တွဲ ပူးပေါင်းပြီး ဝိုင်းဝန်း ကြိုးပမ်း အကောင်အထည်ဖော် ပေးကြ လိုအပ်',\n",
              " 'နိဂုံးချုပ် အနေနဲ့ ဒီကနေ့ အချိန် နိုင်ငံတော် အကောင်အထည်ဖော် ဆောင်ရွက်လျက် ရှိတဲ့ အမျိုးသား ပြန်လည် သင့်မြတ်ရေး ငြိမ်းချမ်းရေး လုပ်ငန်းစဉ် အမြန်ဆုံး အောင်မြင် တိုင်းရင်းသား ညီအစ်ကို မောင်နှမ ခိုင်မာ ပြည်ထောင်စုစိတ်ဓာတ် စစ်မှန် မျိုးချစ် စိတ်ဓာတ်တို့ သွေးစည်းညီညွတ် တက်ညီ လက်ညီ ဝိုင်းဝန်း ပူးပေါင်းဆောင်ရွက် သွားကြ အလေးအနက် တိုက်တွန်း နှိုးဆော် အပ်ပါတယ်',\n",
              " 'ကချင်ပြည်နယ် နေ့ထူးနေ့မြတ် အခါသမယ ကချင်ပြည်နယ် ပြည်နယ်သား အပေါင်း ငြိမ်းချမ်း သာယာ ပျော်ရွှင် ချမ်းမြေ့ ကြပါစေ ဆုမွန်ကောင်း တောင်း သဝဏ်လွှာ ပေးပို့ အပ်ပါတယ်',\n",
              " 'သမ္မတ ဂုဏ်ထူးဆောင်ဘွဲ့များ စစ်သားများ ချီးမြှင့်',\n",
              " 'ဂုဏ်ထူးဆောင်ဘွဲ့များ ချီးမြှင့် အပ်နှင်း အခမ်းအနားကို မနေ့က မနက် နေပြည်တော်ရှိ နိုင်ငံတော်သမ္မတ အိမ်တော် သဘင်ဆောင် ကျင်းပရာ နိုင်ငံတော်သမ္မတ ဦးထင်ကျော် အမှာစကား ဂုဏ်ထူးဆောင်ဘွဲ့များ ပေးအပ် ချီးမြှင့်သည်',\n",
              " 'ယခုလို ထူးခြား လေးနက် သည့် အခမ်းအနားကို မိမိတို့ မြန်မာနိုင်ငံ၏ နေ့ထူးနေ့မြတ် ဖြစ်သည့် လွတ်လပ်ရေးနေ့ အခါသမယ ကျင်းပခြင်း ဖြစ်ပါသည်',\n",
              " 'မိမိတို့ တိုင်းရင်းသား လူမျိုးများ လွတ်လပ်ရေး ပြန်လည်ရရှိ နှစ်ပေါင်းများစွာ သူတို့၏ အသက်ပေါင်း များစွာ ရင်းနှီး ခဲ့ရတယ်',\n",
              " 'အမျိုးသား ခေါင်းဆောင်ကြီး ဗိုလ်ချုပ်အောင်ဆန်း ခေါင်းဆောင်မှု အောက်တွင် မြန်မာ တစ်မျိုးသားလုံး ဇွဲ လုံ့လ သတ္တိ အပြည့် ဖြင့် ညီညီညွတ်ညွတ် ကြိုးစားခဲ့ သည့် လွတ်လပ်ရေး နိုင်ခဲ့ခြင်း ဖြစ်ပါသည်',\n",
              " 'အမျိုးသား ခေါင်းဆောင်ကြီး နှင့် ဘိုးဘေး ဘီဘင် စွန့်လွှတ် စွန့်စား အားထုတ် ကြိုးပမ်း ရယူ ခဲ့ရသည့် မြန်မာ့ လွတ်လပ်ရေး ကမ္ဘာတည် သရွေ့ အစဉ် ထာဝရ တည်တံ့ စေရန် လွတ်လပ်ရေး ယူခဲ့ သည့် အချိန် ကဲ့သို့ မြန်မာ တစ်မျိုးသားလုံး ညီညီညွတ်ညွတ် လက်တွဲ ကာကွယ်စောင့်ရှောက် ရမည် ဖြစ်ပါသည်',\n",
              " 'တိုင် ခဲ့ပြီ ဖြစ်သည့် လွတ်လပ်ရေး ကာကွယ် ထိန်းသိမ်း စောင့်ရှောက် နှင့် နိုင်ငံတော်ကြီး တည်ငြိမ်အေးချမ်း ခေတ်မီ ဖွံ့ဖြိုး တိုးတက်အောင် ဆောင်ရွက်ရမည့် တာဝန် မြန်မာနိုင်ငံ နိုင်ငံသား ၏တာဝန်ပင် ဖြစ်ပါသည်',\n",
              " 'အခမ်းအနားတွင် သီဟ သူရ ဘွဲ့တံဆိပ် နှင့် သူရ ဘွဲ့တံဆိပ် ဦးတို့ ဂုဏ်ထူးဆောင်ဘွဲ့ တံဆိပ် ပေးအပ်လိမ့်မည်',\n",
              " 'အခမ်းအနားသို့ နိုင်ငံတော်သမ္မတ ဇနီး ဒေါ်စုစုလွင် နိုင်ငံတော် အတိုင်ပင်ခံ ပုဂ္ဂိုလ် ဒေါ်အောင်ဆန်းစုကြည် ဒုတိယသမ္မတ ဦးမြင့်ဆွေ နှင့် ဇနီး ဒုတိယသမ္မတ ဦးဟင်နရီဗန်ထီးယူ နှင့် ဇနီးတို့ တက်ရောက်ကြသည် အခမ်းအနားသို့ ပြည်သူ့လွှတ်တော် ဥက္ကဋ္ဌ ဦးဝင်းမြင့် နှင့် ဇနီး အမျိုးသားလွှတ်တော် ဥက္ကဋ္ဌ မန်းဝင်းခိုင်သန်း နှင့် ဇနီး ပြည်ထောင်စု တရားသူကြီးချုပ် ဦးထွန်းထွန်းဦးတို့ တက်ရောက်ကြသည် အခမ်းအနားသို့ တပ်မတော် ကာကွယ်ရေးဦးစီးချုပ် ဗိုလ်ချုပ်မှူးကြီး မင်းအောင်လှိုင် နှင့် ဇနီး နိုင်ငံတော် ဖွဲ့စည်းပုံ အခြေခံဥပဒေ ခုံရုံး ဥက္ကဋ္ဌ ဦးမျိုးညွန့် ပြည်ထောင်စု ရွေးကောက်ပွဲ ကော်မရှင် ဥက္ကဋ္ဌ ဦးလှသိန်းတို့ တက်ရောက်ကြသည် အခမ်းအနားသို့ ဒုတိယ တပ်မတော် ကာကွယ်ရေးဦးစီးချုပ် ကာကွယ်ရေးဦးစီးချုပ် ကြည်း ဒုတိယ ဗိုလ်ချုပ်မှူးကြီး စိုးဝင်း ပြည်သူ့လွှတ်တော် ဒုတိယဥက္ကဋ္ဌ အမျိုးသားလွှတ်တော် ဒုတိယဥက္ကဋ္ဌ ပြည်ထောင်စုလွှတ်တော် ဥပဒေရေးရာ နှင့် ကိစ္စရပ်များ လေ့လာ ဆန်းစစ် သုံးသပ် ကော်မရှင် ဥက္ကဋ္ဌတို့ တက်ရောက် အခမ်းအနားသို့ ပြည်ထောင်စုဝန်ကြီး ပြည်ထောင်စု ရှေ့နေချုပ် ပြည်ထောင်စု စာရင်းစစ်ချုပ် ပြည်ထောင်စု ရာထူးဝန် အဖွဲ့ဥက္ကဋ္ဌ ညှိနှိုင်း ကွပ်ကဲရေးမှူး ကြည်းရေလေ ကာကွယ်ရေးဦးစီးချုပ် ရုံး ကြည်း တပ်မတော် အရာရှိကြီး နှင့် ၎င်းတို့၏ ဇနီး တက်ရောက်ကြသည် အခမ်းအနားသို့ လွှတ်တော်ရေးရာ ကော်မတီ ဥက္ကဋ္ဌ ဒုတိယဝန်ကြီး နှင့် ဘွဲ့တံဆိပ် နှင့် မိသားစုဝင်များ တက်ရောက်ကြသည် အဲ့ဒီ သမ္မတ သီဟ သူရ ဘွဲ့တံဆိပ် နှင့် သူရ ဘွဲ့တံဆိပ် ဦးတို့ ဂုဏ်ထူးဆောင်ဘွဲ့ တံဆိပ် ပေးအပ် ချီးမြှင့်ခဲ့သည်',\n",
              " 'နိုင်ငံတော်သမ္မတ ဦးထင်ကျော် ဖိလစ်ပိုင်နိုင်ငံ သံအမတ်ကြီး နှင့် ချီလီ နိုင်ငံ သံအမတ်ကြီး လက်ခံ တွေ့ဆုံ ဖိလစ်ပိုင်သမ္မတ နိုင်ငံ သံအမတ်ကြီး နိုင်ငံတော်သမ္မတ ဦးထင်ကျော် နံနက် နာရီ နေပြည်တော်ရှိ နိုင်ငံတော်သမ္မတ အိမ်တော် ဧည့်ခန်းမ လက်ခံ တွေ့ဆုံသည်',\n",
              " 'နံနက် နာရီမိနစ် တာဝန် ပြီးဆုံး ပြန်လည် ထွက်ခွာ မည့် ဗန်ကောက် အခြေစိုက် ချီလီ နိုင်ငံ သံအမတ်ကြီး လက်ခံ တွေ့ဆုံသည် တွေ့ဆုံပွဲ ပြန်ကြားရေး ဝန်ကြီးဌာန ဒေါက်တာ ဖေမြင့် နိုင်ငံခြားရေး ဝန်ကြီးဌာန ဒုတိယဝန်ကြီး ဦးကျော်တင် နှင့် တာဝန်ရှိသူများ တက်ရောက်ကြသည်',\n",
              " 'နိုင်ငံတော်သမ္မတ မြောက် လွတ်လပ်ရေးနေ့ အထိမ်းအမှတ် ညစာစားပွဲ ဖြင့် တည်ခင်း ဧည့်ခံသည်',\n",
              " 'သမ္မတ ဦးထင်ကျော် နှင့် သူ၏ ဇနီးတို့ မြောက် လွတ်လပ်ရေးနေ့ အထိမ်းအမှတ် ညစာစားပွဲ အခမ်းအနားကို မနေ့ ညနေပိုင်းတွင် နေပြည်တော်ရှိ နိုင်ငံတော် သမ္မတရုံး တည်ခင်း ဧည့်ခံသည်',\n",
              " 'နိုင်ငံတော်သမ္မတ ဦးထင်ကျော် နှင့် ဇနီးတို့ နာရီခွဲတွင် အိမ်တော် ဥပစာ မြက်ခင်းပြင် ဧည့်သည်တော် နှုတ်ဆက်သည်',\n",
              " 'ညစာစားပွဲ နိုင်ငံတော် အတိုင်ပင်ခံ ပုဂ္ဂိုလ် ဒေါ်အောင်ဆန်းစုကြည် ဒုတိယသမ္မတ ဦးမြင့်ဆွေ နှင့် ဇနီး ဒေါ်ခင်သက်ဌေး ဒုတိယသမ္မတ ဦးဟင်နရီဗန်ထီးယူ နှင့် ဇနီး ဒေါက်တာ ရွှေလွှမ်းတို့ တက်ရောက်ကြသည်',\n",
              " 'ညစာစားပွဲ ပြည်သူ့လွှတ်တော် ဥက္ကဋ္ဌ ဦးဝင်းမြင့် နှင့် ဇနီး ဒေါ်ချိုချို အမျိုးသားလွှတ်တော် ဥက္ကဋ္ဌ မန်းဝင်းခိုင်သန်း နှင့် ဇနီး ဒေါ်နန့် ကြင်ကြည် ပြည်ထောင်စု တရားသူကြီးချုပ် ဦးထွန်းထွန်းဦးတို့ တက်ရောက်ကြသည်',\n",
              " 'ညစာစားပွဲ တပ်မတော် ကာကွယ်ရေးဦးစီးချုပ် ဗိုလ်ချုပ်မှူးကြီး မင်းအောင်လှိုင် နှင့် ဇနီး ဒေါ်ကြူကြူလှ နိုင်ငံတော် ဖွဲ့စည်းပုံ အခြေခံဥပဒေ ခုံရုံး ဥက္ကဋ္ဌ ဦးမျိုးညွန့် နှင့် ဇနီး ဒေါ်ဌေးရီ ပြည်ထောင်စု ရွေးကောက်ပွဲ ကော်မရှင် ဥက္ကဋ္ဌ လှသိန်း နှင့် ဇနီး ဒေါ် အေးသီတာတို့ တက်ရောက်ကြသည်',\n",
              " 'ညစာစားပွဲ ဒုတိယ တပ်မတော် ကာကွယ်ရေးဦးစီးချုပ် ကာကွယ်ရေးဦးစီးချုပ် ကြည်း ဒုတိယ ဗိုလ်ချုပ်မှူးကြီး စိုးဝင်း နှင့် ဇနီး ဒေါ် သန်းသန်းနွယ် ပြည်သူ့လွှတ်တော် နှင့် အမျိုးသားလွှတ်တော် ဒုတိယဥက္ကဋ္ဌ နှင့် ဇနီး တက်ရောက်ကြသည်',\n",
              " 'ညစာစားပွဲ ပြည်ထောင်စုလွှတ်တော် ဥပဒေရေးရာ နှင့် ကိစ္စရပ်များ လေ့လာ ဆန်းစစ် သုံးသပ် ကော်မရှင် ဥက္ကဋ္ဌ သူရ ရွှေမန်း နှင့် ဇနီး ပြည်ထောင်စုဝန်ကြီး နှင့် ၎င်းတို့၏ ဇနီး တက်ရောက်ကြသည်',\n",
              " 'ညစာစားပွဲ ပြည်ထောင်စု ရှေ့နေချုပ် ပြည်ထောင်စု စာရင်းစစ်ချုပ် ပြည်ထောင်စု ရာထူးဝန် အဖွဲ့ဥက္ကဋ္ဌ နှင့် ၎င်းတို့၏ ဇနီး ငြိမ်းချမ်းရေး ကော်မရှင် ဥက္ကဋ္ဌ နေပြည်တော် ကောင်စီဥက္ကဋ္ဌ နှင့် ၎င်းတို့၏ ဇနီး တက်ရောက်ကြသည်',\n",
              " 'ညစာစားပွဲ ညှိနှိုင်း ကွပ်ကဲရေးမှူး ကြည်းရေလေ တပ်မတော် အရာရှိကြီး နှင့် ၎င်းတို့၏ ဇနီး တက်ရောက်ကြသည်',\n",
              " 'ညစာစားပွဲ လွှတ်တော်ရေးရာ ကော်မတီ ဥက္ကဋ္ဌ ဒုတိယဝန်ကြီး လွှတ်တော် ကိုယ်စားလှယ်များ နိုင်ငံရေး ပါတီ ကိုယ်စားလှယ်များ ဌာနဆိုင်ရာ အကြီးအကဲများ တက်ရောက်ကြသည်',\n",
              " 'ညစာစားပွဲ သံအမတ်ကြီး နှင့် ၎င်းတို့၏ ဇနီး ကုလသမဂ္ဂ အဖွဲ့အစည်းများ ဌာနေ ကိုယ်စားလှယ်များ နှင့် ၎င်းတို့၏ ဇနီး တက်ရောက်ကြသည်',\n",
              " 'လွတ်လပ်ရေးနေ့ အထိမ်းအမှတ် ညစာစားပွဲ မီးရှူးမီးပန်းများ ဖြင့် ပစ်ဖောက်ကြသည်',\n",
              " 'မြန်မာ့ အသံ ခေတ်ပေါ် တေးဂီတအဖွဲ့ အစီအစဉ်များ ဖြင့် ဧည့်ခံ ဖျော်ဖြေ တင်ဆက်ကြသည်',\n",
              " 'မြောက် လွတ်လပ်ရေးနေ့ နိုင်ငံတော် အလံ အခမ်းအနားကို နေပြည်တော် ကျင်းပသည်',\n",
              " 'မြောက် လွတ်လပ်ရေးနေ့ နိုင်ငံတော် အလံ အခမ်းအနား နှင့် နိုင်ငံတော် အလံ အလေးပြုပွဲ အခမ်းအနားကို မနေ့က နံနက်ပိုင်းတွင် နေပြည်တော်ရှိ မြို့တော်ခန်းမ ကျင်းပရာ ပြည်သူလူထု စုစုပေါင်း အင်အား တက်ရောက်ကြသည်',\n",
              " 'အခမ်းအနားကို အမျိုးသားရေး ဦးတည်ချက် နှင့်အညီ ကျင်းပခဲ့သည် ပြည်ထောင်စု ငြိမ်းချမ်းရေး ညီလာခံ ရာစု ပင်လုံ တွေ့ဆုံ ညှိနှိုင်းမှုများ လာမည့် ဘုံ သဘောတူညီချက် တစ်ခု အသုံးပြုခြင်း ဖြင့် အနာဂတ်တွင် စစ်မှန် သည့် ပြည်ထောင်စုကြီး တည်ဆောက် သွားနိုင် ပြည်ထောင်စု မပြိုကွဲ တိုင်းရင်းသား စည်းလုံးညီညွတ်မှု မပြိုကွဲ နှင့် အချုပ်အခြာအာဏာ တည်တံ့ ခိုင်မြဲ ရေးတို့ တိုင်းရင်းသားအားလုံး စုစည်း ထိန်းသိမ်း ကာကွယ် ဒီမိုကရေစီ ဖက်ဒရယ် ပြည်ထောင်စု ဖြစ်ပေါ်ရေး ဒီမိုကရေစီ စံချိန်စံညွှန်း နှင့်အညီနိုင်ငံတော် နှင့် သင့်လျော် သည့် ဖွဲ့စည်းပုံ အခြေခံဥပဒေ တစ်ရပ် ပေါ်ပေါက် ကြိုးပမ်းဆောင်ရွက် နိုင်ငံတော် စီးပွားရေး မူဝါဒ မျှော်မှန်းချက် နှင့်အညီ တိုင်းဒေသကြီး နှင့် ပြည်နယ်များ အကြား ဘက်ညီ မျှတ ဖွံ့ဖြိုးတိုးတက် စေမည့် စီးပွားရေး အခြေအနေကောင်းများ ရရှိရန် ကြိုးပမ်းဆောင်ရွက်',\n",
              " 'နံနက် နာရီ မိနစ် အလံ ခဲ့ကြသည် ထို့နောက်ဝန်ကြီးဌာန အသီးသီး ဌာန ဆိုင်ရာဝန်ထမ်း ပုဗ္ဗသီရိ တပ်နယ် အရာရှိ စစ်သည်များ ကြက်ခြေနီ မီးသတ် တပ်ဖွဲ့ဝင်များ နှင့် ဒေသခံ တိုင်းရင်းသား ပြည်သူများ မြို့တော်ခန်းမ ရင်ပြင် နံနက် နာရီ ရောက်ရှိသည်',\n",
              " 'နံနက် နာရီ မိနစ် လွတ်လပ်ရေးနေ့ နိုင်ငံတော် အလံ အလေးပြုပွဲ အခမ်းအနားတွင် ကျင်းပသည်',\n",
              " 'မြောက် လွတ်လပ်ရေးနေ့ ကျင်းပရေး ဗဟို ကော်မတီ ဥက္ကဋ္ဌ ပြည်ထောင်စု သမ္မတ မြန်မာ နိုင်ငံတော် ဒုတိယသမ္မတ ဦးမြင့်ဆွေ အလေးပြု စင်မြင့် ဂုဏ်ပြု တပ်ဖွဲ့ အလေးပြု ခံယူသည်',\n",
              " 'ယင်းနောက် ဒုတိယသမ္မတ ဂုဏ်ပြု တပ်ဖွဲ့ ပြည်သူလူထု နှင့်အတူ ပြည်ထောင်စု သမ္မတ မြန်မာ နိုင်ငံတော် အလံ အလေးပြု ကြရာ ဂုဏ်ပြု တပ်ဖွဲ့ တီးဝိုင်း နိုင်ငံတော် သီချင်း တီးမှုတ်သည်',\n",
              " 'ဆက်လက်၍ ဂုဏ်ပြု တပ်ဖွဲ့ ကျဆုံး လေ ခေါင်းဆောင်ကြီး နှင့် ရဲဘော် အပေါင်း အလေးပြု သစ္စာ ရွတ်ဆိုသည်',\n",
              " 'နိုင်ငံတော်သမ္မတ ဦးထင်ကျော်ထံ ခုနှစ် မြောက် လွတ်လပ်ရေးနေ့ အခမ်းအနားသို့ ပေးပို့ သည့် သဝဏ်လွှာ ဒုတိယသမ္မတ ဦးမြင့်ဆွေ ဖတ်ကြားသည်',\n",
              " 'နှစ်သစ် မင်္ဂဂလာ အခါသမယ နိုင်ငံသူ နိုင်ငံသား တိုင်းရင်းသား ညီအစ်ကို မောင်နှမ ကိုယ်စိတ် ဖြာ ကျန်းမာ ချမ်းသာ ကြပါစေ ဆုမွန်ကောင်း တောင်း လိုက်ပါတယ်',\n",
              " 'နိုင်ငံတော် အစိုးရအနေနဲ့ ခုနှစ်အတွင်း တာဝန်ယူခဲ့ လတာ ကာလတစ်လျှောက် တိုင်းပြည် အကျိုး ရည်ရွယ် ချမှတ်ထားတဲ့ မူဝါဒများ ဖြစ်တဲ့ ပြည်တွင်း ငြိမ်းချမ်းရေး အမျိုးသား ပြန်လည် သင့်မြတ်ရေး ဒီမိုကရေစီ နှင့် ဖက်ဒရယ်စနစ်ကို အခြေခံ သည့် ပြည်ထောင်စု ဖြစ်ပေါ်ရေး ပြည်သူတို့ လူနေမှုဘဝ တိုးတက်မြင့်မားရေး တစ်စိုက်မတ်မတ် ကြိုးပမ်းဆောင်ရွက် ခဲ့ပါတယ်',\n",
              " 'အခါမှာတော့ ဖော်ပြခဲ့ မူဝါဒများ အောင်မြင်ရေး အခြေခံ အနေအထား ပျိုးထောင် တည်ဆောက် နိုင်ခဲ့ပြီ',\n",
              " 'လာမယ့် ခုနှစ် နှစ်သစ် အတွင်းမှာ ဒီမူဝါဒ ပီပြင် အကောင်အထည် ပေါ်လာဖို့ ဆက်လက် ကြိုးပမ်းဆောင်ရွက်',\n",
              " 'သမိုင်းကြောင်းကို ပြန်ပြောင်း ကြည့် ဆိုရင် နိုင်ငံသူ နိုင်ငံသား စည်းလုံးညီညွတ် ဝိုင်းဝန်း ဆောင်ရွက်ကြ အခါတိုင်း တိုင်းပြည် ကြီးမားတဲ့ အကျိုးကျေးဇူး ခံစားရ စမြဲ ဆိုတာ တွေ့ရှိကြ ရမှာ ထင်ရှား သာဓက တစ်ခု ခုနှစ် ပင်လုံ စာချုပ် ချုပ်ဆိုနိုင် ခဲ့ပါတယ်',\n",
              " 'ညီညွတ်မှု ရလဒ် မြန်မာ့ လွတ်လပ်ရေး ရရှိနိုင် ခဲ့တာ',\n",
              " 'အခါမှာ ရာစု ပင်လုံ ညီလာခံ အစပြုပြီး တိုင်းရင်းသား ပြည်သူအများ လိုလား တောင့်တ ဒီမိုကရေစီ ဖက်ဒရယ် ပြည်ထောင်စု တည်ဆောက် နိုင်ဖို့ ကြိုးပမ်း ဆောင်ရွက်လျက် အများ အသိ',\n",
              " 'ဒီမိုကရေစီ နိုင်ငံ ဒီမိုကရေစီစနစ် တည်ဆောက်ခြင်း အများပြည်သူတို့ ပူးပေါင်းပါဝင် ဖြင့်သာ အောင်မြင် နိုင်တာ',\n",
              " 'ဒီမိုကရေစီစနစ် ကျင့်သုံး ဖက်ဒရယ် ပြည်ထောင်စုကြီး တည်ဆောက် ရာမှာ နိုင်ငံသူ နိုင်ငံသား အားလုံးတို့ ဒီမိုကရေစီ စိတ်ဓာတ် ပြည့်ဝ တက်ညီ လက်ညီ ပူးပေါင်းပါဝင် ဆောင်ရွက်ကြ တိုက်တွန်း နှိုးဆော် လိုပါတယ်',\n",
              " 'နိုင်ငံသူ နိုင်ငံသား တိုင်းရင်းသား ညီအစ်ကို မောင်နှမ နှစ်သစ် ကိုယ်စိတ် ဖြာ ကျန်းမာ ချမ်းသာပါစေ',\n",
              " 'ကောင်းကျိုး လိုရာ ဆန္ဒ ပြည့်ဝ နိုင်ကြပါစေ',\n",
              " 'ပြည်ထောင်စု သမ္မတ မြန်မာ နိုင်ငံတော် မှီတင်း နေထိုင်ကြသော ပြည်ထောင်စုဖွား တိုင်းရင်းသား ညီအစ်ကို မောင်နှမ ခုနှစ် နှစ်သစ် အခါသမယ ကျန်းမာ ချမ်းသာ မင်္ဂဂလာ အပေါင်း နှင့် ပြည့်စုံ ပါစေ ဆုမွန်ကောင်း တောင်း နှုတ်ခွန်း ဆက်သအပ်ပါတယ်',\n",
              " 'တိုင်းရင်းသားပြည်သူ ရပ်လုံး မျှော်လင့် တောင့်တနေတဲ့ ငြိမ်းချမ်းရေး အမြန်ဆုံး ငြိမ်းချမ်းရေး နှင့်အမျှ ပြည်ထောင်စု သမ္မတ မြန်မာ နိုင်ငံတော်ကြီး အဖက်ဖက် လျင်မြန်စွာ ဖွံ့ဖြိုးတိုးတက် အသီးအပွင့် တိုင်းရင်းသားပြည်သူ မျှမျှတတ ခံစားရ ပါစေ ဆုတောင်းမေတ္တာပို့သ အပ်ပါသည်',\n",
              " 'ခုနှစ် နှစ်သစ် အခါသမယ ပြည်ထောင်စု သမ္မတ မြန်မာ နိုင်ငံတော် နှင့်တကွ နိုင်ငံသူ နိုင်ငံသား တိုင်းရင်းသားပြည်သူ ရွှင်လန်းဝမ်းမြောက် ကြပါစေ ဦးစွာ ပထမ နှုတ်ခွန်း ဆက်သအပ်ပါတယ်',\n",
              " 'နှစ်သစ် နိုင်ငံတော် ဖွံ့ဖြိုးတိုးတက်ရေး အလားအလာ ကောင်းတွေ သယ်ဆောင်လာ လိမ့်မယ်',\n",
              " 'စိန်ခေါ်မှု အသစ်တွေ ကိုလည်း မျှော်လင့် ရမယ်',\n",
              " 'တည်ငြိမ်အေးချမ်း ဖွံ့ဖြိုးတိုးတက်ရေး အဓိက လိုအပ်ချက် ဖြစ်တာ နဲ့အညီ နိုင်ငံ တစ်ဝန်းလုံး တည်ငြိမ်အေးချမ်း ပြည်သူ စည်းလုံးညီညွတ်မှု ဖြင့် ဝိုင်းဝန်း တည်ဆောက် ကြဖို့ ဒီမိုကရေစီ ဖက်ဒရယ် နိုင်ငံတော်ကြီး တည်ဆောက် ကူညီ ကြဖို့ နှိုးဆော် အပ်ပါတယ်',\n",
              " 'နှစ်သစ် မင်္ဂဂလာ အခါသမယ ပြည်သူအပေါင်း ကိုယ်စိတ် ဖြာ ကျန်းမာ ချမ်းသာ ကြပါစေ ပြည်ထောင်စု သမ္မတ မြန်မာ နိုင်ငံတော်ကြီး ဖွံ့ဖြိုးတိုးတက် သာယာဝပြော ပါစေ ဆုတောင်းမေတ္တာပို့သ အပ်ပါတယ်',\n",
              " 'ပြည်ထောင်စု သမ္မတ မြန်မာ နိုင်ငံတော် မြောက် လွတ်လပ်ရေးနေ့ ဖြစ်သော ဤ နေ့ထူးနေ့မြတ် အခါသမယ ပြည်ထောင်စု သမ္မတ မြန်မာ နိုင်ငံတော် မှီတင်း နေထိုင်ကြသော တိုင်းရင်းသား ညီအစ်ကို မောင်နှမ ပြည်ထောင်စုသား ကောင်းကျိုး ချမ်းသာ မင်္ဂဂလာ အပေါင်း နှင့် ပြည့်စုံ ကြပါစေ ဆုမွန်ကောင်း တောင်း နှုတ်ခွန်း ဆက်သအပ်ပါသည်',\n",
              " 'တိုင်းရင်းသား ညီအစ်ကို မောင်နှမ သွေးစည်း ချစ်ကြည် စုပေါင်း နေထိုင်ကြသော သမိုင်းကြောင်း အစဉ်အလာ ရှိသည့် ကျွန်ုပ်တို့ မြန်မာ နိုင်ငံတော် ရှေးပဝေသဏီ ကပင် ကိုယ့်ထီးကိုယ့်နန်း ဖြင့် ကမ္ဘာ့ အလယ် င့်ထည် ရပ်တည် နိုင်ငံ',\n",
              " 'ခုနှစ် ဇန်နဝါရီလ ရက်နေ့တွင် မြန်မာနိုင်ငံ လွတ်လပ်ရေး နှင့် အချုပ်အခြာအာဏာ ပြန်ရရှိခဲ့သည်',\n",
              " 'ယနေ့ ဆိုလျှင် မြန်မာ နိုင်ငံတော် လွတ်လပ်ရေး ရရှိခဲ့သည် ပြည့် မြောက် ခဲ့ပေပြီ',\n",
              " 'ယနေ့ အချိန်အခါ သံသယ နှင့် ပဋိပက္ခများ ကင်းစင် ပပျောက် ရေရှည်တည်တံ့ သည့် စစ်မှန်သော ထာဝရ ငြိမ်းချမ်းရေး ရရှိရန် နှင့် ဒီမိုကရေစီ ဖက်ဒရယ် ပြည်ထောင်စု တည်ဆောက် တိုင်းရင်းသား ညီအစ်ကို မောင်နှမ နည်းလမ်း ပေါင်းစုံ ဖြင့် ကြိုးပမ်းဆောင်ရွက် လျက်ရှိပါသည်',\n",
              " 'အမျိုးသား ပြန်လည် သင့်မြတ်ရေး နှင့် ပြည်ထောင်စု ငြိမ်းချမ်းရေး လုပ်ငန်းစဉ် နိုင်ငံတော် အစိုးရက ပြည်ထောင်စု ငြိမ်းချမ်းရေး ညီလာခံ ရာစု ပင်လုံ ကျင်းပခြင်း ဖြင့် ကြိုးပမ်းဆောင်ရွက် လျက်ရှိပါသည်',\n",
              " 'ထို့ကြောင့် အမျိုးသား ပြန်လည် သင့်မြတ်ရေး နှင့် ပြည်ထောင်စု ငြိမ်းချမ်းရေး စုပေါင်း တွေ့ဆုံ စုပေါင်း ဆွေးနွေး စုပေါင်း အဖြေရှာ မည့် ပြည်ထောင်စု ငြိမ်းချမ်းရေး ညီလာခံ ရာစု ပင်လုံ တိုင်းရင်းသားပြည်သူ မျက်မှောက်ပြု အရေးကြီး လှပေသည်',\n",
              " 'နိုင်ငံတော်သမ္မတ နှင့် ဇနီး ခရစ်တော် မွေးနေ့ဝတ်ပြု ဆုတောင်း နှစ်သစ် ကြိုဆို နှင့် ခရစ္စမတ် အထိမ်းအမှတ် မိတ်ဆုံစားပွဲ တက်ရောက်သည်',\n",
              " 'ဒုတိယသမ္မတ ဦးဟန်နရီဗန်ထီးယူ နှင့် ဇနီးတို့ ဦးဆောင်ကျင်းပ ခရစ်တော် မွေးနေ့ဝတ်ပြု ဆုတောင်း နှစ်သစ် ကြိုဆို နှင့် ခရစ္စမတ် အထိမ်းအမှတ် မိတ်ဆုံစားပွဲ မနေ့က တတ်ရောက်သည်',\n",
              " 'ဘရာဇီး ဆောဒီအာရေဗျ ဘုရင့် နိုင်ငံ သံအမတ်ကြီး နိုင်ငံတော်သမ္မတ ခန့်အပ်လွှာ ပေးအပ်သည်',\n",
              " 'ပြည်ထောင်စု သမ္မတ မြန်မာ နိုင်ငံတော် နိုင်ငံတော်သမ္မတ ဦးထင်ကျော်ထံ မြန်မာနိုင်ငံ ဘရာဇီး နိုင်ငံ သံအမတ်ကြီး ခန့်အပ် သဘောတူညီ ဖြစ်သော မစ္စတာ အန်တိုနီယို ဆေး မာရီယာ ဒီဆိုဇာအီဆစ်လ်ဗာ မနေ့က နံနက် နာရီ နိုင်ငံတော်သမ္မတ အိမ်တော် ၎င်း၏ သံအမတ် ခန့်အပ်လွှာ ပေးအပ်သည်',\n",
              " 'နိုင်ငံတော်သမ္မတ ဦးထင်ကျော်ထံ မြန်မာနိုင်ငံ ဆော်ဒီအာရေဗျ ဘုရင့် နိုင်ငံ သံအမတ်ကြီး ခန့်အပ် သဘောတူညီ ဖြစ်သော မစ္စတာ ဆာဟဲလဲမူစတာဖာ အာမက် အာဂျီစပ် မနေ့က နံနက် နာရီ မိနစ် ၎င်း၏ သံအမတ် ခန့်အပ်လွှာ ပေးအပ်ခဲ့သည်',\n",
              " 'သံအမတ် ခန့်အပ်လွှာ ပေးအပ်ပွဲ နိုင်ငံခြားရေး ဝန်ကြီးဌာန ဒုတိယဝန်ကြီး ဦးကျော်တင် နှင့် သံတမန်ရေးရာ ဝန်ကြီးဌာန ညွန်ကြားရေးမှူးချုပ် ကိုကိုနိုင်တို့ တက်ရောက်ကြသည်',\n",
              " 'ခရစ်တော် မွေးနေ့ဝတ်ပြု ဆုတောင်း နှင့် ခရစ္စမတ် အထိမ်းအမှတ် မိတ်ဆုံစားပွဲ အခမ်းအနားကို မနေ့က မနက်က အမျိုးသားလွှတ်တော် ဥက္ကဋ္ဌ နေအိမ်၌ ကျင်းပရာ နိုင်ငံတော်သမ္မတ ဦးထင်ကျော် နှင့် ဇနီး ဒေါ်စုစုလွင်တို့ တက်ရောက်ကြသည်',\n",
              " 'နိုင်ငံတော်သမ္မတ နှင့် ဇနီးတို့ အမျိုးသားလွှတ်တော် ဥက္ကဋ္ဌ မန်းဝင်းခိုင်သန်း နှင့် ဇနီး ဒေါ် နန့်ကြင်ကြည်တို့ မိသားစုက ကြိုဆို နှုတ်ဆက် ခရစ္စမတ် ဆုမွန်ကောင်း တောင်းပေးကြသည်',\n",
              " 'ဥက္ကဋ္ဌ နှင့် ဇနီးတို့ ဧည့်သည်တော် ကိုလည်း ကြိုဆို နှုတ်ဆက် ဆုမွန်ကောင်း တောင်းပေးကြသည်',\n",
              " 'ယင်းနောက် နိုင်ငံတော်သမ္မတ နှင့် ဇနီးတို့ အခမ်းအနားသို့ တက်ရောက် လာကြသူ နှင့်အတူ ခရစ္စမတ် အထိမ်းအမှတ် မိတ်ဆုံစားပွဲ သုံးဆောင်သည်',\n",
              " 'စုပေါင်း ဓာတ်ပုံ မရိုက် ခရစ္စမတ် ဆုမွန်ကောင်း တောင်းကြသည်',\n",
              " 'နိုင်ငံတော်သမ္မတ ဦးထင်ကျော် နှင့် ဇနီး ဖျော်ဖြေပွဲ တက်ရောက် အားပေးသည်',\n",
              " 'ဖျော်ဖြေ တင်ဆက်မှု အပြီးတွင် နိုင်ငံတော်သမ္မတ ဂျပန် ဂီတပညာရှင် အမှတ်တရ ပန်းစည်း ပေးအပ်သည်',\n",
              " 'ထို့နောက် ပြန်ကြားရေး ဝန်ကြီးဌာန ပြည်ထောင်စုဝန်ကြီး ဒေါက်တာ ဖေမြင့် မြန်မာ နှင့် ဂျပန် နိုင်ငံ အဆိုရှင် အမှတ်တရ ပန်းခြင်း နှင့် ပန်းစည်း ပေးအပ်ကြသည်',\n",
              " 'ယင်းနောက် နိုင်ငံတော်သမ္မတ ဇနီး နှင့် ဧည့်ပရိသတ် ဂီတပညာရှင် အဆိုပညာရှင် နှင့်အတူ စုပေါင်း မှတ်တမ်းတင် ဓာတ်ပုံရိုက်',\n",
              " 'ဖျော်ဖြေပွဲ ဒီဇင်ဘာ ရက်က ရန်ကုန်မြို့ အမျိုးသား ဇာတ်ရုံတွင် ဖျော်ဖြေ တင်ဆက်ခဲ့သည်',\n",
              " 'နိုင်ငံတော်သမ္မတ နှင့် မိသားစုတို့ ခဝဲခြံ မျက်မမြင် ကျောင်း မှဝန်ထမ်း နှင့် ကျောင်းသား ခရစ်တော်မွေးနေ့အကြို ဓမ္မတေးသီချင်း ဖြင့် ဖျော်ဖြေ မေတ္တာပို့ ဆုတောင်း ကောင်းချီးပေးသည်',\n",
              " 'ပြည်ထောင်စု သမ္မတ မြန်မာ နိုင်ငံတော် နိုင်ငံတော်သမ္မတ ဦးထင်ကျော် ဇနီး ဒေါ်စုစုလွင် နှင့် မိသားစုတို့ မြန်မာနိုင်ငံ ခရစ်ယာန် မျက်မမြင် မိတ်သဟာယ ရန်ကုန် ခဝဲခြံ မျက်မမြင် ကျောင်း မှဝန်ထမ်း နှင့် ကျောင်းသား ကျောင်းသူများ ယနေ့ နာရီ နေပြည်တော်ရှိ နိုင်ငံတော်သမ္မတ အိမ်တော် ခရစ်တော်မွေးနေ့အကြို ဆုတောင်း ကောင်းချီး ပေးကြသည်',\n",
              " 'ထို့နောက် ဓမ္မ ဆရာ မောင်မောင်လှ ပြည်ထောင်စု သမ္မတ မြန်မာ နိုင်ငံတော် နှင့် နိုင်ငံတော် သမ္မတတို့ မေတ္တာပို့ ဆုတောင်း ကောင်းချီးပေးသည်',\n",
              " 'ထို့နောက် နိုင်ငံတော်သမ္မတ ဇနီး နှင့် မိသားစုတို့ စားသောက်ဖွယ်ရာ ဖြင့် ဧည့်ခံခဲ့သည်',\n",
              " 'နိုင်ငံတော်သမ္မတ ဦးထင်ကျော် နှင့် ဇနီး ခရစ္စမတ် ပွဲတော် နှင့် ကျေးဇူးတော် ချီးမွမ်း အခမ်းအနားသို့ တက်ရောက်သည်',\n",
              " 'ခရစ္စမတ် ပွဲတော် နှင့် ကျေးဇူးတော် ချီးမွမ်း အခမ်းအနားကို ယနေ့ နာရီ ဒုတိယသမ္မတ ဦးဟင်နရီဗန်ထီးယူ နေအိမ်၌ ကျင်းပသည်',\n",
              " 'အခမ်းအနားတွင် သိက္ခာတော် ဆရာတော် ဓမ္မ ဂုဏ်တော် ချီးမွမ်း ဆုတောင်းမေတ္တာပို့သ',\n",
              " 'ထို့နောက် နိုင်ငံတော်သမ္မတ ဦးထင်ကျော် ခရစ္စမတ် နှုတ်ခွန်းဆက် စကား ပြောကြားသည်',\n",
              " 'ယင်းနောက် နှင့် တေးသီချင်း ဖြင့် ဘုရားသခင် ဂုဏ်တော် ချီးမွမ်း သီဆိုကြသည်',\n",
              " 'ထို့နောက် နိုင်ငံတော် အတိုင်ပင်ခံ ပုဂ္ဂိုလ် ထံမှ ပေးပို့ သည့် ခရစ္စမတ် နှုတ်ခွန်း ဆက်သ ဏ်လွှာ ပြည်ထောင်စုဝန်ကြီး ဦးကျော်တင့်ဆွေ ဖတ်ကြားသည်',\n",
              " 'ယင်းနောက် ဒုတိယသမ္မတ ဦးဟင်နရီဗန်ထီးယူ ခရစ္စမတ် နှုတ်ခွန်းဆက် စကား ပြောကြားသည်',\n",
              " 'အဲဒီအချိန် စပြီး အမျိုးသားရေး စိတ်ဓာတ် ဖော်ကျူး ပြသ စည်းလုံးညီညွတ်မှု ပြယုဂ် ဖြစ်တဲ့ အမျိုးသားနေ့ ကျင်းပ ကြတယ်',\n",
              " 'ဆိုလျှင် ရာပြည့် အကြို တိုင် ခဲ့ပြီ',\n",
              " 'ရာစုနှစ် တစ်စု နီးပါး ခဲ့ပြီ',\n",
              " 'သိက္ခာတော် ဆရာတော် စိုင်း ကျော်တင့် ခရစ္စမတ် ဒေသနာတော် ဟောကြားသည်',\n",
              " 'ဒေါက်တာ အောင်မန်း ပြည်ထောင်စု သမ္မတ မြန်မာ နိုင်ငံတော် နှင့် နိုင်ငံသူ နိုင်ငံသားများ မေတ္တာပို့ ဆုတောင်းသည်',\n",
              " 'ယင်းနောက် နိုင်ငံတော်သမ္မတ နှင့် အခမ်းအနားသို့ တက်ရောက် လာကြသူ ခရစ်တော်မွေးနေ့ မိတ်သဟာယညစာ အတူတကွ သုံးဆောင်ကြသည် အခမ်းအနားသို့ နိုင်ငံတော်သမ္မတ ဦးထင်ကျော် နှင့် ဇနီး ဒေါ်စုစုလွင် ဒုတိယသမ္မတ ဦးမြင့်ဆွေ နှင့် ဇနီး ဒေါ်ခင်သက်ဌေး ဒုတိယသမ္မတ ဦးဟင်နရီဗန်ထီးယူ နှင့် ဇနီး ဒေါက်တာ ရွှေလွှမ်းတို့ တက်ရောက်ကြသည်',\n",
              " 'အခမ်းအနားသို့ ပြည်သူ့လွှတ်တော် ဥက္ကဋ္ဌ ဦးဝင်းမြင့် နှင့် ဇနီး ဒေါ်ချိုချို အမျိုးသားလွှတ်တော် ဥက္ကဋ္ဌ မန်းဝင်းခိုင်သန်း နှင့် ဇနီး ဒေါ် နန့်ကြင်ကြည်တို့ တက်ရောက်ကြသည်',\n",
              " 'အခမ်းအနားသို့ နိုင်ငံတော် ဖွဲ့စည်းပုံ အခြေခံဥပဒေ ခုံရုံး ဥက္ကဋ္ဌ ဦးမျိုးညွန့် နှင့် ဇနီး ဒေါ်ဌေးရီ ပြည်ထောင်စု ရွေးကောက်ပွဲ ကော်မရှင် ဥက္ကဋ္ဌ လှသိန်း ပြည်သူ့လွှတ်တော် ဒုတိယဥက္ကဋ္ဌ တီခွန်မြတ် နှင့် ဇနီး အမျိုးသားလွှတ်တော် ဒုတိယဥက္ကဋ္ဌ အေးသာအောင် နှင့် ဇနီးတို့ တက်ရောက်ကြသည်',\n",
              " 'အခမ်းအနားသို့ ပြည်ထောင်စုဝန်ကြီး ဒုတိယဝန်ကြီး နှင့် ဖိတ်ကြား ထားသည့် ဧည့်သည်တော် တက်ရောက်ကြသည်',\n",
              " 'ရန်ကုန်တက္ကသိုလ် မြန်မာစာ ဌာန စိန်ရတု သဘင် ဖွင့်ပွဲ အခမ်းအနားသို့ နိုင်ငံတော်သမ္မတ ဦးထင်ကျော် တက်ရောက်သည်',\n",
              " 'ရန်ကုန်တက္ကသိုလ် မြန်မာစာ ဌာန ပြည့် အထိမ်းအမှတ် စိန်ရတု သဘင် ဖွင့်ပွဲ အခမ်းအနားတွင် နိုင်ငံတော်သမ္မတ ဦးထင်ကျော် အမှာစကား ပြောကြားသည်',\n",
              " 'သမ္မတ ဦးထင်ကျော် နိုင်ငံ နိုင်ငံ ကိုယ်ပိုင် ဘာသာ နှင့် စာပေ ဆက်တိုက် တိုးတတ် ထမ်းဆောင် လွန်ခဲ့သော နှစ်ကြာ မြန်မာ ဘာသာစကား တိုးတတ် ဌာန ကြိုးပမ်းအားထုတ်မှု တန်ဖိုးထား',\n",
              " 'တစ်နိုင်ငံလုံး ကျွန်ုပ်တို့၏ ကိုယ်ပိုင် ဘာသာ နှင့် စာပေ အဆက်အပြတ် တိုးတတ် နှင့် ဆောင်ရွက် လိုအပ်ပါသည်',\n",
              " 'ကျွန်ုပ် ကလည်း မြန်မာဘာသာ နှင့် စာပေ ဖွံဖြိုး တိုးတတ် နှင့်အတူ တိုင်းပြည် မြန်မာဘာသာ နှင့် စာပေ တန်ဖိုး မြှင့်တင် ပေးနိုင်တဲ့ ထူးချွန်သော ကျောင်းသားများ ပေါ်ပေါက် စေဖို့ ဆုမွန်ကောင်း တောင်း သမ္မတ',\n",
              " 'ဆက်လက်၍ အငြိမ်းစား ဌာနမှူး ပါမောက္ခ ဒေါက်တာ ခင်အေး နှင့် ရန်ကုန်တက္ကသိုလ် ပါမောက္ခချုပ် ဒေါက်တာ ဖိုးကောင်း ကြိုဆို နှုတ်ခွန်းဆက် စကား ပြောကြားသည်',\n",
              " 'ဆရာ ဦးဖေမောင်တင် ကြိုးပမ်းမှု ကြောင့် ဦးဧမောင် ရန်ကုန်တက္ကသိုလ် မြန်မာစာ ဌာန ပထမဆုံး ဌာနမှူး ဖြစ်လာခဲ့သည်',\n",
              " 'မြန်မာစာ သင်ကြားရေး နှင့် မြန်မာစာပေ ဖွံ့ဖြိုးတိုးတက်ရေး ကြိုးပမ်းခဲ့ ဆရာကြီး ဦးဝန် မင်းသုဝဏ် နောက်မှ လိုက်သည်',\n",
              " 'ထို့နောက် ပါမောက္ခ မောင်မောင်ကြီး တင်ဧ မြင့်ကြည် ဒေါ် သန်းဆွေ နှင့် ဆရာကြီး ဆရာမကြီး မြန်မာစာ ဌာန ဆက်လက် ဦးဆောင် ရှေ့ရွက် ခဲ့ကြပါသည်',\n",
              " 'ရန်ကုန်တက္ကသိုလ် မြန်မာစာ ဌာန ခုနှစ်တွင် စတင်တည်ထောင်ခဲ့',\n",
              " 'ခုနှစ်တွင် မြောက် စိန်ရတု အခါသမယ လာခဲ့ပြီ ဖြစ်ပါသည်',\n",
              " 'သံဃာတော် ပါး ဆွမ်း ဆက်ကပ် လှူဒါန်း ပါဝင်မည်',\n",
              " 'စာပေ ပညာရှင်များ စာတမ်း ဖတ်ပွဲ ကျင်းပခြင်း ပါဝင်မည်',\n",
              " 'မြန်မာစာ ဌာန စိန်ရတု ပြခန်း ခင်းကျင်း ပြသ ပါဝင်မည်',\n",
              " 'မြန်မာစာပေစာအုပ် ဈေးရောင်းပွဲ ကျင်းပခြင်း ပါဝင်မည်',\n",
              " 'မိတ်ဆုံ ညစာစားပွဲ နှင့် မြန်မာစာ ကျောင်းသား ဟောင်း အနုပညာရှင်များ နှင့် မျိုးဆက်သစ် ကျောင်းသူကျောင်းသား ဧည့်ခံ ဖျော်ဖြေပွဲ ကျင်းပခြင်း ပါဝင်မည် ဖွင့်ပွဲ အခမ်းအနားသို့ တပ်မတော် ကာကွယ်ရေးဦးစီးချုပ် ဗိုလ်ချုပ်မှူးကြီး မင်းအောင်လှိုင် ဇနီး ဒေါ်ကြူကြူလှ ပညာရေး ဝန်ကြီးဌာန ပြည်ထောင်စုဝန်ကြီး ဒေါက်တာ မျိုးသိမ်းကြီးတို့ တတ်ရောက်သည် ဖွင့်ပွဲ အခမ်းအနားသို့ ရန်ကုန် မြို့တော်ဝန် ဦးမောင်မောင်စိုး ဌာနဆိုင်ရာ အကြီးအကဲများ အမျိုးသား ပညာရေး မူဝါဒ ကော်မရှင် မြန်မာနိုင်ငံ ဝိဇ္ဇာ နှင့် သိပ္ပံပညာရှင် အဖွဲ့ နှင့် အမျိုးသား သင်ရိုးညွှန်းတမ်း ကော်မတီတို့ ဥက္ကဋ္ဌ တက်ရောက်ကြသည်',\n",
              " 'နိုင်ငံတော်သမ္မတ ဇနီး နှင့် မိသားစုတို့ ပြည်ထောင်စုလွှတ်တော် ကိုယ်စားလှယ်များ ခရစ်တော်မွေးနေ့အကြို မေတ္တာပို့ ဆုတောင်း ကောင်းချီးပေးသည်',\n",
              " 'ပြည်ထောင်စု သမ္မတ မြန်မာ နိုင်ငံတော် နိုင်ငံတော်သမ္မတ ဦးထင်ကျော် ဇနီး ဒေါ်စုစုလွင် နှင့် မိသားစုတို့ တိုင်းရင်းသား လူမျိုးပေါင်းစုံ ပါဝင်သည့် ပြည်ထောင်စုလွှတ်တော် ကိုယ်စားလှယ်များ မိသားစု အဖွဲ့ တနင်္လာနေ့ နာရီခွဲတွင် နေပြည်တော်ရှိ နိုင်ငံတော်သမ္မတ အိမ်တော် ခရစ်တော်မွေးနေ့အကြို ဆုတောင်း ကောင်းချီး ပေးကြသည်',\n",
              " 'ဆုတောင်းပွဲ တိုင်းရင်းသား လူမျိုးပေါင်းစုံ ပါဝင်သည့် ပြည်ထောင်စုလွှတ်တော် ကိုယ်စားလှယ်များ နှင့် သူတို့၏ မိသားစုများ နှုတ်ခွန်းဆက်သ',\n",
              " 'ထို့နောက် သူတို့ ခရစ္စမတ် လက်ဆောင် ပန်းခြင်း ပေးအပ် ဓမ္မတေးသီချင်း သီဆိုကြသည်',\n",
              " 'ယင်းနောက် ပဲခူး မဲဆန္ဒနယ် ပြည်သူ့လွှတ်တော် ကိုယ်စားလှယ် ဒေါက်တာ ဒေါ်ရွှေပုံ သမ္မာကျမ်းစာ ဖတ်ကြားသည်',\n",
              " 'ပလက်ဝ မဲဆန္ဒနယ် စိန်အောင် နိုင်ငံတော်သမ္မတ ဇနီး နှင့် မိသားစုတို့ မေတ္တာပို့ ဆုတောင်း ကောင်းချီးပေးသည်',\n",
              " 'ထို့နောက် ကိုယ်စားလှယ်များ ဓမ္မတေးသီချင်း သီဆို ပြည်ထောင်စု သမ္မတ မြန်မာ နိုင်ငံတော် နှင့် နိုင်ငံတော် သမ္မတတို့ မေတ္တာပို့ ဆုတောင်း ကောင်းချီး ပေးကြသည်',\n",
              " 'ယင်းနောက် နိုင်ငံတော်သမ္မတ ခရစ္စမတ် လက်ဆောင် ပြန်လည် ပေးအပ် စုပေါင်း ဓာတ်ပုံရိုက် ကြသည်',\n",
              " 'ဒုတိယသမ္မတ တပ်မတော် ကာကွယ်ရေးဦးစီးချုပ် အိန္ဒိယ သမ္မတနိုင်ငံ ပြန်လည် ရောက်ရှိသည်',\n",
              " 'သီပေါမင်း နတ်ပြည်စံသက် ပြည့် အလှူ အခမ်းအနားကို အိန္ဒိယ သမ္မတနိုင်ငံ ရတနာဂီရိ မြို့ ကျင်းပသည်',\n",
              " 'ဒုတိယသမ္မတ ဦးမြင့်ဆွေ တပ်မတော် ကာကွယ်ရေးဦးစီးချုပ် ဗိုလ်ချုပ်မှူးကြီး မင်းအောင်လှိုင် နှင့် အဖွဲ့ မနေ့က ရန်ကုန်မြို့ ပြန်လည် ရောက်ရှိကြသည်',\n",
              " 'ရန်ကုန်တိုင်းဒေသကြီး ဝန်ကြီးချုပ် ဦးဖြိုးမင်းသိန်း ညှိနှိုင်း ကွပ်ကဲရေးမှူး ကြည်းရေလေ ဗိုလ်ချုပ်ကြီး မြထွန်းဦး နှင့် ကာကွယ်ရေးဦးစီးချုပ် ရုံး တပ်မတော် အရာရှိကြီး ရန်ကုန် တိုင်းစစ်ဌာနချုပ် တိုင်းမှူး ရန်ကုန်တိုင်းဒေသကြီး စည်ပင်သာယာရေး ဝန်ကြီး မြန်မာနိုင်ငံ အိန္ဒိယ သမ္မတနိုင်ငံ သံအမတ်ကြီး စစ်သံမှူး နှင့် တာဝန်ရှိသူများက ရန်ကုန် အပြည်ပြည်ဆိုင်ရာ လေဆိပ် ကြိုဆို နှုတ်ဆက် ကြသည်',\n",
              " 'ပဲခူးတိုင်းဒေသကြီး ဟံသာဝတီ အပြည်ပြည်ဆိုင်ရာ လေဆိပ် တည်ဆောက် စီမံကိန်း အဆင့် ဆောင်ရွက်',\n",
              " 'ဟံသာဝတီ အပြည်ပြည်ဆိုင်ရာ လေဆိပ် တည်ဆောက် စီမံကိန်း ဦးဆောင် ကော်မတီ ပထမအကြိမ် အစည်းအဝေးကို မနေ့က နေပြည်တော်ရှိ ပို့ဆောင်ရေး နှင့် ဆက်သွယ်ရေး ဝန်ကြီးဌာန အစည်းအဝေး ခန်းမ၌ ကျင်းပသည်',\n",
              " 'အစည်းအဝေး ဦးဆောင် ကော်မတီ ဥက္ကဋ္ဌ ဒုတိယသမ္မတ ဦးဟင်နရီဗန်ထီးယူ ပရောဂျက် စနစ်တကျ အကောင်အထည်ဖော် ပွင့်လင်းမြင်သာ လိုအပ်ချက်များ အလေးပေး ဖော်ပြသည်',\n",
              " 'စီမံကိန်း အစိုးရသက်တမ်း အကောင်အထည်ဖော်မည် နိုင်ငံတော် အဆင့် စီမံကိန်း တစ်ခု ဖြစ်ပါသည် အတည်ပြုသည်',\n",
              " 'အပြည်ပြည်ဆိုင်ရာ လေဆိပ် ပြီးစီး နိုင်ငံတကာ လေကြောင်းလိုင်းများ အသုံးပြုရန် ဖြစ်လာမည်',\n",
              " 'ထို့ကြောင့် နိုင်ငံတော် အဆင့် စီမံကိန်း တစ်ခု အကောင်အထည်ဖော်မည်',\n",
              " 'ထို့ကြောင့် ပြည်သူလူထု သွားလာရေး လိုအပ်သည်ဟု ဒုသမ္မတ ပြောကြားသည်',\n",
              " 'လိုအပ်ချက် ဖြည့်စွက် ဟံသာဝတီ အပြည်ပြည်ဆိုင်ရာ လေဆိပ် စီမံကိန်း အကောင်အထည်ဖော် ခဲ့ပါသည်',\n",
              " 'မြန်မာနိုင်ငံ၏ စီးပွားရေး ဖွံ့ဖြိုး တိုးတက်စေရန် အထောက်အကူ ဖြစ်စေ မည့် အနာဂတ် မရှိမဖြစ် လိုအပ်သည့် လေဆိပ် တစ်ခု ဖြစ်ပါသည်',\n",
              " 'ခုနှစ်က တင်ဒါ ခေါ်ယူ ဆောင်ရွက်ခဲ့ သည့် အစိုးရ ပုဂ္ဂလိက ပူးပေါင်း ဆောင်ရွက်သည် ့ စနစ် အခြေခံ သည့် စီမံကိန်း ဖြစ်ပါသည် ပြောခဲ့သည်',\n",
              " 'ယင်းနောက် ပြည်ထောင်စုဝန်ကြီး သန့်စင်မောင် အပြည်ပြည်ဆိုင်ရာ လေဆိပ် တိုးချဲ့ ဖွင့်လှစ် နိုင်ရေး နှင့် သက်ဆိုင်ရာဝန်ကြီးဌာန နှင့် ပူးပေါင်း ညှိနှိုင်း ဆောင်ရွက်ခြင်း လိုအပ်ချက်များ ရှင်းလင်းတင်ပြသည်',\n",
              " 'ထို့ပြင် သန့်စင်မောင် နိုင်ငံတကာ အဆင့်မီ လေဆိပ် တစ်ခု ဖြစ်လာစေ ကြိုတင်ပြင်ဆင်မှု ရှင်းလင်းတင်ပြသည်',\n",
              " 'ဒုတိယသမ္မတ ဦးဟင်နရီဗန်ထီးယူ အပြည်ပြည်ဆိုင်ရာ ရွှေ့ပြောင်း သွားလာသူ အခမ်းအနားတွင် အမှာစကား ပြောကြားသည်',\n",
              " 'ဒုတိယသမ္မတ ဦးဟင်နရီဗန်ထီးယူ မနေ့က မနက်ပိုင်းတွင် အပြည်ပြည်ဆိုင်ရာ ကွန်ဗင်းရှင်း စင်တာ ခုနှစ် အပြည်ပြည်ဆိုင်ရာ ရွှေ့ပြောင်း သွားလာသူ မိန့်ခွန်း တစ်ခု ပေးပို့ခဲ့သည်',\n",
              " 'သူတို့ မြန်မာနိုင်ငံ အနေဖြင့် အမိုးအကာ စားနပ်ရိက္ခာ နှင့် ကျန်းမာရေး စောင့်ရှောက်မှု အစရှိ သည့် လူသားချင်း စာနာထောက်ထား ကူညီ ပံ့ပိုးမှုများ ဖြည့်ဆည်း ဆောင်ရွက် ပေးခဲ့သည်',\n",
              " 'သူတို့ သူတို့၏ မူရင်း နိုင်ငံများသို့ စနစ်တကျ ပြန်လည် ပို့ဆောင် ပေးနိုင် ခဲ့ပါသည်',\n",
              " 'ထို့နောက် ပြည်ထောင်စုဝန်ကြီး မလေးရှား နိုင်ငံ ထိန်းသိမ်းရေး စခန်း ဖမ်းဆီးထိန်းသိမ်း ခံရ သည့် မြန်မာနိုင်ငံသားများ ကူညီ ဆောင်ရွက် ပေးကြ သည့် အလှူရှင်များ နှင့် ပါဝင်ဆောင်ရွက် ခဲ့ကြ သည့် အဖွဲ့အစည်းများ ဂုဏ်ပြု မှတ်တမ်းလွှာ ပေးအပ်သည်',\n",
              " 'အခမ်းအနား အပြီးတွင် ဒုတိယသမ္မတ ဧည့်သည်တော် နှင့်အတူမှတ်တမ်းတင် ဓာတ်ပုံရိုက် ခဲ့သည်',\n",
              " 'ထို့နောက် သူတို့ ခင်းကျင်း ပြသ ထားသည့် ပြခန်း လှည့်လည် ကြည့်ရှုသည်',\n",
              " 'အခမ်းအနားသို့ ပြည်ထောင်စုဝန်ကြီး ဒုတိယ ဗိုလ်ချုပ်ကြီး စိန်ဝင်း ဒေါက်တာ မြင့်ထွေး တိုင်းဒေသကြီး နှင့် ပြည်နယ်ဝန်ကြီး လွှတ်တော် ကိုယ်စားလှယ်များ ကုလသမဂ္ဂ နှင့် နှင့် မီဒီယာများ တက်ရောက်ကြသည်',\n",
              " 'မြန်မာနိုင်ငံ ခုနှစ် နိုင်ငံ မြောက် အဖွဲ့ဝင်နိုင်ငံ ဝင်ရောက်ခဲ့သည်',\n",
              " 'နှစ်စဉ် အခမ်းအနား ကျင်းပခဲ့ ဆိုလျှင် ပဉ္စမ တိုင် ပြီဖြစ်သည်',\n",
              " 'အလုပ်သမား လူဝင်မှုကြီးကြပ်ရေး နှင့် ပြည်သူ့ အင်အားဝန်ကြီးဌာန ပြည်ထောင်စုဝန်ကြီး သိန်းဆွေ ရွှေ့ပြောင်း အလုပ်သမားများ ဆောင်ရွက်မှု အခြေအနေများကို ရှင်းလင်းပြောကြားသည်',\n",
              " 'ထို့နောက် ရွှေ့ပြောင်း သွားလာ နေထိုင်ခြင်း နိုင်ငံတကာ အဖွဲ့အစည်း ကုလသမဂ္ဂ အထွေထွေ အတွင်းရေးမှူးချုပ် ထံမှ ပေးပို့ သည့် သဝဏ်လွှာ နှင့် ရွှေ့ပြောင်း သွားလာ နေထိုင်ခြင်း နိုင်ငံတကာ အဖွဲ့အစည်း ညွှန်ကြားရေးမှူး ပေးပို့ သည့် သဝဏ်လွှာများ ဖတ်ကြားသည်',\n",
              " 'ဗန်းမော် ဆရာတော် ဒေါက်တာ ဘဒ္ဒန္တကုမာရာဘိဝံသ ဦးဆောင်သော ကိုယ်စားလှယ်အဖွဲ့ အိန္ဒိယ သမ္မတနိုင်ငံ ရောက်ရှိသည်',\n",
              " 'ယနေ့ ခုနှစ် တန်ဆောင်မုန်း လပြည့် ခုနှစ် နိုဝင်ဘာလ ကျရောက်သော ပြည်ထောင်စု သမ္မတ မြန်မာ နိုင်ငံတော် မြောက် အမျိုးသားနေ့ အခါသမယ တိုင်းရင်းသားပြည်သူ ပြည်သား အပေါင်း ကိုယ်စိတ် ဖြာ ကျန်းမာ ရွှင်လန်း ကောင်းကျိုး မင်္ဂလာ အဖြာဖြာ နှင့် ပြည့်စုံ နိုင်ကြပါစေ ဆုမွန်ကောင်း တောင်း နှုတ်ခွန်း ဆက်သအပ်ပါတယ်',\n",
              " 'ကိုလိုနီ နယ်ချဲ့ လက်အောက် ကျရောက်ခဲ့ မြန်မာ ပြည်သူအများ တက္ကသိုလ် ပညာသင်ကြား နိုင်ရေး ကန့်သတ် ပိတ်ပင် ထားတဲ့ ယူနီဗာစီတီ အက်ဥပဒေ ရေးဆွဲ ပြဋ္ဌာန်း ခဲ့တယ်',\n",
              " 'သပိတ် အကြောင်းပြု များမကြာမီ အမျိုးသား စိတ်ဓာတ် ရင့်သန် မြန်မာစာ မြန်မာ စကား မြန်မာ့ အရေးတို့ အလေးပေး အမျိုးသား ကျောင်းတွေ နိုင်ငံ နှင့် အဝှမ်း ပေါ်ပေါက် လာခဲ့ကြပါတယ်',\n",
              " 'တက္ကသိုလ် ကျောင်းသား သပိတ် ပညာရေး သက်သက် နှင့် သက်ဆိုင် မဟုတ်ပါ နယ်ချဲ့တို့ ဖိနှိပ်မှု အန်တု နိုင်ငံရေး သဘောဆောင်ပါတယ်',\n",
              " 'အဲဒီအချိန် အစပြုပြီး ဖြစ်ထွန်း ပေါ်ပေါက် လာခဲ့တဲ့ သခင် စိတ်ဓာတ် သခင် အကျင့်တို့ မြန်မာနိုင်ငံ လွတ်လပ်ရေး အချိန်အထိ အမျိုးသားရေး စိတ်ဓာတ် အရှိန်အဟုန်ကို မွေးဖွား ပေးခဲ့',\n",
              " 'နဝမ မြောက် ဂျီစီဘီအေ ညီလာခံ ခုနှစ် အောက်တိုဘာလတွင် မန္တလေးမြို့ ကျင်းပခဲ့တယ်',\n",
              " 'ပထမ ကျောင်းသား သပိတ် စတင်ခဲ့ ခုနှစ် တန်ဆောင်မုန်း လပြည့် ရက်နေ့ အမျိုးသားနေ့ သတ်မှတ်ခဲ့တယ်',\n",
              " 'ရန်ကုန်မြို့မှာ ခုနှစ် ဇွန်လ ရက်နေ့ ဂျီစီဘီအေ ကွန်ဖရင့် ကျင်းပခဲ့တယ်',\n",
              " 'တန်ဆောင်မုန်း လပြည့် ရက်နေ့ အမျိုးသားနေ့ သတ်မှတ် အတည်ပြုပေးခဲ့ပါတယ်',\n",
              " 'အမျိုးသားနေ့ ဆိုတာ အမျိုးသားရေး စိတ်ဓာတ် အခြေခံပြီး အမျိုးဂုဏ် ဇာတိဂုဏ် မြင့်မား ပြည်ထောင်စုစိတ်ဓာတ် ရှင်သန် ထက်မြက် ရေးတို့ ဖော်ဆောင် ပေးခဲ့ နေ့ထူးနေ့မြတ်',\n",
              " 'အခုအချိန်မှာ မြန်မာနိုင်ငံ အနေနဲ့ ခိုင်မာ မျှော်လင့်ချက်တွေ ထားရှိပြီး ရာစု ပင်လုံ ခေါ်တဲ့ ပြည်ထောင်စု ငြိမ်းချမ်းရေး ညီလာခံ ပြည်ထောင်စုစိတ်ဓာတ် ခွင့် စေရေး စတဲ့ မူ အခြေခံပြီး ပြုလုပ်ခဲ့တယ်',\n",
              " 'အစိုးရ လွှတ်တော် တပ်မတော် တိုင်းရင်းသား လက်နက်ကိုင် နိုင်ငံရေး ပါတီ နှင့် ကိုယ်စားလှယ်တွေ တက်ရောက် ခဲ့ကြပါတယ်',\n",
              " 'ခုနှစ်နိုင်ငံတော် စီးပွားရေး နှင့် ဖွံ့ဖြိုးတိုးတက်မှု မူဝါဒ စဉ်ဆက်မပြတ် ဖွံ့ဖြိုးတိုးတက် ရည်မှန်းချက် ပန်းတိုင် အကောင်အထည်ဖော် ဦးတည် ရေးဆွဲ ရာမှာ အခြေခံအဆောက်အအုံ နှင့် ရင်းနှီးမြှုပ်နှံမှု လိုအပ်ပါတယ်',\n",
              " 'အထူးသဖြင့် စိုက်ပျိုးရေး ပုဂ္ဂလိက ကဏ္ဍ အသေးစား နှင့် အလတ်စား စီးပွားရေး လုပ်ငန်းများ ဆင်းရဲနွမ်းပါးမှု ပပျောက် တိုးမြှင့် ဆောင်ရွက် ရေးတို့ ပါဝင်ပါတယ်',\n",
              " 'ပြည်သူ ဗဟို ပါဝင်တဲ့ မူဝါဒ အဓိက ဦးတည်ချက် အမျိုးသား ပြန်လည် သင့်မြတ်ရေး အလုပ်အကိုင် ဖန်တီး သဘာဝသယံဇာတ ထိန်းသိမ်းရေး တိုင်းရင်းသား လူငယ်များ စွမ်းရည် မြှင့်တင်ရေး အခွင့်အလမ်း ဖန်တီး ရေးတို့',\n",
              " 'ဖက်ဒရယ် ပြည်ထောင်စု သမ္မတ မြန်မာ နိုင်ငံတော်သစ် တည်ဆောက်နိုင်ရန် မြန်မာနိုင်ငံ ယခုအခါ ဒီမိုကရေစီ စံချိန်စံညွှန်း နဲ့အညီ ခိုင်မာသော ရည်ရွယ်ချက်များ နှင့်အတူ ဒီမိုကရေစီ အကောင်အထည်ဖော် နေပါတယ်',\n",
              " 'တိုင်းရင်းသားပြည်သူ ရပ်လုံး အမျိုးသားနေ့ ဦးတည်ချက် အောင်မြင် ရှေ့ဆက်ပြီး ကြိုးစားအားထုတ်မှု ပြုလုပ်ရန် အလေးအနက် တိုက်တွန်းလိုက် ပါတယ်',\n",
              " 'ပြည်ထောင်စုစိတ်ဓာတ် ရှင်သန် ထက်မြက်',\n",
              " 'ပြည်ထောင်စု ငြိမ်းချမ်းရေး တည်ဆောက်',\n",
              " 'တိုင်းရင်းသားအားလုံး ဘက်စုံ ဖွံ့ဖြိုးတိုးတက်ရေး',\n",
              " 'ဒီမိုကရေစီ ဖက်ဒရယ် ပြည်ထောင်စု တည်ဆောက်',\n",
              " 'သမ္မတ ဦးထင်ကျော် မလေးရှား တပ်မတော် ကာကွယ်ရေးဦးစီးချုပ် ’ ဦးဆောင်သော ကိုယ်စားလှယ်အဖွဲ့ မနေ့က နာရီခွဲတွင် နေပြည်တော်ရှိ နိုင်ငံတော်သမ္မတ အိမ်တော် သံတမန်ဆောင် ဧည့်ခန်းမ လက်ခံ တွေ့ဆုံသည်',\n",
              " 'နှစ်နိုင်ငံ ပြည်သူများ အကြား ချစ်ကြည်ရင်းနှီးမှု နှင့် ဆက်ဆံရေး ကဏ္ဍ တိုးမြှင့် ဖော်ဆောင် နှစ်နိုင်ငံ အကြား ရင်းနှီးမြှုပ်နှံမှု နှင့် ကုန်သွယ်မှု ကဏ္ဍ တိုးမြှင့် ဆောင်ရွက်ရေး ကိစ္စရပ်များ ဆွေးနွေးကြသည်',\n",
              " 'တပ်မတော် ကာကွယ်ရေးဦးစီးချုပ် ဗိုလ်ချုပ်မှူးကြီး မင်းအောင်လှိုင် ကာကွယ်ရေး ဝန်ကြီးဌာန ပြည်ထောင်စုဝန်ကြီး ဒုတိယ ဗိုလ်ချုပ်ကြီး စိန်ဝင်း နိုင်ငံခြားရေး ဝန်ကြီးဌာန ဒုတိယဝန်ကြီး ဦးကျော်တင် နှင့် တာဝန်ရှိသူများ တက်ရောက်ကြသည်',\n",
              " 'သမ္မတ ရခိုင်ပြည်နယ် အကြံပေး ကော်မရှင် ကိုယ်စားလှယ်အဖွဲ့ နှင့် ဆွေးနွေးပွဲ ကျင်းပသည်',\n",
              " 'သမ္မတ ဦးထင်ကျော် ရခိုင်ပြည်နယ် အကြံပေး ကော်မရှင် ဥက္ကဋ္ဌ ဦးဆောင်သော ကိုယ်စားလှယ်အဖွဲ့ မနေ့က နေပြည်တော်ရှိ နိုင်ငံတော်သမ္မတ အိမ်တော် သံတမန်ဆောင် ဧည့်ခန်းမ လက်ခံ တွေ့ဆုံသည်',\n",
              " 'အစည်းအဝေး ရခိုင်ပြည်နယ် အသိုက်အဝန်း လူသားချင်း စာနာထောက်ထားမှု အကူအညီများ အရေးပါမှု အာရုံစိုက်သည်',\n",
              " 'အစည်းအဝေး မမှန်ကန် သည့် ကောလာဟသ သတင်းများ မှန်ကန်စွာ တုံ့ပြန် ပွင့်လင်းမြင်သာ သတင်းထုတ်ပြန် အရေးကြီး အာရုံစိုက်သည်',\n",
              " 'အစည်းအဝေး အသိုက်အဝန်း အကြား အပြန်အလှန် ထိတွေ့ဆက်ဆံမှုများ မှတစ်ဆင့် နားလည်မှု နှင့် ပူးပေါင်းဆောင်ရွက် တိုးမြှင့် သွားရန် လိုအပ်မှု အာရုံစိုက်သည်',\n",
              " 'ရခိုင်ပြည်နယ် စီးပွားရေး အလားအလာ ဖြစ်ထွန်း ပေါ်ပေါက်ရေး နှင့် အသက်မွေးဝမ်းကြောင်း ပညာရပ် သင်တန်းများ တိုးမြှင့်ရေး ဆွေးနွေ ကြသည်',\n",
              " 'ပြည်သူများ ၏လူမှုစီးပွားရေး ဖွံ့ဖြိုးတိုးတက် စေရေး အားထုတ်မှု အပိုင်း',\n",
              " 'နိုင်ငံတော်သမ္မတ ဦးထင်ကျော်ထံ သံအမတ် ခန့်အပ်လွှာ အသစ်များ ပေးအပ်သည်',\n",
              " 'ပြည်ထောင်စု သမ္မတ မြန်မာ နိုင်ငံတော် နိုင်ငံတော်သမ္မတ ဦးထင်ကျော်ထံ ပြည်ထောင်စု သမ္မတ မြန်မာ နိုင်ငံတော် အက်စ်တိုးနီးယား နိုင်ငံ နှင့် ဖင်လန် နိုင်ငံ သံအမတ်ကြီး သံအမတ် ခန့်အပ်လွှာ နေပြည်တော်ရှိ သမ္မတ အိမ်တော်တွင် လက်ခံ',\n",
              " 'အခမ်းအနား နိုင်ငံခြားရေး ဝန်ကြီးဌာန ဒုတိယဝန်ကြီး ဦးကျော်တင် နှင့် သံတမန်ရေးရာ ဦးစီးဌာန ညွှန်ကြားရေးမှူး ကိုကိုနိုင်တို့ တက်ရောက်ကြသည်',\n",
              " 'ခုနှစ် နိုင်ငံသား ဥပဒေ နှင့်အညီ အခွင့်အရေးများ ရရှိရေး နှင့် နိုင်ငံအတွင်း မူးယစ်ဆေးဝါး တိုက်ဖျက်ရေး ကိစ္စရပ်များ အမြင်ချင်း ဖလှယ် ခဲ့ကြသည်',\n",
              " 'လက်ခံ တွေ့ဆုံ နိုင်ငံတော်သမ္မတ နှင့်အတူ နိုင်ငံတော် အတိုင်ပင်ခံ ရုံးဝန်ကြီးဌာန ပြည်ထောင်စုဝန်ကြီး ဦးကျော်တင့်ဆွေ နိုင်ငံခြားရေး ဝန်ကြီးဌာန ဒုတိယဝန်ကြီး ဦးကျော်တင် နှင့် တာဝန်ရှိသူများ တက်ရောက်ကြသည်',\n",
              " 'သမ္မတ ဦးထင်ကျော် ထိုင်းနိုင်ငံ ဘုရင့် တပ်မတော် ကာကွယ်ရေးဦးစီးချုပ် လက်ခံ တွေ့ဆုံသည်',\n",
              " 'နိုင်ငံတော်သမ္မတ ဦးထင်ကျော် ထိုင်းနိုင်ငံ ဘုရင့် တပ်မတော် ကာကွယ်ရေးဦးစီးချုပ် နှင့် အဖွဲ့အား မနေ့က နေပြည်တော်ရှိ နိုင်ငံတော်သမ္မတ အိမ်တော် သံတမန်ဆောင် ဧည့်ခန်းမ လက်ခံ တွေ့ဆုံသည် တွေ့ဆုံစဉ် နှစ်နိုင်ငံ ချစ်ကြည်ရင်းနှီးမှု တိုးမြှင့် ဆောင်ရွက်ရေး နှစ်နိုင်ငံ တပ်မတော် အကြား ရင်းစွဲ ချစ်ကြည်ရင်းနှီးမှု တိုးတက် ခိုင်မာ နှစ်နိုင်ငံ နယ်ပယ် ပူးပေါင်းဆောင်ရွက် ကိစ္စရပ်များ နှင့်စပ်လျဉ်း၍ ဆွေးနွေးကြသည် တွေ့ဆုံပွဲ တပ်မတော် ကာကွယ်ရေးဦးစီးချုပ် ဗိုလ်ချုပ်မှူးကြီး မင်းအောင်လှိုင် ကာကွယ်ရေး ဝန်ကြီးဌာန ပြည်ထောင်စုဝန်ကြီး ဒုတိယ ဗိုလ်ချုပ်ကြီး စိန်ဝင်း နိုင်ငံခြားရေး ဝန်ကြီးဌာန ဒုတိယဝန်ကြီး ဦးကျော်တင် တက်ရောက်ကြသည်',\n",
              " 'နိုင်ငံတော်သမ္မတ ပိုလန် နိုင်ငံ သံရုံး သံအမတ်ကြီး လက်ခံ တွေ့ဆုံသည်',\n",
              " 'တာဝန် ပြီးဆုံး ပြန်လည် ထွက်ခွာ မည့် ဗန်ကောက် မြို့ အခြေစိုက် ပိုလန် နိုင်ငံ သံရုံး သံအမတ်ကြီး နိုင်ငံတော်သမ္မတ ဦးထင်ကျော် မနေ့က နေပြည်တော်ရှိ နိုင်ငံတော်သမ္မတ အိမ်တော် ဧည့်ခန်းမ လက်ခံ တွေ့ဆုံသည်',\n",
              " 'တွေ့ဆုံပွဲ ပြန်ကြားရေး ဝန်ကြီးဌာန ပြည်ထောင်စုဝန်ကြီး ဒေါက်တာ ဖေမြင့် နှင့် တာဝန်ရှိသူများ တက်ရောက်ကြသည်',\n",
              " 'ဆက်လက်ပြီး လိုတာ ကျွန်တော်တို့ရဲ့ ပြည်ခိုင်ဖြိုး ပါတီ အမျိုးသားရေး ဦးထိပ်ထား ပါတီ',\n",
              " 'ကမ္ဘာ့ တည် သရွေ့ ရှိနေ ပြည်ခိုင်ဖြိုး ပါတီ ရှိနေ သမျှ အမျိုးဂုဏ် ဇာတိဂုဏ် မညှိုးနွမ်း စေရ ဖယ်ဒရယ် စနစ် အခြေခံ နိုင်ငံတော် တစ်ခု တည်ထောင် မှန်ကန်စွာ ဆန္ဒရှိ မဲပေးပါ',\n",
              " 'အဘယ်ကြောင့်ဆိုသော ဒီမိုကရေစီရေး ပြည်တွင်း ငြိမ်းချမ်းရေး နှင့် အမျိုးသား ပြန်လည် သင့်မြတ်ရေး စဉ်ဆက်မပြတ် ကြိုးပမ်းဆောင်ရွက် နေသော ပါတီ ဖြစ်လို့ပါ',\n",
              " 'အေးချမ်း အလားအလာ ကောင်းသော ဦးဆောင် ဆန္ဒရှိ မဲပေးပါ',\n",
              " 'အဘယ်ကြောင့်ဆိုသော် နိုင်ငံတော် ကာကွယ် စောင့်ရှောက် ပေးနိုင် ပါတီ ဖြစ်လို့ပါ',\n",
              " 'ပြည်သူတို့ လူမှု စီးပွား အနာဂတ် ပြောင်းလဲ တိုးတက် ကောင်းမွန် ဆောင်ရွက် မယ့် ပါတီ ဖြစ်သောကြောင့် မဲပေးကြပါ',\n",
              " 'ပါတီ နှင့် ကိုယ်စားလှယ်လောင်း နှစ်ခုလုံး စိတ်ချ ယုံကြည် ဆုံး ဖြစ်သောကြောင့် မဲပေးကြပါ',\n",
              " 'အမှန်တကယ် ပြောင်းလဲ ပြည်ခိုင်ဖြိုး မဲပေ စို့',\n",
              " 'ဖလုံစဝေါ် ဒီမိုကရက်တစ်ပါတီ ဥက္ကဋ္ဌ ဦးစောခင်မောင်မြင့် ၎င်းတို့ ပါတီ မူဝါဒ သဘောထား လုပ်ငန်းစဉ် စသည်တို့ကို ဖေဖော်ဝါရီ ရက်ညပိုင်း ရေဒီယို နှင့် ရုပ်မြင်သံကြား အစီအစဉ်များ ဟောပြော တင်ပြခဲ့သည် ဟောပြော တင်ပြချက် အပြည့်အစုံ အောက်ပါ အတိုင်း ထို့ကြောင့် ကျွန်တော်တို့ ကျွန်တော်တို့၏ လွတ်လပ်ရေး မျှတရေး ငြိမ်းချမ်းရေး တစ်နည်း နိုင်ငံရေး ခံစား ခွင့်အာဏာ စက်များ လက်လွှတ် ဆုံးရှုံးခဲ့ရသည်',\n",
              " 'ထိုအချိန် ကျွန်ုပ်တို့ တိုင်းရင်းသားအားလုံး နယ်ချဲ့ ဆန့်ကျင်ရေး အမျိုးသား လွတ်မြောက်ရေး နှင့် ငြိမ်းချမ်းရေး တိုက်ပွဲဝင် ကြတယ် အသက်ပေါင်း များစွာ စတေး ခဲ့ကြရသည်',\n",
              " 'အေဒီ ခုနှစ် ဖေဖော်ဝါရီလ ရက်နေ့ တိုင်းရင်းသားအားလုံး အခွင့်အရေးများ ရရှိခဲ့ကြသည်',\n",
              " 'တစ်နည်း အချုပ်အခြာ အာဏာပိုင် နိုင်ငံတော်ကြီး ဖြစ်လာသည်',\n",
              " 'ကမ္ဘာ့ အလယ် မားမားမတ်မတ် ရပ်တည် နိုင်ခဲ့သည်',\n",
              " 'လောက လူသားများ နှင့်ဆိုင်သော လူမှု အခွင့်အရေးများ အလေးထား လိုအပ်ပါသည်',\n",
              " 'ကျွန်တော်တို့ မထီမဲ့မြင် ပြုသင့်ပေ',\n",
              " 'အခွင့်အရေးများ လေးစား လိုက်နာ ကျွန်တော်တို့ ပြုပြင်ခြင်း ဖြင့် လူသားတို့ အကျင့်သိက္ခာ လေးမြတ် တန်ဖိုးထား ရသည် ကျွန်တော်တို့ အခွင့်အရေး ဖျက်ဆီးရ',\n",
              " 'ရက်စက် ကြမ်းကြုတ် မဖြစ်သင့်ပါ',\n",
              " 'လွတ်လပ်စွာ ဖွင့်ဟ ပြောဆို လွတ်လပ်စွာ သက်ဝင် ယုံကြည်မှု နှင့် လွတ်လပ်စွာ အသက် မွေးမြူနိုင်မှု ရှိရသည်',\n",
              " 'ကြောက်ရွံ့ နှင့် ချို့ငဲ့ခြင်း ကင်းရသည်',\n",
              " 'မတရား သဖြင့် ခံစားရ အကြမ်းဖက် ဖြစ်စေရပါ',\n",
              " 'ကျွန်ုပ်တို့သည် ညီညွတ်ရေး နှင့် တည်တံ့ ခိုင်မြဲ တရားတို့ အစဉ်တစိုက် ဦးထိပ် ပန်ဆင် ခဲ့ကြသည်',\n",
              " 'နိုင်ငံတော် တရားမျှတ လွတ်လပ်ခြင်း နှင့် ညီမျှ ဟူသော လောကပါလ တရားတော် တည်တံ့ ခိုင်မြဲ စေရန် အလို့ငှာ နိုင်ငံသား အခွင့်အရေး ရှိသော နိုင်ငံရေး လွှတ်တော် အကျွန်ုပ်တို့ ဖလုံစဝေါ် ဒီမိုကရက်တစ်ပါတီ ဤ ကြားဖြတ် ရွေးကောက်ပွဲ ရဲဝံ့ ဝင်ရောက်ယှဉ်ပြိုင် နေခြင်းဖြစ်သည်',\n",
              " 'ကမ္ဘာ့ အပြည်ပြည်ဆိုင်ရာ ငြိမ်းချမ်းရေး မူဝါဒ',\n",
              " 'အချင်းချင်း မိတ်ဝတ် မပျက် ပေါင်းသင်း ဆက်ဆံရေး မူဝါဒ',\n",
              " 'ဂ ကျွန်တော်တို့ ပါတီ ငြိမ်းချမ်းစွာ အတူတကွ ယှဉ်တွဲ နေထိုင်ရေး မူဝါဒ ဦးတည်ချက် စသည်တို့ ဖြင့် တည်ထောင်ထား ပါတီကြီး တစ်ရပ်',\n",
              " 'ဤ မျှမက အကြမ်းမဖက် အကြမ်းဖက် အုပ်ချုပ်မှု မရှိသော နိုင်ငံရေး မူဝါဒ ကျင့်သုံး ဆောက်တည် ပါတီကြီး',\n",
              " 'ညှဉ်းဆဲ',\n",
              " 'အမှန် ပြောဆိုခြင်း',\n",
              " 'ခိုးဝှက်',\n",
              " 'မြတ် အကျင့် ကျင့်',\n",
              " 'မိမိအတွက် မသိမ်းပိုက်',\n",
              " 'ကိုယ်ကျင့်သိက္ခာ ထိန်းသိမ်းရေး မြင့်မြတ် တန်ဖိုးရှိ တည်ထောင်ရေးအတွက် လမ်းပြ ပါတီ တစ်ရပ်',\n",
              " 'နိုင်ငံ လူမျိုး အများ အနစ်နာခံ နိုင်သူ ကြိုးစားအားထုတ် ဆောင်ရွက်ကြသည့် ပါတီ',\n",
              " 'အကျွန်ုပ်တို့ ပါတီ အခြေခံ မူဝါဒများ ဖော်ပြသည့် အတိုင်း',\n",
              " 'ကရင် အမျိုးသားတို့ ရိုးရာ ယဉ်ကျေးမှု နယ်ပယ် စာပေ ဘာသာစကား ရိုးရာဓလေ့ နှင့် ဓလေ့ထုံးတမ်း စသည်တို့ကို ထိန်းသိမ်း စောင့်ရှောက်သွားသည်',\n",
              " 'အခွင့်အရေးများ ကိုယ်ပိုင် ပြဋ္ဌာန်းခွင့် ပိုင်ခွင့် နှင့် ဒီမိုကရေစီ အခွင့်အရေးများ ကရင် အမျိုးသား အသိုင်းအဝိုင်း အတွင်း၌ သာမက နှင့် သက်ဆိုင်သော လူ့ ဘောင် အသိုင်းအဝိုင်း ရပ်လုံး အတွင်း၌ သက်ဝင် လှုပ်ရှား လာအောင် ကြိုးပမ်း ဆောင်ရွက်သည်',\n",
              " 'စစ်မှန်သော ဖက်ဒရယ် ပြည်ထောင်စုကြီး တည်ထောင် တိုင်းရင်းသားအားလုံး စည်းလုံးညီညွတ်မှု သာတူညီမျှ မှန်ကန်မှု နှင့် တရားမျှတမှု ငြိမ်းချမ်း ရရှိရေး ဆောင်ရွက်သည်',\n",
              " 'ကြီးနိုင်ငယ်ညှဉ်း မူဝါဒ ဆန့်ကျင်သော ကရင် တစ်မျိုးသားလုံး လွတ်လပ် ငြိမ်းချမ်း သာယာ ဖွံ့ဖြိုးတိုးတက် ဖန်တီး နိုင်ရန် ကြိုးပမ်း ဆောင်ရွက်သည်',\n",
              " 'မည်သူမျှ ၏အကျိုးစီးပွား မထိခိုက်စေ ကရင် တစ်မျိုးသားလုံး ဖွံ့ဖြိုးတိုးတက် သာယာဝပြော နှင့် အကျိုးစီးပွားတို့ တရားဥပဒေ နှင့်အညီ ကြိုးပမ်း ဆောင်ရွက်သည်',\n",
              " 'ကရင် တစ်မျိုးသားလုံး ထိခိုက်ပျက်စီး စေမည့် မူဝါဒများ ကရင် တစ်မျိုးသားလုံး ၏အကျိုးစီးပွား ထိခိုက် စေမည့် ပြုမူ ဆောင်ရွက်ချက်များ တရားဥပဒေ နှင့်အညီ ခုခံ ဆောင်ရွက်သည်',\n",
              " 'ကရင် တစ်မျိုးသားလုံး နိုင်ငံရေး စီးပွားရေး နှင့် လူမှုရေးရာ စသည်တို့ကို ခေတ် နှင့်အညီ တိုးတက် ဖွံ့ဖြိုးလာအောင် အားထုတ် ဆောင်ရွက်သည်',\n",
              " 'ယနေ့ ခေတ်ကာလ လူသား အဖွဲ့အစည်း အသီးသီး ကိုယ်ပိုင် အမြင် ရှိကြသည်',\n",
              " 'ကိုယ်ပိုင် အမြင် ကိုယ်ပိုင် ခံယူချက် ဖြင့် အရာခပ်သိမ်း သုံးသပ် ရှုမြင် တတ်ကြသည်',\n",
              " 'ထိုကဲ့သို့ ဖြစ်ပွား ကာကွယ် အကျွန်ုပ်တို့ ပါတီကြီး ပြည်ထောင်စုဖွား တိုင်းရင်းသား နှင့်အတူ ကရင် အမျိုးသားတို့ တန်းတူ ညီမျှ တရားမျှတ လွတ်လပ်ရေး သာယာဝပြော နှင့် ဖွံ့ဖြိုးတိုးတက်ရေး စသည်တို့ကို အခြေခံပြီး ပြည်ထောင်စု မပြိုကွဲ တိုင်းပြည် အချုပ်အခြာအာဏာ တည်တံ့ ခိုင်မြဲ နှင့် တိုင်းရင်းသား စည်းလုံးညီညွတ် စသည်တို့ကို တည်ဆောက် ရည်မှန်းချက် ကြီးမားစွာ ရှိသော ပါတီကြီး',\n",
              " 'ကရင် လူမျိုးတို့ အခွင့်အရေး ဖွဲ့စည်းပုံ အခြေခံ ဥပဒေပြဋ္ဌာန်းချက် နှင့်အညီ ပေါ်ပေါက် လာမည့် ကရင်ပြည်နယ် အစိုးရအဖွဲ့မှ ဖော်ဆောင် သွားသည်',\n",
              " 'ဖလုံစဝေါ် ဒီမိုကရက်တစ်ပါတီ ကရင်ပြည်နယ် အတွင်းရှိ ကရင် အမျိုးသားများ သာမက အနယ်နယ် အရပ်ရပ် ကရင် အမျိုးသားတို့ ၏အကျိုးစီးပွား ဥပဒေ နှင့်အညီ ဖော်ဆောင်သည်',\n",
              " 'ကျွန်ုပ်တို့သည် လွတ်လပ် တရားမျှတသော ရွေးကောက်ပွဲ ကရင် တစ်မျိုးသားလုံး အရေး ပါဝင်ဆောင်ရွက် နိုင်ရန် အလို့ငှာဝင်ရောက် ယှဉ်ပြိုင်သည်',\n",
              " 'ဖလုံစဝေါ် ဒီမိုကရက်တစ်ပါတီ ကရင်ပြည်နယ် အခြေခံပြီး ဖွဲ့စည်း တည်ထောင် မည့် မွန်ပြည်နယ် တနင်္သာရီ ပဲခူး ရန်ကုန်တိုင်း နှင့် ဧရာဝတီတိုင်း စသည်တို့ တိုးချဲ့ ဖွဲ့စည်းမည်',\n",
              " 'ကရင် အမျိုးသားတို့ ၏အကျိုးစီးပွား ဆောင်ရွက်သည်',\n",
              " 'ကရင်ပြည်နယ် အတွင်းရှိ ကရင် အမျိုးသားများ နှင့် အနယ်နယ် အရပ်ရပ် ကရင် အမျိုးသားများ အတူတကွ စည်းလုံးညီညွတ် ဖြင့် ကရင် အမျိုးသားတို့ ၏အကျိုးစီးပွား ပူးပေါင်းပါဝင် လာစေရန် နည်းလမ်း ရှာဖွေ ဆောင်ရွက်သည်',\n",
              " 'ပြည်သူတို့ စီးပွားရေး နှင့် လူမှုရေးတို့ မိမိတို့ ဆန္ဒ သဘောထား အတိုင်း ဥပဒေ နှင့်အညီ ဆောင်ရွက် နိုင်ရန် ကူညီ စောင့်ရှောက်သည်',\n",
              " 'အမုန်း မစွက် အကြမ်းမဖက် နိုင်ငံရေး မူဝါဒ လက်ခံ ထားပြီး တစ်မျိုးသားလုံး စည်းလုံးညီညွတ် တည်ဆောက်မည် ရည်ရွယ်ချက် နှင့် လုပ်ငန်းစဉ်များကို ချမှတ် အတည်ပြု ထားသည့် ပါတီ',\n",
              " 'လူသားတို့ အခွင့်အရေး လေးစားသည်',\n",
              " 'အကြမ်းမဖက် တရား မှန်ကန်မှု တရားမျှတ လေးစားသည်',\n",
              " 'တရားမျှတသော မိတ်ဝတ် မပျက် ပူးပေါင်း ဆောင်ရွက်ခြင်း မူ နှင့် ကမ္ဘာ့ငြိမ်းချမ်းရေး မူ လိုက်နာသည်',\n",
              " 'မတရား ဟူသမျှ ပြည်သူ နှင့်အတူ ငြိမ်းချမ်း ဖြင့် ပူးပေါင်းဆောင်ရွက် မူ လိုက်နာသည်',\n",
              " 'မြန်မာ အမျိုးသားများ ထိန်းသိမ်း စောင့်ရှောက် လာခဲ့ ရိုးရာ ယဉ်ကျေးမှု ထုံးတမ်းဓလေ့ အစဉ်အလာ မပျောက် မပျက် ထိန်းသိမ်း စောင့်ရှောက် ကာကွယ်မှုကို လိုက်နာသည်',\n",
              " 'လူသား ကြောက်ရွံ့ ကင်းဝေး မှန်ကန်မှု အကြမ်းမဖက် တရား နှင့် တရားမျှတ တိုင်းပြည် ထွန်းကား ပြည်သူ နှင့် ပူးပေါင်း ဆောင်ရွက်သည်',\n",
              " 'တိုင်းပြည် မတရား ကိုင်တွယ်ခြင်း အမြတ်ထုတ် ခေါင်းပုံဖြတ် ခြယ်လှယ် အခွင့်အာဏာ သုံးခြင်း နှင့် ဖိနှိပ်ခြင်း ပြုလာ ဟူသမျှ ကင်းဝေး ပြည်သူများ နှင့်အတူ အကြမ်းမဖက် နည်းလမ်း ဖြင့် အောင်မြင်စွာ ဆင်နွှဲ ပူးပေါင်း ဆောင်ရွက်သည်',\n",
              " 'ကြီးနိုင်ငယ်ညှဉ်း မပြု လိုက်နာသည်',\n",
              " 'လူသား မဆန် လူမှု ပစ်ပယ် ရှောင်ကြဉ်သည်',\n",
              " 'အရာခပ်သိမ်း လေးစားမှု တရားမျှတမှု ဖြင့် ဆက်ဆံသည်',\n",
              " 'အတွင်းစိတ် ရောင့်ရဲ ကြံ့ခိုင် တည်ဆောက် ဆင်ခြင် သုံးသပ် စူးစမ်း အသိပညာ သတ္တိ ဖြင့် လူမှု ဆင်းရဲ ကင်း တည်ဆောက်သည်',\n",
              " 'ဖိနှိပ်ချုပ်ချယ် အပင်ပန်းခံ အနစ်နာခံ ဖြင့် အောင်မြင်မှု တည်ဆောက်သည်',\n",
              " 'ကရင် အမျိုးသားများ ထိန်းသိမ်း စောင့်ရှောက် လာခဲ့ ရိုးရာ ယဉ်ကျေးမှု ထုံးတမ်းဓလေ့ အစဉ်အလာ မပျောက် မပျက် ထိန်းသိမ်း စောင့်ရှောက်လျက် ပြည်ထောင်စု သမ္မတ မြန်မာ နိုင်ငံတော် တိုင်းရင်းသား နှင့်အတူ တည်တံ့ ခိုင်မြဲ ငြိမ်းချမ်း သာယာဝပြော စည်းလုံးညီညွတ် တန်းတူ ညီမျှ နှင့် ဖွံ့ဖြိုးတိုးတက် ဟူသော သဘောထား အကောင်အထည်ဖော်',\n",
              " 'အမျိုးသား အကျိုးစီးပွား လည်းကောင်း လူမျိုး လည်းကောင်း ဖျက်ဆီး မည့် တိုက်ဖျက် ဝါးမျို မည့် နိုင်ငံရေး မူဝါဒ အန္တရာယ် ပေးမည့် အယူအဆ နှင့် မှား နိုင်ငံရေး အယူဝါဒတို့ ဥပဒေ နှင့်အညီ ခုခံ ကာကွယ် ဆောင်ရွက်သည်',\n",
              " 'တစ်မျိုးသားလုံး နိုင်ငံရေး စီးပွားရေး နှင့် လူမှုရေးရာ စသည်တို့ကို ခေတ် နှင့်အညီ တိုးတက် ဖွံ့ဖြိုးလာအောင် အားထုတ်သည်',\n",
              " 'အင်း အမျိုးသား ဖွံ့ဖြိုးတိုးတက်ရေး ပါတီ နိုင်ငံရေး အတိုင်ပင်ခံ သော်တာ ၎င်းတို့ ပါတီ မူဝါဒ သဘောထား လုပ်ငန်းစဉ် စသည်တို့ကို ဖေဖော်ဝါရီ ရက်ညပိုင်း ရေဒီယို နှင့် ရုပ်မြင်သံကြား အစီအစဉ်များ ဟောပြော တင်ပြခဲ့သည်',\n",
              " 'ပြည်ထောင်စု သမ္မတ မြန်မာနိုင်ငံ တစ်ဝန်းလုံး မိဘ ပြည်သူများ ညောင်ရွှေ မြို့နယ် အင်းလေး ဒေသ တိုင်းရင်းသား အင်းလေးကန် ချစ်မြတ်နိုး ချမ်းသာ ကိုယ် ကျန်းမာခြင်း နှင့် ပြည့်စုံ ကြပါစေ ရှေးဦးစွာ မေတ္တာ ပို့သ ဂါရဝပြု အပ်ပါတယ် ခင်ဗျား',\n",
              " 'အင်း အမျိုးသား ဖွံ့ဖြိုးတိုးတက်ရေး ပါတီ နိုင်ငံရေး အတိုင်ပင်ခံ သော်တာ ခင်ဗျား ကြားဖြတ် ရွေးကောက်ပွဲ ညောင်ရွှေ မြို့နယ် ပြည်နယ် လွှတ်တော် ကိုယ်စားလှယ် ကိုယ်စားလှယ်လောင်း ကျွန်တော်တို့ ပါတီ ခုနှစ် ဇွန်လ စတင်ထူထောင်ခဲ့ ပါတယ် ကျွန်တော်တို့ အမှတ်စဉ် ဖြစ်ပါသည် ပါတီစုံ ရွေးချယ်တင်မြှောက် ကျွန်တော်တို့ ပါတီ လွှတ်တော် အသီးသီး ကိုယ်စားလှယ် နိုင်ခဲ့ပါတယ် လွှတ်တော် အသီးသီး အစိုးရအဖွဲ့တွင် အတွေ့အကြုံ အလုပ်လုပ် သွားပါမယ် ကျွန်တော်တို့ ပါတီ အင်း အမျိုးသား ပါတီ နာမည်ခံ ပေမယ့် ကျဉ်းမြောင်း လူမျိုးရေး အစွဲ မရှိပါ',\n",
              " 'မြန်မာနိုင်ငံ ပါတီစုံ ဒီမိုကရေစီစနစ် ပါတီ ပါတီ ရှိတဲ့ အနက် ပါတီ တိုင်းရင်းသား အမည် ပွင့်လင်းမြင်သာ ဖွဲ့စည်း ခဲ့ကြသည် ပါတီ စုံဒီမိုကရေစီ ပကတိ အရှိတရား',\n",
              " 'ဒါကြောင့် ကျွန်တော်တို့က နိုင်ငံရေး ပါတီ ဖွဲ့စည်းခဲ့ နိုင်ငံရေး စင်မြင့် တစ်ခု ရရှိရန် ရွေးကောက်ပွဲ ဝင်ရောက်ယှဉ်ပြိုင် ခြင်းဖြစ်သည်',\n",
              " 'ကျွန်တော်တို့ နိုင်ငံတိုင်း နှင့်တန်းတူ လေးစား ဆက်ဆံသည်',\n",
              " 'ကျွန်တော်တို့ စီးပွားရေး လူမှုရေး နှင့် သယ်ယူပို့ဆောင်ရေး ဦးစားပေး ပူးပေါင်း ဆောင်ရွက်သည်',\n",
              " 'ကျွန်တော်တို့ သဘာဝပတ်ဝန်းကျင် ထိန်းသိမ်းရေး အကြမ်းဖက်ဝါဒ တိုက်ဖျက်ရေး ကမ္ဘာ့ငြိမ်းချမ်းရေး တတ်ကြွ ပူးပေါင်း ဆောင်ရွက်သွားသည်',\n",
              " 'ကျွန်တော်တို့ အိမ်နီးချင်း နိုင်ငံ နှင့် ငြိမ်းချမ်းစွာ ယှဉ်တွဲ နေထိုင်ရေး မူကြီး နှင့်အတူ တိကျစွာ လိုက်နာဆောင်ရွက်',\n",
              " 'ကျွန်တော်တို့ နိုင်ငံတိုင်း နှင့်တန်းတူ လေးစား ဆက်ဆံ စီးပွားရေး လူမှုရေး နှင့် သယ်ယူပို့ဆောင်ရေး ဦးစားပေး ပူးပေါင်း ဆောင်ရွက်သည်',\n",
              " 'ထူးခြားချက် အင်းသား လူမျိုး အများစု နေထိုင် နေတဲ့ အင်းလေး ဒေသ ညောင်ရွှေ မြို့နယ် မြို့နယ် အတွင်းမှာ သာဝင်ရောက် ယှဉ်ပြိုင်သည်',\n",
              " 'တိုင်းရင်းသား အချင်းချင်း တန်းတူညီတူ ရရှိရေး နှင့် ချစ်ခင်မှု ဆိုတဲ့ ပြည်ထောင်စုစိတ်ဓာတ် ပြသလိုက်ခြင်း',\n",
              " 'ကျွန်တော်တို့က နိုင်ငံရေး နေရာ ယူချင်လို့ အာဏာမက် မဟုတ်ပါ',\n",
              " 'နိုင်ငံရေး စင်မြင့် မရှိခဲ့ ဘယ် အစိုးရ တက်တက် ဘယ် ပါတီ နိုင်နိုင် အင်းသား လူမျိုး နောက်ဆုံးမှာ နေရမှာပါ',\n",
              " 'သမိုင်း သင်ခန်းစာ သိရှိခဲ့ တိုင်းရင်းသား ပြည်သူအပေါင်း ခင်ဗျား',\n",
              " 'ယနေ့ ကျွန်တော်တို့ နိုင်ငံ ငြိမ်းချမ်းရေး ရရှိရေး အစိုးရ တပ်မတော် တိုင်းရင်းသား လက်နက်ကိုင် အဖွဲ့အစည်းများ ပြည်သူများ နှင့် နိုင်ငံရေး ပါတီ အသီးသီးတို့ ပြည်ထောင်စု ငြိမ်းချမ်းရေး ညီလာခံ ရာစု ပင်လုံ ညီလာခံ ဒုတိယအကြိမ် ကျင်းပ ခဲ့တာ တွေ့မြင်နိုင်သည်',\n",
              " 'ကျွန်တော်တို့ အားကြိုးမာန်တက် ဆောင်ရွက် နေကြတယ်',\n",
              " 'ဖေဖော်ဝါရီလ မြန်မာနိုင်ငံ လွတ်လပ်ရေး ရရှိရေး ဗိုလ်ချုပ်အောင်ဆန်း နှင့်အတူ ပင်လုံ စာချုပ်ကြီး အောင်မြင်စွာ လက်မှတ်ရေးထိုး ရာမှာ အဓိက ပါဝင်ခဲ့တဲ့ ညောင်ရွှေ စော်ဘွားကြီး စဝ် ရွှေသိုက် လူထု ကိုယ်စားလှယ် တင်ဧ ရှမ်း ပြည် ညောင်ရွှေ မြို့နယ် အင်းလေး ဒေသ လူထု ခေါင်းဆောင် လူထု ကိုယ်စားလှယ် နိုင်ငံရေး အမြင် မြင့်မားသူများ',\n",
              " 'တစ်နည်းဆိုသော် ပြည်ထောင်စုစိတ်ဓာတ် ပင်လုံ စိတ်ဓာတ် မွေးဖွား',\n",
              " 'ဒါကြောင့် ပြည်ထောင်စုစိတ်ဓာတ် ပြည့်ဝ အင်း အမျိုးသား ဖွံ့ဖြိုးတိုးတက်ရေး ပါတီ ရဲရဲကြီး တင်ပြလိုသည်',\n",
              " 'တိုင်းရင်းသားအားလုံး တစ်ပြေးညီ တိုးတက် ပြည်ထောင်စု ရပ်လုံး စီးပွားရေး ပညာရေး ကျန်းမာရေး လူမှုရေး ဖွံ့ဖြိုးတိုးတက် အရှေ့တောင် အာရှ နိုင်ငံ နှင့် ရင်ပေါင်တန်း နိုင်ရေး ကျွန်တော်တို့ ဆောင်ရွက်သည်',\n",
              " 'ကျွန်တော်တို့က ဖက်ဒရယ် ပြည်ထောင်စု စနစ် တည်ဆောက်သည်',\n",
              " 'တိုင်းရင်းသား အခွင့်အရေး တန်းတူ ရရှိရေး နှင့် ကိုယ်ပိုင် ပြဋ္ဌာန်းခွင့် ကျွန်တော်တို့ အစဉ် အားပေး ထောက်ခံသည်',\n",
              " 'ပါတီ ၏ရည်မှန်းချက် နှင့် အမျိုးသား မူဝါဒ တိုင်းရင်းသားအားလုံး တစ်ပြေးညီ တိုးတက် ပြည်ထောင်စု ရပ်လုံး စီးပွားရေး ပညာရေး ကျန်းမာရေး လူမှုရေး ဖွံ့ဖြိုးတိုးတက် အရှေ့တောင် အာရှ နိုင်ငံ နှင့် ရင်ပေါင်တန်း နိုင်ရေး ဆောင်ရွက်သည်',\n",
              " 'ပါတီ ၏ရည်မှန်းချက် နှင့် အမျိုးသား မူဝါဒ ဖက်ဒရယ် ပြည်ထောင်စု စနစ် တည်ဆောက်',\n",
              " 'ပါတီ ၏ရည်မှန်းချက် နှင့် အမျိုးသား မူဝါဒ တိုင်းရင်းသား အခွင့်အရေး တန်းတူ ရရှိရေး နှင့် ကိုယ်ပိုင် ပြဋ္ဌာန်းခွင့် အစဉ် အားပေး ထောက်ခံ',\n",
              " 'ကျွန်တော်တို့က ပါတီစုံ ဒီမိုကရေစီစနစ် ကျင့်သုံးသည်',\n",
              " 'ခွဲခြား သတ်မှတ်ခြင်း မရှိဘဲ တန်းတူ အခွင့်အရေး ရရှိသည်',\n",
              " 'ကျွန်တော်တို့က ပါတီ လေးစား ဆက်ဆံသည်',\n",
              " 'နိုင်ငံရေး မူဝါဒ ပါတီစုံ ဒီမိုကရေစီစနစ် ကျင့်သုံး နိုင်ငံရေး ပါတီ ခွဲခြား သတ်မှတ်ခြင်း မရှိဘဲ တန်းတူ အခွင့်အရေး ပါတီ အချင်းချင်း လေးစား ဆက်ဆံသည်',\n",
              " 'ကျွန်တော်တို့က ဈေးကွက် စီးပွားရေး စနစ် ကျင့်သုံးသည်',\n",
              " 'ကျွန်တော်တို့က ဘဏ်လုပ်ငန်း ဖွံ့ဖြိုးတိုးတက်ရေး ဦးစားပေး ဆောင်ရွက်သည်',\n",
              " 'ကျွန်တော်တို့က နိုင်ငံခြား ဘဏ်များ ရင်းနှီးမြှုပ်နှံ အားပေးသည်',\n",
              " 'စီးပွားရေး အခွင့်ထူးခံ လူတန်းစားများ ရှိစေရ',\n",
              " 'ပုဂ္ဂလိက လုပ်ငန်းရှင်များ ကုန်ပစ္စည်း ထုတ်လုပ်ရေး နှင့် အိုးအိမ်သစ် တံတားများ တည်ဆောက်နိုင်ရန် နိုင်ငံတော် အားပေးသည်',\n",
              " 'စီးပွားရေး အခွင့်ထူးခံ လူတန်းစားများ ရှိစေရ ပြီးနောက် ပုဂ္ဂလိက လုပ်ငန်းရှင်များ ကုန်ပစ္စည်း ထုတ်လုပ်ရေး နှင့် အိုးအိမ်သစ် တံတားများ တည်ဆောက်နိုင်ရန် နိုင်ငံတော် အားပေးသည်',\n",
              " 'နိုင်ငံတော် တရားဝင် ထုတ်ပေး ထားသော ငွေကြေးများ အာမခံရသည်',\n",
              " 'အခွန်အခ ပြည်သူလူထု အတွက်ဝန်ထုပ်ဝန်ပိုး ဖြစ်စေရ',\n",
              " 'အခွန် ပေးသွင်း တာဝန်ကျေ လုပ်ငန်းရှင်များ နှင့် ပြည်သူများ သင့်တော် သည့် ကူညီ ပံ့ပိုးမှုများ ဆောင်ရွက် ပေးသည်',\n",
              " 'နိုင်ငံရေး လုပ်ငန်းစဉ်များ နိုင်ငံတိုင်း နှင့်တန်းတူ လေးစား ဆက်ဆံ စီးပွားရေး လူမှုရေး နှင့် သယ်ယူပို့ဆောင်ရေး ဦးစားပေး ပူးပေါင်း ဆောင်ရွက်မည်',\n",
              " 'နိုင်ငံတော် ကာကွယ်ရေး နှင့် လုံခြုံရေး တာဝန် တပ်မတော် မဏ္ဍိုင် ပြည်သူများကို မျိုးချစ် စိတ်ဓာတ် ဖြင့် ဆောင်ရွက်စေသည်',\n",
              " 'ကျွန်တော်တို့ အမျိုးသား စစ်မှု မထမ်း မနေ ဥပဒေ ပြည်သူများ ဆန္ဒ နှင့်အညီ ပြဋ္ဌာန်းမည်',\n",
              " 'ကျွန်တော်တို့ စွမ်းရည် ထက်မြက်သော ခေတ်မီ မျိုးချစ် တပ်မတော် ဖြစ်အောင် ဆောင်ရွက်မည်',\n",
              " ...]"
            ]
          },
          "metadata": {},
          "execution_count": 27
        }
      ]
    },
    {
      "cell_type": "markdown",
      "metadata": {
        "id": "c6xfy6b5IHST"
      },
      "source": [
        "Tokenize text of the training data with keras text preprocessing functions"
      ]
    },
    {
      "cell_type": "code",
      "execution_count": null,
      "metadata": {
        "colab": {
          "base_uri": "https://localhost:8080/"
        },
        "id": "CkoM23doIGjL",
        "outputId": "eab61bf9-44ad-4002-f99c-fce7d76277ba"
      },
      "outputs": [
        {
          "output_type": "stream",
          "name": "stdout",
          "text": [
            "Found 21207 unique tokens.\n"
          ]
        }
      ],
      "source": [
        "#Set Maximum number of words to be embedded\n",
        "NUM_WORDS = 20000\n",
        "\n",
        "tokenizer = Tokenizer()\n",
        "tokenizer.fit_on_texts(text_train)\n",
        "\n",
        "word_index = tokenizer.word_index\n",
        "print('Found %s unique tokens.' % len(word_index))"
      ]
    },
    {
      "cell_type": "code",
      "execution_count": null,
      "metadata": {
        "id": "dzd5Bt_mJeHf"
      },
      "outputs": [],
      "source": [
        "X_train = tokenizer.texts_to_sequences(text_train)\n",
        "X_test = tokenizer.texts_to_sequences(text_test)"
      ]
    },
    {
      "cell_type": "code",
      "execution_count": null,
      "metadata": {
        "id": "Tg7J3BYYK09M"
      },
      "outputs": [],
      "source": [
        "vocab_size = len(tokenizer.word_index) + 1  # Adding 1 because of reserved 0 index\n",
        "maxlen = max(len(x) for x in X_train)//2 # longest text in train set\n",
        "\n",
        "# Add pading to ensure all vectors have same dimensionality\n",
        "X_train = pad_sequences(X_train, padding='post', maxlen=maxlen)\n",
        "X_test = pad_sequences(X_test, padding='post', maxlen=maxlen)"
      ]
    },
    {
      "cell_type": "code",
      "execution_count": null,
      "metadata": {
        "colab": {
          "base_uri": "https://localhost:8080/"
        },
        "id": "AvNbz4gZLmHE",
        "outputId": "413ff55a-6935-4cf9-fdcf-9edff1ecf410"
      },
      "outputs": [
        {
          "output_type": "execute_result",
          "data": {
            "text/plain": [
              "183"
            ]
          },
          "metadata": {},
          "execution_count": 18
        }
      ],
      "source": [
        "maxlen"
      ]
    },
    {
      "cell_type": "code",
      "execution_count": null,
      "metadata": {
        "colab": {
          "base_uri": "https://localhost:8080/"
        },
        "id": "HXG9mI7-LqkL",
        "outputId": "ac05c2eb-7243-4517-c0bd-b6e39ce98381"
      },
      "outputs": [
        {
          "output_type": "execute_result",
          "data": {
            "text/plain": [
              "(4503,)"
            ]
          },
          "metadata": {},
          "execution_count": 19
        }
      ],
      "source": [
        "y_train.shape"
      ]
    },
    {
      "cell_type": "code",
      "execution_count": null,
      "metadata": {
        "colab": {
          "base_uri": "https://localhost:8080/"
        },
        "id": "fjn5fjV8LvS3",
        "outputId": "9f9ff1a0-37a2-44d8-941f-ddcfe10ba7ec"
      },
      "outputs": [
        {
          "output_type": "execute_result",
          "data": {
            "text/plain": [
              "21208"
            ]
          },
          "metadata": {},
          "execution_count": 20
        }
      ],
      "source": [
        "vocab_size"
      ]
    },
    {
      "cell_type": "code",
      "execution_count": null,
      "metadata": {
        "colab": {
          "base_uri": "https://localhost:8080/"
        },
        "id": "2qO2Wc5GL0zQ",
        "outputId": "f3057acf-18dd-4023-ea40-1edb9ef5dea2"
      },
      "outputs": [
        {
          "output_type": "stream",
          "name": "stdout",
          "text": [
            "Shape of X train and X test tensor: (4503, 183) (1126, 183)\n",
            "Shape of label train and test tensor: (4503,) (1126,)\n"
          ]
        }
      ],
      "source": [
        "print('Shape of X train and X test tensor:', X_train.shape,X_test.shape)\n",
        "print('Shape of label train and test tensor:', y_train.shape,y_test.shape)"
      ]
    },
    {
      "cell_type": "code",
      "source": [
        "X_train.shape"
      ],
      "metadata": {
        "colab": {
          "base_uri": "https://localhost:8080/"
        },
        "id": "vYnDT_UNVIwu",
        "outputId": "977bf728-b0e4-4a22-ad88-a0155a78c4e7"
      },
      "execution_count": null,
      "outputs": [
        {
          "output_type": "execute_result",
          "data": {
            "text/plain": [
              "(4503, 183)"
            ]
          },
          "metadata": {},
          "execution_count": 23
        }
      ]
    },
    {
      "cell_type": "code",
      "source": [
        "X_train"
      ],
      "metadata": {
        "colab": {
          "base_uri": "https://localhost:8080/"
        },
        "id": "nJqFHlebVV6z",
        "outputId": "1dbdc5da-95bb-44aa-afa5-0f7a5d78196a"
      },
      "execution_count": null,
      "outputs": [
        {
          "output_type": "execute_result",
          "data": {
            "text/plain": [
              "array([[ 8886,  1472,    23, ...,     0,     0,     0],\n",
              "       [    5,   442,   146, ...,     0,     0,     0],\n",
              "       [  192,   997,  3931, ...,     0,     0,     0],\n",
              "       ...,\n",
              "       [  348, 21198, 21199, ...,     0,     0,     0],\n",
              "       [21203,  3314,    85, ...,     0,     0,     0],\n",
              "       [   22,    90,    84, ...,     0,     0,     0]], dtype=int32)"
            ]
          },
          "metadata": {},
          "execution_count": 24
        }
      ]
    },
    {
      "cell_type": "code",
      "source": [
        "y_train"
      ],
      "metadata": {
        "colab": {
          "base_uri": "https://localhost:8080/"
        },
        "id": "Xhv_ih3cVaNQ",
        "outputId": "a08cd897-5e82-47bb-d920-88dd3967c0a8"
      },
      "execution_count": null,
      "outputs": [
        {
          "output_type": "execute_result",
          "data": {
            "text/plain": [
              "array([1, 1, 0, ..., 1, 0, 0])"
            ]
          },
          "metadata": {},
          "execution_count": 32
        }
      ]
    },
    {
      "cell_type": "code",
      "source": [
        "np.count_nonzero(y_train == 0)"
      ],
      "metadata": {
        "colab": {
          "base_uri": "https://localhost:8080/"
        },
        "id": "xVhdxUFoVyIC",
        "outputId": "e95e165c-26fb-43c3-87ef-31e4bf7625c3"
      },
      "execution_count": null,
      "outputs": [
        {
          "output_type": "execute_result",
          "data": {
            "text/plain": [
              "2796"
            ]
          },
          "metadata": {},
          "execution_count": 40
        }
      ]
    },
    {
      "cell_type": "code",
      "source": [
        "np.count_nonzero(y_test==0)"
      ],
      "metadata": {
        "colab": {
          "base_uri": "https://localhost:8080/"
        },
        "id": "A5Y9zVQ5YLpV",
        "outputId": "a148bb04-f8f6-463e-9129-9bbb523130e5"
      },
      "execution_count": null,
      "outputs": [
        {
          "output_type": "execute_result",
          "data": {
            "text/plain": [
              "716"
            ]
          },
          "metadata": {},
          "execution_count": 43
        }
      ]
    },
    {
      "cell_type": "code",
      "source": [
        "np.count_nonzero(y_test==1)"
      ],
      "metadata": {
        "colab": {
          "base_uri": "https://localhost:8080/"
        },
        "id": "EwcRP7oJYj1S",
        "outputId": "aee095e1-cb59-4163-ab69-4750c0948433"
      },
      "execution_count": null,
      "outputs": [
        {
          "output_type": "execute_result",
          "data": {
            "text/plain": [
              "410"
            ]
          },
          "metadata": {},
          "execution_count": 44
        }
      ]
    },
    {
      "cell_type": "code",
      "execution_count": null,
      "metadata": {
        "id": "iw4vQ5pnVwmi"
      },
      "outputs": [],
      "source": [
        "# model = Word2Vec.load('/content/model.bin')\n",
        "# vector = model.wv['တုတ်ကွေး']  # get numpy vector of a word\n",
        "# sims = model.wv.most_similar('တုတ်ကွေး', topn=10)  # get other similar words"
      ]
    },
    {
      "cell_type": "code",
      "execution_count": null,
      "metadata": {
        "id": "qdbcqDhQW3j8"
      },
      "outputs": [],
      "source": [
        "# word_vectors = model.wv\n",
        "# word_vectors.save(\"word2vec.wordvectors\")"
      ]
    },
    {
      "cell_type": "code",
      "execution_count": null,
      "metadata": {
        "id": "hSqQ0JHuXAOo"
      },
      "outputs": [],
      "source": [
        "# wv = KeyedVectors.load(\"word2vec.wordvectors\", mmap='r')"
      ]
    },
    {
      "cell_type": "code",
      "execution_count": null,
      "metadata": {
        "id": "y5pqO53XXDSs"
      },
      "outputs": [],
      "source": [
        "# vector = wv['တုတ်ကွေး']"
      ]
    },
    {
      "cell_type": "code",
      "execution_count": null,
      "metadata": {
        "id": "pI7zTNdVX6QB"
      },
      "outputs": [],
      "source": [
        "# from gensim.test.utils import datapath\n",
        "# # Load a word2vec model stored in the C *text* format.\n",
        "# wv_from_text = KeyedVectors.load_word2vec_format(datapath('word2vec_pre_kv_c'), binary=False)\n",
        "# # Load a word2vec model stored in the C *binary* format.\n",
        "# wv_from_bin = KeyedVectors.load_word2vec_format(datapath(\"euclidean_vectors.bin\"), binary=True)"
      ]
    },
    {
      "cell_type": "code",
      "execution_count": null,
      "metadata": {
        "colab": {
          "base_uri": "https://localhost:8080/",
          "height": 364
        },
        "id": "KUWBsBUSuwUv",
        "outputId": "29fca4ef-e713-4d30-9b0e-6fa32aab05a8"
      },
      "outputs": [
        {
          "output_type": "stream",
          "name": "stdout",
          "text": [
            "Requirement already satisfied: gensim in /usr/local/lib/python3.7/dist-packages (3.6.0)\n",
            "Collecting gensim\n",
            "  Downloading gensim-4.1.2-cp37-cp37m-manylinux_2_12_x86_64.manylinux2010_x86_64.whl (24.1 MB)\n",
            "\u001b[K     |████████████████████████████████| 24.1 MB 13 kB/s \n",
            "\u001b[?25hRequirement already satisfied: numpy>=1.17.0 in /usr/local/lib/python3.7/dist-packages (from gensim) (1.19.5)\n",
            "Requirement already satisfied: smart-open>=1.8.1 in /usr/local/lib/python3.7/dist-packages (from gensim) (5.2.1)\n",
            "Requirement already satisfied: scipy>=0.18.1 in /usr/local/lib/python3.7/dist-packages (from gensim) (1.4.1)\n",
            "Installing collected packages: gensim\n",
            "  Attempting uninstall: gensim\n",
            "    Found existing installation: gensim 3.6.0\n",
            "    Uninstalling gensim-3.6.0:\n",
            "      Successfully uninstalled gensim-3.6.0\n",
            "Successfully installed gensim-4.1.2\n"
          ]
        },
        {
          "output_type": "display_data",
          "data": {
            "application/vnd.colab-display-data+json": {
              "pip_warning": {
                "packages": [
                  "gensim"
                ]
              }
            }
          },
          "metadata": {}
        }
      ],
      "source": [
        "!pip install --upgrade gensim"
      ]
    },
    {
      "cell_type": "code",
      "execution_count": null,
      "metadata": {
        "id": "Mri_6CpLoaSJ"
      },
      "outputs": [],
      "source": [
        "# from gensim import models\n",
        "#word_vectors = '/content/new_model.bin'\n",
        "word_vectors_dict = Word2Vec.load('/content/model.bin')\n",
        "#embedding_dict = Word2Vec.load('/content/model.bin')\n",
        "#model.save_word2vec_format('/content/model', binary=False)"
      ]
    },
    {
      "cell_type": "code",
      "execution_count": null,
      "metadata": {
        "id": "vA76PJvKSku8"
      },
      "outputs": [],
      "source": [
        "EMBEDDING_DIM = 32\n",
        "vocabulary_size=min(len(word_index)+1,(NUM_WORDS))\n",
        "embedding_matrix = np.zeros((vocabulary_size, EMBEDDING_DIM))\n",
        "for word, i in word_index.items():\n",
        "    if i>=NUM_WORDS:\n",
        "        continue\n",
        "    try:\n",
        "        embedding_vector = word_vectors_dict.wv[word]\n",
        "        embedding_matrix[i] = embedding_vector\n",
        "    except KeyError:\n",
        "        vec = np.zeros(EMBEDDING_DIM)\n",
        "        embedding_matrix[i]=vec"
      ]
    },
    {
      "cell_type": "markdown",
      "source": [
        "### Static"
      ],
      "metadata": {
        "id": "qyA-QGsyw8dm"
      }
    },
    {
      "cell_type": "code",
      "execution_count": null,
      "metadata": {
        "colab": {
          "base_uri": "https://localhost:8080/"
        },
        "id": "_EIwe_-cUxqK",
        "outputId": "bd25d5b4-aed7-4b68-b5d7-a6bf7fc7fbe2"
      },
      "outputs": [
        {
          "output_type": "stream",
          "name": "stdout",
          "text": [
            "training CNN ...\n",
            "Model: \"sequential\"\n",
            "_________________________________________________________________\n",
            " Layer (type)                Output Shape              Param #   \n",
            "=================================================================\n",
            " embedding (Embedding)       (None, None, 32)          640000    \n",
            "                                                                 \n",
            " dropout (Dropout)           (None, None, 32)          0         \n",
            "                                                                 \n",
            " conv1d (Conv1D)             (None, None, 100)         16100     \n",
            "                                                                 \n",
            " conv1d_1 (Conv1D)           (None, None, 100)         50100     \n",
            "                                                                 \n",
            " global_max_pooling1d (Globa  (None, 100)              0         \n",
            " lMaxPooling1D)                                                  \n",
            "                                                                 \n",
            " flatten (Flatten)           (None, 100)               0         \n",
            "                                                                 \n",
            " dense (Dense)               (None, 32)                3232      \n",
            "                                                                 \n",
            " dropout_1 (Dropout)         (None, 32)                0         \n",
            "                                                                 \n",
            " dense_1 (Dense)             (None, 16)                528       \n",
            "                                                                 \n",
            " dense_2 (Dense)             (None, 1)                 17        \n",
            "                                                                 \n",
            "=================================================================\n",
            "Total params: 709,977\n",
            "Trainable params: 709,977\n",
            "Non-trainable params: 0\n",
            "_________________________________________________________________\n"
          ]
        },
        {
          "output_type": "stream",
          "name": "stderr",
          "text": [
            "/usr/local/lib/python3.7/dist-packages/keras/optimizer_v2/adam.py:105: UserWarning: The `lr` argument is deprecated, use `learning_rate` instead.\n",
            "  super(Adam, self).__init__(name, **kwargs)\n"
          ]
        }
      ],
      "source": [
        "weight_decay = 1e-4\n",
        "from keras.models import Sequential\n",
        "from keras.layers import Embedding, Conv1D, MaxPooling1D, GlobalMaxPooling1D, Flatten\n",
        "import tensorflow as tf \n",
        "from tensorflow import keras \n",
        "#CNN architecture -non -static\n",
        "print(\"training CNN ...\")\n",
        "model = Sequential()\n",
        "model.add(Embedding(vocabulary_size,EMBEDDING_DIM,weights=[embedding_matrix],trainable=True))\n",
        "model.add(Dropout(0.2))\n",
        "model.add(Conv1D(100, 5, activation='relu', padding='same'))\n",
        "#model.add(MaxPooling1D(2))\n",
        "model.add(Conv1D(100, 5, activation='relu', padding='same'))\n",
        "model.add(GlobalMaxPooling1D())\n",
        "model.add(Flatten())\n",
        "model.add(Dense(32,activation='relu'))\n",
        "model.add(Dropout(0.5))\n",
        "model.add(Dense(16, activation='relu', kernel_regularizer=regularizers.l2(weight_decay)))\n",
        "model.add(Dense(1, activation='sigmoid'))  \n",
        "#nadam = tf.keras.optimizers.Nadam(learning_rate=0.001, beta_1=0.9, beta_2=0.999, epsilon=1e-07, name=\"Nadam\")\n",
        "opt = Adam(lr=1e-3)\n",
        "model.compile(loss='binary_crossentropy',optimizer=opt,metrics=[\"accuracy\",keras.metrics.Precision(),keras.metrics.Recall()])\n",
        "#model.compile(loss='binary_crossentropy', optimizer=nadam, metrics=[\"accuracy\",keras.metrics.Precision(),keras.metrics.Recall()])\n",
        "model.summary()"
      ]
    },
    {
      "cell_type": "code",
      "execution_count": null,
      "metadata": {
        "colab": {
          "base_uri": "https://localhost:8080/"
        },
        "id": "y5CY1pjiViRM",
        "outputId": "c6cabeaa-c71d-41b5-fafd-964ffc9c5a30"
      },
      "outputs": [
        {
          "output_type": "stream",
          "name": "stdout",
          "text": [
            "Epoch 1/10\n",
            "16/16 - 13s - loss: 0.6402 - accuracy: 0.6347 - precision: 0.5386 - recall: 0.2546 - val_loss: 0.5525 - val_accuracy: 0.6874 - val_precision: 0.6923 - val_recall: 0.3158 - 13s/epoch - 801ms/step\n",
            "Epoch 2/10\n",
            "16/16 - 0s - loss: 0.5264 - accuracy: 0.7263 - precision: 0.6690 - recall: 0.5501 - val_loss: 0.5023 - val_accuracy: 0.7605 - val_precision: 0.7114 - val_recall: 0.6199 - 290ms/epoch - 18ms/step\n",
            "Epoch 3/10\n",
            "16/16 - 0s - loss: 0.4978 - accuracy: 0.7463 - precision: 0.6684 - recall: 0.6562 - val_loss: 0.4829 - val_accuracy: 0.7716 - val_precision: 0.6977 - val_recall: 0.7018 - 369ms/epoch - 23ms/step\n",
            "Epoch 4/10\n",
            "16/16 - 0s - loss: 0.4700 - accuracy: 0.7663 - precision: 0.6906 - recall: 0.6947 - val_loss: 0.4733 - val_accuracy: 0.7716 - val_precision: 0.6954 - val_recall: 0.7076 - 343ms/epoch - 21ms/step\n",
            "Epoch 5/10\n",
            "16/16 - 0s - loss: 0.4479 - accuracy: 0.7922 - precision: 0.7188 - recall: 0.7422 - val_loss: 0.4654 - val_accuracy: 0.7539 - val_precision: 0.6630 - val_recall: 0.7135 - 384ms/epoch - 24ms/step\n",
            "Epoch 6/10\n",
            "16/16 - 0s - loss: 0.4269 - accuracy: 0.8031 - precision: 0.7289 - recall: 0.7650 - val_loss: 0.4554 - val_accuracy: 0.7738 - val_precision: 0.7018 - val_recall: 0.7018 - 363ms/epoch - 23ms/step\n",
            "Epoch 7/10\n",
            "16/16 - 0s - loss: 0.4087 - accuracy: 0.8144 - precision: 0.7559 - recall: 0.7539 - val_loss: 0.4500 - val_accuracy: 0.7871 - val_precision: 0.7483 - val_recall: 0.6608 - 347ms/epoch - 22ms/step\n",
            "Epoch 8/10\n",
            "16/16 - 0s - loss: 0.3851 - accuracy: 0.8265 - precision: 0.7749 - recall: 0.7643 - val_loss: 0.4457 - val_accuracy: 0.7849 - val_precision: 0.7372 - val_recall: 0.6725 - 295ms/epoch - 18ms/step\n",
            "Epoch 9/10\n",
            "16/16 - 0s - loss: 0.3694 - accuracy: 0.8425 - precision: 0.7897 - recall: 0.7969 - val_loss: 0.4591 - val_accuracy: 0.7761 - val_precision: 0.7059 - val_recall: 0.7018 - 326ms/epoch - 20ms/step\n",
            "Epoch 10/10\n",
            "16/16 - 0s - loss: 0.3362 - accuracy: 0.8576 - precision: 0.8124 - recall: 0.8118 - val_loss: 0.4526 - val_accuracy: 0.7805 - val_precision: 0.7118 - val_recall: 0.7076 - 330ms/epoch - 21ms/step\n"
          ]
        }
      ],
      "source": [
        "batch_size=256\n",
        "from keras.callbacks import EarlyStopping\n",
        "#define callbacks\n",
        "early_stopping = EarlyStopping(monitor='val_loss', min_delta=0.01, patience=5, verbose=1)\n",
        "callbacks_list = [early_stopping]\n",
        "#model training\n",
        "hist = model.fit(X_train, y_train, batch_size=batch_size, epochs=10, callbacks=callbacks_list, validation_split=0.1, shuffle=True, verbose=2)"
      ]
    },
    {
      "cell_type": "code",
      "execution_count": null,
      "metadata": {
        "colab": {
          "base_uri": "https://localhost:8080/"
        },
        "id": "d27fQy3yWBFF",
        "outputId": "676f8e1a-78b1-4962-838d-9ff038f08892"
      },
      "outputs": [
        {
          "output_type": "stream",
          "name": "stdout",
          "text": [
            "Loss 0.4756243824958801\n",
            "Accuracy 0.7690941095352173\n",
            "Precision 0.7071823477745056\n",
            "Recall 0.6243902444839478\n",
            "f1_score 0.6632124475808541\n"
          ]
        }
      ],
      "source": [
        "loss, accuracy, precision, recall = model.evaluate(X_test, y_test, verbose=0)\n",
        "print('Loss', loss)\n",
        "print('Accuracy', accuracy)\n",
        "print('Precision', precision)\n",
        "print('Recall', recall)\n",
        "\n",
        "f1_score = (2* recall*precision)/(recall+precision)\n",
        "print(\"f1_score\", f1_score)"
      ]
    },
    {
      "cell_type": "code",
      "execution_count": null,
      "metadata": {
        "colab": {
          "base_uri": "https://localhost:8080/",
          "height": 174
        },
        "id": "-ISuP5XOZIsv",
        "outputId": "ae9a558b-1f63-46c6-d4f8-c57bff69891e"
      },
      "outputs": [
        {
          "output_type": "display_data",
          "data": {
            "image/png": "[encoded data removed]",
            "text/plain": [
              "<Figure size 864x144 with 2 Axes>"
            ]
          },
          "metadata": {
            "needs_background": "light"
          }
        }
      ],
      "source": [
        "plt.style.use('ggplot')\n",
        "\n",
        "def plot_history(history):\n",
        "    acc = history.history['accuracy']\n",
        "    val_acc = history.history['val_accuracy']\n",
        "    loss = history.history['loss']\n",
        "    val_loss = history.history['val_loss']\n",
        "    x = range(1, len(acc) + 1)\n",
        "\n",
        "    plt.figure(figsize=(12, 2))\n",
        "    plt.subplot(1, 2, 1)\n",
        "    plt.plot(x, acc, 'b', label='Training acc')\n",
        "    plt.plot(x, val_acc, 'r', label='Validation acc')\n",
        "    plt.title('Training and validation accuracy')\n",
        "    plt.legend()\n",
        "    plt.subplot(1, 2, 2)\n",
        "    plt.plot(x, loss, 'b', label='Training loss')\n",
        "    plt.plot(x, val_loss, 'r', label='Validation loss')\n",
        "    plt.title('Training and validation loss')\n",
        "    plt.legend()\n",
        "\n",
        "%matplotlib inline\n",
        "plot_history(hist)"
      ]
    },
    {
      "cell_type": "markdown",
      "source": [
        "### Non-Static"
      ],
      "metadata": {
        "id": "lXSpAaYLxHC4"
      }
    },
    {
      "cell_type": "code",
      "execution_count": null,
      "metadata": {
        "colab": {
          "base_uri": "https://localhost:8080/"
        },
        "id": "nNG3J1c7ZZR8",
        "outputId": "d994a8c4-3228-424b-bf1e-81e02223a9b2"
      },
      "outputs": [
        {
          "output_type": "stream",
          "name": "stdout",
          "text": [
            "training CNN ...\n",
            "Model: \"sequential_1\"\n",
            "_________________________________________________________________\n",
            " Layer (type)                Output Shape              Param #   \n",
            "=================================================================\n",
            " embedding_1 (Embedding)     (None, 183, 32)           640000    \n",
            "                                                                 \n",
            " dropout_2 (Dropout)         (None, 183, 32)           0         \n",
            "                                                                 \n",
            " conv1d_2 (Conv1D)           (None, 183, 128)          12416     \n",
            "                                                                 \n",
            " conv1d_3 (Conv1D)           (None, 183, 128)          82048     \n",
            "                                                                 \n",
            " global_max_pooling1d_1 (Glo  (None, 128)              0         \n",
            " balMaxPooling1D)                                                \n",
            "                                                                 \n",
            " flatten_1 (Flatten)         (None, 128)               0         \n",
            "                                                                 \n",
            " dense_3 (Dense)             (None, 32)                4128      \n",
            "                                                                 \n",
            " dropout_3 (Dropout)         (None, 32)                0         \n",
            "                                                                 \n",
            " dense_4 (Dense)             (None, 16)                528       \n",
            "                                                                 \n",
            " dense_5 (Dense)             (None, 1)                 17        \n",
            "                                                                 \n",
            "=================================================================\n",
            "Total params: 739,137\n",
            "Trainable params: 99,137\n",
            "Non-trainable params: 640,000\n",
            "_________________________________________________________________\n"
          ]
        },
        {
          "output_type": "stream",
          "name": "stderr",
          "text": [
            "/usr/local/lib/python3.7/dist-packages/keras/optimizer_v2/adam.py:105: UserWarning: The `lr` argument is deprecated, use `learning_rate` instead.\n",
            "  super(Adam, self).__init__(name, **kwargs)\n"
          ]
        }
      ],
      "source": [
        "from keras.layers import Embedding, Conv1D, MaxPooling1D, GlobalMaxPooling1D,Flatten \n",
        "import tensorflow as tf\n",
        "\n",
        "#CNN architecture - static\n",
        "print(\"training CNN ...\")\n",
        "model1 = Sequential()\n",
        "model1.add(Embedding(vocabulary_size,EMBEDDING_DIM,weights=[embedding_matrix], input_length=maxlen, trainable=False))\n",
        "model1.add(Dropout(0.2))\n",
        "model1.add(Conv1D(128, 3, activation='relu', padding='same'))\n",
        "#model1.add(MaxPooling1D(5))\n",
        "model1.add(Conv1D(128, 5, activation='relu', padding='same'))\n",
        "model1.add(GlobalMaxPooling1D())\n",
        "model1.add(Flatten())\n",
        "model1.add(Dense(32,activation='relu'))\n",
        "model1.add(Dropout(0.5))\n",
        "model1.add(Dense(16, activation='relu', kernel_regularizer=regularizers.l2(weight_decay)))\n",
        "model1.add(Dense(1, activation='sigmoid'))  \n",
        "opt = Adam(lr=1e-3)\n",
        "model1.compile(loss='binary_crossentropy',optimizer=opt,metrics=[\"accuracy\",keras.metrics.Precision(),keras.metrics.Recall()])\n",
        "#nadam = tf.keras.optimizers.Nadam(learning_rate=0.001, beta_1=0.9, beta_2=0.999, epsilon=1e-07, name=\"Nadam\")\n",
        "\n",
        "#model1.compile(loss='binary_crossentropy', optimizer=nadam, metrics=[\"accuracy\",keras.metrics.Precision(),keras.metrics.Recall()])\n",
        "model1.summary()"
      ]
    },
    {
      "cell_type": "code",
      "source": [
        "from keras.callbacks import EarlyStopping\n",
        "#define callbacks\n",
        "early_stopping = EarlyStopping(monitor='val_loss', min_delta=0.01, patience=4, verbose=1)\n",
        "callbacks_list = [early_stopping]\n",
        "#model training\n",
        "hist1 = model1.fit(X_train, y_train, batch_size=batch_size, epochs=10, callbacks=callbacks_list, validation_split=0.1, shuffle=True, verbose=2)"
      ],
      "metadata": {
        "colab": {
          "base_uri": "https://localhost:8080/"
        },
        "id": "W_13qy3oxlyS",
        "outputId": "cc31ac39-68e5-430a-c64a-59c5031652a1"
      },
      "execution_count": null,
      "outputs": [
        {
          "output_type": "stream",
          "name": "stdout",
          "text": [
            "Epoch 1/10\n",
            "16/16 - 3s - loss: 0.6563 - accuracy: 0.5893 - precision_1: 0.4354 - recall_1: 0.2806 - val_loss: 0.5729 - val_accuracy: 0.6785 - val_precision_1: 0.6226 - val_recall_1: 0.3860 - 3s/epoch - 205ms/step\n",
            "Epoch 2/10\n",
            "16/16 - 0s - loss: 0.5650 - accuracy: 0.6920 - precision_1: 0.6120 - recall_1: 0.5124 - val_loss: 0.5057 - val_accuracy: 0.7228 - val_precision_1: 0.6292 - val_recall_1: 0.6550 - 242ms/epoch - 15ms/step\n",
            "Epoch 3/10\n",
            "16/16 - 0s - loss: 0.5225 - accuracy: 0.7298 - precision_1: 0.6411 - recall_1: 0.6523 - val_loss: 0.5024 - val_accuracy: 0.7561 - val_precision_1: 0.6968 - val_recall_1: 0.6316 - 250ms/epoch - 16ms/step\n",
            "Epoch 4/10\n",
            "16/16 - 0s - loss: 0.5005 - accuracy: 0.7401 - precision_1: 0.6567 - recall_1: 0.6589 - val_loss: 0.4841 - val_accuracy: 0.7428 - val_precision_1: 0.6425 - val_recall_1: 0.7251 - 247ms/epoch - 15ms/step\n",
            "Epoch 5/10\n",
            "16/16 - 0s - loss: 0.4926 - accuracy: 0.7495 - precision_1: 0.6595 - recall_1: 0.7012 - val_loss: 0.4850 - val_accuracy: 0.7273 - val_precision_1: 0.6081 - val_recall_1: 0.7895 - 247ms/epoch - 15ms/step\n",
            "Epoch 6/10\n",
            "16/16 - 0s - loss: 0.4813 - accuracy: 0.7525 - precision_1: 0.6616 - recall_1: 0.7103 - val_loss: 0.4779 - val_accuracy: 0.7406 - val_precision_1: 0.6286 - val_recall_1: 0.7719 - 246ms/epoch - 15ms/step\n",
            "Epoch 7/10\n",
            "16/16 - 0s - loss: 0.4693 - accuracy: 0.7670 - precision_1: 0.6818 - recall_1: 0.7227 - val_loss: 0.4701 - val_accuracy: 0.7539 - val_precision_1: 0.6546 - val_recall_1: 0.7427 - 242ms/epoch - 15ms/step\n",
            "Epoch 8/10\n",
            "16/16 - 0s - loss: 0.4600 - accuracy: 0.7717 - precision_1: 0.6837 - recall_1: 0.7402 - val_loss: 0.4648 - val_accuracy: 0.7517 - val_precision_1: 0.6667 - val_recall_1: 0.6901 - 246ms/epoch - 15ms/step\n",
            "Epoch 9/10\n",
            "16/16 - 0s - loss: 0.4566 - accuracy: 0.7799 - precision_1: 0.7025 - recall_1: 0.7272 - val_loss: 0.4663 - val_accuracy: 0.7716 - val_precision_1: 0.7179 - val_recall_1: 0.6550 - 249ms/epoch - 16ms/step\n",
            "Epoch 10/10\n",
            "16/16 - 0s - loss: 0.4483 - accuracy: 0.7808 - precision_1: 0.6957 - recall_1: 0.7500 - val_loss: 0.4540 - val_accuracy: 0.7694 - val_precision_1: 0.7134 - val_recall_1: 0.6550 - 243ms/epoch - 15ms/step\n"
          ]
        }
      ]
    },
    {
      "cell_type": "code",
      "source": [
        "plt.style.use('ggplot')\n",
        "\n",
        "def plot_history(history):\n",
        "    acc = history.history['accuracy']\n",
        "    val_acc = history.history['val_accuracy']\n",
        "    loss = history.history['loss']\n",
        "    val_loss = history.history['val_loss']\n",
        "    x = range(1, len(acc) + 1)\n",
        "\n",
        "    plt.figure(figsize=(12, 2))\n",
        "    plt.subplot(1, 2, 1)\n",
        "    plt.plot(x, acc, 'b', label='Training acc')\n",
        "    plt.plot(x, val_acc, 'r', label='Validation acc')\n",
        "    plt.title('Training and validation accuracy')\n",
        "    plt.legend()\n",
        "    plt.subplot(1, 2, 2)\n",
        "    plt.plot(x, loss, 'b', label='Training loss')\n",
        "    plt.plot(x, val_loss, 'r', label='Validation loss')\n",
        "    plt.title('Training and validation loss')\n",
        "    plt.legend()\n",
        "\n",
        "%matplotlib inline\n",
        "plot_history(hist1)"
      ],
      "metadata": {
        "colab": {
          "base_uri": "https://localhost:8080/",
          "height": 174
        },
        "id": "K9oYv_Qix1Ca",
        "outputId": "2dc46ba8-c7b4-44f5-8ac1-64f2a392246e"
      },
      "execution_count": null,
      "outputs": [
        {
          "output_type": "display_data",
          "data": {
            "image/png": "[encoded data removed]",
            "text/plain": [
              "<Figure size 864x144 with 2 Axes>"
            ]
          },
          "metadata": {
            "needs_background": "light"
          }
        }
      ]
    },
    {
      "cell_type": "code",
      "source": [
        "loss, accuracy, precision, recall = model1.evaluate(X_test, y_test, verbose=0)\n",
        "print('Loss', loss)\n",
        "print('Accuracy', accuracy)\n",
        "print('Precision', precision)\n",
        "print('Recall', recall)\n",
        "\n",
        "f1_score = (2* recall*precision)/(recall+precision)\n",
        "print(\"f1_score\", f1_score)"
      ],
      "metadata": {
        "colab": {
          "base_uri": "https://localhost:8080/"
        },
        "id": "vSqdklYkyhhC",
        "outputId": "70fe11c8-6b8d-4f1d-b664-c9a4eeba14ba"
      },
      "execution_count": null,
      "outputs": [
        {
          "output_type": "stream",
          "name": "stdout",
          "text": [
            "Loss 0.4839818477630615\n",
            "Accuracy 0.7522202730178833\n",
            "Precision 0.7066246271133423\n",
            "Recall 0.5463414788246155\n",
            "f1_score 0.6162311046107612\n"
          ]
        }
      ]
    },
    {
      "cell_type": "markdown",
      "source": [
        "CNN-Rand"
      ],
      "metadata": {
        "id": "fFJZjyhl0ZqU"
      }
    },
    {
      "cell_type": "code",
      "source": [
        "from keras.layers import Embedding, Conv1D, MaxPooling1D, GlobalMaxPooling1D,Flatten \n",
        "import tensorflow as tf\n",
        "import keras\n",
        "\n",
        "#CNN architecture - non-static\n",
        "print(\"training CNN ...\")\n",
        "model2 = Sequential()\n",
        "model2.add(Embedding(vocabulary_size,EMBEDDING_DIM, input_length=maxlen, trainable=True))\n",
        "model2.add(Conv1D(64, 3, activation='relu', padding='same'))\n",
        "model2.add(MaxPooling1D(3))\n",
        "model2.add(Conv1D(64, 3, activation='relu', padding='same'))\n",
        "model2.add(MaxPooling1D(3))\n",
        "model2.add(Conv1D(64, 3, activation='relu', padding='same'))\n",
        "model2.add(MaxPooling1D(3))\n",
        "model2.add(Flatten())\n",
        "model2.add(Dropout(0.4))\n",
        "model2.add(Dense(64, activation='relu', kernel_regularizer=regularizers.l2(weight_decay)))\n",
        "model2.add(Dense(1, activation='sigmoid'))  \n",
        "opt = Adam(lr=1e-3)\n",
        "#model2.compile(loss='binary_crossentropy',optimizer=opt,metrics=[\"accuracy\",keras.metrics.Precision(),keras.metrics.Recall()])\n",
        "nadam = tf.keras.optimizers.Nadam(learning_rate=0.01, beta_1=0.9, beta_2=0.999, epsilon=0.025, name=\"Nadam\")\n",
        "\n",
        "model2.compile(loss='binary_crossentropy', optimizer=nadam, metrics=[\"accuracy\",keras.metrics.Precision(),keras.metrics.Recall()])\n",
        "model2.summary()"
      ],
      "metadata": {
        "colab": {
          "base_uri": "https://localhost:8080/"
        },
        "id": "QE1J8UXj0Y5s",
        "outputId": "03d1d707-e8a2-4e9b-ef1d-7c1bed29b950"
      },
      "execution_count": null,
      "outputs": [
        {
          "output_type": "stream",
          "name": "stdout",
          "text": [
            "training CNN ...\n",
            "Model: \"sequential_2\"\n",
            "_________________________________________________________________\n",
            " Layer (type)                Output Shape              Param #   \n",
            "=================================================================\n",
            " embedding_2 (Embedding)     (None, 183, 32)           640000    \n",
            "                                                                 \n",
            " conv1d_4 (Conv1D)           (None, 183, 64)           6208      \n",
            "                                                                 \n",
            " max_pooling1d (MaxPooling1D  (None, 61, 64)           0         \n",
            " )                                                               \n",
            "                                                                 \n",
            " conv1d_5 (Conv1D)           (None, 61, 64)            12352     \n",
            "                                                                 \n",
            " max_pooling1d_1 (MaxPooling  (None, 20, 64)           0         \n",
            " 1D)                                                             \n",
            "                                                                 \n",
            " conv1d_6 (Conv1D)           (None, 20, 64)            12352     \n",
            "                                                                 \n",
            " max_pooling1d_2 (MaxPooling  (None, 6, 64)            0         \n",
            " 1D)                                                             \n",
            "                                                                 \n",
            " flatten_2 (Flatten)         (None, 384)               0         \n",
            "                                                                 \n",
            " dropout_4 (Dropout)         (None, 384)               0         \n",
            "                                                                 \n",
            " dense_6 (Dense)             (None, 64)                24640     \n",
            "                                                                 \n",
            " dense_7 (Dense)             (None, 1)                 65        \n",
            "                                                                 \n",
            "=================================================================\n",
            "Total params: 695,617\n",
            "Trainable params: 695,617\n",
            "Non-trainable params: 0\n",
            "_________________________________________________________________\n"
          ]
        },
        {
          "output_type": "stream",
          "name": "stderr",
          "text": [
            "/usr/local/lib/python3.7/dist-packages/keras/optimizer_v2/adam.py:105: UserWarning: The `lr` argument is deprecated, use `learning_rate` instead.\n",
            "  super(Adam, self).__init__(name, **kwargs)\n"
          ]
        }
      ]
    },
    {
      "cell_type": "code",
      "source": [
        "from keras.callbacks import EarlyStopping\n",
        "#define callbacks\n",
        "early_stopping = EarlyStopping(monitor='val_loss', min_delta=0.01, patience=30, verbose=1)\n",
        "callbacks_list = [early_stopping]\n",
        "#model training\n",
        "hist2 = model2.fit(X_train, y_train, batch_size=batch_size, epochs=60, callbacks=callbacks_list, validation_split=0.1, shuffle=True, verbose=2)"
      ],
      "metadata": {
        "colab": {
          "base_uri": "https://localhost:8080/"
        },
        "id": "VZ8oTzTG0qoX",
        "outputId": "d02dba2f-e0cc-4520-8a42-a6fb00276262"
      },
      "execution_count": null,
      "outputs": [
        {
          "output_type": "stream",
          "name": "stdout",
          "text": [
            "Epoch 1/60\n",
            "16/16 - 3s - loss: 0.6832 - accuracy: 0.6197 - precision_2: 0.4242 - recall_2: 0.0091 - val_loss: 0.6743 - val_accuracy: 0.6208 - val_precision_2: 0.0000e+00 - val_recall_2: 0.0000e+00 - 3s/epoch - 159ms/step\n",
            "Epoch 2/60\n",
            "16/16 - 0s - loss: 0.6745 - accuracy: 0.6209 - precision_2: 0.0000e+00 - recall_2: 0.0000e+00 - val_loss: 0.6739 - val_accuracy: 0.6208 - val_precision_2: 0.0000e+00 - val_recall_2: 0.0000e+00 - 177ms/epoch - 11ms/step\n",
            "Epoch 3/60\n",
            "16/16 - 0s - loss: 0.6747 - accuracy: 0.6209 - precision_2: 0.0000e+00 - recall_2: 0.0000e+00 - val_loss: 0.6739 - val_accuracy: 0.6208 - val_precision_2: 0.0000e+00 - val_recall_2: 0.0000e+00 - 175ms/epoch - 11ms/step\n",
            "Epoch 4/60\n",
            "16/16 - 0s - loss: 0.6742 - accuracy: 0.6209 - precision_2: 0.0000e+00 - recall_2: 0.0000e+00 - val_loss: 0.6737 - val_accuracy: 0.6208 - val_precision_2: 0.0000e+00 - val_recall_2: 0.0000e+00 - 164ms/epoch - 10ms/step\n",
            "Epoch 5/60\n",
            "16/16 - 0s - loss: 0.6730 - accuracy: 0.6209 - precision_2: 0.0000e+00 - recall_2: 0.0000e+00 - val_loss: 0.6740 - val_accuracy: 0.6208 - val_precision_2: 0.0000e+00 - val_recall_2: 0.0000e+00 - 168ms/epoch - 11ms/step\n",
            "Epoch 6/60\n",
            "16/16 - 0s - loss: 0.6742 - accuracy: 0.6209 - precision_2: 0.0000e+00 - recall_2: 0.0000e+00 - val_loss: 0.6735 - val_accuracy: 0.6208 - val_precision_2: 0.0000e+00 - val_recall_2: 0.0000e+00 - 162ms/epoch - 10ms/step\n",
            "Epoch 7/60\n",
            "16/16 - 0s - loss: 0.6734 - accuracy: 0.6209 - precision_2: 0.0000e+00 - recall_2: 0.0000e+00 - val_loss: 0.6731 - val_accuracy: 0.6208 - val_precision_2: 0.0000e+00 - val_recall_2: 0.0000e+00 - 172ms/epoch - 11ms/step\n",
            "Epoch 8/60\n",
            "16/16 - 0s - loss: 0.6731 - accuracy: 0.6209 - precision_2: 0.0000e+00 - recall_2: 0.0000e+00 - val_loss: 0.6728 - val_accuracy: 0.6208 - val_precision_2: 0.0000e+00 - val_recall_2: 0.0000e+00 - 162ms/epoch - 10ms/step\n",
            "Epoch 9/60\n",
            "16/16 - 0s - loss: 0.6723 - accuracy: 0.6209 - precision_2: 0.0000e+00 - recall_2: 0.0000e+00 - val_loss: 0.6729 - val_accuracy: 0.6208 - val_precision_2: 0.0000e+00 - val_recall_2: 0.0000e+00 - 162ms/epoch - 10ms/step\n",
            "Epoch 10/60\n",
            "16/16 - 0s - loss: 0.6724 - accuracy: 0.6209 - precision_2: 0.0000e+00 - recall_2: 0.0000e+00 - val_loss: 0.6725 - val_accuracy: 0.6208 - val_precision_2: 0.0000e+00 - val_recall_2: 0.0000e+00 - 162ms/epoch - 10ms/step\n",
            "Epoch 11/60\n",
            "16/16 - 0s - loss: 0.6709 - accuracy: 0.6209 - precision_2: 0.0000e+00 - recall_2: 0.0000e+00 - val_loss: 0.6719 - val_accuracy: 0.6208 - val_precision_2: 0.0000e+00 - val_recall_2: 0.0000e+00 - 167ms/epoch - 10ms/step\n",
            "Epoch 12/60\n",
            "16/16 - 0s - loss: 0.6706 - accuracy: 0.6209 - precision_2: 0.0000e+00 - recall_2: 0.0000e+00 - val_loss: 0.6719 - val_accuracy: 0.6208 - val_precision_2: 0.0000e+00 - val_recall_2: 0.0000e+00 - 171ms/epoch - 11ms/step\n",
            "Epoch 13/60\n",
            "16/16 - 0s - loss: 0.6704 - accuracy: 0.6209 - precision_2: 0.0000e+00 - recall_2: 0.0000e+00 - val_loss: 0.6717 - val_accuracy: 0.6208 - val_precision_2: 0.0000e+00 - val_recall_2: 0.0000e+00 - 173ms/epoch - 11ms/step\n",
            "Epoch 14/60\n",
            "16/16 - 0s - loss: 0.6713 - accuracy: 0.6209 - precision_2: 0.0000e+00 - recall_2: 0.0000e+00 - val_loss: 0.6727 - val_accuracy: 0.6208 - val_precision_2: 0.0000e+00 - val_recall_2: 0.0000e+00 - 165ms/epoch - 10ms/step\n",
            "Epoch 15/60\n",
            "16/16 - 0s - loss: 0.6696 - accuracy: 0.6209 - precision_2: 0.0000e+00 - recall_2: 0.0000e+00 - val_loss: 0.6713 - val_accuracy: 0.6208 - val_precision_2: 0.0000e+00 - val_recall_2: 0.0000e+00 - 164ms/epoch - 10ms/step\n",
            "Epoch 16/60\n",
            "16/16 - 0s - loss: 0.6693 - accuracy: 0.6209 - precision_2: 0.0000e+00 - recall_2: 0.0000e+00 - val_loss: 0.6708 - val_accuracy: 0.6208 - val_precision_2: 0.0000e+00 - val_recall_2: 0.0000e+00 - 166ms/epoch - 10ms/step\n",
            "Epoch 17/60\n",
            "16/16 - 0s - loss: 0.6693 - accuracy: 0.6209 - precision_2: 0.0000e+00 - recall_2: 0.0000e+00 - val_loss: 0.6717 - val_accuracy: 0.6208 - val_precision_2: 0.0000e+00 - val_recall_2: 0.0000e+00 - 167ms/epoch - 10ms/step\n",
            "Epoch 18/60\n",
            "16/16 - 0s - loss: 0.6687 - accuracy: 0.6209 - precision_2: 0.0000e+00 - recall_2: 0.0000e+00 - val_loss: 0.6706 - val_accuracy: 0.6208 - val_precision_2: 0.0000e+00 - val_recall_2: 0.0000e+00 - 165ms/epoch - 10ms/step\n",
            "Epoch 19/60\n",
            "16/16 - 0s - loss: 0.6682 - accuracy: 0.6209 - precision_2: 0.0000e+00 - recall_2: 0.0000e+00 - val_loss: 0.6716 - val_accuracy: 0.6208 - val_precision_2: 0.0000e+00 - val_recall_2: 0.0000e+00 - 176ms/epoch - 11ms/step\n",
            "Epoch 20/60\n",
            "16/16 - 0s - loss: 0.6666 - accuracy: 0.6209 - precision_2: 0.0000e+00 - recall_2: 0.0000e+00 - val_loss: 0.6713 - val_accuracy: 0.6208 - val_precision_2: 0.0000e+00 - val_recall_2: 0.0000e+00 - 160ms/epoch - 10ms/step\n",
            "Epoch 21/60\n",
            "16/16 - 0s - loss: 0.6662 - accuracy: 0.6209 - precision_2: 0.0000e+00 - recall_2: 0.0000e+00 - val_loss: 0.6708 - val_accuracy: 0.6208 - val_precision_2: 0.0000e+00 - val_recall_2: 0.0000e+00 - 166ms/epoch - 10ms/step\n",
            "Epoch 22/60\n",
            "16/16 - 0s - loss: 0.6660 - accuracy: 0.6202 - precision_2: 0.2000 - recall_2: 6.5104e-04 - val_loss: 0.6701 - val_accuracy: 0.6208 - val_precision_2: 0.0000e+00 - val_recall_2: 0.0000e+00 - 159ms/epoch - 10ms/step\n",
            "Epoch 23/60\n",
            "16/16 - 0s - loss: 0.6638 - accuracy: 0.6209 - precision_2: 0.0000e+00 - recall_2: 0.0000e+00 - val_loss: 0.6688 - val_accuracy: 0.6208 - val_precision_2: 0.0000e+00 - val_recall_2: 0.0000e+00 - 164ms/epoch - 10ms/step\n",
            "Epoch 24/60\n",
            "16/16 - 0s - loss: 0.6632 - accuracy: 0.6214 - precision_2: 0.7500 - recall_2: 0.0020 - val_loss: 0.6678 - val_accuracy: 0.6208 - val_precision_2: 0.0000e+00 - val_recall_2: 0.0000e+00 - 176ms/epoch - 11ms/step\n",
            "Epoch 25/60\n",
            "16/16 - 0s - loss: 0.6596 - accuracy: 0.6219 - precision_2: 0.8333 - recall_2: 0.0033 - val_loss: 0.6669 - val_accuracy: 0.6208 - val_precision_2: 0.0000e+00 - val_recall_2: 0.0000e+00 - 178ms/epoch - 11ms/step\n",
            "Epoch 26/60\n",
            "16/16 - 0s - loss: 0.6588 - accuracy: 0.6214 - precision_2: 0.5227 - recall_2: 0.0150 - val_loss: 0.6650 - val_accuracy: 0.6208 - val_precision_2: 0.0000e+00 - val_recall_2: 0.0000e+00 - 169ms/epoch - 11ms/step\n",
            "Epoch 27/60\n",
            "16/16 - 0s - loss: 0.6566 - accuracy: 0.6224 - precision_2: 0.5714 - recall_2: 0.0156 - val_loss: 0.6624 - val_accuracy: 0.6208 - val_precision_2: 0.0000e+00 - val_recall_2: 0.0000e+00 - 165ms/epoch - 10ms/step\n",
            "Epoch 28/60\n",
            "16/16 - 0s - loss: 0.6502 - accuracy: 0.6249 - precision_2: 0.6026 - recall_2: 0.0306 - val_loss: 0.6567 - val_accuracy: 0.6208 - val_precision_2: 0.5000 - val_recall_2: 0.0175 - 162ms/epoch - 10ms/step\n",
            "Epoch 29/60\n",
            "16/16 - 0s - loss: 0.6425 - accuracy: 0.6343 - precision_2: 0.6007 - recall_2: 0.1048 - val_loss: 0.6507 - val_accuracy: 0.6231 - val_precision_2: 0.6000 - val_recall_2: 0.0175 - 165ms/epoch - 10ms/step\n",
            "Epoch 30/60\n",
            "16/16 - 0s - loss: 0.6397 - accuracy: 0.6399 - precision_2: 0.5626 - recall_2: 0.2253 - val_loss: 0.6385 - val_accuracy: 0.6541 - val_precision_2: 0.5862 - val_recall_2: 0.2982 - 190ms/epoch - 12ms/step\n",
            "Epoch 31/60\n",
            "16/16 - 0s - loss: 0.6292 - accuracy: 0.6649 - precision_2: 0.6055 - recall_2: 0.3327 - val_loss: 0.6294 - val_accuracy: 0.6341 - val_precision_2: 0.5682 - val_recall_2: 0.1462 - 167ms/epoch - 10ms/step\n",
            "Epoch 32/60\n",
            "16/16 - 0s - loss: 0.5955 - accuracy: 0.6841 - precision_2: 0.6293 - recall_2: 0.4056 - val_loss: 0.5995 - val_accuracy: 0.6741 - val_precision_2: 0.6132 - val_recall_2: 0.3801 - 173ms/epoch - 11ms/step\n",
            "Epoch 33/60\n",
            "16/16 - 0s - loss: 0.5785 - accuracy: 0.6957 - precision_2: 0.6185 - recall_2: 0.5150 - val_loss: 0.5793 - val_accuracy: 0.7073 - val_precision_2: 0.6345 - val_recall_2: 0.5380 - 166ms/epoch - 10ms/step\n",
            "Epoch 34/60\n",
            "16/16 - 0s - loss: 0.5492 - accuracy: 0.7196 - precision_2: 0.6393 - recall_2: 0.5977 - val_loss: 0.5706 - val_accuracy: 0.6674 - val_precision_2: 0.5459 - val_recall_2: 0.7310 - 161ms/epoch - 10ms/step\n",
            "Epoch 35/60\n",
            "16/16 - 0s - loss: 0.5080 - accuracy: 0.7480 - precision_2: 0.6689 - recall_2: 0.6641 - val_loss: 0.5416 - val_accuracy: 0.6896 - val_precision_2: 0.5695 - val_recall_2: 0.7427 - 163ms/epoch - 10ms/step\n",
            "Epoch 36/60\n",
            "16/16 - 0s - loss: 0.4748 - accuracy: 0.7668 - precision_2: 0.6788 - recall_2: 0.7305 - val_loss: 0.5317 - val_accuracy: 0.7384 - val_precision_2: 0.6992 - val_recall_2: 0.5439 - 179ms/epoch - 11ms/step\n",
            "Epoch 37/60\n",
            "16/16 - 0s - loss: 0.4117 - accuracy: 0.8208 - precision_2: 0.7491 - recall_2: 0.7930 - val_loss: 0.5118 - val_accuracy: 0.7251 - val_precision_2: 0.6181 - val_recall_2: 0.7193 - 163ms/epoch - 10ms/step\n",
            "Epoch 38/60\n",
            "16/16 - 0s - loss: 0.3732 - accuracy: 0.8408 - precision_2: 0.7731 - recall_2: 0.8210 - val_loss: 0.5733 - val_accuracy: 0.7450 - val_precision_2: 0.7090 - val_recall_2: 0.5556 - 168ms/epoch - 11ms/step\n",
            "Epoch 39/60\n",
            "16/16 - 0s - loss: 0.3004 - accuracy: 0.8801 - precision_2: 0.8233 - recall_2: 0.8704 - val_loss: 0.7613 - val_accuracy: 0.7251 - val_precision_2: 0.7701 - val_recall_2: 0.3918 - 168ms/epoch - 11ms/step\n",
            "Epoch 40/60\n",
            "16/16 - 0s - loss: 0.2494 - accuracy: 0.9124 - precision_2: 0.8688 - recall_2: 0.9056 - val_loss: 0.5990 - val_accuracy: 0.7583 - val_precision_2: 0.6582 - val_recall_2: 0.7544 - 162ms/epoch - 10ms/step\n",
            "Epoch 41/60\n",
            "16/16 - 0s - loss: 0.1629 - accuracy: 0.9573 - precision_2: 0.9311 - recall_2: 0.9583 - val_loss: 0.9900 - val_accuracy: 0.7206 - val_precision_2: 0.8000 - val_recall_2: 0.3509 - 164ms/epoch - 10ms/step\n",
            "Epoch 42/60\n",
            "16/16 - 0s - loss: 0.2015 - accuracy: 0.9304 - precision_2: 0.8948 - recall_2: 0.9251 - val_loss: 0.7332 - val_accuracy: 0.7472 - val_precision_2: 0.7111 - val_recall_2: 0.5614 - 167ms/epoch - 10ms/step\n",
            "Epoch 43/60\n",
            "16/16 - 0s - loss: 0.1093 - accuracy: 0.9731 - precision_2: 0.9559 - recall_2: 0.9740 - val_loss: 0.7653 - val_accuracy: 0.7738 - val_precision_2: 0.7143 - val_recall_2: 0.6725 - 161ms/epoch - 10ms/step\n",
            "Epoch 44/60\n",
            "16/16 - 0s - loss: 0.0932 - accuracy: 0.9768 - precision_2: 0.9640 - recall_2: 0.9753 - val_loss: 0.8194 - val_accuracy: 0.7494 - val_precision_2: 0.6747 - val_recall_2: 0.6550 - 172ms/epoch - 11ms/step\n",
            "Epoch 45/60\n",
            "16/16 - 0s - loss: 0.0903 - accuracy: 0.9780 - precision_2: 0.9635 - recall_2: 0.9792 - val_loss: 0.7823 - val_accuracy: 0.7627 - val_precision_2: 0.6882 - val_recall_2: 0.6842 - 166ms/epoch - 10ms/step\n",
            "Epoch 46/60\n",
            "16/16 - 0s - loss: 0.0945 - accuracy: 0.9763 - precision_2: 0.9663 - recall_2: 0.9714 - val_loss: 0.7701 - val_accuracy: 0.7605 - val_precision_2: 0.6760 - val_recall_2: 0.7076 - 159ms/epoch - 10ms/step\n",
            "Epoch 47/60\n",
            "16/16 - 0s - loss: 0.0830 - accuracy: 0.9798 - precision_2: 0.9678 - recall_2: 0.9792 - val_loss: 0.8460 - val_accuracy: 0.7583 - val_precision_2: 0.7348 - val_recall_2: 0.5673 - 162ms/epoch - 10ms/step\n",
            "Epoch 48/60\n",
            "16/16 - 0s - loss: 0.0892 - accuracy: 0.9770 - precision_2: 0.9670 - recall_2: 0.9727 - val_loss: 0.8131 - val_accuracy: 0.7472 - val_precision_2: 0.6592 - val_recall_2: 0.6901 - 170ms/epoch - 11ms/step\n",
            "Epoch 49/60\n",
            "16/16 - 0s - loss: 0.0799 - accuracy: 0.9815 - precision_2: 0.9710 - recall_2: 0.9805 - val_loss: 0.8110 - val_accuracy: 0.7605 - val_precision_2: 0.7172 - val_recall_2: 0.6082 - 168ms/epoch - 10ms/step\n",
            "Epoch 50/60\n",
            "16/16 - 0s - loss: 0.0812 - accuracy: 0.9805 - precision_2: 0.9691 - recall_2: 0.9798 - val_loss: 0.8138 - val_accuracy: 0.7583 - val_precision_2: 0.6987 - val_recall_2: 0.6374 - 165ms/epoch - 10ms/step\n",
            "Epoch 51/60\n",
            "16/16 - 0s - loss: 0.0788 - accuracy: 0.9798 - precision_2: 0.9684 - recall_2: 0.9785 - val_loss: 0.8204 - val_accuracy: 0.7517 - val_precision_2: 0.6513 - val_recall_2: 0.7427 - 162ms/epoch - 10ms/step\n",
            "Epoch 52/60\n",
            "16/16 - 0s - loss: 0.0787 - accuracy: 0.9800 - precision_2: 0.9703 - recall_2: 0.9772 - val_loss: 0.7805 - val_accuracy: 0.7605 - val_precision_2: 0.6909 - val_recall_2: 0.6667 - 164ms/epoch - 10ms/step\n",
            "Epoch 53/60\n",
            "16/16 - 0s - loss: 0.0764 - accuracy: 0.9788 - precision_2: 0.9683 - recall_2: 0.9759 - val_loss: 0.8101 - val_accuracy: 0.7561 - val_precision_2: 0.6805 - val_recall_2: 0.6725 - 161ms/epoch - 10ms/step\n",
            "Epoch 54/60\n",
            "16/16 - 0s - loss: 0.0748 - accuracy: 0.9793 - precision_2: 0.9684 - recall_2: 0.9772 - val_loss: 0.8130 - val_accuracy: 0.7494 - val_precision_2: 0.6812 - val_recall_2: 0.6374 - 167ms/epoch - 10ms/step\n",
            "Epoch 55/60\n",
            "16/16 - 0s - loss: 0.0725 - accuracy: 0.9790 - precision_2: 0.9678 - recall_2: 0.9772 - val_loss: 0.7911 - val_accuracy: 0.7627 - val_precision_2: 0.6720 - val_recall_2: 0.7310 - 170ms/epoch - 11ms/step\n",
            "Epoch 56/60\n",
            "16/16 - 0s - loss: 0.0696 - accuracy: 0.9783 - precision_2: 0.9653 - recall_2: 0.9779 - val_loss: 0.7837 - val_accuracy: 0.7494 - val_precision_2: 0.6593 - val_recall_2: 0.7018 - 166ms/epoch - 10ms/step\n",
            "Epoch 57/60\n",
            "16/16 - 0s - loss: 0.0665 - accuracy: 0.9825 - precision_2: 0.9729 - recall_2: 0.9811 - val_loss: 0.8112 - val_accuracy: 0.7561 - val_precision_2: 0.6517 - val_recall_2: 0.7661 - 162ms/epoch - 10ms/step\n",
            "Epoch 58/60\n",
            "16/16 - 0s - loss: 0.0680 - accuracy: 0.9810 - precision_2: 0.9703 - recall_2: 0.9798 - val_loss: 0.8049 - val_accuracy: 0.7561 - val_precision_2: 0.6614 - val_recall_2: 0.7310 - 169ms/epoch - 11ms/step\n",
            "Epoch 59/60\n",
            "16/16 - 0s - loss: 0.0687 - accuracy: 0.9815 - precision_2: 0.9704 - recall_2: 0.9811 - val_loss: 0.8187 - val_accuracy: 0.7494 - val_precision_2: 0.6510 - val_recall_2: 0.7310 - 164ms/epoch - 10ms/step\n",
            "Epoch 60/60\n",
            "16/16 - 0s - loss: 0.0673 - accuracy: 0.9805 - precision_2: 0.9715 - recall_2: 0.9772 - val_loss: 0.7947 - val_accuracy: 0.7517 - val_precision_2: 0.6513 - val_recall_2: 0.7427 - 166ms/epoch - 10ms/step\n"
          ]
        }
      ]
    },
    {
      "cell_type": "code",
      "source": [
        "loss, accuracy, precision, recall = model2.evaluate(X_test, y_test, verbose=0)\n",
        "print('Loss', loss)\n",
        "print('Accuracy', accuracy)\n",
        "print('Precision', precision)\n",
        "print('Recall', recall)\n",
        "\n",
        "f1_score = (2* recall*precision)/(recall+precision)\n",
        "print(\"f1_score\", f1_score)"
      ],
      "metadata": {
        "colab": {
          "base_uri": "https://localhost:8080/"
        },
        "id": "n0kNU-nB1JKj",
        "outputId": "154203fa-adfe-4327-95d7-45d3ec276af9"
      },
      "execution_count": null,
      "outputs": [
        {
          "output_type": "stream",
          "name": "stdout",
          "text": [
            "Loss 0.7825485467910767\n",
            "Accuracy 0.7690941095352173\n",
            "Precision 0.6802884340286255\n",
            "Recall 0.6902438998222351\n",
            "f1_score 0.6852300089681462\n"
          ]
        }
      ]
    },
    {
      "cell_type": "code",
      "source": [
        "plt.style.use('ggplot')\n",
        "\n",
        "def plot_history(history):\n",
        "    acc = history.history['accuracy']\n",
        "    val_acc = history.history['val_accuracy']\n",
        "    loss = history.history['loss']\n",
        "    val_loss = history.history['val_loss']\n",
        "    x = range(1, len(acc) + 1)\n",
        "\n",
        "    plt.figure(figsize=(12, 2))\n",
        "    plt.subplot(1, 2, 1)\n",
        "    plt.plot(x, acc, 'b', label='Training acc')\n",
        "    plt.plot(x, val_acc, 'r', label='Validation acc')\n",
        "    plt.title('Training and validation accuracy')\n",
        "    plt.legend()\n",
        "    plt.subplot(1, 2, 2)\n",
        "    plt.plot(x, loss, 'b', label='Training loss')\n",
        "    plt.plot(x, val_loss, 'r', label='Validation loss')\n",
        "    plt.title('Training and validation loss')\n",
        "    plt.legend()\n",
        "\n",
        "%matplotlib inline\n",
        "plot_history(hist1)"
      ],
      "metadata": {
        "colab": {
          "base_uri": "https://localhost:8080/",
          "height": 174
        },
        "id": "EQPn-yQ91UcA",
        "outputId": "3ecdd0c4-a50b-44b6-f1b9-f7188bd7d293"
      },
      "execution_count": null,
      "outputs": [
        {
          "output_type": "display_data",
          "data": {
            "image/png": "[encoded data removed]",
            "text/plain": [
              "<Figure size 864x144 with 2 Axes>"
            ]
          },
          "metadata": {
            "needs_background": "light"
          }
        }
      ]
    },
    {
      "cell_type": "markdown",
      "source": [
        "### Multi-channel"
      ],
      "metadata": {
        "id": "lFkMYddUmj6f"
      }
    },
    {
      "cell_type": "code",
      "source": [
        "import tensorflow as tf \n",
        "from pickle import load\n",
        "from numpy import array\n",
        "from keras.preprocessing.text import Tokenizer\n",
        "from keras.preprocessing.sequence import pad_sequences\n",
        "from keras.utils.vis_utils import plot_model\n",
        "from keras.models import Model\n",
        "from keras.layers import Input\n",
        "from keras.layers import Dense\n",
        "from keras.layers import Flatten\n",
        "from keras.layers import Dropout\n",
        "from keras.layers import Embedding, GlobalMaxPooling1D\n",
        "from keras.layers.convolutional import Conv1D\n",
        "from keras.layers.convolutional import MaxPooling1D\n",
        "from keras.layers.merge import concatenate\n",
        "\n",
        "from tensorflow import keras\n",
        "import tensorflow as tf \n"
      ],
      "metadata": {
        "id": "fSVDvFf0mpDI"
      },
      "execution_count": null,
      "outputs": []
    },
    {
      "cell_type": "code",
      "source": [
        "from keras.layers import Input\n",
        "\n",
        "inputs1 = Input(shape=(maxlen,))\n",
        "\n",
        "# channel 1\n",
        "embedding1 = Embedding(vocabulary_size, 32, weights=[embedding_matrix],trainable = True)(inputs1)\n",
        "\n",
        "drop = Dropout(0.2)(embedding1)\n",
        "\n",
        "conv1 = Conv1D(filters=64, kernel_size=2, activation='relu')(drop)\n",
        "pool1 = MaxPooling1D(pool_size=5,padding='same')(conv1)\n",
        "drop1 = Dropout(0.2)(pool1)\n",
        "\n",
        "conv1 = Conv1D(filters=64, kernel_size=3, activation='relu')(drop1)\n",
        "pool1 = MaxPooling1D(pool_size=5,padding='same')(conv1)\n",
        "drop1 = Dropout(0.2)(pool1)\n",
        "\n",
        "conv1 = Conv1D(filters=64, kernel_size=5, activation='relu')(drop1)\n",
        "pool1 = MaxPooling1D(pool_size=5,padding='same')(conv1)\n",
        "drop1 = Dropout(0.2)(pool1)\n",
        "flat1 = Flatten()(drop1)"
      ],
      "metadata": {
        "id": "U2ID8pZRmuGs"
      },
      "execution_count": null,
      "outputs": []
    },
    {
      "cell_type": "code",
      "source": [
        "from keras.layers import Input\n",
        "\n",
        "# channel 2\n",
        "embedding2 = Embedding(vocabulary_size, 32, weights=[embedding_matrix],trainable = False)(inputs1)\n",
        "\n",
        "conv2 = Conv1D(filters=64, kernel_size=2, activation='relu')(embedding2)\n",
        "pool2 = MaxPooling1D(pool_size=5,padding='same')(conv2)\n",
        "drop2 = Dropout(0.2)(pool2)\n",
        "\n",
        "conv2 = Conv1D(filters=64, kernel_size=3, activation='relu')(drop2)\n",
        "pool2 = MaxPooling1D(pool_size=5,padding='same')(conv2)\n",
        "drop2 = Dropout(0.2)(pool2)\n",
        "\n",
        "conv2 = Conv1D(filters=64, kernel_size=5, activation='relu')(drop2)\n",
        "pool2 = MaxPooling1D(pool_size=5,padding='same')(conv2)\n",
        "drop2 = Dropout(0.2)(pool2)\n",
        "flat2 = Flatten()(drop2)"
      ],
      "metadata": {
        "id": "glnO__CCnMUy"
      },
      "execution_count": null,
      "outputs": []
    },
    {
      "cell_type": "code",
      "source": [
        "merged = concatenate([flat1, flat2])\n",
        "\n",
        "# interpretation\n",
        "dense1 = Dense(32, activation='relu')(merged)\n",
        "drop2 = Dropout(0.4)(dense1)\n",
        "#dense1 = Dense(128, activation='relu',kernel_regularizer=regularizers.l2(weight_decay))(drop2)\n",
        "dense2 = Dense(64, activation='relu',kernel_regularizer=regularizers.l2(weight_decay))(dense1)\n",
        "outputs = Dense(1, activation='sigmoid')(dense2)\n",
        "\n",
        "model3 = Model(inputs=inputs1, outputs=outputs)\n",
        "\n",
        "# compile\n",
        "model3.compile(loss='binary_crossentropy', optimizer='adam', metrics=[\"accuracy\",keras.metrics.Precision(),keras.metrics.Recall()])\n",
        "# summarize\n",
        "print(model3.summary())\n",
        "\n",
        "#plot_model(model, show_shapes=True, to_file='multichannel.png')"
      ],
      "metadata": {
        "colab": {
          "base_uri": "https://localhost:8080/"
        },
        "id": "zwvR-GrgnUYy",
        "outputId": "cfa529de-cb12-4bed-c9c8-c7834b1a19d2"
      },
      "execution_count": null,
      "outputs": [
        {
          "output_type": "stream",
          "name": "stdout",
          "text": [
            "Model: \"model\"\n",
            "__________________________________________________________________________________________________\n",
            " Layer (type)                   Output Shape         Param #     Connected to                     \n",
            "==================================================================================================\n",
            " input_2 (InputLayer)           [(None, 183)]        0           []                               \n",
            "                                                                                                  \n",
            " embedding_4 (Embedding)        (None, 183, 32)      640000      ['input_2[0][0]']                \n",
            "                                                                                                  \n",
            " dropout_5 (Dropout)            (None, 183, 32)      0           ['embedding_4[0][0]']            \n",
            "                                                                                                  \n",
            " embedding_5 (Embedding)        (None, 183, 32)      640000      ['input_2[0][0]']                \n",
            "                                                                                                  \n",
            " conv1d_7 (Conv1D)              (None, 182, 64)      4160        ['dropout_5[0][0]']              \n",
            "                                                                                                  \n",
            " conv1d_10 (Conv1D)             (None, 182, 64)      4160        ['embedding_5[0][0]']            \n",
            "                                                                                                  \n",
            " max_pooling1d_3 (MaxPooling1D)  (None, 37, 64)      0           ['conv1d_7[0][0]']               \n",
            "                                                                                                  \n",
            " max_pooling1d_6 (MaxPooling1D)  (None, 37, 64)      0           ['conv1d_10[0][0]']              \n",
            "                                                                                                  \n",
            " dropout_6 (Dropout)            (None, 37, 64)       0           ['max_pooling1d_3[0][0]']        \n",
            "                                                                                                  \n",
            " dropout_9 (Dropout)            (None, 37, 64)       0           ['max_pooling1d_6[0][0]']        \n",
            "                                                                                                  \n",
            " conv1d_8 (Conv1D)              (None, 35, 64)       12352       ['dropout_6[0][0]']              \n",
            "                                                                                                  \n",
            " conv1d_11 (Conv1D)             (None, 35, 64)       12352       ['dropout_9[0][0]']              \n",
            "                                                                                                  \n",
            " max_pooling1d_4 (MaxPooling1D)  (None, 7, 64)       0           ['conv1d_8[0][0]']               \n",
            "                                                                                                  \n",
            " max_pooling1d_7 (MaxPooling1D)  (None, 7, 64)       0           ['conv1d_11[0][0]']              \n",
            "                                                                                                  \n",
            " dropout_7 (Dropout)            (None, 7, 64)        0           ['max_pooling1d_4[0][0]']        \n",
            "                                                                                                  \n",
            " dropout_10 (Dropout)           (None, 7, 64)        0           ['max_pooling1d_7[0][0]']        \n",
            "                                                                                                  \n",
            " conv1d_9 (Conv1D)              (None, 3, 64)        20544       ['dropout_7[0][0]']              \n",
            "                                                                                                  \n",
            " conv1d_12 (Conv1D)             (None, 3, 64)        20544       ['dropout_10[0][0]']             \n",
            "                                                                                                  \n",
            " max_pooling1d_5 (MaxPooling1D)  (None, 1, 64)       0           ['conv1d_9[0][0]']               \n",
            "                                                                                                  \n",
            " max_pooling1d_8 (MaxPooling1D)  (None, 1, 64)       0           ['conv1d_12[0][0]']              \n",
            "                                                                                                  \n",
            " dropout_8 (Dropout)            (None, 1, 64)        0           ['max_pooling1d_5[0][0]']        \n",
            "                                                                                                  \n",
            " dropout_11 (Dropout)           (None, 1, 64)        0           ['max_pooling1d_8[0][0]']        \n",
            "                                                                                                  \n",
            " flatten_3 (Flatten)            (None, 64)           0           ['dropout_8[0][0]']              \n",
            "                                                                                                  \n",
            " flatten_4 (Flatten)            (None, 64)           0           ['dropout_11[0][0]']             \n",
            "                                                                                                  \n",
            " concatenate (Concatenate)      (None, 128)          0           ['flatten_3[0][0]',              \n",
            "                                                                  'flatten_4[0][0]']              \n",
            "                                                                                                  \n",
            " dense_8 (Dense)                (None, 32)           4128        ['concatenate[0][0]']            \n",
            "                                                                                                  \n",
            " dense_9 (Dense)                (None, 64)           2112        ['dense_8[0][0]']                \n",
            "                                                                                                  \n",
            " dense_10 (Dense)               (None, 1)            65          ['dense_9[0][0]']                \n",
            "                                                                                                  \n",
            "==================================================================================================\n",
            "Total params: 1,360,417\n",
            "Trainable params: 720,417\n",
            "Non-trainable params: 640,000\n",
            "__________________________________________________________________________________________________\n",
            "None\n"
          ]
        }
      ]
    },
    {
      "cell_type": "code",
      "source": [
        "from keras.callbacks import EarlyStopping\n",
        "#define callbacks\n",
        "early_stopping = EarlyStopping(monitor='val_loss', min_delta=0.01, patience=4, verbose=1)\n",
        "callbacks_list = [early_stopping]\n",
        "#model training\n",
        "hist3 = model3.fit(X_train, y_train, batch_size=batch_size, epochs=10, callbacks=callbacks_list, validation_split=0.1, shuffle=True, verbose=2)"
      ],
      "metadata": {
        "colab": {
          "base_uri": "https://localhost:8080/"
        },
        "id": "y5s8tswvnoSe",
        "outputId": "35380665-397c-4b65-bc81-b5b76c4f2e89"
      },
      "execution_count": null,
      "outputs": [
        {
          "output_type": "stream",
          "name": "stdout",
          "text": [
            "Epoch 1/10\n",
            "16/16 - 3s - loss: 0.6454 - accuracy: 0.6217 - precision_3: 0.5224 - recall_3: 0.0228 - val_loss: 0.5937 - val_accuracy: 0.6408 - val_precision_3: 0.5789 - val_recall_3: 0.1930 - 3s/epoch - 157ms/step\n",
            "Epoch 2/10\n",
            "16/16 - 0s - loss: 0.5584 - accuracy: 0.6945 - precision_3: 0.6382 - recall_3: 0.4479 - val_loss: 0.5052 - val_accuracy: 0.7295 - val_precision_3: 0.6296 - val_recall_3: 0.6959 - 220ms/epoch - 14ms/step\n",
            "Epoch 3/10\n",
            "16/16 - 0s - loss: 0.5052 - accuracy: 0.7377 - precision_3: 0.6436 - recall_3: 0.6901 - val_loss: 0.4964 - val_accuracy: 0.7361 - val_precision_3: 0.6171 - val_recall_3: 0.8012 - 217ms/epoch - 14ms/step\n",
            "Epoch 4/10\n",
            "16/16 - 0s - loss: 0.4884 - accuracy: 0.7574 - precision_3: 0.6627 - recall_3: 0.7331 - val_loss: 0.4831 - val_accuracy: 0.7317 - val_precision_3: 0.6404 - val_recall_3: 0.6667 - 203ms/epoch - 13ms/step\n",
            "Epoch 5/10\n",
            "16/16 - 0s - loss: 0.4626 - accuracy: 0.7660 - precision_3: 0.6797 - recall_3: 0.7240 - val_loss: 0.4735 - val_accuracy: 0.7406 - val_precision_3: 0.6534 - val_recall_3: 0.6725 - 215ms/epoch - 13ms/step\n",
            "Epoch 6/10\n",
            "16/16 - 0s - loss: 0.4455 - accuracy: 0.7791 - precision_3: 0.7007 - recall_3: 0.7285 - val_loss: 0.4663 - val_accuracy: 0.7605 - val_precision_3: 0.6800 - val_recall_3: 0.6959 - 203ms/epoch - 13ms/step\n",
            "Epoch 7/10\n",
            "16/16 - 0s - loss: 0.4272 - accuracy: 0.7905 - precision_3: 0.7106 - recall_3: 0.7546 - val_loss: 0.4667 - val_accuracy: 0.7672 - val_precision_3: 0.6964 - val_recall_3: 0.6842 - 201ms/epoch - 13ms/step\n",
            "Epoch 8/10\n",
            "16/16 - 0s - loss: 0.4130 - accuracy: 0.8075 - precision_3: 0.7414 - recall_3: 0.7559 - val_loss: 0.4596 - val_accuracy: 0.7605 - val_precision_3: 0.7143 - val_recall_3: 0.6140 - 200ms/epoch - 13ms/step\n",
            "Epoch 9/10\n",
            "16/16 - 0s - loss: 0.3922 - accuracy: 0.8191 - precision_3: 0.7579 - recall_3: 0.7682 - val_loss: 0.4597 - val_accuracy: 0.7716 - val_precision_3: 0.6932 - val_recall_3: 0.7135 - 208ms/epoch - 13ms/step\n",
            "Epoch 10/10\n",
            "16/16 - 0s - loss: 0.3683 - accuracy: 0.8307 - precision_3: 0.7721 - recall_3: 0.7852 - val_loss: 0.4579 - val_accuracy: 0.7716 - val_precision_3: 0.6868 - val_recall_3: 0.7310 - 222ms/epoch - 14ms/step\n",
            "Epoch 00010: early stopping\n"
          ]
        }
      ]
    },
    {
      "cell_type": "code",
      "source": [
        "loss, accuracy, precision, recall = model3.evaluate(X_test, y_test, verbose=0)\n",
        "print('Loss', loss)\n",
        "print('Accuracy', accuracy)\n",
        "print('Precision', precision)\n",
        "print('Recall', recall)\n",
        "\n",
        "f1_score = (2* recall*precision)/(recall+precision)\n",
        "print(\"f1_score\", f1_score)"
      ],
      "metadata": {
        "colab": {
          "base_uri": "https://localhost:8080/"
        },
        "id": "28KYjihEnuSM",
        "outputId": "020b2188-e468-4f53-e9d9-23301228e421"
      },
      "execution_count": null,
      "outputs": [
        {
          "output_type": "stream",
          "name": "stdout",
          "text": [
            "Loss 0.4771445095539093\n",
            "Accuracy 0.778863251209259\n",
            "Precision 0.7069408893585205\n",
            "Recall 0.6707317233085632\n",
            "f1_score 0.6883604662486122\n"
          ]
        }
      ]
    },
    {
      "cell_type": "code",
      "source": [
        "plt.style.use('ggplot')\n",
        "\n",
        "def plot_history(history):\n",
        "    acc = history.history['accuracy']\n",
        "    val_acc = history.history['val_accuracy']\n",
        "    loss = history.history['loss']\n",
        "    val_loss = history.history['val_loss']\n",
        "    x = range(1, len(acc) + 1)\n",
        "\n",
        "    plt.figure(figsize=(12, 2))\n",
        "    plt.subplot(1, 2, 1)\n",
        "    plt.plot(x, acc, 'b', label='Training acc')\n",
        "    plt.plot(x, val_acc, 'r', label='Validation acc')\n",
        "    plt.title('Training and validation accuracy')\n",
        "    plt.legend()\n",
        "    plt.subplot(1, 2, 2)\n",
        "    plt.plot(x, loss, 'b', label='Training loss')\n",
        "    plt.plot(x, val_loss, 'r', label='Validation loss')\n",
        "    plt.title('Training and validation loss')\n",
        "    plt.legend()\n",
        "\n",
        "%matplotlib inline\n",
        "plot_history(hist3)"
      ],
      "metadata": {
        "colab": {
          "base_uri": "https://localhost:8080/",
          "height": 174
        },
        "id": "YnLOp1X_ny1X",
        "outputId": "1f44a4b3-696e-4cee-f8cf-c41603c95dbf"
      },
      "execution_count": null,
      "outputs": [
        {
          "output_type": "display_data",
          "data": {
            "image/png": "[encoded data removed]",
            "text/plain": [
              "<Figure size 864x144 with 2 Axes>"
            ]
          },
          "metadata": {
            "needs_background": "light"
          }
        }
      ]
    }
  ],
  "metadata": {
    "accelerator": "GPU",
    "colab": {
      "collapsed_sections": [],
      "name": "News SA.ipynb",
      "provenance": []
    },
    "kernelspec": {
      "display_name": "Python 3",
      "name": "python3"
    },
    "language_info": {
      "name": "python"
    }
  },
  "nbformat": 4,
  "nbformat_minor": 0
}