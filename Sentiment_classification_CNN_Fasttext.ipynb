{
  "nbformat": 4,
  "nbformat_minor": 0,
  "metadata": {
    "colab": {
      "name": "Sentiment-classification-CNN.ipynb",
      "provenance": [],
      "collapsed_sections": [
        "VisAQiycrpyP"
      ]
    },
    "kernelspec": {
      "name": "python3",
      "display_name": "Python 3"
    },
    "language_info": {
      "name": "python"
    },
    "accelerator": "GPU"
  },
  "cells": [
    {
      "cell_type": "markdown",
      "metadata": {
        "id": "VjYSSaeT_FnI"
      },
      "source": [
        "# cnn with cbow fasttext"
      ]
    },
    {
      "cell_type": "markdown",
      "metadata": {
        "id": "VisAQiycrpyP"
      },
      "source": [
        "##  prepare"
      ]
    },
    {
      "cell_type": "code",
      "execution_count": null,
      "metadata": {
        "id": "VbstVrrb_I5A"
      },
      "outputs": [],
      "source": [
        "import pandas as pd\n",
        "import numpy as np\n",
        "import time\n",
        "\n",
        "from keras import layers\n",
        "from keras.models import Sequential\n",
        "from keras.layers import Dense, Activation,Dropout\n",
        "from tensorflow.keras import regularizers, optimizers\n",
        "\n",
        "from keras.preprocessing.text import Tokenizer, one_hot\n",
        "from keras.preprocessing.sequence import pad_sequences\n",
        "\n",
        "import sklearn\n",
        "from sklearn.model_selection import train_test_split\n",
        "from sklearn.metrics import classification_report, accuracy_score, confusion_matrix\n",
        "\n",
        "import matplotlib.pyplot as plt"
      ]
    },
    {
      "cell_type": "code",
      "execution_count": null,
      "metadata": {
        "id": "WSPwiHFc_VD4"
      },
      "outputs": [],
      "source": [
        "import pandas as pd\n",
        "import numpy as np\n",
        "from matplotlib import pyplot as plt\n",
        "from sklearn.model_selection import train_test_split"
      ]
    },
    {
      "cell_type": "code",
      "execution_count": null,
      "metadata": {
        "id": "9DkmBifm_VD5"
      },
      "outputs": [],
      "source": [
        "dataset = \"/content/Segmented-Sentiments - Sheet1 (1).csv\""
      ]
    },
    {
      "cell_type": "code",
      "execution_count": null,
      "metadata": {
        "colab": {
          "base_uri": "https://localhost:8080/"
        },
        "id": "yPRO6CRV_VD6",
        "outputId": "c4ed8ec4-2792-45ce-cb89-1781a4593e07"
      },
      "outputs": [
        {
          "output_type": "stream",
          "name": "stdout",
          "text": [
            "   Index                                          Sentences Sentiment\n",
            "0      0  အန်ဒရီယာ မာစီ သည် အီတလီ အတွက် စမ်းသပ်မှု တစ်ခု...  Positive\n",
            "1      1  ပေါ်တူဂီ သည် ဘယ်သောအခါမှ စွန့်လွှတ်မှု မရှိခဲ့...  Positive\n",
            "2      2  အီတလီ သည် ပထမပိုင်း ၌ ၁၆-၅ ဖြင့် ဦးဆောင်ခဲ့ သေ...  Positive\n",
            "3      3  သို့သော်လည်း ဘော်တိုလပ်စီ သည် မော်ရို ဘာဂမ်မက်...  Positive\n",
            "4      4  နယူးဇီလန် သည် ရမှတ် ကွာခြားချက် အပေါ် စကော့တလန...  Positive\n"
          ]
        }
      ],
      "source": [
        "data = pd.read_csv(dataset)\n",
        "print(data.head())"
      ]
    },
    {
      "cell_type": "code",
      "execution_count": null,
      "metadata": {
        "id": "l3euvnbO_VD7",
        "colab": {
          "base_uri": "https://localhost:8080/"
        },
        "outputId": "32aca57e-a43d-4544-c124-6a7b81141701"
      },
      "outputs": [
        {
          "output_type": "execute_result",
          "data": {
            "text/plain": [
              "Index        0\n",
              "Sentences    0\n",
              "Sentiment    0\n",
              "dtype: int64"
            ]
          },
          "metadata": {},
          "execution_count": 5
        }
      ],
      "source": [
        "data.isnull().sum()"
      ]
    },
    {
      "cell_type": "code",
      "execution_count": null,
      "metadata": {
        "id": "D7qMGu5QRGg_"
      },
      "outputs": [],
      "source": [
        "data = data.loc[data[\"Sentiment\"] != \"Neutral\"]"
      ]
    },
    {
      "cell_type": "code",
      "execution_count": null,
      "metadata": {
        "id": "qST1E3he_VD7",
        "colab": {
          "base_uri": "https://localhost:8080/",
          "height": 331
        },
        "outputId": "16ebd2d9-eead-47ce-85e1-4adcba14a12a"
      },
      "outputs": [
        {
          "output_type": "execute_result",
          "data": {
            "text/plain": [
              "<matplotlib.axes._subplots.AxesSubplot at 0x7fa13c7c6c50>"
            ]
          },
          "metadata": {},
          "execution_count": 7
        },
        {
          "output_type": "display_data",
          "data": {
            "image/png": "[encoded data removed]",
            "text/plain": [
              "<Figure size 432x288 with 1 Axes>"
            ]
          },
          "metadata": {
            "needs_background": "light"
          }
        }
      ],
      "source": [
        "data['category_id'] = data['Sentiment'].factorize()[0]\n",
        "colslist = ['Index','Sentence', 'Sentiment', 'category_id']\n",
        "data.columns = colslist\n",
        "data.groupby('Sentiment').Index.count().plot.bar(ylim=0)"
      ]
    },
    {
      "cell_type": "code",
      "execution_count": null,
      "metadata": {
        "id": "ahBe4crl_VD8"
      },
      "outputs": [],
      "source": [
        "stopwordslist = []\n",
        "slist = []\n",
        "with open(\"/content/stopword (1).txt\", encoding = 'utf8') as stopwordsfile:\n",
        "    stopwords = stopwordsfile.readlines()\n",
        "    slist.extend(stopwords)\n",
        "    for w in range(len(slist)):\n",
        "        temp = slist[w]\n",
        "        stopwordslist.append(temp.rstrip())"
      ]
    },
    {
      "cell_type": "code",
      "execution_count": null,
      "metadata": {
        "id": "vo9oJA8K_VD8",
        "colab": {
          "base_uri": "https://localhost:8080/",
          "height": 363
        },
        "outputId": "5eb517dc-274b-445e-b7f4-c3799b0192fa"
      },
      "outputs": [
        {
          "output_type": "execute_result",
          "data": {
            "text/html": [
              "\n",
              "  <div id=\"df-1f265551-27b8-447f-97e1-1367994ee17c\">\n",
              "    <div class=\"colab-df-container\">\n",
              "      <div>\n",
              "<style scoped>\n",
              "    .dataframe tbody tr th:only-of-type {\n",
              "        vertical-align: middle;\n",
              "    }\n",
              "\n",
              "    .dataframe tbody tr th {\n",
              "        vertical-align: top;\n",
              "    }\n",
              "\n",
              "    .dataframe thead th {\n",
              "        text-align: right;\n",
              "    }\n",
              "</style>\n",
              "<table border=\"1\" class=\"dataframe\">\n",
              "  <thead>\n",
              "    <tr style=\"text-align: right;\">\n",
              "      <th></th>\n",
              "      <th>Index</th>\n",
              "      <th>Sentence</th>\n",
              "      <th>Sentiment</th>\n",
              "      <th>category_id</th>\n",
              "    </tr>\n",
              "  </thead>\n",
              "  <tbody>\n",
              "    <tr>\n",
              "      <th>0</th>\n",
              "      <td>0</td>\n",
              "      <td>အန်ဒရီယာ မာစီ အီတလီ စမ်းသပ်မှု တစ်ခု စတုတ္ထ မိ...</td>\n",
              "      <td>Positive</td>\n",
              "      <td>0</td>\n",
              "    </tr>\n",
              "    <tr>\n",
              "      <th>1</th>\n",
              "      <td>1</td>\n",
              "      <td>ပေါ်တူဂီ ဘယ်သောအခါမှ စွန့်လွှတ်မှု မရှိခဲ့ ဒေး...</td>\n",
              "      <td>Positive</td>\n",
              "      <td>0</td>\n",
              "    </tr>\n",
              "    <tr>\n",
              "      <th>2</th>\n",
              "      <td>2</td>\n",
              "      <td>အီတလီ ပထမပိုင်း ဖြင့် ဦးဆောင်ခဲ့ ပေါ်တူဂီ ဒုတိ...</td>\n",
              "      <td>Positive</td>\n",
              "      <td>0</td>\n",
              "    </tr>\n",
              "    <tr>\n",
              "      <th>3</th>\n",
              "      <td>3</td>\n",
              "      <td>သို့သော်လည်း ဘော်တိုလပ်စီ မော်ရို ဘာဂမ်မက်စကို...</td>\n",
              "      <td>Positive</td>\n",
              "      <td>0</td>\n",
              "    </tr>\n",
              "    <tr>\n",
              "      <th>4</th>\n",
              "      <td>4</td>\n",
              "      <td>နယူးဇီလန် ရမှတ် ကွာခြားချက် စကော့တလန်၏ ရှေ့မှ ...</td>\n",
              "      <td>Positive</td>\n",
              "      <td>0</td>\n",
              "    </tr>\n",
              "    <tr>\n",
              "      <th>5</th>\n",
              "      <td>5</td>\n",
              "      <td>အသေးစိတ်များကို မနေ့က ယူတီစီ အောက်လွှတ်တော် ဗြ...</td>\n",
              "      <td>Positive</td>\n",
              "      <td>0</td>\n",
              "    </tr>\n",
              "    <tr>\n",
              "      <th>6</th>\n",
              "      <td>6</td>\n",
              "      <td>လွှတ်တော်အမတ်များ သူမ၏ ကြေငြာချက် ရုသ်ကယ်လီ ပျ...</td>\n",
              "      <td>Positive</td>\n",
              "      <td>0</td>\n",
              "    </tr>\n",
              "    <tr>\n",
              "      <th>7</th>\n",
              "      <td>7</td>\n",
              "      <td>သူမသည် လုံခြုံရေးရာ ဆောင်ရွက်မှုများ ရယူခဲ့ကြေ...</td>\n",
              "      <td>Positive</td>\n",
              "      <td>0</td>\n",
              "    </tr>\n",
              "    <tr>\n",
              "      <th>8</th>\n",
              "      <td>8</td>\n",
              "      <td>လစ်ဘရယ် ဒီမိုကရက် ကိုယ်စားပြုထားသော ဆူဇန် ကရာမ...</td>\n",
              "      <td>Positive</td>\n",
              "      <td>0</td>\n",
              "    </tr>\n",
              "    <tr>\n",
              "      <th>9</th>\n",
              "      <td>9</td>\n",
              "      <td>လူးဝတ် ဆက်လက် မှတ်ချက်ပြုခဲ့သည် င်္သဘော အမှတ်အ...</td>\n",
              "      <td>Positive</td>\n",
              "      <td>0</td>\n",
              "    </tr>\n",
              "  </tbody>\n",
              "</table>\n",
              "</div>\n",
              "      <button class=\"colab-df-convert\" onclick=\"convertToInteractive('df-1f265551-27b8-447f-97e1-1367994ee17c')\"\n",
              "              title=\"Convert this dataframe to an interactive table.\"\n",
              "              style=\"display:none;\">\n",
              "        \n",
              "  <svg xmlns=\"http://www.w3.org/2000/svg\" height=\"24px\"viewBox=\"0 0 24 24\"\n",
              "       width=\"24px\">\n",
              "    <path d=\"M0 0h24v24H0V0z\" fill=\"none\"/>\n",
              "    <path d=\"M18.56 5.44l.94 2.06.94-2.06 2.06-.94-2.06-.94-.94-2.06-.94 2.06-2.06.94zm-11 1L8.5 8.5l.94-2.06 2.06-.94-2.06-.94L8.5 2.5l-.94 2.06-2.06.94zm10 10l.94 2.06.94-2.06 2.06-.94-2.06-.94-.94-2.06-.94 2.06-2.06.94z\"/><path d=\"M17.41 7.96l-1.37-1.37c-.4-.4-.92-.59-1.43-.59-.52 0-1.04.2-1.43.59L10.3 9.45l-7.72 7.72c-.78.78-.78 2.05 0 2.83L4 21.41c.39.39.9.59 1.41.59.51 0 1.02-.2 1.41-.59l7.78-7.78 2.81-2.81c.8-.78.8-2.07 0-2.86zM5.41 20L4 18.59l7.72-7.72 1.47 1.35L5.41 20z\"/>\n",
              "  </svg>\n",
              "      </button>\n",
              "      \n",
              "  <style>\n",
              "    .colab-df-container {\n",
              "      display:flex;\n",
              "      flex-wrap:wrap;\n",
              "      gap: 12px;\n",
              "    }\n",
              "\n",
              "    .colab-df-convert {\n",
              "      background-color: #E8F0FE;\n",
              "      border: none;\n",
              "      border-radius: 50%;\n",
              "      cursor: pointer;\n",
              "      display: none;\n",
              "      fill: #1967D2;\n",
              "      height: 32px;\n",
              "      padding: 0 0 0 0;\n",
              "      width: 32px;\n",
              "    }\n",
              "\n",
              "    .colab-df-convert:hover {\n",
              "      background-color: #E2EBFA;\n",
              "      box-shadow: 0px 1px 2px rgba(60, 64, 67, 0.3), 0px 1px 3px 1px rgba(60, 64, 67, 0.15);\n",
              "      fill: #174EA6;\n",
              "    }\n",
              "\n",
              "    [theme=dark] .colab-df-convert {\n",
              "      background-color: #3B4455;\n",
              "      fill: #D2E3FC;\n",
              "    }\n",
              "\n",
              "    [theme=dark] .colab-df-convert:hover {\n",
              "      background-color: #434B5C;\n",
              "      box-shadow: 0px 1px 3px 1px rgba(0, 0, 0, 0.15);\n",
              "      filter: drop-shadow(0px 1px 2px rgba(0, 0, 0, 0.3));\n",
              "      fill: #FFFFFF;\n",
              "    }\n",
              "  </style>\n",
              "\n",
              "      <script>\n",
              "        const buttonEl =\n",
              "          document.querySelector('#df-1f265551-27b8-447f-97e1-1367994ee17c button.colab-df-convert');\n",
              "        buttonEl.style.display =\n",
              "          google.colab.kernel.accessAllowed ? 'block' : 'none';\n",
              "\n",
              "        async function convertToInteractive(key) {\n",
              "          const element = document.querySelector('#df-1f265551-27b8-447f-97e1-1367994ee17c');\n",
              "          const dataTable =\n",
              "            await google.colab.kernel.invokeFunction('convertToInteractive',\n",
              "                                                     [key], {});\n",
              "          if (!dataTable) return;\n",
              "\n",
              "          const docLinkHtml = 'Like what you see? Visit the ' +\n",
              "            '<a target=\"_blank\" href=https://colab.research.google.com/notebooks/data_table.ipynb>data table notebook</a>'\n",
              "            + ' to learn more about interactive tables.';\n",
              "          element.innerHTML = '';\n",
              "          dataTable['output_type'] = 'display_data';\n",
              "          await google.colab.output.renderOutput(dataTable, element);\n",
              "          const docLink = document.createElement('div');\n",
              "          docLink.innerHTML = docLinkHtml;\n",
              "          element.appendChild(docLink);\n",
              "        }\n",
              "      </script>\n",
              "    </div>\n",
              "  </div>\n",
              "  "
            ],
            "text/plain": [
              "   Index  ... category_id\n",
              "0      0  ...           0\n",
              "1      1  ...           0\n",
              "2      2  ...           0\n",
              "3      3  ...           0\n",
              "4      4  ...           0\n",
              "5      5  ...           0\n",
              "6      6  ...           0\n",
              "7      7  ...           0\n",
              "8      8  ...           0\n",
              "9      9  ...           0\n",
              "\n",
              "[10 rows x 4 columns]"
            ]
          },
          "metadata": {},
          "execution_count": 9
        }
      ],
      "source": [
        "import re\n",
        "CleanPattern = re.compile(r'\\d+|[၊။!-/:-@[-`{-~\\t ]|[A-za-z0-9]')\n",
        "def clean_sentence(sentence):\n",
        "     sent = CleanPattern.sub(\" \",sentence)\n",
        "     return sent\n",
        "\n",
        "def stop_word(sentence):\n",
        "  new_sentence = []\n",
        "  for word in sentence.split():\n",
        "    if word not in stopwordslist:\n",
        "      new_sentence.append(word)\n",
        "  return(' '.join(new_sentence))\n",
        "\n",
        "BreakPattern = re.compile(r'(?:(?<!္)([က-ဪဿ၊-၏]|[၀-၉]+|[^က-၏]+)(?![ှျ]?[့္်]))')\n",
        "\n",
        "def sylbreak(sentence):\n",
        "    line = BreakPattern.sub(\" \" + r\"\\1\",sentence)\n",
        "    return line\n",
        "\n",
        "def process(sentence):\n",
        "    line = clean_sentence(sentence)\n",
        "    sentence = stop_word(line)\n",
        "    return sentence\n",
        "\n",
        "data['Sentence'] = data['Sentence'].apply(process)\n",
        "data.head(10)"
      ]
    },
    {
      "cell_type": "code",
      "source": [
        "import os, re, csv, math, codecs\n",
        "from tqdm import tqdm"
      ],
      "metadata": {
        "id": "YbDlaJNYgxDN"
      },
      "execution_count": null,
      "outputs": []
    },
    {
      "cell_type": "code",
      "execution_count": null,
      "metadata": {
        "id": "dBfFRAu8Gltn"
      },
      "outputs": [],
      "source": [
        "X = data['Sentence'].fillna('').tolist()\n",
        "X = [str(i) for i in X]\n",
        "y = np.array(data['category_id'])"
      ]
    },
    {
      "cell_type": "code",
      "execution_count": null,
      "metadata": {
        "colab": {
          "base_uri": "https://localhost:8080/",
          "height": 35
        },
        "outputId": "71e3c2fe-b724-47b9-b07a-02a02ce1bf0e",
        "id": "u5JkKpm5Gltp"
      },
      "outputs": [
        {
          "output_type": "execute_result",
          "data": {
            "application/vnd.google.colaboratory.intrinsic+json": {
              "type": "string"
            },
            "text/plain": [
              "'အနာဂတ် ဆိုသည်မှာ တစ်နှစ် နှစ်နှစ် သုံးနှစ် ဆိုလို'"
            ]
          },
          "metadata": {},
          "execution_count": 12
        }
      ],
      "source": [
        "X[500]"
      ]
    },
    {
      "cell_type": "code",
      "execution_count": null,
      "metadata": {
        "id": "hEwV9nopGltr"
      },
      "outputs": [],
      "source": [
        "RANDOM_STATE = 42\n",
        "\n",
        "# Split train & test\n",
        "text_train, text_test, y_train, y_test = train_test_split(X, y, test_size=0.2, random_state=RANDOM_STATE)\n",
        "\n",
        "# Tokenize and transform to integer index\n",
        "tokenizer = Tokenizer(split=\" \")\n",
        "tokenizer.fit_on_texts(text_train)\n",
        "\n",
        "X_train = tokenizer.texts_to_sequences(text_train)\n",
        "X_test = tokenizer.texts_to_sequences(text_test)\n",
        "\n",
        "vocab_size = len(tokenizer.word_index) + 1  # Adding 1 because of reserved 0 index\n",
        "maxlen = max(len(x) for x in X_train) # longest text in train set\n",
        "\n",
        "# Add pading to ensure all vectors have same dimensionality\n",
        "X_train = pad_sequences(X_train, padding='post', maxlen=maxlen)\n",
        "X_test = pad_sequences(X_test, padding='post', maxlen=maxlen)"
      ]
    },
    {
      "cell_type": "code",
      "source": [
        "maxlen"
      ],
      "metadata": {
        "colab": {
          "base_uri": "https://localhost:8080/"
        },
        "outputId": "a73ed2c9-6584-40fe-d68b-06b388884467",
        "id": "gNLwDq3uGlts"
      },
      "execution_count": null,
      "outputs": [
        {
          "output_type": "execute_result",
          "data": {
            "text/plain": [
              "366"
            ]
          },
          "metadata": {},
          "execution_count": 14
        }
      ]
    },
    {
      "cell_type": "code",
      "source": [
        "y_train.shape"
      ],
      "metadata": {
        "colab": {
          "base_uri": "https://localhost:8080/"
        },
        "outputId": "c067a5e6-74c2-4fc5-ef41-12800c257fdd",
        "id": "TUO5vYbcGltu"
      },
      "execution_count": null,
      "outputs": [
        {
          "output_type": "execute_result",
          "data": {
            "text/plain": [
              "(4503,)"
            ]
          },
          "metadata": {},
          "execution_count": 15
        }
      ]
    },
    {
      "cell_type": "code",
      "source": [
        "y_test.shape"
      ],
      "metadata": {
        "colab": {
          "base_uri": "https://localhost:8080/"
        },
        "id": "usdaYiQzgxur",
        "outputId": "2ecb0700-661c-497f-f36a-1a91f27ca5db"
      },
      "execution_count": null,
      "outputs": [
        {
          "output_type": "execute_result",
          "data": {
            "text/plain": [
              "(1126,)"
            ]
          },
          "metadata": {},
          "execution_count": 16
        }
      ]
    },
    {
      "cell_type": "code",
      "source": [
        "word_index = tokenizer.word_index\n",
        "print(\"dictionary size: \", len(word_index))"
      ],
      "metadata": {
        "colab": {
          "base_uri": "https://localhost:8080/"
        },
        "outputId": "80b8f2c4-7cb2-436a-f358-59cf81537127",
        "id": "NCgeXdd_Gltv"
      },
      "execution_count": null,
      "outputs": [
        {
          "output_type": "stream",
          "name": "stdout",
          "text": [
            "dictionary size:  21207\n"
          ]
        }
      ]
    },
    {
      "cell_type": "code",
      "execution_count": null,
      "metadata": {
        "colab": {
          "base_uri": "https://localhost:8080/"
        },
        "outputId": "6106a522-c2c5-4f62-c7ec-5c35d584fa0d",
        "id": "lAZ7cFbUGltw"
      },
      "outputs": [
        {
          "output_type": "execute_result",
          "data": {
            "text/plain": [
              "366"
            ]
          },
          "metadata": {},
          "execution_count": 18
        }
      ],
      "source": [
        "maxlen"
      ]
    },
    {
      "cell_type": "code",
      "execution_count": null,
      "metadata": {
        "colab": {
          "base_uri": "https://localhost:8080/"
        },
        "outputId": "11fbbcf1-4959-4542-97e6-ab6e1a7a6782",
        "id": "r0y94EbKGltx"
      },
      "outputs": [
        {
          "output_type": "execute_result",
          "data": {
            "text/plain": [
              "21208"
            ]
          },
          "metadata": {},
          "execution_count": 19
        }
      ],
      "source": [
        "vocab_size"
      ]
    },
    {
      "cell_type": "code",
      "source": [
        "#load embeddings\n",
        "print('loading word embeddings...')\n",
        "embeddings_index = {}\n",
        "f = codecs.open('/content/fasttext_cbow_myNews_final.vec', encoding='utf-8')\n",
        "for line in tqdm(f):\n",
        "    values = line.rstrip().rsplit(' ')\n",
        "    word = values[0]\n",
        "    coefs = np.asarray(values[1:], dtype='float32')\n",
        "    embeddings_index[word] = coefs\n",
        "f.close()\n",
        "print('found %s word vectors' % len(embeddings_index))"
      ],
      "metadata": {
        "id": "qV8NAXQIcggy"
      },
      "execution_count": null,
      "outputs": []
    },
    {
      "cell_type": "code",
      "source": [
        "#training params\n",
        "batch_size = 128 \n",
        "num_epochs = 10\n",
        "\n",
        "#model parameters\n",
        "num_filters = 64 \n",
        "embed_dim = 100 \n",
        "weight_decay = 0.025"
      ],
      "metadata": {
        "id": "aE76EQctsr6T"
      },
      "execution_count": null,
      "outputs": []
    },
    {
      "cell_type": "code",
      "source": [
        "#embedding matrix\n",
        "print('preparing embedding matrix...')\n",
        "words_not_found = []\n",
        "nb_words = min(vocab_size, len(word_index))\n",
        "embedding_matrix = np.zeros((nb_words, embed_dim))\n",
        "for word, i in word_index.items():\n",
        "    if i >= nb_words:\n",
        "        continue\n",
        "    embedding_vector = embeddings_index.get(word)\n",
        "    if (embedding_vector is not None) and len(embedding_vector) > 0:\n",
        "        # words not found in embedding index will be all-zeros.\n",
        "        embedding_matrix[i] = embedding_vector\n",
        "    else:\n",
        "        words_not_found.append(word)\n",
        "print('number of null word embeddings: %d' % np.sum(np.sum(embedding_matrix, axis=1) == 0))"
      ],
      "metadata": {
        "colab": {
          "base_uri": "https://localhost:8080/"
        },
        "id": "GoTBKBS1sxCj",
        "outputId": "6d6e6dee-9967-4f4f-db0f-fc7b9acade7f"
      },
      "execution_count": null,
      "outputs": [
        {
          "output_type": "stream",
          "name": "stdout",
          "text": [
            "preparing embedding matrix...\n",
            "number of null word embeddings: 21207\n"
          ]
        }
      ]
    },
    {
      "cell_type": "code",
      "source": [
        "print(\"sample words not found: \", np.random.choice(words_not_found, 50))"
      ],
      "metadata": {
        "colab": {
          "base_uri": "https://localhost:8080/"
        },
        "id": "VcmaxWfruE05",
        "outputId": "3b544e75-23a4-4ad0-c9f1-6c5ab884095b"
      },
      "execution_count": null,
      "outputs": [
        {
          "output_type": "stream",
          "name": "stdout",
          "text": [
            "sample words not found:  ['လူမှုမီဒီယာများတွင်' 'ကုန်သည်' 'ဆက်သအပ်ပါတယ်' 'မှဝန်ထမ်း'\n",
            " 'တော်လှန်ရေးကောင်စီ' 'စက်အကူအညီ' 'ရသည့်' 'ယဉ်ကျေးမှု' 'တစ်နှစ်ကြာ'\n",
            " 'ဘတ်ဂျက်' 'ရေးသား၍' 'ပို့ခဲ့သည်' 'အန္တရာယ်တွေ' 'တိုးချဲ့ခြင်း'\n",
            " 'ကော်မရှင်အဖွဲ့' 'သေအပ်ငွေအတိုး' 'လေးခု' 'မိုးညှင်းမြို့နယ်'\n",
            " 'အထုတ်အပိုးများ' 'နိုင်ငံတကာပွဲ' 'အမျိုးသမီးကပါ' 'ပေးအပ်ချီးမြှင့်'\n",
            " 'လိုရာ' 'သဘင်' 'ကိုယ်ထိလက်ရောက်' 'ပြုတ်ကျခြင်း' 'ဆီးနိတ်အမတ်'\n",
            " 'ရင်ဆိုင်နေရသည်ဟု' 'နစ်မြုပ်မှု' 'ဗြိတိသျှအစိုးရ' 'ဘရီယာ' 'ဩဝါဒများ'\n",
            " 'ပိတ်ခဲ့သည်' 'မက်ဗွီဒက်' 'ခေါင်းစဉ်တပ်ခဲ့သည်' 'ကုသမှုဟာ' 'လေးလံသော'\n",
            " 'အလုံးစုံ' 'ကိုငွေကျပ်' 'နေရာယူထား' 'နောက်တဆင့်သို့' 'စက်ခလုတ်' 'အစ်'\n",
            " 'လစ်ဘရယ်တေးရီရမ်' 'စွမ်းဆောင်မှုများမှာ' 'ဖမ်းဆီးခံခဲ့ရပါသည်' 'ဟက်က'\n",
            " 'မေးကာ' 'ဝယ်ခဲ့သည်' 'ရင်ဆိုင်နေရသည်ဟု']\n"
          ]
        }
      ]
    },
    {
      "cell_type": "markdown",
      "source": [
        "## nonStatic"
      ],
      "metadata": {
        "id": "oSTPuUkp93bC"
      }
    },
    {
      "cell_type": "code",
      "source": [
        "from keras.layers import Embedding, Conv1D, MaxPooling1D, GlobalMaxPooling1D, Flatten\n",
        "from tensorflow import keras\n",
        "import tensorflow as tf \n",
        "#CNN architecture -static\n",
        "print(\"training CNN ...\")\n",
        "model = Sequential()\n",
        "model.add(Embedding(nb_words, embed_dim,weights=[embedding_matrix], input_length=maxlen, trainable=True))\n",
        "model.add(Dropout(0.2))\n",
        "\n",
        "model.add(Conv1D(64, 2, activation='relu', padding='same'))\n",
        "model.add(MaxPooling1D(5))\n",
        "model.add(Dropout(0.2))\n",
        "\n",
        "model.add(Conv1D(64, 3, activation='relu', padding='same'))\n",
        "model.add(MaxPooling1D(5))\n",
        "model.add(Dropout(0.2))\n",
        "\n",
        "model.add(Conv1D(64, 5, activation='relu', padding='same'))\n",
        "model.add(MaxPooling1D(5))\n",
        "model.add(Dropout(0.2))\n",
        "\n",
        "model.add(Flatten())\n",
        "#model.add(Dropout(0.4))\n",
        "#model.add(Dense(128, activation='relu', kernel_regularizer=regularizers.l2(weight_decay)))\n",
        "model.add(Dense(32, activation='relu'))\n",
        "model.add(Dropout(0.4))\n",
        "model.add(Dense(64, activation='relu', kernel_regularizer=regularizers.l2(weight_decay)))\n",
        "model.add(Dense(1, activation='sigmoid'))  \n",
        "\n",
        "model.compile(loss='binary_crossentropy', optimizer='adam', metrics=[\"accuracy\",keras.metrics.Precision(),keras.metrics.Recall()])\n",
        "model.summary()"
      ],
      "metadata": {
        "id": "364M3TTEuE-8"
      },
      "execution_count": null,
      "outputs": []
    },
    {
      "cell_type": "code",
      "source": [
        "from keras.utils.vis_utils import plot_model\n",
        "plot_model(model, show_shapes=True, to_file='CNN-Trainable.png')"
      ],
      "metadata": {
        "id": "2YwswYyvIpJ0"
      },
      "execution_count": null,
      "outputs": []
    },
    {
      "cell_type": "code",
      "source": [
        "from keras.callbacks import EarlyStopping\n",
        "#define callbacks\n",
        "early_stopping = EarlyStopping(monitor='val_loss', min_delta=0.01, patience=4, verbose=1)\n",
        "callbacks_list = [early_stopping]\n",
        "#model training\n",
        "hist = model.fit(X_train, y_train, batch_size=batch_size, epochs=10, callbacks=callbacks_list, validation_split=0.1, shuffle=True, verbose=2)"
      ],
      "metadata": {
        "id": "LQIWrwzIuOXX",
        "colab": {
          "base_uri": "https://localhost:8080/"
        },
        "outputId": "cde48b89-1c78-47c0-8596-5acee4d4c69f"
      },
      "execution_count": null,
      "outputs": [
        {
          "output_type": "stream",
          "name": "stdout",
          "text": [
            "Epoch 1/10\n",
            "32/32 - 5s - loss: 1.5821 - accuracy: 0.6209 - precision: 0.0000e+00 - recall: 0.0000e+00 - val_loss: 1.4063 - val_accuracy: 0.6208 - val_precision: 0.0000e+00 - val_recall: 0.0000e+00 - 5s/epoch - 158ms/step\n",
            "Epoch 2/10\n",
            "32/32 - 1s - loss: 1.2790 - accuracy: 0.6209 - precision: 0.0000e+00 - recall: 0.0000e+00 - val_loss: 1.1572 - val_accuracy: 0.6208 - val_precision: 0.0000e+00 - val_recall: 0.0000e+00 - 802ms/epoch - 25ms/step\n",
            "Epoch 3/10\n",
            "32/32 - 1s - loss: 1.0704 - accuracy: 0.6209 - precision: 0.0000e+00 - recall: 0.0000e+00 - val_loss: 0.9877 - val_accuracy: 0.6208 - val_precision: 0.0000e+00 - val_recall: 0.0000e+00 - 771ms/epoch - 24ms/step\n",
            "Epoch 4/10\n",
            "32/32 - 1s - loss: 0.9294 - accuracy: 0.6209 - precision: 0.0000e+00 - recall: 0.0000e+00 - val_loss: 0.8739 - val_accuracy: 0.6208 - val_precision: 0.0000e+00 - val_recall: 0.0000e+00 - 763ms/epoch - 24ms/step\n",
            "Epoch 5/10\n",
            "32/32 - 1s - loss: 0.8352 - accuracy: 0.6209 - precision: 0.0000e+00 - recall: 0.0000e+00 - val_loss: 0.7984 - val_accuracy: 0.6208 - val_precision: 0.0000e+00 - val_recall: 0.0000e+00 - 759ms/epoch - 24ms/step\n",
            "Epoch 6/10\n",
            "32/32 - 1s - loss: 0.7732 - accuracy: 0.6209 - precision: 0.0000e+00 - recall: 0.0000e+00 - val_loss: 0.7493 - val_accuracy: 0.6208 - val_precision: 0.0000e+00 - val_recall: 0.0000e+00 - 792ms/epoch - 25ms/step\n",
            "Epoch 7/10\n",
            "32/32 - 1s - loss: 0.7331 - accuracy: 0.6209 - precision: 0.0000e+00 - recall: 0.0000e+00 - val_loss: 0.7179 - val_accuracy: 0.6208 - val_precision: 0.0000e+00 - val_recall: 0.0000e+00 - 760ms/epoch - 24ms/step\n",
            "Epoch 8/10\n",
            "32/32 - 1s - loss: 0.7076 - accuracy: 0.6209 - precision: 0.0000e+00 - recall: 0.0000e+00 - val_loss: 0.6981 - val_accuracy: 0.6208 - val_precision: 0.0000e+00 - val_recall: 0.0000e+00 - 754ms/epoch - 24ms/step\n",
            "Epoch 9/10\n",
            "32/32 - 1s - loss: 0.6917 - accuracy: 0.6209 - precision: 0.0000e+00 - recall: 0.0000e+00 - val_loss: 0.6858 - val_accuracy: 0.6208 - val_precision: 0.0000e+00 - val_recall: 0.0000e+00 - 755ms/epoch - 24ms/step\n",
            "Epoch 10/10\n",
            "32/32 - 1s - loss: 0.6819 - accuracy: 0.6209 - precision: 0.0000e+00 - recall: 0.0000e+00 - val_loss: 0.6783 - val_accuracy: 0.6208 - val_precision: 0.0000e+00 - val_recall: 0.0000e+00 - 766ms/epoch - 24ms/step\n"
          ]
        }
      ]
    },
    {
      "cell_type": "code",
      "source": [
        "print(hist.history.keys())"
      ],
      "metadata": {
        "id": "-S5fiGD3uBJx",
        "colab": {
          "base_uri": "https://localhost:8080/"
        },
        "outputId": "3308c0f2-0f6f-4d65-bcd2-3e805b0855ea"
      },
      "execution_count": null,
      "outputs": [
        {
          "output_type": "stream",
          "name": "stdout",
          "text": [
            "dict_keys(['loss', 'accuracy', 'precision', 'recall', 'val_loss', 'val_accuracy', 'val_precision', 'val_recall'])\n"
          ]
        }
      ]
    },
    {
      "cell_type": "code",
      "source": [
        "loss, accuracy, precision, recall = model.evaluate(X_test, y_test, verbose=0)\n",
        "print('Loss', loss)\n",
        "print('Accuracy', accuracy)\n",
        "print('Precision', precision)\n",
        "print('Recall', recall)\n",
        "\n",
        "f1_score = (2* recall*precision)/(recall+precision)\n",
        "print(\"f1_score\", f1_score)"
      ],
      "metadata": {
        "id": "tfqbf5x4seYD",
        "colab": {
          "base_uri": "https://localhost:8080/",
          "height": 287
        },
        "outputId": "bd019e0d-d340-4191-fdbe-e1117be41b16"
      },
      "execution_count": null,
      "outputs": [
        {
          "output_type": "stream",
          "name": "stdout",
          "text": [
            "Loss 0.674492359161377\n",
            "Accuracy 0.6358792185783386\n",
            "Precision 0.0\n",
            "Recall 0.0\n"
          ]
        },
        {
          "output_type": "error",
          "ename": "ZeroDivisionError",
          "evalue": "ignored",
          "traceback": [
            "\u001b[0;31m---------------------------------------------------------------------------\u001b[0m",
            "\u001b[0;31mZeroDivisionError\u001b[0m                         Traceback (most recent call last)",
            "\u001b[0;32m<ipython-input-28-d4a524dece95>\u001b[0m in \u001b[0;36m<module>\u001b[0;34m()\u001b[0m\n\u001b[1;32m      5\u001b[0m \u001b[0mprint\u001b[0m\u001b[0;34m(\u001b[0m\u001b[0;34m'Recall'\u001b[0m\u001b[0;34m,\u001b[0m \u001b[0mrecall\u001b[0m\u001b[0;34m)\u001b[0m\u001b[0;34m\u001b[0m\u001b[0;34m\u001b[0m\u001b[0m\n\u001b[1;32m      6\u001b[0m \u001b[0;34m\u001b[0m\u001b[0m\n\u001b[0;32m----> 7\u001b[0;31m \u001b[0mf1_score\u001b[0m \u001b[0;34m=\u001b[0m \u001b[0;34m(\u001b[0m\u001b[0;36m2\u001b[0m\u001b[0;34m*\u001b[0m \u001b[0mrecall\u001b[0m\u001b[0;34m*\u001b[0m\u001b[0mprecision\u001b[0m\u001b[0;34m)\u001b[0m\u001b[0;34m/\u001b[0m\u001b[0;34m(\u001b[0m\u001b[0mrecall\u001b[0m\u001b[0;34m+\u001b[0m\u001b[0mprecision\u001b[0m\u001b[0;34m)\u001b[0m\u001b[0;34m\u001b[0m\u001b[0;34m\u001b[0m\u001b[0m\n\u001b[0m\u001b[1;32m      8\u001b[0m \u001b[0mprint\u001b[0m\u001b[0;34m(\u001b[0m\u001b[0;34m\"f1_score\"\u001b[0m\u001b[0;34m,\u001b[0m \u001b[0mf1_score\u001b[0m\u001b[0;34m)\u001b[0m\u001b[0;34m\u001b[0m\u001b[0;34m\u001b[0m\u001b[0m\n",
            "\u001b[0;31mZeroDivisionError\u001b[0m: float division by zero"
          ]
        }
      ]
    },
    {
      "cell_type": "code",
      "source": [
        "plt.style.use('ggplot')\n",
        "\n",
        "def plot_history(history):\n",
        "    acc = history.history['accuracy']\n",
        "    val_acc = history.history['val_accuracy']\n",
        "    loss = history.history['loss']\n",
        "    val_loss = history.history['val_loss']\n",
        "    x = range(1, len(acc) + 1)\n",
        "\n",
        "    plt.figure(figsize=(12, 2))\n",
        "    plt.subplot(1, 2, 1)\n",
        "    plt.plot(x, acc, 'b', label='Training acc')\n",
        "    plt.plot(x, val_acc, 'r', label='Validation acc')\n",
        "    plt.title('Training and validation accuracy')\n",
        "    plt.legend()\n",
        "    plt.subplot(1, 2, 2)\n",
        "    plt.plot(x, loss, 'b', label='Training loss')\n",
        "    plt.plot(x, val_loss, 'r', label='Validation loss')\n",
        "    plt.title('Training and validation loss')\n",
        "    plt.legend()\n",
        "\n",
        "%matplotlib inline\n",
        "plot_history(hist)"
      ],
      "metadata": {
        "id": "mM0j_0WUzy4k",
        "colab": {
          "base_uri": "https://localhost:8080/",
          "height": 174
        },
        "outputId": "97e187bb-a3ab-469b-b34b-3bf1e958202a"
      },
      "execution_count": null,
      "outputs": [
        {
          "output_type": "display_data",
          "data": {
            "image/png": "[encoded data removed]",
            "text/plain": [
              "<Figure size 864x144 with 2 Axes>"
            ]
          },
          "metadata": {
            "needs_background": "light"
          }
        }
      ]
    },
    {
      "cell_type": "markdown",
      "source": [
        "## static"
      ],
      "metadata": {
        "id": "WPPesv6e9658"
      }
    },
    {
      "cell_type": "code",
      "source": [
        "from keras.layers import Embedding, Conv1D, MaxPooling1D, GlobalMaxPooling1D, Flatten\n",
        "from tensorflow import keras\n",
        "import tensorflow as tf \n",
        "#CNN architecture -static\n",
        "print(\"training CNN ...\")\n",
        "model1 = Sequential()\n",
        "model1.add(Embedding(nb_words, embed_dim,weights=[embedding_matrix], input_length=maxlen, trainable=False))\n",
        "#model1.add(Dropout(0.2))\n",
        "\n",
        "model1.add(Conv1D(64, 2, activation='relu', padding='same'))\n",
        "model1.add(MaxPooling1D(5))\n",
        "model1.add(Dropout(0.2))\n",
        "\n",
        "model1.add(Conv1D(64, 3, activation='relu', padding='same'))\n",
        "model1.add(MaxPooling1D(5))\n",
        "model1.add(Dropout(0.2))\n",
        "\n",
        "model1.add(Conv1D(64, 5, activation='relu', padding='same'))\n",
        "model1.add(MaxPooling1D(5))\n",
        "model1.add(Dropout(0.2))\n",
        "\n",
        "model1.add(Flatten())\n",
        "#model.add(Dropout(0.4))\n",
        "#model.add(Dense(128, activation='relu', kernel_regularizer=regularizers.l2(weight_decay)))\n",
        "model1.add(Dense(32, activation='relu'))\n",
        "model1.add(Dropout(0.4))\n",
        "model1.add(Dense(64, activation='relu', kernel_regularizer=regularizers.l2(weight_decay)))\n",
        "model1.add(Dense(1, activation='sigmoid'))  \n",
        "\n",
        "model1.compile(loss='binary_crossentropy', optimizer='adam', metrics=[\"accuracy\",keras.metrics.Precision(),keras.metrics.Recall()])\n",
        "model1.summary()"
      ],
      "metadata": {
        "colab": {
          "base_uri": "https://localhost:8080/"
        },
        "outputId": "b31bbd40-14eb-4145-bf5a-c07902f01819",
        "id": "G9iHVQV28xY1"
      },
      "execution_count": null,
      "outputs": [
        {
          "output_type": "stream",
          "name": "stdout",
          "text": [
            "training CNN ...\n",
            "Model: \"sequential_1\"\n",
            "_________________________________________________________________\n",
            " Layer (type)                Output Shape              Param #   \n",
            "=================================================================\n",
            " embedding_1 (Embedding)     (None, 366, 100)          2120700   \n",
            "                                                                 \n",
            " conv1d_3 (Conv1D)           (None, 366, 64)           12864     \n",
            "                                                                 \n",
            " max_pooling1d_3 (MaxPooling  (None, 73, 64)           0         \n",
            " 1D)                                                             \n",
            "                                                                 \n",
            " dropout_5 (Dropout)         (None, 73, 64)            0         \n",
            "                                                                 \n",
            " conv1d_4 (Conv1D)           (None, 73, 64)            12352     \n",
            "                                                                 \n",
            " max_pooling1d_4 (MaxPooling  (None, 14, 64)           0         \n",
            " 1D)                                                             \n",
            "                                                                 \n",
            " dropout_6 (Dropout)         (None, 14, 64)            0         \n",
            "                                                                 \n",
            " conv1d_5 (Conv1D)           (None, 14, 64)            20544     \n",
            "                                                                 \n",
            " max_pooling1d_5 (MaxPooling  (None, 2, 64)            0         \n",
            " 1D)                                                             \n",
            "                                                                 \n",
            " dropout_7 (Dropout)         (None, 2, 64)             0         \n",
            "                                                                 \n",
            " flatten_1 (Flatten)         (None, 128)               0         \n",
            "                                                                 \n",
            " dense_3 (Dense)             (None, 32)                4128      \n",
            "                                                                 \n",
            " dropout_8 (Dropout)         (None, 32)                0         \n",
            "                                                                 \n",
            " dense_4 (Dense)             (None, 64)                2112      \n",
            "                                                                 \n",
            " dense_5 (Dense)             (None, 1)                 65        \n",
            "                                                                 \n",
            "=================================================================\n",
            "Total params: 2,172,765\n",
            "Trainable params: 52,065\n",
            "Non-trainable params: 2,120,700\n",
            "_________________________________________________________________\n"
          ]
        }
      ]
    },
    {
      "cell_type": "code",
      "source": [
        "from keras.callbacks import EarlyStopping\n",
        "#define callbacks\n",
        "early_stopping = EarlyStopping(monitor='val_loss', min_delta=0.01, patience=4, verbose=1)\n",
        "callbacks_list = [early_stopping]\n",
        "#model training\n",
        "hist1 = model1.fit(X_train, y_train, batch_size=batch_size, epochs=10, callbacks=callbacks_list, validation_split=0.1, shuffle=True, verbose=2)"
      ],
      "metadata": {
        "colab": {
          "base_uri": "https://localhost:8080/"
        },
        "outputId": "34cd098c-da3c-421d-e01f-68bafb43fbd5",
        "id": "1vzMmU-o8xY3"
      },
      "execution_count": null,
      "outputs": [
        {
          "output_type": "stream",
          "name": "stdout",
          "text": [
            "Epoch 1/10\n",
            "32/32 - 2s - loss: 1.5919 - accuracy: 0.6148 - precision_1: 0.4309 - recall_1: 0.0508 - val_loss: 1.3940 - val_accuracy: 0.6208 - val_precision_1: 0.0000e+00 - val_recall_1: 0.0000e+00 - 2s/epoch - 54ms/step\n",
            "Epoch 2/10\n",
            "32/32 - 0s - loss: 1.2418 - accuracy: 0.6372 - precision_1: 0.6071 - recall_1: 0.1217 - val_loss: 1.0603 - val_accuracy: 0.7095 - val_precision_1: 0.6250 - val_recall_1: 0.5848 - 274ms/epoch - 9ms/step\n",
            "Epoch 3/10\n",
            "32/32 - 0s - loss: 0.9656 - accuracy: 0.7204 - precision_1: 0.6268 - recall_1: 0.6484 - val_loss: 0.8701 - val_accuracy: 0.7273 - val_precision_1: 0.6071 - val_recall_1: 0.7953 - 264ms/epoch - 8ms/step\n",
            "Epoch 4/10\n",
            "32/32 - 0s - loss: 0.7992 - accuracy: 0.7448 - precision_1: 0.6441 - recall_1: 0.7305 - val_loss: 0.7367 - val_accuracy: 0.7450 - val_precision_1: 0.6414 - val_recall_1: 0.7427 - 258ms/epoch - 8ms/step\n",
            "Epoch 5/10\n",
            "32/32 - 0s - loss: 0.6667 - accuracy: 0.7710 - precision_1: 0.6790 - recall_1: 0.7507 - val_loss: 0.6523 - val_accuracy: 0.7472 - val_precision_1: 0.6377 - val_recall_1: 0.7719 - 274ms/epoch - 9ms/step\n",
            "Epoch 6/10\n",
            "32/32 - 0s - loss: 0.5753 - accuracy: 0.7850 - precision_1: 0.6971 - recall_1: 0.7656 - val_loss: 0.5970 - val_accuracy: 0.7583 - val_precision_1: 0.6550 - val_recall_1: 0.7661 - 252ms/epoch - 8ms/step\n",
            "Epoch 7/10\n",
            "32/32 - 0s - loss: 0.5177 - accuracy: 0.8055 - precision_1: 0.7192 - recall_1: 0.7988 - val_loss: 0.5613 - val_accuracy: 0.7450 - val_precision_1: 0.6284 - val_recall_1: 0.8012 - 282ms/epoch - 9ms/step\n",
            "Epoch 8/10\n",
            "32/32 - 0s - loss: 0.4707 - accuracy: 0.8102 - precision_1: 0.7260 - recall_1: 0.8021 - val_loss: 0.5343 - val_accuracy: 0.7494 - val_precision_1: 0.6394 - val_recall_1: 0.7778 - 255ms/epoch - 8ms/step\n",
            "Epoch 9/10\n",
            "32/32 - 0s - loss: 0.4307 - accuracy: 0.8240 - precision_1: 0.7355 - recall_1: 0.8366 - val_loss: 0.5179 - val_accuracy: 0.7716 - val_precision_1: 0.6977 - val_recall_1: 0.7018 - 258ms/epoch - 8ms/step\n",
            "Epoch 10/10\n",
            "32/32 - 0s - loss: 0.4050 - accuracy: 0.8312 - precision_1: 0.7626 - recall_1: 0.8053 - val_loss: 0.5065 - val_accuracy: 0.7783 - val_precision_1: 0.6940 - val_recall_1: 0.7427 - 260ms/epoch - 8ms/step\n"
          ]
        }
      ]
    },
    {
      "cell_type": "code",
      "source": [
        "loss, accuracy, precision, recall = model1.evaluate(X_test, y_test, verbose=0)\n",
        "print('Loss', loss)\n",
        "print('Accuracy', accuracy)\n",
        "print('Precision', precision)\n",
        "print('Recall', recall)\n",
        "\n",
        "f1_score = (2* recall*precision)/(recall+precision)\n",
        "print(\"f1_score\", f1_score)"
      ],
      "metadata": {
        "colab": {
          "base_uri": "https://localhost:8080/"
        },
        "id": "py47TBNgufD0",
        "outputId": "3373cd65-56c2-4cda-fb51-232c6acbef40"
      },
      "execution_count": null,
      "outputs": [
        {
          "output_type": "stream",
          "name": "stdout",
          "text": [
            "Loss 0.5164514183998108\n",
            "Accuracy 0.7619893550872803\n",
            "Precision 0.676616907119751\n",
            "Recall 0.6634146571159363\n",
            "f1_score 0.6699507465583034\n"
          ]
        }
      ]
    },
    {
      "cell_type": "code",
      "source": [
        "plt.style.use('ggplot')\n",
        "\n",
        "def plot_history(history):\n",
        "    acc = history.history['accuracy']\n",
        "    val_acc = history.history['val_accuracy']\n",
        "    loss = history.history['loss']\n",
        "    val_loss = history.history['val_loss']\n",
        "    x = range(1, len(acc) + 1)\n",
        "\n",
        "    plt.figure(figsize=(12, 2))\n",
        "    plt.subplot(1, 2, 1)\n",
        "    plt.plot(x, acc, 'b', label='Training acc')\n",
        "    plt.plot(x, val_acc, 'r', label='Validation acc')\n",
        "    plt.title('Training and validation accuracy')\n",
        "    plt.legend()\n",
        "    plt.subplot(1, 2, 2)\n",
        "    plt.plot(x, loss, 'b', label='Training loss')\n",
        "    plt.plot(x, val_loss, 'r', label='Validation loss')\n",
        "    plt.title('Training and validation loss')\n",
        "    plt.legend()\n",
        "\n",
        "%matplotlib inline\n",
        "plot_history(hist1)"
      ],
      "metadata": {
        "colab": {
          "base_uri": "https://localhost:8080/",
          "height": 174
        },
        "outputId": "e74bd6f6-a150-447c-a1e3-f67143e1c408",
        "id": "Vial3gKY8xY4"
      },
      "execution_count": null,
      "outputs": [
        {
          "output_type": "display_data",
          "data": {
            "image/png": "[encoded data removed]",
            "text/plain": [
              "<Figure size 864x144 with 2 Axes>"
            ]
          },
          "metadata": {
            "needs_background": "light"
          }
        }
      ]
    },
    {
      "cell_type": "markdown",
      "source": [
        "## CNN-rand"
      ],
      "metadata": {
        "id": "V6CJJN5T-7tx"
      }
    },
    {
      "cell_type": "code",
      "source": [
        "from keras.layers import Embedding, Conv1D, MaxPooling1D, GlobalMaxPooling1D, Flatten\n",
        "from tensorflow import keras\n",
        "import tensorflow as tf \n",
        "#CNN architecture -static\n",
        "print(\"training CNN ...\")\n",
        "model3 = Sequential()\n",
        "model3.add(Embedding(nb_words, embed_dim, input_length=maxlen, trainable=True))\n",
        "#model3.add(Dropout(0.2))\n",
        "\n",
        "model3.add(Conv1D(64, 3, activation='relu', padding='same'))\n",
        "model3.add(MaxPooling1D(5))\n",
        "model3.add(Dropout(0.2))\n",
        "\n",
        "model3.add(Conv1D(64, 3, activation='relu', padding='same'))\n",
        "model3.add(MaxPooling1D(5))\n",
        "model3.add(Dropout(0.2))\n",
        "\n",
        "model3.add(Conv1D(64, 3, activation='relu', padding='same'))\n",
        "model3.add(MaxPooling1D(5))\n",
        "model3.add(Dropout(0.2))\n",
        "\n",
        "model3.add(Flatten())\n",
        "#model.add(Dropout(0.4))\n",
        "#model.add(Dense(128, activation='relu', kernel_regularizer=regularizers.l2(weight_decay)))\n",
        "model3.add(Dense(32, activation='relu'))\n",
        "model3.add(Dropout(0.4))\n",
        "model3.add(Dense(64, activation='relu', kernel_regularizer=regularizers.l2(weight_decay)))\n",
        "model3.add(Dense(1, activation='sigmoid'))  \n",
        "\n",
        "model3.compile(loss='binary_crossentropy', optimizer='adam', metrics=[\"accuracy\",keras.metrics.Precision(),keras.metrics.Recall()])\n",
        "model3.summary()"
      ],
      "metadata": {
        "id": "aWo2jZgo-6-d",
        "colab": {
          "base_uri": "https://localhost:8080/"
        },
        "outputId": "b69408cf-e4d6-433f-e5d2-3f823b1ac804"
      },
      "execution_count": null,
      "outputs": [
        {
          "output_type": "stream",
          "name": "stdout",
          "text": [
            "training CNN ...\n",
            "Model: \"sequential_2\"\n",
            "_________________________________________________________________\n",
            " Layer (type)                Output Shape              Param #   \n",
            "=================================================================\n",
            " embedding_2 (Embedding)     (None, 366, 100)          2120700   \n",
            "                                                                 \n",
            " conv1d_6 (Conv1D)           (None, 366, 64)           19264     \n",
            "                                                                 \n",
            " max_pooling1d_6 (MaxPooling  (None, 73, 64)           0         \n",
            " 1D)                                                             \n",
            "                                                                 \n",
            " dropout_9 (Dropout)         (None, 73, 64)            0         \n",
            "                                                                 \n",
            " conv1d_7 (Conv1D)           (None, 73, 64)            12352     \n",
            "                                                                 \n",
            " max_pooling1d_7 (MaxPooling  (None, 14, 64)           0         \n",
            " 1D)                                                             \n",
            "                                                                 \n",
            " dropout_10 (Dropout)        (None, 14, 64)            0         \n",
            "                                                                 \n",
            " conv1d_8 (Conv1D)           (None, 14, 64)            12352     \n",
            "                                                                 \n",
            " max_pooling1d_8 (MaxPooling  (None, 2, 64)            0         \n",
            " 1D)                                                             \n",
            "                                                                 \n",
            " dropout_11 (Dropout)        (None, 2, 64)             0         \n",
            "                                                                 \n",
            " flatten_2 (Flatten)         (None, 128)               0         \n",
            "                                                                 \n",
            " dense_6 (Dense)             (None, 32)                4128      \n",
            "                                                                 \n",
            " dropout_12 (Dropout)        (None, 32)                0         \n",
            "                                                                 \n",
            " dense_7 (Dense)             (None, 64)                2112      \n",
            "                                                                 \n",
            " dense_8 (Dense)             (None, 1)                 65        \n",
            "                                                                 \n",
            "=================================================================\n",
            "Total params: 2,170,973\n",
            "Trainable params: 2,170,973\n",
            "Non-trainable params: 0\n",
            "_________________________________________________________________\n"
          ]
        }
      ]
    },
    {
      "cell_type": "code",
      "source": [
        "from keras.callbacks import EarlyStopping\n",
        "#define callbacks\n",
        "early_stopping = EarlyStopping(monitor='val_loss', min_delta=0.01, patience=2, verbose=1)\n",
        "callbacks_list = [early_stopping]\n",
        "#model training\n",
        "hist3 = model3.fit(X_train, y_train, batch_size=batch_size, epochs=5, callbacks=callbacks_list, validation_split=0.2, shuffle=True, verbose=2)"
      ],
      "metadata": {
        "colab": {
          "base_uri": "https://localhost:8080/"
        },
        "id": "nnah5M70vkZn",
        "outputId": "c4b6da98-26e1-485b-e04f-e57d86bd1e9f"
      },
      "execution_count": null,
      "outputs": [
        {
          "output_type": "stream",
          "name": "stdout",
          "text": [
            "Epoch 1/5\n",
            "29/29 - 2s - loss: 1.5825 - accuracy: 0.6124 - precision_2: 0.3182 - recall_2: 0.0312 - val_loss: 1.4202 - val_accuracy: 0.6016 - val_precision_2: 0.0000e+00 - val_recall_2: 0.0000e+00 - 2s/epoch - 73ms/step\n",
            "Epoch 2/5\n",
            "29/29 - 0s - loss: 1.2931 - accuracy: 0.6258 - precision_2: 0.0000e+00 - recall_2: 0.0000e+00 - val_loss: 1.1801 - val_accuracy: 0.6016 - val_precision_2: 0.0000e+00 - val_recall_2: 0.0000e+00 - 334ms/epoch - 12ms/step\n",
            "Epoch 3/5\n",
            "29/29 - 0s - loss: 1.0566 - accuracy: 0.6258 - precision_2: 0.0000e+00 - recall_2: 0.0000e+00 - val_loss: 0.9284 - val_accuracy: 0.6016 - val_precision_2: 0.0000e+00 - val_recall_2: 0.0000e+00 - 330ms/epoch - 11ms/step\n",
            "Epoch 4/5\n",
            "29/29 - 0s - loss: 0.7205 - accuracy: 0.7240 - precision_2: 0.8969 - recall_2: 0.2967 - val_loss: 0.7623 - val_accuracy: 0.7392 - val_precision_2: 0.7719 - val_recall_2: 0.4903 - 351ms/epoch - 12ms/step\n",
            "Epoch 5/5\n",
            "29/29 - 0s - loss: 0.4918 - accuracy: 0.9525 - precision_2: 0.9482 - recall_2: 0.9236 - val_loss: 0.7158 - val_accuracy: 0.7636 - val_precision_2: 0.7039 - val_recall_2: 0.7019 - 357ms/epoch - 12ms/step\n"
          ]
        }
      ]
    },
    {
      "cell_type": "code",
      "source": [
        "loss, accuracy, precision, recall = model3.evaluate(X_test, y_test, verbose=0)\n",
        "print('Loss', loss)\n",
        "print('Accuracy', accuracy)\n",
        "print('Precision', precision)\n",
        "print('Recall', recall)\n",
        "\n",
        "f1_score = (2* recall*precision)/(recall+precision)\n",
        "print(\"f1_score\", f1_score)"
      ],
      "metadata": {
        "colab": {
          "base_uri": "https://localhost:8080/"
        },
        "outputId": "8a215c1c-8b94-4b2a-ebc3-773b16367523",
        "id": "HQla7kvwvQtQ"
      },
      "execution_count": null,
      "outputs": [
        {
          "output_type": "stream",
          "name": "stdout",
          "text": [
            "Loss 0.592464804649353\n",
            "Accuracy 0.798401415348053\n",
            "Precision 0.7479674816131592\n",
            "Recall 0.6731707453727722\n",
            "f1_score 0.7086007786589645\n"
          ]
        }
      ]
    },
    {
      "cell_type": "code",
      "source": [
        "plt.style.use('ggplot')\n",
        "\n",
        "def plot_history(history):\n",
        "    acc = history.history['accuracy']\n",
        "    val_acc = history.history['val_accuracy']\n",
        "    loss = history.history['loss']\n",
        "    val_loss = history.history['val_loss']\n",
        "    x = range(1, len(acc) + 1)\n",
        "\n",
        "    plt.figure(figsize=(12, 2))\n",
        "    plt.subplot(1, 2, 1)\n",
        "    plt.plot(x, acc, 'b', label='Training acc')\n",
        "    plt.plot(x, val_acc, 'r', label='Validation acc')\n",
        "    plt.title('Training and validation accuracy')\n",
        "    plt.legend()\n",
        "    plt.subplot(1, 2, 2)\n",
        "    plt.plot(x, loss, 'b', label='Training loss')\n",
        "    plt.plot(x, val_loss, 'r', label='Validation loss')\n",
        "    plt.title('Training and validation loss')\n",
        "    plt.legend()\n",
        "\n",
        "%matplotlib inline\n",
        "plot_history(hist3)"
      ],
      "metadata": {
        "colab": {
          "base_uri": "https://localhost:8080/",
          "height": 174
        },
        "outputId": "5df25ec3-f260-4aae-b466-ec7c4b8b6e8a",
        "id": "A8vuQlRfvQtQ"
      },
      "execution_count": null,
      "outputs": [
        {
          "output_type": "display_data",
          "data": {
            "image/png": "[encoded data removed]",
            "text/plain": [
              "<Figure size 864x144 with 2 Axes>"
            ]
          },
          "metadata": {
            "needs_background": "light"
          }
        }
      ]
    },
    {
      "cell_type": "markdown",
      "source": [
        "## Multi Channel"
      ],
      "metadata": {
        "id": "0cSacbVJVG7n"
      }
    },
    {
      "cell_type": "code",
      "source": [
        "import tensorflow as tf \n",
        "from pickle import load\n",
        "from numpy import array\n",
        "from keras.preprocessing.text import Tokenizer\n",
        "from keras.preprocessing.sequence import pad_sequences\n",
        "from keras.utils.vis_utils import plot_model\n",
        "from keras.models import Model\n",
        "from keras.layers import Input\n",
        "from keras.layers import Dense\n",
        "from keras.layers import Flatten\n",
        "from keras.layers import Dropout\n",
        "from keras.layers import Embedding, GlobalMaxPooling1D\n",
        "from keras.layers.convolutional import Conv1D\n",
        "from keras.layers.convolutional import MaxPooling1D\n",
        "from keras.layers.merge import concatenate\n",
        "\n",
        "from tensorflow import keras\n",
        "import tensorflow as tf \n"
      ],
      "metadata": {
        "id": "ZyNQ8ZV05Hol"
      },
      "execution_count": null,
      "outputs": []
    },
    {
      "cell_type": "code",
      "source": [
        "from keras.layers import Input\n",
        "\n",
        "inputs1 = Input(shape=(maxlen,))\n",
        "\n",
        "# channel 1\n",
        "embedding1 = Embedding(nb_words, 100, weights=[embedding_matrix],trainable = True)(inputs1)\n",
        "\n",
        "drop = Dropout(0.2)(embedding1)\n",
        "\n",
        "conv1 = Conv1D(filters=64, kernel_size=2, activation='relu')(drop)\n",
        "pool1 = MaxPooling1D(pool_size=5,padding='same')(conv1)\n",
        "drop1 = Dropout(0.2)(pool1)\n",
        "\n",
        "conv1 = Conv1D(filters=64, kernel_size=3, activation='relu')(drop1)\n",
        "pool1 = MaxPooling1D(pool_size=5,padding='same')(conv1)\n",
        "drop1 = Dropout(0.2)(pool1)\n",
        "\n",
        "conv1 = Conv1D(filters=64, kernel_size=5, activation='relu')(drop1)\n",
        "pool1 = MaxPooling1D(pool_size=5,padding='same')(conv1)\n",
        "drop1 = Dropout(0.2)(pool1)\n",
        "flat1 = Flatten()(drop1)"
      ],
      "metadata": {
        "id": "X0KQig71ovvx"
      },
      "execution_count": null,
      "outputs": []
    },
    {
      "cell_type": "code",
      "source": [
        "from keras.layers import Input\n",
        "\n",
        "# channel 2\n",
        "embedding2 = Embedding(nb_words, 100, weights=[embedding_matrix],trainable = False)(inputs1)\n",
        "\n",
        "drop = Dropout(0.2)(embedding2)\n",
        "\n",
        "conv2 = Conv1D(filters=64, kernel_size=2, activation='relu')(drop)\n",
        "pool2 = MaxPooling1D(pool_size=5,padding='same')(conv2)\n",
        "drop2 = Dropout(0.2)(pool2)\n",
        "\n",
        "conv2 = Conv1D(filters=64, kernel_size=3, activation='relu')(drop2)\n",
        "pool2 = MaxPooling1D(pool_size=5,padding='same')(conv2)\n",
        "drop2 = Dropout(0.2)(pool2)\n",
        "\n",
        "conv2 = Conv1D(filters=64, kernel_size=5, activation='relu')(drop2)\n",
        "pool2 = MaxPooling1D(pool_size=5,padding='same')(conv2)\n",
        "drop2 = Dropout(0.2)(pool2)\n",
        "flat2 = Flatten()(drop2)"
      ],
      "metadata": {
        "id": "R5B36Zpx5Dbm"
      },
      "execution_count": null,
      "outputs": []
    },
    {
      "cell_type": "code",
      "source": [
        "merged = concatenate([flat1, flat2])\n",
        "\n",
        "# interpretation\n",
        "dense1 = Dense(32, activation='relu')(merged)\n",
        "drop2 = Dropout(0.4)(dense1)\n",
        "#dense1 = Dense(128, activation='relu',kernel_regularizer=regularizers.l2(weight_decay))(drop2)\n",
        "dense2 = Dense(64, activation='relu',kernel_regularizer=regularizers.l2(weight_decay))(dense1)\n",
        "outputs = Dense(1, activation='sigmoid')(dense2)\n",
        "\n",
        "model3 = Model(inputs=inputs1, outputs=outputs)\n",
        "\n",
        "# compile\n",
        "model3.compile(loss='binary_crossentropy', optimizer='adam', metrics=[\"accuracy\",keras.metrics.Precision(),keras.metrics.Recall()])\n",
        "# summarize\n",
        "print(model3.summary())\n",
        "\n",
        "#plot_model(model, show_shapes=True, to_file='multichannel.png')"
      ],
      "metadata": {
        "colab": {
          "base_uri": "https://localhost:8080/"
        },
        "id": "bz4CTkTQ5DjD",
        "outputId": "6fd82639-1349-4d1b-8405-fb3ff9136378"
      },
      "execution_count": null,
      "outputs": [
        {
          "output_type": "stream",
          "name": "stdout",
          "text": [
            "Model: \"model\"\n",
            "__________________________________________________________________________________________________\n",
            " Layer (type)                   Output Shape         Param #     Connected to                     \n",
            "==================================================================================================\n",
            " input_1 (InputLayer)           [(None, 366)]        0           []                               \n",
            "                                                                                                  \n",
            " embedding_2 (Embedding)        (None, 366, 100)     2120700     ['input_1[0][0]']                \n",
            "                                                                                                  \n",
            " embedding_3 (Embedding)        (None, 366, 100)     2120700     ['input_1[0][0]']                \n",
            "                                                                                                  \n",
            " dropout_9 (Dropout)            (None, 366, 100)     0           ['embedding_2[0][0]']            \n",
            "                                                                                                  \n",
            " dropout_13 (Dropout)           (None, 366, 100)     0           ['embedding_3[0][0]']            \n",
            "                                                                                                  \n",
            " conv1d_6 (Conv1D)              (None, 365, 64)      12864       ['dropout_9[0][0]']              \n",
            "                                                                                                  \n",
            " conv1d_9 (Conv1D)              (None, 365, 64)      12864       ['dropout_13[0][0]']             \n",
            "                                                                                                  \n",
            " max_pooling1d_6 (MaxPooling1D)  (None, 73, 64)      0           ['conv1d_6[0][0]']               \n",
            "                                                                                                  \n",
            " max_pooling1d_9 (MaxPooling1D)  (None, 73, 64)      0           ['conv1d_9[0][0]']               \n",
            "                                                                                                  \n",
            " dropout_10 (Dropout)           (None, 73, 64)       0           ['max_pooling1d_6[0][0]']        \n",
            "                                                                                                  \n",
            " dropout_14 (Dropout)           (None, 73, 64)       0           ['max_pooling1d_9[0][0]']        \n",
            "                                                                                                  \n",
            " conv1d_7 (Conv1D)              (None, 71, 64)       12352       ['dropout_10[0][0]']             \n",
            "                                                                                                  \n",
            " conv1d_10 (Conv1D)             (None, 71, 64)       12352       ['dropout_14[0][0]']             \n",
            "                                                                                                  \n",
            " max_pooling1d_7 (MaxPooling1D)  (None, 15, 64)      0           ['conv1d_7[0][0]']               \n",
            "                                                                                                  \n",
            " max_pooling1d_10 (MaxPooling1D  (None, 15, 64)      0           ['conv1d_10[0][0]']              \n",
            " )                                                                                                \n",
            "                                                                                                  \n",
            " dropout_11 (Dropout)           (None, 15, 64)       0           ['max_pooling1d_7[0][0]']        \n",
            "                                                                                                  \n",
            " dropout_15 (Dropout)           (None, 15, 64)       0           ['max_pooling1d_10[0][0]']       \n",
            "                                                                                                  \n",
            " conv1d_8 (Conv1D)              (None, 11, 64)       20544       ['dropout_11[0][0]']             \n",
            "                                                                                                  \n",
            " conv1d_11 (Conv1D)             (None, 11, 64)       20544       ['dropout_15[0][0]']             \n",
            "                                                                                                  \n",
            " max_pooling1d_8 (MaxPooling1D)  (None, 3, 64)       0           ['conv1d_8[0][0]']               \n",
            "                                                                                                  \n",
            " max_pooling1d_11 (MaxPooling1D  (None, 3, 64)       0           ['conv1d_11[0][0]']              \n",
            " )                                                                                                \n",
            "                                                                                                  \n",
            " dropout_12 (Dropout)           (None, 3, 64)        0           ['max_pooling1d_8[0][0]']        \n",
            "                                                                                                  \n",
            " dropout_16 (Dropout)           (None, 3, 64)        0           ['max_pooling1d_11[0][0]']       \n",
            "                                                                                                  \n",
            " flatten_2 (Flatten)            (None, 192)          0           ['dropout_12[0][0]']             \n",
            "                                                                                                  \n",
            " flatten_3 (Flatten)            (None, 192)          0           ['dropout_16[0][0]']             \n",
            "                                                                                                  \n",
            " concatenate (Concatenate)      (None, 384)          0           ['flatten_2[0][0]',              \n",
            "                                                                  'flatten_3[0][0]']              \n",
            "                                                                                                  \n",
            " dense_6 (Dense)                (None, 32)           12320       ['concatenate[0][0]']            \n",
            "                                                                                                  \n",
            " dense_7 (Dense)                (None, 64)           2112        ['dense_6[0][0]']                \n",
            "                                                                                                  \n",
            " dense_8 (Dense)                (None, 1)            65          ['dense_7[0][0]']                \n",
            "                                                                                                  \n",
            "==================================================================================================\n",
            "Total params: 4,347,417\n",
            "Trainable params: 2,226,717\n",
            "Non-trainable params: 2,120,700\n",
            "__________________________________________________________________________________________________\n",
            "None\n"
          ]
        }
      ]
    },
    {
      "cell_type": "code",
      "source": [
        "from keras.callbacks import EarlyStopping\n",
        "#define callbacks\n",
        "early_stopping = EarlyStopping(monitor='val_loss', min_delta=0.01, patience=4, verbose=1)\n",
        "callbacks_list = [early_stopping]\n",
        "#model training\n",
        "hist3 = model3.fit(X_train, y_train, batch_size=batch_size, epochs=10, callbacks=callbacks_list, validation_split=0.1, shuffle=True, verbose=2)"
      ],
      "metadata": {
        "colab": {
          "base_uri": "https://localhost:8080/"
        },
        "id": "Cb89VSTD_OIc",
        "outputId": "9cfddbdc-4ac5-4331-8fb3-c0df9752efb6"
      },
      "execution_count": null,
      "outputs": [
        {
          "output_type": "stream",
          "name": "stdout",
          "text": [
            "Epoch 1/10\n",
            "32/32 - 3s - loss: 1.5134 - accuracy: 0.6335 - precision_2: 0.6308 - recall_2: 0.0801 - val_loss: 1.2646 - val_accuracy: 0.7007 - val_precision_2: 0.6184 - val_recall_2: 0.5497 - 3s/epoch - 98ms/step\n",
            "Epoch 2/10\n",
            "32/32 - 1s - loss: 1.1283 - accuracy: 0.7127 - precision_2: 0.6186 - recall_2: 0.6315 - val_loss: 0.9702 - val_accuracy: 0.7384 - val_precision_2: 0.6345 - val_recall_2: 0.7310 - 554ms/epoch - 17ms/step\n",
            "Epoch 3/10\n",
            "32/32 - 1s - loss: 0.8866 - accuracy: 0.7606 - precision_2: 0.6649 - recall_2: 0.7428 - val_loss: 0.7988 - val_accuracy: 0.7583 - val_precision_2: 0.6632 - val_recall_2: 0.7368 - 521ms/epoch - 16ms/step\n",
            "Epoch 4/10\n",
            "32/32 - 1s - loss: 0.7264 - accuracy: 0.7757 - precision_2: 0.6885 - recall_2: 0.7454 - val_loss: 0.6923 - val_accuracy: 0.7583 - val_precision_2: 0.6422 - val_recall_2: 0.8187 - 518ms/epoch - 16ms/step\n",
            "Epoch 5/10\n",
            "32/32 - 1s - loss: 0.6115 - accuracy: 0.7915 - precision_2: 0.7015 - recall_2: 0.7832 - val_loss: 0.6005 - val_accuracy: 0.7561 - val_precision_2: 0.6548 - val_recall_2: 0.7544 - 557ms/epoch - 17ms/step\n",
            "Epoch 6/10\n",
            "32/32 - 1s - loss: 0.5228 - accuracy: 0.8110 - precision_2: 0.7316 - recall_2: 0.7917 - val_loss: 0.5428 - val_accuracy: 0.7805 - val_precision_2: 0.6875 - val_recall_2: 0.7719 - 513ms/epoch - 16ms/step\n",
            "Epoch 7/10\n",
            "32/32 - 1s - loss: 0.4537 - accuracy: 0.8411 - precision_2: 0.7693 - recall_2: 0.8294 - val_loss: 0.5120 - val_accuracy: 0.7738 - val_precision_2: 0.6927 - val_recall_2: 0.7251 - 517ms/epoch - 16ms/step\n",
            "Epoch 8/10\n",
            "32/32 - 1s - loss: 0.4032 - accuracy: 0.8480 - precision_2: 0.7725 - recall_2: 0.8490 - val_loss: 0.5010 - val_accuracy: 0.7827 - val_precision_2: 0.7160 - val_recall_2: 0.7076 - 536ms/epoch - 17ms/step\n",
            "Epoch 9/10\n",
            "32/32 - 1s - loss: 0.3573 - accuracy: 0.8687 - precision_2: 0.8087 - recall_2: 0.8561 - val_loss: 0.4781 - val_accuracy: 0.7938 - val_precision_2: 0.7191 - val_recall_2: 0.7485 - 551ms/epoch - 17ms/step\n",
            "Epoch 10/10\n",
            "32/32 - 1s - loss: 0.3221 - accuracy: 0.8823 - precision_2: 0.8219 - recall_2: 0.8802 - val_loss: 0.4738 - val_accuracy: 0.7894 - val_precision_2: 0.7111 - val_recall_2: 0.7485 - 548ms/epoch - 17ms/step\n"
          ]
        }
      ]
    },
    {
      "cell_type": "code",
      "source": [
        "loss, accuracy, precision, recall = model3.evaluate(X_test, y_test, verbose=0)\n",
        "print('Loss', loss)\n",
        "print('Accuracy', accuracy)\n",
        "print('Precision', precision)\n",
        "print('Recall', recall)\n",
        "\n",
        "f1_score = (2* recall*precision)/(recall+precision)\n",
        "print(\"f1_score\", f1_score)"
      ],
      "metadata": {
        "colab": {
          "base_uri": "https://localhost:8080/"
        },
        "outputId": "46d2c5e0-36f1-4862-bbc0-ac355c649c22",
        "id": "7PD8xdS2AtSJ"
      },
      "execution_count": null,
      "outputs": [
        {
          "output_type": "stream",
          "name": "stdout",
          "text": [
            "Loss 0.5138520002365112\n",
            "Accuracy 0.7841918468475342\n",
            "Precision 0.7124682068824768\n",
            "Recall 0.6829268336296082\n",
            "f1_score 0.6973848157142\n"
          ]
        }
      ]
    },
    {
      "cell_type": "code",
      "source": [
        "plt.style.use('ggplot')\n",
        "\n",
        "def plot_history(history):\n",
        "    acc = history.history['accuracy']\n",
        "    val_acc = history.history['val_accuracy']\n",
        "    loss = history.history['loss']\n",
        "    val_loss = history.history['val_loss']\n",
        "    x = range(1, len(acc) + 1)\n",
        "\n",
        "    plt.figure(figsize=(12, 2))\n",
        "    plt.subplot(1, 2, 1)\n",
        "    plt.plot(x, acc, 'b', label='Training acc')\n",
        "    plt.plot(x, val_acc, 'r', label='Validation acc')\n",
        "    plt.title('Training and validation accuracy')\n",
        "    plt.legend()\n",
        "    plt.subplot(1, 2, 2)\n",
        "    plt.plot(x, loss, 'b', label='Training loss')\n",
        "    plt.plot(x, val_loss, 'r', label='Validation loss')\n",
        "    plt.title('Training and validation loss')\n",
        "    plt.legend()\n",
        "\n",
        "%matplotlib inline\n",
        "plot_history(hist3)"
      ],
      "metadata": {
        "colab": {
          "base_uri": "https://localhost:8080/",
          "height": 174
        },
        "outputId": "b9cab539-6767-45ff-8807-f56390c70f7b",
        "id": "9kGaJQn_AtSL"
      },
      "execution_count": null,
      "outputs": [
        {
          "output_type": "display_data",
          "data": {
            "image/png": "[encoded data removed]",
            "text/plain": [
              "<Figure size 864x144 with 2 Axes>"
            ]
          },
          "metadata": {
            "needs_background": "light"
          }
        }
      ]
    },
    {
      "cell_type": "code",
      "source": [
        ""
      ],
      "metadata": {
        "id": "B9cpPBfcAgc5"
      },
      "execution_count": null,
      "outputs": []
    },
    {
      "cell_type": "markdown",
      "metadata": {
        "id": "EEbMYgBFhKrr"
      },
      "source": [
        "# cnn with skipgram fasttext"
      ]
    },
    {
      "cell_type": "markdown",
      "metadata": {
        "id": "IVEwInpSh_36"
      },
      "source": [
        "##  prepare"
      ]
    },
    {
      "cell_type": "code",
      "execution_count": 1,
      "metadata": {
        "id": "Mie6IBSoh_38"
      },
      "outputs": [],
      "source": [
        "import pandas as pd\n",
        "import numpy as np\n",
        "import time\n",
        "\n",
        "from keras import layers\n",
        "from keras.models import Sequential\n",
        "from keras.layers import Dense, Activation,Dropout\n",
        "from tensorflow.keras import regularizers, optimizers\n",
        "\n",
        "from keras.preprocessing.text import Tokenizer, one_hot\n",
        "from keras.preprocessing.sequence import pad_sequences\n",
        "\n",
        "import sklearn\n",
        "from sklearn.model_selection import train_test_split\n",
        "from sklearn.metrics import classification_report, accuracy_score, confusion_matrix\n",
        "\n",
        "import matplotlib.pyplot as plt"
      ]
    },
    {
      "cell_type": "code",
      "execution_count": 2,
      "metadata": {
        "id": "NxeGW1ADh_39"
      },
      "outputs": [],
      "source": [
        "import pandas as pd\n",
        "import numpy as np\n",
        "from matplotlib import pyplot as plt\n",
        "from sklearn.model_selection import train_test_split"
      ]
    },
    {
      "cell_type": "code",
      "execution_count": 3,
      "metadata": {
        "id": "hciz07F0h_39"
      },
      "outputs": [],
      "source": [
        "dataset = \"/content/Segmented-Sentiments - Sheet1 (1).csv\""
      ]
    },
    {
      "cell_type": "code",
      "execution_count": 4,
      "metadata": {
        "colab": {
          "base_uri": "https://localhost:8080/"
        },
        "outputId": "7dd2ede6-098b-4c8c-92a0-accd1f7f65eb",
        "id": "bGoJ-K2wh_39"
      },
      "outputs": [
        {
          "output_type": "stream",
          "name": "stdout",
          "text": [
            "   Index                                          Sentences Sentiment\n",
            "0      0  အန်ဒရီယာ မာစီ သည် အီတလီ အတွက် စမ်းသပ်မှု တစ်ခု...  Positive\n",
            "1      1  ပေါ်တူဂီ သည် ဘယ်သောအခါမှ စွန့်လွှတ်မှု မရှိခဲ့...  Positive\n",
            "2      2  အီတလီ သည် ပထမပိုင်း ၌ ၁၆-၅ ဖြင့် ဦးဆောင်ခဲ့ သေ...  Positive\n",
            "3      3  သို့သော်လည်း ဘော်တိုလပ်စီ သည် မော်ရို ဘာဂမ်မက်...  Positive\n",
            "4      4  နယူးဇီလန် သည် ရမှတ် ကွာခြားချက် အပေါ် စကော့တလန...  Positive\n"
          ]
        }
      ],
      "source": [
        "data = pd.read_csv(dataset)\n",
        "print(data.head())"
      ]
    },
    {
      "cell_type": "code",
      "execution_count": 5,
      "metadata": {
        "colab": {
          "base_uri": "https://localhost:8080/"
        },
        "outputId": "415276ec-f723-410b-90a3-7328fae0ed55",
        "id": "1hgi77tXh_3-"
      },
      "outputs": [
        {
          "output_type": "execute_result",
          "data": {
            "text/plain": [
              "Index        0\n",
              "Sentences    0\n",
              "Sentiment    0\n",
              "dtype: int64"
            ]
          },
          "metadata": {},
          "execution_count": 5
        }
      ],
      "source": [
        "data.isnull().sum()"
      ]
    },
    {
      "cell_type": "code",
      "execution_count": 6,
      "metadata": {
        "id": "J14i7KCCh_3-"
      },
      "outputs": [],
      "source": [
        "data = data.loc[data[\"Sentiment\"] != \"Neutral\"]"
      ]
    },
    {
      "cell_type": "code",
      "execution_count": 7,
      "metadata": {
        "colab": {
          "base_uri": "https://localhost:8080/",
          "height": 0
        },
        "outputId": "d413937e-7d7e-4feb-f4d8-db4bf3d1c356",
        "id": "K-5bRYg9h_3-"
      },
      "outputs": [
        {
          "output_type": "execute_result",
          "data": {
            "text/plain": [
              "<matplotlib.axes._subplots.AxesSubplot at 0x7fc900b38b90>"
            ]
          },
          "metadata": {},
          "execution_count": 7
        },
        {
          "output_type": "display_data",
          "data": {
            "image/png": "[encoded data removed]",
            "text/plain": [
              "<Figure size 432x288 with 1 Axes>"
            ]
          },
          "metadata": {
            "needs_background": "light"
          }
        }
      ],
      "source": [
        "data['category_id'] = data['Sentiment'].factorize()[0]\n",
        "colslist = ['Index','Sentence', 'Sentiment', 'category_id']\n",
        "data.columns = colslist\n",
        "data.groupby('Sentiment').Index.count().plot.bar(ylim=0)"
      ]
    },
    {
      "cell_type": "code",
      "execution_count": 8,
      "metadata": {
        "id": "49ooOkR2h_3-"
      },
      "outputs": [],
      "source": [
        "stopwordslist = []\n",
        "slist = []\n",
        "with open(\"/content/stopword (1).txt\", encoding = 'utf8') as stopwordsfile:\n",
        "    stopwords = stopwordsfile.readlines()\n",
        "    slist.extend(stopwords)\n",
        "    for w in range(len(slist)):\n",
        "        temp = slist[w]\n",
        "        stopwordslist.append(temp.rstrip())"
      ]
    },
    {
      "cell_type": "code",
      "execution_count": 9,
      "metadata": {
        "colab": {
          "base_uri": "https://localhost:8080/",
          "height": 0
        },
        "outputId": "d3564849-cbb3-4022-ddac-0aae074543fd",
        "id": "cxUS4Qrdh_3-"
      },
      "outputs": [
        {
          "output_type": "execute_result",
          "data": {
            "text/html": [
              "\n",
              "  <div id=\"df-ecb436ba-6cbc-481e-aec9-a6ffef3e8385\">\n",
              "    <div class=\"colab-df-container\">\n",
              "      <div>\n",
              "<style scoped>\n",
              "    .dataframe tbody tr th:only-of-type {\n",
              "        vertical-align: middle;\n",
              "    }\n",
              "\n",
              "    .dataframe tbody tr th {\n",
              "        vertical-align: top;\n",
              "    }\n",
              "\n",
              "    .dataframe thead th {\n",
              "        text-align: right;\n",
              "    }\n",
              "</style>\n",
              "<table border=\"1\" class=\"dataframe\">\n",
              "  <thead>\n",
              "    <tr style=\"text-align: right;\">\n",
              "      <th></th>\n",
              "      <th>Index</th>\n",
              "      <th>Sentence</th>\n",
              "      <th>Sentiment</th>\n",
              "      <th>category_id</th>\n",
              "    </tr>\n",
              "  </thead>\n",
              "  <tbody>\n",
              "    <tr>\n",
              "      <th>0</th>\n",
              "      <td>0</td>\n",
              "      <td>အန်ဒရီယာ မာစီ အီတလီ စမ်းသပ်မှု တစ်ခု စတုတ္ထ မိ...</td>\n",
              "      <td>Positive</td>\n",
              "      <td>0</td>\n",
              "    </tr>\n",
              "    <tr>\n",
              "      <th>1</th>\n",
              "      <td>1</td>\n",
              "      <td>ပေါ်တူဂီ ဘယ်သောအခါမှ စွန့်လွှတ်မှု မရှိခဲ့ ဒေး...</td>\n",
              "      <td>Positive</td>\n",
              "      <td>0</td>\n",
              "    </tr>\n",
              "    <tr>\n",
              "      <th>2</th>\n",
              "      <td>2</td>\n",
              "      <td>အီတလီ ပထမပိုင်း ဖြင့် ဦးဆောင်ခဲ့ ပေါ်တူဂီ ဒုတိ...</td>\n",
              "      <td>Positive</td>\n",
              "      <td>0</td>\n",
              "    </tr>\n",
              "    <tr>\n",
              "      <th>3</th>\n",
              "      <td>3</td>\n",
              "      <td>သို့သော်လည်း ဘော်တိုလပ်စီ မော်ရို ဘာဂမ်မက်စကို...</td>\n",
              "      <td>Positive</td>\n",
              "      <td>0</td>\n",
              "    </tr>\n",
              "    <tr>\n",
              "      <th>4</th>\n",
              "      <td>4</td>\n",
              "      <td>နယူးဇီလန် ရမှတ် ကွာခြားချက် စကော့တလန်၏ ရှေ့မှ ...</td>\n",
              "      <td>Positive</td>\n",
              "      <td>0</td>\n",
              "    </tr>\n",
              "    <tr>\n",
              "      <th>5</th>\n",
              "      <td>5</td>\n",
              "      <td>အသေးစိတ်များကို မနေ့က ယူတီစီ အောက်လွှတ်တော် ဗြ...</td>\n",
              "      <td>Positive</td>\n",
              "      <td>0</td>\n",
              "    </tr>\n",
              "    <tr>\n",
              "      <th>6</th>\n",
              "      <td>6</td>\n",
              "      <td>လွှတ်တော်အမတ်များ သူမ၏ ကြေငြာချက် ရုသ်ကယ်လီ ပျ...</td>\n",
              "      <td>Positive</td>\n",
              "      <td>0</td>\n",
              "    </tr>\n",
              "    <tr>\n",
              "      <th>7</th>\n",
              "      <td>7</td>\n",
              "      <td>သူမသည် လုံခြုံရေးရာ ဆောင်ရွက်မှုများ ရယူခဲ့ကြေ...</td>\n",
              "      <td>Positive</td>\n",
              "      <td>0</td>\n",
              "    </tr>\n",
              "    <tr>\n",
              "      <th>8</th>\n",
              "      <td>8</td>\n",
              "      <td>လစ်ဘရယ် ဒီမိုကရက် ကိုယ်စားပြုထားသော ဆူဇန် ကရာမ...</td>\n",
              "      <td>Positive</td>\n",
              "      <td>0</td>\n",
              "    </tr>\n",
              "    <tr>\n",
              "      <th>9</th>\n",
              "      <td>9</td>\n",
              "      <td>လူးဝတ် ဆက်လက် မှတ်ချက်ပြုခဲ့သည် င်္သဘော အမှတ်အ...</td>\n",
              "      <td>Positive</td>\n",
              "      <td>0</td>\n",
              "    </tr>\n",
              "  </tbody>\n",
              "</table>\n",
              "</div>\n",
              "      <button class=\"colab-df-convert\" onclick=\"convertToInteractive('df-ecb436ba-6cbc-481e-aec9-a6ffef3e8385')\"\n",
              "              title=\"Convert this dataframe to an interactive table.\"\n",
              "              style=\"display:none;\">\n",
              "        \n",
              "  <svg xmlns=\"http://www.w3.org/2000/svg\" height=\"24px\"viewBox=\"0 0 24 24\"\n",
              "       width=\"24px\">\n",
              "    <path d=\"M0 0h24v24H0V0z\" fill=\"none\"/>\n",
              "    <path d=\"M18.56 5.44l.94 2.06.94-2.06 2.06-.94-2.06-.94-.94-2.06-.94 2.06-2.06.94zm-11 1L8.5 8.5l.94-2.06 2.06-.94-2.06-.94L8.5 2.5l-.94 2.06-2.06.94zm10 10l.94 2.06.94-2.06 2.06-.94-2.06-.94-.94-2.06-.94 2.06-2.06.94z\"/><path d=\"M17.41 7.96l-1.37-1.37c-.4-.4-.92-.59-1.43-.59-.52 0-1.04.2-1.43.59L10.3 9.45l-7.72 7.72c-.78.78-.78 2.05 0 2.83L4 21.41c.39.39.9.59 1.41.59.51 0 1.02-.2 1.41-.59l7.78-7.78 2.81-2.81c.8-.78.8-2.07 0-2.86zM5.41 20L4 18.59l7.72-7.72 1.47 1.35L5.41 20z\"/>\n",
              "  </svg>\n",
              "      </button>\n",
              "      \n",
              "  <style>\n",
              "    .colab-df-container {\n",
              "      display:flex;\n",
              "      flex-wrap:wrap;\n",
              "      gap: 12px;\n",
              "    }\n",
              "\n",
              "    .colab-df-convert {\n",
              "      background-color: #E8F0FE;\n",
              "      border: none;\n",
              "      border-radius: 50%;\n",
              "      cursor: pointer;\n",
              "      display: none;\n",
              "      fill: #1967D2;\n",
              "      height: 32px;\n",
              "      padding: 0 0 0 0;\n",
              "      width: 32px;\n",
              "    }\n",
              "\n",
              "    .colab-df-convert:hover {\n",
              "      background-color: #E2EBFA;\n",
              "      box-shadow: 0px 1px 2px rgba(60, 64, 67, 0.3), 0px 1px 3px 1px rgba(60, 64, 67, 0.15);\n",
              "      fill: #174EA6;\n",
              "    }\n",
              "\n",
              "    [theme=dark] .colab-df-convert {\n",
              "      background-color: #3B4455;\n",
              "      fill: #D2E3FC;\n",
              "    }\n",
              "\n",
              "    [theme=dark] .colab-df-convert:hover {\n",
              "      background-color: #434B5C;\n",
              "      box-shadow: 0px 1px 3px 1px rgba(0, 0, 0, 0.15);\n",
              "      filter: drop-shadow(0px 1px 2px rgba(0, 0, 0, 0.3));\n",
              "      fill: #FFFFFF;\n",
              "    }\n",
              "  </style>\n",
              "\n",
              "      <script>\n",
              "        const buttonEl =\n",
              "          document.querySelector('#df-ecb436ba-6cbc-481e-aec9-a6ffef3e8385 button.colab-df-convert');\n",
              "        buttonEl.style.display =\n",
              "          google.colab.kernel.accessAllowed ? 'block' : 'none';\n",
              "\n",
              "        async function convertToInteractive(key) {\n",
              "          const element = document.querySelector('#df-ecb436ba-6cbc-481e-aec9-a6ffef3e8385');\n",
              "          const dataTable =\n",
              "            await google.colab.kernel.invokeFunction('convertToInteractive',\n",
              "                                                     [key], {});\n",
              "          if (!dataTable) return;\n",
              "\n",
              "          const docLinkHtml = 'Like what you see? Visit the ' +\n",
              "            '<a target=\"_blank\" href=https://colab.research.google.com/notebooks/data_table.ipynb>data table notebook</a>'\n",
              "            + ' to learn more about interactive tables.';\n",
              "          element.innerHTML = '';\n",
              "          dataTable['output_type'] = 'display_data';\n",
              "          await google.colab.output.renderOutput(dataTable, element);\n",
              "          const docLink = document.createElement('div');\n",
              "          docLink.innerHTML = docLinkHtml;\n",
              "          element.appendChild(docLink);\n",
              "        }\n",
              "      </script>\n",
              "    </div>\n",
              "  </div>\n",
              "  "
            ],
            "text/plain": [
              "   Index  ... category_id\n",
              "0      0  ...           0\n",
              "1      1  ...           0\n",
              "2      2  ...           0\n",
              "3      3  ...           0\n",
              "4      4  ...           0\n",
              "5      5  ...           0\n",
              "6      6  ...           0\n",
              "7      7  ...           0\n",
              "8      8  ...           0\n",
              "9      9  ...           0\n",
              "\n",
              "[10 rows x 4 columns]"
            ]
          },
          "metadata": {},
          "execution_count": 9
        }
      ],
      "source": [
        "import re\n",
        "CleanPattern = re.compile(r'\\d+|[၊။!-/:-@[-`{-~\\t ]|[A-za-z0-9]')\n",
        "def clean_sentence(sentence):\n",
        "     sent = CleanPattern.sub(\" \",sentence)\n",
        "     return sent\n",
        "\n",
        "def stop_word(sentence):\n",
        "  new_sentence = []\n",
        "  for word in sentence.split():\n",
        "    if word not in stopwordslist:\n",
        "      new_sentence.append(word)\n",
        "  return(' '.join(new_sentence))\n",
        "\n",
        "BreakPattern = re.compile(r'(?:(?<!္)([က-ဪဿ၊-၏]|[၀-၉]+|[^က-၏]+)(?![ှျ]?[့္်]))')\n",
        "\n",
        "def sylbreak(sentence):\n",
        "    line = BreakPattern.sub(\" \" + r\"\\1\",sentence)\n",
        "    return line\n",
        "\n",
        "def process(sentence):\n",
        "    line = clean_sentence(sentence)\n",
        "    sentence = stop_word(line)\n",
        "    return sentence\n",
        "\n",
        "data['Sentence'] = data['Sentence'].apply(process)\n",
        "data.head(10)"
      ]
    },
    {
      "cell_type": "code",
      "source": [
        "import os, re, csv, math, codecs\n",
        "from tqdm import tqdm"
      ],
      "metadata": {
        "id": "74JL22SVh_3_"
      },
      "execution_count": 10,
      "outputs": []
    },
    {
      "cell_type": "code",
      "execution_count": 11,
      "metadata": {
        "id": "6zbmXYFRh_3_"
      },
      "outputs": [],
      "source": [
        "X = data['Sentence'].fillna('').tolist()\n",
        "X = [str(i) for i in X]\n",
        "y = np.array(data['category_id'])"
      ]
    },
    {
      "cell_type": "code",
      "execution_count": 12,
      "metadata": {
        "colab": {
          "base_uri": "https://localhost:8080/",
          "height": 0
        },
        "outputId": "b50a16ac-49f1-47d0-a5df-489dd4e9b694",
        "id": "NIYIHGKLh_3_"
      },
      "outputs": [
        {
          "output_type": "execute_result",
          "data": {
            "application/vnd.google.colaboratory.intrinsic+json": {
              "type": "string"
            },
            "text/plain": [
              "'အနာဂတ် ဆိုသည်မှာ တစ်နှစ် နှစ်နှစ် သုံးနှစ် ဆိုလို'"
            ]
          },
          "metadata": {},
          "execution_count": 12
        }
      ],
      "source": [
        "X[500]"
      ]
    },
    {
      "cell_type": "code",
      "execution_count": 13,
      "metadata": {
        "id": "XoY2YHsyh_3_"
      },
      "outputs": [],
      "source": [
        "RANDOM_STATE = 42\n",
        "\n",
        "# Split train & test\n",
        "text_train, text_test, y_train, y_test = train_test_split(X, y, test_size=0.2, random_state=RANDOM_STATE)\n",
        "\n",
        "# Tokenize and transform to integer index\n",
        "tokenizer = Tokenizer(split=\" \")\n",
        "tokenizer.fit_on_texts(text_train)\n",
        "\n",
        "X_train = tokenizer.texts_to_sequences(text_train)\n",
        "X_test = tokenizer.texts_to_sequences(text_test)\n",
        "\n",
        "vocab_size = len(tokenizer.word_index) + 1  # Adding 1 because of reserved 0 index\n",
        "maxlen = max(len(x) for x in X_train) # longest text in train set\n",
        "\n",
        "# Add pading to ensure all vectors have same dimensionality\n",
        "X_train = pad_sequences(X_train, padding='post', maxlen=maxlen)\n",
        "X_test = pad_sequences(X_test, padding='post', maxlen=maxlen)"
      ]
    },
    {
      "cell_type": "code",
      "source": [
        "maxlen"
      ],
      "metadata": {
        "colab": {
          "base_uri": "https://localhost:8080/"
        },
        "outputId": "05185060-77c2-406d-9d9a-31406e6fffdf",
        "id": "4wN023Hzh_3_"
      },
      "execution_count": 14,
      "outputs": [
        {
          "output_type": "execute_result",
          "data": {
            "text/plain": [
              "366"
            ]
          },
          "metadata": {},
          "execution_count": 14
        }
      ]
    },
    {
      "cell_type": "code",
      "source": [
        "y_train.shape"
      ],
      "metadata": {
        "colab": {
          "base_uri": "https://localhost:8080/"
        },
        "outputId": "f03d5b9f-32a6-43fc-eada-a1091fb2c2a8",
        "id": "CpPux5eBh_4A"
      },
      "execution_count": 15,
      "outputs": [
        {
          "output_type": "execute_result",
          "data": {
            "text/plain": [
              "(4503,)"
            ]
          },
          "metadata": {},
          "execution_count": 15
        }
      ]
    },
    {
      "cell_type": "code",
      "source": [
        "y_test.shape"
      ],
      "metadata": {
        "colab": {
          "base_uri": "https://localhost:8080/"
        },
        "outputId": "138c80d4-91fe-4730-cbbb-e45f8ab98351",
        "id": "AG0HpU3Nh_4A"
      },
      "execution_count": 16,
      "outputs": [
        {
          "output_type": "execute_result",
          "data": {
            "text/plain": [
              "(1126,)"
            ]
          },
          "metadata": {},
          "execution_count": 16
        }
      ]
    },
    {
      "cell_type": "code",
      "source": [
        "word_index = tokenizer.word_index\n",
        "print(\"dictionary size: \", len(word_index))"
      ],
      "metadata": {
        "colab": {
          "base_uri": "https://localhost:8080/"
        },
        "outputId": "808ff3a0-2cd7-4da8-eaca-4da5f82beb64",
        "id": "aqIiM9_ih_4A"
      },
      "execution_count": 17,
      "outputs": [
        {
          "output_type": "stream",
          "name": "stdout",
          "text": [
            "dictionary size:  21207\n"
          ]
        }
      ]
    },
    {
      "cell_type": "code",
      "execution_count": 18,
      "metadata": {
        "colab": {
          "base_uri": "https://localhost:8080/"
        },
        "outputId": "673f99f9-ed26-418a-e9ca-2c6e967ded58",
        "id": "zebyqLhZh_4A"
      },
      "outputs": [
        {
          "output_type": "execute_result",
          "data": {
            "text/plain": [
              "366"
            ]
          },
          "metadata": {},
          "execution_count": 18
        }
      ],
      "source": [
        "maxlen"
      ]
    },
    {
      "cell_type": "code",
      "execution_count": 19,
      "metadata": {
        "colab": {
          "base_uri": "https://localhost:8080/"
        },
        "outputId": "c578dfab-412c-46b3-8de6-13204d5f088d",
        "id": "dkaYxsgJh_4A"
      },
      "outputs": [
        {
          "output_type": "execute_result",
          "data": {
            "text/plain": [
              "21208"
            ]
          },
          "metadata": {},
          "execution_count": 19
        }
      ],
      "source": [
        "vocab_size"
      ]
    },
    {
      "cell_type": "code",
      "source": [
        "#load embeddings\n",
        "print('loading word embeddings...')\n",
        "embeddings_index = {}\n",
        "f = codecs.open('/content/fasttext_skipgram_myNews_final.vec', encoding='utf-8')\n",
        "for line in tqdm(f):\n",
        "    values = line.rstrip().rsplit(' ')\n",
        "    word = values[0]\n",
        "    coefs = np.asarray(values[1:], dtype='float32')\n",
        "    embeddings_index[word] = coefs\n",
        "f.close()\n",
        "print('found %s word vectors' % len(embeddings_index))"
      ],
      "metadata": {
        "colab": {
          "base_uri": "https://localhost:8080/"
        },
        "id": "v4kEzwWYh_4B",
        "outputId": "0696713f-ff4f-41d1-d2a2-308cd2b3ddcb"
      },
      "execution_count": 20,
      "outputs": [
        {
          "output_type": "stream",
          "name": "stdout",
          "text": [
            "loading word embeddings...\n"
          ]
        },
        {
          "output_type": "stream",
          "name": "stderr",
          "text": [
            "5923it [00:00, 20440.17it/s]"
          ]
        },
        {
          "output_type": "stream",
          "name": "stdout",
          "text": [
            "found 5923 word vectors\n"
          ]
        },
        {
          "output_type": "stream",
          "name": "stderr",
          "text": [
            "\n"
          ]
        }
      ]
    },
    {
      "cell_type": "code",
      "source": [
        "#training params\n",
        "batch_size = 128 \n",
        "num_epochs = 10\n",
        "\n",
        "#model parameters\n",
        "num_filters = 64 \n",
        "embed_dim = 100 \n",
        "weight_decay = 0.025"
      ],
      "metadata": {
        "id": "dE-2akRgh_4B"
      },
      "execution_count": 21,
      "outputs": []
    },
    {
      "cell_type": "code",
      "source": [
        "#embedding matrix\n",
        "print('preparing embedding matrix...')\n",
        "words_not_found = []\n",
        "nb_words = min(vocab_size, len(word_index))\n",
        "embedding_matrix = np.zeros((nb_words, embed_dim))\n",
        "for word, i in word_index.items():\n",
        "    if i >= nb_words:\n",
        "        continue\n",
        "    embedding_vector = embeddings_index.get(word)\n",
        "    if (embedding_vector is not None) and len(embedding_vector) > 0:\n",
        "        # words not found in embedding index will be all-zeros.\n",
        "        embedding_matrix[i] = embedding_vector\n",
        "    else:\n",
        "        words_not_found.append(word)\n",
        "print('number of null word embeddings: %d' % np.sum(np.sum(embedding_matrix, axis=1) == 0))"
      ],
      "metadata": {
        "colab": {
          "base_uri": "https://localhost:8080/"
        },
        "outputId": "584e2aee-7f33-4474-b632-c97fb6359a88",
        "id": "-nfcOlY-h_4B"
      },
      "execution_count": 22,
      "outputs": [
        {
          "output_type": "stream",
          "name": "stdout",
          "text": [
            "preparing embedding matrix...\n",
            "number of null word embeddings: 16986\n"
          ]
        }
      ]
    },
    {
      "cell_type": "code",
      "source": [
        "print(\"sample words not found: \", np.random.choice(words_not_found, 50))"
      ],
      "metadata": {
        "colab": {
          "base_uri": "https://localhost:8080/"
        },
        "outputId": "e66ae8d8-9b78-45d3-9308-9c9d57c1d358",
        "id": "6sN7akweh_4B"
      },
      "execution_count": 23,
      "outputs": [
        {
          "output_type": "stream",
          "name": "stdout",
          "text": [
            "sample words not found:  ['နှိုင်းယှဥ်လျှင်' 'တို့ဖြစ်ပြီး' 'ဝယ်ယူသည့်' 'အလွန်ရန်လိုသည့်'\n",
            " 'ကြုံတွေ့လာရသော' 'သဘင်ဆောင်' 'ကတ်ဘွရှ်' 'သတ်မှတ်သည်' 'ကြိုးပမ်းနေသည့်'\n",
            " 'ရန်လိုသော' 'သာမန်ရောဂါလက္ခဏာ' 'သူကောင်းဘွဲ့' 'မသိရသေးပေမဲ့'\n",
            " 'ဆုပ်ကိုင်ထားမြဲ' 'ဘဏ္ဍာ' 'ရရှိလာ' 'ကျေးဇူးတင်သည်' 'လျှပ်စစ်စွမ်းအား'\n",
            " 'ဘရိုင်ယန်ဝစ်မန်' 'တိုင်းရင်းဆေးဝါး' 'မိတ်သဟာယ' 'ရုရှားက' 'ဖိတ်ကြားချက်'\n",
            " 'လီတာ' 'နေထိုင်ကြသည်' 'ညဦး' 'ပြုလုပ်ပေးခဲ့သော' 'ဖယ်ရှားစေ'\n",
            " 'မထုတ်ပြန်ခဲ့ပါ' 'တတ်ရောက်ပါသည်' 'ကွဲပြားနေ' 'ကလေတွန်' 'ပါသည့်'\n",
            " 'အထူးစိန်ခေါ်ပွဲတွင်' 'စွပ်စွဲခံထားရသူ' 'ရေမဆေးကျောက်ရှာဖွေသူ'\n",
            " 'သရုပ်ပြခဲ့' 'ဖြစ်စဉ်များကြောင့်' 'ပန်းခြင်း' 'အလီ' 'လူတစ်ဦး'\n",
            " 'အနိုင်ရရှိပြီးပြီ' 'ပျံကြဲနေ' 'မြစ်ကြီးနားတွင်' 'ဖိလစ်ပိုင်နိုင်ငံ'\n",
            " 'ကမ္ဘာ့မြောက်ဘက်ခြမ်း' 'စံနမူနာပြ' 'မရမ်း' 'ကြမ်းတမ်းသော' 'နိုင်ကြောင်း']\n"
          ]
        }
      ]
    },
    {
      "cell_type": "markdown",
      "source": [
        "## non Static"
      ],
      "metadata": {
        "id": "g3mvyDD0hKsJ"
      }
    },
    {
      "cell_type": "code",
      "source": [
        "from keras.layers import Embedding, Conv1D, MaxPooling1D, GlobalMaxPooling1D, Flatten\n",
        "from tensorflow import keras\n",
        "import tensorflow as tf \n",
        "#CNN architecture -non static\n",
        "print(\"training CNN ...\")\n",
        "model = Sequential()\n",
        "model.add(Embedding(nb_words, embed_dim,weights=[embedding_matrix], input_length=maxlen, trainable=True))\n",
        "model.add(Dropout(0.2))\n",
        "\n",
        "model.add(Conv1D(64, 2, activation='relu', padding='same'))\n",
        "model.add(MaxPooling1D(5))\n",
        "model.add(Dropout(0.2))\n",
        "\n",
        "model.add(Conv1D(64, 3, activation='relu', padding='same'))\n",
        "model.add(MaxPooling1D(5))\n",
        "model.add(Dropout(0.2))\n",
        "\n",
        "model.add(Conv1D(64, 5, activation='relu', padding='same'))\n",
        "model.add(MaxPooling1D(5))\n",
        "model.add(Dropout(0.2))\n",
        "\n",
        "model.add(Flatten())\n",
        "#model.add(Dropout(0.4))\n",
        "#model.add(Dense(128, activation='relu', kernel_regularizer=regularizers.l2(weight_decay)))\n",
        "model.add(Dense(32, activation='relu'))\n",
        "model.add(Dropout(0.4))\n",
        "model.add(Dense(64, activation='relu', kernel_regularizer=regularizers.l2(weight_decay)))\n",
        "model.add(Dense(1, activation='sigmoid'))  \n",
        "\n",
        "model.compile(loss='binary_crossentropy', optimizer='adam', metrics=[\"accuracy\",keras.metrics.Precision(),keras.metrics.Recall()])\n",
        "model.summary()"
      ],
      "metadata": {
        "id": "xHGz_235hKsK",
        "colab": {
          "base_uri": "https://localhost:8080/"
        },
        "outputId": "f35cec09-1dde-4875-8d8d-8e57a3a7aac0"
      },
      "execution_count": 24,
      "outputs": [
        {
          "output_type": "stream",
          "name": "stdout",
          "text": [
            "training CNN ...\n",
            "Model: \"sequential\"\n",
            "_________________________________________________________________\n",
            " Layer (type)                Output Shape              Param #   \n",
            "=================================================================\n",
            " embedding (Embedding)       (None, 366, 100)          2120700   \n",
            "                                                                 \n",
            " dropout (Dropout)           (None, 366, 100)          0         \n",
            "                                                                 \n",
            " conv1d (Conv1D)             (None, 366, 64)           12864     \n",
            "                                                                 \n",
            " max_pooling1d (MaxPooling1D  (None, 73, 64)           0         \n",
            " )                                                               \n",
            "                                                                 \n",
            " dropout_1 (Dropout)         (None, 73, 64)            0         \n",
            "                                                                 \n",
            " conv1d_1 (Conv1D)           (None, 73, 64)            12352     \n",
            "                                                                 \n",
            " max_pooling1d_1 (MaxPooling  (None, 14, 64)           0         \n",
            " 1D)                                                             \n",
            "                                                                 \n",
            " dropout_2 (Dropout)         (None, 14, 64)            0         \n",
            "                                                                 \n",
            " conv1d_2 (Conv1D)           (None, 14, 64)            20544     \n",
            "                                                                 \n",
            " max_pooling1d_2 (MaxPooling  (None, 2, 64)            0         \n",
            " 1D)                                                             \n",
            "                                                                 \n",
            " dropout_3 (Dropout)         (None, 2, 64)             0         \n",
            "                                                                 \n",
            " flatten (Flatten)           (None, 128)               0         \n",
            "                                                                 \n",
            " dense (Dense)               (None, 32)                4128      \n",
            "                                                                 \n",
            " dropout_4 (Dropout)         (None, 32)                0         \n",
            "                                                                 \n",
            " dense_1 (Dense)             (None, 64)                2112      \n",
            "                                                                 \n",
            " dense_2 (Dense)             (None, 1)                 65        \n",
            "                                                                 \n",
            "=================================================================\n",
            "Total params: 2,172,765\n",
            "Trainable params: 2,172,765\n",
            "Non-trainable params: 0\n",
            "_________________________________________________________________\n"
          ]
        }
      ]
    },
    {
      "cell_type": "code",
      "source": [
        "from keras.utils.vis_utils import plot_model\n",
        "plot_model(model, show_shapes=True, to_file='CNN-Trainable.png')"
      ],
      "metadata": {
        "id": "olXt5L83hKsK"
      },
      "execution_count": null,
      "outputs": []
    },
    {
      "cell_type": "code",
      "source": [
        "from keras.callbacks import EarlyStopping\n",
        "#define callbacks\n",
        "early_stopping = EarlyStopping(monitor='val_loss', min_delta=0.01, patience=4, verbose=1)\n",
        "callbacks_list = [early_stopping]\n",
        "#model training\n",
        "hist = model.fit(X_train, y_train, batch_size=batch_size, epochs=10, callbacks=callbacks_list, validation_split=0.1, shuffle=True, verbose=2)"
      ],
      "metadata": {
        "id": "E4yM5MF4hKsK",
        "colab": {
          "base_uri": "https://localhost:8080/"
        },
        "outputId": "d002fd52-b8d8-4b16-b7ee-830cc3037d1a"
      },
      "execution_count": 25,
      "outputs": [
        {
          "output_type": "stream",
          "name": "stdout",
          "text": [
            "Epoch 1/10\n",
            "32/32 - 5s - loss: 1.5700 - accuracy: 0.6101 - precision: 0.3900 - recall: 0.0508 - val_loss: 1.3761 - val_accuracy: 0.6208 - val_precision: 0.5000 - val_recall: 0.0058 - 5s/epoch - 160ms/step\n",
            "Epoch 2/10\n",
            "32/32 - 0s - loss: 1.2174 - accuracy: 0.6528 - precision: 0.6891 - recall: 0.1530 - val_loss: 1.0037 - val_accuracy: 0.7450 - val_precision: 0.6972 - val_recall: 0.5789 - 383ms/epoch - 12ms/step\n",
            "Epoch 3/10\n",
            "32/32 - 0s - loss: 0.9194 - accuracy: 0.7530 - precision: 0.6738 - recall: 0.6751 - val_loss: 0.8131 - val_accuracy: 0.7605 - val_precision: 0.6493 - val_recall: 0.8012 - 397ms/epoch - 12ms/step\n",
            "Epoch 4/10\n",
            "32/32 - 0s - loss: 0.7188 - accuracy: 0.8013 - precision: 0.7303 - recall: 0.7546 - val_loss: 0.6635 - val_accuracy: 0.7849 - val_precision: 0.7079 - val_recall: 0.7368 - 396ms/epoch - 12ms/step\n",
            "Epoch 5/10\n",
            "32/32 - 0s - loss: 0.5843 - accuracy: 0.8290 - precision: 0.7697 - recall: 0.7832 - val_loss: 0.5776 - val_accuracy: 0.8204 - val_precision: 0.7296 - val_recall: 0.8363 - 380ms/epoch - 12ms/step\n",
            "Epoch 6/10\n",
            "32/32 - 0s - loss: 0.4549 - accuracy: 0.8613 - precision: 0.8122 - recall: 0.8249 - val_loss: 0.5399 - val_accuracy: 0.7960 - val_precision: 0.7484 - val_recall: 0.6959 - 396ms/epoch - 12ms/step\n",
            "Epoch 7/10\n",
            "32/32 - 0s - loss: 0.3668 - accuracy: 0.8897 - precision: 0.8543 - recall: 0.8548 - val_loss: 0.5098 - val_accuracy: 0.8160 - val_precision: 0.7558 - val_recall: 0.7602 - 385ms/epoch - 12ms/step\n",
            "Epoch 8/10\n",
            "32/32 - 0s - loss: 0.2671 - accuracy: 0.9252 - precision: 0.8995 - recall: 0.9036 - val_loss: 0.5251 - val_accuracy: 0.8115 - val_precision: 0.7389 - val_recall: 0.7778 - 396ms/epoch - 12ms/step\n",
            "Epoch 9/10\n",
            "32/32 - 0s - loss: 0.1875 - accuracy: 0.9482 - precision: 0.9261 - recall: 0.9382 - val_loss: 0.5286 - val_accuracy: 0.8093 - val_precision: 0.7545 - val_recall: 0.7368 - 385ms/epoch - 12ms/step\n",
            "Epoch 10/10\n",
            "32/32 - 0s - loss: 0.1405 - accuracy: 0.9622 - precision: 0.9499 - recall: 0.9505 - val_loss: 0.5771 - val_accuracy: 0.8115 - val_precision: 0.7240 - val_recall: 0.8129 - 388ms/epoch - 12ms/step\n"
          ]
        }
      ]
    },
    {
      "cell_type": "code",
      "source": [
        "print(hist.history.keys())"
      ],
      "metadata": {
        "id": "sq4ZlRKihKsK",
        "colab": {
          "base_uri": "https://localhost:8080/"
        },
        "outputId": "56998322-1570-4b41-ff80-0bf5894e7825"
      },
      "execution_count": 39,
      "outputs": [
        {
          "output_type": "stream",
          "name": "stdout",
          "text": [
            "dict_keys(['loss', 'accuracy', 'precision', 'recall', 'val_loss', 'val_accuracy', 'val_precision', 'val_recall'])\n"
          ]
        }
      ]
    },
    {
      "cell_type": "code",
      "source": [
        "loss, accuracy, precision, recall = model.evaluate(X_test, y_test, verbose=0)\n",
        "print('Loss', loss)\n",
        "print('Accuracy', accuracy)\n",
        "print('Precision', precision)\n",
        "print('Recall', recall)\n",
        "\n",
        "f1_score = (2* recall*precision)/(recall+precision)\n",
        "print(\"f1_score\", f1_score)"
      ],
      "metadata": {
        "id": "Lyi1tUj7hKsK",
        "colab": {
          "base_uri": "https://localhost:8080/"
        },
        "outputId": "c7919ec7-425b-4a63-9fba-dd90db818a77"
      },
      "execution_count": 26,
      "outputs": [
        {
          "output_type": "stream",
          "name": "stdout",
          "text": [
            "Loss 0.5763953328132629\n",
            "Accuracy 0.8072823882102966\n",
            "Precision 0.7336561679840088\n",
            "Recall 0.7390244007110596\n",
            "f1_score 0.7363305001746374\n"
          ]
        }
      ]
    },
    {
      "cell_type": "code",
      "source": [
        "# Calling `save('my_model.h5')` creates a h5 file `my_model.h5`.\n",
        "model.save(\"fasttext-skipgram-non-static.h5\")"
      ],
      "metadata": {
        "id": "XpsMtDkqiUhp"
      },
      "execution_count": 27,
      "outputs": []
    },
    {
      "cell_type": "code",
      "source": [
        "from tensorflow import keras\n",
        "model_test = keras.models.load_model(\"fasttext-skipgram-non-static.h5\")"
      ],
      "metadata": {
        "id": "no6RxhnHidyB"
      },
      "execution_count": 28,
      "outputs": []
    },
    {
      "cell_type": "code",
      "source": [
        "import pickle\n",
        "with open('tokenizer.pickle', 'wb') as handle:\n",
        "    pickle.dump(tokenizer, handle, protocol=pickle.HIGHEST_PROTOCOL)"
      ],
      "metadata": {
        "id": "7R2aq563jPW5"
      },
      "execution_count": 29,
      "outputs": []
    },
    {
      "cell_type": "code",
      "source": [
        "senc_test = 'နယူး အိုလင်း ပက်ထရစ် ကန်နဒီ ၊ ကန်နဒီ ဗွီ. လူဆီနာ အမှုကိစ္စ ၊ လူဆီနာ သူရဲ့ ရှစ်-နှစ် အရွယ် မယားပါသမီး မုဒိန်းကျင့်ခြင်း စီရင်ချက်ချခဲ့ ၊ ပြစ်မှု သေဒဏ်ပေးခဲ့သည် ။ ၁၉၉၅ အတည်ပြုခဲ့သော လူဆီနာ ဥပဒေ တစ်ရပ် အသက် ၁၂နှစ်အောက် ( နောက်ပိုင်း ၁၃ ပြင်ဆင်ခဲ့ ) ကလေးတစ်ယောက် မုဒိမ်းကျင့်ခဲ့ ၊ ထိုသူများ သေဒဏ်ပေး ခွင့်ပြုခဲ့သည် ။ ကျန်ရှိသော ပြည်နယ်များ မုဒိမ်းကျင့်မှု သေဒဏ်ကို တားမြစ်ထား စဥ်တွင် ၊ ပြည်နယ် ၅ တူညီသော ဥပဒေ ။ အမေရိကန် မုဒိမ်းကျင့်မှု ကွပ်မျက်မှု ၁၉၆၄ တွေ့ရှိခဲ့သည် ။'"
      ],
      "metadata": {
        "id": "FTp5FRZNn-Wb"
      },
      "execution_count": 30,
      "outputs": []
    },
    {
      "cell_type": "code",
      "source": [
        "senc_test = 'အသစ် ရွေးကောက်ခံရတဲ့ လစ်ဘရယ် ဒေ့ဗ် အမ်မာဆန် သည် အောက်ခြေ ကို ဖြတ် ပြီး ကွန်ဆာဗေးတစ် ဝန်ကြီးအဖွဲ့ ဆီကို တိုက်ရိုက် ရောက်ရှိ ၊ ပထမ နိုင်ငံတကာ ကုန်သွယ်ရေး ဝန်ကြီး အဖြစ် ထို့နောက် မက်ဆင်း ဘာနီယာ နှုတ်ထွက် ပြီးနောက် နိုင်ငံခြားရေး ဝန်ကြီး အဖြစ် ဖြစ်လာသောအခါ ၊ ဒီ တိုက်ပွဲ အတွက် ဒီ စင်မြင့် က ၂၀၀၆ ခုနှစ် မှာ တည်ဆောက်ခဲ့ပါသည် ။'"
      ],
      "metadata": {
        "id": "AYDEqC50t2Jb"
      },
      "execution_count": 31,
      "outputs": []
    },
    {
      "cell_type": "code",
      "source": [
        "from tensorflow.keras.models import load_model\n",
        "from tensorflow.keras.preprocessing.text import Tokenizer\n",
        "from tensorflow.keras.preprocessing.sequence import pad_sequences"
      ],
      "metadata": {
        "id": "-F3ro9OLikSB"
      },
      "execution_count": 32,
      "outputs": []
    },
    {
      "cell_type": "code",
      "source": [
        "def predict(message):\n",
        " model=load_model('fasttext-skipgram-non-static.h5')\n",
        " with open('tokenizer.pickle', 'rb') as handle:\n",
        "  tokenizer = pickle.load(handle)\n",
        "  x_1 = tokenizer.texts_to_sequences([message])\n",
        "  x_1 = pad_sequences(x_1, maxlen=366)\n",
        "  predictions = model.predict(x_1)[0][0]\n",
        "  return predictions\n"
      ],
      "metadata": {
        "id": "yPV9VjVFjYq-"
      },
      "execution_count": 47,
      "outputs": []
    },
    {
      "cell_type": "code",
      "source": [
        "senc_test = \"တိုင်းပြည် ဖွံ့ဖြိုးတိုးတက်ဖို့ ပြည်တွင်း ငြိမ်းချမ်းရေး ရရှိရန် လိုအပ်ပြီး အားလုံး လက်တွဲစေလိုဟု စစ်ကိုင်း တိုင်းဒေသကြီး မှ လွတ်လပ်ရေး မော်ကွန်းဝင် ပုဂ္ဂိုလ်ကြီးများ ပြောကြား ရောဂါဖြစ်ပွားမှု ပြင်းထန် ခြင်း မရှိဘဲ လျင်မြန်စွာ ကူးစက် ဖြစ်ပွား ခြင်း ဖြင့် ရောဂါပိုး ကူးစက်ခံရသူ များအနေဖြင့် ပြန်လည်ကောင်း မွန်လာသည့်အခါတွင် ရောဂါခုခံနိုင်သည့် ပဋိပစ္စည်းများ ခန္ဓာကိုယ်အတွင်း ထွက်ပေါ်လာစေသည့် ကိုယ် ခံ အား ရရှိခြင်း ကို ဖြစ်ပေါ်စေ နိုင်ပါသည် ။မည်သူမျှ ၏အကျိုးစီးပွား ကို မထိခိုက်စေ ဘဲ ကရင် တစ်မျိုးသားလုံး ၏ ဖွံ့ဖြိုးတိုးတက် သာယာဝပြော ရေး နှင့် အကျိုးစီးပွားတို့ ကို တရားဥပဒေ နှင့်အညီ ကြိုးပမ်း ဆောင်ရွက်သည် ။\""
      ],
      "metadata": {
        "id": "xWJlDz_TkAQ8"
      },
      "execution_count": 52,
      "outputs": []
    },
    {
      "cell_type": "code",
      "source": [
        "#import pickle\n",
        "prediction = predict(senc_test)"
      ],
      "metadata": {
        "id": "3pLsC98EjkrU"
      },
      "execution_count": 59,
      "outputs": []
    },
    {
      "cell_type": "code",
      "source": [
        "prediction"
      ],
      "metadata": {
        "colab": {
          "base_uri": "https://localhost:8080/"
        },
        "id": "obkJOROmk3pv",
        "outputId": "49465a11-2fdc-498c-feaa-2f8e5c4374d2"
      },
      "execution_count": 60,
      "outputs": [
        {
          "output_type": "execute_result",
          "data": {
            "text/plain": [
              "0.54755133"
            ]
          },
          "metadata": {},
          "execution_count": 60
        }
      ]
    },
    {
      "cell_type": "code",
      "source": [
        "if prediction > 0.5:\n",
        "  print(\"pos\")\n",
        "elif prediction < 0.5:\n",
        "  print(\"neg\")\n",
        "else:\n",
        "  print(\"Not Sure. Add more words\")"
      ],
      "metadata": {
        "colab": {
          "base_uri": "https://localhost:8080/"
        },
        "id": "2tEqzVjXj3GE",
        "outputId": "47bf110c-2db8-40d2-c0f5-22e9d8cea659"
      },
      "execution_count": 61,
      "outputs": [
        {
          "output_type": "stream",
          "name": "stdout",
          "text": [
            "pos\n"
          ]
        }
      ]
    },
    {
      "cell_type": "code",
      "source": [
        "plt.style.use('ggplot')\n",
        "\n",
        "def plot_history(history):\n",
        "    acc = history.history['accuracy']\n",
        "    val_acc = history.history['val_accuracy']\n",
        "    loss = history.history['loss']\n",
        "    val_loss = history.history['val_loss']\n",
        "    x = range(1, len(acc) + 1)\n",
        "\n",
        "    plt.figure(figsize=(12, 2))\n",
        "    plt.subplot(1, 2, 1)\n",
        "    plt.plot(x, acc, 'b', label='Training acc')\n",
        "    plt.plot(x, val_acc, 'r', label='Validation acc')\n",
        "    plt.title('Training and validation accuracy')\n",
        "    plt.legend()\n",
        "    plt.subplot(1, 2, 2)\n",
        "    plt.plot(x, loss, 'b', label='Training loss')\n",
        "    plt.plot(x, val_loss, 'r', label='Validation loss')\n",
        "    plt.title('Training and validation loss')\n",
        "    plt.legend()\n",
        "\n",
        "%matplotlib inline\n",
        "plot_history(hist)"
      ],
      "metadata": {
        "id": "dR9Xy7jKhKsL",
        "colab": {
          "base_uri": "https://localhost:8080/",
          "height": 164
        },
        "outputId": "437de6ac-8aee-4bc4-ff45-b630650dd16b"
      },
      "execution_count": 62,
      "outputs": [
        {
          "output_type": "display_data",
          "data": {
            "image/png": "[encoded data removed]",
            "text/plain": [
              "<Figure size 864x144 with 2 Axes>"
            ]
          },
          "metadata": {
            "needs_background": "light"
          }
        }
      ]
    },
    {
      "cell_type": "markdown",
      "source": [
        "## static"
      ],
      "metadata": {
        "id": "8t6jyzxDhKsL"
      }
    },
    {
      "cell_type": "code",
      "source": [
        "from keras.layers import Embedding, Conv1D, MaxPooling1D, GlobalMaxPooling1D, Flatten\n",
        "from tensorflow import keras\n",
        "import tensorflow as tf \n",
        "#CNN architecture -static\n",
        "print(\"training CNN ...\")\n",
        "model1 = Sequential()\n",
        "model1.add(Embedding(nb_words, embed_dim,weights=[embedding_matrix], input_length=maxlen, trainable=False))\n",
        "#model1.add(Dropout(0.2))\n",
        "\n",
        "model1.add(Conv1D(64, 2, activation='relu', padding='same'))\n",
        "model1.add(MaxPooling1D(5))\n",
        "model1.add(Dropout(0.2))\n",
        "\n",
        "model1.add(Conv1D(64, 3, activation='relu', padding='same'))\n",
        "model1.add(MaxPooling1D(5))\n",
        "model1.add(Dropout(0.2))\n",
        "\n",
        "model1.add(Conv1D(64, 5, activation='relu', padding='same'))\n",
        "model1.add(MaxPooling1D(5))\n",
        "model1.add(Dropout(0.2))\n",
        "\n",
        "model1.add(Flatten())\n",
        "#model.add(Dropout(0.4))\n",
        "#model.add(Dense(128, activation='relu', kernel_regularizer=regularizers.l2(weight_decay)))\n",
        "model1.add(Dense(32, activation='relu'))\n",
        "model1.add(Dropout(0.4))\n",
        "model1.add(Dense(64, activation='relu', kernel_regularizer=regularizers.l2(weight_decay)))\n",
        "model1.add(Dense(1, activation='sigmoid'))  \n",
        "\n",
        "model1.compile(loss='binary_crossentropy', optimizer='adam', metrics=[\"accuracy\",keras.metrics.Precision(),keras.metrics.Recall()])\n",
        "model1.summary()"
      ],
      "metadata": {
        "colab": {
          "base_uri": "https://localhost:8080/"
        },
        "outputId": "6e2ac68c-6404-4f51-8b99-53ed20c9a9fa",
        "id": "ZVt0deIghKsL"
      },
      "execution_count": null,
      "outputs": [
        {
          "output_type": "stream",
          "name": "stdout",
          "text": [
            "training CNN ...\n",
            "Model: \"sequential\"\n",
            "_________________________________________________________________\n",
            " Layer (type)                Output Shape              Param #   \n",
            "=================================================================\n",
            " embedding (Embedding)       (None, 183, 100)          2128200   \n",
            "                                                                 \n",
            " conv1d (Conv1D)             (None, 183, 64)           12864     \n",
            "                                                                 \n",
            " max_pooling1d (MaxPooling1D  (None, 36, 64)           0         \n",
            " )                                                               \n",
            "                                                                 \n",
            " dropout (Dropout)           (None, 36, 64)            0         \n",
            "                                                                 \n",
            " conv1d_1 (Conv1D)           (None, 36, 64)            12352     \n",
            "                                                                 \n",
            " max_pooling1d_1 (MaxPooling  (None, 7, 64)            0         \n",
            " 1D)                                                             \n",
            "                                                                 \n",
            " dropout_1 (Dropout)         (None, 7, 64)             0         \n",
            "                                                                 \n",
            " conv1d_2 (Conv1D)           (None, 7, 64)             20544     \n",
            "                                                                 \n",
            " max_pooling1d_2 (MaxPooling  (None, 1, 64)            0         \n",
            " 1D)                                                             \n",
            "                                                                 \n",
            " dropout_2 (Dropout)         (None, 1, 64)             0         \n",
            "                                                                 \n",
            " flatten (Flatten)           (None, 64)                0         \n",
            "                                                                 \n",
            " dense (Dense)               (None, 32)                2080      \n",
            "                                                                 \n",
            " dropout_3 (Dropout)         (None, 32)                0         \n",
            "                                                                 \n",
            " dense_1 (Dense)             (None, 64)                2112      \n",
            "                                                                 \n",
            " dense_2 (Dense)             (None, 1)                 65        \n",
            "                                                                 \n",
            "=================================================================\n",
            "Total params: 2,178,217\n",
            "Trainable params: 50,017\n",
            "Non-trainable params: 2,128,200\n",
            "_________________________________________________________________\n"
          ]
        }
      ]
    },
    {
      "cell_type": "code",
      "source": [
        "from keras.utils.vis_utils import plot_model\n",
        "plot_model(model1, show_shapes=True, to_file='CNN-Trainable1.png')"
      ],
      "metadata": {
        "colab": {
          "base_uri": "https://localhost:8080/",
          "height": 1000
        },
        "id": "BSLmEVpRx9sE",
        "outputId": "8623c75a-daeb-481e-8f22-f965bd447255"
      },
      "execution_count": null,
      "outputs": [
        {
          "output_type": "execute_result",
          "data": {
            "image/png": "[encoded data removed]",
            "text/plain": [
              "<IPython.core.display.Image object>"
            ]
          },
          "metadata": {},
          "execution_count": 139
        }
      ]
    },
    {
      "cell_type": "code",
      "source": [
        "from keras.callbacks import EarlyStopping\n",
        "#define callbacks\n",
        "early_stopping = EarlyStopping(monitor='val_loss', min_delta=0.01, patience=4, verbose=1)\n",
        "callbacks_list = [early_stopping]\n",
        "#model training\n",
        "hist1 = model1.fit(X_train, y_train, batch_size=batch_size, epochs=10, callbacks=callbacks_list, validation_split=0.1, shuffle=True, verbose=2)"
      ],
      "metadata": {
        "colab": {
          "base_uri": "https://localhost:8080/"
        },
        "outputId": "479725d0-8372-4a8e-fb94-f0d9b07168c5",
        "id": "EabucF24hKsL"
      },
      "execution_count": null,
      "outputs": [
        {
          "output_type": "stream",
          "name": "stdout",
          "text": [
            "Epoch 1/10\n",
            "32/32 - 3s - loss: 1.5527 - accuracy: 0.6083 - precision_2: 0.4388 - recall_2: 0.1191 - val_loss: 1.3579 - val_accuracy: 0.6208 - val_precision_2: 0.0000e+00 - val_recall_2: 0.0000e+00 - 3s/epoch - 84ms/step\n",
            "Epoch 2/10\n",
            "32/32 - 0s - loss: 1.2094 - accuracy: 0.6264 - precision_2: 0.8235 - recall_2: 0.0182 - val_loss: 1.0202 - val_accuracy: 0.7140 - val_precision_2: 0.6615 - val_recall_2: 0.5029 - 267ms/epoch - 8ms/step\n",
            "Epoch 3/10\n",
            "32/32 - 0s - loss: 0.9110 - accuracy: 0.7290 - precision_2: 0.6462 - recall_2: 0.6302 - val_loss: 0.7970 - val_accuracy: 0.7494 - val_precision_2: 0.6593 - val_recall_2: 0.7018 - 260ms/epoch - 8ms/step\n",
            "Epoch 4/10\n",
            "32/32 - 0s - loss: 0.7434 - accuracy: 0.7596 - precision_2: 0.6673 - recall_2: 0.7298 - val_loss: 0.6712 - val_accuracy: 0.7539 - val_precision_2: 0.6685 - val_recall_2: 0.6959 - 287ms/epoch - 9ms/step\n",
            "Epoch 5/10\n",
            "32/32 - 0s - loss: 0.6278 - accuracy: 0.7769 - precision_2: 0.6890 - recall_2: 0.7500 - val_loss: 0.5902 - val_accuracy: 0.7583 - val_precision_2: 0.6742 - val_recall_2: 0.7018 - 269ms/epoch - 8ms/step\n",
            "Epoch 6/10\n",
            "32/32 - 0s - loss: 0.5534 - accuracy: 0.7883 - precision_2: 0.7045 - recall_2: 0.7604 - val_loss: 0.5393 - val_accuracy: 0.7672 - val_precision_2: 0.6618 - val_recall_2: 0.7895 - 259ms/epoch - 8ms/step\n",
            "Epoch 7/10\n",
            "32/32 - 0s - loss: 0.4940 - accuracy: 0.8006 - precision_2: 0.7250 - recall_2: 0.7637 - val_loss: 0.5092 - val_accuracy: 0.7561 - val_precision_2: 0.6406 - val_recall_2: 0.8129 - 258ms/epoch - 8ms/step\n",
            "Epoch 8/10\n",
            "32/32 - 0s - loss: 0.4517 - accuracy: 0.8119 - precision_2: 0.7334 - recall_2: 0.7917 - val_loss: 0.4718 - val_accuracy: 0.7871 - val_precision_2: 0.7168 - val_recall_2: 0.7251 - 267ms/epoch - 8ms/step\n",
            "Epoch 9/10\n",
            "32/32 - 0s - loss: 0.4177 - accuracy: 0.8184 - precision_2: 0.7442 - recall_2: 0.7936 - val_loss: 0.4536 - val_accuracy: 0.7849 - val_precision_2: 0.7202 - val_recall_2: 0.7076 - 271ms/epoch - 8ms/step\n",
            "Epoch 10/10\n",
            "32/32 - 0s - loss: 0.3823 - accuracy: 0.8443 - precision_2: 0.7698 - recall_2: 0.8405 - val_loss: 0.4403 - val_accuracy: 0.7938 - val_precision_2: 0.7294 - val_recall_2: 0.7251 - 265ms/epoch - 8ms/step\n"
          ]
        }
      ]
    },
    {
      "cell_type": "code",
      "source": [
        "loss, accuracy, precision, recall = model1.evaluate(X_test, y_test, verbose=0)\n",
        "print('Loss', loss)\n",
        "print('Accuracy', accuracy)\n",
        "print('Precision', precision)\n",
        "print('Recall', recall)\n",
        "\n",
        "f1_score = (2* recall*precision)/(recall+precision)\n",
        "print(\"f1_score\", f1_score)"
      ],
      "metadata": {
        "colab": {
          "base_uri": "https://localhost:8080/"
        },
        "outputId": "0d2b3347-ab0d-4eb0-89db-c2082d219af9",
        "id": "cKqo0xLQhKsM"
      },
      "execution_count": null,
      "outputs": [
        {
          "output_type": "stream",
          "name": "stdout",
          "text": [
            "Loss 0.5062659382820129\n",
            "Accuracy 0.7744227647781372\n",
            "Precision 0.7010309100151062\n",
            "Recall 0.6634146571159363\n",
            "f1_score 0.6817042643529339\n"
          ]
        }
      ]
    },
    {
      "cell_type": "code",
      "source": [
        "plt.style.use('ggplot')\n",
        "\n",
        "def plot_history(history):\n",
        "    acc = history.history['accuracy']\n",
        "    val_acc = history.history['val_accuracy']\n",
        "    loss = history.history['loss']\n",
        "    val_loss = history.history['val_loss']\n",
        "    x = range(1, len(acc) + 1)\n",
        "\n",
        "    plt.figure(figsize=(12, 2))\n",
        "    plt.subplot(1, 2, 1)\n",
        "    plt.plot(x, acc, 'b', label='Training acc')\n",
        "    plt.plot(x, val_acc, 'r', label='Validation acc')\n",
        "    plt.title('Training and validation accuracy')\n",
        "    plt.legend()\n",
        "    plt.subplot(1, 2, 2)\n",
        "    plt.plot(x, loss, 'b', label='Training loss')\n",
        "    plt.plot(x, val_loss, 'r', label='Validation loss')\n",
        "    plt.title('Training and validation loss')\n",
        "    plt.legend()\n",
        "\n",
        "%matplotlib inline\n",
        "plot_history(hist1)"
      ],
      "metadata": {
        "colab": {
          "base_uri": "https://localhost:8080/",
          "height": 174
        },
        "outputId": "7b297d5e-f89a-4328-bc3a-2a5b57113c22",
        "id": "r1llnAdahKsM"
      },
      "execution_count": null,
      "outputs": [
        {
          "output_type": "display_data",
          "data": {
            "image/png": "[encoded data removed]",
            "text/plain": [
              "<Figure size 864x144 with 2 Axes>"
            ]
          },
          "metadata": {
            "needs_background": "light"
          }
        }
      ]
    },
    {
      "cell_type": "markdown",
      "source": [
        "## CNN-rand"
      ],
      "metadata": {
        "id": "edN8sriThKsM"
      }
    },
    {
      "cell_type": "code",
      "source": [
        "from keras.layers import Embedding, Conv1D, MaxPooling1D, GlobalMaxPooling1D, Flatten\n",
        "from tensorflow import keras\n",
        "import tensorflow as tf \n",
        "#CNN architecture -static\n",
        "print(\"training CNN ...\")\n",
        "model3 = Sequential()\n",
        "model3.add(Embedding(nb_words, embed_dim, input_length=maxlen, trainable=True))\n",
        "#model3.add(Dropout(0.2))\n",
        "\n",
        "model3.add(Conv1D(64, 3, activation='relu', padding='same'))\n",
        "model3.add(MaxPooling1D(5))\n",
        "model3.add(Dropout(0.2))\n",
        "\n",
        "model3.add(Conv1D(64, 3, activation='relu', padding='same'))\n",
        "model3.add(MaxPooling1D(5))\n",
        "model3.add(Dropout(0.2))\n",
        "\n",
        "model3.add(Conv1D(64, 3, activation='relu', padding='same'))\n",
        "model3.add(MaxPooling1D(5))\n",
        "model3.add(Dropout(0.2))\n",
        "\n",
        "model3.add(Flatten())\n",
        "#model.add(Dropout(0.4))\n",
        "#model.add(Dense(128, activation='relu', kernel_regularizer=regularizers.l2(weight_decay)))\n",
        "model3.add(Dense(32, activation='relu'))\n",
        "model3.add(Dropout(0.4))\n",
        "model3.add(Dense(64, activation='relu', kernel_regularizer=regularizers.l2(weight_decay)))\n",
        "model3.add(Dense(1, activation='sigmoid'))  \n",
        "\n",
        "model3.compile(loss='binary_crossentropy', optimizer='adam', metrics=[\"accuracy\",keras.metrics.Precision(),keras.metrics.Recall()])\n",
        "model3.summary()"
      ],
      "metadata": {
        "colab": {
          "base_uri": "https://localhost:8080/"
        },
        "outputId": "b69408cf-e4d6-433f-e5d2-3f823b1ac804",
        "id": "0r9D4jwthKsM"
      },
      "execution_count": null,
      "outputs": [
        {
          "output_type": "stream",
          "name": "stdout",
          "text": [
            "training CNN ...\n",
            "Model: \"sequential_2\"\n",
            "_________________________________________________________________\n",
            " Layer (type)                Output Shape              Param #   \n",
            "=================================================================\n",
            " embedding_2 (Embedding)     (None, 366, 100)          2120700   \n",
            "                                                                 \n",
            " conv1d_6 (Conv1D)           (None, 366, 64)           19264     \n",
            "                                                                 \n",
            " max_pooling1d_6 (MaxPooling  (None, 73, 64)           0         \n",
            " 1D)                                                             \n",
            "                                                                 \n",
            " dropout_9 (Dropout)         (None, 73, 64)            0         \n",
            "                                                                 \n",
            " conv1d_7 (Conv1D)           (None, 73, 64)            12352     \n",
            "                                                                 \n",
            " max_pooling1d_7 (MaxPooling  (None, 14, 64)           0         \n",
            " 1D)                                                             \n",
            "                                                                 \n",
            " dropout_10 (Dropout)        (None, 14, 64)            0         \n",
            "                                                                 \n",
            " conv1d_8 (Conv1D)           (None, 14, 64)            12352     \n",
            "                                                                 \n",
            " max_pooling1d_8 (MaxPooling  (None, 2, 64)            0         \n",
            " 1D)                                                             \n",
            "                                                                 \n",
            " dropout_11 (Dropout)        (None, 2, 64)             0         \n",
            "                                                                 \n",
            " flatten_2 (Flatten)         (None, 128)               0         \n",
            "                                                                 \n",
            " dense_6 (Dense)             (None, 32)                4128      \n",
            "                                                                 \n",
            " dropout_12 (Dropout)        (None, 32)                0         \n",
            "                                                                 \n",
            " dense_7 (Dense)             (None, 64)                2112      \n",
            "                                                                 \n",
            " dense_8 (Dense)             (None, 1)                 65        \n",
            "                                                                 \n",
            "=================================================================\n",
            "Total params: 2,170,973\n",
            "Trainable params: 2,170,973\n",
            "Non-trainable params: 0\n",
            "_________________________________________________________________\n"
          ]
        }
      ]
    },
    {
      "cell_type": "code",
      "source": [
        "from keras.callbacks import EarlyStopping\n",
        "#define callbacks\n",
        "early_stopping = EarlyStopping(monitor='val_loss', min_delta=0.01, patience=2, verbose=1)\n",
        "callbacks_list = [early_stopping]\n",
        "#model training\n",
        "hist3 = model3.fit(X_train, y_train, batch_size=batch_size, epochs=5, callbacks=callbacks_list, validation_split=0.2, shuffle=True, verbose=2)"
      ],
      "metadata": {
        "colab": {
          "base_uri": "https://localhost:8080/"
        },
        "outputId": "c4b6da98-26e1-485b-e04f-e57d86bd1e9f",
        "id": "lKMW_pMRhKsM"
      },
      "execution_count": null,
      "outputs": [
        {
          "output_type": "stream",
          "name": "stdout",
          "text": [
            "Epoch 1/5\n",
            "29/29 - 2s - loss: 1.5825 - accuracy: 0.6124 - precision_2: 0.3182 - recall_2: 0.0312 - val_loss: 1.4202 - val_accuracy: 0.6016 - val_precision_2: 0.0000e+00 - val_recall_2: 0.0000e+00 - 2s/epoch - 73ms/step\n",
            "Epoch 2/5\n",
            "29/29 - 0s - loss: 1.2931 - accuracy: 0.6258 - precision_2: 0.0000e+00 - recall_2: 0.0000e+00 - val_loss: 1.1801 - val_accuracy: 0.6016 - val_precision_2: 0.0000e+00 - val_recall_2: 0.0000e+00 - 334ms/epoch - 12ms/step\n",
            "Epoch 3/5\n",
            "29/29 - 0s - loss: 1.0566 - accuracy: 0.6258 - precision_2: 0.0000e+00 - recall_2: 0.0000e+00 - val_loss: 0.9284 - val_accuracy: 0.6016 - val_precision_2: 0.0000e+00 - val_recall_2: 0.0000e+00 - 330ms/epoch - 11ms/step\n",
            "Epoch 4/5\n",
            "29/29 - 0s - loss: 0.7205 - accuracy: 0.7240 - precision_2: 0.8969 - recall_2: 0.2967 - val_loss: 0.7623 - val_accuracy: 0.7392 - val_precision_2: 0.7719 - val_recall_2: 0.4903 - 351ms/epoch - 12ms/step\n",
            "Epoch 5/5\n",
            "29/29 - 0s - loss: 0.4918 - accuracy: 0.9525 - precision_2: 0.9482 - recall_2: 0.9236 - val_loss: 0.7158 - val_accuracy: 0.7636 - val_precision_2: 0.7039 - val_recall_2: 0.7019 - 357ms/epoch - 12ms/step\n"
          ]
        }
      ]
    },
    {
      "cell_type": "code",
      "source": [
        "loss, accuracy, precision, recall = model3.evaluate(X_test, y_test, verbose=0)\n",
        "print('Loss', loss)\n",
        "print('Accuracy', accuracy)\n",
        "print('Precision', precision)\n",
        "print('Recall', recall)\n",
        "\n",
        "f1_score = (2* recall*precision)/(recall+precision)\n",
        "print(\"f1_score\", f1_score)"
      ],
      "metadata": {
        "colab": {
          "base_uri": "https://localhost:8080/"
        },
        "outputId": "8a215c1c-8b94-4b2a-ebc3-773b16367523",
        "id": "IYFyHGcfhKsN"
      },
      "execution_count": null,
      "outputs": [
        {
          "output_type": "stream",
          "name": "stdout",
          "text": [
            "Loss 0.592464804649353\n",
            "Accuracy 0.798401415348053\n",
            "Precision 0.7479674816131592\n",
            "Recall 0.6731707453727722\n",
            "f1_score 0.7086007786589645\n"
          ]
        }
      ]
    },
    {
      "cell_type": "code",
      "source": [
        "plt.style.use('ggplot')\n",
        "\n",
        "def plot_history(history):\n",
        "    acc = history.history['accuracy']\n",
        "    val_acc = history.history['val_accuracy']\n",
        "    loss = history.history['loss']\n",
        "    val_loss = history.history['val_loss']\n",
        "    x = range(1, len(acc) + 1)\n",
        "\n",
        "    plt.figure(figsize=(12, 2))\n",
        "    plt.subplot(1, 2, 1)\n",
        "    plt.plot(x, acc, 'b', label='Training acc')\n",
        "    plt.plot(x, val_acc, 'r', label='Validation acc')\n",
        "    plt.title('Training and validation accuracy')\n",
        "    plt.legend()\n",
        "    plt.subplot(1, 2, 2)\n",
        "    plt.plot(x, loss, 'b', label='Training loss')\n",
        "    plt.plot(x, val_loss, 'r', label='Validation loss')\n",
        "    plt.title('Training and validation loss')\n",
        "    plt.legend()\n",
        "\n",
        "%matplotlib inline\n",
        "plot_history(hist3)"
      ],
      "metadata": {
        "colab": {
          "base_uri": "https://localhost:8080/",
          "height": 174
        },
        "outputId": "5df25ec3-f260-4aae-b466-ec7c4b8b6e8a",
        "id": "CzQDEl6BhKsN"
      },
      "execution_count": null,
      "outputs": [
        {
          "output_type": "display_data",
          "data": {
            "image/png": "[encoded data removed]",
            "text/plain": [
              "<Figure size 864x144 with 2 Axes>"
            ]
          },
          "metadata": {
            "needs_background": "light"
          }
        }
      ]
    },
    {
      "cell_type": "markdown",
      "source": [
        "## Multi Channel"
      ],
      "metadata": {
        "id": "eWk4g0gchKsN"
      }
    },
    {
      "cell_type": "code",
      "source": [
        "import tensorflow as tf \n",
        "from pickle import load\n",
        "from numpy import array\n",
        "from keras.preprocessing.text import Tokenizer\n",
        "from keras.preprocessing.sequence import pad_sequences\n",
        "from keras.utils.vis_utils import plot_model\n",
        "from keras.models import Model\n",
        "from keras.layers import Input\n",
        "from keras.layers import Dense\n",
        "from keras.layers import Flatten\n",
        "from keras.layers import Dropout\n",
        "from keras.layers import Embedding, GlobalMaxPooling1D\n",
        "from keras.layers.convolutional import Conv1D\n",
        "from keras.layers.convolutional import MaxPooling1D\n",
        "from keras.layers.merge import concatenate\n",
        "\n",
        "from tensorflow import keras\n",
        "import tensorflow as tf \n"
      ],
      "metadata": {
        "id": "lGpSU7czhKsN"
      },
      "execution_count": null,
      "outputs": []
    },
    {
      "cell_type": "code",
      "source": [
        "from keras.layers import Input\n",
        "\n",
        "inputs1 = Input(shape=(maxlen,))\n",
        "\n",
        "# channel 1\n",
        "embedding1 = Embedding(nb_words, 100, weights=[embedding_matrix],trainable = True)(inputs1)\n",
        "\n",
        "drop = Dropout(0.2)(embedding1)\n",
        "\n",
        "conv1 = Conv1D(filters=64, kernel_size=2, activation='relu')(drop)\n",
        "pool1 = MaxPooling1D(pool_size=5,padding='same')(conv1)\n",
        "drop1 = Dropout(0.2)(pool1)\n",
        "\n",
        "conv1 = Conv1D(filters=64, kernel_size=3, activation='relu')(drop1)\n",
        "pool1 = MaxPooling1D(pool_size=5,padding='same')(conv1)\n",
        "drop1 = Dropout(0.2)(pool1)\n",
        "\n",
        "conv1 = Conv1D(filters=64, kernel_size=5, activation='relu')(drop1)\n",
        "pool1 = MaxPooling1D(pool_size=5,padding='same')(conv1)\n",
        "drop1 = Dropout(0.2)(pool1)\n",
        "flat1 = Flatten()(drop1)"
      ],
      "metadata": {
        "id": "0Ue5KkXqhKsN"
      },
      "execution_count": null,
      "outputs": []
    },
    {
      "cell_type": "code",
      "source": [
        "from keras.layers import Input\n",
        "\n",
        "# channel 2\n",
        "embedding2 = Embedding(nb_words, 100, weights=[embedding_matrix],trainable = False)(inputs1)\n",
        "\n",
        "conv2 = Conv1D(filters=64, kernel_size=2, activation='relu')(embedding2)\n",
        "pool2 = MaxPooling1D(pool_size=5,padding='same')(conv2)\n",
        "drop2 = Dropout(0.2)(pool2)\n",
        "\n",
        "conv2 = Conv1D(filters=64, kernel_size=3, activation='relu')(drop2)\n",
        "pool2 = MaxPooling1D(pool_size=5,padding='same')(conv2)\n",
        "drop2 = Dropout(0.2)(pool2)\n",
        "\n",
        "conv2 = Conv1D(filters=64, kernel_size=5, activation='relu')(drop2)\n",
        "pool2 = MaxPooling1D(pool_size=5,padding='same')(conv2)\n",
        "drop2 = Dropout(0.2)(pool2)\n",
        "flat2 = Flatten()(drop2)"
      ],
      "metadata": {
        "id": "rzMOwtOuhKsO"
      },
      "execution_count": null,
      "outputs": []
    },
    {
      "cell_type": "code",
      "source": [
        "merged = concatenate([flat1, flat2])\n",
        "\n",
        "# interpretation\n",
        "dense1 = Dense(32, activation='relu')(merged)\n",
        "drop2 = Dropout(0.4)(dense1)\n",
        "#dense1 = Dense(128, activation='relu',kernel_regularizer=regularizers.l2(weight_decay))(drop2)\n",
        "dense2 = Dense(64, activation='relu',kernel_regularizer=regularizers.l2(weight_decay))(dense1)\n",
        "outputs = Dense(1, activation='sigmoid')(dense2)\n",
        "\n",
        "model3 = Model(inputs=inputs1, outputs=outputs)\n",
        "\n",
        "# compile\n",
        "model3.compile(loss='binary_crossentropy', optimizer='adam', metrics=[\"accuracy\",keras.metrics.Precision(),keras.metrics.Recall()])\n",
        "# summarize\n",
        "print(model3.summary())\n",
        "\n",
        "#plot_model(model, show_shapes=True, to_file='multichannel.png')"
      ],
      "metadata": {
        "id": "RQ7M1akehKsO",
        "colab": {
          "base_uri": "https://localhost:8080/"
        },
        "outputId": "6ba868d0-99e0-4ade-fc30-0ace38837d44"
      },
      "execution_count": null,
      "outputs": [
        {
          "output_type": "stream",
          "name": "stdout",
          "text": [
            "Model: \"model\"\n",
            "__________________________________________________________________________________________________\n",
            " Layer (type)                   Output Shape         Param #     Connected to                     \n",
            "==================================================================================================\n",
            " input_1 (InputLayer)           [(None, 183)]        0           []                               \n",
            "                                                                                                  \n",
            " embedding_1 (Embedding)        (None, 183, 100)     2128200     ['input_1[0][0]']                \n",
            "                                                                                                  \n",
            " dropout_4 (Dropout)            (None, 183, 100)     0           ['embedding_1[0][0]']            \n",
            "                                                                                                  \n",
            " embedding_2 (Embedding)        (None, 183, 100)     2128200     ['input_1[0][0]']                \n",
            "                                                                                                  \n",
            " conv1d_3 (Conv1D)              (None, 182, 64)      12864       ['dropout_4[0][0]']              \n",
            "                                                                                                  \n",
            " conv1d_6 (Conv1D)              (None, 182, 64)      12864       ['embedding_2[0][0]']            \n",
            "                                                                                                  \n",
            " max_pooling1d_3 (MaxPooling1D)  (None, 37, 64)      0           ['conv1d_3[0][0]']               \n",
            "                                                                                                  \n",
            " max_pooling1d_6 (MaxPooling1D)  (None, 37, 64)      0           ['conv1d_6[0][0]']               \n",
            "                                                                                                  \n",
            " dropout_5 (Dropout)            (None, 37, 64)       0           ['max_pooling1d_3[0][0]']        \n",
            "                                                                                                  \n",
            " dropout_8 (Dropout)            (None, 37, 64)       0           ['max_pooling1d_6[0][0]']        \n",
            "                                                                                                  \n",
            " conv1d_4 (Conv1D)              (None, 35, 64)       12352       ['dropout_5[0][0]']              \n",
            "                                                                                                  \n",
            " conv1d_7 (Conv1D)              (None, 35, 64)       12352       ['dropout_8[0][0]']              \n",
            "                                                                                                  \n",
            " max_pooling1d_4 (MaxPooling1D)  (None, 7, 64)       0           ['conv1d_4[0][0]']               \n",
            "                                                                                                  \n",
            " max_pooling1d_7 (MaxPooling1D)  (None, 7, 64)       0           ['conv1d_7[0][0]']               \n",
            "                                                                                                  \n",
            " dropout_6 (Dropout)            (None, 7, 64)        0           ['max_pooling1d_4[0][0]']        \n",
            "                                                                                                  \n",
            " dropout_9 (Dropout)            (None, 7, 64)        0           ['max_pooling1d_7[0][0]']        \n",
            "                                                                                                  \n",
            " conv1d_5 (Conv1D)              (None, 3, 64)        20544       ['dropout_6[0][0]']              \n",
            "                                                                                                  \n",
            " conv1d_8 (Conv1D)              (None, 3, 64)        20544       ['dropout_9[0][0]']              \n",
            "                                                                                                  \n",
            " max_pooling1d_5 (MaxPooling1D)  (None, 1, 64)       0           ['conv1d_5[0][0]']               \n",
            "                                                                                                  \n",
            " max_pooling1d_8 (MaxPooling1D)  (None, 1, 64)       0           ['conv1d_8[0][0]']               \n",
            "                                                                                                  \n",
            " dropout_7 (Dropout)            (None, 1, 64)        0           ['max_pooling1d_5[0][0]']        \n",
            "                                                                                                  \n",
            " dropout_10 (Dropout)           (None, 1, 64)        0           ['max_pooling1d_8[0][0]']        \n",
            "                                                                                                  \n",
            " flatten_1 (Flatten)            (None, 64)           0           ['dropout_7[0][0]']              \n",
            "                                                                                                  \n",
            " flatten_2 (Flatten)            (None, 64)           0           ['dropout_10[0][0]']             \n",
            "                                                                                                  \n",
            " concatenate (Concatenate)      (None, 128)          0           ['flatten_1[0][0]',              \n",
            "                                                                  'flatten_2[0][0]']              \n",
            "                                                                                                  \n",
            " dense_3 (Dense)                (None, 32)           4128        ['concatenate[0][0]']            \n",
            "                                                                                                  \n",
            " dense_4 (Dense)                (None, 64)           2112        ['dense_3[0][0]']                \n",
            "                                                                                                  \n",
            " dense_5 (Dense)                (None, 1)            65          ['dense_4[0][0]']                \n",
            "                                                                                                  \n",
            "==================================================================================================\n",
            "Total params: 4,354,225\n",
            "Trainable params: 2,226,025\n",
            "Non-trainable params: 2,128,200\n",
            "__________________________________________________________________________________________________\n",
            "None\n"
          ]
        }
      ]
    },
    {
      "cell_type": "code",
      "source": [
        "from keras.utils.vis_utils import plot_model\n",
        "plot_model(model3, show_shapes=True, to_file='CNN-Trainable3.png')"
      ],
      "metadata": {
        "id": "Widq19gEyGyp",
        "outputId": "dd95c743-d743-4a72-aae3-e699ac5d694c",
        "colab": {
          "base_uri": "https://localhost:8080/",
          "height": 1000
        }
      },
      "execution_count": null,
      "outputs": [
        {
          "output_type": "execute_result",
          "data": {
            "image/png": "[encoded data removed]",
            "text/plain": [
              "<IPython.core.display.Image object>"
            ]
          },
          "metadata": {},
          "execution_count": 144
        }
      ]
    },
    {
      "cell_type": "code",
      "source": [
        "from keras.callbacks import EarlyStopping\n",
        "#define callbacks\n",
        "early_stopping = EarlyStopping(monitor='val_loss', min_delta=0.01, patience=4, verbose=1)\n",
        "callbacks_list = [early_stopping]\n",
        "#model training\n",
        "hist3 = model3.fit(X_train, y_train, batch_size=batch_size, epochs=10, callbacks=callbacks_list, validation_split=0.1, shuffle=True, verbose=2)"
      ],
      "metadata": {
        "colab": {
          "base_uri": "https://localhost:8080/"
        },
        "outputId": "ede068b4-fbc6-41a7-dbe5-8bc04daf1f1a",
        "id": "TRYabl87hKsO"
      },
      "execution_count": null,
      "outputs": [
        {
          "output_type": "stream",
          "name": "stdout",
          "text": [
            "Epoch 1/10\n",
            "32/32 - 3s - loss: 1.4984 - accuracy: 0.6204 - precision_2: 0.0000e+00 - recall_2: 0.0000e+00 - val_loss: 1.2840 - val_accuracy: 0.6497 - val_precision_2: 0.8095 - val_recall_2: 0.0994 - 3s/epoch - 96ms/step\n",
            "Epoch 2/10\n",
            "32/32 - 0s - loss: 1.0947 - accuracy: 0.7056 - precision_2: 0.6629 - recall_2: 0.4544 - val_loss: 0.9630 - val_accuracy: 0.7539 - val_precision_2: 0.7000 - val_recall_2: 0.6140 - 491ms/epoch - 15ms/step\n",
            "Epoch 3/10\n",
            "32/32 - 1s - loss: 0.8436 - accuracy: 0.7685 - precision_2: 0.6814 - recall_2: 0.7311 - val_loss: 0.7684 - val_accuracy: 0.7672 - val_precision_2: 0.6854 - val_recall_2: 0.7135 - 530ms/epoch - 17ms/step\n",
            "Epoch 4/10\n",
            "32/32 - 0s - loss: 0.6621 - accuracy: 0.8092 - precision_2: 0.7314 - recall_2: 0.7852 - val_loss: 0.6614 - val_accuracy: 0.7761 - val_precision_2: 0.6786 - val_recall_2: 0.7778 - 498ms/epoch - 16ms/step\n",
            "Epoch 5/10\n",
            "32/32 - 0s - loss: 0.5302 - accuracy: 0.8430 - precision_2: 0.7870 - recall_2: 0.8034 - val_loss: 0.5806 - val_accuracy: 0.7894 - val_precision_2: 0.7159 - val_recall_2: 0.7368 - 495ms/epoch - 15ms/step\n",
            "Epoch 6/10\n",
            "32/32 - 0s - loss: 0.4168 - accuracy: 0.8806 - precision_2: 0.8283 - recall_2: 0.8639 - val_loss: 0.5578 - val_accuracy: 0.7761 - val_precision_2: 0.7303 - val_recall_2: 0.6491 - 495ms/epoch - 15ms/step\n",
            "Epoch 7/10\n",
            "32/32 - 0s - loss: 0.3093 - accuracy: 0.9094 - precision_2: 0.8730 - recall_2: 0.8906 - val_loss: 0.5255 - val_accuracy: 0.7783 - val_precision_2: 0.7178 - val_recall_2: 0.6842 - 490ms/epoch - 15ms/step\n",
            "Epoch 8/10\n",
            "32/32 - 1s - loss: 0.2120 - accuracy: 0.9462 - precision_2: 0.9302 - recall_2: 0.9277 - val_loss: 0.5621 - val_accuracy: 0.7849 - val_precision_2: 0.7126 - val_recall_2: 0.7251 - 527ms/epoch - 16ms/step\n",
            "Epoch 9/10\n",
            "32/32 - 0s - loss: 0.1509 - accuracy: 0.9635 - precision_2: 0.9477 - recall_2: 0.9564 - val_loss: 0.5504 - val_accuracy: 0.7849 - val_precision_2: 0.7102 - val_recall_2: 0.7310 - 486ms/epoch - 15ms/step\n",
            "Epoch 10/10\n",
            "32/32 - 0s - loss: 0.1193 - accuracy: 0.9701 - precision_2: 0.9579 - recall_2: 0.9635 - val_loss: 0.5980 - val_accuracy: 0.7650 - val_precision_2: 0.7273 - val_recall_2: 0.6082 - 495ms/epoch - 15ms/step\n"
          ]
        }
      ]
    },
    {
      "cell_type": "code",
      "source": [
        "loss, accuracy, precision, recall = model3.evaluate(X_test, y_test, verbose=0)\n",
        "print('Loss', loss)\n",
        "print('Accuracy', accuracy)\n",
        "print('Precision', precision)\n",
        "print('Recall', recall)\n",
        "\n",
        "f1_score = (2* recall*precision)/(recall+precision)\n",
        "print(\"f1_score\", f1_score)"
      ],
      "metadata": {
        "colab": {
          "base_uri": "https://localhost:8080/"
        },
        "outputId": "bb49dd57-3ff5-4bfe-8cea-84df131bdbbf",
        "id": "c-mbb5xThKsO"
      },
      "execution_count": null,
      "outputs": [
        {
          "output_type": "stream",
          "name": "stdout",
          "text": [
            "Loss 0.6217901706695557\n",
            "Accuracy 0.7877442240715027\n",
            "Precision 0.7938144207000732\n",
            "Recall 0.5634146332740784\n",
            "f1_score 0.6590584830420592\n"
          ]
        }
      ]
    },
    {
      "cell_type": "code",
      "source": [
        "plt.style.use('ggplot')\n",
        "\n",
        "def plot_history(history):\n",
        "    acc = history.history['accuracy']\n",
        "    val_acc = history.history['val_accuracy']\n",
        "    loss = history.history['loss']\n",
        "    val_loss = history.history['val_loss']\n",
        "    x = range(1, len(acc) + 1)\n",
        "\n",
        "    plt.figure(figsize=(12, 2))\n",
        "    plt.subplot(1, 2, 1)\n",
        "    plt.plot(x, acc, 'b', label='Training acc')\n",
        "    plt.plot(x, val_acc, 'r', label='Validation acc')\n",
        "    plt.title('Training and validation accuracy')\n",
        "    plt.legend()\n",
        "    plt.subplot(1, 2, 2)\n",
        "    plt.plot(x, loss, 'b', label='Training loss')\n",
        "    plt.plot(x, val_loss, 'r', label='Validation loss')\n",
        "    plt.title('Training and validation loss')\n",
        "    plt.legend()\n",
        "\n",
        "%matplotlib inline\n",
        "plot_history(hist3)"
      ],
      "metadata": {
        "colab": {
          "base_uri": "https://localhost:8080/",
          "height": 174
        },
        "id": "8hfladjjhKsO",
        "outputId": "7394277c-3697-474a-8609-8ba71b698a92"
      },
      "execution_count": null,
      "outputs": [
        {
          "output_type": "display_data",
          "data": {
            "image/png": "[encoded data removed]",
            "text/plain": [
              "<Figure size 864x144 with 2 Axes>"
            ]
          },
          "metadata": {
            "needs_background": "light"
          }
        }
      ]
    },
    {
      "cell_type": "code",
      "source": [
        ""
      ],
      "metadata": {
        "id": "I8-4ywUajdH_"
      },
      "execution_count": null,
      "outputs": []
    }
  ]
}