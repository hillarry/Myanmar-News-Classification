{
  "cells": [
    {
      "cell_type": "markdown",
      "metadata": {
        "id": "Dr9MTrYeLLYV"
      },
      "source": [
        "### CNN with CBOW word2vec"
      ]
    },
    {
      "cell_type": "markdown",
      "metadata": {
        "id": "QcG-0fOhLgmk"
      },
      "source": [
        "### Preprocessing"
      ]
    },
    {
      "cell_type": "code",
      "execution_count": null,
      "metadata": {
        "colab": {
          "base_uri": "https://localhost:8080/"
        },
        "id": "1nRgrEYyJF0M",
        "outputId": "2f62d2b8-a0f1-4432-dab7-3be9647e43a7"
      },
      "outputs": [
        {
          "output_type": "stream",
          "name": "stdout",
          "text": [
            "Collecting keras.utils\n",
            "  Downloading keras-utils-1.0.13.tar.gz (2.4 kB)\n",
            "Requirement already satisfied: Keras>=2.1.5 in /usr/local/lib/python3.7/dist-packages (from keras.utils) (2.7.0)\n",
            "Building wheels for collected packages: keras.utils\n",
            "  Building wheel for keras.utils (setup.py) ... \u001b[?25l\u001b[?25hdone\n",
            "  Created wheel for keras.utils: filename=keras_utils-1.0.13-py3-none-any.whl size=2656 sha256=21c61edcf5fda0241f8af29b8eecf676411142f5a39ed9815a86148d688c45c1\n",
            "  Stored in directory: /root/.cache/pip/wheels/d0/dd/3b/493952a5240d486a83805d65360dedadbadeae71d25e2c877f\n",
            "Successfully built keras.utils\n",
            "Installing collected packages: keras.utils\n",
            "Successfully installed keras.utils-1.0.13\n"
          ]
        }
      ],
      "source": [
        "!pip install keras.utils"
      ]
    },
    {
      "cell_type": "code",
      "execution_count": null,
      "metadata": {
        "id": "y0li9N-7L6an"
      },
      "outputs": [],
      "source": [
        "import pandas as pd\n",
        "import numpy as  np\n",
        "import matplotlib.pyplot as plt\n",
        "%matplotlib inline\n",
        "\n",
        "from sklearn.model_selection import train_test_split\n",
        "from keras.preprocessing.text import Tokenizer\n",
        "from keras.preprocessing.sequence import pad_sequences\n",
        "from tensorflow.keras.utils import to_categorical\n",
        "\n",
        "from keras.layers import Embedding\n",
        "\n",
        "from keras.layers import Dense,Input,GlobalMaxPooling1D\n",
        "from keras.layers import Conv1D,MaxPooling1D,Embedding\n",
        "from keras.models import Model\n",
        "from keras.layers import Input, Dense, Embedding, Conv2D, MaxPooling2D, Dropout,concatenate\n",
        "from keras.layers.core import Reshape,Flatten\n",
        "from keras.callbacks import EarlyStopping\n",
        "from tensorflow.keras.optimizers import SGD,RMSprop,Adagrad,Adadelta,Adam, Adamax, Nadam\n",
        "from keras.models import Model\n",
        "from keras import regularizers\n",
        "\n",
        "import gensim\n",
        "from gensim.models import Word2Vec\n",
        "\n",
        "from gensim.models.keyedvectors import KeyedVectors"
      ]
    },
    {
      "cell_type": "code",
      "execution_count": null,
      "metadata": {
        "id": "MPgos963MDh_"
      },
      "outputs": [],
      "source": [
        "import chardet\n",
        "with open('/content/Segmented-Sentiments - Sheet1.csv', 'rb') as f:\n",
        "    enc = chardet.detect(f.read())"
      ]
    },
    {
      "cell_type": "code",
      "execution_count": null,
      "metadata": {
        "id": "gbl-o3p0NfRc",
        "colab": {
          "base_uri": "https://localhost:8080/"
        },
        "outputId": "01056ec2-e679-4449-a8d3-fb98da2c5675"
      },
      "outputs": [
        {
          "output_type": "stream",
          "name": "stdout",
          "text": [
            "   Index                                          Sentences Sentiment\n",
            "0      0  အန်ဒရီယာ မာစီ သည် အီတလီ အတွက် စမ်းသပ်မှု တစ်ခု...  Positive\n",
            "1      1  ပေါ်တူဂီ သည် ဘယ်သောအခါမှ စွန့်လွှတ်မှု မရှိခဲ့...  Positive\n",
            "2      2  အီတလီ သည် ပထမပိုင်း ၌ ၁၆-၅ ဖြင့် ဦးဆောင်ခဲ့ သေ...  Positive\n",
            "3      3  သို့သော်လည်း ဘော်တိုလပ်စီ သည် မော်ရို ဘာဂမ်မက်...  Positive\n",
            "4      4  နယူးဇီလန် သည် ရမှတ် ကွာခြားချက် အပေါ် စကော့တလန...  Positive\n"
          ]
        }
      ],
      "source": [
        "data = pd.read_csv('/content/Segmented-Sentiments - Sheet1.csv')\n",
        "print(data.head())"
      ]
    },
    {
      "cell_type": "code",
      "execution_count": null,
      "metadata": {
        "id": "MvjU4ahHNuNA",
        "colab": {
          "base_uri": "https://localhost:8080/"
        },
        "outputId": "e29de360-68a7-40ad-bf24-1b82f1b33dc0"
      },
      "outputs": [
        {
          "output_type": "execute_result",
          "data": {
            "text/plain": [
              "0       အန်ဒရီယာ မာစီ သည် အီတလီ အတွက် စမ်းသပ်မှု တစ်ခု...\n",
              "1       ပေါ်တူဂီ သည် ဘယ်သောအခါမှ စွန့်လွှတ်မှု မရှိခဲ့...\n",
              "2       အီတလီ သည် ပထမပိုင်း ၌ ၁၆-၅ ဖြင့် ဦးဆောင်ခဲ့ သေ...\n",
              "3       သို့သော်လည်း ဘော်တိုလပ်စီ သည် မော်ရို ဘာဂမ်မက်...\n",
              "4       နယူးဇီလန် သည် ရမှတ် ကွာခြားချက် အပေါ် စကော့တလန...\n",
              "                              ...                        \n",
              "6248    လက်ရှိ Miss Universe အလှမယ် အန်ဒရီယာမတ်ဇာကမူ A...\n",
              "6249    တရုတ်နိုင်ငံ၌ ကျင်းပမည့် တင်းနစ်ပြိုင်ပွဲ အားလ...\n",
              "6250    Red Notice ဇာတ်ကားအပေါ် ရုပ်ရှင် ဝေဖန်ရေးသမားမ...\n",
              "6251    လက်ရှိ Miss Universe အလှမယ် အန်ဒရီယာမတ်ဇာကမူ A...\n",
              "6252    တရုတ်နိုင်ငံ၌ ကျင်းပမည့် တင်းနစ်ပြိုင်ပွဲအားလု...\n",
              "Name: Sentences, Length: 6253, dtype: object"
            ]
          },
          "metadata": {},
          "execution_count": 5
        }
      ],
      "source": [
        "data['Sentences']"
      ]
    },
    {
      "cell_type": "code",
      "execution_count": null,
      "metadata": {
        "id": "pPinRBAJNzHY",
        "colab": {
          "base_uri": "https://localhost:8080/"
        },
        "outputId": "84dc220d-84ae-460b-ba9c-7bc5c4773cf3"
      },
      "outputs": [
        {
          "output_type": "execute_result",
          "data": {
            "text/plain": [
              "Index        0\n",
              "Sentences    0\n",
              "Sentiment    0\n",
              "dtype: int64"
            ]
          },
          "metadata": {},
          "execution_count": 6
        }
      ],
      "source": [
        "data.isnull().sum()"
      ]
    },
    {
      "cell_type": "code",
      "execution_count": null,
      "metadata": {
        "id": "EMMa602-N4ar"
      },
      "outputs": [],
      "source": [
        "data = data.loc[data['Sentiment']!=\"Neutral\"]"
      ]
    },
    {
      "cell_type": "code",
      "source": [
        "data.shape"
      ],
      "metadata": {
        "colab": {
          "base_uri": "https://localhost:8080/"
        },
        "id": "sW5gOWHqoJRQ",
        "outputId": "da3cdbd7-8def-4d95-fa5f-0aa7ac7e924b"
      },
      "execution_count": null,
      "outputs": [
        {
          "output_type": "execute_result",
          "data": {
            "text/plain": [
              "(5629, 3)"
            ]
          },
          "metadata": {},
          "execution_count": 8
        }
      ]
    },
    {
      "cell_type": "code",
      "source": [
        "j=0\n",
        "for i in data['Sentiment']:\n",
        "  if i == 'Negative':\n",
        "    j += 1\n",
        "print(j)"
      ],
      "metadata": {
        "colab": {
          "base_uri": "https://localhost:8080/"
        },
        "id": "Bxtfinnbq7tp",
        "outputId": "be0191b4-b3a2-4c57-a6b0-a8133ce262d1"
      },
      "execution_count": null,
      "outputs": [
        {
          "output_type": "stream",
          "name": "stdout",
          "text": [
            "2117\n"
          ]
        }
      ]
    },
    {
      "cell_type": "code",
      "execution_count": null,
      "metadata": {
        "id": "Fk3XxaL4N_Gp",
        "colab": {
          "base_uri": "https://localhost:8080/",
          "height": 332
        },
        "outputId": "c990207d-d63c-4aa1-916e-b775e1ef8b11"
      },
      "outputs": [
        {
          "output_type": "execute_result",
          "data": {
            "text/plain": [
              "<matplotlib.axes._subplots.AxesSubplot at 0x7f9f1f87f390>"
            ]
          },
          "metadata": {},
          "execution_count": 15
        },
        {
          "output_type": "display_data",
          "data": {
            "image/png": "[encoded data removed]",
            "text/plain": [
              "<Figure size 432x288 with 1 Axes>"
            ]
          },
          "metadata": {
            "needs_background": "light"
          }
        }
      ],
      "source": [
        "data['category_id'] = data['Sentiment'].factorize()[0]\n",
        "colslist = ['Index','Sentence', 'Sentiment', 'category_id']\n",
        "data.columns = colslist\n",
        "data.groupby('Sentiment').Index.count().plot.bar(ylim=0)"
      ]
    },
    {
      "cell_type": "code",
      "execution_count": null,
      "metadata": {
        "id": "fG3cVVD1OCsO"
      },
      "outputs": [],
      "source": [
        "stopwordslist = []\n",
        "slist = []\n",
        "with open(\"/content/stopword (1).txt\", encoding = 'utf8') as stopwordsfile:\n",
        "    stopwords = stopwordsfile.readlines()\n",
        "    slist.extend(stopwords)\n",
        "    for w in range(len(slist)):\n",
        "        temp = slist[w]\n",
        "        stopwordslist.append(temp.rstrip())"
      ]
    },
    {
      "cell_type": "code",
      "execution_count": null,
      "metadata": {
        "id": "Z_4U61G8OGqz",
        "colab": {
          "base_uri": "https://localhost:8080/",
          "height": 363
        },
        "outputId": "1b74d888-c43a-4d2c-8d56-aaf109208a4d"
      },
      "outputs": [
        {
          "output_type": "execute_result",
          "data": {
            "text/html": [
              "\n",
              "  <div id=\"df-1433bd02-326c-46e0-af09-eee4ea8c993c\">\n",
              "    <div class=\"colab-df-container\">\n",
              "      <div>\n",
              "<style scoped>\n",
              "    .dataframe tbody tr th:only-of-type {\n",
              "        vertical-align: middle;\n",
              "    }\n",
              "\n",
              "    .dataframe tbody tr th {\n",
              "        vertical-align: top;\n",
              "    }\n",
              "\n",
              "    .dataframe thead th {\n",
              "        text-align: right;\n",
              "    }\n",
              "</style>\n",
              "<table border=\"1\" class=\"dataframe\">\n",
              "  <thead>\n",
              "    <tr style=\"text-align: right;\">\n",
              "      <th></th>\n",
              "      <th>Index</th>\n",
              "      <th>Sentence</th>\n",
              "      <th>Sentiment</th>\n",
              "      <th>category_id</th>\n",
              "    </tr>\n",
              "  </thead>\n",
              "  <tbody>\n",
              "    <tr>\n",
              "      <th>0</th>\n",
              "      <td>0</td>\n",
              "      <td>အန်ဒရီယာ မာစီ အီတလီ စမ်းသပ်မှု တစ်ခု စတုတ္ထ မိ...</td>\n",
              "      <td>Positive</td>\n",
              "      <td>0</td>\n",
              "    </tr>\n",
              "    <tr>\n",
              "      <th>1</th>\n",
              "      <td>1</td>\n",
              "      <td>ပေါ်တူဂီ ဘယ်သောအခါမှ စွန့်လွှတ်မှု မရှိခဲ့ ဒေး...</td>\n",
              "      <td>Positive</td>\n",
              "      <td>0</td>\n",
              "    </tr>\n",
              "    <tr>\n",
              "      <th>2</th>\n",
              "      <td>2</td>\n",
              "      <td>အီတလီ ပထမပိုင်း ဖြင့် ဦးဆောင်ခဲ့ ပေါ်တူဂီ ဒုတိ...</td>\n",
              "      <td>Positive</td>\n",
              "      <td>0</td>\n",
              "    </tr>\n",
              "    <tr>\n",
              "      <th>3</th>\n",
              "      <td>3</td>\n",
              "      <td>သို့သော်လည်း ဘော်တိုလပ်စီ မော်ရို ဘာဂမ်မက်စကို...</td>\n",
              "      <td>Positive</td>\n",
              "      <td>0</td>\n",
              "    </tr>\n",
              "    <tr>\n",
              "      <th>4</th>\n",
              "      <td>4</td>\n",
              "      <td>နယူးဇီလန် ရမှတ် ကွာခြားချက် စကော့တလန်၏ ရှေ့မှ ...</td>\n",
              "      <td>Positive</td>\n",
              "      <td>0</td>\n",
              "    </tr>\n",
              "    <tr>\n",
              "      <th>5</th>\n",
              "      <td>5</td>\n",
              "      <td>အသေးစိတ်များကို မနေ့က ယူတီစီ အောက်လွှတ်တော် ဗြ...</td>\n",
              "      <td>Positive</td>\n",
              "      <td>0</td>\n",
              "    </tr>\n",
              "    <tr>\n",
              "      <th>6</th>\n",
              "      <td>6</td>\n",
              "      <td>လွှတ်တော်အမတ်များ သူမ၏ ကြေငြာချက် ရုသ်ကယ်လီ ပျ...</td>\n",
              "      <td>Positive</td>\n",
              "      <td>0</td>\n",
              "    </tr>\n",
              "    <tr>\n",
              "      <th>7</th>\n",
              "      <td>7</td>\n",
              "      <td>သူမသည် လုံခြုံရေးရာ ဆောင်ရွက်မှုများ ရယူခဲ့ကြေ...</td>\n",
              "      <td>Positive</td>\n",
              "      <td>0</td>\n",
              "    </tr>\n",
              "    <tr>\n",
              "      <th>8</th>\n",
              "      <td>8</td>\n",
              "      <td>လစ်ဘရယ် ဒီမိုကရက် ကိုယ်စားပြုထားသော ဆူဇန် ကရာမ...</td>\n",
              "      <td>Positive</td>\n",
              "      <td>0</td>\n",
              "    </tr>\n",
              "    <tr>\n",
              "      <th>9</th>\n",
              "      <td>9</td>\n",
              "      <td>လူးဝတ် ဆက်လက် မှတ်ချက်ပြုခဲ့သည် င်္သဘော အမှတ်အ...</td>\n",
              "      <td>Positive</td>\n",
              "      <td>0</td>\n",
              "    </tr>\n",
              "  </tbody>\n",
              "</table>\n",
              "</div>\n",
              "      <button class=\"colab-df-convert\" onclick=\"convertToInteractive('df-1433bd02-326c-46e0-af09-eee4ea8c993c')\"\n",
              "              title=\"Convert this dataframe to an interactive table.\"\n",
              "              style=\"display:none;\">\n",
              "        \n",
              "  <svg xmlns=\"http://www.w3.org/2000/svg\" height=\"24px\"viewBox=\"0 0 24 24\"\n",
              "       width=\"24px\">\n",
              "    <path d=\"M0 0h24v24H0V0z\" fill=\"none\"/>\n",
              "    <path d=\"M18.56 5.44l.94 2.06.94-2.06 2.06-.94-2.06-.94-.94-2.06-.94 2.06-2.06.94zm-11 1L8.5 8.5l.94-2.06 2.06-.94-2.06-.94L8.5 2.5l-.94 2.06-2.06.94zm10 10l.94 2.06.94-2.06 2.06-.94-2.06-.94-.94-2.06-.94 2.06-2.06.94z\"/><path d=\"M17.41 7.96l-1.37-1.37c-.4-.4-.92-.59-1.43-.59-.52 0-1.04.2-1.43.59L10.3 9.45l-7.72 7.72c-.78.78-.78 2.05 0 2.83L4 21.41c.39.39.9.59 1.41.59.51 0 1.02-.2 1.41-.59l7.78-7.78 2.81-2.81c.8-.78.8-2.07 0-2.86zM5.41 20L4 18.59l7.72-7.72 1.47 1.35L5.41 20z\"/>\n",
              "  </svg>\n",
              "      </button>\n",
              "      \n",
              "  <style>\n",
              "    .colab-df-container {\n",
              "      display:flex;\n",
              "      flex-wrap:wrap;\n",
              "      gap: 12px;\n",
              "    }\n",
              "\n",
              "    .colab-df-convert {\n",
              "      background-color: #E8F0FE;\n",
              "      border: none;\n",
              "      border-radius: 50%;\n",
              "      cursor: pointer;\n",
              "      display: none;\n",
              "      fill: #1967D2;\n",
              "      height: 32px;\n",
              "      padding: 0 0 0 0;\n",
              "      width: 32px;\n",
              "    }\n",
              "\n",
              "    .colab-df-convert:hover {\n",
              "      background-color: #E2EBFA;\n",
              "      box-shadow: 0px 1px 2px rgba(60, 64, 67, 0.3), 0px 1px 3px 1px rgba(60, 64, 67, 0.15);\n",
              "      fill: #174EA6;\n",
              "    }\n",
              "\n",
              "    [theme=dark] .colab-df-convert {\n",
              "      background-color: #3B4455;\n",
              "      fill: #D2E3FC;\n",
              "    }\n",
              "\n",
              "    [theme=dark] .colab-df-convert:hover {\n",
              "      background-color: #434B5C;\n",
              "      box-shadow: 0px 1px 3px 1px rgba(0, 0, 0, 0.15);\n",
              "      filter: drop-shadow(0px 1px 2px rgba(0, 0, 0, 0.3));\n",
              "      fill: #FFFFFF;\n",
              "    }\n",
              "  </style>\n",
              "\n",
              "      <script>\n",
              "        const buttonEl =\n",
              "          document.querySelector('#df-1433bd02-326c-46e0-af09-eee4ea8c993c button.colab-df-convert');\n",
              "        buttonEl.style.display =\n",
              "          google.colab.kernel.accessAllowed ? 'block' : 'none';\n",
              "\n",
              "        async function convertToInteractive(key) {\n",
              "          const element = document.querySelector('#df-1433bd02-326c-46e0-af09-eee4ea8c993c');\n",
              "          const dataTable =\n",
              "            await google.colab.kernel.invokeFunction('convertToInteractive',\n",
              "                                                     [key], {});\n",
              "          if (!dataTable) return;\n",
              "\n",
              "          const docLinkHtml = 'Like what you see? Visit the ' +\n",
              "            '<a target=\"_blank\" href=https://colab.research.google.com/notebooks/data_table.ipynb>data table notebook</a>'\n",
              "            + ' to learn more about interactive tables.';\n",
              "          element.innerHTML = '';\n",
              "          dataTable['output_type'] = 'display_data';\n",
              "          await google.colab.output.renderOutput(dataTable, element);\n",
              "          const docLink = document.createElement('div');\n",
              "          docLink.innerHTML = docLinkHtml;\n",
              "          element.appendChild(docLink);\n",
              "        }\n",
              "      </script>\n",
              "    </div>\n",
              "  </div>\n",
              "  "
            ],
            "text/plain": [
              "   Index  ... category_id\n",
              "0      0  ...           0\n",
              "1      1  ...           0\n",
              "2      2  ...           0\n",
              "3      3  ...           0\n",
              "4      4  ...           0\n",
              "5      5  ...           0\n",
              "6      6  ...           0\n",
              "7      7  ...           0\n",
              "8      8  ...           0\n",
              "9      9  ...           0\n",
              "\n",
              "[10 rows x 4 columns]"
            ]
          },
          "metadata": {},
          "execution_count": 10
        }
      ],
      "source": [
        "import re\n",
        "CleanPattern = re.compile(r'\\d+|[၊။!-/:-@[-`{-~\\t ]|[A-za-z0-9]')\n",
        "def clean_sentence(sentence):\n",
        "     sent = CleanPattern.sub(\" \",sentence)\n",
        "     return sent\n",
        "\n",
        "def stop_word(sentence):\n",
        "  new_sentence = []\n",
        "  for word in sentence.split():\n",
        "    if word not in stopwordslist:\n",
        "      new_sentence.append(word)\n",
        "  return(' '.join(new_sentence))\n",
        "\n",
        "def process(line):\n",
        "    line = clean_sentence(line)\n",
        "    sentence = stop_word(line)\n",
        "    return sentence\n",
        "\n",
        "BreakPattern = re.compile(r'(?:(?<!္)([က-ဪဿ၊-၏]|[၀-၉]+|[^က-၏]+)(?![ှျ]?[့္်]))')\n",
        "\n",
        "def sylbreak(sentence):\n",
        "    line = BreakPattern.sub(\" \" + r\"\\1\",sentence)\n",
        "    return line\n",
        "\n",
        "def process(sentence):\n",
        "    line = clean_sentence(sentence)\n",
        "    sentence = stop_word(line)\n",
        "    return sentence\n",
        "\n",
        "data['Sentence'] = data['Sentence'].apply(process)\n",
        "data.head(10)"
      ]
    },
    {
      "cell_type": "code",
      "execution_count": null,
      "metadata": {
        "id": "h2mVdixlOOJ7"
      },
      "outputs": [],
      "source": [
        "import os, re, csv, math, codecs\n",
        "from tqdm import tqdm"
      ]
    },
    {
      "cell_type": "code",
      "execution_count": null,
      "metadata": {
        "id": "tAlBav4aOSDj"
      },
      "outputs": [],
      "source": [
        "X = data['Sentence'].fillna('').tolist()\n",
        "X = [str(i) for i in X]\n",
        "y = np.array(data['category_id'])"
      ]
    },
    {
      "cell_type": "code",
      "execution_count": null,
      "metadata": {
        "id": "-KK83Q1VOVNj",
        "colab": {
          "base_uri": "https://localhost:8080/",
          "height": 54
        },
        "outputId": "258bd541-64e5-4bdb-804e-b3f53caad942"
      },
      "outputs": [
        {
          "output_type": "execute_result",
          "data": {
            "application/vnd.google.colaboratory.intrinsic+json": {
              "type": "string"
            },
            "text/plain": [
              "'ပြည်ထောင်စုဝန်ကြီး တိုင်းဒေသကြီး နှင့် ပြည်နယ်များ မှဝန်ကြီး နှင့် တတ်ရောက် လာသော ဧည့်သည်တော် နှင့် ဆုရ ရှိသည့် သမ္မတ နှုတ်ခွန်းဆက်သ'"
            ]
          },
          "metadata": {},
          "execution_count": 13
        }
      ],
      "source": [
        "X[1200]"
      ]
    },
    {
      "cell_type": "code",
      "execution_count": null,
      "metadata": {
        "id": "2kxDOZaCOZF4"
      },
      "outputs": [],
      "source": [
        "RANDOM_STATE = 42\n",
        "\n",
        "text_train,text_test,y_train,y_test = train_test_split(X,y,test_size=0.2,random_state=RANDOM_STATE)"
      ]
    },
    {
      "cell_type": "code",
      "execution_count": null,
      "metadata": {
        "id": "ed99L7TiOlnr",
        "colab": {
          "base_uri": "https://localhost:8080/"
        },
        "outputId": "69011721-7c5b-45d8-bee3-1394d97e5522"
      },
      "outputs": [
        {
          "output_type": "stream",
          "name": "stdout",
          "text": [
            "Found 21207 unique tokens.\n"
          ]
        }
      ],
      "source": [
        "#Set Maximum number of words to be embedded\n",
        "NUM_WORDS = 20000\n",
        "\n",
        "tokenizer = Tokenizer()\n",
        "tokenizer.fit_on_texts(text_train)\n",
        "\n",
        "word_index = tokenizer.word_index\n",
        "print('Found %s unique tokens.' % len(word_index))"
      ]
    },
    {
      "cell_type": "code",
      "execution_count": null,
      "metadata": {
        "id": "5bTKdz-kQe6d"
      },
      "outputs": [],
      "source": [
        "X_train = tokenizer.texts_to_sequences(text_train)\n",
        "X_test = tokenizer.texts_to_sequences(text_test)"
      ]
    },
    {
      "cell_type": "code",
      "execution_count": null,
      "metadata": {
        "id": "M5E9W6H0QiOk"
      },
      "outputs": [],
      "source": [
        "vocab_size = len(tokenizer.word_index) + 1  # Adding 1 because of reserved 0 index\n",
        "maxlen = max(len(x) for x in X_train)//2 # longest text in train set\n",
        "\n",
        "# Add pading to ensure all vectors have same dimensionality\n",
        "X_train = pad_sequences(X_train, padding='post', maxlen=maxlen)\n",
        "X_test = pad_sequences(X_test, padding='post', maxlen=maxlen)"
      ]
    },
    {
      "cell_type": "code",
      "execution_count": null,
      "metadata": {
        "id": "a0gxMi6_Qpg4",
        "colab": {
          "base_uri": "https://localhost:8080/"
        },
        "outputId": "9dad5d47-a269-436c-895f-4683499afbe7"
      },
      "outputs": [
        {
          "output_type": "execute_result",
          "data": {
            "text/plain": [
              "183"
            ]
          },
          "metadata": {},
          "execution_count": 18
        }
      ],
      "source": [
        "maxlen"
      ]
    },
    {
      "cell_type": "code",
      "execution_count": null,
      "metadata": {
        "id": "DI_E2PsNRnEX",
        "colab": {
          "base_uri": "https://localhost:8080/"
        },
        "outputId": "28d1d10a-390b-4b46-b2ea-b2d097e639c4"
      },
      "outputs": [
        {
          "output_type": "execute_result",
          "data": {
            "text/plain": [
              "(4503,)"
            ]
          },
          "metadata": {},
          "execution_count": 19
        }
      ],
      "source": [
        "y_train.shape"
      ]
    },
    {
      "cell_type": "code",
      "execution_count": null,
      "metadata": {
        "id": "3awrJgP5RrEc",
        "colab": {
          "base_uri": "https://localhost:8080/"
        },
        "outputId": "0bd97c1d-4ef7-4175-92d3-6af95829ddef"
      },
      "outputs": [
        {
          "output_type": "execute_result",
          "data": {
            "text/plain": [
              "21208"
            ]
          },
          "metadata": {},
          "execution_count": 20
        }
      ],
      "source": [
        "vocab_size"
      ]
    },
    {
      "cell_type": "code",
      "execution_count": null,
      "metadata": {
        "id": "n1gpEWefSW9G",
        "colab": {
          "base_uri": "https://localhost:8080/"
        },
        "outputId": "1679c5b9-b2c8-4cb8-bc8d-bf1083439fbf"
      },
      "outputs": [
        {
          "output_type": "stream",
          "name": "stdout",
          "text": [
            "Shape of X train and X test tensor: (4503, 183) (1126, 183)\n",
            "Shape of label train and test tensor: (4503,) (1126,)\n"
          ]
        }
      ],
      "source": [
        "print('Shape of X train and X test tensor:', X_train.shape,X_test.shape)\n",
        "print('Shape of label train and test tensor:', y_train.shape,y_test.shape)"
      ]
    },
    {
      "cell_type": "code",
      "execution_count": null,
      "metadata": {
        "id": "J6TMoMgrSbBZ"
      },
      "outputs": [],
      "source": [
        "word_vectors = Word2Vec.load('/content/model1.bin')"
      ]
    },
    {
      "cell_type": "code",
      "execution_count": null,
      "metadata": {
        "id": "akvHWaw2S6dN"
      },
      "outputs": [],
      "source": [
        "EMBEDDING_DIM = 32\n",
        "vocabulary_size=min(len(word_index)+1,(NUM_WORDS))\n",
        "embedding_matrix = np.zeros((vocabulary_size, EMBEDDING_DIM))\n",
        "for word, i in word_index.items():\n",
        "    if i>=NUM_WORDS:\n",
        "        continue\n",
        "    try:\n",
        "        embedding_vector = word_vectors.wv[word]\n",
        "        embedding_matrix[i] = embedding_vector\n",
        "    except KeyError:\n",
        "        vec = np.zeros(EMBEDDING_DIM)\n",
        "        embedding_matrix[i]=vec"
      ]
    },
    {
      "cell_type": "code",
      "source": [
        "embedding_matrix.shape"
      ],
      "metadata": {
        "colab": {
          "base_uri": "https://localhost:8080/"
        },
        "id": "zsny5SEfXjQR",
        "outputId": "57590b44-3cab-4586-f36f-5fe5b97e6422"
      },
      "execution_count": null,
      "outputs": [
        {
          "output_type": "execute_result",
          "data": {
            "text/plain": [
              "(20000, 32)"
            ]
          },
          "metadata": {},
          "execution_count": 24
        }
      ]
    },
    {
      "cell_type": "code",
      "source": [
        "#training params\n",
        "batch_size = 500\n",
        "#num_epochs = 10\n",
        "\n",
        "#model parameters\n",
        "num_filters = 64 \n",
        "#embed_dim = 100 \n",
        "weight_decay = 0.025"
      ],
      "metadata": {
        "id": "w3vF-bHCXG56"
      },
      "execution_count": null,
      "outputs": []
    },
    {
      "cell_type": "markdown",
      "source": [
        "### Static"
      ],
      "metadata": {
        "id": "Q3l0kUZoeVMt"
      }
    },
    {
      "cell_type": "code",
      "source": [
        "from keras.models import Sequential\n",
        "from keras.layers import Embedding, Conv1D, MaxPooling1D, GlobalMaxPooling1D, Flatten\n",
        "from tensorflow import keras\n",
        "import tensorflow as tf \n",
        "#CNN architecture -static\n",
        "print(\"training CNN ...\")\n",
        "model = Sequential()\n",
        "model.add(Embedding(vocabulary_size, EMBEDDING_DIM,weights=[embedding_matrix], input_length=maxlen, trainable=True))\n",
        "model.add(Dropout(0.2))\n",
        "\n",
        "model.add(Conv1D(100, 3, activation='relu', padding='same'))\n",
        "model.add(Dropout(0.2))\n",
        "model.add(MaxPooling1D(3))\n",
        "\n",
        "model.add(Conv1D(100, 3, activation='relu', padding='same'))\n",
        "model.add(Dropout(0.2))\n",
        "model.add(MaxPooling1D(3))\n",
        "\n",
        "model.add(Conv1D(100, 3, activation='relu', padding='same'))\n",
        "model.add(Dropout(0.2))\n",
        "model.add(MaxPooling1D(3))\n",
        "\n",
        "model.add(Flatten())\n",
        "model.add(Dropout(0.2))\n",
        "model.add(Dense(128, activation='relu', kernel_regularizer=regularizers.l2(weight_decay)))\n",
        "model.add(Dense(64, activation='relu', kernel_regularizer=regularizers.l2(weight_decay)))\n",
        "model.add(Dense(1, activation='sigmoid'))  \n",
        "model.compile(loss='binary_crossentropy', optimizer='rmsprop', metrics=[\"accuracy\",keras.metrics.Precision(),keras.metrics.Recall()])\n",
        "model.summary()"
      ],
      "metadata": {
        "colab": {
          "base_uri": "https://localhost:8080/"
        },
        "id": "Cpepee1TV6y2",
        "outputId": "146b688f-2ff0-4731-c743-bf1c6cd2475a"
      },
      "execution_count": null,
      "outputs": [
        {
          "output_type": "stream",
          "name": "stdout",
          "text": [
            "training CNN ...\n",
            "Model: \"sequential\"\n",
            "_________________________________________________________________\n",
            " Layer (type)                Output Shape              Param #   \n",
            "=================================================================\n",
            " embedding (Embedding)       (None, 183, 32)           640000    \n",
            "                                                                 \n",
            " dropout (Dropout)           (None, 183, 32)           0         \n",
            "                                                                 \n",
            " conv1d (Conv1D)             (None, 183, 100)          9700      \n",
            "                                                                 \n",
            " dropout_1 (Dropout)         (None, 183, 100)          0         \n",
            "                                                                 \n",
            " max_pooling1d (MaxPooling1D  (None, 61, 100)          0         \n",
            " )                                                               \n",
            "                                                                 \n",
            " conv1d_1 (Conv1D)           (None, 61, 100)           30100     \n",
            "                                                                 \n",
            " dropout_2 (Dropout)         (None, 61, 100)           0         \n",
            "                                                                 \n",
            " max_pooling1d_1 (MaxPooling  (None, 20, 100)          0         \n",
            " 1D)                                                             \n",
            "                                                                 \n",
            " conv1d_2 (Conv1D)           (None, 20, 100)           30100     \n",
            "                                                                 \n",
            " dropout_3 (Dropout)         (None, 20, 100)           0         \n",
            "                                                                 \n",
            " max_pooling1d_2 (MaxPooling  (None, 6, 100)           0         \n",
            " 1D)                                                             \n",
            "                                                                 \n",
            " flatten (Flatten)           (None, 600)               0         \n",
            "                                                                 \n",
            " dropout_4 (Dropout)         (None, 600)               0         \n",
            "                                                                 \n",
            " dense (Dense)               (None, 128)               76928     \n",
            "                                                                 \n",
            " dense_1 (Dense)             (None, 64)                8256      \n",
            "                                                                 \n",
            " dense_2 (Dense)             (None, 1)                 65        \n",
            "                                                                 \n",
            "=================================================================\n",
            "Total params: 795,149\n",
            "Trainable params: 795,149\n",
            "Non-trainable params: 0\n",
            "_________________________________________________________________\n"
          ]
        }
      ]
    },
    {
      "cell_type": "code",
      "source": [
        "from keras.callbacks import EarlyStopping\n",
        "#define callbacks\n",
        "early_stopping = EarlyStopping(monitor='val_loss', min_delta=0.01, patience=15, verbose=1)\n",
        "callbacks_list = [early_stopping]\n",
        "#model training\n",
        "hist = model.fit(X_train, y_train, batch_size=batch_size, epochs=150, callbacks=callbacks_list, validation_split=0.1, shuffle=True, verbose=2)"
      ],
      "metadata": {
        "colab": {
          "base_uri": "https://localhost:8080/"
        },
        "id": "ThvWEnztYK-j",
        "outputId": "51e11d13-42fd-44c9-ebfb-6516374ed631"
      },
      "execution_count": null,
      "outputs": [
        {
          "output_type": "stream",
          "name": "stdout",
          "text": [
            "Epoch 1/150\n",
            "11/11 - 6s - loss: 6.5259 - accuracy: 0.6024 - precision: 0.4130 - recall: 0.1159 - val_loss: 5.1151 - val_accuracy: 0.6297 - val_precision: 0.6111 - val_recall: 0.0643 - 6s/epoch - 534ms/step\n",
            "Epoch 2/150\n",
            "11/11 - 0s - loss: 4.4919 - accuracy: 0.6774 - precision: 0.5995 - recall: 0.4492 - val_loss: 3.7676 - val_accuracy: 0.6962 - val_precision: 0.5702 - val_recall: 0.8070 - 455ms/epoch - 41ms/step\n",
            "Epoch 3/150\n",
            "11/11 - 0s - loss: 3.3025 - accuracy: 0.7142 - precision: 0.6199 - recall: 0.6361 - val_loss: 2.7838 - val_accuracy: 0.7184 - val_precision: 0.6864 - val_recall: 0.4737 - 450ms/epoch - 41ms/step\n",
            "Epoch 4/150\n",
            "11/11 - 0s - loss: 2.4732 - accuracy: 0.7194 - precision: 0.6267 - recall: 0.6426 - val_loss: 2.1176 - val_accuracy: 0.7007 - val_precision: 0.5726 - val_recall: 0.8304 - 450ms/epoch - 41ms/step\n",
            "Epoch 5/150\n",
            "11/11 - 0s - loss: 1.8654 - accuracy: 0.7216 - precision: 0.6193 - recall: 0.6895 - val_loss: 1.6103 - val_accuracy: 0.7095 - val_precision: 0.7273 - val_recall: 0.3743 - 451ms/epoch - 41ms/step\n",
            "Epoch 6/150\n",
            "11/11 - 0s - loss: 1.4313 - accuracy: 0.7379 - precision: 0.6586 - recall: 0.6406 - val_loss: 1.3030 - val_accuracy: 0.7095 - val_precision: 0.5752 - val_recall: 0.8947 - 455ms/epoch - 41ms/step\n",
            "Epoch 7/150\n",
            "11/11 - 0s - loss: 1.1307 - accuracy: 0.7500 - precision: 0.6627 - recall: 0.6934 - val_loss: 1.0425 - val_accuracy: 0.7051 - val_precision: 0.8065 - val_recall: 0.2924 - 458ms/epoch - 42ms/step\n",
            "Epoch 8/150\n",
            "11/11 - 0s - loss: 0.9429 - accuracy: 0.7488 - precision: 0.6738 - recall: 0.6536 - val_loss: 0.8887 - val_accuracy: 0.7361 - val_precision: 0.6313 - val_recall: 0.7310 - 448ms/epoch - 41ms/step\n",
            "Epoch 9/150\n",
            "11/11 - 0s - loss: 0.7905 - accuracy: 0.7616 - precision: 0.6868 - recall: 0.6823 - val_loss: 0.7625 - val_accuracy: 0.7494 - val_precision: 0.6526 - val_recall: 0.7251 - 452ms/epoch - 41ms/step\n",
            "Epoch 10/150\n",
            "11/11 - 0s - loss: 0.6954 - accuracy: 0.7658 - precision: 0.6885 - recall: 0.6979 - val_loss: 0.7051 - val_accuracy: 0.7583 - val_precision: 0.6824 - val_recall: 0.6784 - 462ms/epoch - 42ms/step\n",
            "Epoch 11/150\n",
            "11/11 - 0s - loss: 0.6146 - accuracy: 0.7767 - precision: 0.7125 - recall: 0.6888 - val_loss: 0.6542 - val_accuracy: 0.7273 - val_precision: 0.6043 - val_recall: 0.8129 - 456ms/epoch - 41ms/step\n",
            "Epoch 12/150\n",
            "11/11 - 0s - loss: 0.5747 - accuracy: 0.7628 - precision: 0.6885 - recall: 0.6836 - val_loss: 0.5896 - val_accuracy: 0.7472 - val_precision: 0.7664 - val_recall: 0.4795 - 453ms/epoch - 41ms/step\n",
            "Epoch 13/150\n",
            "11/11 - 0s - loss: 0.5402 - accuracy: 0.7744 - precision: 0.7212 - recall: 0.6602 - val_loss: 0.5535 - val_accuracy: 0.7627 - val_precision: 0.6720 - val_recall: 0.7310 - 460ms/epoch - 42ms/step\n",
            "Epoch 14/150\n",
            "11/11 - 0s - loss: 0.4961 - accuracy: 0.7883 - precision: 0.7312 - recall: 0.6979 - val_loss: 0.5435 - val_accuracy: 0.7494 - val_precision: 0.7636 - val_recall: 0.4912 - 459ms/epoch - 42ms/step\n",
            "Epoch 15/150\n",
            "11/11 - 0s - loss: 0.4735 - accuracy: 0.7964 - precision: 0.7388 - recall: 0.7161 - val_loss: 0.5308 - val_accuracy: 0.7716 - val_precision: 0.7024 - val_recall: 0.6901 - 492ms/epoch - 45ms/step\n",
            "Epoch 16/150\n",
            "11/11 - 0s - loss: 0.4558 - accuracy: 0.8011 - precision: 0.7493 - recall: 0.7142 - val_loss: 0.5048 - val_accuracy: 0.7650 - val_precision: 0.7211 - val_recall: 0.6199 - 466ms/epoch - 42ms/step\n",
            "Epoch 17/150\n",
            "11/11 - 0s - loss: 0.4486 - accuracy: 0.8001 - precision: 0.7446 - recall: 0.7194 - val_loss: 0.5150 - val_accuracy: 0.7450 - val_precision: 0.7642 - val_recall: 0.4737 - 453ms/epoch - 41ms/step\n",
            "Epoch 18/150\n",
            "11/11 - 0s - loss: 0.4352 - accuracy: 0.8021 - precision: 0.7535 - recall: 0.7103 - val_loss: 0.5162 - val_accuracy: 0.7472 - val_precision: 0.6313 - val_recall: 0.8012 - 455ms/epoch - 41ms/step\n",
            "Epoch 19/150\n",
            "11/11 - 0s - loss: 0.4341 - accuracy: 0.8100 - precision: 0.7588 - recall: 0.7311 - val_loss: 0.5173 - val_accuracy: 0.7450 - val_precision: 0.8256 - val_recall: 0.4152 - 456ms/epoch - 41ms/step\n",
            "Epoch 20/150\n",
            "11/11 - 0s - loss: 0.4142 - accuracy: 0.8129 - precision: 0.7811 - recall: 0.7038 - val_loss: 0.4923 - val_accuracy: 0.7805 - val_precision: 0.7222 - val_recall: 0.6842 - 452ms/epoch - 41ms/step\n",
            "Epoch 21/150\n",
            "11/11 - 0s - loss: 0.3915 - accuracy: 0.8339 - precision: 0.7918 - recall: 0.7624 - val_loss: 0.4870 - val_accuracy: 0.7871 - val_precision: 0.7389 - val_recall: 0.6784 - 491ms/epoch - 45ms/step\n",
            "Epoch 22/150\n",
            "11/11 - 0s - loss: 0.4023 - accuracy: 0.8314 - precision: 0.7899 - recall: 0.7565 - val_loss: 0.4889 - val_accuracy: 0.7761 - val_precision: 0.6923 - val_recall: 0.7368 - 455ms/epoch - 41ms/step\n",
            "Epoch 23/150\n",
            "11/11 - 0s - loss: 0.3918 - accuracy: 0.8305 - precision: 0.7894 - recall: 0.7539 - val_loss: 0.4811 - val_accuracy: 0.7827 - val_precision: 0.7267 - val_recall: 0.6842 - 455ms/epoch - 41ms/step\n",
            "Epoch 24/150\n",
            "11/11 - 0s - loss: 0.3803 - accuracy: 0.8398 - precision: 0.8057 - recall: 0.7611 - val_loss: 0.5032 - val_accuracy: 0.7761 - val_precision: 0.7692 - val_recall: 0.5848 - 455ms/epoch - 41ms/step\n",
            "Epoch 25/150\n",
            "11/11 - 0s - loss: 0.3766 - accuracy: 0.8393 - precision: 0.8020 - recall: 0.7650 - val_loss: 0.4816 - val_accuracy: 0.7916 - val_precision: 0.7692 - val_recall: 0.6433 - 453ms/epoch - 41ms/step\n",
            "Epoch 26/150\n",
            "11/11 - 0s - loss: 0.3551 - accuracy: 0.8541 - precision: 0.8208 - recall: 0.7871 - val_loss: 0.5816 - val_accuracy: 0.7228 - val_precision: 0.8026 - val_recall: 0.3567 - 447ms/epoch - 41ms/step\n",
            "Epoch 27/150\n",
            "11/11 - 0s - loss: 0.3626 - accuracy: 0.8529 - precision: 0.8206 - recall: 0.7832 - val_loss: 0.5806 - val_accuracy: 0.7450 - val_precision: 0.6111 - val_recall: 0.9006 - 447ms/epoch - 41ms/step\n",
            "Epoch 28/150\n",
            "11/11 - 0s - loss: 0.3425 - accuracy: 0.8583 - precision: 0.8173 - recall: 0.8066 - val_loss: 0.4814 - val_accuracy: 0.7783 - val_precision: 0.6940 - val_recall: 0.7427 - 449ms/epoch - 41ms/step\n",
            "Epoch 29/150\n",
            "11/11 - 0s - loss: 0.3383 - accuracy: 0.8650 - precision: 0.8308 - recall: 0.8086 - val_loss: 0.4822 - val_accuracy: 0.7761 - val_precision: 0.6823 - val_recall: 0.7661 - 452ms/epoch - 41ms/step\n",
            "Epoch 30/150\n",
            "11/11 - 0s - loss: 0.3174 - accuracy: 0.8707 - precision: 0.8299 - recall: 0.8288 - val_loss: 0.4978 - val_accuracy: 0.7738 - val_precision: 0.6620 - val_recall: 0.8246 - 456ms/epoch - 41ms/step\n",
            "Epoch 31/150\n",
            "11/11 - 0s - loss: 0.3123 - accuracy: 0.8778 - precision: 0.8409 - recall: 0.8359 - val_loss: 0.5930 - val_accuracy: 0.7295 - val_precision: 0.7882 - val_recall: 0.3918 - 448ms/epoch - 41ms/step\n",
            "Epoch 32/150\n",
            "11/11 - 0s - loss: 0.3173 - accuracy: 0.8818 - precision: 0.8573 - recall: 0.8255 - val_loss: 0.4789 - val_accuracy: 0.7894 - val_precision: 0.7375 - val_recall: 0.6901 - 451ms/epoch - 41ms/step\n",
            "Epoch 33/150\n",
            "11/11 - 0s - loss: 0.2885 - accuracy: 0.8872 - precision: 0.8633 - recall: 0.8346 - val_loss: 0.4973 - val_accuracy: 0.7827 - val_precision: 0.6853 - val_recall: 0.7895 - 449ms/epoch - 41ms/step\n",
            "Epoch 34/150\n",
            "11/11 - 0s - loss: 0.2969 - accuracy: 0.8897 - precision: 0.8580 - recall: 0.8496 - val_loss: 0.5711 - val_accuracy: 0.7450 - val_precision: 0.6148 - val_recall: 0.8772 - 456ms/epoch - 41ms/step\n",
            "Epoch 35/150\n",
            "11/11 - 0s - loss: 0.2834 - accuracy: 0.8961 - precision: 0.8680 - recall: 0.8561 - val_loss: 0.5044 - val_accuracy: 0.7827 - val_precision: 0.6816 - val_recall: 0.8012 - 454ms/epoch - 41ms/step\n",
            "Epoch 36/150\n",
            "11/11 - 0s - loss: 0.2852 - accuracy: 0.8894 - precision: 0.8542 - recall: 0.8542 - val_loss: 0.5210 - val_accuracy: 0.7716 - val_precision: 0.6504 - val_recall: 0.8596 - 458ms/epoch - 42ms/step\n",
            "Epoch 37/150\n",
            "11/11 - 0s - loss: 0.2543 - accuracy: 0.9038 - precision: 0.8716 - recall: 0.8750 - val_loss: 0.4969 - val_accuracy: 0.7871 - val_precision: 0.7119 - val_recall: 0.7368 - 456ms/epoch - 41ms/step\n",
            "Epoch 38/150\n",
            "11/11 - 0s - loss: 0.2711 - accuracy: 0.8926 - precision: 0.8758 - recall: 0.8353 - val_loss: 0.5693 - val_accuracy: 0.7605 - val_precision: 0.6286 - val_recall: 0.9006 - 449ms/epoch - 41ms/step\n",
            "Epoch 00038: early stopping\n"
          ]
        }
      ]
    },
    {
      "cell_type": "code",
      "source": [
        "print(hist.history.keys())"
      ],
      "metadata": {
        "colab": {
          "base_uri": "https://localhost:8080/"
        },
        "id": "Vgvh1NpkYTyK",
        "outputId": "952502a3-1f2d-47f2-8b19-79af4b27d03f"
      },
      "execution_count": null,
      "outputs": [
        {
          "output_type": "stream",
          "name": "stdout",
          "text": [
            "dict_keys(['loss', 'accuracy', 'precision', 'recall', 'val_loss', 'val_accuracy', 'val_precision', 'val_recall'])\n"
          ]
        }
      ]
    },
    {
      "cell_type": "code",
      "source": [
        "loss, accuracy, precision, recall = model.evaluate(X_test, y_test, verbose=0)\n",
        "print('Loss', loss)\n",
        "print('Accuracy', accuracy)\n",
        "print('Precision', precision)\n",
        "print('Recall', recall)\n",
        "\n",
        "f1_score = (2* recall*precision)/(recall+precision)\n",
        "print(\"f1_score\", f1_score)"
      ],
      "metadata": {
        "colab": {
          "base_uri": "https://localhost:8080/"
        },
        "id": "HQMM5Hk8YY5p",
        "outputId": "24b52309-cf35-4e37-b9f4-613da926419d"
      },
      "execution_count": null,
      "outputs": [
        {
          "output_type": "stream",
          "name": "stdout",
          "text": [
            "Loss 0.5208331942558289\n",
            "Accuracy 0.7690941095352173\n",
            "Precision 0.6404494643211365\n",
            "Recall 0.8341463208198547\n",
            "f1_score 0.7245762801138664\n"
          ]
        }
      ]
    },
    {
      "cell_type": "code",
      "source": [
        "plt.style.use('ggplot')\n",
        "\n",
        "def plot_history(history):\n",
        "    acc = history.history['accuracy']\n",
        "    val_acc = history.history['val_accuracy']\n",
        "    loss = history.history['loss']\n",
        "    val_loss = history.history['val_loss']\n",
        "    x = range(1, len(acc) + 1)\n",
        "\n",
        "    plt.figure(figsize=(12, 2))\n",
        "    plt.subplot(1, 2, 1)\n",
        "    plt.plot(x, acc, 'b', label='Training acc')\n",
        "    plt.plot(x, val_acc, 'r', label='Validation acc')\n",
        "    plt.title('Training and validation accuracy')\n",
        "    plt.legend()\n",
        "    plt.subplot(1, 2, 2)\n",
        "    plt.plot(x, loss, 'b', label='Training loss')\n",
        "    plt.plot(x, val_loss, 'r', label='Validation loss')\n",
        "    plt.title('Training and validation loss')\n",
        "    plt.legend()\n",
        "\n",
        "%matplotlib inline\n",
        "plot_history(hist)"
      ],
      "metadata": {
        "colab": {
          "base_uri": "https://localhost:8080/",
          "height": 174
        },
        "id": "uzssllhfYgu_",
        "outputId": "e5d81100-754e-4445-90f4-98d2546ff03a"
      },
      "execution_count": null,
      "outputs": [
        {
          "output_type": "display_data",
          "data": {
            "image/png": "[encoded data removed]",
            "text/plain": [
              "<Figure size 864x144 with 2 Axes>"
            ]
          },
          "metadata": {
            "needs_background": "light"
          }
        }
      ]
    },
    {
      "cell_type": "markdown",
      "source": [
        "### Non-Static"
      ],
      "metadata": {
        "id": "x5qMvGeuYvlP"
      }
    },
    {
      "cell_type": "code",
      "source": [
        "from keras.layers import Embedding, Conv1D, MaxPooling1D, GlobalMaxPooling1D, Flatten\n",
        "from tensorflow import keras\n",
        "import tensorflow as tf \n",
        "#CNN architecture -static\n",
        "print(\"training CNN ...\")\n",
        "model1 = Sequential()\n",
        "model1.add(Embedding(vocabulary_size,EMBEDDING_DIM,weights=[embedding_matrix], input_length=maxlen, trainable=False))\n",
        "model1.add(Dropout(0.2))\n",
        "\n",
        "model1.add(Conv1D(100, 3, activation='relu', padding='same'))\n",
        "model1.add(Dropout(0.2))\n",
        "model1.add(MaxPooling1D(3))\n",
        "\n",
        "model1.add(Conv1D(100, 4, activation='relu', padding='same'))\n",
        "model1.add(Dropout(0.2))\n",
        "model1.add(MaxPooling1D(3))\n",
        "\n",
        "model1.add(Conv1D(100, 5, activation='relu', padding='same'))\n",
        "model1.add(Dropout(0.2))\n",
        "model1.add(MaxPooling1D(3))\n",
        "\n",
        "model1.add(Flatten())\n",
        "model1.add(Dropout(0.2))\n",
        "model1.add(Dense(128, activation='relu', kernel_regularizer=regularizers.l2(weight_decay)))\n",
        "model1.add(Dense(64, activation='relu', kernel_regularizer=regularizers.l2(weight_decay)))\n",
        "model1.add(Dense(1, activation='sigmoid'))  \n",
        "model1.compile(loss='binary_crossentropy', optimizer='rmsprop', metrics=[\"accuracy\",keras.metrics.Precision(),keras.metrics.Recall()])\n",
        "model1.summary()"
      ],
      "metadata": {
        "colab": {
          "base_uri": "https://localhost:8080/"
        },
        "id": "vDQYXrZlYs6D",
        "outputId": "2a78aa02-caab-4e41-a3ea-c9fb0ae72c2a"
      },
      "execution_count": null,
      "outputs": [
        {
          "output_type": "stream",
          "name": "stdout",
          "text": [
            "training CNN ...\n",
            "Model: \"sequential_1\"\n",
            "_________________________________________________________________\n",
            " Layer (type)                Output Shape              Param #   \n",
            "=================================================================\n",
            " embedding_1 (Embedding)     (None, 183, 32)           640000    \n",
            "                                                                 \n",
            " dropout_5 (Dropout)         (None, 183, 32)           0         \n",
            "                                                                 \n",
            " conv1d_3 (Conv1D)           (None, 183, 100)          9700      \n",
            "                                                                 \n",
            " dropout_6 (Dropout)         (None, 183, 100)          0         \n",
            "                                                                 \n",
            " max_pooling1d_3 (MaxPooling  (None, 61, 100)          0         \n",
            " 1D)                                                             \n",
            "                                                                 \n",
            " conv1d_4 (Conv1D)           (None, 61, 100)           40100     \n",
            "                                                                 \n",
            " dropout_7 (Dropout)         (None, 61, 100)           0         \n",
            "                                                                 \n",
            " max_pooling1d_4 (MaxPooling  (None, 20, 100)          0         \n",
            " 1D)                                                             \n",
            "                                                                 \n",
            " conv1d_5 (Conv1D)           (None, 20, 100)           50100     \n",
            "                                                                 \n",
            " dropout_8 (Dropout)         (None, 20, 100)           0         \n",
            "                                                                 \n",
            " max_pooling1d_5 (MaxPooling  (None, 6, 100)           0         \n",
            " 1D)                                                             \n",
            "                                                                 \n",
            " flatten_1 (Flatten)         (None, 600)               0         \n",
            "                                                                 \n",
            " dropout_9 (Dropout)         (None, 600)               0         \n",
            "                                                                 \n",
            " dense_3 (Dense)             (None, 128)               76928     \n",
            "                                                                 \n",
            " dense_4 (Dense)             (None, 64)                8256      \n",
            "                                                                 \n",
            " dense_5 (Dense)             (None, 1)                 65        \n",
            "                                                                 \n",
            "=================================================================\n",
            "Total params: 825,149\n",
            "Trainable params: 185,149\n",
            "Non-trainable params: 640,000\n",
            "_________________________________________________________________\n"
          ]
        }
      ]
    },
    {
      "cell_type": "code",
      "source": [
        "from keras.callbacks import EarlyStopping\n",
        "#define callbacks\n",
        "early_stopping = EarlyStopping(monitor='val_loss', min_delta=0.01, patience=15, verbose=1)\n",
        "callbacks_list = [early_stopping]\n",
        "#model training\n",
        "hist1 = model1.fit(X_train, y_train, batch_size=batch_size, epochs=150, callbacks=callbacks_list, validation_split=0.1, shuffle=True, verbose=2)"
      ],
      "metadata": {
        "colab": {
          "base_uri": "https://localhost:8080/"
        },
        "id": "mZHXt7zlY-YK",
        "outputId": "ea66d632-e7df-4929-aa74-f0679e9bbaa0"
      },
      "execution_count": null,
      "outputs": [
        {
          "output_type": "stream",
          "name": "stdout",
          "text": [
            "Epoch 1/100\n",
            "11/11 - 4s - loss: 6.5338 - accuracy: 0.5970 - precision_1: 0.4241 - recall_1: 0.1764 - val_loss: 5.1708 - val_accuracy: 0.6763 - val_precision_1: 0.5628 - val_recall_1: 0.6550 - 4s/epoch - 348ms/step\n",
            "Epoch 2/100\n",
            "11/11 - 0s - loss: 4.5264 - accuracy: 0.6703 - precision_1: 0.6053 - recall_1: 0.3743 - val_loss: 3.7567 - val_accuracy: 0.6984 - val_precision_1: 0.6804 - val_recall_1: 0.3860 - 418ms/epoch - 38ms/step\n",
            "Epoch 3/100\n",
            "11/11 - 0s - loss: 3.3328 - accuracy: 0.7093 - precision_1: 0.6213 - recall_1: 0.5970 - val_loss: 2.8129 - val_accuracy: 0.7140 - val_precision_1: 0.5946 - val_recall_1: 0.7719 - 433ms/epoch - 39ms/step\n",
            "Epoch 4/100\n",
            "11/11 - 0s - loss: 2.5035 - accuracy: 0.7142 - precision_1: 0.6181 - recall_1: 0.6439 - val_loss: 2.1670 - val_accuracy: 0.7051 - val_precision_1: 0.5683 - val_recall_1: 0.9240 - 417ms/epoch - 38ms/step\n",
            "Epoch 5/100\n",
            "11/11 - 0s - loss: 1.8917 - accuracy: 0.7142 - precision_1: 0.6079 - recall_1: 0.6934 - val_loss: 1.6160 - val_accuracy: 0.7162 - val_precision_1: 0.6080 - val_recall_1: 0.7076 - 424ms/epoch - 39ms/step\n",
            "Epoch 6/100\n",
            "11/11 - 0s - loss: 1.4546 - accuracy: 0.7216 - precision_1: 0.6204 - recall_1: 0.6842 - val_loss: 1.2837 - val_accuracy: 0.7118 - val_precision_1: 0.5785 - val_recall_1: 0.8830 - 461ms/epoch - 42ms/step\n",
            "Epoch 7/100\n",
            "11/11 - 0s - loss: 1.1536 - accuracy: 0.7273 - precision_1: 0.6189 - recall_1: 0.7305 - val_loss: 1.1402 - val_accuracy: 0.6519 - val_precision_1: 0.5222 - val_recall_1: 0.9649 - 426ms/epoch - 39ms/step\n",
            "Epoch 8/100\n",
            "11/11 - 0s - loss: 0.9579 - accuracy: 0.7280 - precision_1: 0.6168 - recall_1: 0.7461 - val_loss: 0.9165 - val_accuracy: 0.7118 - val_precision_1: 0.7971 - val_recall_1: 0.3216 - 418ms/epoch - 38ms/step\n",
            "Epoch 9/100\n",
            "11/11 - 0s - loss: 0.8351 - accuracy: 0.7283 - precision_1: 0.6404 - recall_1: 0.6458 - val_loss: 0.7751 - val_accuracy: 0.7450 - val_precision_1: 0.6429 - val_recall_1: 0.7368 - 461ms/epoch - 42ms/step\n",
            "Epoch 10/100\n",
            "11/11 - 0s - loss: 0.7204 - accuracy: 0.7409 - precision_1: 0.6429 - recall_1: 0.7116 - val_loss: 0.6968 - val_accuracy: 0.7472 - val_precision_1: 0.6727 - val_recall_1: 0.6491 - 431ms/epoch - 39ms/step\n",
            "Epoch 11/100\n",
            "11/11 - 0s - loss: 0.6589 - accuracy: 0.7362 - precision_1: 0.6439 - recall_1: 0.6803 - val_loss: 0.6698 - val_accuracy: 0.7206 - val_precision_1: 0.5875 - val_recall_1: 0.8830 - 420ms/epoch - 38ms/step\n",
            "Epoch 12/100\n",
            "11/11 - 0s - loss: 0.6043 - accuracy: 0.7414 - precision_1: 0.6508 - recall_1: 0.6855 - val_loss: 0.5977 - val_accuracy: 0.7384 - val_precision_1: 0.7304 - val_recall_1: 0.4912 - 419ms/epoch - 38ms/step\n",
            "Epoch 13/100\n",
            "11/11 - 0s - loss: 0.5650 - accuracy: 0.7470 - precision_1: 0.6707 - recall_1: 0.6536 - val_loss: 0.5617 - val_accuracy: 0.7428 - val_precision_1: 0.7311 - val_recall_1: 0.5088 - 418ms/epoch - 38ms/step\n",
            "Epoch 14/100\n",
            "11/11 - 0s - loss: 0.5404 - accuracy: 0.7498 - precision_1: 0.6802 - recall_1: 0.6413 - val_loss: 0.5544 - val_accuracy: 0.7339 - val_precision_1: 0.6154 - val_recall_1: 0.7953 - 421ms/epoch - 38ms/step\n",
            "Epoch 15/100\n",
            "11/11 - 0s - loss: 0.5188 - accuracy: 0.7433 - precision_1: 0.6682 - recall_1: 0.6413 - val_loss: 0.5449 - val_accuracy: 0.7384 - val_precision_1: 0.6167 - val_recall_1: 0.8187 - 465ms/epoch - 42ms/step\n",
            "Epoch 16/100\n",
            "11/11 - 0s - loss: 0.5021 - accuracy: 0.7535 - precision_1: 0.6722 - recall_1: 0.6823 - val_loss: 0.5134 - val_accuracy: 0.7494 - val_precision_1: 0.7164 - val_recall_1: 0.5614 - 458ms/epoch - 42ms/step\n",
            "Epoch 17/100\n",
            "11/11 - 0s - loss: 0.4951 - accuracy: 0.7544 - precision_1: 0.6795 - recall_1: 0.6667 - val_loss: 0.5296 - val_accuracy: 0.7251 - val_precision_1: 0.7701 - val_recall_1: 0.3918 - 419ms/epoch - 38ms/step\n",
            "Epoch 18/100\n",
            "11/11 - 0s - loss: 0.4872 - accuracy: 0.7530 - precision_1: 0.6846 - recall_1: 0.6458 - val_loss: 0.5454 - val_accuracy: 0.7472 - val_precision_1: 0.6432 - val_recall_1: 0.7485 - 421ms/epoch - 38ms/step\n",
            "Epoch 19/100\n",
            "11/11 - 0s - loss: 0.4786 - accuracy: 0.7705 - precision_1: 0.6973 - recall_1: 0.6973 - val_loss: 0.5048 - val_accuracy: 0.7627 - val_precision_1: 0.7000 - val_recall_1: 0.6550 - 416ms/epoch - 38ms/step\n",
            "Epoch 20/100\n",
            "11/11 - 0s - loss: 0.4797 - accuracy: 0.7641 - precision_1: 0.6946 - recall_1: 0.6738 - val_loss: 0.5273 - val_accuracy: 0.7472 - val_precision_1: 0.6192 - val_recall_1: 0.8655 - 422ms/epoch - 38ms/step\n",
            "Epoch 21/100\n",
            "11/11 - 0s - loss: 0.4727 - accuracy: 0.7710 - precision_1: 0.6910 - recall_1: 0.7161 - val_loss: 0.5099 - val_accuracy: 0.7583 - val_precision_1: 0.6598 - val_recall_1: 0.7485 - 422ms/epoch - 38ms/step\n",
            "Epoch 22/100\n",
            "11/11 - 0s - loss: 0.4675 - accuracy: 0.7727 - precision_1: 0.6977 - recall_1: 0.7064 - val_loss: 0.5058 - val_accuracy: 0.7517 - val_precision_1: 0.6667 - val_recall_1: 0.6901 - 418ms/epoch - 38ms/step\n",
            "Epoch 23/100\n",
            "11/11 - 0s - loss: 0.4628 - accuracy: 0.7730 - precision_1: 0.6972 - recall_1: 0.7090 - val_loss: 0.5229 - val_accuracy: 0.7450 - val_precision_1: 0.6207 - val_recall_1: 0.8421 - 415ms/epoch - 38ms/step\n",
            "Epoch 24/100\n",
            "11/11 - 0s - loss: 0.4729 - accuracy: 0.7626 - precision_1: 0.6821 - recall_1: 0.6999 - val_loss: 0.5039 - val_accuracy: 0.7450 - val_precision_1: 0.6609 - val_recall_1: 0.6725 - 415ms/epoch - 38ms/step\n",
            "Epoch 25/100\n",
            "11/11 - 0s - loss: 0.4587 - accuracy: 0.7717 - precision_1: 0.7071 - recall_1: 0.6790 - val_loss: 0.5366 - val_accuracy: 0.7428 - val_precision_1: 0.6122 - val_recall_1: 0.8772 - 418ms/epoch - 38ms/step\n",
            "Epoch 26/100\n",
            "11/11 - 0s - loss: 0.4582 - accuracy: 0.7754 - precision_1: 0.6964 - recall_1: 0.7227 - val_loss: 0.4973 - val_accuracy: 0.7583 - val_precision_1: 0.6890 - val_recall_1: 0.6608 - 424ms/epoch - 39ms/step\n",
            "Epoch 27/100\n",
            "11/11 - 0s - loss: 0.4484 - accuracy: 0.7796 - precision_1: 0.7119 - recall_1: 0.7031 - val_loss: 0.5023 - val_accuracy: 0.7539 - val_precision_1: 0.6351 - val_recall_1: 0.8246 - 429ms/epoch - 39ms/step\n",
            "Epoch 28/100\n",
            "11/11 - 0s - loss: 0.4471 - accuracy: 0.7769 - precision_1: 0.7039 - recall_1: 0.7103 - val_loss: 0.4951 - val_accuracy: 0.7650 - val_precision_1: 0.6970 - val_recall_1: 0.6725 - 419ms/epoch - 38ms/step\n",
            "Epoch 29/100\n",
            "11/11 - 0s - loss: 0.4439 - accuracy: 0.7801 - precision_1: 0.7090 - recall_1: 0.7122 - val_loss: 0.5229 - val_accuracy: 0.7339 - val_precision_1: 0.6094 - val_recall_1: 0.8304 - 459ms/epoch - 42ms/step\n",
            "Epoch 30/100\n",
            "11/11 - 0s - loss: 0.4534 - accuracy: 0.7821 - precision_1: 0.7111 - recall_1: 0.7161 - val_loss: 0.4902 - val_accuracy: 0.7583 - val_precision_1: 0.6703 - val_recall_1: 0.7135 - 462ms/epoch - 42ms/step\n",
            "Epoch 31/100\n",
            "11/11 - 0s - loss: 0.4375 - accuracy: 0.7855 - precision_1: 0.7193 - recall_1: 0.7122 - val_loss: 0.4899 - val_accuracy: 0.7605 - val_precision_1: 0.6649 - val_recall_1: 0.7427 - 419ms/epoch - 38ms/step\n",
            "Epoch 32/100\n",
            "11/11 - 0s - loss: 0.4363 - accuracy: 0.7910 - precision_1: 0.7146 - recall_1: 0.7467 - val_loss: 0.4906 - val_accuracy: 0.7761 - val_precision_1: 0.7108 - val_recall_1: 0.6901 - 425ms/epoch - 39ms/step\n",
            "Epoch 33/100\n",
            "11/11 - 0s - loss: 0.4281 - accuracy: 0.7932 - precision_1: 0.7299 - recall_1: 0.7214 - val_loss: 0.5381 - val_accuracy: 0.7295 - val_precision_1: 0.5976 - val_recall_1: 0.8772 - 417ms/epoch - 38ms/step\n",
            "Epoch 34/100\n",
            "11/11 - 0s - loss: 0.4346 - accuracy: 0.7907 - precision_1: 0.7174 - recall_1: 0.7389 - val_loss: 0.4920 - val_accuracy: 0.7650 - val_precision_1: 0.7181 - val_recall_1: 0.6257 - 424ms/epoch - 39ms/step\n",
            "Epoch 35/100\n",
            "11/11 - 0s - loss: 0.4321 - accuracy: 0.7907 - precision_1: 0.7228 - recall_1: 0.7266 - val_loss: 0.4974 - val_accuracy: 0.7561 - val_precision_1: 0.6432 - val_recall_1: 0.8012 - 419ms/epoch - 38ms/step\n",
            "Epoch 36/100\n",
            "11/11 - 0s - loss: 0.4266 - accuracy: 0.7880 - precision_1: 0.7063 - recall_1: 0.7546 - val_loss: 0.4955 - val_accuracy: 0.7539 - val_precision_1: 0.6429 - val_recall_1: 0.7895 - 460ms/epoch - 42ms/step\n",
            "Epoch 37/100\n",
            "11/11 - 0s - loss: 0.4312 - accuracy: 0.7917 - precision_1: 0.7215 - recall_1: 0.7337 - val_loss: 0.5284 - val_accuracy: 0.7295 - val_precision_1: 0.5939 - val_recall_1: 0.9064 - 420ms/epoch - 38ms/step\n",
            "Epoch 38/100\n",
            "11/11 - 0s - loss: 0.4122 - accuracy: 0.8100 - precision_1: 0.7316 - recall_1: 0.7878 - val_loss: 0.4939 - val_accuracy: 0.7583 - val_precision_1: 0.6649 - val_recall_1: 0.7310 - 421ms/epoch - 38ms/step\n",
            "Epoch 39/100\n",
            "11/11 - 0s - loss: 0.4276 - accuracy: 0.7957 - precision_1: 0.7323 - recall_1: 0.7266 - val_loss: 0.5078 - val_accuracy: 0.7472 - val_precision_1: 0.6213 - val_recall_1: 0.8538 - 422ms/epoch - 38ms/step\n",
            "Epoch 40/100\n",
            "11/11 - 0s - loss: 0.4019 - accuracy: 0.8102 - precision_1: 0.7435 - recall_1: 0.7624 - val_loss: 0.5228 - val_accuracy: 0.7494 - val_precision_1: 0.7339 - val_recall_1: 0.5322 - 424ms/epoch - 39ms/step\n",
            "Epoch 41/100\n",
            "11/11 - 0s - loss: 0.4109 - accuracy: 0.8127 - precision_1: 0.7508 - recall_1: 0.7572 - val_loss: 0.5186 - val_accuracy: 0.7406 - val_precision_1: 0.6125 - val_recall_1: 0.8596 - 418ms/epoch - 38ms/step\n",
            "Epoch 00041: early stopping\n"
          ]
        }
      ]
    },
    {
      "cell_type": "code",
      "source": [
        "loss, accuracy, precision, recall = model1.evaluate(X_test, y_test, verbose=0)\n",
        "print('Loss', loss)\n",
        "print('Accuracy', accuracy)\n",
        "print('Precision', precision)\n",
        "print('Recall', recall)\n",
        "\n",
        "f1_score = (2* recall*precision)/(recall+precision)\n",
        "print(\"f1_score\", f1_score)"
      ],
      "metadata": {
        "colab": {
          "base_uri": "https://localhost:8080/"
        },
        "id": "qNRWcp_mZHmy",
        "outputId": "758a8669-fa00-4f25-88c9-b403d898d35d"
      },
      "execution_count": null,
      "outputs": [
        {
          "output_type": "stream",
          "name": "stdout",
          "text": [
            "Loss 0.5072347521781921\n",
            "Accuracy 0.741563081741333\n",
            "Precision 0.6133333444595337\n",
            "Recall 0.785365879535675\n",
            "f1_score 0.6887700704432062\n"
          ]
        }
      ]
    },
    {
      "cell_type": "code",
      "source": [
        "plt.style.use('ggplot')\n",
        "\n",
        "def plot_history(history):\n",
        "    acc = history.history['accuracy']\n",
        "    val_acc = history.history['val_accuracy']\n",
        "    loss = history.history['loss']\n",
        "    val_loss = history.history['val_loss']\n",
        "    x = range(1, len(acc) + 1)\n",
        "\n",
        "    plt.figure(figsize=(12, 2))\n",
        "    plt.subplot(1, 2, 1)\n",
        "    plt.plot(x, acc, 'b', label='Training acc')\n",
        "    plt.plot(x, val_acc, 'r', label='Validation acc')\n",
        "    plt.title('Training and validation accuracy')\n",
        "    plt.legend()\n",
        "    plt.subplot(1, 2, 2)\n",
        "    plt.plot(x, loss, 'b', label='Training loss')\n",
        "    plt.plot(x, val_loss, 'r', label='Validation loss')\n",
        "    plt.title('Training and validation loss')\n",
        "    plt.legend()\n",
        "\n",
        "%matplotlib inline\n",
        "plot_history(hist1)"
      ],
      "metadata": {
        "colab": {
          "base_uri": "https://localhost:8080/",
          "height": 174
        },
        "id": "Id9qqjgeZP8f",
        "outputId": "0a4bee9a-5c00-4b87-91b5-5af0fa8c1bd7"
      },
      "execution_count": null,
      "outputs": [
        {
          "output_type": "display_data",
          "data": {
            "image/png": "[encoded data removed]",
            "text/plain": [
              "<Figure size 864x144 with 2 Axes>"
            ]
          },
          "metadata": {
            "needs_background": "light"
          }
        }
      ]
    },
    {
      "cell_type": "markdown",
      "source": [
        "### CNN-rand"
      ],
      "metadata": {
        "id": "Av99SQFva5qS"
      }
    },
    {
      "cell_type": "code",
      "source": [
        "from keras.layers import Embedding, Conv1D, MaxPooling1D, GlobalMaxPooling1D, Flatten\n",
        "from tensorflow import keras\n",
        "import tensorflow as tf \n",
        "#CNN architecture -static\n",
        "print(\"training CNN ...\")\n",
        "model2 = Sequential()\n",
        "model2.add(Embedding(vocabulary_size,EMBEDDING_DIM, input_length=maxlen, trainable=True))\n",
        "model2.add(Dropout(0.4))\n",
        "\n",
        "model2.add(Conv1D(64, 3, activation='relu', padding='same'))\n",
        "model2.add(Dropout(0.4))\n",
        "model2.add(MaxPooling1D(3))\n",
        "\n",
        "model2.add(Conv1D(64, 3, activation='relu', padding='same'))\n",
        "model2.add(Dropout(0.4))\n",
        "model2.add(MaxPooling1D(3))\n",
        "\n",
        "model2.add(Conv1D(64, 3, activation='relu', padding='same'))\n",
        "model2.add(Dropout(0.4))\n",
        "model2.add(MaxPooling1D(3))\n",
        "\n",
        "model2.add(Flatten())\n",
        "model2.add(Dropout(0.4))\n",
        "model2.add(Dense(128, activation='relu', kernel_regularizer=regularizers.l2(weight_decay)))\n",
        "model2.add(Dense(64, activation='relu', kernel_regularizer=regularizers.l2(weight_decay)))\n",
        "model2.add(Dense(1, activation='sigmoid'))\n",
        "#opt = Adam(lr=1e-3)\n",
        "#model2.compile(loss='binary_crossentropy',optimizer=opt,metrics=[\"accuracy\",keras.metrics.Precision(),keras.metrics.Recall()])\n",
        "model2.compile(loss='binary_crossentropy', optimizer='rmsprop', metrics=[\"accuracy\",keras.metrics.Precision(),keras.metrics.Recall()])\n",
        "model2.summary()"
      ],
      "metadata": {
        "colab": {
          "base_uri": "https://localhost:8080/"
        },
        "id": "Z3Og1RS1aKXc",
        "outputId": "968597ff-91dc-4958-8b96-b22e542599ec"
      },
      "execution_count": null,
      "outputs": [
        {
          "output_type": "stream",
          "name": "stdout",
          "text": [
            "training CNN ...\n",
            "Model: \"sequential_2\"\n",
            "_________________________________________________________________\n",
            " Layer (type)                Output Shape              Param #   \n",
            "=================================================================\n",
            " embedding_2 (Embedding)     (None, 183, 32)           640000    \n",
            "                                                                 \n",
            " dropout_10 (Dropout)        (None, 183, 32)           0         \n",
            "                                                                 \n",
            " conv1d_6 (Conv1D)           (None, 183, 64)           6208      \n",
            "                                                                 \n",
            " dropout_11 (Dropout)        (None, 183, 64)           0         \n",
            "                                                                 \n",
            " max_pooling1d_6 (MaxPooling  (None, 61, 64)           0         \n",
            " 1D)                                                             \n",
            "                                                                 \n",
            " conv1d_7 (Conv1D)           (None, 61, 64)            12352     \n",
            "                                                                 \n",
            " dropout_12 (Dropout)        (None, 61, 64)            0         \n",
            "                                                                 \n",
            " max_pooling1d_7 (MaxPooling  (None, 20, 64)           0         \n",
            " 1D)                                                             \n",
            "                                                                 \n",
            " conv1d_8 (Conv1D)           (None, 20, 64)            12352     \n",
            "                                                                 \n",
            " dropout_13 (Dropout)        (None, 20, 64)            0         \n",
            "                                                                 \n",
            " max_pooling1d_8 (MaxPooling  (None, 6, 64)            0         \n",
            " 1D)                                                             \n",
            "                                                                 \n",
            " flatten_2 (Flatten)         (None, 384)               0         \n",
            "                                                                 \n",
            " dropout_14 (Dropout)        (None, 384)               0         \n",
            "                                                                 \n",
            " dense_6 (Dense)             (None, 128)               49280     \n",
            "                                                                 \n",
            " dense_7 (Dense)             (None, 64)                8256      \n",
            "                                                                 \n",
            " dense_8 (Dense)             (None, 1)                 65        \n",
            "                                                                 \n",
            "=================================================================\n",
            "Total params: 728,513\n",
            "Trainable params: 728,513\n",
            "Non-trainable params: 0\n",
            "_________________________________________________________________\n"
          ]
        }
      ]
    },
    {
      "cell_type": "code",
      "source": [
        "from keras.callbacks import EarlyStopping\n",
        "#define callbacks\n",
        "early_stopping = EarlyStopping(monitor='val_loss', min_delta=0.01, patience=15, verbose=1)\n",
        "callbacks_list = [early_stopping]\n",
        "#model training\n",
        "hist2 = model2.fit(X_train, y_train, batch_size=500, epochs=150, callbacks=callbacks_list, validation_split=0.1, shuffle=True, verbose=2)"
      ],
      "metadata": {
        "colab": {
          "base_uri": "https://localhost:8080/"
        },
        "id": "Jj091LpVbNcX",
        "outputId": "924c667f-69f4-4136-d220-6e85c7e14862"
      },
      "execution_count": null,
      "outputs": [
        {
          "output_type": "stream",
          "name": "stdout",
          "text": [
            "Epoch 1/200\n",
            "9/9 - 1s - loss: 0.0276 - accuracy: 0.9857 - precision_2: 0.9868 - recall_2: 0.9753 - val_loss: 0.6160 - val_accuracy: 0.7827 - val_precision_2: 0.6995 - val_recall_2: 0.7485 - 524ms/epoch - 58ms/step\n",
            "Epoch 2/200\n",
            "9/9 - 0s - loss: 0.0261 - accuracy: 0.9849 - precision_2: 0.9842 - recall_2: 0.9759 - val_loss: 0.5723 - val_accuracy: 0.7805 - val_precision_2: 0.6895 - val_recall_2: 0.7661 - 407ms/epoch - 45ms/step\n",
            "Epoch 3/200\n",
            "9/9 - 0s - loss: 0.0257 - accuracy: 0.9849 - precision_2: 0.9874 - recall_2: 0.9727 - val_loss: 0.5655 - val_accuracy: 0.7627 - val_precision_2: 0.7025 - val_recall_2: 0.6491 - 330ms/epoch - 37ms/step\n",
            "Epoch 4/200\n",
            "9/9 - 0s - loss: 0.0264 - accuracy: 0.9845 - precision_2: 0.9874 - recall_2: 0.9714 - val_loss: 0.7162 - val_accuracy: 0.7805 - val_precision_2: 0.6915 - val_recall_2: 0.7602 - 310ms/epoch - 34ms/step\n",
            "Epoch 5/200\n",
            "9/9 - 0s - loss: 0.0267 - accuracy: 0.9852 - precision_2: 0.9862 - recall_2: 0.9746 - val_loss: 0.8407 - val_accuracy: 0.7517 - val_precision_2: 0.6398 - val_recall_2: 0.7895 - 320ms/epoch - 36ms/step\n",
            "Epoch 6/200\n",
            "9/9 - 0s - loss: 0.0274 - accuracy: 0.9842 - precision_2: 0.9779 - recall_2: 0.9805 - val_loss: 0.7213 - val_accuracy: 0.7805 - val_precision_2: 0.6915 - val_recall_2: 0.7602 - 321ms/epoch - 36ms/step\n",
            "Epoch 7/200\n",
            "9/9 - 0s - loss: 0.0256 - accuracy: 0.9872 - precision_2: 0.9818 - recall_2: 0.9844 - val_loss: 0.7395 - val_accuracy: 0.7871 - val_precision_2: 0.7049 - val_recall_2: 0.7544 - 318ms/epoch - 35ms/step\n",
            "Epoch 8/200\n",
            "9/9 - 0s - loss: 0.0267 - accuracy: 0.9832 - precision_2: 0.9791 - recall_2: 0.9766 - val_loss: 0.5835 - val_accuracy: 0.7561 - val_precision_2: 0.6473 - val_recall_2: 0.7836 - 318ms/epoch - 35ms/step\n",
            "Epoch 9/200\n",
            "9/9 - 0s - loss: 0.0271 - accuracy: 0.9849 - precision_2: 0.9836 - recall_2: 0.9766 - val_loss: 0.5884 - val_accuracy: 0.7849 - val_precision_2: 0.7011 - val_recall_2: 0.7544 - 316ms/epoch - 35ms/step\n",
            "Epoch 10/200\n",
            "9/9 - 0s - loss: 0.0259 - accuracy: 0.9849 - precision_2: 0.9862 - recall_2: 0.9740 - val_loss: 0.5783 - val_accuracy: 0.7827 - val_precision_2: 0.7039 - val_recall_2: 0.7368 - 310ms/epoch - 34ms/step\n",
            "Epoch 11/200\n",
            "9/9 - 0s - loss: 0.0263 - accuracy: 0.9845 - precision_2: 0.9855 - recall_2: 0.9733 - val_loss: 0.5977 - val_accuracy: 0.7849 - val_precision_2: 0.7056 - val_recall_2: 0.7427 - 315ms/epoch - 35ms/step\n",
            "Epoch 12/200\n",
            "9/9 - 0s - loss: 0.0267 - accuracy: 0.9852 - precision_2: 0.9855 - recall_2: 0.9753 - val_loss: 0.6197 - val_accuracy: 0.7805 - val_precision_2: 0.7069 - val_recall_2: 0.7193 - 325ms/epoch - 36ms/step\n",
            "Epoch 13/200\n",
            "9/9 - 0s - loss: 0.0257 - accuracy: 0.9842 - precision_2: 0.9855 - recall_2: 0.9727 - val_loss: 0.6825 - val_accuracy: 0.7849 - val_precision_2: 0.7056 - val_recall_2: 0.7427 - 313ms/epoch - 35ms/step\n",
            "Epoch 14/200\n",
            "9/9 - 0s - loss: 0.0268 - accuracy: 0.9837 - precision_2: 0.9842 - recall_2: 0.9727 - val_loss: 0.7016 - val_accuracy: 0.7805 - val_precision_2: 0.6875 - val_recall_2: 0.7719 - 316ms/epoch - 35ms/step\n",
            "Epoch 15/200\n",
            "9/9 - 0s - loss: 0.0275 - accuracy: 0.9847 - precision_2: 0.9842 - recall_2: 0.9753 - val_loss: 0.7301 - val_accuracy: 0.7849 - val_precision_2: 0.7102 - val_recall_2: 0.7310 - 316ms/epoch - 35ms/step\n",
            "Epoch 16/200\n",
            "9/9 - 0s - loss: 0.0264 - accuracy: 0.9845 - precision_2: 0.9849 - recall_2: 0.9740 - val_loss: 0.6616 - val_accuracy: 0.7916 - val_precision_2: 0.7151 - val_recall_2: 0.7485 - 311ms/epoch - 35ms/step\n",
            "Epoch 17/200\n",
            "9/9 - 0s - loss: 0.0267 - accuracy: 0.9845 - precision_2: 0.9868 - recall_2: 0.9720 - val_loss: 0.6483 - val_accuracy: 0.7894 - val_precision_2: 0.7135 - val_recall_2: 0.7427 - 306ms/epoch - 34ms/step\n",
            "Epoch 00017: early stopping\n"
          ]
        }
      ]
    },
    {
      "cell_type": "code",
      "source": [
        "loss, accuracy, precision, recall = model2.evaluate(X_test, y_test, verbose=0)\n",
        "print('Loss', loss)\n",
        "print('Accuracy', accuracy)\n",
        "print('Precision', precision)\n",
        "print('Recall', recall)\n",
        "\n",
        "f1_score = (2* recall*precision)/(recall+precision)\n",
        "print(\"f1_score\", f1_score)"
      ],
      "metadata": {
        "colab": {
          "base_uri": "https://localhost:8080/"
        },
        "id": "vWw0nCRWbUWO",
        "outputId": "92ab3906-15df-4918-e7a8-7e6672cd9fbe"
      },
      "execution_count": null,
      "outputs": [
        {
          "output_type": "stream",
          "name": "stdout",
          "text": [
            "Loss 0.6503796577453613\n",
            "Accuracy 0.7895204424858093\n",
            "Precision 0.7258485555648804\n",
            "Recall 0.6780487895011902\n",
            "f1_score 0.7011349315412977\n"
          ]
        }
      ]
    },
    {
      "cell_type": "code",
      "source": [
        "plt.style.use('ggplot')\n",
        "\n",
        "def plot_history(history):\n",
        "    acc = history.history['accuracy']\n",
        "    val_acc = history.history['val_accuracy']\n",
        "    loss = history.history['loss']\n",
        "    val_loss = history.history['val_loss']\n",
        "    x = range(1, len(acc) + 1)\n",
        "\n",
        "    plt.figure(figsize=(12, 2))\n",
        "    plt.subplot(1, 2, 1)\n",
        "    plt.plot(x, acc, 'b', label='Training acc')\n",
        "    plt.plot(x, val_acc, 'r', label='Validation acc')\n",
        "    plt.title('Training and validation accuracy')\n",
        "    plt.legend()\n",
        "    plt.subplot(1, 2, 2)\n",
        "    plt.plot(x, loss, 'b', label='Training loss')\n",
        "    plt.plot(x, val_loss, 'r', label='Validation loss')\n",
        "    plt.title('Training and validation loss')\n",
        "    plt.legend()\n",
        "\n",
        "%matplotlib inline\n",
        "plot_history(hist2)"
      ],
      "metadata": {
        "colab": {
          "base_uri": "https://localhost:8080/",
          "height": 174
        },
        "id": "wqFHjhlgcH7u",
        "outputId": "b18d1900-7784-43ab-c401-9162e29d40b7"
      },
      "execution_count": null,
      "outputs": [
        {
          "output_type": "display_data",
          "data": {
            "image/png": "[encoded data removed]",
            "text/plain": [
              "<Figure size 864x144 with 2 Axes>"
            ]
          },
          "metadata": {
            "needs_background": "light"
          }
        }
      ]
    },
    {
      "cell_type": "markdown",
      "source": [
        "### MultiChannel"
      ],
      "metadata": {
        "id": "6qUB4MlQcK4S"
      }
    },
    {
      "cell_type": "code",
      "source": [
        "import tensorflow as tf \n",
        "from pickle import load\n",
        "from numpy import array\n",
        "from keras.preprocessing.text import Tokenizer\n",
        "from keras.preprocessing.sequence import pad_sequences\n",
        "from keras.utils.vis_utils import plot_model\n",
        "from keras.models import Model\n",
        "from keras.layers import Input\n",
        "from keras.layers import Dense\n",
        "from keras.layers import Flatten\n",
        "from keras.layers import Dropout\n",
        "from keras.layers import Embedding, GlobalMaxPooling1D\n",
        "from keras.layers.convolutional import Conv1D\n",
        "from keras.layers.convolutional import MaxPooling1D\n",
        "from keras.layers.merge import concatenate\n",
        "\n",
        "from tensorflow import keras\n",
        "import tensorflow as tf \n"
      ],
      "metadata": {
        "id": "ptyPDJSacKCn"
      },
      "execution_count": null,
      "outputs": []
    },
    {
      "cell_type": "code",
      "source": [
        "from keras.layers import Input\n",
        "\n",
        "inputs1 = Input(shape=(maxlen,))\n",
        "\n",
        "# channel 1\n",
        "embedding1 = Embedding(vocabulary_size, 32, weights=[embedding_matrix],trainable = True)(inputs1)\n",
        "\n",
        "drop = Dropout(0.2)(embedding1)\n",
        "\n",
        "conv1 = Conv1D(filters=64, kernel_size=3, activation='relu')(drop)\n",
        "drop1 = Dropout(0.2)(conv1)\n",
        "pool1 = MaxPooling1D(pool_size=3)(drop1)\n",
        "\n",
        "conv1 = Conv1D(filters=64, kernel_size=3, activation='relu')(pool1)\n",
        "drop1 = Dropout(0.2)(conv1)\n",
        "pool1 = MaxPooling1D(pool_size=3)(drop1)\n",
        "\n",
        "conv1 = Conv1D(filters=64, kernel_size=3, activation='relu')(pool1)\n",
        "drop1 = Dropout(0.2)(conv1)\n",
        "pool1 = MaxPooling1D(pool_size=3)(drop1)\n",
        "flat1 = Flatten()(pool1)"
      ],
      "metadata": {
        "id": "kkvNkYGjf5jo"
      },
      "execution_count": null,
      "outputs": []
    },
    {
      "cell_type": "code",
      "source": [
        "from keras.layers import Input\n",
        "\n",
        "# channel 2\n",
        "embedding2 = Embedding(vocabulary_size, 32, weights=[embedding_matrix],trainable = False)(inputs1)\n",
        "\n",
        "drop = Dropout(0.2)(embedding2)\n",
        "\n",
        "conv2 = Conv1D(filters=64, kernel_size=3, activation='relu')(drop)\n",
        "drop2 = Dropout(0.2)(conv2)\n",
        "pool2 = MaxPooling1D(pool_size=3)(drop2)\n",
        "\n",
        "conv2 = Conv1D(filters=64, kernel_size=3, activation='relu')(pool2)\n",
        "drop2 = Dropout(0.2)(conv2)\n",
        "pool2 = MaxPooling1D(pool_size=3)(drop2)\n",
        "\n",
        "conv2 = Conv1D(filters=64, kernel_size=3, activation='relu')(pool2)\n",
        "drop2 = Dropout(0.2)(conv2)\n",
        "pool2 = MaxPooling1D(pool_size=3)(drop2)\n",
        "flat2 = Flatten()(pool2)"
      ],
      "metadata": {
        "id": "UXvZlWjSgGw9"
      },
      "execution_count": null,
      "outputs": []
    },
    {
      "cell_type": "code",
      "source": [
        "merged = concatenate([flat1, flat2])\n",
        "\n",
        "# interpretation\n",
        "drop2 = Dropout(0.2)(merged)\n",
        "dense1 = Dense(128, activation='relu',kernel_regularizer=regularizers.l2(weight_decay))(drop2)\n",
        "dense2 = Dense(64, activation='relu',kernel_regularizer=regularizers.l2(weight_decay))(dense1)\n",
        "outputs = Dense(1, activation='sigmoid')(dense2)\n",
        "\n",
        "model3 = Model(inputs=inputs1, outputs=outputs)\n",
        "\n",
        "# compile\n",
        "model3.compile(loss='binary_crossentropy', optimizer='rmsprop', metrics=[\"accuracy\",keras.metrics.Precision(),keras.metrics.Recall()])\n",
        "# summarize\n",
        "print(model3.summary())\n",
        "\n",
        "#plot_model(model, show_shapes=True, to_file='multichannel.png')"
      ],
      "metadata": {
        "colab": {
          "base_uri": "https://localhost:8080/"
        },
        "id": "jIs6zmMogRtw",
        "outputId": "3d0e9243-8684-4432-9fdd-60f0b640f806"
      },
      "execution_count": null,
      "outputs": [
        {
          "output_type": "stream",
          "name": "stdout",
          "text": [
            "Model: \"model\"\n",
            "__________________________________________________________________________________________________\n",
            " Layer (type)                   Output Shape         Param #     Connected to                     \n",
            "==================================================================================================\n",
            " input_1 (InputLayer)           [(None, 183)]        0           []                               \n",
            "                                                                                                  \n",
            " embedding_3 (Embedding)        (None, 183, 32)      640000      ['input_1[0][0]']                \n",
            "                                                                                                  \n",
            " embedding_4 (Embedding)        (None, 183, 32)      640000      ['input_1[0][0]']                \n",
            "                                                                                                  \n",
            " dropout_15 (Dropout)           (None, 183, 32)      0           ['embedding_3[0][0]']            \n",
            "                                                                                                  \n",
            " dropout_19 (Dropout)           (None, 183, 32)      0           ['embedding_4[0][0]']            \n",
            "                                                                                                  \n",
            " conv1d_9 (Conv1D)              (None, 181, 64)      6208        ['dropout_15[0][0]']             \n",
            "                                                                                                  \n",
            " conv1d_12 (Conv1D)             (None, 181, 64)      6208        ['dropout_19[0][0]']             \n",
            "                                                                                                  \n",
            " dropout_16 (Dropout)           (None, 181, 64)      0           ['conv1d_9[0][0]']               \n",
            "                                                                                                  \n",
            " dropout_20 (Dropout)           (None, 181, 64)      0           ['conv1d_12[0][0]']              \n",
            "                                                                                                  \n",
            " max_pooling1d_9 (MaxPooling1D)  (None, 60, 64)      0           ['dropout_16[0][0]']             \n",
            "                                                                                                  \n",
            " max_pooling1d_12 (MaxPooling1D  (None, 60, 64)      0           ['dropout_20[0][0]']             \n",
            " )                                                                                                \n",
            "                                                                                                  \n",
            " conv1d_10 (Conv1D)             (None, 58, 64)       12352       ['max_pooling1d_9[0][0]']        \n",
            "                                                                                                  \n",
            " conv1d_13 (Conv1D)             (None, 58, 64)       12352       ['max_pooling1d_12[0][0]']       \n",
            "                                                                                                  \n",
            " dropout_17 (Dropout)           (None, 58, 64)       0           ['conv1d_10[0][0]']              \n",
            "                                                                                                  \n",
            " dropout_21 (Dropout)           (None, 58, 64)       0           ['conv1d_13[0][0]']              \n",
            "                                                                                                  \n",
            " max_pooling1d_10 (MaxPooling1D  (None, 19, 64)      0           ['dropout_17[0][0]']             \n",
            " )                                                                                                \n",
            "                                                                                                  \n",
            " max_pooling1d_13 (MaxPooling1D  (None, 19, 64)      0           ['dropout_21[0][0]']             \n",
            " )                                                                                                \n",
            "                                                                                                  \n",
            " conv1d_11 (Conv1D)             (None, 17, 64)       12352       ['max_pooling1d_10[0][0]']       \n",
            "                                                                                                  \n",
            " conv1d_14 (Conv1D)             (None, 17, 64)       12352       ['max_pooling1d_13[0][0]']       \n",
            "                                                                                                  \n",
            " dropout_18 (Dropout)           (None, 17, 64)       0           ['conv1d_11[0][0]']              \n",
            "                                                                                                  \n",
            " dropout_22 (Dropout)           (None, 17, 64)       0           ['conv1d_14[0][0]']              \n",
            "                                                                                                  \n",
            " max_pooling1d_11 (MaxPooling1D  (None, 5, 64)       0           ['dropout_18[0][0]']             \n",
            " )                                                                                                \n",
            "                                                                                                  \n",
            " max_pooling1d_14 (MaxPooling1D  (None, 5, 64)       0           ['dropout_22[0][0]']             \n",
            " )                                                                                                \n",
            "                                                                                                  \n",
            " flatten_3 (Flatten)            (None, 320)          0           ['max_pooling1d_11[0][0]']       \n",
            "                                                                                                  \n",
            " flatten_4 (Flatten)            (None, 320)          0           ['max_pooling1d_14[0][0]']       \n",
            "                                                                                                  \n",
            " concatenate (Concatenate)      (None, 640)          0           ['flatten_3[0][0]',              \n",
            "                                                                  'flatten_4[0][0]']              \n",
            "                                                                                                  \n",
            " dropout_23 (Dropout)           (None, 640)          0           ['concatenate[0][0]']            \n",
            "                                                                                                  \n",
            " dense_9 (Dense)                (None, 128)          82048       ['dropout_23[0][0]']             \n",
            "                                                                                                  \n",
            " dense_10 (Dense)               (None, 64)           8256        ['dense_9[0][0]']                \n",
            "                                                                                                  \n",
            " dense_11 (Dense)               (None, 1)            65          ['dense_10[0][0]']               \n",
            "                                                                                                  \n",
            "==================================================================================================\n",
            "Total params: 1,432,193\n",
            "Trainable params: 792,193\n",
            "Non-trainable params: 640,000\n",
            "__________________________________________________________________________________________________\n",
            "None\n"
          ]
        }
      ]
    },
    {
      "cell_type": "code",
      "source": [
        "from keras.callbacks import EarlyStopping\n",
        "#define callbacks\n",
        "early_stopping = EarlyStopping(monitor='val_loss', min_delta=0.01, patience=15, verbose=1)\n",
        "callbacks_list = [early_stopping]\n",
        "#model training\n",
        "hist3 = model3.fit(X_train, y_train, batch_size=batch_size, epochs=100, callbacks=callbacks_list, validation_split=0.1, shuffle=True, verbose=2)"
      ],
      "metadata": {
        "colab": {
          "base_uri": "https://localhost:8080/"
        },
        "id": "vKqzYELigbJg",
        "outputId": "40f325d6-43cb-488c-dcaa-a8faf67d07fc"
      },
      "execution_count": null,
      "outputs": [
        {
          "output_type": "stream",
          "name": "stdout",
          "text": [
            "Epoch 1/100\n",
            "11/11 - 5s - loss: 6.5371 - accuracy: 0.5943 - precision_3: 0.4094 - recall_3: 0.1589 - val_loss: 5.0879 - val_accuracy: 0.6253 - val_precision_3: 0.6000 - val_recall_3: 0.0351 - 5s/epoch - 449ms/step\n",
            "Epoch 2/100\n",
            "11/11 - 1s - loss: 4.4835 - accuracy: 0.6683 - precision_3: 0.6034 - recall_3: 0.3646 - val_loss: 3.7282 - val_accuracy: 0.7339 - val_precision_3: 0.6076 - val_recall_3: 0.8421 - 501ms/epoch - 46ms/step\n",
            "Epoch 3/100\n",
            "11/11 - 1s - loss: 3.2909 - accuracy: 0.7125 - precision_3: 0.6287 - recall_3: 0.5898 - val_loss: 2.7511 - val_accuracy: 0.6984 - val_precision_3: 0.5888 - val_recall_3: 0.6784 - 503ms/epoch - 46ms/step\n",
            "Epoch 4/100\n",
            "11/11 - 1s - loss: 2.4568 - accuracy: 0.7080 - precision_3: 0.6074 - recall_3: 0.6497 - val_loss: 2.0947 - val_accuracy: 0.7251 - val_precision_3: 0.5944 - val_recall_3: 0.8655 - 514ms/epoch - 47ms/step\n",
            "Epoch 5/100\n",
            "11/11 - 0s - loss: 1.8648 - accuracy: 0.7125 - precision_3: 0.6128 - recall_3: 0.6562 - val_loss: 1.5913 - val_accuracy: 0.7184 - val_precision_3: 0.5982 - val_recall_3: 0.7836 - 495ms/epoch - 45ms/step\n",
            "Epoch 6/100\n",
            "11/11 - 1s - loss: 1.4332 - accuracy: 0.7280 - precision_3: 0.6306 - recall_3: 0.6823 - val_loss: 1.3308 - val_accuracy: 0.6807 - val_precision_3: 0.5449 - val_recall_3: 0.9591 - 501ms/epoch - 46ms/step\n",
            "Epoch 7/100\n",
            "11/11 - 1s - loss: 1.1572 - accuracy: 0.7270 - precision_3: 0.6229 - recall_3: 0.7096 - val_loss: 1.0328 - val_accuracy: 0.7273 - val_precision_3: 0.6121 - val_recall_3: 0.7661 - 643ms/epoch - 58ms/step\n",
            "Epoch 8/100\n",
            "11/11 - 1s - loss: 0.9484 - accuracy: 0.7372 - precision_3: 0.6447 - recall_3: 0.6829 - val_loss: 0.8724 - val_accuracy: 0.7206 - val_precision_3: 0.6471 - val_recall_3: 0.5789 - 700ms/epoch - 64ms/step\n",
            "Epoch 9/100\n",
            "11/11 - 1s - loss: 0.8182 - accuracy: 0.7448 - precision_3: 0.6544 - recall_3: 0.6927 - val_loss: 0.7714 - val_accuracy: 0.7251 - val_precision_3: 0.6691 - val_recall_3: 0.5439 - 552ms/epoch - 50ms/step\n",
            "Epoch 10/100\n",
            "11/11 - 0s - loss: 0.7250 - accuracy: 0.7515 - precision_3: 0.6594 - recall_3: 0.7122 - val_loss: 0.7087 - val_accuracy: 0.7339 - val_precision_3: 0.6889 - val_recall_3: 0.5439 - 498ms/epoch - 45ms/step\n",
            "Epoch 11/100\n",
            "11/11 - 1s - loss: 0.6522 - accuracy: 0.7539 - precision_3: 0.6696 - recall_3: 0.6927 - val_loss: 0.6316 - val_accuracy: 0.7450 - val_precision_3: 0.6556 - val_recall_3: 0.6901 - 503ms/epoch - 46ms/step\n",
            "Epoch 12/100\n",
            "11/11 - 1s - loss: 0.6006 - accuracy: 0.7646 - precision_3: 0.6870 - recall_3: 0.6960 - val_loss: 0.5989 - val_accuracy: 0.7295 - val_precision_3: 0.6140 - val_recall_3: 0.7719 - 543ms/epoch - 49ms/step\n",
            "Epoch 13/100\n",
            "11/11 - 1s - loss: 0.5570 - accuracy: 0.7685 - precision_3: 0.6853 - recall_3: 0.7201 - val_loss: 0.5956 - val_accuracy: 0.7295 - val_precision_3: 0.5984 - val_recall_3: 0.8713 - 500ms/epoch - 45ms/step\n",
            "Epoch 14/100\n",
            "11/11 - 1s - loss: 0.5274 - accuracy: 0.7747 - precision_3: 0.6901 - recall_3: 0.7363 - val_loss: 0.5485 - val_accuracy: 0.7472 - val_precision_3: 0.6256 - val_recall_3: 0.8304 - 539ms/epoch - 49ms/step\n",
            "Epoch 15/100\n",
            "11/11 - 1s - loss: 0.5095 - accuracy: 0.7776 - precision_3: 0.6973 - recall_3: 0.7305 - val_loss: 0.5183 - val_accuracy: 0.7494 - val_precision_3: 0.6576 - val_recall_3: 0.7076 - 506ms/epoch - 46ms/step\n",
            "Epoch 16/100\n",
            "11/11 - 0s - loss: 0.4949 - accuracy: 0.7754 - precision_3: 0.6954 - recall_3: 0.7253 - val_loss: 0.5989 - val_accuracy: 0.7251 - val_precision_3: 0.5874 - val_recall_3: 0.9240 - 493ms/epoch - 45ms/step\n",
            "Epoch 17/100\n",
            "11/11 - 0s - loss: 0.4803 - accuracy: 0.7865 - precision_3: 0.7047 - recall_3: 0.7520 - val_loss: 0.5046 - val_accuracy: 0.7605 - val_precision_3: 0.7006 - val_recall_3: 0.6433 - 499ms/epoch - 45ms/step\n",
            "Epoch 18/100\n",
            "11/11 - 0s - loss: 0.4587 - accuracy: 0.7991 - precision_3: 0.7350 - recall_3: 0.7350 - val_loss: 0.5118 - val_accuracy: 0.7406 - val_precision_3: 0.7500 - val_recall_3: 0.4737 - 495ms/epoch - 45ms/step\n",
            "Epoch 19/100\n",
            "11/11 - 1s - loss: 0.4633 - accuracy: 0.7883 - precision_3: 0.7219 - recall_3: 0.7181 - val_loss: 0.5615 - val_accuracy: 0.7361 - val_precision_3: 0.6024 - val_recall_3: 0.8947 - 502ms/epoch - 46ms/step\n",
            "Epoch 20/100\n",
            "11/11 - 1s - loss: 0.4438 - accuracy: 0.8100 - precision_3: 0.7424 - recall_3: 0.7637 - val_loss: 0.5175 - val_accuracy: 0.7494 - val_precision_3: 0.6381 - val_recall_3: 0.7836 - 541ms/epoch - 49ms/step\n",
            "Epoch 21/100\n",
            "11/11 - 1s - loss: 0.4237 - accuracy: 0.8228 - precision_3: 0.7579 - recall_3: 0.7826 - val_loss: 0.4919 - val_accuracy: 0.7849 - val_precision_3: 0.7467 - val_recall_3: 0.6550 - 541ms/epoch - 49ms/step\n",
            "Epoch 22/100\n",
            "11/11 - 0s - loss: 0.4313 - accuracy: 0.8095 - precision_3: 0.7533 - recall_3: 0.7396 - val_loss: 0.5284 - val_accuracy: 0.7406 - val_precision_3: 0.6107 - val_recall_3: 0.8713 - 494ms/epoch - 45ms/step\n",
            "Epoch 23/100\n",
            "11/11 - 1s - loss: 0.4228 - accuracy: 0.8189 - precision_3: 0.7535 - recall_3: 0.7760 - val_loss: 0.5398 - val_accuracy: 0.7450 - val_precision_3: 0.6138 - val_recall_3: 0.8830 - 502ms/epoch - 46ms/step\n",
            "Epoch 24/100\n",
            "11/11 - 0s - loss: 0.4116 - accuracy: 0.8272 - precision_3: 0.7679 - recall_3: 0.7799 - val_loss: 0.4957 - val_accuracy: 0.7627 - val_precision_3: 0.6667 - val_recall_3: 0.7485 - 497ms/epoch - 45ms/step\n",
            "Epoch 25/100\n",
            "11/11 - 0s - loss: 0.4093 - accuracy: 0.8292 - precision_3: 0.7762 - recall_3: 0.7721 - val_loss: 0.5535 - val_accuracy: 0.7361 - val_precision_3: 0.6016 - val_recall_3: 0.9006 - 494ms/epoch - 45ms/step\n",
            "Epoch 26/100\n",
            "11/11 - 1s - loss: 0.4015 - accuracy: 0.8349 - precision_3: 0.7742 - recall_3: 0.7969 - val_loss: 0.4815 - val_accuracy: 0.7694 - val_precision_3: 0.6811 - val_recall_3: 0.7368 - 536ms/epoch - 49ms/step\n",
            "Epoch 27/100\n",
            "11/11 - 1s - loss: 0.3812 - accuracy: 0.8398 - precision_3: 0.7908 - recall_3: 0.7852 - val_loss: 0.4753 - val_accuracy: 0.7805 - val_precision_3: 0.7118 - val_recall_3: 0.7076 - 535ms/epoch - 49ms/step\n",
            "Epoch 28/100\n",
            "11/11 - 0s - loss: 0.3846 - accuracy: 0.8421 - precision_3: 0.7943 - recall_3: 0.7871 - val_loss: 0.4793 - val_accuracy: 0.7960 - val_precision_3: 0.7687 - val_recall_3: 0.6608 - 488ms/epoch - 44ms/step\n",
            "Epoch 29/100\n",
            "11/11 - 0s - loss: 0.3759 - accuracy: 0.8443 - precision_3: 0.7929 - recall_3: 0.7975 - val_loss: 0.4769 - val_accuracy: 0.7783 - val_precision_3: 0.6983 - val_recall_3: 0.7310 - 491ms/epoch - 45ms/step\n",
            "Epoch 30/100\n",
            "11/11 - 0s - loss: 0.3696 - accuracy: 0.8517 - precision_3: 0.8070 - recall_3: 0.8001 - val_loss: 0.5479 - val_accuracy: 0.7539 - val_precision_3: 0.6250 - val_recall_3: 0.8772 - 499ms/epoch - 45ms/step\n",
            "Epoch 31/100\n",
            "11/11 - 0s - loss: 0.3630 - accuracy: 0.8591 - precision_3: 0.8143 - recall_3: 0.8138 - val_loss: 0.4834 - val_accuracy: 0.7894 - val_precision_3: 0.7533 - val_recall_3: 0.6608 - 490ms/epoch - 45ms/step\n",
            "Epoch 32/100\n",
            "11/11 - 1s - loss: 0.3504 - accuracy: 0.8611 - precision_3: 0.8194 - recall_3: 0.8125 - val_loss: 0.6018 - val_accuracy: 0.7073 - val_precision_3: 0.8545 - val_recall_3: 0.2749 - 539ms/epoch - 49ms/step\n",
            "Epoch 33/100\n",
            "11/11 - 0s - loss: 0.3599 - accuracy: 0.8613 - precision_3: 0.8349 - recall_3: 0.7904 - val_loss: 0.4748 - val_accuracy: 0.7960 - val_precision_3: 0.7423 - val_recall_3: 0.7076 - 493ms/epoch - 45ms/step\n",
            "Epoch 34/100\n",
            "11/11 - 0s - loss: 0.3420 - accuracy: 0.8697 - precision_3: 0.8378 - recall_3: 0.8138 - val_loss: 0.4710 - val_accuracy: 0.7938 - val_precision_3: 0.7532 - val_recall_3: 0.6784 - 499ms/epoch - 45ms/step\n",
            "Epoch 35/100\n",
            "11/11 - 1s - loss: 0.3355 - accuracy: 0.8694 - precision_3: 0.8372 - recall_3: 0.8138 - val_loss: 0.4845 - val_accuracy: 0.7938 - val_precision_3: 0.7600 - val_recall_3: 0.6667 - 502ms/epoch - 46ms/step\n",
            "Epoch 36/100\n",
            "11/11 - 1s - loss: 0.3079 - accuracy: 0.8810 - precision_3: 0.8449 - recall_3: 0.8405 - val_loss: 0.5719 - val_accuracy: 0.7273 - val_precision_3: 0.5938 - val_recall_3: 0.8889 - 539ms/epoch - 49ms/step\n",
            "Epoch 37/100\n",
            "11/11 - 1s - loss: 0.3050 - accuracy: 0.8870 - precision_3: 0.8420 - recall_3: 0.8639 - val_loss: 0.4892 - val_accuracy: 0.7938 - val_precision_3: 0.7500 - val_recall_3: 0.6842 - 502ms/epoch - 46ms/step\n",
            "Epoch 38/100\n",
            "11/11 - 0s - loss: 0.3052 - accuracy: 0.8852 - precision_3: 0.8553 - recall_3: 0.8392 - val_loss: 0.4831 - val_accuracy: 0.7916 - val_precision_3: 0.7037 - val_recall_3: 0.7778 - 498ms/epoch - 45ms/step\n",
            "Epoch 39/100\n",
            "11/11 - 0s - loss: 0.2866 - accuracy: 0.8949 - precision_3: 0.8576 - recall_3: 0.8665 - val_loss: 0.5060 - val_accuracy: 0.7517 - val_precision_3: 0.7757 - val_recall_3: 0.4854 - 491ms/epoch - 45ms/step\n",
            "Epoch 40/100\n",
            "11/11 - 1s - loss: 0.2942 - accuracy: 0.8924 - precision_3: 0.8681 - recall_3: 0.8444 - val_loss: 0.5033 - val_accuracy: 0.7694 - val_precision_3: 0.7680 - val_recall_3: 0.5614 - 500ms/epoch - 45ms/step\n",
            "Epoch 41/100\n",
            "11/11 - 1s - loss: 0.2872 - accuracy: 0.8931 - precision_3: 0.8679 - recall_3: 0.8470 - val_loss: 0.4953 - val_accuracy: 0.7827 - val_precision_3: 0.7589 - val_recall_3: 0.6257 - 653ms/epoch - 59ms/step\n",
            "Epoch 42/100\n",
            "11/11 - 1s - loss: 0.2725 - accuracy: 0.9018 - precision_3: 0.8734 - recall_3: 0.8665 - val_loss: 0.6152 - val_accuracy: 0.7273 - val_precision_3: 0.5945 - val_recall_3: 0.8830 - 644ms/epoch - 59ms/step\n",
            "Epoch 43/100\n",
            "11/11 - 1s - loss: 0.2852 - accuracy: 0.9005 - precision_3: 0.8606 - recall_3: 0.8802 - val_loss: 0.4777 - val_accuracy: 0.8027 - val_precision_3: 0.7330 - val_recall_3: 0.7544 - 651ms/epoch - 59ms/step\n",
            "Epoch 44/100\n",
            "11/11 - 1s - loss: 0.2585 - accuracy: 0.9087 - precision_3: 0.8791 - recall_3: 0.8802 - val_loss: 0.4841 - val_accuracy: 0.7960 - val_precision_3: 0.7207 - val_recall_3: 0.7544 - 645ms/epoch - 59ms/step\n",
            "Epoch 45/100\n",
            "11/11 - 1s - loss: 0.2592 - accuracy: 0.9033 - precision_3: 0.8748 - recall_3: 0.8691 - val_loss: 0.4742 - val_accuracy: 0.7960 - val_precision_3: 0.7365 - val_recall_3: 0.7193 - 519ms/epoch - 47ms/step\n",
            "Epoch 46/100\n",
            "11/11 - 0s - loss: 0.2588 - accuracy: 0.9077 - precision_3: 0.8807 - recall_3: 0.8750 - val_loss: 0.4813 - val_accuracy: 0.8004 - val_precision_3: 0.7288 - val_recall_3: 0.7544 - 495ms/epoch - 45ms/step\n",
            "Epoch 47/100\n",
            "11/11 - 0s - loss: 0.2450 - accuracy: 0.9129 - precision_3: 0.8904 - recall_3: 0.8783 - val_loss: 0.5247 - val_accuracy: 0.7494 - val_precision_3: 0.7636 - val_recall_3: 0.4912 - 499ms/epoch - 45ms/step\n",
            "Epoch 48/100\n",
            "11/11 - 0s - loss: 0.2357 - accuracy: 0.9213 - precision_3: 0.9154 - recall_3: 0.8730 - val_loss: 0.4895 - val_accuracy: 0.7827 - val_precision_3: 0.7355 - val_recall_3: 0.6667 - 493ms/epoch - 45ms/step\n",
            "Epoch 49/100\n",
            "11/11 - 0s - loss: 0.2386 - accuracy: 0.9166 - precision_3: 0.8925 - recall_3: 0.8867 - val_loss: 0.4940 - val_accuracy: 0.7894 - val_precision_3: 0.7375 - val_recall_3: 0.6901 - 499ms/epoch - 45ms/step\n",
            "Epoch 00049: early stopping\n"
          ]
        }
      ]
    },
    {
      "cell_type": "code",
      "source": [
        "loss, accuracy, precision, recall = model3.evaluate(X_test, y_test, verbose=0)\n",
        "print('Loss', loss)\n",
        "print('Accuracy', accuracy)\n",
        "print('Precision', precision)\n",
        "print('Recall', recall)\n",
        "\n",
        "f1_score = (2* recall*precision)/(recall+precision)\n",
        "print(\"f1_score\", f1_score)"
      ],
      "metadata": {
        "colab": {
          "base_uri": "https://localhost:8080/"
        },
        "id": "g6uUkHabgnRK",
        "outputId": "7db8a1ca-06ff-4d3a-d90a-f7f8a1da5a49"
      },
      "execution_count": null,
      "outputs": [
        {
          "output_type": "stream",
          "name": "stdout",
          "text": [
            "Loss 0.534087061882019\n",
            "Accuracy 0.7637655138969421\n",
            "Precision 0.751748263835907\n",
            "Recall 0.5243902206420898\n",
            "f1_score 0.6178160798927245\n"
          ]
        }
      ]
    },
    {
      "cell_type": "code",
      "source": [
        "plt.style.use('ggplot')\n",
        "\n",
        "def plot_history(history):\n",
        "    acc = history.history['accuracy']\n",
        "    val_acc = history.history['val_accuracy']\n",
        "    loss = history.history['loss']\n",
        "    val_loss = history.history['val_loss']\n",
        "    x = range(1, len(acc) + 1)\n",
        "\n",
        "    plt.figure(figsize=(12, 2))\n",
        "    plt.subplot(1, 2, 1)\n",
        "    plt.plot(x, acc, 'b', label='Training acc')\n",
        "    plt.plot(x, val_acc, 'r', label='Validation acc')\n",
        "    plt.title('Training and validation accuracy')\n",
        "    plt.legend()\n",
        "    plt.subplot(1, 2, 2)\n",
        "    plt.plot(x, loss, 'b', label='Training loss')\n",
        "    plt.plot(x, val_loss, 'r', label='Validation loss')\n",
        "    plt.title('Training and validation loss')\n",
        "    plt.legend()\n",
        "\n",
        "%matplotlib inline\n",
        "plot_history(hist3)"
      ],
      "metadata": {
        "colab": {
          "base_uri": "https://localhost:8080/",
          "height": 174
        },
        "id": "1S2XwJdwg1eE",
        "outputId": "58122506-5c26-41a0-ecbd-9ddcf25db9e7"
      },
      "execution_count": null,
      "outputs": [
        {
          "output_type": "display_data",
          "data": {
            "image/png": "[encoded data removed]",
            "text/plain": [
              "<Figure size 864x144 with 2 Axes>"
            ]
          },
          "metadata": {
            "needs_background": "light"
          }
        }
      ]
    },
    {
      "cell_type": "code",
      "source": [
        "embedding_layer = Embedding(vocabulary_size,\n",
        "                            EMBEDDING_DIM,\n",
        "                            weights=[embedding_matrix],\n",
        "                            trainable=True)"
      ],
      "metadata": {
        "id": "cHanr-_TxIB_"
      },
      "execution_count": null,
      "outputs": []
    }
  ],
  "metadata": {
    "accelerator": "GPU",
    "colab": {
      "name": "News_SA_CBOW.ipynb",
      "provenance": [],
      "collapsed_sections": []
    },
    "kernelspec": {
      "display_name": "Python 3",
      "name": "python3"
    },
    "language_info": {
      "name": "python"
    }
  },
  "nbformat": 4,
  "nbformat_minor": 0
}